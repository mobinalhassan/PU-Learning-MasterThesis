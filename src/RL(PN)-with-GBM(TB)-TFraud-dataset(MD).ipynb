{
 "cells": [
  {
   "cell_type": "code",
   "execution_count": 1,
   "metadata": {},
   "outputs": [],
   "source": [
    "import numpy as np\n",
    "from tensorflow.keras.datasets import mnist\n",
    "from tensorflow.keras.models import Sequential\n",
    "from tensorflow.keras.layers import Conv2D, MaxPooling2D, Flatten, Dense\n",
    "from sklearn.model_selection import train_test_split\n",
    "import matplotlib.pyplot as plt\n",
    "import numpy as np\n",
    "from tensorflow.keras.optimizers import Adam\n",
    "# import tensorflow_probability as tfp\n",
    "import tensorflow as tf\n",
    "from uitils import *\n",
    "# from uitils import bin_ploter\n",
    "import pandas as pd\n",
    "from sklearn.metrics import accuracy_score\n",
    "from tensorflow.keras.models import Sequential\n",
    "from tensorflow.keras.layers import Conv2D, MaxPooling2D, Flatten, Dense, Activation, BatchNormalization\n",
    "from sklearn.metrics import roc_auc_score, precision_score, recall_score\n",
    "from sklearn.metrics import precision_recall_curve, auc\n",
    "from sklearn.metrics import roc_auc_score, accuracy_score, precision_recall_curve, auc, recall_score, f1_score, confusion_matrix\n"
   ]
  },
  {
   "cell_type": "code",
   "execution_count": 2,
   "metadata": {},
   "outputs": [
    {
     "name": "stdout",
     "output_type": "stream",
     "text": [
      "Num GPUs Available:  1\n",
      "GPU support: gpu\n"
     ]
    }
   ],
   "source": [
    "import tensorflow as tf\n",
    "print(\"Num GPUs Available: \", len(tf.config.list_physical_devices('GPU')))\n",
    "\n",
    "import lightgbm as lgb\n",
    "print('GPU support:', lgb.LGBMClassifier(device='gpu').get_params()['device'])\n",
    "\n"
   ]
  },
  {
   "cell_type": "markdown",
   "metadata": {},
   "source": [
    "# Data Loading"
   ]
  },
  {
   "cell_type": "code",
   "execution_count": 4,
   "metadata": {},
   "outputs": [
    {
     "name": "stdout",
     "output_type": "stream",
     "text": [
      "Training labels distribution: [540 442]\n",
      "Training labels distribution: [492 492]\n"
     ]
    }
   ],
   "source": [
    "creditcard_path =get_full_path('../datasets/creditcard.csv')\n",
    "# fraudulent=1 \n",
    "# unlabeled=0\n",
    "creditcard_df = pd.read_csv(creditcard_path)\n",
    "# x_train = creditcard_df.drop('Class', axis=1) \n",
    "# y_train = creditcard_df['Class']\n",
    "\n",
    "# Separate the positive and negative instances\n",
    "positives = creditcard_df[creditcard_df['Class'] == 1]\n",
    "negatives = creditcard_df[creditcard_df['Class'] == 0]\n",
    "\n",
    "# Randomly sample 10,000 negative examples\n",
    "neg_sample = negatives.sample(n=600, random_state=42)\n",
    "\n",
    "# Concatenate the positive examples with the sampled negative examples\n",
    "sampled_df = pd.concat([positives, neg_sample])\n",
    "\n",
    "# Shuffle the dataset to mix up the rows\n",
    "sampled_df = sampled_df.sample(frac=1, random_state=42)\n",
    "\n",
    "# Split the features and labels\n",
    "x_train_sampled = sampled_df.drop('Class', axis=1)\n",
    "y_train_sampled = sampled_df['Class']\n",
    "\n",
    "# Split into training and test datasets\n",
    "x_train, x_test, y_train, y_test = train_test_split(x_train_sampled, y_train_sampled, test_size=0.1, random_state=42)\n",
    "\n",
    "positives_test = positives.sample(frac=1, random_state=42)\n",
    "negatives_test = negatives.sample(n=len(positives_test), random_state=42)\n",
    "\n",
    "# Combine positive and negative examples to form the test set\n",
    "test_df = pd.concat([positives_test, negatives_test])\n",
    "\n",
    "# Shuffle the test dataset to mix up the rows\n",
    "test_df = test_df.sample(frac=1, random_state=42)\n",
    "\n",
    "# Split the features and labels for the test set\n",
    "x_test = test_df.drop('Class', axis=1)\n",
    "y_test = test_df['Class']\n",
    "# x_train, x_test, y_train, y_test = train_test_split(x_train, y_train, test_size=0.1, random_state=42)\n",
    "# x_train=x_train[:1000]\n",
    "# print(\"Training labels distribution:\", np.bincount(y_train))\n",
    "print(\"Training labels distribution:\", np.bincount(y_train))\n",
    "print(\"Training labels distribution:\", np.bincount(y_test))"
   ]
  },
  {
   "cell_type": "code",
   "execution_count": 6,
   "metadata": {},
   "outputs": [
    {
     "data": {
      "text/plain": [
       "255545    0\n",
       "77099     1\n",
       "76163     0\n",
       "152223    1\n",
       "42887     1\n",
       "         ..\n",
       "190368    1\n",
       "150644    1\n",
       "271842    0\n",
       "64329     1\n",
       "229712    1\n",
       "Name: Class, Length: 984, dtype: int64"
      ]
     },
     "execution_count": 6,
     "metadata": {},
     "output_type": "execute_result"
    }
   ],
   "source": [
    "y_test"
   ]
  },
  {
   "cell_type": "markdown",
   "metadata": {},
   "source": [
    "# Pre-training"
   ]
  },
  {
   "cell_type": "code",
   "execution_count": 5,
   "metadata": {},
   "outputs": [
    {
     "name": "stdout",
     "output_type": "stream",
     "text": [
      "[LightGBM] [Info] Number of positive: 442, number of negative: 540\n",
      "[LightGBM] [Info] This is the GPU trainer!!\n",
      "[LightGBM] [Info] Total Bins 7650\n",
      "[LightGBM] [Info] Number of data points in the train set: 982, number of used features: 30\n",
      "[LightGBM] [Info] Using GPU Device: Quadro RTX 4000, Vendor: NVIDIA Corporation\n",
      "[LightGBM] [Info] Compiling OpenCL Kernel with 256 bins...\n",
      "[LightGBM] [Info] GPU programs have been built\n",
      "[LightGBM] [Info] Size of histogram bin entry: 8\n",
      "[LightGBM] [Info] 30 dense feature groups (0.03 MB) transferred to GPU in 0.010726 secs. 0 sparse feature groups\n",
      "[LightGBM] [Info] [binary:BoostFromScore]: pavg=0.450102 -> initscore=-0.200259\n",
      "[LightGBM] [Info] Start training from score -0.200259\n",
      "[LightGBM] [Info] Size of histogram bin entry: 8\n",
      "[LightGBM] [Info] 30 dense feature groups (0.02 MB) transferred to GPU in 0.006117 secs. 0 sparse feature groups\n",
      "[LightGBM] [Warning] No further splits with positive gain, best gain: -inf\n",
      "[LightGBM] [Warning] No further splits with positive gain, best gain: -inf\n",
      "[LightGBM] [Warning] No further splits with positive gain, best gain: -inf\n",
      "[LightGBM] [Info] Size of histogram bin entry: 8\n",
      "[LightGBM] [Info] 30 dense feature groups (0.02 MB) transferred to GPU in 0.008482 secs. 0 sparse feature groups\n",
      "[LightGBM] [Info] Size of histogram bin entry: 8\n",
      "[LightGBM] [Info] 30 dense feature groups (0.02 MB) transferred to GPU in 0.027813 secs. 0 sparse feature groups\n",
      "[LightGBM] [Warning] No further splits with positive gain, best gain: -inf\n",
      "Accuracy: 0.9085365853658537\n"
     ]
    }
   ],
   "source": [
    "import lightgbm as lgb\n",
    "\n",
    "train_data = lgb.Dataset(x_train, label=y_train)\n",
    "test_data = lgb.Dataset(x_test, label=y_test)\n",
    "params = {\n",
    "    'boosting_type': 'gbdt',  # Gradient boosting decision tree\n",
    "    'objective': 'binary',    # Binary classification\n",
    "    'metric': 'binary_logloss',  # Evaluation metric\n",
    "    'num_leaves': 31,         # Number of leaves in full tree\n",
    "    'learning_rate': 0.01,    # Learning rate\n",
    "    'feature_fraction': 0.9,  # Fraction of features to be used at each iteration\n",
    "    'bagging_fraction': 0.8,  # Fraction of data to be used for each iteration\n",
    "    'bagging_freq': 5, \n",
    "    'device': 'gpu',       # Frequency for bagging\n",
    "    'verbose': 1              # Verbose output\n",
    "}\n",
    "\n",
    "num_initial_round = 15\n",
    "model_lgb = lgb.train(params, train_data, num_boost_round=num_initial_round, valid_sets=[test_data])\n",
    "model_lgb.save_model('lgb_model_test.weights.h5')\n",
    "\n",
    "\n",
    "y_pred_prob = model_lgb.predict(x_test)\n",
    "y_pred = np.where(y_pred_prob > 0.5, 1, 0)\n",
    "accuracy = accuracy_score(y_test, y_pred)\n",
    "print(\"Accuracy:\", accuracy)"
   ]
  },
  {
   "cell_type": "markdown",
   "metadata": {},
   "source": [
    "### Probablistic outcome of classifer to pre-train policy network\n",
    " "
   ]
  },
  {
   "cell_type": "code",
   "execution_count": 6,
   "metadata": {},
   "outputs": [
    {
     "name": "stdout",
     "output_type": "stream",
     "text": [
      "Classifer predicted labels distribution: [379 603]\n"
     ]
    },
    {
     "data": {
      "image/png": "[encoded data removed]",
      "text/plain": [
       "<Figure size 640x480 with 1 Axes>"
      ]
     },
     "metadata": {},
     "output_type": "display_data"
    }
   ],
   "source": [
    "y_pred = model_lgb.predict(x_train, num_iteration=model_lgb.best_iteration)\n",
    "threshold = min(y_pred[y_train == 1])\n",
    "lgb_predicted_labels = np.array([1 if pred >= threshold else 0 for pred in y_pred])\n",
    "print(\"Classifer predicted labels distribution:\", np.bincount(lgb_predicted_labels))\n",
    "\n",
    "bin_ploter(predicted_labels=lgb_predicted_labels)"
   ]
  },
  {
   "cell_type": "code",
   "execution_count": 15,
   "metadata": {},
   "outputs": [
    {
     "name": "stdout",
     "output_type": "stream",
     "text": [
      "Epoch 1/60\n",
      "157/157 [==============================] - 4s 25ms/step - loss: 340.9953 - accuracy: 0.5478 - val_loss: 0.7070 - val_accuracy: 0.3807\n",
      "Epoch 2/60\n",
      "157/157 [==============================] - 4s 25ms/step - loss: 0.6820 - accuracy: 0.5732 - val_loss: 0.6609 - val_accuracy: 0.6244\n",
      "Epoch 3/60\n",
      "157/157 [==============================] - 4s 24ms/step - loss: 0.6686 - accuracy: 0.6115 - val_loss: 0.6595 - val_accuracy: 0.6244\n",
      "Epoch 4/60\n",
      "157/157 [==============================] - 4s 24ms/step - loss: 0.6682 - accuracy: 0.6115 - val_loss: 0.6599 - val_accuracy: 0.6244\n",
      "Epoch 5/60\n",
      "157/157 [==============================] - 4s 24ms/step - loss: 0.6690 - accuracy: 0.6115 - val_loss: 0.6597 - val_accuracy: 0.6244\n",
      "Epoch 6/60\n",
      "157/157 [==============================] - 4s 25ms/step - loss: 0.6683 - accuracy: 0.6115 - val_loss: 0.6595 - val_accuracy: 0.6244\n",
      "Epoch 7/60\n",
      "157/157 [==============================] - 4s 25ms/step - loss: 0.6678 - accuracy: 0.6115 - val_loss: 0.6607 - val_accuracy: 0.6244\n",
      "Epoch 8/60\n",
      "157/157 [==============================] - 4s 25ms/step - loss: 0.6674 - accuracy: 0.6115 - val_loss: 0.6595 - val_accuracy: 0.6244\n",
      "Epoch 9/60\n",
      "157/157 [==============================] - 4s 25ms/step - loss: 0.6680 - accuracy: 0.6115 - val_loss: 0.6598 - val_accuracy: 0.6244\n",
      "Epoch 10/60\n",
      "157/157 [==============================] - 3s 21ms/step - loss: 0.6685 - accuracy: 0.6115 - val_loss: 0.6595 - val_accuracy: 0.6244\n",
      "Epoch 11/60\n",
      "157/157 [==============================] - 3s 19ms/step - loss: 0.6683 - accuracy: 0.6115 - val_loss: 0.6597 - val_accuracy: 0.6244\n",
      "Epoch 12/60\n",
      "157/157 [==============================] - 3s 19ms/step - loss: 0.6686 - accuracy: 0.6115 - val_loss: 0.6606 - val_accuracy: 0.6244\n",
      "Epoch 13/60\n",
      "157/157 [==============================] - 3s 20ms/step - loss: 0.6696 - accuracy: 0.6115 - val_loss: 0.6604 - val_accuracy: 0.6244\n",
      "Epoch 14/60\n",
      "157/157 [==============================] - 3s 19ms/step - loss: 0.6675 - accuracy: 0.6115 - val_loss: 0.6596 - val_accuracy: 0.6244\n",
      "Epoch 15/60\n",
      "157/157 [==============================] - 3s 19ms/step - loss: 0.6677 - accuracy: 0.6115 - val_loss: 0.6608 - val_accuracy: 0.6244\n",
      "Epoch 16/60\n",
      "157/157 [==============================] - 3s 20ms/step - loss: 0.6682 - accuracy: 0.6115 - val_loss: 0.6595 - val_accuracy: 0.6244\n",
      "Epoch 17/60\n",
      "157/157 [==============================] - 3s 20ms/step - loss: 0.6676 - accuracy: 0.6115 - val_loss: 0.6602 - val_accuracy: 0.6244\n",
      "Epoch 18/60\n",
      "157/157 [==============================] - 3s 18ms/step - loss: 0.6678 - accuracy: 0.6115 - val_loss: 0.6607 - val_accuracy: 0.6244\n",
      "Epoch 19/60\n",
      "157/157 [==============================] - 3s 19ms/step - loss: 0.6680 - accuracy: 0.6115 - val_loss: 0.6603 - val_accuracy: 0.6244\n",
      "Epoch 20/60\n",
      "157/157 [==============================] - 3s 21ms/step - loss: 0.6679 - accuracy: 0.6115 - val_loss: 0.6597 - val_accuracy: 0.6244\n",
      "Epoch 21/60\n",
      "157/157 [==============================] - 3s 21ms/step - loss: 0.6672 - accuracy: 0.6115 - val_loss: 0.6595 - val_accuracy: 0.6244\n",
      "Epoch 22/60\n",
      "157/157 [==============================] - 3s 20ms/step - loss: 0.6677 - accuracy: 0.6115 - val_loss: 0.6597 - val_accuracy: 0.6244\n",
      "Epoch 23/60\n",
      "157/157 [==============================] - 3s 17ms/step - loss: 0.6680 - accuracy: 0.6115 - val_loss: 0.6601 - val_accuracy: 0.6244\n",
      "Epoch 24/60\n",
      "157/157 [==============================] - 3s 17ms/step - loss: 0.6685 - accuracy: 0.6115 - val_loss: 0.6598 - val_accuracy: 0.6244\n",
      "Epoch 25/60\n",
      "157/157 [==============================] - 3s 18ms/step - loss: 0.6675 - accuracy: 0.6115 - val_loss: 0.6597 - val_accuracy: 0.6244\n",
      "Epoch 26/60\n",
      "157/157 [==============================] - 3s 20ms/step - loss: 0.6672 - accuracy: 0.6115 - val_loss: 0.6597 - val_accuracy: 0.6244\n",
      "Epoch 27/60\n",
      "157/157 [==============================] - 3s 19ms/step - loss: 0.6676 - accuracy: 0.6115 - val_loss: 0.6596 - val_accuracy: 0.6244\n",
      "Epoch 28/60\n",
      "157/157 [==============================] - 3s 19ms/step - loss: 0.6675 - accuracy: 0.6115 - val_loss: 0.6597 - val_accuracy: 0.6244\n",
      "Epoch 29/60\n",
      "157/157 [==============================] - 3s 18ms/step - loss: 0.6677 - accuracy: 0.6115 - val_loss: 0.6595 - val_accuracy: 0.6244\n",
      "Epoch 30/60\n",
      "157/157 [==============================] - 3s 17ms/step - loss: 0.6678 - accuracy: 0.6115 - val_loss: 0.6595 - val_accuracy: 0.6244\n",
      "Epoch 31/60\n",
      "157/157 [==============================] - 3s 18ms/step - loss: 0.6675 - accuracy: 0.6115 - val_loss: 0.6597 - val_accuracy: 0.6244\n",
      "Epoch 32/60\n",
      "157/157 [==============================] - 3s 19ms/step - loss: 0.6675 - accuracy: 0.6115 - val_loss: 0.6596 - val_accuracy: 0.6244\n",
      "Epoch 33/60\n",
      "157/157 [==============================] - 3s 20ms/step - loss: 0.6679 - accuracy: 0.6115 - val_loss: 0.6598 - val_accuracy: 0.6244\n",
      "Epoch 34/60\n",
      "157/157 [==============================] - 3s 19ms/step - loss: 0.6677 - accuracy: 0.6115 - val_loss: 0.6600 - val_accuracy: 0.6244\n",
      "Epoch 35/60\n",
      "157/157 [==============================] - 3s 20ms/step - loss: 0.6674 - accuracy: 0.6115 - val_loss: 0.6600 - val_accuracy: 0.6244\n",
      "Epoch 36/60\n",
      "157/157 [==============================] - 3s 20ms/step - loss: 0.6675 - accuracy: 0.6115 - val_loss: 0.6606 - val_accuracy: 0.6244\n",
      "Epoch 37/60\n",
      "157/157 [==============================] - 3s 21ms/step - loss: 0.6678 - accuracy: 0.6115 - val_loss: 0.6603 - val_accuracy: 0.6244\n",
      "Epoch 38/60\n",
      "157/157 [==============================] - 3s 19ms/step - loss: 0.6675 - accuracy: 0.6115 - val_loss: 0.6606 - val_accuracy: 0.6244\n",
      "Epoch 39/60\n",
      "157/157 [==============================] - 3s 19ms/step - loss: 0.6679 - accuracy: 0.6115 - val_loss: 0.6600 - val_accuracy: 0.6244\n",
      "Epoch 40/60\n",
      "157/157 [==============================] - 3s 21ms/step - loss: 0.6676 - accuracy: 0.6115 - val_loss: 0.6602 - val_accuracy: 0.6244\n",
      "Epoch 41/60\n",
      "157/157 [==============================] - 3s 20ms/step - loss: 0.6679 - accuracy: 0.6115 - val_loss: 0.6604 - val_accuracy: 0.6244\n",
      "Epoch 42/60\n",
      "157/157 [==============================] - 3s 19ms/step - loss: 0.6679 - accuracy: 0.6115 - val_loss: 0.6603 - val_accuracy: 0.6244\n",
      "Epoch 43/60\n",
      "157/157 [==============================] - 3s 19ms/step - loss: 0.6677 - accuracy: 0.6115 - val_loss: 0.6596 - val_accuracy: 0.6244\n",
      "Epoch 44/60\n",
      "157/157 [==============================] - 3s 19ms/step - loss: 0.6675 - accuracy: 0.6115 - val_loss: 0.6600 - val_accuracy: 0.6244\n",
      "Epoch 45/60\n",
      "157/157 [==============================] - 3s 20ms/step - loss: 0.6674 - accuracy: 0.6115 - val_loss: 0.6602 - val_accuracy: 0.6244\n",
      "Epoch 46/60\n",
      "157/157 [==============================] - 3s 19ms/step - loss: 0.6676 - accuracy: 0.6115 - val_loss: 0.6601 - val_accuracy: 0.6244\n",
      "Epoch 47/60\n",
      "157/157 [==============================] - 3s 17ms/step - loss: 0.6675 - accuracy: 0.6115 - val_loss: 0.6599 - val_accuracy: 0.6244\n",
      "Epoch 48/60\n",
      "157/157 [==============================] - 3s 18ms/step - loss: 0.6678 - accuracy: 0.6115 - val_loss: 0.6595 - val_accuracy: 0.6244\n",
      "Epoch 49/60\n",
      "157/157 [==============================] - 3s 18ms/step - loss: 0.6674 - accuracy: 0.6115 - val_loss: 0.6606 - val_accuracy: 0.6244\n",
      "Epoch 50/60\n",
      "157/157 [==============================] - 3s 17ms/step - loss: 0.6677 - accuracy: 0.6115 - val_loss: 0.6597 - val_accuracy: 0.6244\n",
      "Epoch 51/60\n",
      "157/157 [==============================] - 3s 17ms/step - loss: 0.6674 - accuracy: 0.6115 - val_loss: 0.6597 - val_accuracy: 0.6244\n",
      "Epoch 52/60\n",
      "157/157 [==============================] - 3s 17ms/step - loss: 0.6674 - accuracy: 0.6115 - val_loss: 0.6607 - val_accuracy: 0.6244\n",
      "Epoch 53/60\n",
      "157/157 [==============================] - 3s 18ms/step - loss: 0.6675 - accuracy: 0.6115 - val_loss: 0.6599 - val_accuracy: 0.6244\n",
      "Epoch 54/60\n",
      "157/157 [==============================] - 3s 21ms/step - loss: 0.6675 - accuracy: 0.6115 - val_loss: 0.6597 - val_accuracy: 0.6244\n",
      "Epoch 55/60\n",
      "157/157 [==============================] - 3s 18ms/step - loss: 0.6675 - accuracy: 0.6115 - val_loss: 0.6598 - val_accuracy: 0.6244\n",
      "Epoch 56/60\n",
      "157/157 [==============================] - 3s 20ms/step - loss: 0.6673 - accuracy: 0.6115 - val_loss: 0.6599 - val_accuracy: 0.6244\n",
      "Epoch 57/60\n",
      "157/157 [==============================] - 3s 18ms/step - loss: 0.6675 - accuracy: 0.6115 - val_loss: 0.6595 - val_accuracy: 0.6244\n",
      "Epoch 58/60\n",
      "157/157 [==============================] - 3s 16ms/step - loss: 0.6676 - accuracy: 0.6115 - val_loss: 0.6598 - val_accuracy: 0.6244\n",
      "Epoch 59/60\n",
      "157/157 [==============================] - 3s 17ms/step - loss: 0.6678 - accuracy: 0.6115 - val_loss: 0.6609 - val_accuracy: 0.6244\n",
      "Epoch 60/60\n",
      "157/157 [==============================] - 3s 18ms/step - loss: 0.6680 - accuracy: 0.6115 - val_loss: 0.6602 - val_accuracy: 0.6244\n"
     ]
    }
   ],
   "source": [
    "# Policy-Network Model\n",
    "\n",
    "class PolicyGradientNetwork:\n",
    "    def __init__(self):\n",
    "        self.model = self._create_model()\n",
    "    \n",
    "    def _create_model(self):\n",
    "        model = Sequential([\n",
    "            Dense(64, input_shape=(input_dimension,)),  # Adjust `input_dimension` to match your feature count\n",
    "            Activation('relu'),\n",
    "            Dense(128),\n",
    "            Activation('relu'),\n",
    "            Dense(64),\n",
    "            Activation('relu'),\n",
    "            Dense(32),\n",
    "            Activation('relu'),\n",
    "            Dense(16),\n",
    "            Activation('relu'),\n",
    "            Dense(1),  # Output layer for binary classification\n",
    "            Activation('sigmoid')\n",
    "        ])\n",
    "        return model\n",
    "    \n",
    "    def get_model(self):\n",
    "        return self.model\n",
    "    \n",
    "input_dimension = x_train.shape[1]\n",
    "policy_network = PolicyGradientNetwork()\n",
    "pn_model = policy_network.get_model()\n",
    "\n",
    "pn_model.compile(optimizer=Adam(learning_rate=0.01), loss='binary_crossentropy', metrics=['accuracy'])\n",
    "\n",
    "# Fit the model with one-hot encoded labels\n",
    "history_2 = pn_model.fit(x_train.to_numpy(), lgb_predicted_labels, epochs=15, batch_size=5, validation_split=0.2)\n",
    "pn_model.save_weights('pn_mlp_model_.weights.h5')\n",
    "# pn_model.load_weights('pn_mlp_model_.weights.h5')"
   ]
  },
  {
   "cell_type": "markdown",
   "metadata": {},
   "source": [
    "\n",
    "\n"
   ]
  },
  {
   "cell_type": "code",
   "execution_count": 16,
   "metadata": {},
   "outputs": [
    {
     "name": "stdout",
     "output_type": "stream",
     "text": [
      "31/31 [==============================] - 0s 6ms/step\n",
      "Classifer predicted labels distribution: [  0 982]\n"
     ]
    },
    {
     "data": {
      "image/png": "[encoded data removed]",
      "text/plain": [
       "<Figure size 640x480 with 1 Axes>"
      ]
     },
     "metadata": {},
     "output_type": "display_data"
    }
   ],
   "source": [
    "probabilities = pn_model.predict(x_train.to_numpy())\n",
    "threshold = min(probabilities[y_train == 1])\n",
    "\n",
    "# Convert probabilities to binary labels based on the threshold\n",
    "predicted_labels = (probabilities >= threshold).astype(int)\n",
    "np_predicted_labels = predicted_labels.flatten().astype(int)\n",
    "\n",
    "print(\"Classifer predicted labels distribution:\", np.bincount(np_predicted_labels))\n",
    "bin_ploter(predicted_labels=np_predicted_labels)"
   ]
  },
  {
   "cell_type": "markdown",
   "metadata": {},
   "source": [
    "## Interactive learning"
   ]
  },
  {
   "cell_type": "code",
   "execution_count": 17,
   "metadata": {},
   "outputs": [],
   "source": [
    "import tensorflow as tf\n",
    "import numpy as np\n",
    "\n",
    "class Agent:\n",
    "    def __init__(self, model, target_model, alpha=0.00001, gamma=0.99):\n",
    "        self.gamma = gamma  # Discount factor\n",
    "        self.lr = alpha  # Learning rate\n",
    "        self.model = model  # Policy model\n",
    "        self.target_model = target_model # target policy model\n",
    "        self.state_memory = []\n",
    "        self.action_memory = []\n",
    "        self.reward_memory = []\n",
    "\n",
    "    \n",
    "    def choose_action(self, states, s, threshold=0.5):\n",
    "        # Convert states to float32 tensor within the function\n",
    "        states = tf.convert_to_tensor(states, dtype=tf.float32)\n",
    "        probabilities = self.target_model(states) \n",
    "        \n",
    "        inferred_labels = tf.cast(probabilities > threshold, tf.int32)       \n",
    "        s = tf.reshape(s, tf.shape(inferred_labels))  # Ensuring s is the same shape as inferred_labels\n",
    "        actions = tf.where(s == 1, 1, inferred_labels)\n",
    "        actions = tf.squeeze(actions)  # This should correctly squeeze actions to shape (128,)\n",
    "        return actions.numpy(), probabilities.numpy()\n",
    "\n",
    "\n",
    "        # actions = tf.cast(tf.random.uniform(tf.shape(probabilities)) < probabilities, tf.int32)\n",
    "        # return actions.numpy(), probabilities.numpy()\n",
    "\n",
    "\n",
    "    def store_transition(self, states, actions, rewards):\n",
    "        self.state_memory.extend(states)\n",
    "        self.action_memory.extend(actions)\n",
    "        self.reward_memory.extend(rewards)\n",
    "\n",
    "    def learn(self):\n",
    "        actions = np.array(self.action_memory)\n",
    "        rewards = np.array(self.reward_memory)\n",
    "        states = np.array(self.state_memory)\n",
    "\n",
    "        # Calculate discounted rewards\n",
    "        G = np.zeros_like(rewards)\n",
    "        for t in range(len(rewards)):\n",
    "            G_sum = 0\n",
    "            discount = 1\n",
    "            for k in range(t, len(rewards)):\n",
    "                G_sum += rewards[k] * discount\n",
    "                discount *= self.gamma\n",
    "            G[t] = G_sum\n",
    "\n",
    "        # Updating policy\n",
    "        with tf.GradientTape() as tape:\n",
    "            loss = 0\n",
    "            for idx, (g, state) in enumerate(zip(G, states)):\n",
    "                state = tf.convert_to_tensor([state], dtype=tf.float32)\n",
    "                probs = self.model(state, training=True)\n",
    "                action_probs = tf.where(actions[idx] == 1, probs, 1 - probs)\n",
    "                log_prob = tf.math.log(action_probs)\n",
    "                loss += -g * tf.reduce_sum(log_prob)\n",
    "\n",
    "        gradients = tape.gradient(loss, self.model.trainable_variables)\n",
    "        self.model.optimizer.apply_gradients(zip(gradients, self.model.trainable_variables))\n",
    "\n",
    "        # Clear memory\n",
    "        self.state_memory = []\n",
    "        self.action_memory = []\n",
    "        self.reward_memory = []\n"
   ]
  },
  {
   "cell_type": "code",
   "execution_count": 18,
   "metadata": {},
   "outputs": [],
   "source": [
    "# Clone policy model for stable target policy\n",
    "target_policy_model = tf.keras.models.clone_model(pn_model)\n",
    "target_policy_model.compile(optimizer=Adam(learning_rate=0.00001), loss='binary_crossentropy', metrics=['accuracy'])\n"
   ]
  },
  {
   "cell_type": "code",
   "execution_count": 19,
   "metadata": {},
   "outputs": [],
   "source": [
    "history = {\n",
    "    'epoch_loss': [],\n",
    "    'epoch_accuracy': [],\n",
    "    'batch_loss': [],\n",
    "    'batch_accuracy': [],\n",
    "    'predictions': [],\n",
    "    'rewards': [],\n",
    "    'thresholds': [],\n",
    "    'ROC_AUC': [],\n",
    "    'accuracy':[],\n",
    "    'PR_AUC':[],\n",
    "    'recall':[],\n",
    "    'f1':[]\n",
    "}\n",
    "\n",
    "agent = Agent(pn_model,target_model=target_policy_model, alpha=0.00001, gamma=0.99)\n",
    "# Example parameters\n",
    "n_epochs = 300\n",
    "n_epochs = 10\n",
    "batch_size = 128 # You can adjust the batch size as needed\n",
    "\n",
    "def shuffle_data(x_train, y_train, s):\n",
    "    indices = np.arange(len(x_train))\n",
    "    np.random.shuffle(indices)\n",
    "    return x_train[indices], y_train[indices], s[indices]\n",
    "\n",
    "def create_mini_batches(x_train, y_train, s, batch_size):\n",
    "    for start_idx in range(0, len(x_train) - batch_size + 1, batch_size):\n",
    "        excerpt = slice(start_idx, start_idx + batch_size)\n",
    "        yield x_train[excerpt], y_train[excerpt], s[excerpt]\n",
    "\n",
    "def calculate_threshold(clf_probabilities, y_batch):\n",
    "    # Identify indices of positive examples\n",
    "    positive_indices = (y_batch == 1)\n",
    "    \n",
    "    # Calculate threshmin from positive examples\n",
    "    if np.any(positive_indices):\n",
    "        threshmin = np.min(clf_probabilities[positive_indices])\n",
    "    else:\n",
    "        threshmin = 0  # Default value if no positive examples are present\n",
    "\n",
    "    # Identify U0 - samples with predictions >= threshmin\n",
    "    U0_indices = (clf_probabilities >= threshmin)\n",
    "    \n",
    "    # Calculate the final threshold using Equation 5\n",
    "    if np.any(U0_indices):\n",
    "        threshold = np.mean(clf_probabilities[U0_indices])\n",
    "    else:\n",
    "        threshold = threshmin  # Use threshmin if no samples meet the U0 criteria\n",
    "\n",
    "    return threshold\n",
    "\n",
    "def calculate_rewards(clf_probabilities, y_batch, threshold):\n",
    "    # Reward calculation needs to consider whether predictions meet a certain threshold\n",
    "    # Positive examples above threshold or negative examples below threshold get positive rewards\n",
    "    rewards = []\n",
    "    for prob, actual in zip(clf_probabilities.flatten(), y_batch):\n",
    "        if actual == 1 or (actual == 0 and prob >= threshold):\n",
    "            reward = prob  # Reward is the probability itself if conditions are met\n",
    "        else:\n",
    "            reward = prob -1  # Otherwise, reward is the complement of the probability\n",
    "        rewards.append(reward)\n",
    "    return rewards"
   ]
  },
  {
   "cell_type": "code",
   "execution_count": 11,
   "metadata": {},
   "outputs": [],
   "source": [
    "# num_initial_round = 5\n",
    "# model_lgb = lgb.train(params, train_data, num_boost_round=num_initial_round, valid_sets=[test_data])\n",
    "# model_lgb.save_model('lgb_model.we7ights.h5')\n",
    "\n",
    "\n",
    "# y_pred = model_lgb.predict(x_train, num_iteration=model_lgb.best_iteration)\n",
    "# threshold = min(y_pred[y_train == 1])\n",
    "# lgb_predicted_labels = np.array([1 if pred >= threshold else 0 for pred in y_pred])\n",
    "# print(\"Classifer predicted labels distribution:\", np.bincount(lgb_predicted_labels))"
   ]
  },
  {
   "cell_type": "code",
   "execution_count": 20,
   "metadata": {},
   "outputs": [
    {
     "name": "stdout",
     "output_type": "stream",
     "text": [
      "Epoch 1/300\n",
      "[LightGBM] [Info] Number of positive: 442, number of negative: 540\n",
      "[LightGBM] [Info] This is the GPU trainer!!\n",
      "[LightGBM] [Info] Total Bins 7650\n",
      "[LightGBM] [Info] Number of data points in the train set: 982, number of used features: 30\n"
     ]
    },
    {
     "name": "stderr",
     "output_type": "stream",
     "text": [
      "c:\\Users\\FH-Deg\\.conda\\envs\\tf_c_gpu\\lib\\site-packages\\lightgbm\\basic.py:1192: UserWarning: Converting data to scipy sparse matrix.\n",
      "  _log_warning('Converting data to scipy sparse matrix.')\n"
     ]
    },
    {
     "name": "stdout",
     "output_type": "stream",
     "text": [
      "[LightGBM] [Info] Using GPU Device: Quadro RTX 4000, Vendor: NVIDIA Corporation\n",
      "[LightGBM] [Info] Compiling OpenCL Kernel with 256 bins...\n",
      "[LightGBM] [Info] GPU programs have been built\n",
      "[LightGBM] [Info] Size of histogram bin entry: 8\n",
      "[LightGBM] [Info] 30 dense feature groups (0.03 MB) transferred to GPU in 0.006108 secs. 0 sparse feature groups\n",
      "[LightGBM] [Info] Size of histogram bin entry: 8\n",
      "[LightGBM] [Info] 30 dense feature groups (0.02 MB) transferred to GPU in 0.004387 secs. 0 sparse feature groups\n",
      "threshold: 0.4661643684208331\n",
      "AUC-ROC: 0.9895998578888228\n",
      "Accuracy: 0.9390243902439024\n",
      "Precision: 0.9910418189920904\n",
      "Confusion Matrix:\n",
      "[[483   9]\n",
      " [ 51 441]]\n",
      "Recall: 0.8963414634146342\n",
      "F1 Score: 0.9363057324840764\n",
      "Updating target policy...\n",
      "Epoch 2/300\n",
      "[LightGBM] [Warning] Contains only one class\n",
      "[LightGBM] [Info] Number of positive: 982, number of negative: 0\n",
      "[LightGBM] [Info] This is the GPU trainer!!\n",
      "[LightGBM] [Info] Total Bins 7650\n",
      "[LightGBM] [Info] Number of data points in the train set: 982, number of used features: 30\n"
     ]
    },
    {
     "name": "stderr",
     "output_type": "stream",
     "text": [
      "c:\\Users\\FH-Deg\\.conda\\envs\\tf_c_gpu\\lib\\site-packages\\lightgbm\\basic.py:1192: UserWarning: Converting data to scipy sparse matrix.\n",
      "  _log_warning('Converting data to scipy sparse matrix.')\n"
     ]
    },
    {
     "name": "stdout",
     "output_type": "stream",
     "text": [
      "[LightGBM] [Info] Using GPU Device: Quadro RTX 4000, Vendor: NVIDIA Corporation\n",
      "[LightGBM] [Info] Compiling OpenCL Kernel with 256 bins...\n",
      "[LightGBM] [Info] GPU programs have been built\n",
      "[LightGBM] [Info] Size of histogram bin entry: 8\n",
      "[LightGBM] [Info] 30 dense feature groups (0.03 MB) transferred to GPU in 0.005046 secs. 0 sparse feature groups\n",
      "[LightGBM] [Info] Size of histogram bin entry: 8\n",
      "[LightGBM] [Info] 30 dense feature groups (0.02 MB) transferred to GPU in 0.004770 secs. 0 sparse feature groups\n",
      "[LightGBM] [Warning] Stopped training because there are no more leaves that meet the split requirements\n",
      "threshold: 0.4661643684208331\n",
      "AUC-ROC: 0.9895998578888228\n",
      "Accuracy: 0.9390243902439024\n",
      "Precision: 0.9910418189920904\n",
      "Confusion Matrix:\n",
      "[[483   9]\n",
      " [ 51 441]]\n",
      "Recall: 0.8963414634146342\n",
      "F1 Score: 0.9363057324840764\n",
      "Epoch 3/300\n",
      "[LightGBM] [Warning] Contains only one class\n",
      "[LightGBM] [Info] Number of positive: 982, number of negative: 0\n",
      "[LightGBM] [Info] This is the GPU trainer!!\n",
      "[LightGBM] [Info] Total Bins 7650\n",
      "[LightGBM] [Info] Number of data points in the train set: 982, number of used features: 30\n"
     ]
    },
    {
     "name": "stderr",
     "output_type": "stream",
     "text": [
      "c:\\Users\\FH-Deg\\.conda\\envs\\tf_c_gpu\\lib\\site-packages\\lightgbm\\basic.py:1192: UserWarning: Converting data to scipy sparse matrix.\n",
      "  _log_warning('Converting data to scipy sparse matrix.')\n"
     ]
    },
    {
     "name": "stdout",
     "output_type": "stream",
     "text": [
      "[LightGBM] [Info] Using GPU Device: Quadro RTX 4000, Vendor: NVIDIA Corporation\n",
      "[LightGBM] [Info] Compiling OpenCL Kernel with 256 bins...\n",
      "[LightGBM] [Info] GPU programs have been built\n",
      "[LightGBM] [Info] Size of histogram bin entry: 8\n",
      "[LightGBM] [Info] 30 dense feature groups (0.03 MB) transferred to GPU in 0.005410 secs. 0 sparse feature groups\n",
      "[LightGBM] [Info] Size of histogram bin entry: 8\n",
      "[LightGBM] [Info] 30 dense feature groups (0.02 MB) transferred to GPU in 0.004607 secs. 0 sparse feature groups\n",
      "[LightGBM] [Warning] Stopped training because there are no more leaves that meet the split requirements\n",
      "threshold: 0.4661643684208331\n",
      "AUC-ROC: 0.9895998578888228\n",
      "Accuracy: 0.9390243902439024\n",
      "Precision: 0.9910418189920904\n",
      "Confusion Matrix:\n",
      "[[483   9]\n",
      " [ 51 441]]\n",
      "Recall: 0.8963414634146342\n",
      "F1 Score: 0.9363057324840764\n",
      "Epoch 4/300\n",
      "[LightGBM] [Warning] Contains only one class\n",
      "[LightGBM] [Info] Number of positive: 982, number of negative: 0\n",
      "[LightGBM] [Info] This is the GPU trainer!!\n",
      "[LightGBM] [Info] Total Bins 7650\n",
      "[LightGBM] [Info] Number of data points in the train set: 982, number of used features: 30\n"
     ]
    },
    {
     "name": "stderr",
     "output_type": "stream",
     "text": [
      "c:\\Users\\FH-Deg\\.conda\\envs\\tf_c_gpu\\lib\\site-packages\\lightgbm\\basic.py:1192: UserWarning: Converting data to scipy sparse matrix.\n",
      "  _log_warning('Converting data to scipy sparse matrix.')\n"
     ]
    },
    {
     "name": "stdout",
     "output_type": "stream",
     "text": [
      "[LightGBM] [Info] Using GPU Device: Quadro RTX 4000, Vendor: NVIDIA Corporation\n",
      "[LightGBM] [Info] Compiling OpenCL Kernel with 256 bins...\n",
      "[LightGBM] [Info] GPU programs have been built\n",
      "[LightGBM] [Info] Size of histogram bin entry: 8\n",
      "[LightGBM] [Info] 30 dense feature groups (0.03 MB) transferred to GPU in 0.004714 secs. 0 sparse feature groups\n",
      "[LightGBM] [Info] Size of histogram bin entry: 8\n",
      "[LightGBM] [Info] 30 dense feature groups (0.02 MB) transferred to GPU in 0.004346 secs. 0 sparse feature groups\n",
      "[LightGBM] [Warning] Stopped training because there are no more leaves that meet the split requirements\n",
      "threshold: 0.4661643684208331\n",
      "AUC-ROC: 0.9895998578888228\n",
      "Accuracy: 0.9390243902439024\n",
      "Precision: 0.9910418189920904\n",
      "Confusion Matrix:\n",
      "[[483   9]\n",
      " [ 51 441]]\n",
      "Recall: 0.8963414634146342\n",
      "F1 Score: 0.9363057324840764\n",
      "Updating target policy...\n",
      "Epoch 5/300\n",
      "[LightGBM] [Warning] Contains only one class\n",
      "[LightGBM] [Info] Number of positive: 982, number of negative: 0\n",
      "[LightGBM] [Info] This is the GPU trainer!!\n",
      "[LightGBM] [Info] Total Bins 7650\n",
      "[LightGBM] [Info] Number of data points in the train set: 982, number of used features: 30\n"
     ]
    },
    {
     "name": "stderr",
     "output_type": "stream",
     "text": [
      "c:\\Users\\FH-Deg\\.conda\\envs\\tf_c_gpu\\lib\\site-packages\\lightgbm\\basic.py:1192: UserWarning: Converting data to scipy sparse matrix.\n",
      "  _log_warning('Converting data to scipy sparse matrix.')\n"
     ]
    },
    {
     "name": "stdout",
     "output_type": "stream",
     "text": [
      "[LightGBM] [Info] Using GPU Device: Quadro RTX 4000, Vendor: NVIDIA Corporation\n",
      "[LightGBM] [Info] Compiling OpenCL Kernel with 256 bins...\n",
      "[LightGBM] [Info] GPU programs have been built\n",
      "[LightGBM] [Info] Size of histogram bin entry: 8\n",
      "[LightGBM] [Info] 30 dense feature groups (0.03 MB) transferred to GPU in 0.004403 secs. 0 sparse feature groups\n",
      "[LightGBM] [Info] Size of histogram bin entry: 8\n",
      "[LightGBM] [Info] 30 dense feature groups (0.02 MB) transferred to GPU in 0.004667 secs. 0 sparse feature groups\n",
      "[LightGBM] [Warning] Stopped training because there are no more leaves that meet the split requirements\n",
      "threshold: 0.4661643684208331\n",
      "AUC-ROC: 0.9895998578888228\n",
      "Accuracy: 0.9390243902439024\n",
      "Precision: 0.9910418189920904\n",
      "Confusion Matrix:\n",
      "[[483   9]\n",
      " [ 51 441]]\n",
      "Recall: 0.8963414634146342\n",
      "F1 Score: 0.9363057324840764\n",
      "Epoch 6/300\n",
      "[LightGBM] [Warning] Contains only one class\n",
      "[LightGBM] [Info] Number of positive: 982, number of negative: 0\n",
      "[LightGBM] [Info] This is the GPU trainer!!\n",
      "[LightGBM] [Info] Total Bins 7650\n",
      "[LightGBM] [Info] Number of data points in the train set: 982, number of used features: 30\n"
     ]
    },
    {
     "name": "stderr",
     "output_type": "stream",
     "text": [
      "c:\\Users\\FH-Deg\\.conda\\envs\\tf_c_gpu\\lib\\site-packages\\lightgbm\\basic.py:1192: UserWarning: Converting data to scipy sparse matrix.\n",
      "  _log_warning('Converting data to scipy sparse matrix.')\n"
     ]
    },
    {
     "name": "stdout",
     "output_type": "stream",
     "text": [
      "[LightGBM] [Info] Using GPU Device: Quadro RTX 4000, Vendor: NVIDIA Corporation\n",
      "[LightGBM] [Info] Compiling OpenCL Kernel with 256 bins...\n",
      "[LightGBM] [Info] GPU programs have been built\n",
      "[LightGBM] [Info] Size of histogram bin entry: 8\n",
      "[LightGBM] [Info] 30 dense feature groups (0.03 MB) transferred to GPU in 0.004809 secs. 0 sparse feature groups\n",
      "[LightGBM] [Info] Size of histogram bin entry: 8\n",
      "[LightGBM] [Info] 30 dense feature groups (0.02 MB) transferred to GPU in 0.004518 secs. 0 sparse feature groups\n",
      "[LightGBM] [Warning] Stopped training because there are no more leaves that meet the split requirements\n",
      "threshold: 0.4661643684208331\n",
      "AUC-ROC: 0.9895998578888228\n",
      "Accuracy: 0.9390243902439024\n",
      "Precision: 0.9910418189920904\n",
      "Confusion Matrix:\n",
      "[[483   9]\n",
      " [ 51 441]]\n",
      "Recall: 0.8963414634146342\n",
      "F1 Score: 0.9363057324840764\n",
      "Epoch 7/300\n",
      "[LightGBM] [Warning] Contains only one class\n",
      "[LightGBM] [Info] Number of positive: 982, number of negative: 0\n",
      "[LightGBM] [Info] This is the GPU trainer!!\n",
      "[LightGBM] [Info] Total Bins 7650\n",
      "[LightGBM] [Info] Number of data points in the train set: 982, number of used features: 30\n"
     ]
    },
    {
     "name": "stderr",
     "output_type": "stream",
     "text": [
      "c:\\Users\\FH-Deg\\.conda\\envs\\tf_c_gpu\\lib\\site-packages\\lightgbm\\basic.py:1192: UserWarning: Converting data to scipy sparse matrix.\n",
      "  _log_warning('Converting data to scipy sparse matrix.')\n"
     ]
    },
    {
     "name": "stdout",
     "output_type": "stream",
     "text": [
      "[LightGBM] [Info] Using GPU Device: Quadro RTX 4000, Vendor: NVIDIA Corporation\n",
      "[LightGBM] [Info] Compiling OpenCL Kernel with 256 bins...\n",
      "[LightGBM] [Info] GPU programs have been built\n",
      "[LightGBM] [Info] Size of histogram bin entry: 8\n",
      "[LightGBM] [Info] 30 dense feature groups (0.03 MB) transferred to GPU in 0.005037 secs. 0 sparse feature groups\n",
      "[LightGBM] [Info] Size of histogram bin entry: 8\n",
      "[LightGBM] [Info] 30 dense feature groups (0.02 MB) transferred to GPU in 0.004929 secs. 0 sparse feature groups\n",
      "[LightGBM] [Warning] Stopped training because there are no more leaves that meet the split requirements\n",
      "threshold: 0.4661643684208331\n",
      "AUC-ROC: 0.9895998578888228\n",
      "Accuracy: 0.9390243902439024\n",
      "Precision: 0.9910418189920904\n",
      "Confusion Matrix:\n",
      "[[483   9]\n",
      " [ 51 441]]\n",
      "Recall: 0.8963414634146342\n",
      "F1 Score: 0.9363057324840764\n",
      "Updating target policy...\n",
      "Epoch 8/300\n",
      "[LightGBM] [Warning] Contains only one class\n",
      "[LightGBM] [Info] Number of positive: 982, number of negative: 0\n",
      "[LightGBM] [Info] This is the GPU trainer!!\n",
      "[LightGBM] [Info] Total Bins 7650\n",
      "[LightGBM] [Info] Number of data points in the train set: 982, number of used features: 30\n"
     ]
    },
    {
     "name": "stderr",
     "output_type": "stream",
     "text": [
      "c:\\Users\\FH-Deg\\.conda\\envs\\tf_c_gpu\\lib\\site-packages\\lightgbm\\basic.py:1192: UserWarning: Converting data to scipy sparse matrix.\n",
      "  _log_warning('Converting data to scipy sparse matrix.')\n"
     ]
    },
    {
     "name": "stdout",
     "output_type": "stream",
     "text": [
      "[LightGBM] [Info] Using GPU Device: Quadro RTX 4000, Vendor: NVIDIA Corporation\n",
      "[LightGBM] [Info] Compiling OpenCL Kernel with 256 bins...\n",
      "[LightGBM] [Info] GPU programs have been built\n",
      "[LightGBM] [Info] Size of histogram bin entry: 8\n",
      "[LightGBM] [Info] 30 dense feature groups (0.03 MB) transferred to GPU in 0.004764 secs. 0 sparse feature groups\n",
      "[LightGBM] [Info] Size of histogram bin entry: 8\n",
      "[LightGBM] [Info] 30 dense feature groups (0.02 MB) transferred to GPU in 0.004380 secs. 0 sparse feature groups\n",
      "[LightGBM] [Warning] Stopped training because there are no more leaves that meet the split requirements\n",
      "threshold: 0.4661643684208331\n",
      "AUC-ROC: 0.9895998578888228\n",
      "Accuracy: 0.9390243902439024\n",
      "Precision: 0.9910418189920904\n",
      "Confusion Matrix:\n",
      "[[483   9]\n",
      " [ 51 441]]\n",
      "Recall: 0.8963414634146342\n",
      "F1 Score: 0.9363057324840764\n",
      "Epoch 9/300\n",
      "[LightGBM] [Warning] Contains only one class\n",
      "[LightGBM] [Info] Number of positive: 982, number of negative: 0\n",
      "[LightGBM] [Info] This is the GPU trainer!!\n",
      "[LightGBM] [Info] Total Bins 7650\n",
      "[LightGBM] [Info] Number of data points in the train set: 982, number of used features: 30\n",
      "[LightGBM] [Info] Using GPU Device: Quadro RTX 4000, Vendor: NVIDIA Corporation\n",
      "[LightGBM] [Info] Compiling OpenCL Kernel with 256 bins...\n"
     ]
    },
    {
     "name": "stderr",
     "output_type": "stream",
     "text": [
      "c:\\Users\\FH-Deg\\.conda\\envs\\tf_c_gpu\\lib\\site-packages\\lightgbm\\basic.py:1192: UserWarning: Converting data to scipy sparse matrix.\n",
      "  _log_warning('Converting data to scipy sparse matrix.')\n"
     ]
    },
    {
     "name": "stdout",
     "output_type": "stream",
     "text": [
      "[LightGBM] [Info] GPU programs have been built\n",
      "[LightGBM] [Info] Size of histogram bin entry: 8\n",
      "[LightGBM] [Info] 30 dense feature groups (0.03 MB) transferred to GPU in 0.004635 secs. 0 sparse feature groups\n",
      "[LightGBM] [Info] Size of histogram bin entry: 8\n",
      "[LightGBM] [Info] 30 dense feature groups (0.02 MB) transferred to GPU in 0.004474 secs. 0 sparse feature groups\n",
      "[LightGBM] [Warning] Stopped training because there are no more leaves that meet the split requirements\n",
      "threshold: 0.4661643684208331\n",
      "AUC-ROC: 0.9895998578888228\n",
      "Accuracy: 0.9390243902439024\n",
      "Precision: 0.9910418189920904\n",
      "Confusion Matrix:\n",
      "[[483   9]\n",
      " [ 51 441]]\n",
      "Recall: 0.8963414634146342\n",
      "F1 Score: 0.9363057324840764\n",
      "Epoch 10/300\n",
      "[LightGBM] [Warning] Contains only one class\n",
      "[LightGBM] [Info] Number of positive: 982, number of negative: 0\n",
      "[LightGBM] [Info] This is the GPU trainer!!\n",
      "[LightGBM] [Info] Total Bins 7650\n",
      "[LightGBM] [Info] Number of data points in the train set: 982, number of used features: 30\n"
     ]
    },
    {
     "name": "stderr",
     "output_type": "stream",
     "text": [
      "c:\\Users\\FH-Deg\\.conda\\envs\\tf_c_gpu\\lib\\site-packages\\lightgbm\\basic.py:1192: UserWarning: Converting data to scipy sparse matrix.\n",
      "  _log_warning('Converting data to scipy sparse matrix.')\n"
     ]
    },
    {
     "name": "stdout",
     "output_type": "stream",
     "text": [
      "[LightGBM] [Info] Using GPU Device: Quadro RTX 4000, Vendor: NVIDIA Corporation\n",
      "[LightGBM] [Info] Compiling OpenCL Kernel with 256 bins...\n",
      "[LightGBM] [Info] GPU programs have been built\n",
      "[LightGBM] [Info] Size of histogram bin entry: 8\n",
      "[LightGBM] [Info] 30 dense feature groups (0.03 MB) transferred to GPU in 0.004960 secs. 0 sparse feature groups\n",
      "[LightGBM] [Info] Size of histogram bin entry: 8\n",
      "[LightGBM] [Info] 30 dense feature groups (0.02 MB) transferred to GPU in 0.004656 secs. 0 sparse feature groups\n",
      "[LightGBM] [Warning] Stopped training because there are no more leaves that meet the split requirements\n",
      "threshold: 0.4661643684208331\n",
      "AUC-ROC: 0.9895998578888228\n",
      "Accuracy: 0.9390243902439024\n",
      "Precision: 0.9910418189920904\n",
      "Confusion Matrix:\n",
      "[[483   9]\n",
      " [ 51 441]]\n",
      "Recall: 0.8963414634146342\n",
      "F1 Score: 0.9363057324840764\n",
      "Updating target policy...\n",
      "Epoch 11/300\n",
      "[LightGBM] [Info] Number of positive: 442, number of negative: 540\n",
      "[LightGBM] [Info] This is the GPU trainer!!\n",
      "[LightGBM] [Info] Total Bins 7650\n",
      "[LightGBM] [Info] Number of data points in the train set: 982, number of used features: 30\n"
     ]
    },
    {
     "name": "stderr",
     "output_type": "stream",
     "text": [
      "c:\\Users\\FH-Deg\\.conda\\envs\\tf_c_gpu\\lib\\site-packages\\lightgbm\\basic.py:1192: UserWarning: Converting data to scipy sparse matrix.\n",
      "  _log_warning('Converting data to scipy sparse matrix.')\n"
     ]
    },
    {
     "name": "stdout",
     "output_type": "stream",
     "text": [
      "[LightGBM] [Info] Using GPU Device: Quadro RTX 4000, Vendor: NVIDIA Corporation\n",
      "[LightGBM] [Info] Compiling OpenCL Kernel with 256 bins...\n",
      "[LightGBM] [Info] GPU programs have been built\n",
      "[LightGBM] [Info] Size of histogram bin entry: 8\n",
      "[LightGBM] [Info] 30 dense feature groups (0.03 MB) transferred to GPU in 0.004631 secs. 0 sparse feature groups\n",
      "[LightGBM] [Info] Size of histogram bin entry: 8\n",
      "[LightGBM] [Info] 30 dense feature groups (0.02 MB) transferred to GPU in 0.004584 secs. 0 sparse feature groups\n",
      "threshold: 0.46645851530091004\n",
      "AUC-ROC: 0.989409825500694\n",
      "Accuracy: 0.9390243902439024\n",
      "Precision: 0.9909019930075846\n",
      "Confusion Matrix:\n",
      "[[483   9]\n",
      " [ 51 441]]\n",
      "Recall: 0.8963414634146342\n",
      "F1 Score: 0.9363057324840764\n",
      "Epoch 12/300\n",
      "[LightGBM] [Info] Number of positive: 442, number of negative: 540\n",
      "[LightGBM] [Info] This is the GPU trainer!!\n",
      "[LightGBM] [Info] Total Bins 7650\n",
      "[LightGBM] [Info] Number of data points in the train set: 982, number of used features: 30\n"
     ]
    },
    {
     "name": "stderr",
     "output_type": "stream",
     "text": [
      "c:\\Users\\FH-Deg\\.conda\\envs\\tf_c_gpu\\lib\\site-packages\\lightgbm\\basic.py:1192: UserWarning: Converting data to scipy sparse matrix.\n",
      "  _log_warning('Converting data to scipy sparse matrix.')\n"
     ]
    },
    {
     "name": "stdout",
     "output_type": "stream",
     "text": [
      "[LightGBM] [Info] Using GPU Device: Quadro RTX 4000, Vendor: NVIDIA Corporation\n",
      "[LightGBM] [Info] Compiling OpenCL Kernel with 256 bins...\n",
      "[LightGBM] [Info] GPU programs have been built\n",
      "[LightGBM] [Info] Size of histogram bin entry: 8\n",
      "[LightGBM] [Info] 30 dense feature groups (0.03 MB) transferred to GPU in 0.004827 secs. 0 sparse feature groups\n",
      "[LightGBM] [Info] Size of histogram bin entry: 8\n",
      "[LightGBM] [Info] 30 dense feature groups (0.02 MB) transferred to GPU in 0.004717 secs. 0 sparse feature groups\n",
      "threshold: 0.47561726792588926\n",
      "AUC-ROC: 0.9897485788882279\n",
      "Accuracy: 0.9420731707317073\n",
      "Precision: 0.9910545908958817\n",
      "Confusion Matrix:\n",
      "[[488   4]\n",
      " [ 53 439]]\n",
      "Recall: 0.8922764227642277\n",
      "F1 Score: 0.9390374331550803\n",
      "Epoch 13/300\n",
      "[LightGBM] [Info] Number of positive: 442, number of negative: 540\n",
      "[LightGBM] [Info] This is the GPU trainer!!\n",
      "[LightGBM] [Info] Total Bins 7650\n",
      "[LightGBM] [Info] Number of data points in the train set: 982, number of used features: 30\n",
      "[LightGBM] [Info] Using GPU Device: Quadro RTX 4000, Vendor: NVIDIA Corporation\n",
      "[LightGBM] [Info] Compiling OpenCL Kernel with 256 bins...\n",
      "[LightGBM] [Info] GPU programs have been built\n",
      "[LightGBM] [Info] Size of histogram bin entry: 8\n"
     ]
    },
    {
     "name": "stderr",
     "output_type": "stream",
     "text": [
      "c:\\Users\\FH-Deg\\.conda\\envs\\tf_c_gpu\\lib\\site-packages\\lightgbm\\basic.py:1192: UserWarning: Converting data to scipy sparse matrix.\n",
      "  _log_warning('Converting data to scipy sparse matrix.')\n"
     ]
    },
    {
     "name": "stdout",
     "output_type": "stream",
     "text": [
      "[LightGBM] [Info] 30 dense feature groups (0.03 MB) transferred to GPU in 0.061772 secs. 0 sparse feature groups\n",
      "[LightGBM] [Info] Size of histogram bin entry: 8\n",
      "[LightGBM] [Info] 30 dense feature groups (0.02 MB) transferred to GPU in 0.003988 secs. 0 sparse feature groups\n",
      "threshold: 0.47678288494047855\n",
      "AUC-ROC: 0.989727923193866\n",
      "Accuracy: 0.9410569105691057\n",
      "Precision: 0.9910564520399269\n",
      "Confusion Matrix:\n",
      "[[489   3]\n",
      " [ 55 437]]\n",
      "Recall: 0.8882113821138211\n",
      "F1 Score: 0.9377682403433476\n",
      "Updating target policy...\n",
      "Epoch 14/300\n",
      "[LightGBM] [Info] Number of positive: 442, number of negative: 540\n",
      "[LightGBM] [Info] This is the GPU trainer!!\n",
      "[LightGBM] [Info] Total Bins 7650\n",
      "[LightGBM] [Info] Number of data points in the train set: 982, number of used features: 30\n"
     ]
    },
    {
     "name": "stderr",
     "output_type": "stream",
     "text": [
      "c:\\Users\\FH-Deg\\.conda\\envs\\tf_c_gpu\\lib\\site-packages\\lightgbm\\basic.py:1192: UserWarning: Converting data to scipy sparse matrix.\n",
      "  _log_warning('Converting data to scipy sparse matrix.')\n"
     ]
    },
    {
     "name": "stdout",
     "output_type": "stream",
     "text": [
      "[LightGBM] [Info] Using GPU Device: Quadro RTX 4000, Vendor: NVIDIA Corporation\n",
      "[LightGBM] [Info] Compiling OpenCL Kernel with 256 bins...\n",
      "[LightGBM] [Info] GPU programs have been built\n",
      "[LightGBM] [Info] Size of histogram bin entry: 8\n",
      "[LightGBM] [Info] 30 dense feature groups (0.03 MB) transferred to GPU in 0.029201 secs. 0 sparse feature groups\n",
      "[LightGBM] [Info] Size of histogram bin entry: 8\n",
      "[LightGBM] [Info] 30 dense feature groups (0.02 MB) transferred to GPU in 0.004558 secs. 0 sparse feature groups\n",
      "threshold: 0.4832450681578381\n",
      "AUC-ROC: 0.9899303489986119\n",
      "Accuracy: 0.9390243902439024\n",
      "Precision: 0.9911342916782859\n",
      "Confusion Matrix:\n",
      "[[489   3]\n",
      " [ 57 435]]\n",
      "Recall: 0.8841463414634146\n",
      "F1 Score: 0.9354838709677419\n",
      "Epoch 15/300\n",
      "[LightGBM] [Info] Number of positive: 442, number of negative: 540\n",
      "[LightGBM] [Info] This is the GPU trainer!!\n",
      "[LightGBM] [Info] Total Bins 7650\n",
      "[LightGBM] [Info] Number of data points in the train set: 982, number of used features: 30\n",
      "[LightGBM] [Info] Using GPU Device: Quadro RTX 4000, Vendor: NVIDIA Corporation\n",
      "[LightGBM] [Info] Compiling OpenCL Kernel with 256 bins...\n",
      "[LightGBM] [Info] GPU programs have been built\n",
      "[LightGBM] [Info] Size of histogram bin entry: 8\n",
      "[LightGBM] [Info] 30 dense feature groups (0.03 MB) transferred to GPU in 0.005398 secs. 0 sparse feature groups\n"
     ]
    },
    {
     "name": "stderr",
     "output_type": "stream",
     "text": [
      "c:\\Users\\FH-Deg\\.conda\\envs\\tf_c_gpu\\lib\\site-packages\\lightgbm\\basic.py:1192: UserWarning: Converting data to scipy sparse matrix.\n",
      "  _log_warning('Converting data to scipy sparse matrix.')\n"
     ]
    },
    {
     "name": "stdout",
     "output_type": "stream",
     "text": [
      "[LightGBM] [Info] Size of histogram bin entry: 8\n",
      "[LightGBM] [Info] 30 dense feature groups (0.02 MB) transferred to GPU in 0.004738 secs. 0 sparse feature groups\n",
      "threshold: 0.48724147701543297\n",
      "AUC-ROC: 0.9902401844140392\n",
      "Accuracy: 0.9369918699186992\n",
      "Precision: 0.9913412679524881\n",
      "Confusion Matrix:\n",
      "[[490   2]\n",
      " [ 60 432]]\n",
      "Recall: 0.8780487804878049\n",
      "F1 Score: 0.9330453563714903\n",
      "Epoch 16/300\n",
      "[LightGBM] [Info] Number of positive: 442, number of negative: 540\n",
      "[LightGBM] [Info] This is the GPU trainer!!\n",
      "[LightGBM] [Info] Total Bins 7650\n",
      "[LightGBM] [Info] Number of data points in the train set: 982, number of used features: 30\n",
      "[LightGBM] [Info] Using GPU Device: Quadro RTX 4000, Vendor: NVIDIA Corporation\n",
      "[LightGBM] [Info] Compiling OpenCL Kernel with 256 bins...\n"
     ]
    },
    {
     "name": "stderr",
     "output_type": "stream",
     "text": [
      "c:\\Users\\FH-Deg\\.conda\\envs\\tf_c_gpu\\lib\\site-packages\\lightgbm\\basic.py:1192: UserWarning: Converting data to scipy sparse matrix.\n",
      "  _log_warning('Converting data to scipy sparse matrix.')\n"
     ]
    },
    {
     "name": "stdout",
     "output_type": "stream",
     "text": [
      "[LightGBM] [Info] GPU programs have been built\n",
      "[LightGBM] [Info] Size of histogram bin entry: 8\n",
      "[LightGBM] [Info] 30 dense feature groups (0.03 MB) transferred to GPU in 0.005218 secs. 0 sparse feature groups\n",
      "[LightGBM] [Info] Size of histogram bin entry: 8\n",
      "[LightGBM] [Info] 30 dense feature groups (0.02 MB) transferred to GPU in 0.004537 secs. 0 sparse feature groups\n",
      "threshold: 0.4866111720533563\n",
      "AUC-ROC: 0.9901864796086985\n",
      "Accuracy: 0.9349593495934959\n",
      "Precision: 0.991269656657762\n",
      "Confusion Matrix:\n",
      "[[489   3]\n",
      " [ 61 431]]\n",
      "Recall: 0.8760162601626016\n",
      "F1 Score: 0.9308855291576674\n",
      "Updating target policy...\n",
      "Epoch 17/300\n",
      "[LightGBM] [Info] Number of positive: 442, number of negative: 540\n",
      "[LightGBM] [Info] This is the GPU trainer!!\n",
      "[LightGBM] [Info] Total Bins 7650\n",
      "[LightGBM] [Info] Number of data points in the train set: 982, number of used features: 30\n",
      "[LightGBM] [Info] Using GPU Device: Quadro RTX 4000, Vendor: NVIDIA Corporation\n",
      "[LightGBM] [Info] Compiling OpenCL Kernel with 256 bins...\n"
     ]
    },
    {
     "name": "stderr",
     "output_type": "stream",
     "text": [
      "c:\\Users\\FH-Deg\\.conda\\envs\\tf_c_gpu\\lib\\site-packages\\lightgbm\\basic.py:1192: UserWarning: Converting data to scipy sparse matrix.\n",
      "  _log_warning('Converting data to scipy sparse matrix.')\n"
     ]
    },
    {
     "name": "stdout",
     "output_type": "stream",
     "text": [
      "[LightGBM] [Info] GPU programs have been built\n",
      "[LightGBM] [Info] Size of histogram bin entry: 8\n",
      "[LightGBM] [Info] 30 dense feature groups (0.03 MB) transferred to GPU in 0.144478 secs. 0 sparse feature groups\n",
      "[LightGBM] [Info] Size of histogram bin entry: 8\n",
      "[LightGBM] [Info] 30 dense feature groups (0.02 MB) transferred to GPU in 0.061157 secs. 0 sparse feature groups\n",
      "threshold: 0.4898577749596381\n",
      "AUC-ROC: 0.9901782173309539\n",
      "Accuracy: 0.9339430894308943\n",
      "Precision: 0.9912515117058343\n",
      "Confusion Matrix:\n",
      "[[489   3]\n",
      " [ 62 430]]\n",
      "Recall: 0.8739837398373984\n",
      "F1 Score: 0.9297297297297298\n",
      "Epoch 18/300\n",
      "[LightGBM] [Info] Number of positive: 442, number of negative: 540\n",
      "[LightGBM] [Info] This is the GPU trainer!!\n",
      "[LightGBM] [Info] Total Bins 7650\n",
      "[LightGBM] [Info] Number of data points in the train set: 982, number of used features: 30\n"
     ]
    },
    {
     "name": "stderr",
     "output_type": "stream",
     "text": [
      "c:\\Users\\FH-Deg\\.conda\\envs\\tf_c_gpu\\lib\\site-packages\\lightgbm\\basic.py:1192: UserWarning: Converting data to scipy sparse matrix.\n",
      "  _log_warning('Converting data to scipy sparse matrix.')\n"
     ]
    },
    {
     "name": "stdout",
     "output_type": "stream",
     "text": [
      "[LightGBM] [Info] Using GPU Device: Quadro RTX 4000, Vendor: NVIDIA Corporation\n",
      "[LightGBM] [Info] Compiling OpenCL Kernel with 256 bins...\n",
      "[LightGBM] [Info] GPU programs have been built\n",
      "[LightGBM] [Info] Size of histogram bin entry: 8\n",
      "[LightGBM] [Info] 30 dense feature groups (0.03 MB) transferred to GPU in 0.005234 secs. 0 sparse feature groups\n",
      "[LightGBM] [Info] Size of histogram bin entry: 8\n",
      "[LightGBM] [Info] 30 dense feature groups (0.02 MB) transferred to GPU in 0.004622 secs. 0 sparse feature groups\n",
      "threshold: 0.49086576047285285\n",
      "AUC-ROC: 0.9902360532751668\n",
      "Accuracy: 0.9339430894308943\n",
      "Precision: 0.9912853951538807\n",
      "Confusion Matrix:\n",
      "[[489   3]\n",
      " [ 62 430]]\n",
      "Recall: 0.8739837398373984\n",
      "F1 Score: 0.9297297297297298\n",
      "Epoch 19/300\n",
      "[LightGBM] [Info] Number of positive: 442, number of negative: 540\n",
      "[LightGBM] [Info] This is the GPU trainer!!\n",
      "[LightGBM] [Info] Total Bins 7650\n",
      "[LightGBM] [Info] Number of data points in the train set: 982, number of used features: 30\n",
      "[LightGBM] [Info] Using GPU Device: Quadro RTX 4000, Vendor: NVIDIA Corporation\n",
      "[LightGBM] [Info] Compiling OpenCL Kernel with 256 bins...\n"
     ]
    },
    {
     "name": "stderr",
     "output_type": "stream",
     "text": [
      "c:\\Users\\FH-Deg\\.conda\\envs\\tf_c_gpu\\lib\\site-packages\\lightgbm\\basic.py:1192: UserWarning: Converting data to scipy sparse matrix.\n",
      "  _log_warning('Converting data to scipy sparse matrix.')\n"
     ]
    },
    {
     "name": "stdout",
     "output_type": "stream",
     "text": [
      "[LightGBM] [Info] GPU programs have been built\n",
      "[LightGBM] [Info] Size of histogram bin entry: 8\n",
      "[LightGBM] [Info] 30 dense feature groups (0.03 MB) transferred to GPU in 0.004585 secs. 0 sparse feature groups\n",
      "[LightGBM] [Info] Size of histogram bin entry: 8\n",
      "[LightGBM] [Info] 30 dense feature groups (0.02 MB) transferred to GPU in 0.004375 secs. 0 sparse feature groups\n",
      "threshold: 0.5001040652144351\n",
      "AUC-ROC: 0.9903434628858483\n",
      "Accuracy: 0.9339430894308943\n",
      "Precision: 0.9913123867544262\n",
      "Confusion Matrix:\n",
      "[[490   2]\n",
      " [ 63 429]]\n",
      "Recall: 0.8719512195121951\n",
      "F1 Score: 0.9295774647887324\n",
      "Updating target policy...\n",
      "Epoch 20/300\n",
      "[LightGBM] [Info] Number of positive: 442, number of negative: 540\n",
      "[LightGBM] [Info] This is the GPU trainer!!\n",
      "[LightGBM] [Info] Total Bins 7650\n",
      "[LightGBM] [Info] Number of data points in the train set: 982, number of used features: 30\n"
     ]
    },
    {
     "name": "stderr",
     "output_type": "stream",
     "text": [
      "c:\\Users\\FH-Deg\\.conda\\envs\\tf_c_gpu\\lib\\site-packages\\lightgbm\\basic.py:1192: UserWarning: Converting data to scipy sparse matrix.\n",
      "  _log_warning('Converting data to scipy sparse matrix.')\n"
     ]
    },
    {
     "name": "stdout",
     "output_type": "stream",
     "text": [
      "[LightGBM] [Info] Using GPU Device: Quadro RTX 4000, Vendor: NVIDIA Corporation\n",
      "[LightGBM] [Info] Compiling OpenCL Kernel with 256 bins...\n",
      "[LightGBM] [Info] GPU programs have been built\n",
      "[LightGBM] [Info] Size of histogram bin entry: 8\n",
      "[LightGBM] [Info] 30 dense feature groups (0.03 MB) transferred to GPU in 0.005154 secs. 0 sparse feature groups\n",
      "[LightGBM] [Info] Size of histogram bin entry: 8\n",
      "[LightGBM] [Info] 30 dense feature groups (0.02 MB) transferred to GPU in 0.014967 secs. 0 sparse feature groups\n",
      "threshold: 0.5014613571836647\n",
      "AUC-ROC: 0.9903682497190827\n",
      "Accuracy: 0.9329268292682927\n",
      "Precision: 0.9913502265787135\n",
      "Confusion Matrix:\n",
      "[[490   2]\n",
      " [ 64 428]]\n",
      "Recall: 0.8699186991869918\n",
      "F1 Score: 0.928416485900217\n",
      "Epoch 21/300\n",
      "[LightGBM] [Info] Number of positive: 442, number of negative: 540\n",
      "[LightGBM] [Info] This is the GPU trainer!!\n",
      "[LightGBM] [Info] Total Bins 7650\n",
      "[LightGBM] [Info] Number of data points in the train set: 982, number of used features: 30\n"
     ]
    },
    {
     "name": "stderr",
     "output_type": "stream",
     "text": [
      "c:\\Users\\FH-Deg\\.conda\\envs\\tf_c_gpu\\lib\\site-packages\\lightgbm\\basic.py:1192: UserWarning: Converting data to scipy sparse matrix.\n",
      "  _log_warning('Converting data to scipy sparse matrix.')\n"
     ]
    },
    {
     "name": "stdout",
     "output_type": "stream",
     "text": [
      "[LightGBM] [Info] Using GPU Device: Quadro RTX 4000, Vendor: NVIDIA Corporation\n",
      "[LightGBM] [Info] Compiling OpenCL Kernel with 256 bins...\n",
      "[LightGBM] [Info] GPU programs have been built\n",
      "[LightGBM] [Info] Size of histogram bin entry: 8\n",
      "[LightGBM] [Info] 30 dense feature groups (0.03 MB) transferred to GPU in 0.004992 secs. 0 sparse feature groups\n",
      "[LightGBM] [Info] Size of histogram bin entry: 8\n",
      "[LightGBM] [Info] 30 dense feature groups (0.02 MB) transferred to GPU in 0.004659 secs. 0 sparse feature groups\n",
      "threshold: 0.5027337156247754\n",
      "AUC-ROC: 0.9904591347742746\n",
      "Accuracy: 0.9339430894308943\n",
      "Precision: 0.9914426770223568\n",
      "Confusion Matrix:\n",
      "[[490   2]\n",
      " [ 63 429]]\n",
      "Recall: 0.8719512195121951\n",
      "F1 Score: 0.9295774647887324\n",
      "Epoch 22/300\n",
      "[LightGBM] [Info] Number of positive: 442, number of negative: 540\n",
      "[LightGBM] [Info] This is the GPU trainer!!\n",
      "[LightGBM] [Info] Total Bins 7650\n",
      "[LightGBM] [Info] Number of data points in the train set: 982, number of used features: 30\n"
     ]
    },
    {
     "name": "stderr",
     "output_type": "stream",
     "text": [
      "c:\\Users\\FH-Deg\\.conda\\envs\\tf_c_gpu\\lib\\site-packages\\lightgbm\\basic.py:1192: UserWarning: Converting data to scipy sparse matrix.\n",
      "  _log_warning('Converting data to scipy sparse matrix.')\n"
     ]
    },
    {
     "name": "stdout",
     "output_type": "stream",
     "text": [
      "[LightGBM] [Info] Using GPU Device: Quadro RTX 4000, Vendor: NVIDIA Corporation\n",
      "[LightGBM] [Info] Compiling OpenCL Kernel with 256 bins...\n",
      "[LightGBM] [Info] GPU programs have been built\n",
      "[LightGBM] [Info] Size of histogram bin entry: 8\n",
      "[LightGBM] [Info] 30 dense feature groups (0.03 MB) transferred to GPU in 0.004658 secs. 0 sparse feature groups\n",
      "[LightGBM] [Info] Size of histogram bin entry: 8\n",
      "[LightGBM] [Info] 30 dense feature groups (0.02 MB) transferred to GPU in 0.014573 secs. 0 sparse feature groups\n",
      "threshold: 0.507232213004659\n",
      "AUC-ROC: 0.9904715281908916\n",
      "Accuracy: 0.9329268292682927\n",
      "Precision: 0.9914167639254743\n",
      "Confusion Matrix:\n",
      "[[490   2]\n",
      " [ 64 428]]\n",
      "Recall: 0.8699186991869918\n",
      "F1 Score: 0.928416485900217\n",
      "Updating target policy...\n",
      "Epoch 23/300\n",
      "[LightGBM] [Info] Number of positive: 442, number of negative: 540\n",
      "[LightGBM] [Info] This is the GPU trainer!!\n",
      "[LightGBM] [Info] Total Bins 7650\n",
      "[LightGBM] [Info] Number of data points in the train set: 982, number of used features: 30\n",
      "[LightGBM] [Info] Using GPU Device: Quadro RTX 4000, Vendor: NVIDIA Corporation\n",
      "[LightGBM] [Info] Compiling OpenCL Kernel with 256 bins...\n"
     ]
    },
    {
     "name": "stderr",
     "output_type": "stream",
     "text": [
      "c:\\Users\\FH-Deg\\.conda\\envs\\tf_c_gpu\\lib\\site-packages\\lightgbm\\basic.py:1192: UserWarning: Converting data to scipy sparse matrix.\n",
      "  _log_warning('Converting data to scipy sparse matrix.')\n"
     ]
    },
    {
     "name": "stdout",
     "output_type": "stream",
     "text": [
      "[LightGBM] [Info] GPU programs have been built\n",
      "[LightGBM] [Info] Size of histogram bin entry: 8\n",
      "[LightGBM] [Info] 30 dense feature groups (0.03 MB) transferred to GPU in 0.023078 secs. 0 sparse feature groups\n",
      "[LightGBM] [Info] Size of histogram bin entry: 8\n",
      "[LightGBM] [Info] 30 dense feature groups (0.02 MB) transferred to GPU in 0.004573 secs. 0 sparse feature groups\n",
      "threshold: 0.5078105162139402\n",
      "AUC-ROC: 0.9903599874413378\n",
      "Accuracy: 0.9329268292682927\n",
      "Precision: 0.9913156153977196\n",
      "Confusion Matrix:\n",
      "[[490   2]\n",
      " [ 64 428]]\n",
      "Recall: 0.8699186991869918\n",
      "F1 Score: 0.928416485900217\n",
      "Epoch 24/300\n",
      "[LightGBM] [Info] Number of positive: 442, number of negative: 540\n",
      "[LightGBM] [Info] This is the GPU trainer!!\n",
      "[LightGBM] [Info] Total Bins 7650\n",
      "[LightGBM] [Info] Number of data points in the train set: 982, number of used features: 30\n",
      "[LightGBM] [Info] Using GPU Device: Quadro RTX 4000, Vendor: NVIDIA Corporation\n",
      "[LightGBM] [Info] Compiling OpenCL Kernel with 256 bins...\n"
     ]
    },
    {
     "name": "stderr",
     "output_type": "stream",
     "text": [
      "c:\\Users\\FH-Deg\\.conda\\envs\\tf_c_gpu\\lib\\site-packages\\lightgbm\\basic.py:1192: UserWarning: Converting data to scipy sparse matrix.\n",
      "  _log_warning('Converting data to scipy sparse matrix.')\n"
     ]
    },
    {
     "name": "stdout",
     "output_type": "stream",
     "text": [
      "[LightGBM] [Info] GPU programs have been built\n",
      "[LightGBM] [Info] Size of histogram bin entry: 8\n",
      "[LightGBM] [Info] 30 dense feature groups (0.03 MB) transferred to GPU in 0.008206 secs. 0 sparse feature groups\n",
      "[LightGBM] [Info] Size of histogram bin entry: 8\n",
      "[LightGBM] [Info] 30 dense feature groups (0.02 MB) transferred to GPU in 0.004593 secs. 0 sparse feature groups\n",
      "threshold: 0.5132071632744333\n",
      "AUC-ROC: 0.9904095611078062\n",
      "Accuracy: 0.9339430894308943\n",
      "Precision: 0.9913322322888275\n",
      "Confusion Matrix:\n",
      "[[491   1]\n",
      " [ 64 428]]\n",
      "Recall: 0.8699186991869918\n",
      "F1 Score: 0.9294245385450597\n",
      "Epoch 25/300\n",
      "[LightGBM] [Info] Number of positive: 442, number of negative: 540\n",
      "[LightGBM] [Info] This is the GPU trainer!!\n",
      "[LightGBM] [Info] Total Bins 7650\n",
      "[LightGBM] [Info] Number of data points in the train set: 982, number of used features: 30\n",
      "[LightGBM] [Info] Using GPU Device: Quadro RTX 4000, Vendor: NVIDIA Corporation\n",
      "[LightGBM] [Info] Compiling OpenCL Kernel with 256 bins...\n",
      "[LightGBM] [Info] GPU programs have been built\n",
      "[LightGBM] [Info] Size of histogram bin entry: 8\n",
      "[LightGBM] [Info] 30 dense feature groups (0.03 MB) transferred to GPU in 0.004737 secs. 0 sparse feature groups\n"
     ]
    },
    {
     "name": "stderr",
     "output_type": "stream",
     "text": [
      "c:\\Users\\FH-Deg\\.conda\\envs\\tf_c_gpu\\lib\\site-packages\\lightgbm\\basic.py:1192: UserWarning: Converting data to scipy sparse matrix.\n",
      "  _log_warning('Converting data to scipy sparse matrix.')\n"
     ]
    },
    {
     "name": "stdout",
     "output_type": "stream",
     "text": [
      "[LightGBM] [Info] Size of histogram bin entry: 8\n",
      "[LightGBM] [Info] 30 dense feature groups (0.02 MB) transferred to GPU in 0.008187 secs. 0 sparse feature groups\n",
      "threshold: 0.5186386201577345\n",
      "AUC-ROC: 0.9905087084407429\n",
      "Accuracy: 0.9339430894308943\n",
      "Precision: 0.9913919919924882\n",
      "Confusion Matrix:\n",
      "[[491   1]\n",
      " [ 64 428]]\n",
      "Recall: 0.8699186991869918\n",
      "F1 Score: 0.9294245385450597\n",
      "Updating target policy...\n",
      "Epoch 26/300\n",
      "[LightGBM] [Info] Number of positive: 442, number of negative: 540\n",
      "[LightGBM] [Info] This is the GPU trainer!!\n",
      "[LightGBM] [Info] Total Bins 7650\n",
      "[LightGBM] [Info] Number of data points in the train set: 982, number of used features: 30\n"
     ]
    },
    {
     "name": "stderr",
     "output_type": "stream",
     "text": [
      "c:\\Users\\FH-Deg\\.conda\\envs\\tf_c_gpu\\lib\\site-packages\\lightgbm\\basic.py:1192: UserWarning: Converting data to scipy sparse matrix.\n",
      "  _log_warning('Converting data to scipy sparse matrix.')\n"
     ]
    },
    {
     "name": "stdout",
     "output_type": "stream",
     "text": [
      "[LightGBM] [Info] Using GPU Device: Quadro RTX 4000, Vendor: NVIDIA Corporation\n",
      "[LightGBM] [Info] Compiling OpenCL Kernel with 256 bins...\n",
      "[LightGBM] [Info] GPU programs have been built\n",
      "[LightGBM] [Info] Size of histogram bin entry: 8\n",
      "[LightGBM] [Info] 30 dense feature groups (0.03 MB) transferred to GPU in 0.004842 secs. 0 sparse feature groups\n",
      "[LightGBM] [Info] Size of histogram bin entry: 8\n",
      "[LightGBM] [Info] 30 dense feature groups (0.02 MB) transferred to GPU in 0.017298 secs. 0 sparse feature groups\n",
      "threshold: 0.5177460163412286\n",
      "AUC-ROC: 0.9904715281908916\n",
      "Accuracy: 0.9339430894308943\n",
      "Precision: 0.9913646624396993\n",
      "Confusion Matrix:\n",
      "[[491   1]\n",
      " [ 64 428]]\n",
      "Recall: 0.8699186991869918\n",
      "F1 Score: 0.9294245385450597\n",
      "Epoch 27/300\n",
      "[LightGBM] [Info] Number of positive: 442, number of negative: 540\n",
      "[LightGBM] [Info] This is the GPU trainer!!\n",
      "[LightGBM] [Info] Total Bins 7650\n",
      "[LightGBM] [Info] Number of data points in the train set: 982, number of used features: 30\n",
      "[LightGBM] [Info] Using GPU Device: Quadro RTX 4000, Vendor: NVIDIA Corporation\n",
      "[LightGBM] [Info] Compiling OpenCL Kernel with 256 bins...\n",
      "[LightGBM] [Info] GPU programs have been built\n",
      "[LightGBM] [Info] Size of histogram bin entry: 8\n",
      "[LightGBM] [Info] 30 dense feature groups (0.03 MB) transferred to GPU in 0.004571 secs. 0 sparse feature groups\n",
      "[LightGBM] [Info] Size of histogram bin entry: 8\n",
      "[LightGBM] [Info] 30 dense feature groups (0.02 MB) transferred to GPU in 0.004398 secs. 0 sparse feature groups\n"
     ]
    },
    {
     "name": "stderr",
     "output_type": "stream",
     "text": [
      "c:\\Users\\FH-Deg\\.conda\\envs\\tf_c_gpu\\lib\\site-packages\\lightgbm\\basic.py:1192: UserWarning: Converting data to scipy sparse matrix.\n",
      "  _log_warning('Converting data to scipy sparse matrix.')\n"
     ]
    },
    {
     "name": "stdout",
     "output_type": "stream",
     "text": [
      "threshold: 0.5190725422912187\n",
      "AUC-ROC: 0.9904632659131469\n",
      "Accuracy: 0.9339430894308943\n",
      "Precision: 0.9913628136676866\n",
      "Confusion Matrix:\n",
      "[[491   1]\n",
      " [ 64 428]]\n",
      "Recall: 0.8699186991869918\n",
      "F1 Score: 0.9294245385450597\n",
      "Epoch 28/300\n",
      "[LightGBM] [Info] Number of positive: 442, number of negative: 540\n",
      "[LightGBM] [Info] This is the GPU trainer!!\n",
      "[LightGBM] [Info] Total Bins 7650\n",
      "[LightGBM] [Info] Number of data points in the train set: 982, number of used features: 30\n",
      "[LightGBM] [Info] Using GPU Device: Quadro RTX 4000, Vendor: NVIDIA Corporation\n",
      "[LightGBM] [Info] Compiling OpenCL Kernel with 256 bins...\n"
     ]
    },
    {
     "name": "stderr",
     "output_type": "stream",
     "text": [
      "c:\\Users\\FH-Deg\\.conda\\envs\\tf_c_gpu\\lib\\site-packages\\lightgbm\\basic.py:1192: UserWarning: Converting data to scipy sparse matrix.\n",
      "  _log_warning('Converting data to scipy sparse matrix.')\n"
     ]
    },
    {
     "name": "stdout",
     "output_type": "stream",
     "text": [
      "[LightGBM] [Info] GPU programs have been built\n",
      "[LightGBM] [Info] Size of histogram bin entry: 8\n",
      "[LightGBM] [Info] 30 dense feature groups (0.03 MB) transferred to GPU in 0.006719 secs. 0 sparse feature groups\n",
      "[LightGBM] [Info] Size of histogram bin entry: 8\n",
      "[LightGBM] [Info] 30 dense feature groups (0.02 MB) transferred to GPU in 0.021083 secs. 0 sparse feature groups\n",
      "threshold: 0.5200682899125402\n",
      "AUC-ROC: 0.9904012988300614\n",
      "Accuracy: 0.9339430894308943\n",
      "Precision: 0.9913168083377228\n",
      "Confusion Matrix:\n",
      "[[491   1]\n",
      " [ 64 428]]\n",
      "Recall: 0.8699186991869918\n",
      "F1 Score: 0.9294245385450597\n",
      "Updating target policy...\n",
      "Epoch 29/300\n",
      "[LightGBM] [Info] Number of positive: 442, number of negative: 540\n",
      "[LightGBM] [Info] This is the GPU trainer!!\n",
      "[LightGBM] [Info] Total Bins 7650\n",
      "[LightGBM] [Info] Number of data points in the train set: 982, number of used features: 30\n",
      "[LightGBM] [Info] Using GPU Device: Quadro RTX 4000, Vendor: NVIDIA Corporation\n",
      "[LightGBM] [Info] Compiling OpenCL Kernel with 256 bins...\n"
     ]
    },
    {
     "name": "stderr",
     "output_type": "stream",
     "text": [
      "c:\\Users\\FH-Deg\\.conda\\envs\\tf_c_gpu\\lib\\site-packages\\lightgbm\\basic.py:1192: UserWarning: Converting data to scipy sparse matrix.\n",
      "  _log_warning('Converting data to scipy sparse matrix.')\n"
     ]
    },
    {
     "name": "stdout",
     "output_type": "stream",
     "text": [
      "[LightGBM] [Info] GPU programs have been built\n",
      "[LightGBM] [Info] Size of histogram bin entry: 8\n",
      "[LightGBM] [Info] 30 dense feature groups (0.03 MB) transferred to GPU in 0.004896 secs. 0 sparse feature groups\n",
      "[LightGBM] [Info] Size of histogram bin entry: 8\n",
      "[LightGBM] [Info] 30 dense feature groups (0.02 MB) transferred to GPU in 0.004576 secs. 0 sparse feature groups\n",
      "threshold: 0.5207441333165866\n",
      "AUC-ROC: 0.9904508724965299\n",
      "Accuracy: 0.9339430894308943\n",
      "Precision: 0.9913667368327661\n",
      "Confusion Matrix:\n",
      "[[491   1]\n",
      " [ 64 428]]\n",
      "Recall: 0.8699186991869918\n",
      "F1 Score: 0.9294245385450597\n",
      "Epoch 30/300\n",
      "[LightGBM] [Info] Number of positive: 442, number of negative: 540\n",
      "[LightGBM] [Info] This is the GPU trainer!!\n",
      "[LightGBM] [Info] Total Bins 7650\n",
      "[LightGBM] [Info] Number of data points in the train set: 982, number of used features: 30\n"
     ]
    },
    {
     "name": "stderr",
     "output_type": "stream",
     "text": [
      "c:\\Users\\FH-Deg\\.conda\\envs\\tf_c_gpu\\lib\\site-packages\\lightgbm\\basic.py:1192: UserWarning: Converting data to scipy sparse matrix.\n",
      "  _log_warning('Converting data to scipy sparse matrix.')\n"
     ]
    },
    {
     "name": "stdout",
     "output_type": "stream",
     "text": [
      "[LightGBM] [Info] Using GPU Device: Quadro RTX 4000, Vendor: NVIDIA Corporation\n",
      "[LightGBM] [Info] Compiling OpenCL Kernel with 256 bins...\n",
      "[LightGBM] [Info] GPU programs have been built\n",
      "[LightGBM] [Info] Size of histogram bin entry: 8\n",
      "[LightGBM] [Info] 30 dense feature groups (0.03 MB) transferred to GPU in 0.039477 secs. 0 sparse feature groups\n",
      "[LightGBM] [Info] Size of histogram bin entry: 8\n",
      "[LightGBM] [Info] 30 dense feature groups (0.02 MB) transferred to GPU in 0.004864 secs. 0 sparse feature groups\n",
      "threshold: 0.5253107063659852\n",
      "AUC-ROC: 0.9904756593297641\n",
      "Accuracy: 0.9329268292682927\n",
      "Precision: 0.9913738191413767\n",
      "Confusion Matrix:\n",
      "[[491   1]\n",
      " [ 65 427]]\n",
      "Recall: 0.8678861788617886\n",
      "F1 Score: 0.9282608695652174\n",
      "Epoch 31/300\n",
      "[LightGBM] [Info] Number of positive: 442, number of negative: 540\n",
      "[LightGBM] [Info] This is the GPU trainer!!\n",
      "[LightGBM] [Info] Total Bins 7650\n",
      "[LightGBM] [Info] Number of data points in the train set: 982, number of used features: 30\n"
     ]
    },
    {
     "name": "stderr",
     "output_type": "stream",
     "text": [
      "c:\\Users\\FH-Deg\\.conda\\envs\\tf_c_gpu\\lib\\site-packages\\lightgbm\\basic.py:1192: UserWarning: Converting data to scipy sparse matrix.\n",
      "  _log_warning('Converting data to scipy sparse matrix.')\n"
     ]
    },
    {
     "name": "stdout",
     "output_type": "stream",
     "text": [
      "[LightGBM] [Info] Using GPU Device: Quadro RTX 4000, Vendor: NVIDIA Corporation\n",
      "[LightGBM] [Info] Compiling OpenCL Kernel with 256 bins...\n",
      "[LightGBM] [Info] GPU programs have been built\n",
      "[LightGBM] [Info] Size of histogram bin entry: 8\n",
      "[LightGBM] [Info] 30 dense feature groups (0.03 MB) transferred to GPU in 0.005197 secs. 0 sparse feature groups\n",
      "[LightGBM] [Info] Size of histogram bin entry: 8\n",
      "[LightGBM] [Info] 30 dense feature groups (0.02 MB) transferred to GPU in 0.016575 secs. 0 sparse feature groups\n",
      "threshold: 0.5313390367532825\n",
      "AUC-ROC: 0.9905624132460836\n",
      "Accuracy: 0.931910569105691\n",
      "Precision: 0.9914155229141117\n",
      "Confusion Matrix:\n",
      "[[491   1]\n",
      " [ 66 426]]\n",
      "Recall: 0.8658536585365854\n",
      "F1 Score: 0.9270946681175191\n",
      "Updating target policy...\n",
      "Epoch 32/300\n",
      "[LightGBM] [Info] Number of positive: 442, number of negative: 540\n",
      "[LightGBM] [Info] This is the GPU trainer!!\n",
      "[LightGBM] [Info] Total Bins 7650\n",
      "[LightGBM] [Info] Number of data points in the train set: 982, number of used features: 30\n"
     ]
    },
    {
     "name": "stderr",
     "output_type": "stream",
     "text": [
      "c:\\Users\\FH-Deg\\.conda\\envs\\tf_c_gpu\\lib\\site-packages\\lightgbm\\basic.py:1192: UserWarning: Converting data to scipy sparse matrix.\n",
      "  _log_warning('Converting data to scipy sparse matrix.')\n"
     ]
    },
    {
     "name": "stdout",
     "output_type": "stream",
     "text": [
      "[LightGBM] [Info] Using GPU Device: Quadro RTX 4000, Vendor: NVIDIA Corporation\n",
      "[LightGBM] [Info] Compiling OpenCL Kernel with 256 bins...\n",
      "[LightGBM] [Info] GPU programs have been built\n",
      "[LightGBM] [Info] Size of histogram bin entry: 8\n",
      "[LightGBM] [Info] 30 dense feature groups (0.03 MB) transferred to GPU in 0.004188 secs. 0 sparse feature groups\n",
      "[LightGBM] [Info] Size of histogram bin entry: 8\n",
      "[LightGBM] [Info] 30 dense feature groups (0.02 MB) transferred to GPU in 0.004705 secs. 0 sparse feature groups\n",
      "threshold: 0.5322731676061419\n",
      "AUC-ROC: 0.9904880527463811\n",
      "Accuracy: 0.9329268292682927\n",
      "Precision: 0.9913643571607887\n",
      "Confusion Matrix:\n",
      "[[491   1]\n",
      " [ 65 427]]\n",
      "Recall: 0.8678861788617886\n",
      "F1 Score: 0.9282608695652174\n",
      "Epoch 33/300\n",
      "[LightGBM] [Info] Number of positive: 442, number of negative: 540\n",
      "[LightGBM] [Info] This is the GPU trainer!!\n",
      "[LightGBM] [Info] Total Bins 7650\n",
      "[LightGBM] [Info] Number of data points in the train set: 982, number of used features: 30\n"
     ]
    },
    {
     "name": "stderr",
     "output_type": "stream",
     "text": [
      "c:\\Users\\FH-Deg\\.conda\\envs\\tf_c_gpu\\lib\\site-packages\\lightgbm\\basic.py:1192: UserWarning: Converting data to scipy sparse matrix.\n",
      "  _log_warning('Converting data to scipy sparse matrix.')\n"
     ]
    },
    {
     "name": "stdout",
     "output_type": "stream",
     "text": [
      "[LightGBM] [Info] Using GPU Device: Quadro RTX 4000, Vendor: NVIDIA Corporation\n",
      "[LightGBM] [Info] Compiling OpenCL Kernel with 256 bins...\n",
      "[LightGBM] [Info] GPU programs have been built\n",
      "[LightGBM] [Info] Size of histogram bin entry: 8\n",
      "[LightGBM] [Info] 30 dense feature groups (0.03 MB) transferred to GPU in 0.004800 secs. 0 sparse feature groups\n",
      "[LightGBM] [Info] Size of histogram bin entry: 8\n",
      "[LightGBM] [Info] 30 dense feature groups (0.02 MB) transferred to GPU in 0.004396 secs. 0 sparse feature groups\n",
      "threshold: 0.5347990569913929\n",
      "AUC-ROC: 0.9905293641351048\n",
      "Accuracy: 0.931910569105691\n",
      "Precision: 0.9914098162857153\n",
      "Confusion Matrix:\n",
      "[[491   1]\n",
      " [ 66 426]]\n",
      "Recall: 0.8658536585365854\n",
      "F1 Score: 0.9270946681175191\n",
      "Epoch 34/300\n",
      "[LightGBM] [Info] Number of positive: 442, number of negative: 540\n",
      "[LightGBM] [Info] This is the GPU trainer!!\n",
      "[LightGBM] [Info] Total Bins 7650\n",
      "[LightGBM] [Info] Number of data points in the train set: 982, number of used features: 30\n"
     ]
    },
    {
     "name": "stderr",
     "output_type": "stream",
     "text": [
      "c:\\Users\\FH-Deg\\.conda\\envs\\tf_c_gpu\\lib\\site-packages\\lightgbm\\basic.py:1192: UserWarning: Converting data to scipy sparse matrix.\n",
      "  _log_warning('Converting data to scipy sparse matrix.')\n"
     ]
    },
    {
     "name": "stdout",
     "output_type": "stream",
     "text": [
      "[LightGBM] [Info] Using GPU Device: Quadro RTX 4000, Vendor: NVIDIA Corporation\n",
      "[LightGBM] [Info] Compiling OpenCL Kernel with 256 bins...\n",
      "[LightGBM] [Info] GPU programs have been built\n",
      "[LightGBM] [Info] Size of histogram bin entry: 8\n",
      "[LightGBM] [Info] 30 dense feature groups (0.03 MB) transferred to GPU in 0.004486 secs. 0 sparse feature groups\n",
      "[LightGBM] [Info] Size of histogram bin entry: 8\n",
      "[LightGBM] [Info] 30 dense feature groups (0.02 MB) transferred to GPU in 0.006311 secs. 0 sparse feature groups\n",
      "threshold: 0.5350082601394669\n",
      "AUC-ROC: 0.9905417575517217\n",
      "Accuracy: 0.9329268292682927\n",
      "Precision: 0.9914195063012835\n",
      "Confusion Matrix:\n",
      "[[491   1]\n",
      " [ 65 427]]\n",
      "Recall: 0.8678861788617886\n",
      "F1 Score: 0.9282608695652174\n",
      "Updating target policy...\n",
      "Epoch 35/300\n",
      "[LightGBM] [Info] Number of positive: 442, number of negative: 540\n",
      "[LightGBM] [Info] This is the GPU trainer!!\n",
      "[LightGBM] [Info] Total Bins 7650\n",
      "[LightGBM] [Info] Number of data points in the train set: 982, number of used features: 30\n",
      "[LightGBM] [Info] Using GPU Device: Quadro RTX 4000, Vendor: NVIDIA Corporation\n",
      "[LightGBM] [Info] Compiling OpenCL Kernel with 256 bins...\n"
     ]
    },
    {
     "name": "stderr",
     "output_type": "stream",
     "text": [
      "c:\\Users\\FH-Deg\\.conda\\envs\\tf_c_gpu\\lib\\site-packages\\lightgbm\\basic.py:1192: UserWarning: Converting data to scipy sparse matrix.\n",
      "  _log_warning('Converting data to scipy sparse matrix.')\n"
     ]
    },
    {
     "name": "stdout",
     "output_type": "stream",
     "text": [
      "[LightGBM] [Info] GPU programs have been built\n",
      "[LightGBM] [Info] Size of histogram bin entry: 8\n",
      "[LightGBM] [Info] 30 dense feature groups (0.03 MB) transferred to GPU in 0.008880 secs. 0 sparse feature groups\n",
      "[LightGBM] [Info] Size of histogram bin entry: 8\n",
      "[LightGBM] [Info] 30 dense feature groups (0.02 MB) transferred to GPU in 0.004350 secs. 0 sparse feature groups\n",
      "threshold: 0.5367175973451169\n",
      "AUC-ROC: 0.990611986912552\n",
      "Accuracy: 0.9329268292682927\n",
      "Precision: 0.9914898049440493\n",
      "Confusion Matrix:\n",
      "[[491   1]\n",
      " [ 65 427]]\n",
      "Recall: 0.8678861788617886\n",
      "F1 Score: 0.9282608695652174\n",
      "Epoch 36/300\n",
      "[LightGBM] [Info] Number of positive: 442, number of negative: 540\n",
      "[LightGBM] [Info] This is the GPU trainer!!\n",
      "[LightGBM] [Info] Total Bins 7650\n",
      "[LightGBM] [Info] Number of data points in the train set: 982, number of used features: 30\n"
     ]
    },
    {
     "name": "stderr",
     "output_type": "stream",
     "text": [
      "c:\\Users\\FH-Deg\\.conda\\envs\\tf_c_gpu\\lib\\site-packages\\lightgbm\\basic.py:1192: UserWarning: Converting data to scipy sparse matrix.\n",
      "  _log_warning('Converting data to scipy sparse matrix.')\n"
     ]
    },
    {
     "name": "stdout",
     "output_type": "stream",
     "text": [
      "[LightGBM] [Info] Using GPU Device: Quadro RTX 4000, Vendor: NVIDIA Corporation\n",
      "[LightGBM] [Info] Compiling OpenCL Kernel with 256 bins...\n",
      "[LightGBM] [Info] GPU programs have been built\n",
      "[LightGBM] [Info] Size of histogram bin entry: 8\n",
      "[LightGBM] [Info] 30 dense feature groups (0.03 MB) transferred to GPU in 0.004693 secs. 0 sparse feature groups\n",
      "[LightGBM] [Info] Size of histogram bin entry: 8\n",
      "[LightGBM] [Info] 30 dense feature groups (0.02 MB) transferred to GPU in 0.004726 secs. 0 sparse feature groups\n",
      "threshold: 0.5360346350657291\n",
      "AUC-ROC: 0.9905458886905942\n",
      "Accuracy: 0.931910569105691\n",
      "Precision: 0.9914517328456866\n",
      "Confusion Matrix:\n",
      "[[490   2]\n",
      " [ 65 427]]\n",
      "Recall: 0.8678861788617886\n",
      "F1 Score: 0.9272529858849077\n",
      "Epoch 37/300\n",
      "[LightGBM] [Info] Number of positive: 442, number of negative: 540\n",
      "[LightGBM] [Info] This is the GPU trainer!!\n",
      "[LightGBM] [Info] Total Bins 7650\n",
      "[LightGBM] [Info] Number of data points in the train set: 982, number of used features: 30\n"
     ]
    },
    {
     "name": "stderr",
     "output_type": "stream",
     "text": [
      "c:\\Users\\FH-Deg\\.conda\\envs\\tf_c_gpu\\lib\\site-packages\\lightgbm\\basic.py:1192: UserWarning: Converting data to scipy sparse matrix.\n",
      "  _log_warning('Converting data to scipy sparse matrix.')\n"
     ]
    },
    {
     "name": "stdout",
     "output_type": "stream",
     "text": [
      "[LightGBM] [Info] Using GPU Device: Quadro RTX 4000, Vendor: NVIDIA Corporation\n",
      "[LightGBM] [Info] Compiling OpenCL Kernel with 256 bins...\n",
      "[LightGBM] [Info] GPU programs have been built\n",
      "[LightGBM] [Info] Size of histogram bin entry: 8\n",
      "[LightGBM] [Info] 30 dense feature groups (0.03 MB) transferred to GPU in 0.004831 secs. 0 sparse feature groups\n",
      "[LightGBM] [Info] Size of histogram bin entry: 8\n",
      "[LightGBM] [Info] 30 dense feature groups (0.02 MB) transferred to GPU in 0.004322 secs. 0 sparse feature groups\n",
      "threshold: 0.5393682562428587\n",
      "AUC-ROC: 0.9906243803291691\n",
      "Accuracy: 0.9329268292682927\n",
      "Precision: 0.9915176593482163\n",
      "Confusion Matrix:\n",
      "[[491   1]\n",
      " [ 65 427]]\n",
      "Recall: 0.8678861788617886\n",
      "F1 Score: 0.9282608695652174\n",
      "Updating target policy...\n",
      "Epoch 38/300\n",
      "[LightGBM] [Info] Number of positive: 442, number of negative: 540\n",
      "[LightGBM] [Info] This is the GPU trainer!!\n",
      "[LightGBM] [Info] Total Bins 7650\n",
      "[LightGBM] [Info] Number of data points in the train set: 982, number of used features: 30\n"
     ]
    },
    {
     "name": "stderr",
     "output_type": "stream",
     "text": [
      "c:\\Users\\FH-Deg\\.conda\\envs\\tf_c_gpu\\lib\\site-packages\\lightgbm\\basic.py:1192: UserWarning: Converting data to scipy sparse matrix.\n",
      "  _log_warning('Converting data to scipy sparse matrix.')\n"
     ]
    },
    {
     "name": "stdout",
     "output_type": "stream",
     "text": [
      "[LightGBM] [Info] Using GPU Device: Quadro RTX 4000, Vendor: NVIDIA Corporation\n",
      "[LightGBM] [Info] Compiling OpenCL Kernel with 256 bins...\n",
      "[LightGBM] [Info] GPU programs have been built\n",
      "[LightGBM] [Info] Size of histogram bin entry: 8\n",
      "[LightGBM] [Info] 30 dense feature groups (0.03 MB) transferred to GPU in 0.005879 secs. 0 sparse feature groups\n",
      "[LightGBM] [Info] Size of histogram bin entry: 8\n",
      "[LightGBM] [Info] 30 dense feature groups (0.02 MB) transferred to GPU in 0.004377 secs. 0 sparse feature groups\n",
      "threshold: 0.5420803570378337\n",
      "AUC-ROC: 0.9906718884262014\n",
      "Accuracy: 0.9329268292682927\n",
      "Precision: 0.9915386151454899\n",
      "Confusion Matrix:\n",
      "[[491   1]\n",
      " [ 65 427]]\n",
      "Recall: 0.8678861788617886\n",
      "F1 Score: 0.9282608695652174\n",
      "Epoch 39/300\n",
      "[LightGBM] [Info] Number of positive: 442, number of negative: 540\n",
      "[LightGBM] [Info] This is the GPU trainer!!\n",
      "[LightGBM] [Info] Total Bins 7650\n",
      "[LightGBM] [Info] Number of data points in the train set: 982, number of used features: 30\n",
      "[LightGBM] [Info] Using GPU Device: Quadro RTX 4000, Vendor: NVIDIA Corporation\n",
      "[LightGBM] [Info] Compiling OpenCL Kernel with 256 bins...\n",
      "[LightGBM] [Info] GPU programs have been built\n",
      "[LightGBM] [Info] Size of histogram bin entry: 8\n"
     ]
    },
    {
     "name": "stderr",
     "output_type": "stream",
     "text": [
      "c:\\Users\\FH-Deg\\.conda\\envs\\tf_c_gpu\\lib\\site-packages\\lightgbm\\basic.py:1192: UserWarning: Converting data to scipy sparse matrix.\n",
      "  _log_warning('Converting data to scipy sparse matrix.')\n"
     ]
    },
    {
     "name": "stdout",
     "output_type": "stream",
     "text": [
      "[LightGBM] [Info] 30 dense feature groups (0.03 MB) transferred to GPU in 0.009217 secs. 0 sparse feature groups\n",
      "[LightGBM] [Info] Size of histogram bin entry: 8\n",
      "[LightGBM] [Info] 30 dense feature groups (0.02 MB) transferred to GPU in 0.004297 secs. 0 sparse feature groups\n",
      "threshold: 0.5429532815352361\n",
      "AUC-ROC: 0.990667757287329\n",
      "Accuracy: 0.9329268292682927\n",
      "Precision: 0.991522513435413\n",
      "Confusion Matrix:\n",
      "[[491   1]\n",
      " [ 65 427]]\n",
      "Recall: 0.8678861788617886\n",
      "F1 Score: 0.9282608695652174\n",
      "Epoch 40/300\n",
      "[LightGBM] [Info] Number of positive: 442, number of negative: 540\n",
      "[LightGBM] [Info] This is the GPU trainer!!\n",
      "[LightGBM] [Info] Total Bins 7650\n",
      "[LightGBM] [Info] Number of data points in the train set: 982, number of used features: 30\n"
     ]
    },
    {
     "name": "stderr",
     "output_type": "stream",
     "text": [
      "c:\\Users\\FH-Deg\\.conda\\envs\\tf_c_gpu\\lib\\site-packages\\lightgbm\\basic.py:1192: UserWarning: Converting data to scipy sparse matrix.\n",
      "  _log_warning('Converting data to scipy sparse matrix.')\n"
     ]
    },
    {
     "name": "stdout",
     "output_type": "stream",
     "text": [
      "[LightGBM] [Info] Using GPU Device: Quadro RTX 4000, Vendor: NVIDIA Corporation\n",
      "[LightGBM] [Info] Compiling OpenCL Kernel with 256 bins...\n",
      "[LightGBM] [Info] GPU programs have been built\n",
      "[LightGBM] [Info] Size of histogram bin entry: 8\n",
      "[LightGBM] [Info] 30 dense feature groups (0.03 MB) transferred to GPU in 0.004706 secs. 0 sparse feature groups\n",
      "[LightGBM] [Info] Size of histogram bin entry: 8\n",
      "[LightGBM] [Info] 30 dense feature groups (0.02 MB) transferred to GPU in 0.004675 secs. 0 sparse feature groups\n",
      "threshold: 0.5434138791425464\n",
      "AUC-ROC: 0.990837133981096\n",
      "Accuracy: 0.9339430894308943\n",
      "Precision: 0.9916690782337301\n",
      "Confusion Matrix:\n",
      "[[491   1]\n",
      " [ 64 428]]\n",
      "Recall: 0.8699186991869918\n",
      "F1 Score: 0.9294245385450597\n",
      "Updating target policy...\n",
      "Epoch 41/300\n",
      "[LightGBM] [Info] Number of positive: 442, number of negative: 540\n",
      "[LightGBM] [Info] This is the GPU trainer!!\n",
      "[LightGBM] [Info] Total Bins 7650\n",
      "[LightGBM] [Info] Number of data points in the train set: 982, number of used features: 30\n"
     ]
    },
    {
     "name": "stderr",
     "output_type": "stream",
     "text": [
      "c:\\Users\\FH-Deg\\.conda\\envs\\tf_c_gpu\\lib\\site-packages\\lightgbm\\basic.py:1192: UserWarning: Converting data to scipy sparse matrix.\n",
      "  _log_warning('Converting data to scipy sparse matrix.')\n"
     ]
    },
    {
     "name": "stdout",
     "output_type": "stream",
     "text": [
      "[LightGBM] [Info] Using GPU Device: Quadro RTX 4000, Vendor: NVIDIA Corporation\n",
      "[LightGBM] [Info] Compiling OpenCL Kernel with 256 bins...\n",
      "[LightGBM] [Info] GPU programs have been built\n",
      "[LightGBM] [Info] Size of histogram bin entry: 8\n",
      "[LightGBM] [Info] 30 dense feature groups (0.03 MB) transferred to GPU in 0.009141 secs. 0 sparse feature groups\n",
      "[LightGBM] [Info] Size of histogram bin entry: 8\n",
      "[LightGBM] [Info] 30 dense feature groups (0.02 MB) transferred to GPU in 0.004734 secs. 0 sparse feature groups\n",
      "threshold: 0.5435413122140165\n",
      "AUC-ROC: 0.9909197567585433\n",
      "Accuracy: 0.9329268292682927\n",
      "Precision: 0.9917466617199383\n",
      "Confusion Matrix:\n",
      "[[490   2]\n",
      " [ 64 428]]\n",
      "Recall: 0.8699186991869918\n",
      "F1 Score: 0.928416485900217\n",
      "Epoch 42/300\n",
      "[LightGBM] [Info] Number of positive: 442, number of negative: 540\n",
      "[LightGBM] [Info] This is the GPU trainer!!\n",
      "[LightGBM] [Info] Total Bins 7650\n",
      "[LightGBM] [Info] Number of data points in the train set: 982, number of used features: 30\n"
     ]
    },
    {
     "name": "stderr",
     "output_type": "stream",
     "text": [
      "c:\\Users\\FH-Deg\\.conda\\envs\\tf_c_gpu\\lib\\site-packages\\lightgbm\\basic.py:1192: UserWarning: Converting data to scipy sparse matrix.\n",
      "  _log_warning('Converting data to scipy sparse matrix.')\n"
     ]
    },
    {
     "name": "stdout",
     "output_type": "stream",
     "text": [
      "[LightGBM] [Info] Using GPU Device: Quadro RTX 4000, Vendor: NVIDIA Corporation\n",
      "[LightGBM] [Info] Compiling OpenCL Kernel with 256 bins...\n",
      "[LightGBM] [Info] GPU programs have been built\n",
      "[LightGBM] [Info] Size of histogram bin entry: 8\n",
      "[LightGBM] [Info] 30 dense feature groups (0.03 MB) transferred to GPU in 0.009021 secs. 0 sparse feature groups\n",
      "[LightGBM] [Info] Size of histogram bin entry: 8\n",
      "[LightGBM] [Info] 30 dense feature groups (0.02 MB) transferred to GPU in 0.004363 secs. 0 sparse feature groups\n",
      "threshold: 0.5447061276769685\n",
      "AUC-ROC: 0.9909569370083944\n",
      "Accuracy: 0.9339430894308943\n",
      "Precision: 0.991787746946913\n",
      "Confusion Matrix:\n",
      "[[490   2]\n",
      " [ 63 429]]\n",
      "Recall: 0.8719512195121951\n",
      "F1 Score: 0.9295774647887324\n",
      "Epoch 43/300\n",
      "[LightGBM] [Info] Number of positive: 442, number of negative: 540\n",
      "[LightGBM] [Info] This is the GPU trainer!!\n",
      "[LightGBM] [Info] Total Bins 7650\n",
      "[LightGBM] [Info] Number of data points in the train set: 982, number of used features: 30\n",
      "[LightGBM] [Info] Using GPU Device: Quadro RTX 4000, Vendor: NVIDIA Corporation\n",
      "[LightGBM] [Info] Compiling OpenCL Kernel with 256 bins...\n",
      "[LightGBM] [Info] GPU programs have been built\n",
      "[LightGBM] [Info] Size of histogram bin entry: 8\n"
     ]
    },
    {
     "name": "stderr",
     "output_type": "stream",
     "text": [
      "c:\\Users\\FH-Deg\\.conda\\envs\\tf_c_gpu\\lib\\site-packages\\lightgbm\\basic.py:1192: UserWarning: Converting data to scipy sparse matrix.\n",
      "  _log_warning('Converting data to scipy sparse matrix.')\n"
     ]
    },
    {
     "name": "stdout",
     "output_type": "stream",
     "text": [
      "[LightGBM] [Info] 30 dense feature groups (0.03 MB) transferred to GPU in 0.010182 secs. 0 sparse feature groups\n",
      "[LightGBM] [Info] Size of histogram bin entry: 8\n",
      "[LightGBM] [Info] 30 dense feature groups (0.02 MB) transferred to GPU in 0.004431 secs. 0 sparse feature groups\n",
      "threshold: 0.5453864702858222\n",
      "AUC-ROC: 0.9908867076475643\n",
      "Accuracy: 0.9329268292682927\n",
      "Precision: 0.9917284498098422\n",
      "Confusion Matrix:\n",
      "[[490   2]\n",
      " [ 64 428]]\n",
      "Recall: 0.8699186991869918\n",
      "F1 Score: 0.928416485900217\n",
      "Updating target policy...\n",
      "Epoch 44/300\n",
      "[LightGBM] [Info] Number of positive: 442, number of negative: 540\n",
      "[LightGBM] [Info] This is the GPU trainer!!\n",
      "[LightGBM] [Info] Total Bins 7650\n",
      "[LightGBM] [Info] Number of data points in the train set: 982, number of used features: 30\n"
     ]
    },
    {
     "name": "stderr",
     "output_type": "stream",
     "text": [
      "c:\\Users\\FH-Deg\\.conda\\envs\\tf_c_gpu\\lib\\site-packages\\lightgbm\\basic.py:1192: UserWarning: Converting data to scipy sparse matrix.\n",
      "  _log_warning('Converting data to scipy sparse matrix.')\n"
     ]
    },
    {
     "name": "stdout",
     "output_type": "stream",
     "text": [
      "[LightGBM] [Info] Using GPU Device: Quadro RTX 4000, Vendor: NVIDIA Corporation\n",
      "[LightGBM] [Info] Compiling OpenCL Kernel with 256 bins...\n",
      "[LightGBM] [Info] GPU programs have been built\n",
      "[LightGBM] [Info] Size of histogram bin entry: 8\n",
      "[LightGBM] [Info] 30 dense feature groups (0.03 MB) transferred to GPU in 0.004774 secs. 0 sparse feature groups\n",
      "[LightGBM] [Info] Size of histogram bin entry: 8\n",
      "[LightGBM] [Info] 30 dense feature groups (0.02 MB) transferred to GPU in 0.004808 secs. 0 sparse feature groups\n",
      "threshold: 0.5441801640823056\n",
      "AUC-ROC: 0.9908577896754577\n",
      "Accuracy: 0.9329268292682927\n",
      "Precision: 0.9917127863477643\n",
      "Confusion Matrix:\n",
      "[[489   3]\n",
      " [ 63 429]]\n",
      "Recall: 0.8719512195121951\n",
      "F1 Score: 0.9285714285714286\n",
      "Epoch 45/300\n",
      "[LightGBM] [Info] Number of positive: 442, number of negative: 540\n",
      "[LightGBM] [Info] This is the GPU trainer!!\n",
      "[LightGBM] [Info] Total Bins 7650\n",
      "[LightGBM] [Info] Number of data points in the train set: 982, number of used features: 30\n"
     ]
    },
    {
     "name": "stderr",
     "output_type": "stream",
     "text": [
      "c:\\Users\\FH-Deg\\.conda\\envs\\tf_c_gpu\\lib\\site-packages\\lightgbm\\basic.py:1192: UserWarning: Converting data to scipy sparse matrix.\n",
      "  _log_warning('Converting data to scipy sparse matrix.')\n"
     ]
    },
    {
     "name": "stdout",
     "output_type": "stream",
     "text": [
      "[LightGBM] [Info] Using GPU Device: Quadro RTX 4000, Vendor: NVIDIA Corporation\n",
      "[LightGBM] [Info] Compiling OpenCL Kernel with 256 bins...\n",
      "[LightGBM] [Info] GPU programs have been built\n",
      "[LightGBM] [Info] Size of histogram bin entry: 8\n",
      "[LightGBM] [Info] 30 dense feature groups (0.03 MB) transferred to GPU in 0.004730 secs. 0 sparse feature groups\n",
      "[LightGBM] [Info] Size of histogram bin entry: 8\n",
      "[LightGBM] [Info] 30 dense feature groups (0.02 MB) transferred to GPU in 0.014272 secs. 0 sparse feature groups\n",
      "threshold: 0.5437385301349447\n",
      "AUC-ROC: 0.9908412651199684\n",
      "Accuracy: 0.9339430894308943\n",
      "Precision: 0.9917001381507449\n",
      "Confusion Matrix:\n",
      "[[489   3]\n",
      " [ 62 430]]\n",
      "Recall: 0.8739837398373984\n",
      "F1 Score: 0.9297297297297298\n",
      "Epoch 46/300\n",
      "[LightGBM] [Info] Number of positive: 442, number of negative: 540\n",
      "[LightGBM] [Info] This is the GPU trainer!!\n",
      "[LightGBM] [Info] Total Bins 7650\n",
      "[LightGBM] [Info] Number of data points in the train set: 982, number of used features: 30\n"
     ]
    },
    {
     "name": "stderr",
     "output_type": "stream",
     "text": [
      "c:\\Users\\FH-Deg\\.conda\\envs\\tf_c_gpu\\lib\\site-packages\\lightgbm\\basic.py:1192: UserWarning: Converting data to scipy sparse matrix.\n",
      "  _log_warning('Converting data to scipy sparse matrix.')\n"
     ]
    },
    {
     "name": "stdout",
     "output_type": "stream",
     "text": [
      "[LightGBM] [Info] Using GPU Device: Quadro RTX 4000, Vendor: NVIDIA Corporation\n",
      "[LightGBM] [Info] Compiling OpenCL Kernel with 256 bins...\n",
      "[LightGBM] [Info] GPU programs have been built\n",
      "[LightGBM] [Info] Size of histogram bin entry: 8\n",
      "[LightGBM] [Info] 30 dense feature groups (0.03 MB) transferred to GPU in 0.004691 secs. 0 sparse feature groups\n",
      "[LightGBM] [Info] Size of histogram bin entry: 8\n",
      "[LightGBM] [Info] 30 dense feature groups (0.02 MB) transferred to GPU in 0.004456 secs. 0 sparse feature groups\n",
      "threshold: 0.544770223627599\n",
      "AUC-ROC: 0.9909073633419261\n",
      "Accuracy: 0.9339430894308943\n",
      "Precision: 0.9917620609272931\n",
      "Confusion Matrix:\n",
      "[[489   3]\n",
      " [ 62 430]]\n",
      "Recall: 0.8739837398373984\n",
      "F1 Score: 0.9297297297297298\n",
      "Updating target policy...\n",
      "Epoch 47/300\n",
      "[LightGBM] [Info] Number of positive: 442, number of negative: 540\n",
      "[LightGBM] [Info] This is the GPU trainer!!\n",
      "[LightGBM] [Info] Total Bins 7650\n",
      "[LightGBM] [Info] Number of data points in the train set: 982, number of used features: 30\n",
      "[LightGBM] [Info] Using GPU Device: Quadro RTX 4000, Vendor: NVIDIA Corporation\n",
      "[LightGBM] [Info] Compiling OpenCL Kernel with 256 bins...\n"
     ]
    },
    {
     "name": "stderr",
     "output_type": "stream",
     "text": [
      "c:\\Users\\FH-Deg\\.conda\\envs\\tf_c_gpu\\lib\\site-packages\\lightgbm\\basic.py:1192: UserWarning: Converting data to scipy sparse matrix.\n",
      "  _log_warning('Converting data to scipy sparse matrix.')\n"
     ]
    },
    {
     "name": "stdout",
     "output_type": "stream",
     "text": [
      "[LightGBM] [Info] GPU programs have been built\n",
      "[LightGBM] [Info] Size of histogram bin entry: 8\n",
      "[LightGBM] [Info] 30 dense feature groups (0.03 MB) transferred to GPU in 0.006900 secs. 0 sparse feature groups\n",
      "[LightGBM] [Info] Size of histogram bin entry: 8\n",
      "[LightGBM] [Info] 30 dense feature groups (0.02 MB) transferred to GPU in 0.013333 secs. 0 sparse feature groups\n",
      "threshold: 0.5449964907833634\n",
      "AUC-ROC: 0.9909362813140326\n",
      "Accuracy: 0.9339430894308943\n",
      "Precision: 0.9917793998742531\n",
      "Confusion Matrix:\n",
      "[[489   3]\n",
      " [ 62 430]]\n",
      "Recall: 0.8739837398373984\n",
      "F1 Score: 0.9297297297297298\n",
      "Epoch 48/300\n",
      "[LightGBM] [Info] Number of positive: 442, number of negative: 540\n",
      "[LightGBM] [Info] This is the GPU trainer!!\n",
      "[LightGBM] [Info] Total Bins 7650\n",
      "[LightGBM] [Info] Number of data points in the train set: 982, number of used features: 30\n"
     ]
    },
    {
     "name": "stderr",
     "output_type": "stream",
     "text": [
      "c:\\Users\\FH-Deg\\.conda\\envs\\tf_c_gpu\\lib\\site-packages\\lightgbm\\basic.py:1192: UserWarning: Converting data to scipy sparse matrix.\n",
      "  _log_warning('Converting data to scipy sparse matrix.')\n"
     ]
    },
    {
     "name": "stdout",
     "output_type": "stream",
     "text": [
      "[LightGBM] [Info] Using GPU Device: Quadro RTX 4000, Vendor: NVIDIA Corporation\n",
      "[LightGBM] [Info] Compiling OpenCL Kernel with 256 bins...\n",
      "[LightGBM] [Info] GPU programs have been built\n",
      "[LightGBM] [Info] Size of histogram bin entry: 8\n",
      "[LightGBM] [Info] 30 dense feature groups (0.03 MB) transferred to GPU in 0.004854 secs. 0 sparse feature groups\n",
      "[LightGBM] [Info] Size of histogram bin entry: 8\n",
      "[LightGBM] [Info] 30 dense feature groups (0.02 MB) transferred to GPU in 0.012271 secs. 0 sparse feature groups\n",
      "threshold: 0.5509220858332226\n",
      "AUC-ROC: 0.9910684777579483\n",
      "Accuracy: 0.9329268292682927\n",
      "Precision: 0.9918853495960824\n",
      "Confusion Matrix:\n",
      "[[489   3]\n",
      " [ 63 429]]\n",
      "Recall: 0.8719512195121951\n",
      "F1 Score: 0.9285714285714286\n",
      "Epoch 49/300\n",
      "[LightGBM] [Info] Number of positive: 442, number of negative: 540\n",
      "[LightGBM] [Info] This is the GPU trainer!!\n",
      "[LightGBM] [Info] Total Bins 7650\n",
      "[LightGBM] [Info] Number of data points in the train set: 982, number of used features: 30\n",
      "[LightGBM] [Info] Using GPU Device: Quadro RTX 4000, Vendor: NVIDIA Corporation\n",
      "[LightGBM] [Info] Compiling OpenCL Kernel with 256 bins...\n"
     ]
    },
    {
     "name": "stderr",
     "output_type": "stream",
     "text": [
      "c:\\Users\\FH-Deg\\.conda\\envs\\tf_c_gpu\\lib\\site-packages\\lightgbm\\basic.py:1192: UserWarning: Converting data to scipy sparse matrix.\n",
      "  _log_warning('Converting data to scipy sparse matrix.')\n"
     ]
    },
    {
     "name": "stdout",
     "output_type": "stream",
     "text": [
      "[LightGBM] [Info] GPU programs have been built\n",
      "[LightGBM] [Info] Size of histogram bin entry: 8\n",
      "[LightGBM] [Info] 30 dense feature groups (0.03 MB) transferred to GPU in 0.013099 secs. 0 sparse feature groups\n",
      "[LightGBM] [Info] Size of histogram bin entry: 8\n",
      "[LightGBM] [Info] 30 dense feature groups (0.02 MB) transferred to GPU in 0.004493 secs. 0 sparse feature groups\n",
      "threshold: 0.552283217612449\n",
      "AUC-ROC: 0.9910808711745653\n",
      "Accuracy: 0.9329268292682927\n",
      "Precision: 0.9919001612355937\n",
      "Confusion Matrix:\n",
      "[[489   3]\n",
      " [ 63 429]]\n",
      "Recall: 0.8719512195121951\n",
      "F1 Score: 0.9285714285714286\n",
      "Updating target policy...\n",
      "Epoch 50/300\n",
      "[LightGBM] [Info] Number of positive: 442, number of negative: 540\n",
      "[LightGBM] [Info] This is the GPU trainer!!\n",
      "[LightGBM] [Info] Total Bins 7650\n",
      "[LightGBM] [Info] Number of data points in the train set: 982, number of used features: 30\n"
     ]
    },
    {
     "name": "stderr",
     "output_type": "stream",
     "text": [
      "c:\\Users\\FH-Deg\\.conda\\envs\\tf_c_gpu\\lib\\site-packages\\lightgbm\\basic.py:1192: UserWarning: Converting data to scipy sparse matrix.\n",
      "  _log_warning('Converting data to scipy sparse matrix.')\n"
     ]
    },
    {
     "name": "stdout",
     "output_type": "stream",
     "text": [
      "[LightGBM] [Info] Using GPU Device: Quadro RTX 4000, Vendor: NVIDIA Corporation\n",
      "[LightGBM] [Info] Compiling OpenCL Kernel with 256 bins...\n",
      "[LightGBM] [Info] GPU programs have been built\n",
      "[LightGBM] [Info] Size of histogram bin entry: 8\n",
      "[LightGBM] [Info] 30 dense feature groups (0.03 MB) transferred to GPU in 0.005684 secs. 0 sparse feature groups\n",
      "[LightGBM] [Info] Size of histogram bin entry: 8\n",
      "[LightGBM] [Info] 30 dense feature groups (0.02 MB) transferred to GPU in 0.004621 secs. 0 sparse feature groups\n",
      "threshold: 0.5525248576187873\n",
      "AUC-ROC: 0.9910973957300548\n",
      "Accuracy: 0.9329268292682927\n",
      "Precision: 0.9919110922732702\n",
      "Confusion Matrix:\n",
      "[[489   3]\n",
      " [ 63 429]]\n",
      "Recall: 0.8719512195121951\n",
      "F1 Score: 0.9285714285714286\n",
      "Epoch 51/300\n",
      "[LightGBM] [Info] Number of positive: 442, number of negative: 540\n",
      "[LightGBM] [Info] This is the GPU trainer!!\n",
      "[LightGBM] [Info] Total Bins 7650\n",
      "[LightGBM] [Info] Number of data points in the train set: 982, number of used features: 30\n",
      "[LightGBM] [Info] Using GPU Device: Quadro RTX 4000, Vendor: NVIDIA Corporation\n",
      "[LightGBM] [Info] Compiling OpenCL Kernel with 256 bins...\n"
     ]
    },
    {
     "name": "stderr",
     "output_type": "stream",
     "text": [
      "c:\\Users\\FH-Deg\\.conda\\envs\\tf_c_gpu\\lib\\site-packages\\lightgbm\\basic.py:1192: UserWarning: Converting data to scipy sparse matrix.\n",
      "  _log_warning('Converting data to scipy sparse matrix.')\n"
     ]
    },
    {
     "name": "stdout",
     "output_type": "stream",
     "text": [
      "[LightGBM] [Info] GPU programs have been built\n",
      "[LightGBM] [Info] Size of histogram bin entry: 8\n",
      "[LightGBM] [Info] 30 dense feature groups (0.03 MB) transferred to GPU in 0.005064 secs. 0 sparse feature groups\n",
      "[LightGBM] [Info] Size of histogram bin entry: 8\n",
      "[LightGBM] [Info] 30 dense feature groups (0.02 MB) transferred to GPU in 0.004640 secs. 0 sparse feature groups\n",
      "threshold: 0.5609419903341203\n",
      "AUC-ROC: 0.9911924119241193\n",
      "Accuracy: 0.9288617886178862\n",
      "Precision: 0.9919516675855659\n",
      "Confusion Matrix:\n",
      "[[490   2]\n",
      " [ 68 424]]\n",
      "Recall: 0.8617886178861789\n",
      "F1 Score: 0.9237472766884531\n",
      "Epoch 52/300\n",
      "[LightGBM] [Info] Number of positive: 442, number of negative: 540\n",
      "[LightGBM] [Info] This is the GPU trainer!!\n",
      "[LightGBM] [Info] Total Bins 7650\n",
      "[LightGBM] [Info] Number of data points in the train set: 982, number of used features: 30\n"
     ]
    },
    {
     "name": "stderr",
     "output_type": "stream",
     "text": [
      "c:\\Users\\FH-Deg\\.conda\\envs\\tf_c_gpu\\lib\\site-packages\\lightgbm\\basic.py:1192: UserWarning: Converting data to scipy sparse matrix.\n",
      "  _log_warning('Converting data to scipy sparse matrix.')\n"
     ]
    },
    {
     "name": "stdout",
     "output_type": "stream",
     "text": [
      "[LightGBM] [Info] Using GPU Device: Quadro RTX 4000, Vendor: NVIDIA Corporation\n",
      "[LightGBM] [Info] Compiling OpenCL Kernel with 256 bins...\n",
      "[LightGBM] [Info] GPU programs have been built\n",
      "[LightGBM] [Info] Size of histogram bin entry: 8\n",
      "[LightGBM] [Info] 30 dense feature groups (0.03 MB) transferred to GPU in 0.004747 secs. 0 sparse feature groups\n",
      "[LightGBM] [Info] Size of histogram bin entry: 8\n",
      "[LightGBM] [Info] 30 dense feature groups (0.02 MB) transferred to GPU in 0.004399 secs. 0 sparse feature groups\n",
      "threshold: 0.5620308668319797\n",
      "AUC-ROC: 0.9911841496463746\n",
      "Accuracy: 0.9329268292682927\n",
      "Precision: 0.991954349393736\n",
      "Confusion Matrix:\n",
      "[[490   2]\n",
      " [ 64 428]]\n",
      "Recall: 0.8699186991869918\n",
      "F1 Score: 0.928416485900217\n",
      "Updating target policy...\n",
      "Epoch 53/300\n",
      "[LightGBM] [Info] Number of positive: 442, number of negative: 540\n",
      "[LightGBM] [Info] This is the GPU trainer!!\n",
      "[LightGBM] [Info] Total Bins 7650\n",
      "[LightGBM] [Info] Number of data points in the train set: 982, number of used features: 30\n",
      "[LightGBM] [Info] Using GPU Device: Quadro RTX 4000, Vendor: NVIDIA Corporation\n",
      "[LightGBM] [Info] Compiling OpenCL Kernel with 256 bins...\n"
     ]
    },
    {
     "name": "stderr",
     "output_type": "stream",
     "text": [
      "c:\\Users\\FH-Deg\\.conda\\envs\\tf_c_gpu\\lib\\site-packages\\lightgbm\\basic.py:1192: UserWarning: Converting data to scipy sparse matrix.\n",
      "  _log_warning('Converting data to scipy sparse matrix.')\n"
     ]
    },
    {
     "name": "stdout",
     "output_type": "stream",
     "text": [
      "[LightGBM] [Info] GPU programs have been built\n",
      "[LightGBM] [Info] Size of histogram bin entry: 8\n",
      "[LightGBM] [Info] 30 dense feature groups (0.03 MB) transferred to GPU in 0.024418 secs. 0 sparse feature groups\n",
      "[LightGBM] [Info] Size of histogram bin entry: 8\n",
      "[LightGBM] [Info] 30 dense feature groups (0.02 MB) transferred to GPU in 0.015743 secs. 0 sparse feature groups\n",
      "threshold: 0.561626181560521\n",
      "AUC-ROC: 0.9912667724238218\n",
      "Accuracy: 0.931910569105691\n",
      "Precision: 0.9920268383846464\n",
      "Confusion Matrix:\n",
      "[[489   3]\n",
      " [ 64 428]]\n",
      "Recall: 0.8699186991869918\n",
      "F1 Score: 0.9274106175514626\n",
      "Epoch 54/300\n",
      "[LightGBM] [Info] Number of positive: 442, number of negative: 540\n",
      "[LightGBM] [Info] This is the GPU trainer!!\n",
      "[LightGBM] [Info] Total Bins 7650\n",
      "[LightGBM] [Info] Number of data points in the train set: 982, number of used features: 30\n",
      "[LightGBM] [Info] Using GPU Device: Quadro RTX 4000, Vendor: NVIDIA Corporation\n",
      "[LightGBM] [Info] Compiling OpenCL Kernel with 256 bins...\n"
     ]
    },
    {
     "name": "stderr",
     "output_type": "stream",
     "text": [
      "c:\\Users\\FH-Deg\\.conda\\envs\\tf_c_gpu\\lib\\site-packages\\lightgbm\\basic.py:1192: UserWarning: Converting data to scipy sparse matrix.\n",
      "  _log_warning('Converting data to scipy sparse matrix.')\n"
     ]
    },
    {
     "name": "stdout",
     "output_type": "stream",
     "text": [
      "[LightGBM] [Info] GPU programs have been built\n",
      "[LightGBM] [Info] Size of histogram bin entry: 8\n",
      "[LightGBM] [Info] 30 dense feature groups (0.03 MB) transferred to GPU in 0.004621 secs. 0 sparse feature groups\n",
      "[LightGBM] [Info] Size of histogram bin entry: 8\n",
      "[LightGBM] [Info] 30 dense feature groups (0.02 MB) transferred to GPU in 0.004216 secs. 0 sparse feature groups\n",
      "threshold: 0.5621375325913224\n",
      "AUC-ROC: 0.9912419855905876\n",
      "Accuracy: 0.9329268292682927\n",
      "Precision: 0.9920050839996506\n",
      "Confusion Matrix:\n",
      "[[489   3]\n",
      " [ 63 429]]\n",
      "Recall: 0.8719512195121951\n",
      "F1 Score: 0.9285714285714286\n",
      "Epoch 55/300\n",
      "[LightGBM] [Info] Number of positive: 442, number of negative: 540\n",
      "[LightGBM] [Info] This is the GPU trainer!!\n",
      "[LightGBM] [Info] Total Bins 7650\n",
      "[LightGBM] [Info] Number of data points in the train set: 982, number of used features: 30\n",
      "[LightGBM] [Info] Using GPU Device: Quadro RTX 4000, Vendor: NVIDIA Corporation\n",
      "[LightGBM] [Info] Compiling OpenCL Kernel with 256 bins...\n"
     ]
    },
    {
     "name": "stderr",
     "output_type": "stream",
     "text": [
      "c:\\Users\\FH-Deg\\.conda\\envs\\tf_c_gpu\\lib\\site-packages\\lightgbm\\basic.py:1192: UserWarning: Converting data to scipy sparse matrix.\n",
      "  _log_warning('Converting data to scipy sparse matrix.')\n"
     ]
    },
    {
     "name": "stdout",
     "output_type": "stream",
     "text": [
      "[LightGBM] [Info] GPU programs have been built\n",
      "[LightGBM] [Info] Size of histogram bin entry: 8\n",
      "[LightGBM] [Info] 30 dense feature groups (0.03 MB) transferred to GPU in 0.005933 secs. 0 sparse feature groups\n",
      "[LightGBM] [Info] Size of histogram bin entry: 8\n",
      "[LightGBM] [Info] 30 dense feature groups (0.02 MB) transferred to GPU in 0.004542 secs. 0 sparse feature groups\n",
      "threshold: 0.5656314724074011\n",
      "AUC-ROC: 0.99124611672946\n",
      "Accuracy: 0.9329268292682927\n",
      "Precision: 0.9919983763455958\n",
      "Confusion Matrix:\n",
      "[[489   3]\n",
      " [ 63 429]]\n",
      "Recall: 0.8719512195121951\n",
      "F1 Score: 0.9285714285714286\n",
      "Updating target policy...\n",
      "Epoch 56/300\n",
      "[LightGBM] [Info] Number of positive: 442, number of negative: 540\n",
      "[LightGBM] [Info] This is the GPU trainer!!\n",
      "[LightGBM] [Info] Total Bins 7650\n",
      "[LightGBM] [Info] Number of data points in the train set: 982, number of used features: 30\n"
     ]
    },
    {
     "name": "stderr",
     "output_type": "stream",
     "text": [
      "c:\\Users\\FH-Deg\\.conda\\envs\\tf_c_gpu\\lib\\site-packages\\lightgbm\\basic.py:1192: UserWarning: Converting data to scipy sparse matrix.\n",
      "  _log_warning('Converting data to scipy sparse matrix.')\n"
     ]
    },
    {
     "name": "stdout",
     "output_type": "stream",
     "text": [
      "[LightGBM] [Info] Using GPU Device: Quadro RTX 4000, Vendor: NVIDIA Corporation\n",
      "[LightGBM] [Info] Compiling OpenCL Kernel with 256 bins...\n",
      "[LightGBM] [Info] GPU programs have been built\n",
      "[LightGBM] [Info] Size of histogram bin entry: 8\n",
      "[LightGBM] [Info] 30 dense feature groups (0.03 MB) transferred to GPU in 0.005249 secs. 0 sparse feature groups\n",
      "[LightGBM] [Info] Size of histogram bin entry: 8\n",
      "[LightGBM] [Info] 30 dense feature groups (0.02 MB) transferred to GPU in 0.004069 secs. 0 sparse feature groups\n",
      "threshold: 0.5706684668491034\n",
      "AUC-ROC: 0.9913080838125454\n",
      "Accuracy: 0.9308943089430894\n",
      "Precision: 0.9920369720812664\n",
      "Confusion Matrix:\n",
      "[[491   1]\n",
      " [ 67 425]]\n",
      "Recall: 0.8638211382113821\n",
      "F1 Score: 0.9259259259259259\n",
      "Epoch 57/300\n",
      "[LightGBM] [Info] Number of positive: 442, number of negative: 540\n",
      "[LightGBM] [Info] This is the GPU trainer!!\n",
      "[LightGBM] [Info] Total Bins 7650\n",
      "[LightGBM] [Info] Number of data points in the train set: 982, number of used features: 30\n"
     ]
    },
    {
     "name": "stderr",
     "output_type": "stream",
     "text": [
      "c:\\Users\\FH-Deg\\.conda\\envs\\tf_c_gpu\\lib\\site-packages\\lightgbm\\basic.py:1192: UserWarning: Converting data to scipy sparse matrix.\n",
      "  _log_warning('Converting data to scipy sparse matrix.')\n"
     ]
    },
    {
     "name": "stdout",
     "output_type": "stream",
     "text": [
      "[LightGBM] [Info] Using GPU Device: Quadro RTX 4000, Vendor: NVIDIA Corporation\n",
      "[LightGBM] [Info] Compiling OpenCL Kernel with 256 bins...\n",
      "[LightGBM] [Info] GPU programs have been built\n",
      "[LightGBM] [Info] Size of histogram bin entry: 8\n",
      "[LightGBM] [Info] 30 dense feature groups (0.03 MB) transferred to GPU in 0.005162 secs. 0 sparse feature groups\n",
      "[LightGBM] [Info] Size of histogram bin entry: 8\n",
      "[LightGBM] [Info] 30 dense feature groups (0.02 MB) transferred to GPU in 0.004705 secs. 0 sparse feature groups\n",
      "threshold: 0.5706542999734899\n",
      "AUC-ROC: 0.9913783131733758\n",
      "Accuracy: 0.9329268292682927\n",
      "Precision: 0.9920932285109876\n",
      "Confusion Matrix:\n",
      "[[490   2]\n",
      " [ 64 428]]\n",
      "Recall: 0.8699186991869918\n",
      "F1 Score: 0.928416485900217\n",
      "Epoch 58/300\n",
      "[LightGBM] [Info] Number of positive: 442, number of negative: 540\n",
      "[LightGBM] [Info] This is the GPU trainer!!\n",
      "[LightGBM] [Info] Total Bins 7650\n",
      "[LightGBM] [Info] Number of data points in the train set: 982, number of used features: 30\n"
     ]
    },
    {
     "name": "stderr",
     "output_type": "stream",
     "text": [
      "c:\\Users\\FH-Deg\\.conda\\envs\\tf_c_gpu\\lib\\site-packages\\lightgbm\\basic.py:1192: UserWarning: Converting data to scipy sparse matrix.\n",
      "  _log_warning('Converting data to scipy sparse matrix.')\n"
     ]
    },
    {
     "name": "stdout",
     "output_type": "stream",
     "text": [
      "[LightGBM] [Info] Using GPU Device: Quadro RTX 4000, Vendor: NVIDIA Corporation\n",
      "[LightGBM] [Info] Compiling OpenCL Kernel with 256 bins...\n",
      "[LightGBM] [Info] GPU programs have been built\n",
      "[LightGBM] [Info] Size of histogram bin entry: 8\n",
      "[LightGBM] [Info] 30 dense feature groups (0.03 MB) transferred to GPU in 0.004779 secs. 0 sparse feature groups\n",
      "[LightGBM] [Info] Size of histogram bin entry: 8\n",
      "[LightGBM] [Info] 30 dense feature groups (0.02 MB) transferred to GPU in 0.004488 secs. 0 sparse feature groups\n",
      "threshold: 0.571983568901834\n",
      "AUC-ROC: 0.9914031000066099\n",
      "Accuracy: 0.9329268292682927\n",
      "Precision: 0.9921183478743452\n",
      "Confusion Matrix:\n",
      "[[491   1]\n",
      " [ 65 427]]\n",
      "Recall: 0.8678861788617886\n",
      "F1 Score: 0.9282608695652174\n",
      "Updating target policy...\n",
      "Epoch 59/300\n",
      "[LightGBM] [Info] Number of positive: 442, number of negative: 540\n",
      "[LightGBM] [Info] This is the GPU trainer!!\n",
      "[LightGBM] [Info] Total Bins 7650\n",
      "[LightGBM] [Info] Number of data points in the train set: 982, number of used features: 30\n"
     ]
    },
    {
     "name": "stderr",
     "output_type": "stream",
     "text": [
      "c:\\Users\\FH-Deg\\.conda\\envs\\tf_c_gpu\\lib\\site-packages\\lightgbm\\basic.py:1192: UserWarning: Converting data to scipy sparse matrix.\n",
      "  _log_warning('Converting data to scipy sparse matrix.')\n"
     ]
    },
    {
     "name": "stdout",
     "output_type": "stream",
     "text": [
      "[LightGBM] [Info] Using GPU Device: Quadro RTX 4000, Vendor: NVIDIA Corporation\n",
      "[LightGBM] [Info] Compiling OpenCL Kernel with 256 bins...\n",
      "[LightGBM] [Info] GPU programs have been built\n",
      "[LightGBM] [Info] Size of histogram bin entry: 8\n",
      "[LightGBM] [Info] 30 dense feature groups (0.03 MB) transferred to GPU in 0.007014 secs. 0 sparse feature groups\n",
      "[LightGBM] [Info] Size of histogram bin entry: 8\n",
      "[LightGBM] [Info] 30 dense feature groups (0.02 MB) transferred to GPU in 0.008124 secs. 0 sparse feature groups\n",
      "threshold: 0.5737754448169337\n",
      "AUC-ROC: 0.9914691982285677\n",
      "Accuracy: 0.9329268292682927\n",
      "Precision: 0.9921643838522526\n",
      "Confusion Matrix:\n",
      "[[491   1]\n",
      " [ 65 427]]\n",
      "Recall: 0.8678861788617886\n",
      "F1 Score: 0.9282608695652174\n",
      "Epoch 60/300\n",
      "[LightGBM] [Info] Number of positive: 442, number of negative: 540\n",
      "[LightGBM] [Info] This is the GPU trainer!!\n",
      "[LightGBM] [Info] Total Bins 7650\n",
      "[LightGBM] [Info] Number of data points in the train set: 982, number of used features: 30\n"
     ]
    },
    {
     "name": "stderr",
     "output_type": "stream",
     "text": [
      "c:\\Users\\FH-Deg\\.conda\\envs\\tf_c_gpu\\lib\\site-packages\\lightgbm\\basic.py:1192: UserWarning: Converting data to scipy sparse matrix.\n",
      "  _log_warning('Converting data to scipy sparse matrix.')\n"
     ]
    },
    {
     "name": "stdout",
     "output_type": "stream",
     "text": [
      "[LightGBM] [Info] Using GPU Device: Quadro RTX 4000, Vendor: NVIDIA Corporation\n",
      "[LightGBM] [Info] Compiling OpenCL Kernel with 256 bins...\n",
      "[LightGBM] [Info] GPU programs have been built\n",
      "[LightGBM] [Info] Size of histogram bin entry: 8\n",
      "[LightGBM] [Info] 30 dense feature groups (0.03 MB) transferred to GPU in 0.004872 secs. 0 sparse feature groups\n",
      "[LightGBM] [Info] Size of histogram bin entry: 8\n",
      "[LightGBM] [Info] 30 dense feature groups (0.02 MB) transferred to GPU in 0.008720 secs. 0 sparse feature groups\n",
      "threshold: 0.572571896433022\n",
      "AUC-ROC: 0.9915229030339084\n",
      "Accuracy: 0.9329268292682927\n",
      "Precision: 0.9922181714146852\n",
      "Confusion Matrix:\n",
      "[[490   2]\n",
      " [ 64 428]]\n",
      "Recall: 0.8699186991869918\n",
      "F1 Score: 0.928416485900217\n",
      "Epoch 61/300\n",
      "[LightGBM] [Info] Number of positive: 442, number of negative: 540\n",
      "[LightGBM] [Info] This is the GPU trainer!!\n",
      "[LightGBM] [Info] Total Bins 7650\n",
      "[LightGBM] [Info] Number of data points in the train set: 982, number of used features: 30\n"
     ]
    },
    {
     "name": "stderr",
     "output_type": "stream",
     "text": [
      "c:\\Users\\FH-Deg\\.conda\\envs\\tf_c_gpu\\lib\\site-packages\\lightgbm\\basic.py:1192: UserWarning: Converting data to scipy sparse matrix.\n",
      "  _log_warning('Converting data to scipy sparse matrix.')\n"
     ]
    },
    {
     "name": "stdout",
     "output_type": "stream",
     "text": [
      "[LightGBM] [Info] Using GPU Device: Quadro RTX 4000, Vendor: NVIDIA Corporation\n",
      "[LightGBM] [Info] Compiling OpenCL Kernel with 256 bins...\n",
      "[LightGBM] [Info] GPU programs have been built\n",
      "[LightGBM] [Info] Size of histogram bin entry: 8\n",
      "[LightGBM] [Info] 30 dense feature groups (0.03 MB) transferred to GPU in 0.091133 secs. 0 sparse feature groups\n",
      "[LightGBM] [Info] Size of histogram bin entry: 8\n",
      "[LightGBM] [Info] 30 dense feature groups (0.02 MB) transferred to GPU in 0.017176 secs. 0 sparse feature groups\n",
      "threshold: 0.5792400070787574\n",
      "AUC-ROC: 0.9916137880891005\n",
      "Accuracy: 0.9298780487804879\n",
      "Precision: 0.9922808854495124\n",
      "Confusion Matrix:\n",
      "[[491   1]\n",
      " [ 68 424]]\n",
      "Recall: 0.8617886178861789\n",
      "F1 Score: 0.9247546346782988\n",
      "Updating target policy...\n",
      "Epoch 62/300\n",
      "[LightGBM] [Info] Number of positive: 442, number of negative: 540\n",
      "[LightGBM] [Info] This is the GPU trainer!!\n",
      "[LightGBM] [Info] Total Bins 7650\n",
      "[LightGBM] [Info] Number of data points in the train set: 982, number of used features: 30\n"
     ]
    },
    {
     "name": "stderr",
     "output_type": "stream",
     "text": [
      "c:\\Users\\FH-Deg\\.conda\\envs\\tf_c_gpu\\lib\\site-packages\\lightgbm\\basic.py:1192: UserWarning: Converting data to scipy sparse matrix.\n",
      "  _log_warning('Converting data to scipy sparse matrix.')\n"
     ]
    },
    {
     "name": "stdout",
     "output_type": "stream",
     "text": [
      "[LightGBM] [Info] Using GPU Device: Quadro RTX 4000, Vendor: NVIDIA Corporation\n",
      "[LightGBM] [Info] Compiling OpenCL Kernel with 256 bins...\n",
      "[LightGBM] [Info] GPU programs have been built\n",
      "[LightGBM] [Info] Size of histogram bin entry: 8\n",
      "[LightGBM] [Info] 30 dense feature groups (0.03 MB) transferred to GPU in 0.037955 secs. 0 sparse feature groups\n",
      "[LightGBM] [Info] Size of histogram bin entry: 8\n",
      "[LightGBM] [Info] 30 dense feature groups (0.02 MB) transferred to GPU in 0.008363 secs. 0 sparse feature groups\n",
      "threshold: 0.5801528789343477\n",
      "AUC-ROC: 0.9916096569502281\n",
      "Accuracy: 0.9298780487804879\n",
      "Precision: 0.9922790298689316\n",
      "Confusion Matrix:\n",
      "[[491   1]\n",
      " [ 68 424]]\n",
      "Recall: 0.8617886178861789\n",
      "F1 Score: 0.9247546346782988\n",
      "Epoch 63/300\n",
      "[LightGBM] [Info] Number of positive: 442, number of negative: 540\n",
      "[LightGBM] [Info] This is the GPU trainer!!\n",
      "[LightGBM] [Info] Total Bins 7650\n",
      "[LightGBM] [Info] Number of data points in the train set: 982, number of used features: 30\n",
      "[LightGBM] [Info] Using GPU Device: Quadro RTX 4000, Vendor: NVIDIA Corporation\n",
      "[LightGBM] [Info] Compiling OpenCL Kernel with 256 bins...\n"
     ]
    },
    {
     "name": "stderr",
     "output_type": "stream",
     "text": [
      "c:\\Users\\FH-Deg\\.conda\\envs\\tf_c_gpu\\lib\\site-packages\\lightgbm\\basic.py:1192: UserWarning: Converting data to scipy sparse matrix.\n",
      "  _log_warning('Converting data to scipy sparse matrix.')\n"
     ]
    },
    {
     "name": "stdout",
     "output_type": "stream",
     "text": [
      "[LightGBM] [Info] GPU programs have been built\n",
      "[LightGBM] [Info] Size of histogram bin entry: 8\n",
      "[LightGBM] [Info] 30 dense feature groups (0.03 MB) transferred to GPU in 0.010687 secs. 0 sparse feature groups\n",
      "[LightGBM] [Info] Size of histogram bin entry: 8\n",
      "[LightGBM] [Info] 30 dense feature groups (0.02 MB) transferred to GPU in 0.004174 secs. 0 sparse feature groups\n",
      "threshold: 0.5811196448024372\n",
      "AUC-ROC: 0.9916509683389517\n",
      "Accuracy: 0.9329268292682927\n",
      "Precision: 0.9923184368386757\n",
      "Confusion Matrix:\n",
      "[[491   1]\n",
      " [ 65 427]]\n",
      "Recall: 0.8678861788617886\n",
      "F1 Score: 0.9282608695652174\n",
      "Epoch 64/300\n",
      "[LightGBM] [Info] Number of positive: 442, number of negative: 540\n",
      "[LightGBM] [Info] This is the GPU trainer!!\n",
      "[LightGBM] [Info] Total Bins 7650\n",
      "[LightGBM] [Info] Number of data points in the train set: 982, number of used features: 30\n",
      "[LightGBM] [Info] Using GPU Device: Quadro RTX 4000, Vendor: NVIDIA Corporation\n",
      "[LightGBM] [Info] Compiling OpenCL Kernel with 256 bins...\n"
     ]
    },
    {
     "name": "stderr",
     "output_type": "stream",
     "text": [
      "c:\\Users\\FH-Deg\\.conda\\envs\\tf_c_gpu\\lib\\site-packages\\lightgbm\\basic.py:1192: UserWarning: Converting data to scipy sparse matrix.\n",
      "  _log_warning('Converting data to scipy sparse matrix.')\n"
     ]
    },
    {
     "name": "stdout",
     "output_type": "stream",
     "text": [
      "[LightGBM] [Info] GPU programs have been built\n",
      "[LightGBM] [Info] Size of histogram bin entry: 8\n",
      "[LightGBM] [Info] 30 dense feature groups (0.03 MB) transferred to GPU in 0.006847 secs. 0 sparse feature groups\n",
      "[LightGBM] [Info] Size of histogram bin entry: 8\n",
      "[LightGBM] [Info] 30 dense feature groups (0.02 MB) transferred to GPU in 0.014564 secs. 0 sparse feature groups\n",
      "threshold: 0.5819578326578814\n",
      "AUC-ROC: 0.9916303126445898\n",
      "Accuracy: 0.9329268292682927\n",
      "Precision: 0.9923042463559223\n",
      "Confusion Matrix:\n",
      "[[491   1]\n",
      " [ 65 427]]\n",
      "Recall: 0.8678861788617886\n",
      "F1 Score: 0.9282608695652174\n",
      "Updating target policy...\n",
      "Epoch 65/300\n",
      "[LightGBM] [Info] Number of positive: 442, number of negative: 540\n",
      "[LightGBM] [Info] This is the GPU trainer!!\n",
      "[LightGBM] [Info] Total Bins 7650\n",
      "[LightGBM] [Info] Number of data points in the train set: 982, number of used features: 30\n",
      "[LightGBM] [Info] Using GPU Device: Quadro RTX 4000, Vendor: NVIDIA Corporation\n",
      "[LightGBM] [Info] Compiling OpenCL Kernel with 256 bins...\n"
     ]
    },
    {
     "name": "stderr",
     "output_type": "stream",
     "text": [
      "c:\\Users\\FH-Deg\\.conda\\envs\\tf_c_gpu\\lib\\site-packages\\lightgbm\\basic.py:1192: UserWarning: Converting data to scipy sparse matrix.\n",
      "  _log_warning('Converting data to scipy sparse matrix.')\n"
     ]
    },
    {
     "name": "stdout",
     "output_type": "stream",
     "text": [
      "[LightGBM] [Info] GPU programs have been built\n",
      "[LightGBM] [Info] Size of histogram bin entry: 8\n",
      "[LightGBM] [Info] 30 dense feature groups (0.03 MB) transferred to GPU in 0.004349 secs. 0 sparse feature groups\n",
      "[LightGBM] [Info] Size of histogram bin entry: 8\n",
      "[LightGBM] [Info] 30 dense feature groups (0.02 MB) transferred to GPU in 0.004194 secs. 0 sparse feature groups\n",
      "threshold: 0.5821906546148397\n",
      "AUC-ROC: 0.9916840174499306\n",
      "Accuracy: 0.9329268292682927\n",
      "Precision: 0.9923521995736394\n",
      "Confusion Matrix:\n",
      "[[491   1]\n",
      " [ 65 427]]\n",
      "Recall: 0.8678861788617886\n",
      "F1 Score: 0.9282608695652174\n",
      "Epoch 66/300\n",
      "[LightGBM] [Info] Number of positive: 442, number of negative: 540\n",
      "[LightGBM] [Info] This is the GPU trainer!!\n",
      "[LightGBM] [Info] Total Bins 7650\n",
      "[LightGBM] [Info] Number of data points in the train set: 982, number of used features: 30\n",
      "[LightGBM] [Info] Using GPU Device: Quadro RTX 4000, Vendor: NVIDIA Corporation\n",
      "[LightGBM] [Info] Compiling OpenCL Kernel with 256 bins...\n"
     ]
    },
    {
     "name": "stderr",
     "output_type": "stream",
     "text": [
      "c:\\Users\\FH-Deg\\.conda\\envs\\tf_c_gpu\\lib\\site-packages\\lightgbm\\basic.py:1192: UserWarning: Converting data to scipy sparse matrix.\n",
      "  _log_warning('Converting data to scipy sparse matrix.')\n"
     ]
    },
    {
     "name": "stdout",
     "output_type": "stream",
     "text": [
      "[LightGBM] [Info] GPU programs have been built\n",
      "[LightGBM] [Info] Size of histogram bin entry: 8\n",
      "[LightGBM] [Info] 30 dense feature groups (0.03 MB) transferred to GPU in 0.066426 secs. 0 sparse feature groups\n",
      "[LightGBM] [Info] Size of histogram bin entry: 8\n",
      "[LightGBM] [Info] 30 dense feature groups (0.02 MB) transferred to GPU in 0.004663 secs. 0 sparse feature groups\n",
      "threshold: 0.5835163652548877\n",
      "AUC-ROC: 0.9916385749223345\n",
      "Accuracy: 0.9329268292682927\n",
      "Precision: 0.9923208443173254\n",
      "Confusion Matrix:\n",
      "[[491   1]\n",
      " [ 65 427]]\n",
      "Recall: 0.8678861788617886\n",
      "F1 Score: 0.9282608695652174\n",
      "Epoch 67/300\n",
      "[LightGBM] [Info] Number of positive: 442, number of negative: 540\n",
      "[LightGBM] [Info] This is the GPU trainer!!\n",
      "[LightGBM] [Info] Total Bins 7650\n",
      "[LightGBM] [Info] Number of data points in the train set: 982, number of used features: 30\n"
     ]
    },
    {
     "name": "stderr",
     "output_type": "stream",
     "text": [
      "c:\\Users\\FH-Deg\\.conda\\envs\\tf_c_gpu\\lib\\site-packages\\lightgbm\\basic.py:1192: UserWarning: Converting data to scipy sparse matrix.\n",
      "  _log_warning('Converting data to scipy sparse matrix.')\n"
     ]
    },
    {
     "name": "stdout",
     "output_type": "stream",
     "text": [
      "[LightGBM] [Info] Using GPU Device: Quadro RTX 4000, Vendor: NVIDIA Corporation\n",
      "[LightGBM] [Info] Compiling OpenCL Kernel with 256 bins...\n",
      "[LightGBM] [Info] GPU programs have been built\n",
      "[LightGBM] [Info] Size of histogram bin entry: 8\n",
      "[LightGBM] [Info] 30 dense feature groups (0.03 MB) transferred to GPU in 0.004810 secs. 0 sparse feature groups\n",
      "[LightGBM] [Info] Size of histogram bin entry: 8\n",
      "[LightGBM] [Info] 30 dense feature groups (0.02 MB) transferred to GPU in 0.004055 secs. 0 sparse feature groups\n",
      "threshold: 0.5841495767300857\n",
      "AUC-ROC: 0.9916468372000793\n",
      "Accuracy: 0.9329268292682927\n",
      "Precision: 0.9923288460145171\n",
      "Confusion Matrix:\n",
      "[[491   1]\n",
      " [ 65 427]]\n",
      "Recall: 0.8678861788617886\n",
      "F1 Score: 0.9282608695652174\n",
      "Updating target policy...\n",
      "Epoch 68/300\n",
      "[LightGBM] [Info] Number of positive: 442, number of negative: 540\n",
      "[LightGBM] [Info] This is the GPU trainer!!\n",
      "[LightGBM] [Info] Total Bins 7650\n",
      "[LightGBM] [Info] Number of data points in the train set: 982, number of used features: 30\n"
     ]
    },
    {
     "name": "stderr",
     "output_type": "stream",
     "text": [
      "c:\\Users\\FH-Deg\\.conda\\envs\\tf_c_gpu\\lib\\site-packages\\lightgbm\\basic.py:1192: UserWarning: Converting data to scipy sparse matrix.\n",
      "  _log_warning('Converting data to scipy sparse matrix.')\n"
     ]
    },
    {
     "name": "stdout",
     "output_type": "stream",
     "text": [
      "[LightGBM] [Info] Using GPU Device: Quadro RTX 4000, Vendor: NVIDIA Corporation\n",
      "[LightGBM] [Info] Compiling OpenCL Kernel with 256 bins...\n",
      "[LightGBM] [Info] GPU programs have been built\n",
      "[LightGBM] [Info] Size of histogram bin entry: 8\n",
      "[LightGBM] [Info] 30 dense feature groups (0.03 MB) transferred to GPU in 0.005032 secs. 0 sparse feature groups\n",
      "[LightGBM] [Info] Size of histogram bin entry: 8\n",
      "[LightGBM] [Info] 30 dense feature groups (0.02 MB) transferred to GPU in 0.004257 secs. 0 sparse feature groups\n",
      "threshold: 0.5821794784345049\n",
      "AUC-ROC: 0.9916757551721858\n",
      "Accuracy: 0.9329268292682927\n",
      "Precision: 0.9923639829693169\n",
      "Confusion Matrix:\n",
      "[[490   2]\n",
      " [ 64 428]]\n",
      "Recall: 0.8699186991869918\n",
      "F1 Score: 0.928416485900217\n",
      "Epoch 69/300\n",
      "[LightGBM] [Info] Number of positive: 442, number of negative: 540\n",
      "[LightGBM] [Info] This is the GPU trainer!!\n",
      "[LightGBM] [Info] Total Bins 7650\n",
      "[LightGBM] [Info] Number of data points in the train set: 982, number of used features: 30\n"
     ]
    },
    {
     "name": "stderr",
     "output_type": "stream",
     "text": [
      "c:\\Users\\FH-Deg\\.conda\\envs\\tf_c_gpu\\lib\\site-packages\\lightgbm\\basic.py:1192: UserWarning: Converting data to scipy sparse matrix.\n",
      "  _log_warning('Converting data to scipy sparse matrix.')\n"
     ]
    },
    {
     "name": "stdout",
     "output_type": "stream",
     "text": [
      "[LightGBM] [Info] Using GPU Device: Quadro RTX 4000, Vendor: NVIDIA Corporation\n",
      "[LightGBM] [Info] Compiling OpenCL Kernel with 256 bins...\n",
      "[LightGBM] [Info] GPU programs have been built\n",
      "[LightGBM] [Info] Size of histogram bin entry: 8\n",
      "[LightGBM] [Info] 30 dense feature groups (0.03 MB) transferred to GPU in 0.025064 secs. 0 sparse feature groups\n",
      "[LightGBM] [Info] Size of histogram bin entry: 8\n",
      "[LightGBM] [Info] 30 dense feature groups (0.02 MB) transferred to GPU in 0.004389 secs. 0 sparse feature groups\n",
      "threshold: 0.584945230890868\n",
      "AUC-ROC: 0.99170054200542\n",
      "Accuracy: 0.9339430894308943\n",
      "Precision: 0.9923807791004964\n",
      "Confusion Matrix:\n",
      "[[491   1]\n",
      " [ 64 428]]\n",
      "Recall: 0.8699186991869918\n",
      "F1 Score: 0.9294245385450597\n",
      "Epoch 70/300\n",
      "[LightGBM] [Info] Number of positive: 442, number of negative: 540\n",
      "[LightGBM] [Info] This is the GPU trainer!!\n",
      "[LightGBM] [Info] Total Bins 7650\n",
      "[LightGBM] [Info] Number of data points in the train set: 982, number of used features: 30\n"
     ]
    },
    {
     "name": "stderr",
     "output_type": "stream",
     "text": [
      "c:\\Users\\FH-Deg\\.conda\\envs\\tf_c_gpu\\lib\\site-packages\\lightgbm\\basic.py:1192: UserWarning: Converting data to scipy sparse matrix.\n",
      "  _log_warning('Converting data to scipy sparse matrix.')\n"
     ]
    },
    {
     "name": "stdout",
     "output_type": "stream",
     "text": [
      "[LightGBM] [Info] Using GPU Device: Quadro RTX 4000, Vendor: NVIDIA Corporation\n",
      "[LightGBM] [Info] Compiling OpenCL Kernel with 256 bins...\n",
      "[LightGBM] [Info] GPU programs have been built\n",
      "[LightGBM] [Info] Size of histogram bin entry: 8\n",
      "[LightGBM] [Info] 30 dense feature groups (0.03 MB) transferred to GPU in 0.004918 secs. 0 sparse feature groups\n",
      "[LightGBM] [Info] Size of histogram bin entry: 8\n",
      "[LightGBM] [Info] 30 dense feature groups (0.02 MB) transferred to GPU in 0.004085 secs. 0 sparse feature groups\n",
      "threshold: 0.5850694115345246\n",
      "AUC-ROC: 0.9916633617555688\n",
      "Accuracy: 0.9339430894308943\n",
      "Precision: 0.9923521573709829\n",
      "Confusion Matrix:\n",
      "[[491   1]\n",
      " [ 64 428]]\n",
      "Recall: 0.8699186991869918\n",
      "F1 Score: 0.9294245385450597\n",
      "Updating target policy...\n",
      "Epoch 71/300\n",
      "[LightGBM] [Info] Number of positive: 442, number of negative: 540\n",
      "[LightGBM] [Info] This is the GPU trainer!!\n",
      "[LightGBM] [Info] Total Bins 7650\n",
      "[LightGBM] [Info] Number of data points in the train set: 982, number of used features: 30\n",
      "[LightGBM] [Info] Using GPU Device: Quadro RTX 4000, Vendor: NVIDIA Corporation\n",
      "[LightGBM] [Info] Compiling OpenCL Kernel with 256 bins...\n"
     ]
    },
    {
     "name": "stderr",
     "output_type": "stream",
     "text": [
      "c:\\Users\\FH-Deg\\.conda\\envs\\tf_c_gpu\\lib\\site-packages\\lightgbm\\basic.py:1192: UserWarning: Converting data to scipy sparse matrix.\n",
      "  _log_warning('Converting data to scipy sparse matrix.')\n"
     ]
    },
    {
     "name": "stdout",
     "output_type": "stream",
     "text": [
      "[LightGBM] [Info] GPU programs have been built\n",
      "[LightGBM] [Info] Size of histogram bin entry: 8\n",
      "[LightGBM] [Info] 30 dense feature groups (0.03 MB) transferred to GPU in 0.005259 secs. 0 sparse feature groups\n",
      "[LightGBM] [Info] Size of histogram bin entry: 8\n",
      "[LightGBM] [Info] 30 dense feature groups (0.02 MB) transferred to GPU in 0.004394 secs. 0 sparse feature groups\n",
      "threshold: 0.5857801375019898\n",
      "AUC-ROC: 0.9917459845330159\n",
      "Accuracy: 0.9339430894308943\n",
      "Precision: 0.9924221254178001\n",
      "Confusion Matrix:\n",
      "[[491   1]\n",
      " [ 64 428]]\n",
      "Recall: 0.8699186991869918\n",
      "F1 Score: 0.9294245385450597\n",
      "Epoch 72/300\n",
      "[LightGBM] [Info] Number of positive: 442, number of negative: 540\n",
      "[LightGBM] [Info] This is the GPU trainer!!\n",
      "[LightGBM] [Info] Total Bins 7650\n",
      "[LightGBM] [Info] Number of data points in the train set: 982, number of used features: 30\n"
     ]
    },
    {
     "name": "stderr",
     "output_type": "stream",
     "text": [
      "c:\\Users\\FH-Deg\\.conda\\envs\\tf_c_gpu\\lib\\site-packages\\lightgbm\\basic.py:1192: UserWarning: Converting data to scipy sparse matrix.\n",
      "  _log_warning('Converting data to scipy sparse matrix.')\n"
     ]
    },
    {
     "name": "stdout",
     "output_type": "stream",
     "text": [
      "[LightGBM] [Info] Using GPU Device: Quadro RTX 4000, Vendor: NVIDIA Corporation\n",
      "[LightGBM] [Info] Compiling OpenCL Kernel with 256 bins...\n",
      "[LightGBM] [Info] GPU programs have been built\n",
      "[LightGBM] [Info] Size of histogram bin entry: 8\n",
      "[LightGBM] [Info] 30 dense feature groups (0.03 MB) transferred to GPU in 0.018952 secs. 0 sparse feature groups\n",
      "[LightGBM] [Info] Size of histogram bin entry: 8\n",
      "[LightGBM] [Info] 30 dense feature groups (0.02 MB) transferred to GPU in 0.004404 secs. 0 sparse feature groups\n",
      "threshold: 0.5874941291859643\n",
      "AUC-ROC: 0.9918120827549739\n",
      "Accuracy: 0.9339430894308943\n",
      "Precision: 0.9924784352824179\n",
      "Confusion Matrix:\n",
      "[[491   1]\n",
      " [ 64 428]]\n",
      "Recall: 0.8699186991869918\n",
      "F1 Score: 0.9294245385450597\n",
      "Epoch 73/300\n",
      "[LightGBM] [Info] Number of positive: 442, number of negative: 540\n",
      "[LightGBM] [Info] This is the GPU trainer!!\n",
      "[LightGBM] [Info] Total Bins 7650\n",
      "[LightGBM] [Info] Number of data points in the train set: 982, number of used features: 30\n"
     ]
    },
    {
     "name": "stderr",
     "output_type": "stream",
     "text": [
      "c:\\Users\\FH-Deg\\.conda\\envs\\tf_c_gpu\\lib\\site-packages\\lightgbm\\basic.py:1192: UserWarning: Converting data to scipy sparse matrix.\n",
      "  _log_warning('Converting data to scipy sparse matrix.')\n"
     ]
    },
    {
     "name": "stdout",
     "output_type": "stream",
     "text": [
      "[LightGBM] [Info] Using GPU Device: Quadro RTX 4000, Vendor: NVIDIA Corporation\n",
      "[LightGBM] [Info] Compiling OpenCL Kernel with 256 bins...\n",
      "[LightGBM] [Info] GPU programs have been built\n",
      "[LightGBM] [Info] Size of histogram bin entry: 8\n",
      "[LightGBM] [Info] 30 dense feature groups (0.03 MB) transferred to GPU in 0.015890 secs. 0 sparse feature groups\n",
      "[LightGBM] [Info] Size of histogram bin entry: 8\n",
      "[LightGBM] [Info] 30 dense feature groups (0.02 MB) transferred to GPU in 0.004694 secs. 0 sparse feature groups\n",
      "threshold: 0.5858656829735001\n",
      "AUC-ROC: 0.9918699186991871\n",
      "Accuracy: 0.9349593495934959\n",
      "Precision: 0.9925307998090169\n",
      "Confusion Matrix:\n",
      "[[491   1]\n",
      " [ 63 429]]\n",
      "Recall: 0.8719512195121951\n",
      "F1 Score: 0.93058568329718\n",
      "Updating target policy...\n",
      "Epoch 74/300\n",
      "[LightGBM] [Info] Number of positive: 442, number of negative: 540\n",
      "[LightGBM] [Info] This is the GPU trainer!!\n",
      "[LightGBM] [Info] Total Bins 7650\n",
      "[LightGBM] [Info] Number of data points in the train set: 982, number of used features: 30\n"
     ]
    },
    {
     "name": "stderr",
     "output_type": "stream",
     "text": [
      "c:\\Users\\FH-Deg\\.conda\\envs\\tf_c_gpu\\lib\\site-packages\\lightgbm\\basic.py:1192: UserWarning: Converting data to scipy sparse matrix.\n",
      "  _log_warning('Converting data to scipy sparse matrix.')\n"
     ]
    },
    {
     "name": "stdout",
     "output_type": "stream",
     "text": [
      "[LightGBM] [Info] Using GPU Device: Quadro RTX 4000, Vendor: NVIDIA Corporation\n",
      "[LightGBM] [Info] Compiling OpenCL Kernel with 256 bins...\n",
      "[LightGBM] [Info] GPU programs have been built\n",
      "[LightGBM] [Info] Size of histogram bin entry: 8\n",
      "[LightGBM] [Info] 30 dense feature groups (0.03 MB) transferred to GPU in 0.051541 secs. 0 sparse feature groups\n",
      "[LightGBM] [Info] Size of histogram bin entry: 8\n",
      "[LightGBM] [Info] 30 dense feature groups (0.02 MB) transferred to GPU in 0.004357 secs. 0 sparse feature groups\n",
      "threshold: 0.5853406098681995\n",
      "AUC-ROC: 0.9918533941436976\n",
      "Accuracy: 0.9339430894308943\n",
      "Precision: 0.9925220263162817\n",
      "Confusion Matrix:\n",
      "[[490   2]\n",
      " [ 63 429]]\n",
      "Recall: 0.8719512195121951\n",
      "F1 Score: 0.9295774647887324\n",
      "Epoch 75/300\n",
      "[LightGBM] [Info] Number of positive: 442, number of negative: 540\n",
      "[LightGBM] [Info] This is the GPU trainer!!\n",
      "[LightGBM] [Info] Total Bins 7650\n",
      "[LightGBM] [Info] Number of data points in the train set: 982, number of used features: 30\n",
      "[LightGBM] [Info] Using GPU Device: Quadro RTX 4000, Vendor: NVIDIA Corporation\n",
      "[LightGBM] [Info] Compiling OpenCL Kernel with 256 bins...\n"
     ]
    },
    {
     "name": "stderr",
     "output_type": "stream",
     "text": [
      "c:\\Users\\FH-Deg\\.conda\\envs\\tf_c_gpu\\lib\\site-packages\\lightgbm\\basic.py:1192: UserWarning: Converting data to scipy sparse matrix.\n",
      "  _log_warning('Converting data to scipy sparse matrix.')\n"
     ]
    },
    {
     "name": "stdout",
     "output_type": "stream",
     "text": [
      "[LightGBM] [Info] GPU programs have been built\n",
      "[LightGBM] [Info] Size of histogram bin entry: 8\n",
      "[LightGBM] [Info] 30 dense feature groups (0.03 MB) transferred to GPU in 0.005009 secs. 0 sparse feature groups\n",
      "[LightGBM] [Info] Size of histogram bin entry: 8\n",
      "[LightGBM] [Info] 30 dense feature groups (0.02 MB) transferred to GPU in 0.010372 secs. 0 sparse feature groups\n",
      "threshold: 0.5849298715603051\n",
      "AUC-ROC: 0.9918451318659528\n",
      "Accuracy: 0.9329268292682927\n",
      "Precision: 0.9925151502091445\n",
      "Confusion Matrix:\n",
      "[[489   3]\n",
      " [ 63 429]]\n",
      "Recall: 0.8719512195121951\n",
      "F1 Score: 0.9285714285714286\n",
      "Epoch 76/300\n",
      "[LightGBM] [Info] Number of positive: 442, number of negative: 540\n",
      "[LightGBM] [Info] This is the GPU trainer!!\n",
      "[LightGBM] [Info] Total Bins 7650\n",
      "[LightGBM] [Info] Number of data points in the train set: 982, number of used features: 30\n"
     ]
    },
    {
     "name": "stderr",
     "output_type": "stream",
     "text": [
      "c:\\Users\\FH-Deg\\.conda\\envs\\tf_c_gpu\\lib\\site-packages\\lightgbm\\basic.py:1192: UserWarning: Converting data to scipy sparse matrix.\n",
      "  _log_warning('Converting data to scipy sparse matrix.')\n"
     ]
    },
    {
     "name": "stdout",
     "output_type": "stream",
     "text": [
      "[LightGBM] [Info] Using GPU Device: Quadro RTX 4000, Vendor: NVIDIA Corporation\n",
      "[LightGBM] [Info] Compiling OpenCL Kernel with 256 bins...\n",
      "[LightGBM] [Info] GPU programs have been built\n",
      "[LightGBM] [Info] Size of histogram bin entry: 8\n",
      "[LightGBM] [Info] 30 dense feature groups (0.03 MB) transferred to GPU in 0.004978 secs. 0 sparse feature groups\n",
      "[LightGBM] [Info] Size of histogram bin entry: 8\n",
      "[LightGBM] [Info] 30 dense feature groups (0.02 MB) transferred to GPU in 0.016213 secs. 0 sparse feature groups\n",
      "threshold: 0.5860126353479586\n",
      "AUC-ROC: 0.991836869588208\n",
      "Accuracy: 0.9329268292682927\n",
      "Precision: 0.9925074380499989\n",
      "Confusion Matrix:\n",
      "[[489   3]\n",
      " [ 63 429]]\n",
      "Recall: 0.8719512195121951\n",
      "F1 Score: 0.9285714285714286\n",
      "Updating target policy...\n",
      "Epoch 77/300\n",
      "[LightGBM] [Info] Number of positive: 442, number of negative: 540\n",
      "[LightGBM] [Info] This is the GPU trainer!!\n",
      "[LightGBM] [Info] Total Bins 7650\n",
      "[LightGBM] [Info] Number of data points in the train set: 982, number of used features: 30\n"
     ]
    },
    {
     "name": "stderr",
     "output_type": "stream",
     "text": [
      "c:\\Users\\FH-Deg\\.conda\\envs\\tf_c_gpu\\lib\\site-packages\\lightgbm\\basic.py:1192: UserWarning: Converting data to scipy sparse matrix.\n",
      "  _log_warning('Converting data to scipy sparse matrix.')\n"
     ]
    },
    {
     "name": "stdout",
     "output_type": "stream",
     "text": [
      "[LightGBM] [Info] Using GPU Device: Quadro RTX 4000, Vendor: NVIDIA Corporation\n",
      "[LightGBM] [Info] Compiling OpenCL Kernel with 256 bins...\n",
      "[LightGBM] [Info] GPU programs have been built\n",
      "[LightGBM] [Info] Size of histogram bin entry: 8\n",
      "[LightGBM] [Info] 30 dense feature groups (0.03 MB) transferred to GPU in 0.020490 secs. 0 sparse feature groups\n",
      "[LightGBM] [Info] Size of histogram bin entry: 8\n",
      "[LightGBM] [Info] 30 dense feature groups (0.02 MB) transferred to GPU in 0.005060 secs. 0 sparse feature groups\n",
      "threshold: 0.5838459281441909\n",
      "AUC-ROC: 0.9918947055324212\n",
      "Accuracy: 0.9329268292682927\n",
      "Precision: 0.9925621460347518\n",
      "Confusion Matrix:\n",
      "[[489   3]\n",
      " [ 63 429]]\n",
      "Recall: 0.8719512195121951\n",
      "F1 Score: 0.9285714285714286\n",
      "Epoch 78/300\n",
      "[LightGBM] [Info] Number of positive: 442, number of negative: 540\n",
      "[LightGBM] [Info] This is the GPU trainer!!\n",
      "[LightGBM] [Info] Total Bins 7650\n",
      "[LightGBM] [Info] Number of data points in the train set: 982, number of used features: 30\n"
     ]
    },
    {
     "name": "stderr",
     "output_type": "stream",
     "text": [
      "c:\\Users\\FH-Deg\\.conda\\envs\\tf_c_gpu\\lib\\site-packages\\lightgbm\\basic.py:1192: UserWarning: Converting data to scipy sparse matrix.\n",
      "  _log_warning('Converting data to scipy sparse matrix.')\n"
     ]
    },
    {
     "name": "stdout",
     "output_type": "stream",
     "text": [
      "[LightGBM] [Info] Using GPU Device: Quadro RTX 4000, Vendor: NVIDIA Corporation\n",
      "[LightGBM] [Info] Compiling OpenCL Kernel with 256 bins...\n",
      "[LightGBM] [Info] GPU programs have been built\n",
      "[LightGBM] [Info] Size of histogram bin entry: 8\n",
      "[LightGBM] [Info] 30 dense feature groups (0.03 MB) transferred to GPU in 0.067733 secs. 0 sparse feature groups\n",
      "[LightGBM] [Info] Size of histogram bin entry: 8\n",
      "[LightGBM] [Info] 30 dense feature groups (0.02 MB) transferred to GPU in 0.004797 secs. 0 sparse feature groups\n",
      "threshold: 0.5848444253745436\n",
      "AUC-ROC: 0.9919525414766344\n",
      "Accuracy: 0.9329268292682927\n",
      "Precision: 0.9926109768132437\n",
      "Confusion Matrix:\n",
      "[[489   3]\n",
      " [ 63 429]]\n",
      "Recall: 0.8719512195121951\n",
      "F1 Score: 0.9285714285714286\n",
      "Epoch 79/300\n",
      "[LightGBM] [Info] Number of positive: 442, number of negative: 540\n",
      "[LightGBM] [Info] This is the GPU trainer!!\n",
      "[LightGBM] [Info] Total Bins 7650\n",
      "[LightGBM] [Info] Number of data points in the train set: 982, number of used features: 30\n",
      "[LightGBM] [Info] Using GPU Device: Quadro RTX 4000, Vendor: NVIDIA Corporation\n",
      "[LightGBM] [Info] Compiling OpenCL Kernel with 256 bins...\n"
     ]
    },
    {
     "name": "stderr",
     "output_type": "stream",
     "text": [
      "c:\\Users\\FH-Deg\\.conda\\envs\\tf_c_gpu\\lib\\site-packages\\lightgbm\\basic.py:1192: UserWarning: Converting data to scipy sparse matrix.\n",
      "  _log_warning('Converting data to scipy sparse matrix.')\n"
     ]
    },
    {
     "name": "stdout",
     "output_type": "stream",
     "text": [
      "[LightGBM] [Info] GPU programs have been built\n",
      "[LightGBM] [Info] Size of histogram bin entry: 8\n",
      "[LightGBM] [Info] 30 dense feature groups (0.03 MB) transferred to GPU in 0.074343 secs. 0 sparse feature groups\n",
      "[LightGBM] [Info] Size of histogram bin entry: 8\n",
      "[LightGBM] [Info] 30 dense feature groups (0.02 MB) transferred to GPU in 0.004485 secs. 0 sparse feature groups\n",
      "threshold: 0.5847691747402328\n",
      "AUC-ROC: 0.9919938528653578\n",
      "Accuracy: 0.9339430894308943\n",
      "Precision: 0.9926544244907624\n",
      "Confusion Matrix:\n",
      "[[490   2]\n",
      " [ 63 429]]\n",
      "Recall: 0.8719512195121951\n",
      "F1 Score: 0.9295774647887324\n",
      "Updating target policy...\n",
      "Epoch 80/300\n",
      "[LightGBM] [Info] Number of positive: 442, number of negative: 540\n",
      "[LightGBM] [Info] This is the GPU trainer!!\n",
      "[LightGBM] [Info] Total Bins 7650\n",
      "[LightGBM] [Info] Number of data points in the train set: 982, number of used features: 30\n"
     ]
    },
    {
     "name": "stderr",
     "output_type": "stream",
     "text": [
      "c:\\Users\\FH-Deg\\.conda\\envs\\tf_c_gpu\\lib\\site-packages\\lightgbm\\basic.py:1192: UserWarning: Converting data to scipy sparse matrix.\n",
      "  _log_warning('Converting data to scipy sparse matrix.')\n"
     ]
    },
    {
     "name": "stdout",
     "output_type": "stream",
     "text": [
      "[LightGBM] [Info] Using GPU Device: Quadro RTX 4000, Vendor: NVIDIA Corporation\n",
      "[LightGBM] [Info] Compiling OpenCL Kernel with 256 bins...\n",
      "[LightGBM] [Info] GPU programs have been built\n",
      "[LightGBM] [Info] Size of histogram bin entry: 8\n",
      "[LightGBM] [Info] 30 dense feature groups (0.03 MB) transferred to GPU in 0.095258 secs. 0 sparse feature groups\n",
      "[LightGBM] [Info] Size of histogram bin entry: 8\n",
      "[LightGBM] [Info] 30 dense feature groups (0.02 MB) transferred to GPU in 0.052887 secs. 0 sparse feature groups\n",
      "threshold: 0.5841962769238779\n",
      "AUC-ROC: 0.9919814594487408\n",
      "Accuracy: 0.9329268292682927\n",
      "Precision: 0.9926554391763287\n",
      "Confusion Matrix:\n",
      "[[489   3]\n",
      " [ 63 429]]\n",
      "Recall: 0.8719512195121951\n",
      "F1 Score: 0.9285714285714286\n",
      "Epoch 81/300\n",
      "[LightGBM] [Info] Number of positive: 442, number of negative: 540\n",
      "[LightGBM] [Info] This is the GPU trainer!!\n",
      "[LightGBM] [Info] Total Bins 7650\n",
      "[LightGBM] [Info] Number of data points in the train set: 982, number of used features: 30\n",
      "[LightGBM] [Info] Using GPU Device: Quadro RTX 4000, Vendor: NVIDIA Corporation\n",
      "[LightGBM] [Info] Compiling OpenCL Kernel with 256 bins...\n",
      "[LightGBM] [Info] GPU programs have been built\n"
     ]
    },
    {
     "name": "stderr",
     "output_type": "stream",
     "text": [
      "c:\\Users\\FH-Deg\\.conda\\envs\\tf_c_gpu\\lib\\site-packages\\lightgbm\\basic.py:1192: UserWarning: Converting data to scipy sparse matrix.\n",
      "  _log_warning('Converting data to scipy sparse matrix.')\n"
     ]
    },
    {
     "name": "stdout",
     "output_type": "stream",
     "text": [
      "[LightGBM] [Info] Size of histogram bin entry: 8\n",
      "[LightGBM] [Info] 30 dense feature groups (0.03 MB) transferred to GPU in 0.114408 secs. 0 sparse feature groups\n",
      "[LightGBM] [Info] Size of histogram bin entry: 8\n",
      "[LightGBM] [Info] 30 dense feature groups (0.02 MB) transferred to GPU in 0.005383 secs. 0 sparse feature groups\n",
      "threshold: 0.5825348911617289\n",
      "AUC-ROC: 0.9920475576706986\n",
      "Accuracy: 0.9329268292682927\n",
      "Precision: 0.992717291697067\n",
      "Confusion Matrix:\n",
      "[[489   3]\n",
      " [ 63 429]]\n",
      "Recall: 0.8719512195121951\n",
      "F1 Score: 0.9285714285714286\n",
      "Epoch 82/300\n",
      "[LightGBM] [Info] Number of positive: 442, number of negative: 540\n",
      "[LightGBM] [Info] This is the GPU trainer!!\n",
      "[LightGBM] [Info] Total Bins 7650\n",
      "[LightGBM] [Info] Number of data points in the train set: 982, number of used features: 30\n"
     ]
    },
    {
     "name": "stderr",
     "output_type": "stream",
     "text": [
      "c:\\Users\\FH-Deg\\.conda\\envs\\tf_c_gpu\\lib\\site-packages\\lightgbm\\basic.py:1192: UserWarning: Converting data to scipy sparse matrix.\n",
      "  _log_warning('Converting data to scipy sparse matrix.')\n"
     ]
    },
    {
     "name": "stdout",
     "output_type": "stream",
     "text": [
      "[LightGBM] [Info] Using GPU Device: Quadro RTX 4000, Vendor: NVIDIA Corporation\n",
      "[LightGBM] [Info] Compiling OpenCL Kernel with 256 bins...\n",
      "[LightGBM] [Info] GPU programs have been built\n",
      "[LightGBM] [Info] Size of histogram bin entry: 8\n",
      "[LightGBM] [Info] 30 dense feature groups (0.03 MB) transferred to GPU in 0.006384 secs. 0 sparse feature groups\n",
      "[LightGBM] [Info] Size of histogram bin entry: 8\n",
      "[LightGBM] [Info] 30 dense feature groups (0.02 MB) transferred to GPU in 0.004240 secs. 0 sparse feature groups\n",
      "threshold: 0.5839400165408543\n",
      "AUC-ROC: 0.9919773283098685\n",
      "Accuracy: 0.9329268292682927\n",
      "Precision: 0.9926517779259986\n",
      "Confusion Matrix:\n",
      "[[489   3]\n",
      " [ 63 429]]\n",
      "Recall: 0.8719512195121951\n",
      "F1 Score: 0.9285714285714286\n",
      "Updating target policy...\n",
      "Epoch 83/300\n",
      "[LightGBM] [Info] Number of positive: 442, number of negative: 540\n",
      "[LightGBM] [Info] This is the GPU trainer!!\n",
      "[LightGBM] [Info] Total Bins 7650\n",
      "[LightGBM] [Info] Number of data points in the train set: 982, number of used features: 30\n"
     ]
    },
    {
     "name": "stderr",
     "output_type": "stream",
     "text": [
      "c:\\Users\\FH-Deg\\.conda\\envs\\tf_c_gpu\\lib\\site-packages\\lightgbm\\basic.py:1192: UserWarning: Converting data to scipy sparse matrix.\n",
      "  _log_warning('Converting data to scipy sparse matrix.')\n"
     ]
    },
    {
     "name": "stdout",
     "output_type": "stream",
     "text": [
      "[LightGBM] [Info] Using GPU Device: Quadro RTX 4000, Vendor: NVIDIA Corporation\n",
      "[LightGBM] [Info] Compiling OpenCL Kernel with 256 bins...\n",
      "[LightGBM] [Info] GPU programs have been built\n",
      "[LightGBM] [Info] Size of histogram bin entry: 8\n",
      "[LightGBM] [Info] 30 dense feature groups (0.03 MB) transferred to GPU in 0.059094 secs. 0 sparse feature groups\n",
      "[LightGBM] [Info] Size of histogram bin entry: 8\n",
      "[LightGBM] [Info] 30 dense feature groups (0.02 MB) transferred to GPU in 0.004375 secs. 0 sparse feature groups\n",
      "threshold: 0.5859260131580097\n",
      "AUC-ROC: 0.9920103774208474\n",
      "Accuracy: 0.9329268292682927\n",
      "Precision: 0.9926850478200098\n",
      "Confusion Matrix:\n",
      "[[489   3]\n",
      " [ 63 429]]\n",
      "Recall: 0.8719512195121951\n",
      "F1 Score: 0.9285714285714286\n",
      "Epoch 84/300\n",
      "[LightGBM] [Info] Number of positive: 442, number of negative: 540\n",
      "[LightGBM] [Info] This is the GPU trainer!!\n",
      "[LightGBM] [Info] Total Bins 7650\n",
      "[LightGBM] [Info] Number of data points in the train set: 982, number of used features: 30\n"
     ]
    },
    {
     "name": "stderr",
     "output_type": "stream",
     "text": [
      "c:\\Users\\FH-Deg\\.conda\\envs\\tf_c_gpu\\lib\\site-packages\\lightgbm\\basic.py:1192: UserWarning: Converting data to scipy sparse matrix.\n",
      "  _log_warning('Converting data to scipy sparse matrix.')\n"
     ]
    },
    {
     "name": "stdout",
     "output_type": "stream",
     "text": [
      "[LightGBM] [Info] Using GPU Device: Quadro RTX 4000, Vendor: NVIDIA Corporation\n",
      "[LightGBM] [Info] Compiling OpenCL Kernel with 256 bins...\n",
      "[LightGBM] [Info] GPU programs have been built\n",
      "[LightGBM] [Info] Size of histogram bin entry: 8\n",
      "[LightGBM] [Info] 30 dense feature groups (0.03 MB) transferred to GPU in 0.007373 secs. 0 sparse feature groups\n",
      "[LightGBM] [Info] Size of histogram bin entry: 8\n",
      "[LightGBM] [Info] 30 dense feature groups (0.02 MB) transferred to GPU in 0.022051 secs. 0 sparse feature groups\n",
      "threshold: 0.5907268027541696\n",
      "AUC-ROC: 0.9921053936149118\n",
      "Accuracy: 0.9329268292682927\n",
      "Precision: 0.9927600389586484\n",
      "Confusion Matrix:\n",
      "[[489   3]\n",
      " [ 63 429]]\n",
      "Recall: 0.8719512195121951\n",
      "F1 Score: 0.9285714285714286\n",
      "Epoch 85/300\n",
      "[LightGBM] [Info] Number of positive: 442, number of negative: 540\n",
      "[LightGBM] [Info] This is the GPU trainer!!\n",
      "[LightGBM] [Info] Total Bins 7650\n",
      "[LightGBM] [Info] Number of data points in the train set: 982, number of used features: 30\n",
      "[LightGBM] [Info] Using GPU Device: Quadro RTX 4000, Vendor: NVIDIA Corporation\n",
      "[LightGBM] [Info] Compiling OpenCL Kernel with 256 bins...\n",
      "[LightGBM] [Info] GPU programs have been built\n"
     ]
    },
    {
     "name": "stderr",
     "output_type": "stream",
     "text": [
      "c:\\Users\\FH-Deg\\.conda\\envs\\tf_c_gpu\\lib\\site-packages\\lightgbm\\basic.py:1192: UserWarning: Converting data to scipy sparse matrix.\n",
      "  _log_warning('Converting data to scipy sparse matrix.')\n"
     ]
    },
    {
     "name": "stdout",
     "output_type": "stream",
     "text": [
      "[LightGBM] [Info] Size of histogram bin entry: 8\n",
      "[LightGBM] [Info] 30 dense feature groups (0.03 MB) transferred to GPU in 0.004799 secs. 0 sparse feature groups\n",
      "[LightGBM] [Info] Size of histogram bin entry: 8\n",
      "[LightGBM] [Info] 30 dense feature groups (0.02 MB) transferred to GPU in 0.007720 secs. 0 sparse feature groups\n",
      "threshold: 0.591686239288396\n",
      "AUC-ROC: 0.9920764756428052\n",
      "Accuracy: 0.9329268292682927\n",
      "Precision: 0.9927320527587842\n",
      "Confusion Matrix:\n",
      "[[489   3]\n",
      " [ 63 429]]\n",
      "Recall: 0.8719512195121951\n",
      "F1 Score: 0.9285714285714286\n",
      "Updating target policy...\n",
      "Epoch 86/300\n",
      "[LightGBM] [Info] Number of positive: 442, number of negative: 540\n",
      "[LightGBM] [Info] This is the GPU trainer!!\n",
      "[LightGBM] [Info] Total Bins 7650\n",
      "[LightGBM] [Info] Number of data points in the train set: 982, number of used features: 30\n"
     ]
    },
    {
     "name": "stderr",
     "output_type": "stream",
     "text": [
      "c:\\Users\\FH-Deg\\.conda\\envs\\tf_c_gpu\\lib\\site-packages\\lightgbm\\basic.py:1192: UserWarning: Converting data to scipy sparse matrix.\n",
      "  _log_warning('Converting data to scipy sparse matrix.')\n"
     ]
    },
    {
     "name": "stdout",
     "output_type": "stream",
     "text": [
      "[LightGBM] [Info] Using GPU Device: Quadro RTX 4000, Vendor: NVIDIA Corporation\n",
      "[LightGBM] [Info] Compiling OpenCL Kernel with 256 bins...\n",
      "[LightGBM] [Info] GPU programs have been built\n",
      "[LightGBM] [Info] Size of histogram bin entry: 8\n",
      "[LightGBM] [Info] 30 dense feature groups (0.03 MB) transferred to GPU in 0.004725 secs. 0 sparse feature groups\n",
      "[LightGBM] [Info] Size of histogram bin entry: 8\n",
      "[LightGBM] [Info] 30 dense feature groups (0.02 MB) transferred to GPU in 0.004627 secs. 0 sparse feature groups\n",
      "threshold: 0.5925478545466725\n",
      "AUC-ROC: 0.9921467050036354\n",
      "Accuracy: 0.9329268292682927\n",
      "Precision: 0.9927944925668092\n",
      "Confusion Matrix:\n",
      "[[489   3]\n",
      " [ 63 429]]\n",
      "Recall: 0.8719512195121951\n",
      "F1 Score: 0.9285714285714286\n",
      "Epoch 87/300\n",
      "[LightGBM] [Info] Number of positive: 442, number of negative: 540\n",
      "[LightGBM] [Info] This is the GPU trainer!!\n",
      "[LightGBM] [Info] Total Bins 7650\n",
      "[LightGBM] [Info] Number of data points in the train set: 982, number of used features: 30\n",
      "[LightGBM] [Info] Using GPU Device: Quadro RTX 4000, Vendor: NVIDIA Corporation\n",
      "[LightGBM] [Info] Compiling OpenCL Kernel with 256 bins...\n"
     ]
    },
    {
     "name": "stderr",
     "output_type": "stream",
     "text": [
      "c:\\Users\\FH-Deg\\.conda\\envs\\tf_c_gpu\\lib\\site-packages\\lightgbm\\basic.py:1192: UserWarning: Converting data to scipy sparse matrix.\n",
      "  _log_warning('Converting data to scipy sparse matrix.')\n"
     ]
    },
    {
     "name": "stdout",
     "output_type": "stream",
     "text": [
      "[LightGBM] [Info] GPU programs have been built\n",
      "[LightGBM] [Info] Size of histogram bin entry: 8\n",
      "[LightGBM] [Info] 30 dense feature groups (0.03 MB) transferred to GPU in 0.030682 secs. 0 sparse feature groups\n",
      "[LightGBM] [Info] Size of histogram bin entry: 8\n",
      "[LightGBM] [Info] 30 dense feature groups (0.02 MB) transferred to GPU in 0.004528 secs. 0 sparse feature groups\n",
      "threshold: 0.5935529117661978\n",
      "AUC-ROC: 0.9922293277810826\n",
      "Accuracy: 0.9329268292682927\n",
      "Precision: 0.9928592259379732\n",
      "Confusion Matrix:\n",
      "[[489   3]\n",
      " [ 63 429]]\n",
      "Recall: 0.8719512195121951\n",
      "F1 Score: 0.9285714285714286\n",
      "Epoch 88/300\n",
      "[LightGBM] [Info] Number of positive: 442, number of negative: 540\n",
      "[LightGBM] [Info] This is the GPU trainer!!\n",
      "[LightGBM] [Info] Total Bins 7650\n",
      "[LightGBM] [Info] Number of data points in the train set: 982, number of used features: 30\n"
     ]
    },
    {
     "name": "stderr",
     "output_type": "stream",
     "text": [
      "c:\\Users\\FH-Deg\\.conda\\envs\\tf_c_gpu\\lib\\site-packages\\lightgbm\\basic.py:1192: UserWarning: Converting data to scipy sparse matrix.\n",
      "  _log_warning('Converting data to scipy sparse matrix.')\n"
     ]
    },
    {
     "name": "stdout",
     "output_type": "stream",
     "text": [
      "[LightGBM] [Info] Using GPU Device: Quadro RTX 4000, Vendor: NVIDIA Corporation\n",
      "[LightGBM] [Info] Compiling OpenCL Kernel with 256 bins...\n",
      "[LightGBM] [Info] GPU programs have been built\n",
      "[LightGBM] [Info] Size of histogram bin entry: 8\n",
      "[LightGBM] [Info] 30 dense feature groups (0.03 MB) transferred to GPU in 0.012357 secs. 0 sparse feature groups\n",
      "[LightGBM] [Info] Size of histogram bin entry: 8\n",
      "[LightGBM] [Info] 30 dense feature groups (0.02 MB) transferred to GPU in 0.006665 secs. 0 sparse feature groups\n",
      "threshold: 0.5934070662038241\n",
      "AUC-ROC: 0.9922375900588274\n",
      "Accuracy: 0.9329268292682927\n",
      "Precision: 0.9928654047981874\n",
      "Confusion Matrix:\n",
      "[[489   3]\n",
      " [ 63 429]]\n",
      "Recall: 0.8719512195121951\n",
      "F1 Score: 0.9285714285714286\n",
      "Updating target policy...\n",
      "Epoch 89/300\n",
      "[LightGBM] [Info] Number of positive: 442, number of negative: 540\n",
      "[LightGBM] [Info] This is the GPU trainer!!\n",
      "[LightGBM] [Info] Total Bins 7650\n",
      "[LightGBM] [Info] Number of data points in the train set: 982, number of used features: 30\n",
      "[LightGBM] [Info] Using GPU Device: Quadro RTX 4000, Vendor: NVIDIA Corporation\n",
      "[LightGBM] [Info] Compiling OpenCL Kernel with 256 bins...\n"
     ]
    },
    {
     "name": "stderr",
     "output_type": "stream",
     "text": [
      "c:\\Users\\FH-Deg\\.conda\\envs\\tf_c_gpu\\lib\\site-packages\\lightgbm\\basic.py:1192: UserWarning: Converting data to scipy sparse matrix.\n",
      "  _log_warning('Converting data to scipy sparse matrix.')\n"
     ]
    },
    {
     "name": "stdout",
     "output_type": "stream",
     "text": [
      "[LightGBM] [Info] GPU programs have been built\n",
      "[LightGBM] [Info] Size of histogram bin entry: 8\n",
      "[LightGBM] [Info] 30 dense feature groups (0.03 MB) transferred to GPU in 0.004557 secs. 0 sparse feature groups\n",
      "[LightGBM] [Info] Size of histogram bin entry: 8\n",
      "[LightGBM] [Info] 30 dense feature groups (0.02 MB) transferred to GPU in 0.004041 secs. 0 sparse feature groups\n",
      "threshold: 0.5937416378062591\n",
      "AUC-ROC: 0.9921838852534867\n",
      "Accuracy: 0.9329268292682927\n",
      "Precision: 0.9928200797680986\n",
      "Confusion Matrix:\n",
      "[[489   3]\n",
      " [ 63 429]]\n",
      "Recall: 0.8719512195121951\n",
      "F1 Score: 0.9285714285714286\n",
      "Epoch 90/300\n",
      "[LightGBM] [Info] Number of positive: 442, number of negative: 540\n",
      "[LightGBM] [Info] This is the GPU trainer!!\n",
      "[LightGBM] [Info] Total Bins 7650\n",
      "[LightGBM] [Info] Number of data points in the train set: 982, number of used features: 30\n"
     ]
    },
    {
     "name": "stderr",
     "output_type": "stream",
     "text": [
      "c:\\Users\\FH-Deg\\.conda\\envs\\tf_c_gpu\\lib\\site-packages\\lightgbm\\basic.py:1192: UserWarning: Converting data to scipy sparse matrix.\n",
      "  _log_warning('Converting data to scipy sparse matrix.')\n"
     ]
    },
    {
     "name": "stdout",
     "output_type": "stream",
     "text": [
      "[LightGBM] [Info] Using GPU Device: Quadro RTX 4000, Vendor: NVIDIA Corporation\n",
      "[LightGBM] [Info] Compiling OpenCL Kernel with 256 bins...\n",
      "[LightGBM] [Info] GPU programs have been built\n",
      "[LightGBM] [Info] Size of histogram bin entry: 8\n",
      "[LightGBM] [Info] 30 dense feature groups (0.03 MB) transferred to GPU in 0.004783 secs. 0 sparse feature groups\n",
      "[LightGBM] [Info] Size of histogram bin entry: 8\n",
      "[LightGBM] [Info] 30 dense feature groups (0.02 MB) transferred to GPU in 0.004587 secs. 0 sparse feature groups\n",
      "threshold: 0.5993321653215599\n",
      "AUC-ROC: 0.9923284751140193\n",
      "Accuracy: 0.9329268292682927\n",
      "Precision: 0.9929269521104774\n",
      "Confusion Matrix:\n",
      "[[489   3]\n",
      " [ 63 429]]\n",
      "Recall: 0.8719512195121951\n",
      "F1 Score: 0.9285714285714286\n",
      "Epoch 91/300\n",
      "[LightGBM] [Info] Number of positive: 442, number of negative: 540\n",
      "[LightGBM] [Info] This is the GPU trainer!!\n",
      "[LightGBM] [Info] Total Bins 7650\n",
      "[LightGBM] [Info] Number of data points in the train set: 982, number of used features: 30\n"
     ]
    },
    {
     "name": "stderr",
     "output_type": "stream",
     "text": [
      "c:\\Users\\FH-Deg\\.conda\\envs\\tf_c_gpu\\lib\\site-packages\\lightgbm\\basic.py:1192: UserWarning: Converting data to scipy sparse matrix.\n",
      "  _log_warning('Converting data to scipy sparse matrix.')\n"
     ]
    },
    {
     "name": "stdout",
     "output_type": "stream",
     "text": [
      "[LightGBM] [Info] Using GPU Device: Quadro RTX 4000, Vendor: NVIDIA Corporation\n",
      "[LightGBM] [Info] Compiling OpenCL Kernel with 256 bins...\n",
      "[LightGBM] [Info] GPU programs have been built\n",
      "[LightGBM] [Info] Size of histogram bin entry: 8\n",
      "[LightGBM] [Info] 30 dense feature groups (0.03 MB) transferred to GPU in 0.004127 secs. 0 sparse feature groups\n",
      "[LightGBM] [Info] Size of histogram bin entry: 8\n",
      "[LightGBM] [Info] 30 dense feature groups (0.02 MB) transferred to GPU in 0.018483 secs. 0 sparse feature groups\n",
      "threshold: 0.6003095976027274\n",
      "AUC-ROC: 0.9922995571419129\n",
      "Accuracy: 0.9329268292682927\n",
      "Precision: 0.9929109178139583\n",
      "Confusion Matrix:\n",
      "[[489   3]\n",
      " [ 63 429]]\n",
      "Recall: 0.8719512195121951\n",
      "F1 Score: 0.9285714285714286\n",
      "Updating target policy...\n",
      "Epoch 92/300\n",
      "[LightGBM] [Info] Number of positive: 442, number of negative: 540\n",
      "[LightGBM] [Info] This is the GPU trainer!!\n",
      "[LightGBM] [Info] Total Bins 7650\n",
      "[LightGBM] [Info] Number of data points in the train set: 982, number of used features: 30\n"
     ]
    },
    {
     "name": "stderr",
     "output_type": "stream",
     "text": [
      "c:\\Users\\FH-Deg\\.conda\\envs\\tf_c_gpu\\lib\\site-packages\\lightgbm\\basic.py:1192: UserWarning: Converting data to scipy sparse matrix.\n",
      "  _log_warning('Converting data to scipy sparse matrix.')\n"
     ]
    },
    {
     "name": "stdout",
     "output_type": "stream",
     "text": [
      "[LightGBM] [Info] Using GPU Device: Quadro RTX 4000, Vendor: NVIDIA Corporation\n",
      "[LightGBM] [Info] Compiling OpenCL Kernel with 256 bins...\n",
      "[LightGBM] [Info] GPU programs have been built\n",
      "[LightGBM] [Info] Size of histogram bin entry: 8\n",
      "[LightGBM] [Info] 30 dense feature groups (0.03 MB) transferred to GPU in 0.004521 secs. 0 sparse feature groups\n",
      "[LightGBM] [Info] Size of histogram bin entry: 8\n",
      "[LightGBM] [Info] 30 dense feature groups (0.02 MB) transferred to GPU in 0.004657 secs. 0 sparse feature groups\n",
      "threshold: 0.6006665066073748\n",
      "AUC-ROC: 0.9923987044748496\n",
      "Accuracy: 0.9329268292682927\n",
      "Precision: 0.9929968462537055\n",
      "Confusion Matrix:\n",
      "[[489   3]\n",
      " [ 63 429]]\n",
      "Recall: 0.8719512195121951\n",
      "F1 Score: 0.9285714285714286\n",
      "Epoch 93/300\n",
      "[LightGBM] [Info] Number of positive: 442, number of negative: 540\n",
      "[LightGBM] [Info] This is the GPU trainer!!\n",
      "[LightGBM] [Info] Total Bins 7650\n",
      "[LightGBM] [Info] Number of data points in the train set: 982, number of used features: 30\n"
     ]
    },
    {
     "name": "stderr",
     "output_type": "stream",
     "text": [
      "c:\\Users\\FH-Deg\\.conda\\envs\\tf_c_gpu\\lib\\site-packages\\lightgbm\\basic.py:1192: UserWarning: Converting data to scipy sparse matrix.\n",
      "  _log_warning('Converting data to scipy sparse matrix.')\n"
     ]
    },
    {
     "name": "stdout",
     "output_type": "stream",
     "text": [
      "[LightGBM] [Info] Using GPU Device: Quadro RTX 4000, Vendor: NVIDIA Corporation\n",
      "[LightGBM] [Info] Compiling OpenCL Kernel with 256 bins...\n",
      "[LightGBM] [Info] GPU programs have been built\n",
      "[LightGBM] [Info] Size of histogram bin entry: 8\n",
      "[LightGBM] [Info] 30 dense feature groups (0.03 MB) transferred to GPU in 0.006674 secs. 0 sparse feature groups\n",
      "[LightGBM] [Info] Size of histogram bin entry: 8\n",
      "[LightGBM] [Info] 30 dense feature groups (0.02 MB) transferred to GPU in 0.004478 secs. 0 sparse feature groups\n",
      "threshold: 0.6016212412558448\n",
      "AUC-ROC: 0.9924317535858285\n",
      "Accuracy: 0.9339430894308943\n",
      "Precision: 0.9930276491734774\n",
      "Confusion Matrix:\n",
      "[[490   2]\n",
      " [ 63 429]]\n",
      "Recall: 0.8719512195121951\n",
      "F1 Score: 0.9295774647887324\n",
      "Epoch 94/300\n",
      "[LightGBM] [Info] Number of positive: 442, number of negative: 540\n",
      "[LightGBM] [Info] This is the GPU trainer!!\n",
      "[LightGBM] [Info] Total Bins 7650\n",
      "[LightGBM] [Info] Number of data points in the train set: 982, number of used features: 30\n"
     ]
    },
    {
     "name": "stderr",
     "output_type": "stream",
     "text": [
      "c:\\Users\\FH-Deg\\.conda\\envs\\tf_c_gpu\\lib\\site-packages\\lightgbm\\basic.py:1192: UserWarning: Converting data to scipy sparse matrix.\n",
      "  _log_warning('Converting data to scipy sparse matrix.')\n"
     ]
    },
    {
     "name": "stdout",
     "output_type": "stream",
     "text": [
      "[LightGBM] [Info] Using GPU Device: Quadro RTX 4000, Vendor: NVIDIA Corporation\n",
      "[LightGBM] [Info] Compiling OpenCL Kernel with 256 bins...\n",
      "[LightGBM] [Info] GPU programs have been built\n",
      "[LightGBM] [Info] Size of histogram bin entry: 8\n",
      "[LightGBM] [Info] 30 dense feature groups (0.03 MB) transferred to GPU in 0.004892 secs. 0 sparse feature groups\n",
      "[LightGBM] [Info] Size of histogram bin entry: 8\n",
      "[LightGBM] [Info] 30 dense feature groups (0.02 MB) transferred to GPU in 0.012113 secs. 0 sparse feature groups\n",
      "[LightGBM] [Warning] No further splits with positive gain, best gain: -inf\n",
      "threshold: 0.601977452472043\n",
      "AUC-ROC: 0.9924317535858286\n",
      "Accuracy: 0.9329268292682927\n",
      "Precision: 0.9930347885096955\n",
      "Confusion Matrix:\n",
      "[[489   3]\n",
      " [ 63 429]]\n",
      "Recall: 0.8719512195121951\n",
      "F1 Score: 0.9285714285714286\n",
      "Updating target policy...\n",
      "Epoch 95/300\n",
      "[LightGBM] [Info] Number of positive: 442, number of negative: 540\n",
      "[LightGBM] [Info] This is the GPU trainer!!\n",
      "[LightGBM] [Info] Total Bins 7650\n",
      "[LightGBM] [Info] Number of data points in the train set: 982, number of used features: 30\n",
      "[LightGBM] [Info] Using GPU Device: Quadro RTX 4000, Vendor: NVIDIA Corporation\n",
      "[LightGBM] [Info] Compiling OpenCL Kernel with 256 bins...\n"
     ]
    },
    {
     "name": "stderr",
     "output_type": "stream",
     "text": [
      "c:\\Users\\FH-Deg\\.conda\\envs\\tf_c_gpu\\lib\\site-packages\\lightgbm\\basic.py:1192: UserWarning: Converting data to scipy sparse matrix.\n",
      "  _log_warning('Converting data to scipy sparse matrix.')\n"
     ]
    },
    {
     "name": "stdout",
     "output_type": "stream",
     "text": [
      "[LightGBM] [Info] GPU programs have been built\n",
      "[LightGBM] [Info] Size of histogram bin entry: 8\n",
      "[LightGBM] [Info] 30 dense feature groups (0.03 MB) transferred to GPU in 0.004860 secs. 0 sparse feature groups\n",
      "[LightGBM] [Info] Size of histogram bin entry: 8\n",
      "[LightGBM] [Info] 30 dense feature groups (0.02 MB) transferred to GPU in 0.004834 secs. 0 sparse feature groups\n",
      "threshold: 0.6028050215227966\n",
      "AUC-ROC: 0.9924110978914668\n",
      "Accuracy: 0.9329268292682927\n",
      "Precision: 0.9930175845439675\n",
      "Confusion Matrix:\n",
      "[[489   3]\n",
      " [ 63 429]]\n",
      "Recall: 0.8719512195121951\n",
      "F1 Score: 0.9285714285714286\n",
      "Epoch 96/300\n",
      "[LightGBM] [Info] Number of positive: 442, number of negative: 540\n",
      "[LightGBM] [Info] This is the GPU trainer!!\n",
      "[LightGBM] [Info] Total Bins 7650\n",
      "[LightGBM] [Info] Number of data points in the train set: 982, number of used features: 30\n"
     ]
    },
    {
     "name": "stderr",
     "output_type": "stream",
     "text": [
      "c:\\Users\\FH-Deg\\.conda\\envs\\tf_c_gpu\\lib\\site-packages\\lightgbm\\basic.py:1192: UserWarning: Converting data to scipy sparse matrix.\n",
      "  _log_warning('Converting data to scipy sparse matrix.')\n"
     ]
    },
    {
     "name": "stdout",
     "output_type": "stream",
     "text": [
      "[LightGBM] [Info] Using GPU Device: Quadro RTX 4000, Vendor: NVIDIA Corporation\n",
      "[LightGBM] [Info] Compiling OpenCL Kernel with 256 bins...\n",
      "[LightGBM] [Info] GPU programs have been built\n",
      "[LightGBM] [Info] Size of histogram bin entry: 8\n",
      "[LightGBM] [Info] 30 dense feature groups (0.03 MB) transferred to GPU in 0.005870 secs. 0 sparse feature groups\n",
      "[LightGBM] [Info] Size of histogram bin entry: 8\n",
      "[LightGBM] [Info] 30 dense feature groups (0.02 MB) transferred to GPU in 0.004531 secs. 0 sparse feature groups\n",
      "threshold: 0.6072607737055041\n",
      "AUC-ROC: 0.9924317535858285\n",
      "Accuracy: 0.9339430894308943\n",
      "Precision: 0.9930244955069373\n",
      "Confusion Matrix:\n",
      "[[490   2]\n",
      " [ 63 429]]\n",
      "Recall: 0.8719512195121951\n",
      "F1 Score: 0.9295774647887324\n",
      "Epoch 97/300\n",
      "[LightGBM] [Info] Number of positive: 442, number of negative: 540\n",
      "[LightGBM] [Info] This is the GPU trainer!!\n",
      "[LightGBM] [Info] Total Bins 7650\n",
      "[LightGBM] [Info] Number of data points in the train set: 982, number of used features: 30\n",
      "[LightGBM] [Info] Using GPU Device: Quadro RTX 4000, Vendor: NVIDIA Corporation\n",
      "[LightGBM] [Info] Compiling OpenCL Kernel with 256 bins...\n",
      "[LightGBM] [Info] GPU programs have been built\n",
      "[LightGBM] [Info] Size of histogram bin entry: 8\n",
      "[LightGBM] [Info] 30 dense feature groups (0.03 MB) transferred to GPU in 0.004606 secs. 0 sparse feature groups\n",
      "[LightGBM] [Info] Size of histogram bin entry: 8\n"
     ]
    },
    {
     "name": "stderr",
     "output_type": "stream",
     "text": [
      "c:\\Users\\FH-Deg\\.conda\\envs\\tf_c_gpu\\lib\\site-packages\\lightgbm\\basic.py:1192: UserWarning: Converting data to scipy sparse matrix.\n",
      "  _log_warning('Converting data to scipy sparse matrix.')\n"
     ]
    },
    {
     "name": "stdout",
     "output_type": "stream",
     "text": [
      "[LightGBM] [Info] 30 dense feature groups (0.02 MB) transferred to GPU in 0.004711 secs. 0 sparse feature groups\n",
      "threshold: 0.6093354717850348\n",
      "AUC-ROC: 0.9925143763632758\n",
      "Accuracy: 0.9339430894308943\n",
      "Precision: 0.9930975480097741\n",
      "Confusion Matrix:\n",
      "[[490   2]\n",
      " [ 63 429]]\n",
      "Recall: 0.8719512195121951\n",
      "F1 Score: 0.9295774647887324\n",
      "Updating target policy...\n",
      "Epoch 98/300\n",
      "[LightGBM] [Info] Number of positive: 442, number of negative: 540\n",
      "[LightGBM] [Info] This is the GPU trainer!!\n",
      "[LightGBM] [Info] Total Bins 7650\n",
      "[LightGBM] [Info] Number of data points in the train set: 982, number of used features: 30\n"
     ]
    },
    {
     "name": "stderr",
     "output_type": "stream",
     "text": [
      "c:\\Users\\FH-Deg\\.conda\\envs\\tf_c_gpu\\lib\\site-packages\\lightgbm\\basic.py:1192: UserWarning: Converting data to scipy sparse matrix.\n",
      "  _log_warning('Converting data to scipy sparse matrix.')\n"
     ]
    },
    {
     "name": "stdout",
     "output_type": "stream",
     "text": [
      "[LightGBM] [Info] Using GPU Device: Quadro RTX 4000, Vendor: NVIDIA Corporation\n",
      "[LightGBM] [Info] Compiling OpenCL Kernel with 256 bins...\n",
      "[LightGBM] [Info] GPU programs have been built\n",
      "[LightGBM] [Info] Size of histogram bin entry: 8\n",
      "[LightGBM] [Info] 30 dense feature groups (0.03 MB) transferred to GPU in 0.004843 secs. 0 sparse feature groups\n",
      "[LightGBM] [Info] Size of histogram bin entry: 8\n",
      "[LightGBM] [Info] 30 dense feature groups (0.02 MB) transferred to GPU in 0.004486 secs. 0 sparse feature groups\n",
      "threshold: 0.6102625730318206\n",
      "AUC-ROC: 0.9925102452244035\n",
      "Accuracy: 0.9349593495934959\n",
      "Precision: 0.9930955788945135\n",
      "Confusion Matrix:\n",
      "[[491   1]\n",
      " [ 63 429]]\n",
      "Recall: 0.8719512195121951\n",
      "F1 Score: 0.93058568329718\n",
      "Epoch 99/300\n",
      "[LightGBM] [Info] Number of positive: 442, number of negative: 540\n",
      "[LightGBM] [Info] This is the GPU trainer!!\n",
      "[LightGBM] [Info] Total Bins 7650\n",
      "[LightGBM] [Info] Number of data points in the train set: 982, number of used features: 30\n"
     ]
    },
    {
     "name": "stderr",
     "output_type": "stream",
     "text": [
      "c:\\Users\\FH-Deg\\.conda\\envs\\tf_c_gpu\\lib\\site-packages\\lightgbm\\basic.py:1192: UserWarning: Converting data to scipy sparse matrix.\n",
      "  _log_warning('Converting data to scipy sparse matrix.')\n"
     ]
    },
    {
     "name": "stdout",
     "output_type": "stream",
     "text": [
      "[LightGBM] [Info] Using GPU Device: Quadro RTX 4000, Vendor: NVIDIA Corporation\n",
      "[LightGBM] [Info] Compiling OpenCL Kernel with 256 bins...\n",
      "[LightGBM] [Info] GPU programs have been built\n",
      "[LightGBM] [Info] Size of histogram bin entry: 8\n",
      "[LightGBM] [Info] 30 dense feature groups (0.03 MB) transferred to GPU in 0.015050 secs. 0 sparse feature groups\n",
      "[LightGBM] [Info] Size of histogram bin entry: 8\n",
      "[LightGBM] [Info] 30 dense feature groups (0.02 MB) transferred to GPU in 0.014632 secs. 0 sparse feature groups\n",
      "threshold: 0.6136199696244488\n",
      "AUC-ROC: 0.9925639500297443\n",
      "Accuracy: 0.9349593495934959\n",
      "Precision: 0.9931375409808111\n",
      "Confusion Matrix:\n",
      "[[491   1]\n",
      " [ 63 429]]\n",
      "Recall: 0.8719512195121951\n",
      "F1 Score: 0.93058568329718\n",
      "Epoch 100/300\n",
      "[LightGBM] [Info] Number of positive: 442, number of negative: 540\n",
      "[LightGBM] [Info] This is the GPU trainer!!\n",
      "[LightGBM] [Info] Total Bins 7650\n",
      "[LightGBM] [Info] Number of data points in the train set: 982, number of used features: 30\n"
     ]
    },
    {
     "name": "stderr",
     "output_type": "stream",
     "text": [
      "c:\\Users\\FH-Deg\\.conda\\envs\\tf_c_gpu\\lib\\site-packages\\lightgbm\\basic.py:1192: UserWarning: Converting data to scipy sparse matrix.\n",
      "  _log_warning('Converting data to scipy sparse matrix.')\n"
     ]
    },
    {
     "name": "stdout",
     "output_type": "stream",
     "text": [
      "[LightGBM] [Info] Using GPU Device: Quadro RTX 4000, Vendor: NVIDIA Corporation\n",
      "[LightGBM] [Info] Compiling OpenCL Kernel with 256 bins...\n",
      "[LightGBM] [Info] GPU programs have been built\n",
      "[LightGBM] [Info] Size of histogram bin entry: 8\n",
      "[LightGBM] [Info] 30 dense feature groups (0.03 MB) transferred to GPU in 0.004665 secs. 0 sparse feature groups\n",
      "[LightGBM] [Info] Size of histogram bin entry: 8\n",
      "[LightGBM] [Info] 30 dense feature groups (0.02 MB) transferred to GPU in 0.007229 secs. 0 sparse feature groups\n",
      "threshold: 0.6139327995019969\n",
      "AUC-ROC: 0.9925804745852337\n",
      "Accuracy: 0.9349593495934959\n",
      "Precision: 0.993157020108459\n",
      "Confusion Matrix:\n",
      "[[491   1]\n",
      " [ 63 429]]\n",
      "Recall: 0.8719512195121951\n",
      "F1 Score: 0.93058568329718\n",
      "Updating target policy...\n",
      "Epoch 101/300\n",
      "[LightGBM] [Info] Number of positive: 442, number of negative: 540\n",
      "[LightGBM] [Info] This is the GPU trainer!!\n",
      "[LightGBM] [Info] Total Bins 7650\n",
      "[LightGBM] [Info] Number of data points in the train set: 982, number of used features: 30\n",
      "[LightGBM] [Info] Using GPU Device: Quadro RTX 4000, Vendor: NVIDIA Corporation\n",
      "[LightGBM] [Info] Compiling OpenCL Kernel with 256 bins...\n"
     ]
    },
    {
     "name": "stderr",
     "output_type": "stream",
     "text": [
      "c:\\Users\\FH-Deg\\.conda\\envs\\tf_c_gpu\\lib\\site-packages\\lightgbm\\basic.py:1192: UserWarning: Converting data to scipy sparse matrix.\n",
      "  _log_warning('Converting data to scipy sparse matrix.')\n"
     ]
    },
    {
     "name": "stdout",
     "output_type": "stream",
     "text": [
      "[LightGBM] [Info] GPU programs have been built\n",
      "[LightGBM] [Info] Size of histogram bin entry: 8\n",
      "[LightGBM] [Info] 30 dense feature groups (0.03 MB) transferred to GPU in 0.041007 secs. 0 sparse feature groups\n",
      "[LightGBM] [Info] Size of histogram bin entry: 8\n",
      "[LightGBM] [Info] 30 dense feature groups (0.02 MB) transferred to GPU in 0.004692 secs. 0 sparse feature groups\n",
      "threshold: 0.6172811282158036\n",
      "AUC-ROC: 0.9925928680018508\n",
      "Accuracy: 0.9349593495934959\n",
      "Precision: 0.9931602255759018\n",
      "Confusion Matrix:\n",
      "[[491   1]\n",
      " [ 63 429]]\n",
      "Recall: 0.8719512195121951\n",
      "F1 Score: 0.93058568329718\n",
      "Epoch 102/300\n",
      "[LightGBM] [Info] Number of positive: 442, number of negative: 540\n",
      "[LightGBM] [Info] This is the GPU trainer!!\n",
      "[LightGBM] [Info] Total Bins 7650\n",
      "[LightGBM] [Info] Number of data points in the train set: 982, number of used features: 30\n"
     ]
    },
    {
     "name": "stderr",
     "output_type": "stream",
     "text": [
      "c:\\Users\\FH-Deg\\.conda\\envs\\tf_c_gpu\\lib\\site-packages\\lightgbm\\basic.py:1192: UserWarning: Converting data to scipy sparse matrix.\n",
      "  _log_warning('Converting data to scipy sparse matrix.')\n"
     ]
    },
    {
     "name": "stdout",
     "output_type": "stream",
     "text": [
      "[LightGBM] [Info] Using GPU Device: Quadro RTX 4000, Vendor: NVIDIA Corporation\n",
      "[LightGBM] [Info] Compiling OpenCL Kernel with 256 bins...\n",
      "[LightGBM] [Info] GPU programs have been built\n",
      "[LightGBM] [Info] Size of histogram bin entry: 8\n",
      "[LightGBM] [Info] 30 dense feature groups (0.03 MB) transferred to GPU in 0.004642 secs. 0 sparse feature groups\n",
      "[LightGBM] [Info] Size of histogram bin entry: 8\n",
      "[LightGBM] [Info] 30 dense feature groups (0.02 MB) transferred to GPU in 0.004595 secs. 0 sparse feature groups\n",
      "threshold: 0.6169000841952013\n",
      "AUC-ROC: 0.9926796219181704\n",
      "Accuracy: 0.9349593495934959\n",
      "Precision: 0.9932368671815671\n",
      "Confusion Matrix:\n",
      "[[491   1]\n",
      " [ 63 429]]\n",
      "Recall: 0.8719512195121951\n",
      "F1 Score: 0.93058568329718\n",
      "Epoch 103/300\n",
      "[LightGBM] [Info] Number of positive: 442, number of negative: 540\n",
      "[LightGBM] [Info] This is the GPU trainer!!\n",
      "[LightGBM] [Info] Total Bins 7650\n",
      "[LightGBM] [Info] Number of data points in the train set: 982, number of used features: 30\n",
      "[LightGBM] [Info] Using GPU Device: Quadro RTX 4000, Vendor: NVIDIA Corporation\n",
      "[LightGBM] [Info] Compiling OpenCL Kernel with 256 bins...\n"
     ]
    },
    {
     "name": "stderr",
     "output_type": "stream",
     "text": [
      "c:\\Users\\FH-Deg\\.conda\\envs\\tf_c_gpu\\lib\\site-packages\\lightgbm\\basic.py:1192: UserWarning: Converting data to scipy sparse matrix.\n",
      "  _log_warning('Converting data to scipy sparse matrix.')\n"
     ]
    },
    {
     "name": "stdout",
     "output_type": "stream",
     "text": [
      "[LightGBM] [Info] GPU programs have been built\n",
      "[LightGBM] [Info] Size of histogram bin entry: 8\n",
      "[LightGBM] [Info] 30 dense feature groups (0.03 MB) transferred to GPU in 0.004370 secs. 0 sparse feature groups\n",
      "[LightGBM] [Info] Size of histogram bin entry: 8\n",
      "[LightGBM] [Info] 30 dense feature groups (0.02 MB) transferred to GPU in 0.004502 secs. 0 sparse feature groups\n",
      "threshold: 0.6178478021256312\n",
      "AUC-ROC: 0.9927126710291492\n",
      "Accuracy: 0.9349593495934959\n",
      "Precision: 0.9932682532024432\n",
      "Confusion Matrix:\n",
      "[[491   1]\n",
      " [ 63 429]]\n",
      "Recall: 0.8719512195121951\n",
      "F1 Score: 0.93058568329718\n",
      "Updating target policy...\n",
      "Epoch 104/300\n",
      "[LightGBM] [Info] Number of positive: 442, number of negative: 540\n",
      "[LightGBM] [Info] This is the GPU trainer!!\n",
      "[LightGBM] [Info] Total Bins 7650\n",
      "[LightGBM] [Info] Number of data points in the train set: 982, number of used features: 30\n"
     ]
    },
    {
     "name": "stderr",
     "output_type": "stream",
     "text": [
      "c:\\Users\\FH-Deg\\.conda\\envs\\tf_c_gpu\\lib\\site-packages\\lightgbm\\basic.py:1192: UserWarning: Converting data to scipy sparse matrix.\n",
      "  _log_warning('Converting data to scipy sparse matrix.')\n"
     ]
    },
    {
     "name": "stdout",
     "output_type": "stream",
     "text": [
      "[LightGBM] [Info] Using GPU Device: Quadro RTX 4000, Vendor: NVIDIA Corporation\n",
      "[LightGBM] [Info] Compiling OpenCL Kernel with 256 bins...\n",
      "[LightGBM] [Info] GPU programs have been built\n",
      "[LightGBM] [Info] Size of histogram bin entry: 8\n",
      "[LightGBM] [Info] 30 dense feature groups (0.03 MB) transferred to GPU in 0.025696 secs. 0 sparse feature groups\n",
      "[LightGBM] [Info] Size of histogram bin entry: 8\n",
      "[LightGBM] [Info] 30 dense feature groups (0.02 MB) transferred to GPU in 0.004471 secs. 0 sparse feature groups\n",
      "threshold: 0.6167264926469034\n",
      "AUC-ROC: 0.9927870315288518\n",
      "Accuracy: 0.9349593495934959\n",
      "Precision: 0.9933406780612877\n",
      "Confusion Matrix:\n",
      "[[491   1]\n",
      " [ 63 429]]\n",
      "Recall: 0.8719512195121951\n",
      "F1 Score: 0.93058568329718\n",
      "Epoch 105/300\n",
      "[LightGBM] [Info] Number of positive: 442, number of negative: 540\n",
      "[LightGBM] [Info] This is the GPU trainer!!\n",
      "[LightGBM] [Info] Total Bins 7650\n",
      "[LightGBM] [Info] Number of data points in the train set: 982, number of used features: 30\n"
     ]
    },
    {
     "name": "stderr",
     "output_type": "stream",
     "text": [
      "c:\\Users\\FH-Deg\\.conda\\envs\\tf_c_gpu\\lib\\site-packages\\lightgbm\\basic.py:1192: UserWarning: Converting data to scipy sparse matrix.\n",
      "  _log_warning('Converting data to scipy sparse matrix.')\n"
     ]
    },
    {
     "name": "stdout",
     "output_type": "stream",
     "text": [
      "[LightGBM] [Info] Using GPU Device: Quadro RTX 4000, Vendor: NVIDIA Corporation\n",
      "[LightGBM] [Info] Compiling OpenCL Kernel with 256 bins...\n",
      "[LightGBM] [Info] GPU programs have been built\n",
      "[LightGBM] [Info] Size of histogram bin entry: 8\n",
      "[LightGBM] [Info] 30 dense feature groups (0.03 MB) transferred to GPU in 0.004579 secs. 0 sparse feature groups\n",
      "[LightGBM] [Info] Size of histogram bin entry: 8\n",
      "[LightGBM] [Info] 30 dense feature groups (0.02 MB) transferred to GPU in 0.004914 secs. 0 sparse feature groups\n",
      "threshold: 0.6176731928033976\n",
      "AUC-ROC: 0.9928448674730649\n",
      "Accuracy: 0.9339430894308943\n",
      "Precision: 0.9933911668000287\n",
      "Confusion Matrix:\n",
      "[[490   2]\n",
      " [ 63 429]]\n",
      "Recall: 0.8719512195121951\n",
      "F1 Score: 0.9295774647887324\n",
      "Epoch 106/300\n",
      "[LightGBM] [Info] Number of positive: 442, number of negative: 540\n",
      "[LightGBM] [Info] This is the GPU trainer!!\n",
      "[LightGBM] [Info] Total Bins 7650\n",
      "[LightGBM] [Info] Number of data points in the train set: 982, number of used features: 30\n"
     ]
    },
    {
     "name": "stderr",
     "output_type": "stream",
     "text": [
      "c:\\Users\\FH-Deg\\.conda\\envs\\tf_c_gpu\\lib\\site-packages\\lightgbm\\basic.py:1192: UserWarning: Converting data to scipy sparse matrix.\n",
      "  _log_warning('Converting data to scipy sparse matrix.')\n"
     ]
    },
    {
     "name": "stdout",
     "output_type": "stream",
     "text": [
      "[LightGBM] [Info] Using GPU Device: Quadro RTX 4000, Vendor: NVIDIA Corporation\n",
      "[LightGBM] [Info] Compiling OpenCL Kernel with 256 bins...\n",
      "[LightGBM] [Info] GPU programs have been built\n",
      "[LightGBM] [Info] Size of histogram bin entry: 8\n",
      "[LightGBM] [Info] 30 dense feature groups (0.03 MB) transferred to GPU in 0.005370 secs. 0 sparse feature groups\n",
      "[LightGBM] [Info] Size of histogram bin entry: 8\n",
      "[LightGBM] [Info] 30 dense feature groups (0.02 MB) transferred to GPU in 0.004578 secs. 0 sparse feature groups\n",
      "threshold: 0.6243558453893467\n",
      "AUC-ROC: 0.9929564082226188\n",
      "Accuracy: 0.9349593495934959\n",
      "Precision: 0.9934724961774599\n",
      "Confusion Matrix:\n",
      "[[491   1]\n",
      " [ 63 429]]\n",
      "Recall: 0.8719512195121951\n",
      "F1 Score: 0.93058568329718\n",
      "Updating target policy...\n",
      "Epoch 107/300\n",
      "[LightGBM] [Info] Number of positive: 442, number of negative: 540\n",
      "[LightGBM] [Info] This is the GPU trainer!!\n",
      "[LightGBM] [Info] Total Bins 7650\n",
      "[LightGBM] [Info] Number of data points in the train set: 982, number of used features: 30\n",
      "[LightGBM] [Info] Using GPU Device: Quadro RTX 4000, Vendor: NVIDIA Corporation\n",
      "[LightGBM] [Info] Compiling OpenCL Kernel with 256 bins...\n"
     ]
    },
    {
     "name": "stderr",
     "output_type": "stream",
     "text": [
      "c:\\Users\\FH-Deg\\.conda\\envs\\tf_c_gpu\\lib\\site-packages\\lightgbm\\basic.py:1192: UserWarning: Converting data to scipy sparse matrix.\n",
      "  _log_warning('Converting data to scipy sparse matrix.')\n"
     ]
    },
    {
     "name": "stdout",
     "output_type": "stream",
     "text": [
      "[LightGBM] [Info] GPU programs have been built\n",
      "[LightGBM] [Info] Size of histogram bin entry: 8\n",
      "[LightGBM] [Info] 30 dense feature groups (0.03 MB) transferred to GPU in 0.076991 secs. 0 sparse feature groups\n",
      "[LightGBM] [Info] Size of histogram bin entry: 8\n",
      "[LightGBM] [Info] 30 dense feature groups (0.02 MB) transferred to GPU in 0.004967 secs. 0 sparse feature groups\n",
      "threshold: 0.6238552264457369\n",
      "AUC-ROC: 0.9930018507502149\n",
      "Accuracy: 0.9349593495934959\n",
      "Precision: 0.9935055084883178\n",
      "Confusion Matrix:\n",
      "[[491   1]\n",
      " [ 63 429]]\n",
      "Recall: 0.8719512195121951\n",
      "F1 Score: 0.93058568329718\n",
      "Epoch 108/300\n",
      "[LightGBM] [Info] Number of positive: 442, number of negative: 540\n",
      "[LightGBM] [Info] This is the GPU trainer!!\n",
      "[LightGBM] [Info] Total Bins 7650\n",
      "[LightGBM] [Info] Number of data points in the train set: 982, number of used features: 30\n"
     ]
    },
    {
     "name": "stderr",
     "output_type": "stream",
     "text": [
      "c:\\Users\\FH-Deg\\.conda\\envs\\tf_c_gpu\\lib\\site-packages\\lightgbm\\basic.py:1192: UserWarning: Converting data to scipy sparse matrix.\n",
      "  _log_warning('Converting data to scipy sparse matrix.')\n"
     ]
    },
    {
     "name": "stdout",
     "output_type": "stream",
     "text": [
      "[LightGBM] [Info] Using GPU Device: Quadro RTX 4000, Vendor: NVIDIA Corporation\n",
      "[LightGBM] [Info] Compiling OpenCL Kernel with 256 bins...\n",
      "[LightGBM] [Info] GPU programs have been built\n",
      "[LightGBM] [Info] Size of histogram bin entry: 8\n",
      "[LightGBM] [Info] 30 dense feature groups (0.03 MB) transferred to GPU in 0.004930 secs. 0 sparse feature groups\n",
      "[LightGBM] [Info] Size of histogram bin entry: 8\n",
      "[LightGBM] [Info] 30 dense feature groups (0.02 MB) transferred to GPU in 0.004305 secs. 0 sparse feature groups\n",
      "threshold: 0.6246500591138834\n",
      "AUC-ROC: 0.9930514244166831\n",
      "Accuracy: 0.9349593495934959\n",
      "Precision: 0.993550253088909\n",
      "Confusion Matrix:\n",
      "[[491   1]\n",
      " [ 63 429]]\n",
      "Recall: 0.8719512195121951\n",
      "F1 Score: 0.93058568329718\n",
      "Epoch 109/300\n",
      "[LightGBM] [Info] Number of positive: 442, number of negative: 540\n",
      "[LightGBM] [Info] This is the GPU trainer!!\n",
      "[LightGBM] [Info] Total Bins 7650\n",
      "[LightGBM] [Info] Number of data points in the train set: 982, number of used features: 30\n",
      "[LightGBM] [Info] Using GPU Device: Quadro RTX 4000, Vendor: NVIDIA Corporation\n",
      "[LightGBM] [Info] Compiling OpenCL Kernel with 256 bins...\n"
     ]
    },
    {
     "name": "stderr",
     "output_type": "stream",
     "text": [
      "c:\\Users\\FH-Deg\\.conda\\envs\\tf_c_gpu\\lib\\site-packages\\lightgbm\\basic.py:1192: UserWarning: Converting data to scipy sparse matrix.\n",
      "  _log_warning('Converting data to scipy sparse matrix.')\n"
     ]
    },
    {
     "name": "stdout",
     "output_type": "stream",
     "text": [
      "[LightGBM] [Info] GPU programs have been built\n",
      "[LightGBM] [Info] Size of histogram bin entry: 8\n",
      "[LightGBM] [Info] 30 dense feature groups (0.03 MB) transferred to GPU in 0.005074 secs. 0 sparse feature groups\n",
      "[LightGBM] [Info] Size of histogram bin entry: 8\n",
      "[LightGBM] [Info] 30 dense feature groups (0.02 MB) transferred to GPU in 0.028417 secs. 0 sparse feature groups\n",
      "threshold: 0.6247482964738819\n",
      "AUC-ROC: 0.9930266375834489\n",
      "Accuracy: 0.9349593495934959\n",
      "Precision: 0.9935285582394247\n",
      "Confusion Matrix:\n",
      "[[491   1]\n",
      " [ 63 429]]\n",
      "Recall: 0.8719512195121951\n",
      "F1 Score: 0.93058568329718\n",
      "Updating target policy...\n",
      "Epoch 110/300\n",
      "[LightGBM] [Info] Number of positive: 442, number of negative: 540\n",
      "[LightGBM] [Info] This is the GPU trainer!!\n",
      "[LightGBM] [Info] Total Bins 7650\n",
      "[LightGBM] [Info] Number of data points in the train set: 982, number of used features: 30\n"
     ]
    },
    {
     "name": "stderr",
     "output_type": "stream",
     "text": [
      "c:\\Users\\FH-Deg\\.conda\\envs\\tf_c_gpu\\lib\\site-packages\\lightgbm\\basic.py:1192: UserWarning: Converting data to scipy sparse matrix.\n",
      "  _log_warning('Converting data to scipy sparse matrix.')\n"
     ]
    },
    {
     "name": "stdout",
     "output_type": "stream",
     "text": [
      "[LightGBM] [Info] Using GPU Device: Quadro RTX 4000, Vendor: NVIDIA Corporation\n",
      "[LightGBM] [Info] Compiling OpenCL Kernel with 256 bins...\n",
      "[LightGBM] [Info] GPU programs have been built\n",
      "[LightGBM] [Info] Size of histogram bin entry: 8\n",
      "[LightGBM] [Info] 30 dense feature groups (0.03 MB) transferred to GPU in 0.012941 secs. 0 sparse feature groups\n",
      "[LightGBM] [Info] Size of histogram bin entry: 8\n",
      "[LightGBM] [Info] 30 dense feature groups (0.02 MB) transferred to GPU in 0.004682 secs. 0 sparse feature groups\n",
      "threshold: 0.623550244688543\n",
      "AUC-ROC: 0.9930679489721725\n",
      "Accuracy: 0.9349593495934959\n",
      "Precision: 0.9935705306532554\n",
      "Confusion Matrix:\n",
      "[[491   1]\n",
      " [ 63 429]]\n",
      "Recall: 0.8719512195121951\n",
      "F1 Score: 0.93058568329718\n",
      "Epoch 111/300\n",
      "[LightGBM] [Info] Number of positive: 442, number of negative: 540\n",
      "[LightGBM] [Info] This is the GPU trainer!!\n",
      "[LightGBM] [Info] Total Bins 7650\n",
      "[LightGBM] [Info] Number of data points in the train set: 982, number of used features: 30\n",
      "[LightGBM] [Info] Using GPU Device: Quadro RTX 4000, Vendor: NVIDIA Corporation\n",
      "[LightGBM] [Info] Compiling OpenCL Kernel with 256 bins...\n"
     ]
    },
    {
     "name": "stderr",
     "output_type": "stream",
     "text": [
      "c:\\Users\\FH-Deg\\.conda\\envs\\tf_c_gpu\\lib\\site-packages\\lightgbm\\basic.py:1192: UserWarning: Converting data to scipy sparse matrix.\n",
      "  _log_warning('Converting data to scipy sparse matrix.')\n"
     ]
    },
    {
     "name": "stdout",
     "output_type": "stream",
     "text": [
      "[LightGBM] [Info] GPU programs have been built\n",
      "[LightGBM] [Info] Size of histogram bin entry: 8\n",
      "[LightGBM] [Info] 30 dense feature groups (0.03 MB) transferred to GPU in 0.004955 secs. 0 sparse feature groups\n",
      "[LightGBM] [Info] Size of histogram bin entry: 8\n",
      "[LightGBM] [Info] 30 dense feature groups (0.02 MB) transferred to GPU in 0.004353 secs. 0 sparse feature groups\n",
      "threshold: 0.6230409031966841\n",
      "AUC-ROC: 0.9930803423887897\n",
      "Accuracy: 0.9339430894308943\n",
      "Precision: 0.9935877254717329\n",
      "Confusion Matrix:\n",
      "[[490   2]\n",
      " [ 63 429]]\n",
      "Recall: 0.8719512195121951\n",
      "F1 Score: 0.9295774647887324\n",
      "Epoch 112/300\n",
      "[LightGBM] [Info] Number of positive: 442, number of negative: 540\n",
      "[LightGBM] [Info] This is the GPU trainer!!\n",
      "[LightGBM] [Info] Total Bins 7650\n",
      "[LightGBM] [Info] Number of data points in the train set: 982, number of used features: 30\n"
     ]
    },
    {
     "name": "stderr",
     "output_type": "stream",
     "text": [
      "c:\\Users\\FH-Deg\\.conda\\envs\\tf_c_gpu\\lib\\site-packages\\lightgbm\\basic.py:1192: UserWarning: Converting data to scipy sparse matrix.\n",
      "  _log_warning('Converting data to scipy sparse matrix.')\n"
     ]
    },
    {
     "name": "stdout",
     "output_type": "stream",
     "text": [
      "[LightGBM] [Info] Using GPU Device: Quadro RTX 4000, Vendor: NVIDIA Corporation\n",
      "[LightGBM] [Info] Compiling OpenCL Kernel with 256 bins...\n",
      "[LightGBM] [Info] GPU programs have been built\n",
      "[LightGBM] [Info] Size of histogram bin entry: 8\n",
      "[LightGBM] [Info] 30 dense feature groups (0.03 MB) transferred to GPU in 0.004590 secs. 0 sparse feature groups\n",
      "[LightGBM] [Info] Size of histogram bin entry: 8\n",
      "[LightGBM] [Info] 30 dense feature groups (0.02 MB) transferred to GPU in 0.021375 secs. 0 sparse feature groups\n",
      "threshold: 0.6224983101594734\n",
      "AUC-ROC: 0.9931340471941306\n",
      "Accuracy: 0.9339430894308943\n",
      "Precision: 0.9936312764471915\n",
      "Confusion Matrix:\n",
      "[[490   2]\n",
      " [ 63 429]]\n",
      "Recall: 0.8719512195121951\n",
      "F1 Score: 0.9295774647887324\n",
      "Updating target policy...\n",
      "Epoch 113/300\n",
      "[LightGBM] [Info] Number of positive: 442, number of negative: 540\n",
      "[LightGBM] [Info] This is the GPU trainer!!\n",
      "[LightGBM] [Info] Total Bins 7650\n",
      "[LightGBM] [Info] Number of data points in the train set: 982, number of used features: 30\n",
      "[LightGBM] [Info] Using GPU Device: Quadro RTX 4000, Vendor: NVIDIA Corporation\n",
      "[LightGBM] [Info] Compiling OpenCL Kernel with 256 bins...\n",
      "[LightGBM] [Info] GPU programs have been built\n",
      "[LightGBM] [Info] Size of histogram bin entry: 8\n"
     ]
    },
    {
     "name": "stderr",
     "output_type": "stream",
     "text": [
      "c:\\Users\\FH-Deg\\.conda\\envs\\tf_c_gpu\\lib\\site-packages\\lightgbm\\basic.py:1192: UserWarning: Converting data to scipy sparse matrix.\n",
      "  _log_warning('Converting data to scipy sparse matrix.')\n"
     ]
    },
    {
     "name": "stdout",
     "output_type": "stream",
     "text": [
      "[LightGBM] [Info] 30 dense feature groups (0.03 MB) transferred to GPU in 0.004385 secs. 0 sparse feature groups\n",
      "[LightGBM] [Info] Size of histogram bin entry: 8\n",
      "[LightGBM] [Info] 30 dense feature groups (0.02 MB) transferred to GPU in 0.004752 secs. 0 sparse feature groups\n",
      "threshold: 0.6225694435543817\n",
      "AUC-ROC: 0.9931712274439817\n",
      "Accuracy: 0.9339430894308943\n",
      "Precision: 0.9936662925185887\n",
      "Confusion Matrix:\n",
      "[[490   2]\n",
      " [ 63 429]]\n",
      "Recall: 0.8719512195121951\n",
      "F1 Score: 0.9295774647887324\n",
      "Epoch 114/300\n",
      "[LightGBM] [Info] Number of positive: 442, number of negative: 540\n",
      "[LightGBM] [Info] This is the GPU trainer!!\n",
      "[LightGBM] [Info] Total Bins 7650\n",
      "[LightGBM] [Info] Number of data points in the train set: 982, number of used features: 30\n"
     ]
    },
    {
     "name": "stderr",
     "output_type": "stream",
     "text": [
      "c:\\Users\\FH-Deg\\.conda\\envs\\tf_c_gpu\\lib\\site-packages\\lightgbm\\basic.py:1192: UserWarning: Converting data to scipy sparse matrix.\n",
      "  _log_warning('Converting data to scipy sparse matrix.')\n"
     ]
    },
    {
     "name": "stdout",
     "output_type": "stream",
     "text": [
      "[LightGBM] [Info] Using GPU Device: Quadro RTX 4000, Vendor: NVIDIA Corporation\n",
      "[LightGBM] [Info] Compiling OpenCL Kernel with 256 bins...\n",
      "[LightGBM] [Info] GPU programs have been built\n",
      "[LightGBM] [Info] Size of histogram bin entry: 8\n",
      "[LightGBM] [Info] 30 dense feature groups (0.03 MB) transferred to GPU in 0.014735 secs. 0 sparse feature groups\n",
      "[LightGBM] [Info] Size of histogram bin entry: 8\n",
      "[LightGBM] [Info] 30 dense feature groups (0.02 MB) transferred to GPU in 0.004337 secs. 0 sparse feature groups\n",
      "threshold: 0.6219266819764526\n",
      "AUC-ROC: 0.993208407693833\n",
      "Accuracy: 0.9339430894308943\n",
      "Precision: 0.9936979655080819\n",
      "Confusion Matrix:\n",
      "[[490   2]\n",
      " [ 63 429]]\n",
      "Recall: 0.8719512195121951\n",
      "F1 Score: 0.9295774647887324\n",
      "Epoch 115/300\n",
      "[LightGBM] [Info] Number of positive: 442, number of negative: 540\n",
      "[LightGBM] [Info] This is the GPU trainer!!\n",
      "[LightGBM] [Info] Total Bins 7650\n",
      "[LightGBM] [Info] Number of data points in the train set: 982, number of used features: 30\n",
      "[LightGBM] [Info] Using GPU Device: Quadro RTX 4000, Vendor: NVIDIA Corporation\n",
      "[LightGBM] [Info] Compiling OpenCL Kernel with 256 bins...\n"
     ]
    },
    {
     "name": "stderr",
     "output_type": "stream",
     "text": [
      "c:\\Users\\FH-Deg\\.conda\\envs\\tf_c_gpu\\lib\\site-packages\\lightgbm\\basic.py:1192: UserWarning: Converting data to scipy sparse matrix.\n",
      "  _log_warning('Converting data to scipy sparse matrix.')\n"
     ]
    },
    {
     "name": "stdout",
     "output_type": "stream",
     "text": [
      "[LightGBM] [Info] GPU programs have been built\n",
      "[LightGBM] [Info] Size of histogram bin entry: 8\n",
      "[LightGBM] [Info] 30 dense feature groups (0.03 MB) transferred to GPU in 0.036199 secs. 0 sparse feature groups\n",
      "[LightGBM] [Info] Size of histogram bin entry: 8\n",
      "[LightGBM] [Info] 30 dense feature groups (0.02 MB) transferred to GPU in 0.014045 secs. 0 sparse feature groups\n",
      "threshold: 0.6213838064558919\n",
      "AUC-ROC: 0.9932249322493224\n",
      "Accuracy: 0.9359756097560976\n",
      "Precision: 0.9937256021888798\n",
      "Confusion Matrix:\n",
      "[[491   1]\n",
      " [ 62 430]]\n",
      "Recall: 0.8739837398373984\n",
      "F1 Score: 0.9317443120260022\n",
      "Updating target policy...\n",
      "Epoch 116/300\n",
      "[LightGBM] [Info] Number of positive: 442, number of negative: 540\n",
      "[LightGBM] [Info] This is the GPU trainer!!\n",
      "[LightGBM] [Info] Total Bins 7650\n",
      "[LightGBM] [Info] Number of data points in the train set: 982, number of used features: 30\n"
     ]
    },
    {
     "name": "stderr",
     "output_type": "stream",
     "text": [
      "c:\\Users\\FH-Deg\\.conda\\envs\\tf_c_gpu\\lib\\site-packages\\lightgbm\\basic.py:1192: UserWarning: Converting data to scipy sparse matrix.\n",
      "  _log_warning('Converting data to scipy sparse matrix.')\n"
     ]
    },
    {
     "name": "stdout",
     "output_type": "stream",
     "text": [
      "[LightGBM] [Info] Using GPU Device: Quadro RTX 4000, Vendor: NVIDIA Corporation\n",
      "[LightGBM] [Info] Compiling OpenCL Kernel with 256 bins...\n",
      "[LightGBM] [Info] GPU programs have been built\n",
      "[LightGBM] [Info] Size of histogram bin entry: 8\n",
      "[LightGBM] [Info] 30 dense feature groups (0.03 MB) transferred to GPU in 0.004800 secs. 0 sparse feature groups\n",
      "[LightGBM] [Info] Size of histogram bin entry: 8\n",
      "[LightGBM] [Info] 30 dense feature groups (0.02 MB) transferred to GPU in 0.004399 secs. 0 sparse feature groups\n",
      "threshold: 0.6268542519904668\n",
      "AUC-ROC: 0.9932951616101526\n",
      "Accuracy: 0.9359756097560976\n",
      "Precision: 0.9937791410582066\n",
      "Confusion Matrix:\n",
      "[[491   1]\n",
      " [ 62 430]]\n",
      "Recall: 0.8739837398373984\n",
      "F1 Score: 0.9317443120260022\n",
      "Epoch 117/300\n",
      "[LightGBM] [Info] Number of positive: 442, number of negative: 540\n",
      "[LightGBM] [Info] This is the GPU trainer!!\n",
      "[LightGBM] [Info] Total Bins 7650\n",
      "[LightGBM] [Info] Number of data points in the train set: 982, number of used features: 30\n",
      "[LightGBM] [Info] Using GPU Device: Quadro RTX 4000, Vendor: NVIDIA Corporation\n",
      "[LightGBM] [Info] Compiling OpenCL Kernel with 256 bins...\n"
     ]
    },
    {
     "name": "stderr",
     "output_type": "stream",
     "text": [
      "c:\\Users\\FH-Deg\\.conda\\envs\\tf_c_gpu\\lib\\site-packages\\lightgbm\\basic.py:1192: UserWarning: Converting data to scipy sparse matrix.\n",
      "  _log_warning('Converting data to scipy sparse matrix.')\n"
     ]
    },
    {
     "name": "stdout",
     "output_type": "stream",
     "text": [
      "[LightGBM] [Info] GPU programs have been built\n",
      "[LightGBM] [Info] Size of histogram bin entry: 8\n",
      "[LightGBM] [Info] 30 dense feature groups (0.03 MB) transferred to GPU in 0.026749 secs. 0 sparse feature groups\n",
      "[LightGBM] [Info] Size of histogram bin entry: 8\n",
      "[LightGBM] [Info] 30 dense feature groups (0.02 MB) transferred to GPU in 0.004563 secs. 0 sparse feature groups\n",
      "threshold: 0.6269653431378569\n",
      "AUC-ROC: 0.9933488664154934\n",
      "Accuracy: 0.9359756097560976\n",
      "Precision: 0.9938306482940578\n",
      "Confusion Matrix:\n",
      "[[491   1]\n",
      " [ 62 430]]\n",
      "Recall: 0.8739837398373984\n",
      "F1 Score: 0.9317443120260022\n",
      "Epoch 118/300\n",
      "[LightGBM] [Info] Number of positive: 442, number of negative: 540\n",
      "[LightGBM] [Info] This is the GPU trainer!!\n",
      "[LightGBM] [Info] Total Bins 7650\n",
      "[LightGBM] [Info] Number of data points in the train set: 982, number of used features: 30\n"
     ]
    },
    {
     "name": "stderr",
     "output_type": "stream",
     "text": [
      "c:\\Users\\FH-Deg\\.conda\\envs\\tf_c_gpu\\lib\\site-packages\\lightgbm\\basic.py:1192: UserWarning: Converting data to scipy sparse matrix.\n",
      "  _log_warning('Converting data to scipy sparse matrix.')\n"
     ]
    },
    {
     "name": "stdout",
     "output_type": "stream",
     "text": [
      "[LightGBM] [Info] Using GPU Device: Quadro RTX 4000, Vendor: NVIDIA Corporation\n",
      "[LightGBM] [Info] Compiling OpenCL Kernel with 256 bins...\n",
      "[LightGBM] [Info] GPU programs have been built\n",
      "[LightGBM] [Info] Size of histogram bin entry: 8\n",
      "[LightGBM] [Info] 30 dense feature groups (0.03 MB) transferred to GPU in 0.010373 secs. 0 sparse feature groups\n",
      "[LightGBM] [Info] Size of histogram bin entry: 8\n",
      "[LightGBM] [Info] 30 dense feature groups (0.02 MB) transferred to GPU in 0.004382 secs. 0 sparse feature groups\n",
      "threshold: 0.6318379048605595\n",
      "AUC-ROC: 0.9934480137484301\n",
      "Accuracy: 0.9359756097560976\n",
      "Precision: 0.9939072109794613\n",
      "Confusion Matrix:\n",
      "[[491   1]\n",
      " [ 62 430]]\n",
      "Recall: 0.8739837398373984\n",
      "F1 Score: 0.9317443120260022\n",
      "Updating target policy...\n",
      "Epoch 119/300\n",
      "[LightGBM] [Info] Number of positive: 442, number of negative: 540\n",
      "[LightGBM] [Info] This is the GPU trainer!!\n",
      "[LightGBM] [Info] Total Bins 7650\n",
      "[LightGBM] [Info] Number of data points in the train set: 982, number of used features: 30\n",
      "[LightGBM] [Info] Using GPU Device: Quadro RTX 4000, Vendor: NVIDIA Corporation\n",
      "[LightGBM] [Info] Compiling OpenCL Kernel with 256 bins...\n"
     ]
    },
    {
     "name": "stderr",
     "output_type": "stream",
     "text": [
      "c:\\Users\\FH-Deg\\.conda\\envs\\tf_c_gpu\\lib\\site-packages\\lightgbm\\basic.py:1192: UserWarning: Converting data to scipy sparse matrix.\n",
      "  _log_warning('Converting data to scipy sparse matrix.')\n"
     ]
    },
    {
     "name": "stdout",
     "output_type": "stream",
     "text": [
      "[LightGBM] [Info] GPU programs have been built\n",
      "[LightGBM] [Info] Size of histogram bin entry: 8\n",
      "[LightGBM] [Info] 30 dense feature groups (0.03 MB) transferred to GPU in 0.004237 secs. 0 sparse feature groups\n",
      "[LightGBM] [Info] Size of histogram bin entry: 8\n",
      "[LightGBM] [Info] 30 dense feature groups (0.02 MB) transferred to GPU in 0.004374 secs. 0 sparse feature groups\n",
      "threshold: 0.6333434806004512\n",
      "AUC-ROC: 0.993526505387005\n",
      "Accuracy: 0.9359756097560976\n",
      "Precision: 0.9939764487230526\n",
      "Confusion Matrix:\n",
      "[[491   1]\n",
      " [ 62 430]]\n",
      "Recall: 0.8739837398373984\n",
      "F1 Score: 0.9317443120260022\n",
      "Epoch 120/300\n",
      "[LightGBM] [Info] Number of positive: 442, number of negative: 540\n",
      "[LightGBM] [Info] This is the GPU trainer!!\n",
      "[LightGBM] [Info] Total Bins 7650\n",
      "[LightGBM] [Info] Number of data points in the train set: 982, number of used features: 30\n"
     ]
    },
    {
     "name": "stderr",
     "output_type": "stream",
     "text": [
      "c:\\Users\\FH-Deg\\.conda\\envs\\tf_c_gpu\\lib\\site-packages\\lightgbm\\basic.py:1192: UserWarning: Converting data to scipy sparse matrix.\n",
      "  _log_warning('Converting data to scipy sparse matrix.')\n"
     ]
    },
    {
     "name": "stdout",
     "output_type": "stream",
     "text": [
      "[LightGBM] [Info] Using GPU Device: Quadro RTX 4000, Vendor: NVIDIA Corporation\n",
      "[LightGBM] [Info] Compiling OpenCL Kernel with 256 bins...\n",
      "[LightGBM] [Info] GPU programs have been built\n",
      "[LightGBM] [Info] Size of histogram bin entry: 8\n",
      "[LightGBM] [Info] 30 dense feature groups (0.03 MB) transferred to GPU in 0.017713 secs. 0 sparse feature groups\n",
      "[LightGBM] [Info] Size of histogram bin entry: 8\n",
      "[LightGBM] [Info] 30 dense feature groups (0.02 MB) transferred to GPU in 0.004623 secs. 0 sparse feature groups\n",
      "threshold: 0.6347672189832426\n",
      "AUC-ROC: 0.9935512922202393\n",
      "Accuracy: 0.9359756097560976\n",
      "Precision: 0.9939987113433384\n",
      "Confusion Matrix:\n",
      "[[491   1]\n",
      " [ 62 430]]\n",
      "Recall: 0.8739837398373984\n",
      "F1 Score: 0.9317443120260022\n",
      "Epoch 121/300\n",
      "[LightGBM] [Info] Number of positive: 442, number of negative: 540\n",
      "[LightGBM] [Info] This is the GPU trainer!!\n",
      "[LightGBM] [Info] Total Bins 7650\n",
      "[LightGBM] [Info] Number of data points in the train set: 982, number of used features: 30\n",
      "[LightGBM] [Info] Using GPU Device: Quadro RTX 4000, Vendor: NVIDIA Corporation\n",
      "[LightGBM] [Info] Compiling OpenCL Kernel with 256 bins...\n"
     ]
    },
    {
     "name": "stderr",
     "output_type": "stream",
     "text": [
      "c:\\Users\\FH-Deg\\.conda\\envs\\tf_c_gpu\\lib\\site-packages\\lightgbm\\basic.py:1192: UserWarning: Converting data to scipy sparse matrix.\n",
      "  _log_warning('Converting data to scipy sparse matrix.')\n"
     ]
    },
    {
     "name": "stdout",
     "output_type": "stream",
     "text": [
      "[LightGBM] [Info] GPU programs have been built\n",
      "[LightGBM] [Info] Size of histogram bin entry: 8\n",
      "[LightGBM] [Info] 30 dense feature groups (0.03 MB) transferred to GPU in 0.010810 secs. 0 sparse feature groups\n",
      "[LightGBM] [Info] Size of histogram bin entry: 8\n",
      "[LightGBM] [Info] 30 dense feature groups (0.02 MB) transferred to GPU in 0.005609 secs. 0 sparse feature groups\n",
      "threshold: 0.6348509521838741\n",
      "AUC-ROC: 0.9935884724700905\n",
      "Accuracy: 0.9359756097560976\n",
      "Precision: 0.9940338352236222\n",
      "Confusion Matrix:\n",
      "[[491   1]\n",
      " [ 62 430]]\n",
      "Recall: 0.8739837398373984\n",
      "F1 Score: 0.9317443120260022\n",
      "Updating target policy...\n",
      "Epoch 122/300\n",
      "[LightGBM] [Info] Number of positive: 442, number of negative: 540\n",
      "[LightGBM] [Info] This is the GPU trainer!!\n",
      "[LightGBM] [Info] Total Bins 7650\n",
      "[LightGBM] [Info] Number of data points in the train set: 982, number of used features: 30\n"
     ]
    },
    {
     "name": "stderr",
     "output_type": "stream",
     "text": [
      "c:\\Users\\FH-Deg\\.conda\\envs\\tf_c_gpu\\lib\\site-packages\\lightgbm\\basic.py:1192: UserWarning: Converting data to scipy sparse matrix.\n",
      "  _log_warning('Converting data to scipy sparse matrix.')\n"
     ]
    },
    {
     "name": "stdout",
     "output_type": "stream",
     "text": [
      "[LightGBM] [Info] Using GPU Device: Quadro RTX 4000, Vendor: NVIDIA Corporation\n",
      "[LightGBM] [Info] Compiling OpenCL Kernel with 256 bins...\n",
      "[LightGBM] [Info] GPU programs have been built\n",
      "[LightGBM] [Info] Size of histogram bin entry: 8\n",
      "[LightGBM] [Info] 30 dense feature groups (0.03 MB) transferred to GPU in 0.004385 secs. 0 sparse feature groups\n",
      "[LightGBM] [Info] Size of histogram bin entry: 8\n",
      "[LightGBM] [Info] 30 dense feature groups (0.02 MB) transferred to GPU in 0.004357 secs. 0 sparse feature groups\n",
      "threshold: 0.6348722992210493\n",
      "AUC-ROC: 0.9935967347478352\n",
      "Accuracy: 0.9359756097560976\n",
      "Precision: 0.9940459587967589\n",
      "Confusion Matrix:\n",
      "[[491   1]\n",
      " [ 62 430]]\n",
      "Recall: 0.8739837398373984\n",
      "F1 Score: 0.9317443120260022\n",
      "Epoch 123/300\n",
      "[LightGBM] [Info] Number of positive: 442, number of negative: 540\n",
      "[LightGBM] [Info] This is the GPU trainer!!\n",
      "[LightGBM] [Info] Total Bins 7650\n",
      "[LightGBM] [Info] Number of data points in the train set: 982, number of used features: 30\n"
     ]
    },
    {
     "name": "stderr",
     "output_type": "stream",
     "text": [
      "c:\\Users\\FH-Deg\\.conda\\envs\\tf_c_gpu\\lib\\site-packages\\lightgbm\\basic.py:1192: UserWarning: Converting data to scipy sparse matrix.\n",
      "  _log_warning('Converting data to scipy sparse matrix.')\n"
     ]
    },
    {
     "name": "stdout",
     "output_type": "stream",
     "text": [
      "[LightGBM] [Info] Using GPU Device: Quadro RTX 4000, Vendor: NVIDIA Corporation\n",
      "[LightGBM] [Info] Compiling OpenCL Kernel with 256 bins...\n",
      "[LightGBM] [Info] GPU programs have been built\n",
      "[LightGBM] [Info] Size of histogram bin entry: 8\n",
      "[LightGBM] [Info] 30 dense feature groups (0.03 MB) transferred to GPU in 0.011564 secs. 0 sparse feature groups\n",
      "[LightGBM] [Info] Size of histogram bin entry: 8\n",
      "[LightGBM] [Info] 30 dense feature groups (0.02 MB) transferred to GPU in 0.018226 secs. 0 sparse feature groups\n",
      "threshold: 0.6356193712046428\n",
      "AUC-ROC: 0.9936297838588142\n",
      "Accuracy: 0.9359756097560976\n",
      "Precision: 0.994078822444484\n",
      "Confusion Matrix:\n",
      "[[491   1]\n",
      " [ 62 430]]\n",
      "Recall: 0.8739837398373984\n",
      "F1 Score: 0.9317443120260022\n",
      "Epoch 124/300\n",
      "[LightGBM] [Info] Number of positive: 442, number of negative: 540\n",
      "[LightGBM] [Info] This is the GPU trainer!!\n",
      "[LightGBM] [Info] Total Bins 7650\n",
      "[LightGBM] [Info] Number of data points in the train set: 982, number of used features: 30\n"
     ]
    },
    {
     "name": "stderr",
     "output_type": "stream",
     "text": [
      "c:\\Users\\FH-Deg\\.conda\\envs\\tf_c_gpu\\lib\\site-packages\\lightgbm\\basic.py:1192: UserWarning: Converting data to scipy sparse matrix.\n",
      "  _log_warning('Converting data to scipy sparse matrix.')\n"
     ]
    },
    {
     "name": "stdout",
     "output_type": "stream",
     "text": [
      "[LightGBM] [Info] Using GPU Device: Quadro RTX 4000, Vendor: NVIDIA Corporation\n",
      "[LightGBM] [Info] Compiling OpenCL Kernel with 256 bins...\n",
      "[LightGBM] [Info] GPU programs have been built\n",
      "[LightGBM] [Info] Size of histogram bin entry: 8\n",
      "[LightGBM] [Info] 30 dense feature groups (0.03 MB) transferred to GPU in 0.005198 secs. 0 sparse feature groups\n",
      "[LightGBM] [Info] Size of histogram bin entry: 8\n",
      "[LightGBM] [Info] 30 dense feature groups (0.02 MB) transferred to GPU in 0.004520 secs. 0 sparse feature groups\n",
      "threshold: 0.6369836762558522\n",
      "AUC-ROC: 0.9936710952475378\n",
      "Accuracy: 0.9359756097560976\n",
      "Precision: 0.994116248758111\n",
      "Confusion Matrix:\n",
      "[[491   1]\n",
      " [ 62 430]]\n",
      "Recall: 0.8739837398373984\n",
      "F1 Score: 0.9317443120260022\n",
      "Updating target policy...\n",
      "Epoch 125/300\n",
      "[LightGBM] [Info] Number of positive: 442, number of negative: 540\n",
      "[LightGBM] [Info] This is the GPU trainer!!\n",
      "[LightGBM] [Info] Total Bins 7650\n",
      "[LightGBM] [Info] Number of data points in the train set: 982, number of used features: 30\n"
     ]
    },
    {
     "name": "stderr",
     "output_type": "stream",
     "text": [
      "c:\\Users\\FH-Deg\\.conda\\envs\\tf_c_gpu\\lib\\site-packages\\lightgbm\\basic.py:1192: UserWarning: Converting data to scipy sparse matrix.\n",
      "  _log_warning('Converting data to scipy sparse matrix.')\n"
     ]
    },
    {
     "name": "stdout",
     "output_type": "stream",
     "text": [
      "[LightGBM] [Info] Using GPU Device: Quadro RTX 4000, Vendor: NVIDIA Corporation\n",
      "[LightGBM] [Info] Compiling OpenCL Kernel with 256 bins...\n",
      "[LightGBM] [Info] GPU programs have been built\n",
      "[LightGBM] [Info] Size of histogram bin entry: 8\n",
      "[LightGBM] [Info] 30 dense feature groups (0.03 MB) transferred to GPU in 0.026838 secs. 0 sparse feature groups\n",
      "[LightGBM] [Info] Size of histogram bin entry: 8\n",
      "[LightGBM] [Info] 30 dense feature groups (0.02 MB) transferred to GPU in 0.023392 secs. 0 sparse feature groups\n",
      "threshold: 0.636983054518387\n",
      "AUC-ROC: 0.9937206689140061\n",
      "Accuracy: 0.9359756097560976\n",
      "Precision: 0.9941669881338131\n",
      "Confusion Matrix:\n",
      "[[491   1]\n",
      " [ 62 430]]\n",
      "Recall: 0.8739837398373984\n",
      "F1 Score: 0.9317443120260022\n",
      "Epoch 126/300\n",
      "[LightGBM] [Info] Number of positive: 442, number of negative: 540\n",
      "[LightGBM] [Info] This is the GPU trainer!!\n",
      "[LightGBM] [Info] Total Bins 7650\n",
      "[LightGBM] [Info] Number of data points in the train set: 982, number of used features: 30\n"
     ]
    },
    {
     "name": "stderr",
     "output_type": "stream",
     "text": [
      "c:\\Users\\FH-Deg\\.conda\\envs\\tf_c_gpu\\lib\\site-packages\\lightgbm\\basic.py:1192: UserWarning: Converting data to scipy sparse matrix.\n",
      "  _log_warning('Converting data to scipy sparse matrix.')\n"
     ]
    },
    {
     "name": "stdout",
     "output_type": "stream",
     "text": [
      "[LightGBM] [Info] Using GPU Device: Quadro RTX 4000, Vendor: NVIDIA Corporation\n",
      "[LightGBM] [Info] Compiling OpenCL Kernel with 256 bins...\n",
      "[LightGBM] [Info] GPU programs have been built\n",
      "[LightGBM] [Info] Size of histogram bin entry: 8\n",
      "[LightGBM] [Info] 30 dense feature groups (0.03 MB) transferred to GPU in 0.013838 secs. 0 sparse feature groups\n",
      "[LightGBM] [Info] Size of histogram bin entry: 8\n",
      "[LightGBM] [Info] 30 dense feature groups (0.02 MB) transferred to GPU in 0.004238 secs. 0 sparse feature groups\n",
      "threshold: 0.6376520657096224\n",
      "AUC-ROC: 0.9936876198030273\n",
      "Accuracy: 0.9369918699186992\n",
      "Precision: 0.9941408003815488\n",
      "Confusion Matrix:\n",
      "[[491   1]\n",
      " [ 61 431]]\n",
      "Recall: 0.8760162601626016\n",
      "F1 Score: 0.9329004329004329\n",
      "Epoch 127/300\n",
      "[LightGBM] [Info] Number of positive: 442, number of negative: 540\n",
      "[LightGBM] [Info] This is the GPU trainer!!\n",
      "[LightGBM] [Info] Total Bins 7650\n",
      "[LightGBM] [Info] Number of data points in the train set: 982, number of used features: 30\n",
      "[LightGBM] [Info] Using GPU Device: Quadro RTX 4000, Vendor: NVIDIA Corporation\n",
      "[LightGBM] [Info] Compiling OpenCL Kernel with 256 bins...\n"
     ]
    },
    {
     "name": "stderr",
     "output_type": "stream",
     "text": [
      "c:\\Users\\FH-Deg\\.conda\\envs\\tf_c_gpu\\lib\\site-packages\\lightgbm\\basic.py:1192: UserWarning: Converting data to scipy sparse matrix.\n",
      "  _log_warning('Converting data to scipy sparse matrix.')\n"
     ]
    },
    {
     "name": "stdout",
     "output_type": "stream",
     "text": [
      "[LightGBM] [Info] GPU programs have been built\n",
      "[LightGBM] [Info] Size of histogram bin entry: 8\n",
      "[LightGBM] [Info] 30 dense feature groups (0.03 MB) transferred to GPU in 0.004406 secs. 0 sparse feature groups\n",
      "[LightGBM] [Info] Size of histogram bin entry: 8\n",
      "[LightGBM] [Info] 30 dense feature groups (0.02 MB) transferred to GPU in 0.004347 secs. 0 sparse feature groups\n",
      "threshold: 0.6390637134452959\n",
      "AUC-ROC: 0.9937248000528786\n",
      "Accuracy: 0.9369918699186992\n",
      "Precision: 0.9941730945564639\n",
      "Confusion Matrix:\n",
      "[[491   1]\n",
      " [ 61 431]]\n",
      "Recall: 0.8760162601626016\n",
      "F1 Score: 0.9329004329004329\n",
      "Updating target policy...\n",
      "Epoch 128/300\n",
      "[LightGBM] [Info] Number of positive: 442, number of negative: 540\n",
      "[LightGBM] [Info] This is the GPU trainer!!\n",
      "[LightGBM] [Info] Total Bins 7650\n",
      "[LightGBM] [Info] Number of data points in the train set: 982, number of used features: 30\n"
     ]
    },
    {
     "name": "stderr",
     "output_type": "stream",
     "text": [
      "c:\\Users\\FH-Deg\\.conda\\envs\\tf_c_gpu\\lib\\site-packages\\lightgbm\\basic.py:1192: UserWarning: Converting data to scipy sparse matrix.\n",
      "  _log_warning('Converting data to scipy sparse matrix.')\n"
     ]
    },
    {
     "name": "stdout",
     "output_type": "stream",
     "text": [
      "[LightGBM] [Info] Using GPU Device: Quadro RTX 4000, Vendor: NVIDIA Corporation\n",
      "[LightGBM] [Info] Compiling OpenCL Kernel with 256 bins...\n",
      "[LightGBM] [Info] GPU programs have been built\n",
      "[LightGBM] [Info] Size of histogram bin entry: 8\n",
      "[LightGBM] [Info] 30 dense feature groups (0.03 MB) transferred to GPU in 0.027137 secs. 0 sparse feature groups\n",
      "[LightGBM] [Info] Size of histogram bin entry: 8\n",
      "[LightGBM] [Info] 30 dense feature groups (0.02 MB) transferred to GPU in 0.004411 secs. 0 sparse feature groups\n",
      "threshold: 0.6389500151170631\n",
      "AUC-ROC: 0.9937495868861127\n",
      "Accuracy: 0.9380081300813008\n",
      "Precision: 0.9942003794323555\n",
      "Confusion Matrix:\n",
      "[[491   1]\n",
      " [ 60 432]]\n",
      "Recall: 0.8780487804878049\n",
      "F1 Score: 0.9340540540540541\n",
      "Epoch 129/300\n",
      "[LightGBM] [Info] Number of positive: 442, number of negative: 540\n",
      "[LightGBM] [Info] This is the GPU trainer!!\n",
      "[LightGBM] [Info] Total Bins 7650\n",
      "[LightGBM] [Info] Number of data points in the train set: 982, number of used features: 30\n",
      "[LightGBM] [Info] Using GPU Device: Quadro RTX 4000, Vendor: NVIDIA Corporation\n",
      "[LightGBM] [Info] Compiling OpenCL Kernel with 256 bins...\n"
     ]
    },
    {
     "name": "stderr",
     "output_type": "stream",
     "text": [
      "c:\\Users\\FH-Deg\\.conda\\envs\\tf_c_gpu\\lib\\site-packages\\lightgbm\\basic.py:1192: UserWarning: Converting data to scipy sparse matrix.\n",
      "  _log_warning('Converting data to scipy sparse matrix.')\n"
     ]
    },
    {
     "name": "stdout",
     "output_type": "stream",
     "text": [
      "[LightGBM] [Info] GPU programs have been built\n",
      "[LightGBM] [Info] Size of histogram bin entry: 8\n",
      "[LightGBM] [Info] 30 dense feature groups (0.03 MB) transferred to GPU in 0.062677 secs. 0 sparse feature groups\n",
      "[LightGBM] [Info] Size of histogram bin entry: 8\n",
      "[LightGBM] [Info] 30 dense feature groups (0.02 MB) transferred to GPU in 0.004207 secs. 0 sparse feature groups\n",
      "threshold: 0.6388909764251739\n",
      "AUC-ROC: 0.9937991605525812\n",
      "Accuracy: 0.9380081300813008\n",
      "Precision: 0.9942536523345843\n",
      "Confusion Matrix:\n",
      "[[491   1]\n",
      " [ 60 432]]\n",
      "Recall: 0.8780487804878049\n",
      "F1 Score: 0.9340540540540541\n",
      "Epoch 130/300\n",
      "[LightGBM] [Info] Number of positive: 442, number of negative: 540\n",
      "[LightGBM] [Info] This is the GPU trainer!!\n",
      "[LightGBM] [Info] Total Bins 7650\n",
      "[LightGBM] [Info] Number of data points in the train set: 982, number of used features: 30\n"
     ]
    },
    {
     "name": "stderr",
     "output_type": "stream",
     "text": [
      "c:\\Users\\FH-Deg\\.conda\\envs\\tf_c_gpu\\lib\\site-packages\\lightgbm\\basic.py:1192: UserWarning: Converting data to scipy sparse matrix.\n",
      "  _log_warning('Converting data to scipy sparse matrix.')\n"
     ]
    },
    {
     "name": "stdout",
     "output_type": "stream",
     "text": [
      "[LightGBM] [Info] Using GPU Device: Quadro RTX 4000, Vendor: NVIDIA Corporation\n",
      "[LightGBM] [Info] Compiling OpenCL Kernel with 256 bins...\n",
      "[LightGBM] [Info] GPU programs have been built\n",
      "[LightGBM] [Info] Size of histogram bin entry: 8\n",
      "[LightGBM] [Info] 30 dense feature groups (0.03 MB) transferred to GPU in 0.013213 secs. 0 sparse feature groups\n",
      "[LightGBM] [Info] Size of histogram bin entry: 8\n",
      "[LightGBM] [Info] 30 dense feature groups (0.02 MB) transferred to GPU in 0.015077 secs. 0 sparse feature groups\n",
      "threshold: 0.6388245330344553\n",
      "AUC-ROC: 0.9938363408024324\n",
      "Accuracy: 0.9380081300813008\n",
      "Precision: 0.9942883293002831\n",
      "Confusion Matrix:\n",
      "[[491   1]\n",
      " [ 60 432]]\n",
      "Recall: 0.8780487804878049\n",
      "F1 Score: 0.9340540540540541\n",
      "Updating target policy...\n",
      "Epoch 131/300\n",
      "[LightGBM] [Info] Number of positive: 442, number of negative: 540\n",
      "[LightGBM] [Info] This is the GPU trainer!!\n",
      "[LightGBM] [Info] Total Bins 7650\n",
      "[LightGBM] [Info] Number of data points in the train set: 982, number of used features: 30\n"
     ]
    },
    {
     "name": "stderr",
     "output_type": "stream",
     "text": [
      "c:\\Users\\FH-Deg\\.conda\\envs\\tf_c_gpu\\lib\\site-packages\\lightgbm\\basic.py:1192: UserWarning: Converting data to scipy sparse matrix.\n",
      "  _log_warning('Converting data to scipy sparse matrix.')\n"
     ]
    },
    {
     "name": "stdout",
     "output_type": "stream",
     "text": [
      "[LightGBM] [Info] Using GPU Device: Quadro RTX 4000, Vendor: NVIDIA Corporation\n",
      "[LightGBM] [Info] Compiling OpenCL Kernel with 256 bins...\n",
      "[LightGBM] [Info] GPU programs have been built\n",
      "[LightGBM] [Info] Size of histogram bin entry: 8\n",
      "[LightGBM] [Info] 30 dense feature groups (0.03 MB) transferred to GPU in 0.018908 secs. 0 sparse feature groups\n",
      "[LightGBM] [Info] Size of histogram bin entry: 8\n",
      "[LightGBM] [Info] 30 dense feature groups (0.02 MB) transferred to GPU in 0.004647 secs. 0 sparse feature groups\n",
      "threshold: 0.6395366397359413\n",
      "AUC-ROC: 0.9938817833300284\n",
      "Accuracy: 0.9380081300813008\n",
      "Precision: 0.9943322682581124\n",
      "Confusion Matrix:\n",
      "[[491   1]\n",
      " [ 60 432]]\n",
      "Recall: 0.8780487804878049\n",
      "F1 Score: 0.9340540540540541\n",
      "Epoch 132/300\n",
      "[LightGBM] [Info] Number of positive: 442, number of negative: 540\n",
      "[LightGBM] [Info] This is the GPU trainer!!\n",
      "[LightGBM] [Info] Total Bins 7650\n",
      "[LightGBM] [Info] Number of data points in the train set: 982, number of used features: 30\n"
     ]
    },
    {
     "name": "stderr",
     "output_type": "stream",
     "text": [
      "c:\\Users\\FH-Deg\\.conda\\envs\\tf_c_gpu\\lib\\site-packages\\lightgbm\\basic.py:1192: UserWarning: Converting data to scipy sparse matrix.\n",
      "  _log_warning('Converting data to scipy sparse matrix.')\n"
     ]
    },
    {
     "name": "stdout",
     "output_type": "stream",
     "text": [
      "[LightGBM] [Info] Using GPU Device: Quadro RTX 4000, Vendor: NVIDIA Corporation\n",
      "[LightGBM] [Info] Compiling OpenCL Kernel with 256 bins...\n",
      "[LightGBM] [Info] GPU programs have been built\n",
      "[LightGBM] [Info] Size of histogram bin entry: 8\n",
      "[LightGBM] [Info] 30 dense feature groups (0.03 MB) transferred to GPU in 0.005082 secs. 0 sparse feature groups\n",
      "[LightGBM] [Info] Size of histogram bin entry: 8\n",
      "[LightGBM] [Info] 30 dense feature groups (0.02 MB) transferred to GPU in 0.004480 secs. 0 sparse feature groups\n",
      "threshold: 0.639371019655353\n",
      "AUC-ROC: 0.9938941767466455\n",
      "Accuracy: 0.9380081300813008\n",
      "Precision: 0.9943518819658866\n",
      "Confusion Matrix:\n",
      "[[491   1]\n",
      " [ 60 432]]\n",
      "Recall: 0.8780487804878049\n",
      "F1 Score: 0.9340540540540541\n",
      "Epoch 133/300\n",
      "[LightGBM] [Info] Number of positive: 442, number of negative: 540\n",
      "[LightGBM] [Info] This is the GPU trainer!!\n",
      "[LightGBM] [Info] Total Bins 7650\n",
      "[LightGBM] [Info] Number of data points in the train set: 982, number of used features: 30\n",
      "[LightGBM] [Info] Using GPU Device: Quadro RTX 4000, Vendor: NVIDIA Corporation\n",
      "[LightGBM] [Info] Compiling OpenCL Kernel with 256 bins...\n",
      "[LightGBM] [Info] GPU programs have been built\n",
      "[LightGBM] [Info] Size of histogram bin entry: 8\n",
      "[LightGBM] [Info] 30 dense feature groups (0.03 MB) transferred to GPU in 0.004948 secs. 0 sparse feature groups\n"
     ]
    },
    {
     "name": "stderr",
     "output_type": "stream",
     "text": [
      "c:\\Users\\FH-Deg\\.conda\\envs\\tf_c_gpu\\lib\\site-packages\\lightgbm\\basic.py:1192: UserWarning: Converting data to scipy sparse matrix.\n",
      "  _log_warning('Converting data to scipy sparse matrix.')\n"
     ]
    },
    {
     "name": "stdout",
     "output_type": "stream",
     "text": [
      "[LightGBM] [Info] Size of histogram bin entry: 8\n",
      "[LightGBM] [Info] 30 dense feature groups (0.02 MB) transferred to GPU in 0.006393 secs. 0 sparse feature groups\n",
      "threshold: 0.6392936329436043\n",
      "AUC-ROC: 0.9939107013021351\n",
      "Accuracy: 0.9390243902439024\n",
      "Precision: 0.9943700178497338\n",
      "Confusion Matrix:\n",
      "[[491   1]\n",
      " [ 59 433]]\n",
      "Recall: 0.8800813008130082\n",
      "F1 Score: 0.9352051835853131\n",
      "Updating target policy...\n",
      "Epoch 134/300\n",
      "[LightGBM] [Info] Number of positive: 442, number of negative: 540\n",
      "[LightGBM] [Info] This is the GPU trainer!!\n",
      "[LightGBM] [Info] Total Bins 7650\n",
      "[LightGBM] [Info] Number of data points in the train set: 982, number of used features: 30\n"
     ]
    },
    {
     "name": "stderr",
     "output_type": "stream",
     "text": [
      "c:\\Users\\FH-Deg\\.conda\\envs\\tf_c_gpu\\lib\\site-packages\\lightgbm\\basic.py:1192: UserWarning: Converting data to scipy sparse matrix.\n",
      "  _log_warning('Converting data to scipy sparse matrix.')\n"
     ]
    },
    {
     "name": "stdout",
     "output_type": "stream",
     "text": [
      "[LightGBM] [Info] Using GPU Device: Quadro RTX 4000, Vendor: NVIDIA Corporation\n",
      "[LightGBM] [Info] Compiling OpenCL Kernel with 256 bins...\n",
      "[LightGBM] [Info] GPU programs have been built\n",
      "[LightGBM] [Info] Size of histogram bin entry: 8\n",
      "[LightGBM] [Info] 30 dense feature groups (0.03 MB) transferred to GPU in 0.005281 secs. 0 sparse feature groups\n",
      "[LightGBM] [Info] Size of histogram bin entry: 8\n",
      "[LightGBM] [Info] 30 dense feature groups (0.02 MB) transferred to GPU in 0.004700 secs. 0 sparse feature groups\n",
      "threshold: 0.6399211585361262\n",
      "AUC-ROC: 0.9939561438297311\n",
      "Accuracy: 0.9380081300813008\n",
      "Precision: 0.994414459467231\n",
      "Confusion Matrix:\n",
      "[[491   1]\n",
      " [ 60 432]]\n",
      "Recall: 0.8780487804878049\n",
      "F1 Score: 0.9340540540540541\n",
      "Epoch 135/300\n",
      "[LightGBM] [Info] Number of positive: 442, number of negative: 540\n",
      "[LightGBM] [Info] This is the GPU trainer!!\n",
      "[LightGBM] [Info] Total Bins 7650\n",
      "[LightGBM] [Info] Number of data points in the train set: 982, number of used features: 30\n",
      "[LightGBM] [Info] Using GPU Device: Quadro RTX 4000, Vendor: NVIDIA Corporation\n",
      "[LightGBM] [Info] Compiling OpenCL Kernel with 256 bins...\n"
     ]
    },
    {
     "name": "stderr",
     "output_type": "stream",
     "text": [
      "c:\\Users\\FH-Deg\\.conda\\envs\\tf_c_gpu\\lib\\site-packages\\lightgbm\\basic.py:1192: UserWarning: Converting data to scipy sparse matrix.\n",
      "  _log_warning('Converting data to scipy sparse matrix.')\n"
     ]
    },
    {
     "name": "stdout",
     "output_type": "stream",
     "text": [
      "[LightGBM] [Info] GPU programs have been built\n",
      "[LightGBM] [Info] Size of histogram bin entry: 8\n",
      "[LightGBM] [Info] 30 dense feature groups (0.03 MB) transferred to GPU in 0.015279 secs. 0 sparse feature groups\n",
      "[LightGBM] [Info] Size of histogram bin entry: 8\n",
      "[LightGBM] [Info] 30 dense feature groups (0.02 MB) transferred to GPU in 0.021725 secs. 0 sparse feature groups\n",
      "threshold: 0.6397731338466707\n",
      "AUC-ROC: 0.9940552911626677\n",
      "Accuracy: 0.9380081300813008\n",
      "Precision: 0.9945058894171828\n",
      "Confusion Matrix:\n",
      "[[491   1]\n",
      " [ 60 432]]\n",
      "Recall: 0.8780487804878049\n",
      "F1 Score: 0.9340540540540541\n",
      "Epoch 136/300\n",
      "[LightGBM] [Info] Number of positive: 442, number of negative: 540\n",
      "[LightGBM] [Info] This is the GPU trainer!!\n",
      "[LightGBM] [Info] Total Bins 7650\n",
      "[LightGBM] [Info] Number of data points in the train set: 982, number of used features: 30\n"
     ]
    },
    {
     "name": "stderr",
     "output_type": "stream",
     "text": [
      "c:\\Users\\FH-Deg\\.conda\\envs\\tf_c_gpu\\lib\\site-packages\\lightgbm\\basic.py:1192: UserWarning: Converting data to scipy sparse matrix.\n",
      "  _log_warning('Converting data to scipy sparse matrix.')\n"
     ]
    },
    {
     "name": "stdout",
     "output_type": "stream",
     "text": [
      "[LightGBM] [Info] Using GPU Device: Quadro RTX 4000, Vendor: NVIDIA Corporation\n",
      "[LightGBM] [Info] Compiling OpenCL Kernel with 256 bins...\n",
      "[LightGBM] [Info] GPU programs have been built\n",
      "[LightGBM] [Info] Size of histogram bin entry: 8\n",
      "[LightGBM] [Info] 30 dense feature groups (0.03 MB) transferred to GPU in 0.005361 secs. 0 sparse feature groups\n",
      "[LightGBM] [Info] Size of histogram bin entry: 8\n",
      "[LightGBM] [Info] 30 dense feature groups (0.02 MB) transferred to GPU in 0.003962 secs. 0 sparse feature groups\n",
      "threshold: 0.6419261809339701\n",
      "AUC-ROC: 0.9941089959680084\n",
      "Accuracy: 0.9380081300813008\n",
      "Precision: 0.9945479326648571\n",
      "Confusion Matrix:\n",
      "[[491   1]\n",
      " [ 60 432]]\n",
      "Recall: 0.8780487804878049\n",
      "F1 Score: 0.9340540540540541\n",
      "Updating target policy...\n",
      "Epoch 137/300\n",
      "[LightGBM] [Info] Number of positive: 442, number of negative: 540\n",
      "[LightGBM] [Info] This is the GPU trainer!!\n",
      "[LightGBM] [Info] Total Bins 7650\n",
      "[LightGBM] [Info] Number of data points in the train set: 982, number of used features: 30\n",
      "[LightGBM] [Info] Using GPU Device: Quadro RTX 4000, Vendor: NVIDIA Corporation\n",
      "[LightGBM] [Info] Compiling OpenCL Kernel with 256 bins...\n"
     ]
    },
    {
     "name": "stderr",
     "output_type": "stream",
     "text": [
      "c:\\Users\\FH-Deg\\.conda\\envs\\tf_c_gpu\\lib\\site-packages\\lightgbm\\basic.py:1192: UserWarning: Converting data to scipy sparse matrix.\n",
      "  _log_warning('Converting data to scipy sparse matrix.')\n"
     ]
    },
    {
     "name": "stdout",
     "output_type": "stream",
     "text": [
      "[LightGBM] [Info] GPU programs have been built\n",
      "[LightGBM] [Info] Size of histogram bin entry: 8\n",
      "[LightGBM] [Info] 30 dense feature groups (0.03 MB) transferred to GPU in 0.004874 secs. 0 sparse feature groups\n",
      "[LightGBM] [Info] Size of histogram bin entry: 8\n",
      "[LightGBM] [Info] 30 dense feature groups (0.02 MB) transferred to GPU in 0.024823 secs. 0 sparse feature groups\n",
      "threshold: 0.6417563252490602\n",
      "AUC-ROC: 0.9941213893846256\n",
      "Accuracy: 0.9380081300813008\n",
      "Precision: 0.994563251284009\n",
      "Confusion Matrix:\n",
      "[[491   1]\n",
      " [ 60 432]]\n",
      "Recall: 0.8780487804878049\n",
      "F1 Score: 0.9340540540540541\n",
      "Epoch 138/300\n",
      "[LightGBM] [Info] Number of positive: 442, number of negative: 540\n",
      "[LightGBM] [Info] This is the GPU trainer!!\n",
      "[LightGBM] [Info] Total Bins 7650\n",
      "[LightGBM] [Info] Number of data points in the train set: 982, number of used features: 30\n"
     ]
    },
    {
     "name": "stderr",
     "output_type": "stream",
     "text": [
      "c:\\Users\\FH-Deg\\.conda\\envs\\tf_c_gpu\\lib\\site-packages\\lightgbm\\basic.py:1192: UserWarning: Converting data to scipy sparse matrix.\n",
      "  _log_warning('Converting data to scipy sparse matrix.')\n"
     ]
    },
    {
     "name": "stdout",
     "output_type": "stream",
     "text": [
      "[LightGBM] [Info] Using GPU Device: Quadro RTX 4000, Vendor: NVIDIA Corporation\n",
      "[LightGBM] [Info] Compiling OpenCL Kernel with 256 bins...\n",
      "[LightGBM] [Info] GPU programs have been built\n",
      "[LightGBM] [Info] Size of histogram bin entry: 8\n",
      "[LightGBM] [Info] 30 dense feature groups (0.03 MB) transferred to GPU in 0.014002 secs. 0 sparse feature groups\n",
      "[LightGBM] [Info] Size of histogram bin entry: 8\n",
      "[LightGBM] [Info] 30 dense feature groups (0.02 MB) transferred to GPU in 0.004614 secs. 0 sparse feature groups\n",
      "threshold: 0.6438783057103946\n",
      "AUC-ROC: 0.9941503073567322\n",
      "Accuracy: 0.9390243902439024\n",
      "Precision: 0.9945870344050138\n",
      "Confusion Matrix:\n",
      "[[491   1]\n",
      " [ 59 433]]\n",
      "Recall: 0.8800813008130082\n",
      "F1 Score: 0.9352051835853131\n",
      "Epoch 139/300\n",
      "[LightGBM] [Info] Number of positive: 442, number of negative: 540\n",
      "[LightGBM] [Info] This is the GPU trainer!!\n",
      "[LightGBM] [Info] Total Bins 7650\n",
      "[LightGBM] [Info] Number of data points in the train set: 982, number of used features: 30\n"
     ]
    },
    {
     "name": "stderr",
     "output_type": "stream",
     "text": [
      "c:\\Users\\FH-Deg\\.conda\\envs\\tf_c_gpu\\lib\\site-packages\\lightgbm\\basic.py:1192: UserWarning: Converting data to scipy sparse matrix.\n",
      "  _log_warning('Converting data to scipy sparse matrix.')\n"
     ]
    },
    {
     "name": "stdout",
     "output_type": "stream",
     "text": [
      "[LightGBM] [Info] Using GPU Device: Quadro RTX 4000, Vendor: NVIDIA Corporation\n",
      "[LightGBM] [Info] Compiling OpenCL Kernel with 256 bins...\n",
      "[LightGBM] [Info] GPU programs have been built\n",
      "[LightGBM] [Info] Size of histogram bin entry: 8\n",
      "[LightGBM] [Info] 30 dense feature groups (0.03 MB) transferred to GPU in 0.005038 secs. 0 sparse feature groups\n",
      "[LightGBM] [Info] Size of histogram bin entry: 8\n",
      "[LightGBM] [Info] 30 dense feature groups (0.02 MB) transferred to GPU in 0.004487 secs. 0 sparse feature groups\n",
      "threshold: 0.64456447344007\n",
      "AUC-ROC: 0.9941668319122215\n",
      "Accuracy: 0.9380081300813008\n",
      "Precision: 0.9946052765960746\n",
      "Confusion Matrix:\n",
      "[[491   1]\n",
      " [ 60 432]]\n",
      "Recall: 0.8780487804878049\n",
      "F1 Score: 0.9340540540540541\n",
      "Updating target policy...\n",
      "Epoch 140/300\n",
      "[LightGBM] [Info] Number of positive: 442, number of negative: 540\n",
      "[LightGBM] [Info] This is the GPU trainer!!\n",
      "[LightGBM] [Info] Total Bins 7650\n",
      "[LightGBM] [Info] Number of data points in the train set: 982, number of used features: 30\n"
     ]
    },
    {
     "name": "stderr",
     "output_type": "stream",
     "text": [
      "c:\\Users\\FH-Deg\\.conda\\envs\\tf_c_gpu\\lib\\site-packages\\lightgbm\\basic.py:1192: UserWarning: Converting data to scipy sparse matrix.\n",
      "  _log_warning('Converting data to scipy sparse matrix.')\n"
     ]
    },
    {
     "name": "stdout",
     "output_type": "stream",
     "text": [
      "[LightGBM] [Info] Using GPU Device: Quadro RTX 4000, Vendor: NVIDIA Corporation\n",
      "[LightGBM] [Info] Compiling OpenCL Kernel with 256 bins...\n",
      "[LightGBM] [Info] GPU programs have been built\n",
      "[LightGBM] [Info] Size of histogram bin entry: 8\n",
      "[LightGBM] [Info] 30 dense feature groups (0.03 MB) transferred to GPU in 0.007804 secs. 0 sparse feature groups\n",
      "[LightGBM] [Info] Size of histogram bin entry: 8\n",
      "[LightGBM] [Info] 30 dense feature groups (0.02 MB) transferred to GPU in 0.004462 secs. 0 sparse feature groups\n",
      "threshold: 0.6444905190429555\n",
      "AUC-ROC: 0.9941750941899663\n",
      "Accuracy: 0.9400406504065041\n",
      "Precision: 0.9946110634272232\n",
      "Confusion Matrix:\n",
      "[[491   1]\n",
      " [ 58 434]]\n",
      "Recall: 0.8821138211382114\n",
      "F1 Score: 0.9363538295577131\n",
      "Epoch 141/300\n",
      "[LightGBM] [Info] Number of positive: 442, number of negative: 540\n",
      "[LightGBM] [Info] This is the GPU trainer!!\n",
      "[LightGBM] [Info] Total Bins 7650\n",
      "[LightGBM] [Info] Number of data points in the train set: 982, number of used features: 30\n"
     ]
    },
    {
     "name": "stderr",
     "output_type": "stream",
     "text": [
      "c:\\Users\\FH-Deg\\.conda\\envs\\tf_c_gpu\\lib\\site-packages\\lightgbm\\basic.py:1192: UserWarning: Converting data to scipy sparse matrix.\n",
      "  _log_warning('Converting data to scipy sparse matrix.')\n"
     ]
    },
    {
     "name": "stdout",
     "output_type": "stream",
     "text": [
      "[LightGBM] [Info] Using GPU Device: Quadro RTX 4000, Vendor: NVIDIA Corporation\n",
      "[LightGBM] [Info] Compiling OpenCL Kernel with 256 bins...\n",
      "[LightGBM] [Info] GPU programs have been built\n",
      "[LightGBM] [Info] Size of histogram bin entry: 8\n",
      "[LightGBM] [Info] 30 dense feature groups (0.03 MB) transferred to GPU in 0.004850 secs. 0 sparse feature groups\n",
      "[LightGBM] [Info] Size of histogram bin entry: 8\n",
      "[LightGBM] [Info] 30 dense feature groups (0.02 MB) transferred to GPU in 0.004766 secs. 0 sparse feature groups\n",
      "threshold: 0.647398646165519\n",
      "AUC-ROC: 0.9942081433009451\n",
      "Accuracy: 0.9380081300813008\n",
      "Precision: 0.9946333897712021\n",
      "Confusion Matrix:\n",
      "[[491   1]\n",
      " [ 60 432]]\n",
      "Recall: 0.8780487804878049\n",
      "F1 Score: 0.9340540540540541\n",
      "Epoch 142/300\n",
      "[LightGBM] [Info] Number of positive: 442, number of negative: 540\n",
      "[LightGBM] [Info] This is the GPU trainer!!\n",
      "[LightGBM] [Info] Total Bins 7650\n",
      "[LightGBM] [Info] Number of data points in the train set: 982, number of used features: 30\n"
     ]
    },
    {
     "name": "stderr",
     "output_type": "stream",
     "text": [
      "c:\\Users\\FH-Deg\\.conda\\envs\\tf_c_gpu\\lib\\site-packages\\lightgbm\\basic.py:1192: UserWarning: Converting data to scipy sparse matrix.\n",
      "  _log_warning('Converting data to scipy sparse matrix.')\n"
     ]
    },
    {
     "name": "stdout",
     "output_type": "stream",
     "text": [
      "[LightGBM] [Info] Using GPU Device: Quadro RTX 4000, Vendor: NVIDIA Corporation\n",
      "[LightGBM] [Info] Compiling OpenCL Kernel with 256 bins...\n",
      "[LightGBM] [Info] GPU programs have been built\n",
      "[LightGBM] [Info] Size of histogram bin entry: 8\n",
      "[LightGBM] [Info] 30 dense feature groups (0.03 MB) transferred to GPU in 0.004737 secs. 0 sparse feature groups\n",
      "[LightGBM] [Info] Size of histogram bin entry: 8\n",
      "[LightGBM] [Info] 30 dense feature groups (0.02 MB) transferred to GPU in 0.004352 secs. 0 sparse feature groups\n",
      "threshold: 0.6465026815483118\n",
      "AUC-ROC: 0.994228798995307\n",
      "Accuracy: 0.9400406504065041\n",
      "Precision: 0.9946572752802024\n",
      "Confusion Matrix:\n",
      "[[491   1]\n",
      " [ 58 434]]\n",
      "Recall: 0.8821138211382114\n",
      "F1 Score: 0.9363538295577131\n",
      "Updating target policy...\n",
      "Epoch 143/300\n",
      "[LightGBM] [Info] Number of positive: 442, number of negative: 540\n",
      "[LightGBM] [Info] This is the GPU trainer!!\n",
      "[LightGBM] [Info] Total Bins 7650\n",
      "[LightGBM] [Info] Number of data points in the train set: 982, number of used features: 30\n"
     ]
    },
    {
     "name": "stderr",
     "output_type": "stream",
     "text": [
      "c:\\Users\\FH-Deg\\.conda\\envs\\tf_c_gpu\\lib\\site-packages\\lightgbm\\basic.py:1192: UserWarning: Converting data to scipy sparse matrix.\n",
      "  _log_warning('Converting data to scipy sparse matrix.')\n"
     ]
    },
    {
     "name": "stdout",
     "output_type": "stream",
     "text": [
      "[LightGBM] [Info] Using GPU Device: Quadro RTX 4000, Vendor: NVIDIA Corporation\n",
      "[LightGBM] [Info] Compiling OpenCL Kernel with 256 bins...\n",
      "[LightGBM] [Info] GPU programs have been built\n",
      "[LightGBM] [Info] Size of histogram bin entry: 8\n",
      "[LightGBM] [Info] 30 dense feature groups (0.03 MB) transferred to GPU in 0.004868 secs. 0 sparse feature groups\n",
      "[LightGBM] [Info] Size of histogram bin entry: 8\n",
      "[LightGBM] [Info] 30 dense feature groups (0.02 MB) transferred to GPU in 0.042808 secs. 0 sparse feature groups\n",
      "threshold: 0.647129011377549\n",
      "AUC-ROC: 0.9942618481062859\n",
      "Accuracy: 0.9400406504065041\n",
      "Precision: 0.9946903957842889\n",
      "Confusion Matrix:\n",
      "[[491   1]\n",
      " [ 58 434]]\n",
      "Recall: 0.8821138211382114\n",
      "F1 Score: 0.9363538295577131\n",
      "Epoch 144/300\n",
      "[LightGBM] [Info] Number of positive: 442, number of negative: 540\n",
      "[LightGBM] [Info] This is the GPU trainer!!\n",
      "[LightGBM] [Info] Total Bins 7650\n",
      "[LightGBM] [Info] Number of data points in the train set: 982, number of used features: 30\n"
     ]
    },
    {
     "name": "stderr",
     "output_type": "stream",
     "text": [
      "c:\\Users\\FH-Deg\\.conda\\envs\\tf_c_gpu\\lib\\site-packages\\lightgbm\\basic.py:1192: UserWarning: Converting data to scipy sparse matrix.\n",
      "  _log_warning('Converting data to scipy sparse matrix.')\n"
     ]
    },
    {
     "name": "stdout",
     "output_type": "stream",
     "text": [
      "[LightGBM] [Info] Using GPU Device: Quadro RTX 4000, Vendor: NVIDIA Corporation\n",
      "[LightGBM] [Info] Compiling OpenCL Kernel with 256 bins...\n",
      "[LightGBM] [Info] GPU programs have been built\n",
      "[LightGBM] [Info] Size of histogram bin entry: 8\n",
      "[LightGBM] [Info] 30 dense feature groups (0.03 MB) transferred to GPU in 0.004239 secs. 0 sparse feature groups\n",
      "[LightGBM] [Info] Size of histogram bin entry: 8\n",
      "[LightGBM] [Info] 30 dense feature groups (0.02 MB) transferred to GPU in 0.004778 secs. 0 sparse feature groups\n",
      "threshold: 0.6468904177329308\n",
      "AUC-ROC: 0.994319684050499\n",
      "Accuracy: 0.9400406504065041\n",
      "Precision: 0.9947446502319719\n",
      "Confusion Matrix:\n",
      "[[491   1]\n",
      " [ 58 434]]\n",
      "Recall: 0.8821138211382114\n",
      "F1 Score: 0.9363538295577131\n",
      "Epoch 145/300\n",
      "[LightGBM] [Info] Number of positive: 442, number of negative: 540\n",
      "[LightGBM] [Info] This is the GPU trainer!!\n",
      "[LightGBM] [Info] Total Bins 7650\n",
      "[LightGBM] [Info] Number of data points in the train set: 982, number of used features: 30\n"
     ]
    },
    {
     "name": "stderr",
     "output_type": "stream",
     "text": [
      "c:\\Users\\FH-Deg\\.conda\\envs\\tf_c_gpu\\lib\\site-packages\\lightgbm\\basic.py:1192: UserWarning: Converting data to scipy sparse matrix.\n",
      "  _log_warning('Converting data to scipy sparse matrix.')\n"
     ]
    },
    {
     "name": "stdout",
     "output_type": "stream",
     "text": [
      "[LightGBM] [Info] Using GPU Device: Quadro RTX 4000, Vendor: NVIDIA Corporation\n",
      "[LightGBM] [Info] Compiling OpenCL Kernel with 256 bins...\n",
      "[LightGBM] [Info] GPU programs have been built\n",
      "[LightGBM] [Info] Size of histogram bin entry: 8\n",
      "[LightGBM] [Info] 30 dense feature groups (0.03 MB) transferred to GPU in 0.004300 secs. 0 sparse feature groups\n",
      "[LightGBM] [Info] Size of histogram bin entry: 8\n",
      "[LightGBM] [Info] 30 dense feature groups (0.02 MB) transferred to GPU in 0.004770 secs. 0 sparse feature groups\n",
      "threshold: 0.6467480848016028\n",
      "AUC-ROC: 0.9943486020226057\n",
      "Accuracy: 0.9400406504065041\n",
      "Precision: 0.9947762296419455\n",
      "Confusion Matrix:\n",
      "[[491   1]\n",
      " [ 58 434]]\n",
      "Recall: 0.8821138211382114\n",
      "F1 Score: 0.9363538295577131\n",
      "Updating target policy...\n",
      "Epoch 146/300\n",
      "[LightGBM] [Info] Number of positive: 442, number of negative: 540\n",
      "[LightGBM] [Info] This is the GPU trainer!!\n",
      "[LightGBM] [Info] Total Bins 7650\n",
      "[LightGBM] [Info] Number of data points in the train set: 982, number of used features: 30\n"
     ]
    },
    {
     "name": "stderr",
     "output_type": "stream",
     "text": [
      "c:\\Users\\FH-Deg\\.conda\\envs\\tf_c_gpu\\lib\\site-packages\\lightgbm\\basic.py:1192: UserWarning: Converting data to scipy sparse matrix.\n",
      "  _log_warning('Converting data to scipy sparse matrix.')\n"
     ]
    },
    {
     "name": "stdout",
     "output_type": "stream",
     "text": [
      "[LightGBM] [Info] Using GPU Device: Quadro RTX 4000, Vendor: NVIDIA Corporation\n",
      "[LightGBM] [Info] Compiling OpenCL Kernel with 256 bins...\n",
      "[LightGBM] [Info] GPU programs have been built\n",
      "[LightGBM] [Info] Size of histogram bin entry: 8\n",
      "[LightGBM] [Info] 30 dense feature groups (0.03 MB) transferred to GPU in 0.016310 secs. 0 sparse feature groups\n",
      "[LightGBM] [Info] Size of histogram bin entry: 8\n",
      "[LightGBM] [Info] 30 dense feature groups (0.02 MB) transferred to GPU in 0.076379 secs. 0 sparse feature groups\n",
      "threshold: 0.6473249148444877\n",
      "AUC-ROC: 0.9943940445502016\n",
      "Accuracy: 0.9400406504065041\n",
      "Precision: 0.9948136423911635\n",
      "Confusion Matrix:\n",
      "[[491   1]\n",
      " [ 58 434]]\n",
      "Recall: 0.8821138211382114\n",
      "F1 Score: 0.9363538295577131\n",
      "Epoch 147/300\n",
      "[LightGBM] [Info] Number of positive: 442, number of negative: 540\n",
      "[LightGBM] [Info] This is the GPU trainer!!\n",
      "[LightGBM] [Info] Total Bins 7650\n",
      "[LightGBM] [Info] Number of data points in the train set: 982, number of used features: 30\n",
      "[LightGBM] [Info] Using GPU Device: Quadro RTX 4000, Vendor: NVIDIA Corporation\n",
      "[LightGBM] [Info] Compiling OpenCL Kernel with 256 bins...\n"
     ]
    },
    {
     "name": "stderr",
     "output_type": "stream",
     "text": [
      "c:\\Users\\FH-Deg\\.conda\\envs\\tf_c_gpu\\lib\\site-packages\\lightgbm\\basic.py:1192: UserWarning: Converting data to scipy sparse matrix.\n",
      "  _log_warning('Converting data to scipy sparse matrix.')\n"
     ]
    },
    {
     "name": "stdout",
     "output_type": "stream",
     "text": [
      "[LightGBM] [Info] GPU programs have been built\n",
      "[LightGBM] [Info] Size of histogram bin entry: 8\n",
      "[LightGBM] [Info] 30 dense feature groups (0.03 MB) transferred to GPU in 0.048455 secs. 0 sparse feature groups\n",
      "[LightGBM] [Info] Size of histogram bin entry: 8\n",
      "[LightGBM] [Info] 30 dense feature groups (0.02 MB) transferred to GPU in 0.004715 secs. 0 sparse feature groups\n",
      "threshold: 0.6455717344246695\n",
      "AUC-ROC: 0.99444361821667\n",
      "Accuracy: 0.9410569105691057\n",
      "Precision: 0.9948616755488927\n",
      "Confusion Matrix:\n",
      "[[491   1]\n",
      " [ 57 435]]\n",
      "Recall: 0.8841463414634146\n",
      "F1 Score: 0.9375\n",
      "Epoch 148/300\n",
      "[LightGBM] [Info] Number of positive: 442, number of negative: 540\n",
      "[LightGBM] [Info] This is the GPU trainer!!\n",
      "[LightGBM] [Info] Total Bins 7650\n",
      "[LightGBM] [Info] Number of data points in the train set: 982, number of used features: 30\n"
     ]
    },
    {
     "name": "stderr",
     "output_type": "stream",
     "text": [
      "c:\\Users\\FH-Deg\\.conda\\envs\\tf_c_gpu\\lib\\site-packages\\lightgbm\\basic.py:1192: UserWarning: Converting data to scipy sparse matrix.\n",
      "  _log_warning('Converting data to scipy sparse matrix.')\n"
     ]
    },
    {
     "name": "stdout",
     "output_type": "stream",
     "text": [
      "[LightGBM] [Info] Using GPU Device: Quadro RTX 4000, Vendor: NVIDIA Corporation\n",
      "[LightGBM] [Info] Compiling OpenCL Kernel with 256 bins...\n",
      "[LightGBM] [Info] GPU programs have been built\n",
      "[LightGBM] [Info] Size of histogram bin entry: 8\n",
      "[LightGBM] [Info] 30 dense feature groups (0.03 MB) transferred to GPU in 0.004961 secs. 0 sparse feature groups\n",
      "[LightGBM] [Info] Size of histogram bin entry: 8\n",
      "[LightGBM] [Info] 30 dense feature groups (0.02 MB) transferred to GPU in 0.014724 secs. 0 sparse feature groups\n",
      "threshold: 0.6492601738909227\n",
      "AUC-ROC: 0.994501454160883\n",
      "Accuracy: 0.9410569105691057\n",
      "Precision: 0.9949068674192544\n",
      "Confusion Matrix:\n",
      "[[491   1]\n",
      " [ 57 435]]\n",
      "Recall: 0.8841463414634146\n",
      "F1 Score: 0.9375\n",
      "Updating target policy...\n",
      "Epoch 149/300\n",
      "[LightGBM] [Info] Number of positive: 442, number of negative: 540\n",
      "[LightGBM] [Info] This is the GPU trainer!!\n",
      "[LightGBM] [Info] Total Bins 7650\n",
      "[LightGBM] [Info] Number of data points in the train set: 982, number of used features: 30\n",
      "[LightGBM] [Info] Using GPU Device: Quadro RTX 4000, Vendor: NVIDIA Corporation\n",
      "[LightGBM] [Info] Compiling OpenCL Kernel with 256 bins...\n"
     ]
    },
    {
     "name": "stderr",
     "output_type": "stream",
     "text": [
      "c:\\Users\\FH-Deg\\.conda\\envs\\tf_c_gpu\\lib\\site-packages\\lightgbm\\basic.py:1192: UserWarning: Converting data to scipy sparse matrix.\n",
      "  _log_warning('Converting data to scipy sparse matrix.')\n"
     ]
    },
    {
     "name": "stdout",
     "output_type": "stream",
     "text": [
      "[LightGBM] [Info] GPU programs have been built\n",
      "[LightGBM] [Info] Size of histogram bin entry: 8\n",
      "[LightGBM] [Info] 30 dense feature groups (0.03 MB) transferred to GPU in 0.006037 secs. 0 sparse feature groups\n",
      "[LightGBM] [Info] Size of histogram bin entry: 8\n",
      "[LightGBM] [Info] 30 dense feature groups (0.02 MB) transferred to GPU in 0.004501 secs. 0 sparse feature groups\n",
      "threshold: 0.6498661042322695\n",
      "AUC-ROC: 0.9944973230220107\n",
      "Accuracy: 0.9410569105691057\n",
      "Precision: 0.9949039664190649\n",
      "Confusion Matrix:\n",
      "[[491   1]\n",
      " [ 57 435]]\n",
      "Recall: 0.8841463414634146\n",
      "F1 Score: 0.9375\n",
      "Epoch 150/300\n",
      "[LightGBM] [Info] Number of positive: 442, number of negative: 540\n",
      "[LightGBM] [Info] This is the GPU trainer!!\n",
      "[LightGBM] [Info] Total Bins 7650\n",
      "[LightGBM] [Info] Number of data points in the train set: 982, number of used features: 30\n"
     ]
    },
    {
     "name": "stderr",
     "output_type": "stream",
     "text": [
      "c:\\Users\\FH-Deg\\.conda\\envs\\tf_c_gpu\\lib\\site-packages\\lightgbm\\basic.py:1192: UserWarning: Converting data to scipy sparse matrix.\n",
      "  _log_warning('Converting data to scipy sparse matrix.')\n"
     ]
    },
    {
     "name": "stdout",
     "output_type": "stream",
     "text": [
      "[LightGBM] [Info] Using GPU Device: Quadro RTX 4000, Vendor: NVIDIA Corporation\n",
      "[LightGBM] [Info] Compiling OpenCL Kernel with 256 bins...\n",
      "[LightGBM] [Info] GPU programs have been built\n",
      "[LightGBM] [Info] Size of histogram bin entry: 8\n",
      "[LightGBM] [Info] 30 dense feature groups (0.03 MB) transferred to GPU in 0.025439 secs. 0 sparse feature groups\n",
      "[LightGBM] [Info] Size of histogram bin entry: 8\n",
      "[LightGBM] [Info] 30 dense feature groups (0.02 MB) transferred to GPU in 0.004517 secs. 0 sparse feature groups\n",
      "threshold: 0.6496879762781065\n",
      "AUC-ROC: 0.9945097164386278\n",
      "Accuracy: 0.9410569105691057\n",
      "Precision: 0.9949183891771114\n",
      "Confusion Matrix:\n",
      "[[491   1]\n",
      " [ 57 435]]\n",
      "Recall: 0.8841463414634146\n",
      "F1 Score: 0.9375\n",
      "Epoch 151/300\n",
      "[LightGBM] [Info] Number of positive: 442, number of negative: 540\n",
      "[LightGBM] [Info] This is the GPU trainer!!\n",
      "[LightGBM] [Info] Total Bins 7650\n",
      "[LightGBM] [Info] Number of data points in the train set: 982, number of used features: 30\n",
      "[LightGBM] [Info] Using GPU Device: Quadro RTX 4000, Vendor: NVIDIA Corporation\n",
      "[LightGBM] [Info] Compiling OpenCL Kernel with 256 bins...\n"
     ]
    },
    {
     "name": "stderr",
     "output_type": "stream",
     "text": [
      "c:\\Users\\FH-Deg\\.conda\\envs\\tf_c_gpu\\lib\\site-packages\\lightgbm\\basic.py:1192: UserWarning: Converting data to scipy sparse matrix.\n",
      "  _log_warning('Converting data to scipy sparse matrix.')\n"
     ]
    },
    {
     "name": "stdout",
     "output_type": "stream",
     "text": [
      "[LightGBM] [Info] GPU programs have been built\n",
      "[LightGBM] [Info] Size of histogram bin entry: 8\n",
      "[LightGBM] [Info] 30 dense feature groups (0.03 MB) transferred to GPU in 0.027306 secs. 0 sparse feature groups\n",
      "[LightGBM] [Info] Size of histogram bin entry: 8\n",
      "[LightGBM] [Info] 30 dense feature groups (0.02 MB) transferred to GPU in 0.004427 secs. 0 sparse feature groups\n",
      "threshold: 0.6503342532143008\n",
      "AUC-ROC: 0.9945262409941173\n",
      "Accuracy: 0.9420731707317073\n",
      "Precision: 0.9949366707973932\n",
      "Confusion Matrix:\n",
      "[[491   1]\n",
      " [ 56 436]]\n",
      "Recall: 0.8861788617886179\n",
      "F1 Score: 0.9386437029063509\n",
      "Updating target policy...\n",
      "Epoch 152/300\n",
      "[LightGBM] [Info] Number of positive: 442, number of negative: 540\n",
      "[LightGBM] [Info] This is the GPU trainer!!\n",
      "[LightGBM] [Info] Total Bins 7650\n",
      "[LightGBM] [Info] Number of data points in the train set: 982, number of used features: 30\n"
     ]
    },
    {
     "name": "stderr",
     "output_type": "stream",
     "text": [
      "c:\\Users\\FH-Deg\\.conda\\envs\\tf_c_gpu\\lib\\site-packages\\lightgbm\\basic.py:1192: UserWarning: Converting data to scipy sparse matrix.\n",
      "  _log_warning('Converting data to scipy sparse matrix.')\n"
     ]
    },
    {
     "name": "stdout",
     "output_type": "stream",
     "text": [
      "[LightGBM] [Info] Using GPU Device: Quadro RTX 4000, Vendor: NVIDIA Corporation\n",
      "[LightGBM] [Info] Compiling OpenCL Kernel with 256 bins...\n",
      "[LightGBM] [Info] GPU programs have been built\n",
      "[LightGBM] [Info] Size of histogram bin entry: 8\n",
      "[LightGBM] [Info] 30 dense feature groups (0.03 MB) transferred to GPU in 0.004742 secs. 0 sparse feature groups\n",
      "[LightGBM] [Info] Size of histogram bin entry: 8\n",
      "[LightGBM] [Info] 30 dense feature groups (0.02 MB) transferred to GPU in 0.014085 secs. 0 sparse feature groups\n",
      "threshold: 0.6508874691732475\n",
      "AUC-ROC: 0.9945551589662238\n",
      "Accuracy: 0.9420731707317073\n",
      "Precision: 0.9949643686096393\n",
      "Confusion Matrix:\n",
      "[[491   1]\n",
      " [ 56 436]]\n",
      "Recall: 0.8861788617886179\n",
      "F1 Score: 0.9386437029063509\n",
      "Epoch 153/300\n",
      "[LightGBM] [Info] Number of positive: 442, number of negative: 540\n",
      "[LightGBM] [Info] This is the GPU trainer!!\n",
      "[LightGBM] [Info] Total Bins 7650\n",
      "[LightGBM] [Info] Number of data points in the train set: 982, number of used features: 30\n"
     ]
    },
    {
     "name": "stderr",
     "output_type": "stream",
     "text": [
      "c:\\Users\\FH-Deg\\.conda\\envs\\tf_c_gpu\\lib\\site-packages\\lightgbm\\basic.py:1192: UserWarning: Converting data to scipy sparse matrix.\n",
      "  _log_warning('Converting data to scipy sparse matrix.')\n"
     ]
    },
    {
     "name": "stdout",
     "output_type": "stream",
     "text": [
      "[LightGBM] [Info] Using GPU Device: Quadro RTX 4000, Vendor: NVIDIA Corporation\n",
      "[LightGBM] [Info] Compiling OpenCL Kernel with 256 bins...\n",
      "[LightGBM] [Info] GPU programs have been built\n",
      "[LightGBM] [Info] Size of histogram bin entry: 8\n",
      "[LightGBM] [Info] 30 dense feature groups (0.03 MB) transferred to GPU in 0.004633 secs. 0 sparse feature groups\n",
      "[LightGBM] [Info] Size of histogram bin entry: 8\n",
      "[LightGBM] [Info] 30 dense feature groups (0.02 MB) transferred to GPU in 0.004605 secs. 0 sparse feature groups\n",
      "threshold: 0.6521446414045187\n",
      "AUC-ROC: 0.9945840769383303\n",
      "Accuracy: 0.9420731707317073\n",
      "Precision: 0.9949904103995445\n",
      "Confusion Matrix:\n",
      "[[491   1]\n",
      " [ 56 436]]\n",
      "Recall: 0.8861788617886179\n",
      "F1 Score: 0.9386437029063509\n",
      "Epoch 154/300\n",
      "[LightGBM] [Info] Number of positive: 442, number of negative: 540\n",
      "[LightGBM] [Info] This is the GPU trainer!!\n",
      "[LightGBM] [Info] Total Bins 7650\n",
      "[LightGBM] [Info] Number of data points in the train set: 982, number of used features: 30\n"
     ]
    },
    {
     "name": "stderr",
     "output_type": "stream",
     "text": [
      "c:\\Users\\FH-Deg\\.conda\\envs\\tf_c_gpu\\lib\\site-packages\\lightgbm\\basic.py:1192: UserWarning: Converting data to scipy sparse matrix.\n",
      "  _log_warning('Converting data to scipy sparse matrix.')\n"
     ]
    },
    {
     "name": "stdout",
     "output_type": "stream",
     "text": [
      "[LightGBM] [Info] Using GPU Device: Quadro RTX 4000, Vendor: NVIDIA Corporation\n",
      "[LightGBM] [Info] Compiling OpenCL Kernel with 256 bins...\n",
      "[LightGBM] [Info] GPU programs have been built\n",
      "[LightGBM] [Info] Size of histogram bin entry: 8\n",
      "[LightGBM] [Info] 30 dense feature groups (0.03 MB) transferred to GPU in 0.043614 secs. 0 sparse feature groups\n",
      "[LightGBM] [Info] Size of histogram bin entry: 8\n",
      "[LightGBM] [Info] 30 dense feature groups (0.02 MB) transferred to GPU in 0.016885 secs. 0 sparse feature groups\n",
      "threshold: 0.6526705389342339\n",
      "AUC-ROC: 0.9946006014938198\n",
      "Accuracy: 0.9420731707317073\n",
      "Precision: 0.9950089190840327\n",
      "Confusion Matrix:\n",
      "[[491   1]\n",
      " [ 56 436]]\n",
      "Recall: 0.8861788617886179\n",
      "F1 Score: 0.9386437029063509\n",
      "Updating target policy...\n",
      "Epoch 155/300\n",
      "[LightGBM] [Info] Number of positive: 442, number of negative: 540\n",
      "[LightGBM] [Info] This is the GPU trainer!!\n",
      "[LightGBM] [Info] Total Bins 7650\n",
      "[LightGBM] [Info] Number of data points in the train set: 982, number of used features: 30\n",
      "[LightGBM] [Info] Using GPU Device: Quadro RTX 4000, Vendor: NVIDIA Corporation\n",
      "[LightGBM] [Info] Compiling OpenCL Kernel with 256 bins...\n"
     ]
    },
    {
     "name": "stderr",
     "output_type": "stream",
     "text": [
      "c:\\Users\\FH-Deg\\.conda\\envs\\tf_c_gpu\\lib\\site-packages\\lightgbm\\basic.py:1192: UserWarning: Converting data to scipy sparse matrix.\n",
      "  _log_warning('Converting data to scipy sparse matrix.')\n"
     ]
    },
    {
     "name": "stdout",
     "output_type": "stream",
     "text": [
      "[LightGBM] [Info] GPU programs have been built\n",
      "[LightGBM] [Info] Size of histogram bin entry: 8\n",
      "[LightGBM] [Info] 30 dense feature groups (0.03 MB) transferred to GPU in 0.004411 secs. 0 sparse feature groups\n",
      "[LightGBM] [Info] Size of histogram bin entry: 8\n",
      "[LightGBM] [Info] 30 dense feature groups (0.02 MB) transferred to GPU in 0.004402 secs. 0 sparse feature groups\n",
      "threshold: 0.6523654159013396\n",
      "AUC-ROC: 0.9946171260493093\n",
      "Accuracy: 0.9410569105691057\n",
      "Precision: 0.9950233089713194\n",
      "Confusion Matrix:\n",
      "[[491   1]\n",
      " [ 57 435]]\n",
      "Recall: 0.8841463414634146\n",
      "F1 Score: 0.9375\n",
      "Epoch 156/300\n",
      "[LightGBM] [Info] Number of positive: 442, number of negative: 540\n",
      "[LightGBM] [Info] This is the GPU trainer!!\n",
      "[LightGBM] [Info] Total Bins 7650\n",
      "[LightGBM] [Info] Number of data points in the train set: 982, number of used features: 30\n"
     ]
    },
    {
     "name": "stderr",
     "output_type": "stream",
     "text": [
      "c:\\Users\\FH-Deg\\.conda\\envs\\tf_c_gpu\\lib\\site-packages\\lightgbm\\basic.py:1192: UserWarning: Converting data to scipy sparse matrix.\n",
      "  _log_warning('Converting data to scipy sparse matrix.')\n"
     ]
    },
    {
     "name": "stdout",
     "output_type": "stream",
     "text": [
      "[LightGBM] [Info] Using GPU Device: Quadro RTX 4000, Vendor: NVIDIA Corporation\n",
      "[LightGBM] [Info] Compiling OpenCL Kernel with 256 bins...\n",
      "[LightGBM] [Info] GPU programs have been built\n",
      "[LightGBM] [Info] Size of histogram bin entry: 8\n",
      "[LightGBM] [Info] 30 dense feature groups (0.03 MB) transferred to GPU in 0.013528 secs. 0 sparse feature groups\n",
      "[LightGBM] [Info] Size of histogram bin entry: 8\n",
      "[LightGBM] [Info] 30 dense feature groups (0.02 MB) transferred to GPU in 0.020249 secs. 0 sparse feature groups\n",
      "threshold: 0.6552019901084409\n",
      "AUC-ROC: 0.9946625685769053\n",
      "Accuracy: 0.9410569105691057\n",
      "Precision: 0.9950574909701908\n",
      "Confusion Matrix:\n",
      "[[491   1]\n",
      " [ 57 435]]\n",
      "Recall: 0.8841463414634146\n",
      "F1 Score: 0.9375\n",
      "Epoch 157/300\n",
      "[LightGBM] [Info] Number of positive: 442, number of negative: 540\n",
      "[LightGBM] [Info] This is the GPU trainer!!\n",
      "[LightGBM] [Info] Total Bins 7650\n",
      "[LightGBM] [Info] Number of data points in the train set: 982, number of used features: 30\n",
      "[LightGBM] [Info] Using GPU Device: Quadro RTX 4000, Vendor: NVIDIA Corporation\n",
      "[LightGBM] [Info] Compiling OpenCL Kernel with 256 bins...\n"
     ]
    },
    {
     "name": "stderr",
     "output_type": "stream",
     "text": [
      "c:\\Users\\FH-Deg\\.conda\\envs\\tf_c_gpu\\lib\\site-packages\\lightgbm\\basic.py:1192: UserWarning: Converting data to scipy sparse matrix.\n",
      "  _log_warning('Converting data to scipy sparse matrix.')\n"
     ]
    },
    {
     "name": "stdout",
     "output_type": "stream",
     "text": [
      "[LightGBM] [Info] GPU programs have been built\n",
      "[LightGBM] [Info] Size of histogram bin entry: 8\n",
      "[LightGBM] [Info] 30 dense feature groups (0.03 MB) transferred to GPU in 0.004423 secs. 0 sparse feature groups\n",
      "[LightGBM] [Info] Size of histogram bin entry: 8\n",
      "[LightGBM] [Info] 30 dense feature groups (0.02 MB) transferred to GPU in 0.004405 secs. 0 sparse feature groups\n",
      "threshold: 0.6580819297826357\n",
      "AUC-ROC: 0.9947080111045014\n",
      "Accuracy: 0.9410569105691057\n",
      "Precision: 0.9950957382543911\n",
      "Confusion Matrix:\n",
      "[[491   1]\n",
      " [ 57 435]]\n",
      "Recall: 0.8841463414634146\n",
      "F1 Score: 0.9375\n",
      "Updating target policy...\n",
      "Epoch 158/300\n",
      "[LightGBM] [Info] Number of positive: 442, number of negative: 540\n",
      "[LightGBM] [Info] This is the GPU trainer!!\n",
      "[LightGBM] [Info] Total Bins 7650\n",
      "[LightGBM] [Info] Number of data points in the train set: 982, number of used features: 30\n"
     ]
    },
    {
     "name": "stderr",
     "output_type": "stream",
     "text": [
      "c:\\Users\\FH-Deg\\.conda\\envs\\tf_c_gpu\\lib\\site-packages\\lightgbm\\basic.py:1192: UserWarning: Converting data to scipy sparse matrix.\n",
      "  _log_warning('Converting data to scipy sparse matrix.')\n"
     ]
    },
    {
     "name": "stdout",
     "output_type": "stream",
     "text": [
      "[LightGBM] [Info] Using GPU Device: Quadro RTX 4000, Vendor: NVIDIA Corporation\n",
      "[LightGBM] [Info] Compiling OpenCL Kernel with 256 bins...\n",
      "[LightGBM] [Info] GPU programs have been built\n",
      "[LightGBM] [Info] Size of histogram bin entry: 8\n",
      "[LightGBM] [Info] 30 dense feature groups (0.03 MB) transferred to GPU in 0.023361 secs. 0 sparse feature groups\n",
      "[LightGBM] [Info] Size of histogram bin entry: 8\n",
      "[LightGBM] [Info] 30 dense feature groups (0.02 MB) transferred to GPU in 0.015701 secs. 0 sparse feature groups\n",
      "threshold: 0.6585768560055978\n",
      "AUC-ROC: 0.9947204045211184\n",
      "Accuracy: 0.9420731707317073\n",
      "Precision: 0.9951057939304429\n",
      "Confusion Matrix:\n",
      "[[491   1]\n",
      " [ 56 436]]\n",
      "Recall: 0.8861788617886179\n",
      "F1 Score: 0.9386437029063509\n",
      "Epoch 159/300\n",
      "[LightGBM] [Info] Number of positive: 442, number of negative: 540\n",
      "[LightGBM] [Info] This is the GPU trainer!!\n",
      "[LightGBM] [Info] Total Bins 7650\n",
      "[LightGBM] [Info] Number of data points in the train set: 982, number of used features: 30\n"
     ]
    },
    {
     "name": "stderr",
     "output_type": "stream",
     "text": [
      "c:\\Users\\FH-Deg\\.conda\\envs\\tf_c_gpu\\lib\\site-packages\\lightgbm\\basic.py:1192: UserWarning: Converting data to scipy sparse matrix.\n",
      "  _log_warning('Converting data to scipy sparse matrix.')\n"
     ]
    },
    {
     "name": "stdout",
     "output_type": "stream",
     "text": [
      "[LightGBM] [Info] Using GPU Device: Quadro RTX 4000, Vendor: NVIDIA Corporation\n",
      "[LightGBM] [Info] Compiling OpenCL Kernel with 256 bins...\n",
      "[LightGBM] [Info] GPU programs have been built\n",
      "[LightGBM] [Info] Size of histogram bin entry: 8\n",
      "[LightGBM] [Info] 30 dense feature groups (0.03 MB) transferred to GPU in 0.055181 secs. 0 sparse feature groups\n",
      "[LightGBM] [Info] Size of histogram bin entry: 8\n",
      "[LightGBM] [Info] 30 dense feature groups (0.02 MB) transferred to GPU in 0.004516 secs. 0 sparse feature groups\n",
      "threshold: 0.658233281665938\n",
      "AUC-ROC: 0.9947575847709695\n",
      "Accuracy: 0.9420731707317073\n",
      "Precision: 0.9951403185009584\n",
      "Confusion Matrix:\n",
      "[[491   1]\n",
      " [ 56 436]]\n",
      "Recall: 0.8861788617886179\n",
      "F1 Score: 0.9386437029063509\n",
      "Epoch 160/300\n",
      "[LightGBM] [Info] Number of positive: 442, number of negative: 540\n",
      "[LightGBM] [Info] This is the GPU trainer!!\n",
      "[LightGBM] [Info] Total Bins 7650\n",
      "[LightGBM] [Info] Number of data points in the train set: 982, number of used features: 30\n"
     ]
    },
    {
     "name": "stderr",
     "output_type": "stream",
     "text": [
      "c:\\Users\\FH-Deg\\.conda\\envs\\tf_c_gpu\\lib\\site-packages\\lightgbm\\basic.py:1192: UserWarning: Converting data to scipy sparse matrix.\n",
      "  _log_warning('Converting data to scipy sparse matrix.')\n"
     ]
    },
    {
     "name": "stdout",
     "output_type": "stream",
     "text": [
      "[LightGBM] [Info] Using GPU Device: Quadro RTX 4000, Vendor: NVIDIA Corporation\n",
      "[LightGBM] [Info] Compiling OpenCL Kernel with 256 bins...\n",
      "[LightGBM] [Info] GPU programs have been built\n",
      "[LightGBM] [Info] Size of histogram bin entry: 8\n",
      "[LightGBM] [Info] 30 dense feature groups (0.03 MB) transferred to GPU in 0.004555 secs. 0 sparse feature groups\n",
      "[LightGBM] [Info] Size of histogram bin entry: 8\n",
      "[LightGBM] [Info] 30 dense feature groups (0.02 MB) transferred to GPU in 0.004264 secs. 0 sparse feature groups\n",
      "threshold: 0.6660399404670995\n",
      "AUC-ROC: 0.9948319452706722\n",
      "Accuracy: 0.9410569105691057\n",
      "Precision: 0.995195535310215\n",
      "Confusion Matrix:\n",
      "[[492   0]\n",
      " [ 58 434]]\n",
      "Recall: 0.8821138211382114\n",
      "F1 Score: 0.937365010799136\n",
      "Updating target policy...\n",
      "Epoch 161/300\n",
      "[LightGBM] [Info] Number of positive: 442, number of negative: 540\n",
      "[LightGBM] [Info] This is the GPU trainer!!\n",
      "[LightGBM] [Info] Total Bins 7650\n",
      "[LightGBM] [Info] Number of data points in the train set: 982, number of used features: 30\n"
     ]
    },
    {
     "name": "stderr",
     "output_type": "stream",
     "text": [
      "c:\\Users\\FH-Deg\\.conda\\envs\\tf_c_gpu\\lib\\site-packages\\lightgbm\\basic.py:1192: UserWarning: Converting data to scipy sparse matrix.\n",
      "  _log_warning('Converting data to scipy sparse matrix.')\n"
     ]
    },
    {
     "name": "stdout",
     "output_type": "stream",
     "text": [
      "[LightGBM] [Info] Using GPU Device: Quadro RTX 4000, Vendor: NVIDIA Corporation\n",
      "[LightGBM] [Info] Compiling OpenCL Kernel with 256 bins...\n",
      "[LightGBM] [Info] GPU programs have been built\n",
      "[LightGBM] [Info] Size of histogram bin entry: 8\n",
      "[LightGBM] [Info] 30 dense feature groups (0.03 MB) transferred to GPU in 0.005212 secs. 0 sparse feature groups\n",
      "[LightGBM] [Info] Size of histogram bin entry: 8\n",
      "[LightGBM] [Info] 30 dense feature groups (0.02 MB) transferred to GPU in 0.004622 secs. 0 sparse feature groups\n",
      "threshold: 0.6642066949642795\n",
      "AUC-ROC: 0.9948360764095445\n",
      "Accuracy: 0.9410569105691057\n",
      "Precision: 0.9952041638575185\n",
      "Confusion Matrix:\n",
      "[[491   1]\n",
      " [ 57 435]]\n",
      "Recall: 0.8841463414634146\n",
      "F1 Score: 0.9375\n",
      "Epoch 162/300\n",
      "[LightGBM] [Info] Number of positive: 442, number of negative: 540\n",
      "[LightGBM] [Info] This is the GPU trainer!!\n",
      "[LightGBM] [Info] Total Bins 7650\n",
      "[LightGBM] [Info] Number of data points in the train set: 982, number of used features: 30\n"
     ]
    },
    {
     "name": "stderr",
     "output_type": "stream",
     "text": [
      "c:\\Users\\FH-Deg\\.conda\\envs\\tf_c_gpu\\lib\\site-packages\\lightgbm\\basic.py:1192: UserWarning: Converting data to scipy sparse matrix.\n",
      "  _log_warning('Converting data to scipy sparse matrix.')\n"
     ]
    },
    {
     "name": "stdout",
     "output_type": "stream",
     "text": [
      "[LightGBM] [Info] Using GPU Device: Quadro RTX 4000, Vendor: NVIDIA Corporation\n",
      "[LightGBM] [Info] Compiling OpenCL Kernel with 256 bins...\n",
      "[LightGBM] [Info] GPU programs have been built\n",
      "[LightGBM] [Info] Size of histogram bin entry: 8\n",
      "[LightGBM] [Info] 30 dense feature groups (0.03 MB) transferred to GPU in 0.011750 secs. 0 sparse feature groups\n",
      "[LightGBM] [Info] Size of histogram bin entry: 8\n",
      "[LightGBM] [Info] 30 dense feature groups (0.02 MB) transferred to GPU in 0.021849 secs. 0 sparse feature groups\n",
      "threshold: 0.6647619196141012\n",
      "AUC-ROC: 0.9948773877982682\n",
      "Accuracy: 0.9420731707317073\n",
      "Precision: 0.9952483544777255\n",
      "Confusion Matrix:\n",
      "[[492   0]\n",
      " [ 57 435]]\n",
      "Recall: 0.8841463414634146\n",
      "F1 Score: 0.9385113268608414\n",
      "Epoch 163/300\n",
      "[LightGBM] [Info] Number of positive: 442, number of negative: 540\n",
      "[LightGBM] [Info] This is the GPU trainer!!\n",
      "[LightGBM] [Info] Total Bins 7650\n",
      "[LightGBM] [Info] Number of data points in the train set: 982, number of used features: 30\n",
      "[LightGBM] [Info] Using GPU Device: Quadro RTX 4000, Vendor: NVIDIA Corporation\n",
      "[LightGBM] [Info] Compiling OpenCL Kernel with 256 bins...\n"
     ]
    },
    {
     "name": "stderr",
     "output_type": "stream",
     "text": [
      "c:\\Users\\FH-Deg\\.conda\\envs\\tf_c_gpu\\lib\\site-packages\\lightgbm\\basic.py:1192: UserWarning: Converting data to scipy sparse matrix.\n",
      "  _log_warning('Converting data to scipy sparse matrix.')\n"
     ]
    },
    {
     "name": "stdout",
     "output_type": "stream",
     "text": [
      "[LightGBM] [Info] GPU programs have been built\n",
      "[LightGBM] [Info] Size of histogram bin entry: 8\n",
      "[LightGBM] [Info] 30 dense feature groups (0.03 MB) transferred to GPU in 0.004351 secs. 0 sparse feature groups\n",
      "[LightGBM] [Info] Size of histogram bin entry: 8\n",
      "[LightGBM] [Info] 30 dense feature groups (0.02 MB) transferred to GPU in 0.004207 secs. 0 sparse feature groups\n",
      "threshold: 0.6653471896902718\n",
      "AUC-ROC: 0.9949228303258641\n",
      "Accuracy: 0.943089430894309\n",
      "Precision: 0.9952951992283596\n",
      "Confusion Matrix:\n",
      "[[492   0]\n",
      " [ 56 436]]\n",
      "Recall: 0.8861788617886179\n",
      "F1 Score: 0.9396551724137931\n",
      "Updating target policy...\n",
      "Epoch 164/300\n",
      "[LightGBM] [Info] Number of positive: 442, number of negative: 540\n",
      "[LightGBM] [Info] This is the GPU trainer!!\n",
      "[LightGBM] [Info] Total Bins 7650\n",
      "[LightGBM] [Info] Number of data points in the train set: 982, number of used features: 30\n"
     ]
    },
    {
     "name": "stderr",
     "output_type": "stream",
     "text": [
      "c:\\Users\\FH-Deg\\.conda\\envs\\tf_c_gpu\\lib\\site-packages\\lightgbm\\basic.py:1192: UserWarning: Converting data to scipy sparse matrix.\n",
      "  _log_warning('Converting data to scipy sparse matrix.')\n"
     ]
    },
    {
     "name": "stdout",
     "output_type": "stream",
     "text": [
      "[LightGBM] [Info] Using GPU Device: Quadro RTX 4000, Vendor: NVIDIA Corporation\n",
      "[LightGBM] [Info] Compiling OpenCL Kernel with 256 bins...\n",
      "[LightGBM] [Info] GPU programs have been built\n",
      "[LightGBM] [Info] Size of histogram bin entry: 8\n",
      "[LightGBM] [Info] 30 dense feature groups (0.03 MB) transferred to GPU in 0.043970 secs. 0 sparse feature groups\n",
      "[LightGBM] [Info] Size of histogram bin entry: 8\n",
      "[LightGBM] [Info] 30 dense feature groups (0.02 MB) transferred to GPU in 0.023038 secs. 0 sparse feature groups\n",
      "threshold: 0.6658551433794208\n",
      "AUC-ROC: 0.9949641417145879\n",
      "Accuracy: 0.943089430894309\n",
      "Precision: 0.995334736459608\n",
      "Confusion Matrix:\n",
      "[[492   0]\n",
      " [ 56 436]]\n",
      "Recall: 0.8861788617886179\n",
      "F1 Score: 0.9396551724137931\n",
      "Epoch 165/300\n",
      "[LightGBM] [Info] Number of positive: 442, number of negative: 540\n",
      "[LightGBM] [Info] This is the GPU trainer!!\n",
      "[LightGBM] [Info] Total Bins 7650\n",
      "[LightGBM] [Info] Number of data points in the train set: 982, number of used features: 30\n"
     ]
    },
    {
     "name": "stderr",
     "output_type": "stream",
     "text": [
      "c:\\Users\\FH-Deg\\.conda\\envs\\tf_c_gpu\\lib\\site-packages\\lightgbm\\basic.py:1192: UserWarning: Converting data to scipy sparse matrix.\n",
      "  _log_warning('Converting data to scipy sparse matrix.')\n"
     ]
    },
    {
     "name": "stdout",
     "output_type": "stream",
     "text": [
      "[LightGBM] [Info] Using GPU Device: Quadro RTX 4000, Vendor: NVIDIA Corporation\n",
      "[LightGBM] [Info] Compiling OpenCL Kernel with 256 bins...\n",
      "[LightGBM] [Info] GPU programs have been built\n",
      "[LightGBM] [Info] Size of histogram bin entry: 8\n",
      "[LightGBM] [Info] 30 dense feature groups (0.03 MB) transferred to GPU in 0.005094 secs. 0 sparse feature groups\n",
      "[LightGBM] [Info] Size of histogram bin entry: 8\n",
      "[LightGBM] [Info] 30 dense feature groups (0.02 MB) transferred to GPU in 0.004285 secs. 0 sparse feature groups\n",
      "threshold: 0.6671360670591454\n",
      "AUC-ROC: 0.9949889285478222\n",
      "Accuracy: 0.9420731707317073\n",
      "Precision: 0.9953578053452319\n",
      "Confusion Matrix:\n",
      "[[492   0]\n",
      " [ 57 435]]\n",
      "Recall: 0.8841463414634146\n",
      "F1 Score: 0.9385113268608414\n",
      "Epoch 166/300\n",
      "[LightGBM] [Info] Number of positive: 442, number of negative: 540\n",
      "[LightGBM] [Info] This is the GPU trainer!!\n",
      "[LightGBM] [Info] Total Bins 7650\n",
      "[LightGBM] [Info] Number of data points in the train set: 982, number of used features: 30\n"
     ]
    },
    {
     "name": "stderr",
     "output_type": "stream",
     "text": [
      "c:\\Users\\FH-Deg\\.conda\\envs\\tf_c_gpu\\lib\\site-packages\\lightgbm\\basic.py:1192: UserWarning: Converting data to scipy sparse matrix.\n",
      "  _log_warning('Converting data to scipy sparse matrix.')\n"
     ]
    },
    {
     "name": "stdout",
     "output_type": "stream",
     "text": [
      "[LightGBM] [Info] Using GPU Device: Quadro RTX 4000, Vendor: NVIDIA Corporation\n",
      "[LightGBM] [Info] Compiling OpenCL Kernel with 256 bins...\n",
      "[LightGBM] [Info] GPU programs have been built\n",
      "[LightGBM] [Info] Size of histogram bin entry: 8\n",
      "[LightGBM] [Info] 30 dense feature groups (0.03 MB) transferred to GPU in 0.044418 secs. 0 sparse feature groups\n",
      "[LightGBM] [Info] Size of histogram bin entry: 8\n",
      "[LightGBM] [Info] 30 dense feature groups (0.02 MB) transferred to GPU in 0.003935 secs. 0 sparse feature groups\n",
      "threshold: 0.6676747868793018\n",
      "AUC-ROC: 0.9949889285478222\n",
      "Accuracy: 0.943089430894309\n",
      "Precision: 0.9953595141722595\n",
      "Confusion Matrix:\n",
      "[[492   0]\n",
      " [ 56 436]]\n",
      "Recall: 0.8861788617886179\n",
      "F1 Score: 0.9396551724137931\n",
      "Updating target policy...\n",
      "Epoch 167/300\n",
      "[LightGBM] [Info] Number of positive: 442, number of negative: 540\n",
      "[LightGBM] [Info] This is the GPU trainer!!\n",
      "[LightGBM] [Info] Total Bins 7650\n",
      "[LightGBM] [Info] Number of data points in the train set: 982, number of used features: 30\n"
     ]
    },
    {
     "name": "stderr",
     "output_type": "stream",
     "text": [
      "c:\\Users\\FH-Deg\\.conda\\envs\\tf_c_gpu\\lib\\site-packages\\lightgbm\\basic.py:1192: UserWarning: Converting data to scipy sparse matrix.\n",
      "  _log_warning('Converting data to scipy sparse matrix.')\n"
     ]
    },
    {
     "name": "stdout",
     "output_type": "stream",
     "text": [
      "[LightGBM] [Info] Using GPU Device: Quadro RTX 4000, Vendor: NVIDIA Corporation\n",
      "[LightGBM] [Info] Compiling OpenCL Kernel with 256 bins...\n",
      "[LightGBM] [Info] GPU programs have been built\n",
      "[LightGBM] [Info] Size of histogram bin entry: 8\n",
      "[LightGBM] [Info] 30 dense feature groups (0.03 MB) transferred to GPU in 0.082135 secs. 0 sparse feature groups\n",
      "[LightGBM] [Info] Size of histogram bin entry: 8\n",
      "[LightGBM] [Info] 30 dense feature groups (0.02 MB) transferred to GPU in 0.010637 secs. 0 sparse feature groups\n",
      "threshold: 0.6665537027864663\n",
      "AUC-ROC: 0.9950426333531628\n",
      "Accuracy: 0.9441056910569106\n",
      "Precision: 0.9954158103036218\n",
      "Confusion Matrix:\n",
      "[[492   0]\n",
      " [ 55 437]]\n",
      "Recall: 0.8882113821138211\n",
      "F1 Score: 0.9407965554359526\n",
      "Epoch 168/300\n",
      "[LightGBM] [Info] Number of positive: 442, number of negative: 540\n",
      "[LightGBM] [Info] This is the GPU trainer!!\n",
      "[LightGBM] [Info] Total Bins 7650\n",
      "[LightGBM] [Info] Number of data points in the train set: 982, number of used features: 30\n"
     ]
    },
    {
     "name": "stderr",
     "output_type": "stream",
     "text": [
      "c:\\Users\\FH-Deg\\.conda\\envs\\tf_c_gpu\\lib\\site-packages\\lightgbm\\basic.py:1192: UserWarning: Converting data to scipy sparse matrix.\n",
      "  _log_warning('Converting data to scipy sparse matrix.')\n"
     ]
    },
    {
     "name": "stdout",
     "output_type": "stream",
     "text": [
      "[LightGBM] [Info] Using GPU Device: Quadro RTX 4000, Vendor: NVIDIA Corporation\n",
      "[LightGBM] [Info] Compiling OpenCL Kernel with 256 bins...\n",
      "[LightGBM] [Info] GPU programs have been built\n",
      "[LightGBM] [Info] Size of histogram bin entry: 8\n",
      "[LightGBM] [Info] 30 dense feature groups (0.03 MB) transferred to GPU in 0.017538 secs. 0 sparse feature groups\n",
      "[LightGBM] [Info] Size of histogram bin entry: 8\n",
      "[LightGBM] [Info] 30 dense feature groups (0.02 MB) transferred to GPU in 0.004455 secs. 0 sparse feature groups\n",
      "threshold: 0.6663068636144059\n",
      "AUC-ROC: 0.9950798136030141\n",
      "Accuracy: 0.9441056910569106\n",
      "Precision: 0.9954549330675513\n",
      "Confusion Matrix:\n",
      "[[492   0]\n",
      " [ 55 437]]\n",
      "Recall: 0.8882113821138211\n",
      "F1 Score: 0.9407965554359526\n",
      "Epoch 169/300\n",
      "[LightGBM] [Info] Number of positive: 442, number of negative: 540\n",
      "[LightGBM] [Info] This is the GPU trainer!!\n",
      "[LightGBM] [Info] Total Bins 7650\n",
      "[LightGBM] [Info] Number of data points in the train set: 982, number of used features: 30\n"
     ]
    },
    {
     "name": "stderr",
     "output_type": "stream",
     "text": [
      "c:\\Users\\FH-Deg\\.conda\\envs\\tf_c_gpu\\lib\\site-packages\\lightgbm\\basic.py:1192: UserWarning: Converting data to scipy sparse matrix.\n",
      "  _log_warning('Converting data to scipy sparse matrix.')\n"
     ]
    },
    {
     "name": "stdout",
     "output_type": "stream",
     "text": [
      "[LightGBM] [Info] Using GPU Device: Quadro RTX 4000, Vendor: NVIDIA Corporation\n",
      "[LightGBM] [Info] Compiling OpenCL Kernel with 256 bins...\n",
      "[LightGBM] [Info] GPU programs have been built\n",
      "[LightGBM] [Info] Size of histogram bin entry: 8\n",
      "[LightGBM] [Info] 30 dense feature groups (0.03 MB) transferred to GPU in 0.007814 secs. 0 sparse feature groups\n",
      "[LightGBM] [Info] Size of histogram bin entry: 8\n",
      "[LightGBM] [Info] 30 dense feature groups (0.02 MB) transferred to GPU in 0.047069 secs. 0 sparse feature groups\n",
      "threshold: 0.6667985873059258\n",
      "AUC-ROC: 0.9951335184083548\n",
      "Accuracy: 0.9441056910569106\n",
      "Precision: 0.9955038062601631\n",
      "Confusion Matrix:\n",
      "[[492   0]\n",
      " [ 55 437]]\n",
      "Recall: 0.8882113821138211\n",
      "F1 Score: 0.9407965554359526\n",
      "Updating target policy...\n",
      "Epoch 170/300\n",
      "[LightGBM] [Info] Number of positive: 442, number of negative: 540\n",
      "[LightGBM] [Info] This is the GPU trainer!!\n",
      "[LightGBM] [Info] Total Bins 7650\n",
      "[LightGBM] [Info] Number of data points in the train set: 982, number of used features: 30\n"
     ]
    },
    {
     "name": "stderr",
     "output_type": "stream",
     "text": [
      "c:\\Users\\FH-Deg\\.conda\\envs\\tf_c_gpu\\lib\\site-packages\\lightgbm\\basic.py:1192: UserWarning: Converting data to scipy sparse matrix.\n",
      "  _log_warning('Converting data to scipy sparse matrix.')\n"
     ]
    },
    {
     "name": "stdout",
     "output_type": "stream",
     "text": [
      "[LightGBM] [Info] Using GPU Device: Quadro RTX 4000, Vendor: NVIDIA Corporation\n",
      "[LightGBM] [Info] Compiling OpenCL Kernel with 256 bins...\n",
      "[LightGBM] [Info] GPU programs have been built\n",
      "[LightGBM] [Info] Size of histogram bin entry: 8\n",
      "[LightGBM] [Info] 30 dense feature groups (0.03 MB) transferred to GPU in 0.007773 secs. 0 sparse feature groups\n",
      "[LightGBM] [Info] Size of histogram bin entry: 8\n",
      "[LightGBM] [Info] 30 dense feature groups (0.02 MB) transferred to GPU in 0.003961 secs. 0 sparse feature groups\n",
      "threshold: 0.6698167444506321\n",
      "AUC-ROC: 0.9952202723246746\n",
      "Accuracy: 0.9441056910569106\n",
      "Precision: 0.9955770489471917\n",
      "Confusion Matrix:\n",
      "[[492   0]\n",
      " [ 55 437]]\n",
      "Recall: 0.8882113821138211\n",
      "F1 Score: 0.9407965554359526\n",
      "Epoch 171/300\n",
      "[LightGBM] [Info] Number of positive: 442, number of negative: 540\n",
      "[LightGBM] [Info] This is the GPU trainer!!\n",
      "[LightGBM] [Info] Total Bins 7650\n",
      "[LightGBM] [Info] Number of data points in the train set: 982, number of used features: 30\n",
      "[LightGBM] [Info] Using GPU Device: Quadro RTX 4000, Vendor: NVIDIA Corporation\n",
      "[LightGBM] [Info] Compiling OpenCL Kernel with 256 bins...\n",
      "[LightGBM] [Info] GPU programs have been built\n",
      "[LightGBM] [Info] Size of histogram bin entry: 8\n"
     ]
    },
    {
     "name": "stderr",
     "output_type": "stream",
     "text": [
      "c:\\Users\\FH-Deg\\.conda\\envs\\tf_c_gpu\\lib\\site-packages\\lightgbm\\basic.py:1192: UserWarning: Converting data to scipy sparse matrix.\n",
      "  _log_warning('Converting data to scipy sparse matrix.')\n"
     ]
    },
    {
     "name": "stdout",
     "output_type": "stream",
     "text": [
      "[LightGBM] [Info] 30 dense feature groups (0.03 MB) transferred to GPU in 0.004869 secs. 0 sparse feature groups\n",
      "[LightGBM] [Info] Size of histogram bin entry: 8\n",
      "[LightGBM] [Info] 30 dense feature groups (0.02 MB) transferred to GPU in 0.004612 secs. 0 sparse feature groups\n",
      "threshold: 0.6694556392060863\n",
      "AUC-ROC: 0.9952367968801639\n",
      "Accuracy: 0.9441056910569106\n",
      "Precision: 0.9955932089735212\n",
      "Confusion Matrix:\n",
      "[[492   0]\n",
      " [ 55 437]]\n",
      "Recall: 0.8882113821138211\n",
      "F1 Score: 0.9407965554359526\n",
      "Epoch 172/300\n",
      "[LightGBM] [Info] Number of positive: 442, number of negative: 540\n",
      "[LightGBM] [Info] This is the GPU trainer!!\n",
      "[LightGBM] [Info] Total Bins 7650\n",
      "[LightGBM] [Info] Number of data points in the train set: 982, number of used features: 30\n"
     ]
    },
    {
     "name": "stderr",
     "output_type": "stream",
     "text": [
      "c:\\Users\\FH-Deg\\.conda\\envs\\tf_c_gpu\\lib\\site-packages\\lightgbm\\basic.py:1192: UserWarning: Converting data to scipy sparse matrix.\n",
      "  _log_warning('Converting data to scipy sparse matrix.')\n"
     ]
    },
    {
     "name": "stdout",
     "output_type": "stream",
     "text": [
      "[LightGBM] [Info] Using GPU Device: Quadro RTX 4000, Vendor: NVIDIA Corporation\n",
      "[LightGBM] [Info] Compiling OpenCL Kernel with 256 bins...\n",
      "[LightGBM] [Info] GPU programs have been built\n",
      "[LightGBM] [Info] Size of histogram bin entry: 8\n",
      "[LightGBM] [Info] 30 dense feature groups (0.03 MB) transferred to GPU in 0.055472 secs. 0 sparse feature groups\n",
      "[LightGBM] [Info] Size of histogram bin entry: 8\n",
      "[LightGBM] [Info] 30 dense feature groups (0.02 MB) transferred to GPU in 0.029144 secs. 0 sparse feature groups\n",
      "threshold: 0.6691100710053138\n",
      "AUC-ROC: 0.9952781082688875\n",
      "Accuracy: 0.9441056910569106\n",
      "Precision: 0.9956359562668274\n",
      "Confusion Matrix:\n",
      "[[492   0]\n",
      " [ 55 437]]\n",
      "Recall: 0.8882113821138211\n",
      "F1 Score: 0.9407965554359526\n",
      "Updating target policy...\n",
      "Epoch 173/300\n",
      "[LightGBM] [Info] Number of positive: 442, number of negative: 540\n",
      "[LightGBM] [Info] This is the GPU trainer!!\n",
      "[LightGBM] [Info] Total Bins 7650\n",
      "[LightGBM] [Info] Number of data points in the train set: 982, number of used features: 30\n"
     ]
    },
    {
     "name": "stderr",
     "output_type": "stream",
     "text": [
      "c:\\Users\\FH-Deg\\.conda\\envs\\tf_c_gpu\\lib\\site-packages\\lightgbm\\basic.py:1192: UserWarning: Converting data to scipy sparse matrix.\n",
      "  _log_warning('Converting data to scipy sparse matrix.')\n"
     ]
    },
    {
     "name": "stdout",
     "output_type": "stream",
     "text": [
      "[LightGBM] [Info] Using GPU Device: Quadro RTX 4000, Vendor: NVIDIA Corporation\n",
      "[LightGBM] [Info] Compiling OpenCL Kernel with 256 bins...\n",
      "[LightGBM] [Info] GPU programs have been built\n",
      "[LightGBM] [Info] Size of histogram bin entry: 8\n",
      "[LightGBM] [Info] 30 dense feature groups (0.03 MB) transferred to GPU in 0.010807 secs. 0 sparse feature groups\n",
      "[LightGBM] [Info] Size of histogram bin entry: 8\n",
      "[LightGBM] [Info] 30 dense feature groups (0.02 MB) transferred to GPU in 0.004931 secs. 0 sparse feature groups\n",
      "threshold: 0.6695212112155942\n",
      "AUC-ROC: 0.9952781082688875\n",
      "Accuracy: 0.9451219512195121\n",
      "Precision: 0.9956396273837418\n",
      "Confusion Matrix:\n",
      "[[492   0]\n",
      " [ 54 438]]\n",
      "Recall: 0.8902439024390244\n",
      "F1 Score: 0.9419354838709677\n",
      "Epoch 174/300\n",
      "[LightGBM] [Info] Number of positive: 442, number of negative: 540\n",
      "[LightGBM] [Info] This is the GPU trainer!!\n",
      "[LightGBM] [Info] Total Bins 7650\n",
      "[LightGBM] [Info] Number of data points in the train set: 982, number of used features: 30\n",
      "[LightGBM] [Info] Using GPU Device: Quadro RTX 4000, Vendor: NVIDIA Corporation\n",
      "[LightGBM] [Info] Compiling OpenCL Kernel with 256 bins...\n"
     ]
    },
    {
     "name": "stderr",
     "output_type": "stream",
     "text": [
      "c:\\Users\\FH-Deg\\.conda\\envs\\tf_c_gpu\\lib\\site-packages\\lightgbm\\basic.py:1192: UserWarning: Converting data to scipy sparse matrix.\n",
      "  _log_warning('Converting data to scipy sparse matrix.')\n"
     ]
    },
    {
     "name": "stdout",
     "output_type": "stream",
     "text": [
      "[LightGBM] [Info] GPU programs have been built\n",
      "[LightGBM] [Info] Size of histogram bin entry: 8\n",
      "[LightGBM] [Info] 30 dense feature groups (0.03 MB) transferred to GPU in 0.004572 secs. 0 sparse feature groups\n",
      "[LightGBM] [Info] Size of histogram bin entry: 8\n",
      "[LightGBM] [Info] 30 dense feature groups (0.02 MB) transferred to GPU in 0.004181 secs. 0 sparse feature groups\n",
      "threshold: 0.6682757652574733\n",
      "AUC-ROC: 0.9953070262409941\n",
      "Accuracy: 0.9451219512195121\n",
      "Precision: 0.9956690628143714\n",
      "Confusion Matrix:\n",
      "[[492   0]\n",
      " [ 54 438]]\n",
      "Recall: 0.8902439024390244\n",
      "F1 Score: 0.9419354838709677\n",
      "Epoch 175/300\n",
      "[LightGBM] [Info] Number of positive: 442, number of negative: 540\n",
      "[LightGBM] [Info] This is the GPU trainer!!\n",
      "[LightGBM] [Info] Total Bins 7650\n",
      "[LightGBM] [Info] Number of data points in the train set: 982, number of used features: 30\n"
     ]
    },
    {
     "name": "stderr",
     "output_type": "stream",
     "text": [
      "c:\\Users\\FH-Deg\\.conda\\envs\\tf_c_gpu\\lib\\site-packages\\lightgbm\\basic.py:1192: UserWarning: Converting data to scipy sparse matrix.\n",
      "  _log_warning('Converting data to scipy sparse matrix.')\n"
     ]
    },
    {
     "name": "stdout",
     "output_type": "stream",
     "text": [
      "[LightGBM] [Info] Using GPU Device: Quadro RTX 4000, Vendor: NVIDIA Corporation\n",
      "[LightGBM] [Info] Compiling OpenCL Kernel with 256 bins...\n",
      "[LightGBM] [Info] GPU programs have been built\n",
      "[LightGBM] [Info] Size of histogram bin entry: 8\n",
      "[LightGBM] [Info] 30 dense feature groups (0.03 MB) transferred to GPU in 0.005199 secs. 0 sparse feature groups\n",
      "[LightGBM] [Info] Size of histogram bin entry: 8\n",
      "[LightGBM] [Info] 30 dense feature groups (0.02 MB) transferred to GPU in 0.017566 secs. 0 sparse feature groups\n",
      "threshold: 0.6670850501472285\n",
      "AUC-ROC: 0.9952863705466324\n",
      "Accuracy: 0.9441056910569106\n",
      "Precision: 0.9956560176385728\n",
      "Confusion Matrix:\n",
      "[[491   1]\n",
      " [ 54 438]]\n",
      "Recall: 0.8902439024390244\n",
      "F1 Score: 0.9409237379162191\n",
      "Updating target policy...\n",
      "Epoch 176/300\n",
      "[LightGBM] [Info] Number of positive: 442, number of negative: 540\n",
      "[LightGBM] [Info] This is the GPU trainer!!\n",
      "[LightGBM] [Info] Total Bins 7650\n",
      "[LightGBM] [Info] Number of data points in the train set: 982, number of used features: 30\n"
     ]
    },
    {
     "name": "stderr",
     "output_type": "stream",
     "text": [
      "c:\\Users\\FH-Deg\\.conda\\envs\\tf_c_gpu\\lib\\site-packages\\lightgbm\\basic.py:1192: UserWarning: Converting data to scipy sparse matrix.\n",
      "  _log_warning('Converting data to scipy sparse matrix.')\n"
     ]
    },
    {
     "name": "stdout",
     "output_type": "stream",
     "text": [
      "[LightGBM] [Info] Using GPU Device: Quadro RTX 4000, Vendor: NVIDIA Corporation\n",
      "[LightGBM] [Info] Compiling OpenCL Kernel with 256 bins...\n",
      "[LightGBM] [Info] GPU programs have been built\n",
      "[LightGBM] [Info] Size of histogram bin entry: 8\n",
      "[LightGBM] [Info] 30 dense feature groups (0.03 MB) transferred to GPU in 0.022231 secs. 0 sparse feature groups\n",
      "[LightGBM] [Info] Size of histogram bin entry: 8\n",
      "[LightGBM] [Info] 30 dense feature groups (0.02 MB) transferred to GPU in 0.004543 secs. 0 sparse feature groups\n",
      "threshold: 0.667569101294175\n",
      "AUC-ROC: 0.995340075351973\n",
      "Accuracy: 0.9441056910569106\n",
      "Precision: 0.9957038001401726\n",
      "Confusion Matrix:\n",
      "[[491   1]\n",
      " [ 54 438]]\n",
      "Recall: 0.8902439024390244\n",
      "F1 Score: 0.9409237379162191\n",
      "Epoch 177/300\n",
      "[LightGBM] [Info] Number of positive: 442, number of negative: 540\n",
      "[LightGBM] [Info] This is the GPU trainer!!\n",
      "[LightGBM] [Info] Total Bins 7650\n",
      "[LightGBM] [Info] Number of data points in the train set: 982, number of used features: 30\n",
      "[LightGBM] [Info] Using GPU Device: Quadro RTX 4000, Vendor: NVIDIA Corporation\n",
      "[LightGBM] [Info] Compiling OpenCL Kernel with 256 bins...\n",
      "[LightGBM] [Info] GPU programs have been built\n",
      "[LightGBM] [Info] Size of histogram bin entry: 8\n",
      "[LightGBM] [Info] 30 dense feature groups (0.03 MB) transferred to GPU in 0.004814 secs. 0 sparse feature groups\n",
      "[LightGBM] [Info] Size of histogram bin entry: 8\n",
      "[LightGBM] [Info] 30 dense feature groups (0.02 MB) transferred to GPU in 0.005128 secs. 0 sparse feature groups\n"
     ]
    },
    {
     "name": "stderr",
     "output_type": "stream",
     "text": [
      "c:\\Users\\FH-Deg\\.conda\\envs\\tf_c_gpu\\lib\\site-packages\\lightgbm\\basic.py:1192: UserWarning: Converting data to scipy sparse matrix.\n",
      "  _log_warning('Converting data to scipy sparse matrix.')\n"
     ]
    },
    {
     "name": "stdout",
     "output_type": "stream",
     "text": [
      "threshold: 0.6672203886096523\n",
      "AUC-ROC: 0.9953442064908454\n",
      "Accuracy: 0.9441056910569106\n",
      "Precision: 0.9957103403147751\n",
      "Confusion Matrix:\n",
      "[[491   1]\n",
      " [ 54 438]]\n",
      "Recall: 0.8902439024390244\n",
      "F1 Score: 0.9409237379162191\n",
      "Epoch 178/300\n",
      "[LightGBM] [Info] Number of positive: 442, number of negative: 540\n",
      "[LightGBM] [Info] This is the GPU trainer!!\n",
      "[LightGBM] [Info] Total Bins 7650\n",
      "[LightGBM] [Info] Number of data points in the train set: 982, number of used features: 30\n"
     ]
    },
    {
     "name": "stderr",
     "output_type": "stream",
     "text": [
      "c:\\Users\\FH-Deg\\.conda\\envs\\tf_c_gpu\\lib\\site-packages\\lightgbm\\basic.py:1192: UserWarning: Converting data to scipy sparse matrix.\n",
      "  _log_warning('Converting data to scipy sparse matrix.')\n"
     ]
    },
    {
     "name": "stdout",
     "output_type": "stream",
     "text": [
      "[LightGBM] [Info] Using GPU Device: Quadro RTX 4000, Vendor: NVIDIA Corporation\n",
      "[LightGBM] [Info] Compiling OpenCL Kernel with 256 bins...\n",
      "[LightGBM] [Info] GPU programs have been built\n",
      "[LightGBM] [Info] Size of histogram bin entry: 8\n",
      "[LightGBM] [Info] 30 dense feature groups (0.03 MB) transferred to GPU in 0.060038 secs. 0 sparse feature groups\n",
      "[LightGBM] [Info] Size of histogram bin entry: 8\n",
      "[LightGBM] [Info] 30 dense feature groups (0.02 MB) transferred to GPU in 0.005457 secs. 0 sparse feature groups\n",
      "threshold: 0.6676479727591574\n",
      "AUC-ROC: 0.9953607310463348\n",
      "Accuracy: 0.9441056910569106\n",
      "Precision: 0.9957256962204918\n",
      "Confusion Matrix:\n",
      "[[491   1]\n",
      " [ 54 438]]\n",
      "Recall: 0.8902439024390244\n",
      "F1 Score: 0.9409237379162191\n",
      "Updating target policy...\n",
      "Epoch 179/300\n",
      "[LightGBM] [Info] Number of positive: 442, number of negative: 540\n",
      "[LightGBM] [Info] This is the GPU trainer!!\n",
      "[LightGBM] [Info] Total Bins 7650\n",
      "[LightGBM] [Info] Number of data points in the train set: 982, number of used features: 30\n"
     ]
    },
    {
     "name": "stderr",
     "output_type": "stream",
     "text": [
      "c:\\Users\\FH-Deg\\.conda\\envs\\tf_c_gpu\\lib\\site-packages\\lightgbm\\basic.py:1192: UserWarning: Converting data to scipy sparse matrix.\n",
      "  _log_warning('Converting data to scipy sparse matrix.')\n"
     ]
    },
    {
     "name": "stdout",
     "output_type": "stream",
     "text": [
      "[LightGBM] [Info] Using GPU Device: Quadro RTX 4000, Vendor: NVIDIA Corporation\n",
      "[LightGBM] [Info] Compiling OpenCL Kernel with 256 bins...\n",
      "[LightGBM] [Info] GPU programs have been built\n",
      "[LightGBM] [Info] Size of histogram bin entry: 8\n",
      "[LightGBM] [Info] 30 dense feature groups (0.03 MB) transferred to GPU in 0.004729 secs. 0 sparse feature groups\n",
      "[LightGBM] [Info] Size of histogram bin entry: 8\n",
      "[LightGBM] [Info] 30 dense feature groups (0.02 MB) transferred to GPU in 0.073301 secs. 0 sparse feature groups\n",
      "threshold: 0.66886383180296\n",
      "AUC-ROC: 0.995373124462952\n",
      "Accuracy: 0.9441056910569106\n",
      "Precision: 0.9957350476963821\n",
      "Confusion Matrix:\n",
      "[[491   1]\n",
      " [ 54 438]]\n",
      "Recall: 0.8902439024390244\n",
      "F1 Score: 0.9409237379162191\n",
      "Epoch 180/300\n",
      "[LightGBM] [Info] Number of positive: 442, number of negative: 540\n",
      "[LightGBM] [Info] This is the GPU trainer!!\n",
      "[LightGBM] [Info] Total Bins 7650\n",
      "[LightGBM] [Info] Number of data points in the train set: 982, number of used features: 30\n",
      "[LightGBM] [Info] Using GPU Device: Quadro RTX 4000, Vendor: NVIDIA Corporation\n",
      "[LightGBM] [Info] Compiling OpenCL Kernel with 256 bins...\n"
     ]
    },
    {
     "name": "stderr",
     "output_type": "stream",
     "text": [
      "c:\\Users\\FH-Deg\\.conda\\envs\\tf_c_gpu\\lib\\site-packages\\lightgbm\\basic.py:1192: UserWarning: Converting data to scipy sparse matrix.\n",
      "  _log_warning('Converting data to scipy sparse matrix.')\n"
     ]
    },
    {
     "name": "stdout",
     "output_type": "stream",
     "text": [
      "[LightGBM] [Info] GPU programs have been built\n",
      "[LightGBM] [Info] Size of histogram bin entry: 8\n",
      "[LightGBM] [Info] 30 dense feature groups (0.03 MB) transferred to GPU in 0.004277 secs. 0 sparse feature groups\n",
      "[LightGBM] [Info] Size of histogram bin entry: 8\n",
      "[LightGBM] [Info] 30 dense feature groups (0.02 MB) transferred to GPU in 0.004874 secs. 0 sparse feature groups\n",
      "threshold: 0.669289522269344\n",
      "AUC-ROC: 0.9954061735739309\n",
      "Accuracy: 0.9441056910569106\n",
      "Precision: 0.9957689797386301\n",
      "Confusion Matrix:\n",
      "[[491   1]\n",
      " [ 54 438]]\n",
      "Recall: 0.8902439024390244\n",
      "F1 Score: 0.9409237379162191\n",
      "Epoch 181/300\n",
      "[LightGBM] [Info] Number of positive: 442, number of negative: 540\n",
      "[LightGBM] [Info] This is the GPU trainer!!\n",
      "[LightGBM] [Info] Total Bins 7650\n",
      "[LightGBM] [Info] Number of data points in the train set: 982, number of used features: 30\n",
      "[LightGBM] [Info] Using GPU Device: Quadro RTX 4000, Vendor: NVIDIA Corporation\n",
      "[LightGBM] [Info] Compiling OpenCL Kernel with 256 bins...\n",
      "[LightGBM] [Info] GPU programs have been built\n",
      "[LightGBM] [Info] Size of histogram bin entry: 8\n",
      "[LightGBM] [Info] 30 dense feature groups (0.03 MB) transferred to GPU in 0.004704 secs. 0 sparse feature groups\n",
      "[LightGBM] [Info] Size of histogram bin entry: 8\n"
     ]
    },
    {
     "name": "stderr",
     "output_type": "stream",
     "text": [
      "c:\\Users\\FH-Deg\\.conda\\envs\\tf_c_gpu\\lib\\site-packages\\lightgbm\\basic.py:1192: UserWarning: Converting data to scipy sparse matrix.\n",
      "  _log_warning('Converting data to scipy sparse matrix.')\n"
     ]
    },
    {
     "name": "stdout",
     "output_type": "stream",
     "text": [
      "[LightGBM] [Info] 30 dense feature groups (0.02 MB) transferred to GPU in 0.014936 secs. 0 sparse feature groups\n",
      "threshold: 0.673951663173715\n",
      "AUC-ROC: 0.9954268292682926\n",
      "Accuracy: 0.9441056910569106\n",
      "Precision: 0.9957817273711409\n",
      "Confusion Matrix:\n",
      "[[491   1]\n",
      " [ 54 438]]\n",
      "Recall: 0.8902439024390244\n",
      "F1 Score: 0.9409237379162191\n",
      "Updating target policy...\n",
      "Epoch 182/300\n",
      "[LightGBM] [Info] Number of positive: 442, number of negative: 540\n",
      "[LightGBM] [Info] This is the GPU trainer!!\n",
      "[LightGBM] [Info] Total Bins 7650\n",
      "[LightGBM] [Info] Number of data points in the train set: 982, number of used features: 30\n"
     ]
    },
    {
     "name": "stderr",
     "output_type": "stream",
     "text": [
      "c:\\Users\\FH-Deg\\.conda\\envs\\tf_c_gpu\\lib\\site-packages\\lightgbm\\basic.py:1192: UserWarning: Converting data to scipy sparse matrix.\n",
      "  _log_warning('Converting data to scipy sparse matrix.')\n"
     ]
    },
    {
     "name": "stdout",
     "output_type": "stream",
     "text": [
      "[LightGBM] [Info] Using GPU Device: Quadro RTX 4000, Vendor: NVIDIA Corporation\n",
      "[LightGBM] [Info] Compiling OpenCL Kernel with 256 bins...\n",
      "[LightGBM] [Info] GPU programs have been built\n",
      "[LightGBM] [Info] Size of histogram bin entry: 8\n",
      "[LightGBM] [Info] 30 dense feature groups (0.03 MB) transferred to GPU in 0.005025 secs. 0 sparse feature groups\n",
      "[LightGBM] [Info] Size of histogram bin entry: 8\n",
      "[LightGBM] [Info] 30 dense feature groups (0.02 MB) transferred to GPU in 0.004185 secs. 0 sparse feature groups\n",
      "threshold: 0.6735337770019186\n",
      "AUC-ROC: 0.995464009518144\n",
      "Accuracy: 0.9451219512195121\n",
      "Precision: 0.9958179792736378\n",
      "Confusion Matrix:\n",
      "[[492   0]\n",
      " [ 54 438]]\n",
      "Recall: 0.8902439024390244\n",
      "F1 Score: 0.9419354838709677\n",
      "Epoch 183/300\n",
      "[LightGBM] [Info] Number of positive: 442, number of negative: 540\n",
      "[LightGBM] [Info] This is the GPU trainer!!\n",
      "[LightGBM] [Info] Total Bins 7650\n",
      "[LightGBM] [Info] Number of data points in the train set: 982, number of used features: 30\n",
      "[LightGBM] [Info] Using GPU Device: Quadro RTX 4000, Vendor: NVIDIA Corporation\n",
      "[LightGBM] [Info] Compiling OpenCL Kernel with 256 bins...\n"
     ]
    },
    {
     "name": "stderr",
     "output_type": "stream",
     "text": [
      "c:\\Users\\FH-Deg\\.conda\\envs\\tf_c_gpu\\lib\\site-packages\\lightgbm\\basic.py:1192: UserWarning: Converting data to scipy sparse matrix.\n",
      "  _log_warning('Converting data to scipy sparse matrix.')\n"
     ]
    },
    {
     "name": "stdout",
     "output_type": "stream",
     "text": [
      "[LightGBM] [Info] GPU programs have been built\n",
      "[LightGBM] [Info] Size of histogram bin entry: 8\n",
      "[LightGBM] [Info] 30 dense feature groups (0.03 MB) transferred to GPU in 0.004700 secs. 0 sparse feature groups\n",
      "[LightGBM] [Info] Size of histogram bin entry: 8\n",
      "[LightGBM] [Info] 30 dense feature groups (0.02 MB) transferred to GPU in 0.004363 secs. 0 sparse feature groups\n",
      "threshold: 0.673063448950829\n",
      "AUC-ROC: 0.995451616101527\n",
      "Accuracy: 0.9451219512195121\n",
      "Precision: 0.9958061740257352\n",
      "Confusion Matrix:\n",
      "[[492   0]\n",
      " [ 54 438]]\n",
      "Recall: 0.8902439024390244\n",
      "F1 Score: 0.9419354838709677\n",
      "Epoch 184/300\n",
      "[LightGBM] [Info] Number of positive: 442, number of negative: 540\n",
      "[LightGBM] [Info] This is the GPU trainer!!\n",
      "[LightGBM] [Info] Total Bins 7650\n",
      "[LightGBM] [Info] Number of data points in the train set: 982, number of used features: 30\n"
     ]
    },
    {
     "name": "stderr",
     "output_type": "stream",
     "text": [
      "c:\\Users\\FH-Deg\\.conda\\envs\\tf_c_gpu\\lib\\site-packages\\lightgbm\\basic.py:1192: UserWarning: Converting data to scipy sparse matrix.\n",
      "  _log_warning('Converting data to scipy sparse matrix.')\n"
     ]
    },
    {
     "name": "stdout",
     "output_type": "stream",
     "text": [
      "[LightGBM] [Info] Using GPU Device: Quadro RTX 4000, Vendor: NVIDIA Corporation\n",
      "[LightGBM] [Info] Compiling OpenCL Kernel with 256 bins...\n",
      "[LightGBM] [Info] GPU programs have been built\n",
      "[LightGBM] [Info] Size of histogram bin entry: 8\n",
      "[LightGBM] [Info] 30 dense feature groups (0.03 MB) transferred to GPU in 0.004603 secs. 0 sparse feature groups\n",
      "[LightGBM] [Info] Size of histogram bin entry: 8\n",
      "[LightGBM] [Info] 30 dense feature groups (0.02 MB) transferred to GPU in 0.004268 secs. 0 sparse feature groups\n",
      "threshold: 0.671786884362777\n",
      "AUC-ROC: 0.995464009518144\n",
      "Accuracy: 0.9441056910569106\n",
      "Precision: 0.9958242850067703\n",
      "Confusion Matrix:\n",
      "[[491   1]\n",
      " [ 54 438]]\n",
      "Recall: 0.8902439024390244\n",
      "F1 Score: 0.9409237379162191\n",
      "Updating target policy...\n",
      "Epoch 185/300\n",
      "[LightGBM] [Info] Number of positive: 442, number of negative: 540\n",
      "[LightGBM] [Info] This is the GPU trainer!!\n",
      "[LightGBM] [Info] Total Bins 7650\n",
      "[LightGBM] [Info] Number of data points in the train set: 982, number of used features: 30\n"
     ]
    },
    {
     "name": "stderr",
     "output_type": "stream",
     "text": [
      "c:\\Users\\FH-Deg\\.conda\\envs\\tf_c_gpu\\lib\\site-packages\\lightgbm\\basic.py:1192: UserWarning: Converting data to scipy sparse matrix.\n",
      "  _log_warning('Converting data to scipy sparse matrix.')\n"
     ]
    },
    {
     "name": "stdout",
     "output_type": "stream",
     "text": [
      "[LightGBM] [Info] Using GPU Device: Quadro RTX 4000, Vendor: NVIDIA Corporation\n",
      "[LightGBM] [Info] Compiling OpenCL Kernel with 256 bins...\n",
      "[LightGBM] [Info] GPU programs have been built\n",
      "[LightGBM] [Info] Size of histogram bin entry: 8\n",
      "[LightGBM] [Info] 30 dense feature groups (0.03 MB) transferred to GPU in 0.010526 secs. 0 sparse feature groups\n",
      "[LightGBM] [Info] Size of histogram bin entry: 8\n",
      "[LightGBM] [Info] 30 dense feature groups (0.02 MB) transferred to GPU in 0.046898 secs. 0 sparse feature groups\n",
      "threshold: 0.6722363502772282\n",
      "AUC-ROC: 0.9954681406570163\n",
      "Accuracy: 0.9441056910569106\n",
      "Precision: 0.9958268272696255\n",
      "Confusion Matrix:\n",
      "[[491   1]\n",
      " [ 54 438]]\n",
      "Recall: 0.8902439024390244\n",
      "F1 Score: 0.9409237379162191\n",
      "Epoch 186/300\n",
      "[LightGBM] [Info] Number of positive: 442, number of negative: 540\n",
      "[LightGBM] [Info] This is the GPU trainer!!\n",
      "[LightGBM] [Info] Total Bins 7650\n",
      "[LightGBM] [Info] Number of data points in the train set: 982, number of used features: 30\n"
     ]
    },
    {
     "name": "stderr",
     "output_type": "stream",
     "text": [
      "c:\\Users\\FH-Deg\\.conda\\envs\\tf_c_gpu\\lib\\site-packages\\lightgbm\\basic.py:1192: UserWarning: Converting data to scipy sparse matrix.\n",
      "  _log_warning('Converting data to scipy sparse matrix.')\n"
     ]
    },
    {
     "name": "stdout",
     "output_type": "stream",
     "text": [
      "[LightGBM] [Info] Using GPU Device: Quadro RTX 4000, Vendor: NVIDIA Corporation\n",
      "[LightGBM] [Info] Compiling OpenCL Kernel with 256 bins...\n",
      "[LightGBM] [Info] GPU programs have been built\n",
      "[LightGBM] [Info] Size of histogram bin entry: 8\n",
      "[LightGBM] [Info] 30 dense feature groups (0.03 MB) transferred to GPU in 0.007918 secs. 0 sparse feature groups\n",
      "[LightGBM] [Info] Size of histogram bin entry: 8\n",
      "[LightGBM] [Info] 30 dense feature groups (0.02 MB) transferred to GPU in 0.004612 secs. 0 sparse feature groups\n",
      "threshold: 0.672695665106303\n",
      "AUC-ROC: 0.9955342388789741\n",
      "Accuracy: 0.9441056910569106\n",
      "Precision: 0.9958901615394106\n",
      "Confusion Matrix:\n",
      "[[491   1]\n",
      " [ 54 438]]\n",
      "Recall: 0.8902439024390244\n",
      "F1 Score: 0.9409237379162191\n",
      "Epoch 187/300\n",
      "[LightGBM] [Info] Number of positive: 442, number of negative: 540\n",
      "[LightGBM] [Info] This is the GPU trainer!!\n",
      "[LightGBM] [Info] Total Bins 7650\n",
      "[LightGBM] [Info] Number of data points in the train set: 982, number of used features: 30\n"
     ]
    },
    {
     "name": "stderr",
     "output_type": "stream",
     "text": [
      "c:\\Users\\FH-Deg\\.conda\\envs\\tf_c_gpu\\lib\\site-packages\\lightgbm\\basic.py:1192: UserWarning: Converting data to scipy sparse matrix.\n",
      "  _log_warning('Converting data to scipy sparse matrix.')\n"
     ]
    },
    {
     "name": "stdout",
     "output_type": "stream",
     "text": [
      "[LightGBM] [Info] Using GPU Device: Quadro RTX 4000, Vendor: NVIDIA Corporation\n",
      "[LightGBM] [Info] Compiling OpenCL Kernel with 256 bins...\n",
      "[LightGBM] [Info] GPU programs have been built\n",
      "[LightGBM] [Info] Size of histogram bin entry: 8\n",
      "[LightGBM] [Info] 30 dense feature groups (0.03 MB) transferred to GPU in 0.005235 secs. 0 sparse feature groups\n",
      "[LightGBM] [Info] Size of histogram bin entry: 8\n",
      "[LightGBM] [Info] 30 dense feature groups (0.02 MB) transferred to GPU in 0.004441 secs. 0 sparse feature groups\n",
      "threshold: 0.6722792479526677\n",
      "AUC-ROC: 0.9955755502676978\n",
      "Accuracy: 0.9441056910569106\n",
      "Precision: 0.9959257506610887\n",
      "Confusion Matrix:\n",
      "[[491   1]\n",
      " [ 54 438]]\n",
      "Recall: 0.8902439024390244\n",
      "F1 Score: 0.9409237379162191\n",
      "Updating target policy...\n",
      "Epoch 188/300\n",
      "[LightGBM] [Info] Number of positive: 442, number of negative: 540\n",
      "[LightGBM] [Info] This is the GPU trainer!!\n",
      "[LightGBM] [Info] Total Bins 7650\n",
      "[LightGBM] [Info] Number of data points in the train set: 982, number of used features: 30\n"
     ]
    },
    {
     "name": "stderr",
     "output_type": "stream",
     "text": [
      "c:\\Users\\FH-Deg\\.conda\\envs\\tf_c_gpu\\lib\\site-packages\\lightgbm\\basic.py:1192: UserWarning: Converting data to scipy sparse matrix.\n",
      "  _log_warning('Converting data to scipy sparse matrix.')\n"
     ]
    },
    {
     "name": "stdout",
     "output_type": "stream",
     "text": [
      "[LightGBM] [Info] Using GPU Device: Quadro RTX 4000, Vendor: NVIDIA Corporation\n",
      "[LightGBM] [Info] Compiling OpenCL Kernel with 256 bins...\n",
      "[LightGBM] [Info] GPU programs have been built\n",
      "[LightGBM] [Info] Size of histogram bin entry: 8\n",
      "[LightGBM] [Info] 30 dense feature groups (0.03 MB) transferred to GPU in 0.039361 secs. 0 sparse feature groups\n",
      "[LightGBM] [Info] Size of histogram bin entry: 8\n",
      "[LightGBM] [Info] 30 dense feature groups (0.02 MB) transferred to GPU in 0.023431 secs. 0 sparse feature groups\n",
      "threshold: 0.6726193842170232\n",
      "AUC-ROC: 0.9955879436843149\n",
      "Accuracy: 0.9441056910569106\n",
      "Precision: 0.9959376350739574\n",
      "Confusion Matrix:\n",
      "[[491   1]\n",
      " [ 54 438]]\n",
      "Recall: 0.8902439024390244\n",
      "F1 Score: 0.9409237379162191\n",
      "Epoch 189/300\n",
      "[LightGBM] [Info] Number of positive: 442, number of negative: 540\n",
      "[LightGBM] [Info] This is the GPU trainer!!\n",
      "[LightGBM] [Info] Total Bins 7650\n",
      "[LightGBM] [Info] Number of data points in the train set: 982, number of used features: 30\n",
      "[LightGBM] [Info] Using GPU Device: Quadro RTX 4000, Vendor: NVIDIA Corporation\n",
      "[LightGBM] [Info] Compiling OpenCL Kernel with 256 bins...\n",
      "[LightGBM] [Info] GPU programs have been built\n",
      "[LightGBM] [Info] Size of histogram bin entry: 8\n"
     ]
    },
    {
     "name": "stderr",
     "output_type": "stream",
     "text": [
      "c:\\Users\\FH-Deg\\.conda\\envs\\tf_c_gpu\\lib\\site-packages\\lightgbm\\basic.py:1192: UserWarning: Converting data to scipy sparse matrix.\n",
      "  _log_warning('Converting data to scipy sparse matrix.')\n"
     ]
    },
    {
     "name": "stdout",
     "output_type": "stream",
     "text": [
      "[LightGBM] [Info] 30 dense feature groups (0.03 MB) transferred to GPU in 0.004570 secs. 0 sparse feature groups\n",
      "[LightGBM] [Info] Size of histogram bin entry: 8\n",
      "[LightGBM] [Info] 30 dense feature groups (0.02 MB) transferred to GPU in 0.004319 secs. 0 sparse feature groups\n",
      "threshold: 0.6728976849179593\n",
      "AUC-ROC: 0.9956333862119109\n",
      "Accuracy: 0.9451219512195121\n",
      "Precision: 0.9959786752535345\n",
      "Confusion Matrix:\n",
      "[[492   0]\n",
      " [ 54 438]]\n",
      "Recall: 0.8902439024390244\n",
      "F1 Score: 0.9419354838709677\n",
      "Epoch 190/300\n",
      "[LightGBM] [Info] Number of positive: 442, number of negative: 540\n",
      "[LightGBM] [Info] This is the GPU trainer!!\n",
      "[LightGBM] [Info] Total Bins 7650\n",
      "[LightGBM] [Info] Number of data points in the train set: 982, number of used features: 30\n"
     ]
    },
    {
     "name": "stderr",
     "output_type": "stream",
     "text": [
      "c:\\Users\\FH-Deg\\.conda\\envs\\tf_c_gpu\\lib\\site-packages\\lightgbm\\basic.py:1192: UserWarning: Converting data to scipy sparse matrix.\n",
      "  _log_warning('Converting data to scipy sparse matrix.')\n"
     ]
    },
    {
     "name": "stdout",
     "output_type": "stream",
     "text": [
      "[LightGBM] [Info] Using GPU Device: Quadro RTX 4000, Vendor: NVIDIA Corporation\n",
      "[LightGBM] [Info] Compiling OpenCL Kernel with 256 bins...\n",
      "[LightGBM] [Info] GPU programs have been built\n",
      "[LightGBM] [Info] Size of histogram bin entry: 8\n",
      "[LightGBM] [Info] 30 dense feature groups (0.03 MB) transferred to GPU in 0.024873 secs. 0 sparse feature groups\n",
      "[LightGBM] [Info] Size of histogram bin entry: 8\n",
      "[LightGBM] [Info] 30 dense feature groups (0.02 MB) transferred to GPU in 0.069816 secs. 0 sparse feature groups\n",
      "threshold: 0.6733298624910872\n",
      "AUC-ROC: 0.9956499107674004\n",
      "Accuracy: 0.9451219512195121\n",
      "Precision: 0.9959939414310007\n",
      "Confusion Matrix:\n",
      "[[492   0]\n",
      " [ 54 438]]\n",
      "Recall: 0.8902439024390244\n",
      "F1 Score: 0.9419354838709677\n",
      "Updating target policy...\n",
      "Epoch 191/300\n",
      "[LightGBM] [Info] Number of positive: 442, number of negative: 540\n",
      "[LightGBM] [Info] This is the GPU trainer!!\n",
      "[LightGBM] [Info] Total Bins 7650\n",
      "[LightGBM] [Info] Number of data points in the train set: 982, number of used features: 30\n",
      "[LightGBM] [Info] Using GPU Device: Quadro RTX 4000, Vendor: NVIDIA Corporation\n",
      "[LightGBM] [Info] Compiling OpenCL Kernel with 256 bins...\n"
     ]
    },
    {
     "name": "stderr",
     "output_type": "stream",
     "text": [
      "c:\\Users\\FH-Deg\\.conda\\envs\\tf_c_gpu\\lib\\site-packages\\lightgbm\\basic.py:1192: UserWarning: Converting data to scipy sparse matrix.\n",
      "  _log_warning('Converting data to scipy sparse matrix.')\n"
     ]
    },
    {
     "name": "stdout",
     "output_type": "stream",
     "text": [
      "[LightGBM] [Info] GPU programs have been built\n",
      "[LightGBM] [Info] Size of histogram bin entry: 8\n",
      "[LightGBM] [Info] 30 dense feature groups (0.03 MB) transferred to GPU in 0.004870 secs. 0 sparse feature groups\n",
      "[LightGBM] [Info] Size of histogram bin entry: 8\n",
      "[LightGBM] [Info] 30 dense feature groups (0.02 MB) transferred to GPU in 0.004410 secs. 0 sparse feature groups\n",
      "threshold: 0.6737399119772791\n",
      "AUC-ROC: 0.9956746976006345\n",
      "Accuracy: 0.9451219512195121\n",
      "Precision: 0.9960185691851132\n",
      "Confusion Matrix:\n",
      "[[492   0]\n",
      " [ 54 438]]\n",
      "Recall: 0.8902439024390244\n",
      "F1 Score: 0.9419354838709677\n",
      "Epoch 192/300\n",
      "[LightGBM] [Info] Number of positive: 442, number of negative: 540\n",
      "[LightGBM] [Info] This is the GPU trainer!!\n",
      "[LightGBM] [Info] Total Bins 7650\n",
      "[LightGBM] [Info] Number of data points in the train set: 982, number of used features: 30\n"
     ]
    },
    {
     "name": "stderr",
     "output_type": "stream",
     "text": [
      "c:\\Users\\FH-Deg\\.conda\\envs\\tf_c_gpu\\lib\\site-packages\\lightgbm\\basic.py:1192: UserWarning: Converting data to scipy sparse matrix.\n",
      "  _log_warning('Converting data to scipy sparse matrix.')\n"
     ]
    },
    {
     "name": "stdout",
     "output_type": "stream",
     "text": [
      "[LightGBM] [Info] Using GPU Device: Quadro RTX 4000, Vendor: NVIDIA Corporation\n",
      "[LightGBM] [Info] Compiling OpenCL Kernel with 256 bins...\n",
      "[LightGBM] [Info] GPU programs have been built\n",
      "[LightGBM] [Info] Size of histogram bin entry: 8\n",
      "[LightGBM] [Info] 30 dense feature groups (0.03 MB) transferred to GPU in 0.048787 secs. 0 sparse feature groups\n",
      "[LightGBM] [Info] Size of histogram bin entry: 8\n",
      "[LightGBM] [Info] 30 dense feature groups (0.02 MB) transferred to GPU in 0.004293 secs. 0 sparse feature groups\n",
      "threshold: 0.6741549891215525\n",
      "AUC-ROC: 0.99573666468372\n",
      "Accuracy: 0.9451219512195121\n",
      "Precision: 0.9960755691841673\n",
      "Confusion Matrix:\n",
      "[[492   0]\n",
      " [ 54 438]]\n",
      "Recall: 0.8902439024390244\n",
      "F1 Score: 0.9419354838709677\n",
      "Epoch 193/300\n",
      "[LightGBM] [Info] Number of positive: 442, number of negative: 540\n",
      "[LightGBM] [Info] This is the GPU trainer!!\n",
      "[LightGBM] [Info] Total Bins 7650\n",
      "[LightGBM] [Info] Number of data points in the train set: 982, number of used features: 30\n",
      "[LightGBM] [Info] Using GPU Device: Quadro RTX 4000, Vendor: NVIDIA Corporation\n",
      "[LightGBM] [Info] Compiling OpenCL Kernel with 256 bins...\n"
     ]
    },
    {
     "name": "stderr",
     "output_type": "stream",
     "text": [
      "c:\\Users\\FH-Deg\\.conda\\envs\\tf_c_gpu\\lib\\site-packages\\lightgbm\\basic.py:1192: UserWarning: Converting data to scipy sparse matrix.\n",
      "  _log_warning('Converting data to scipy sparse matrix.')\n"
     ]
    },
    {
     "name": "stdout",
     "output_type": "stream",
     "text": [
      "[LightGBM] [Info] GPU programs have been built\n",
      "[LightGBM] [Info] Size of histogram bin entry: 8\n",
      "[LightGBM] [Info] 30 dense feature groups (0.03 MB) transferred to GPU in 0.030272 secs. 0 sparse feature groups\n",
      "[LightGBM] [Info] Size of histogram bin entry: 8\n",
      "[LightGBM] [Info] 30 dense feature groups (0.02 MB) transferred to GPU in 0.026789 secs. 0 sparse feature groups\n",
      "threshold: 0.6745094439405686\n",
      "AUC-ROC: 0.9957325335448477\n",
      "Accuracy: 0.9451219512195121\n",
      "Precision: 0.9960721585695003\n",
      "Confusion Matrix:\n",
      "[[492   0]\n",
      " [ 54 438]]\n",
      "Recall: 0.8902439024390244\n",
      "F1 Score: 0.9419354838709677\n",
      "Updating target policy...\n",
      "Epoch 194/300\n",
      "[LightGBM] [Info] Number of positive: 442, number of negative: 540\n",
      "[LightGBM] [Info] This is the GPU trainer!!\n",
      "[LightGBM] [Info] Total Bins 7650\n",
      "[LightGBM] [Info] Number of data points in the train set: 982, number of used features: 30\n"
     ]
    },
    {
     "name": "stderr",
     "output_type": "stream",
     "text": [
      "c:\\Users\\FH-Deg\\.conda\\envs\\tf_c_gpu\\lib\\site-packages\\lightgbm\\basic.py:1192: UserWarning: Converting data to scipy sparse matrix.\n",
      "  _log_warning('Converting data to scipy sparse matrix.')\n"
     ]
    },
    {
     "name": "stdout",
     "output_type": "stream",
     "text": [
      "[LightGBM] [Info] Using GPU Device: Quadro RTX 4000, Vendor: NVIDIA Corporation\n",
      "[LightGBM] [Info] Compiling OpenCL Kernel with 256 bins...\n",
      "[LightGBM] [Info] GPU programs have been built\n",
      "[LightGBM] [Info] Size of histogram bin entry: 8\n",
      "[LightGBM] [Info] 30 dense feature groups (0.03 MB) transferred to GPU in 0.010494 secs. 0 sparse feature groups\n",
      "[LightGBM] [Info] Size of histogram bin entry: 8\n",
      "[LightGBM] [Info] 30 dense feature groups (0.02 MB) transferred to GPU in 0.004485 secs. 0 sparse feature groups\n",
      "threshold: 0.6732130527784621\n",
      "AUC-ROC: 0.9957201401282305\n",
      "Accuracy: 0.9451219512195121\n",
      "Precision: 0.9960643136790996\n",
      "Confusion Matrix:\n",
      "[[492   0]\n",
      " [ 54 438]]\n",
      "Recall: 0.8902439024390244\n",
      "F1 Score: 0.9419354838709677\n",
      "Epoch 195/300\n",
      "[LightGBM] [Info] Number of positive: 442, number of negative: 540\n",
      "[LightGBM] [Info] This is the GPU trainer!!\n",
      "[LightGBM] [Info] Total Bins 7650\n",
      "[LightGBM] [Info] Number of data points in the train set: 982, number of used features: 30\n",
      "[LightGBM] [Info] Using GPU Device: Quadro RTX 4000, Vendor: NVIDIA Corporation\n",
      "[LightGBM] [Info] Compiling OpenCL Kernel with 256 bins...\n"
     ]
    },
    {
     "name": "stderr",
     "output_type": "stream",
     "text": [
      "c:\\Users\\FH-Deg\\.conda\\envs\\tf_c_gpu\\lib\\site-packages\\lightgbm\\basic.py:1192: UserWarning: Converting data to scipy sparse matrix.\n",
      "  _log_warning('Converting data to scipy sparse matrix.')\n"
     ]
    },
    {
     "name": "stdout",
     "output_type": "stream",
     "text": [
      "[LightGBM] [Info] GPU programs have been built\n",
      "[LightGBM] [Info] Size of histogram bin entry: 8\n",
      "[LightGBM] [Info] 30 dense feature groups (0.03 MB) transferred to GPU in 0.004337 secs. 0 sparse feature groups\n",
      "[LightGBM] [Info] Size of histogram bin entry: 8\n",
      "[LightGBM] [Info] 30 dense feature groups (0.02 MB) transferred to GPU in 0.066329 secs. 0 sparse feature groups\n",
      "threshold: 0.6735912555462371\n",
      "AUC-ROC: 0.9957614515169542\n",
      "Accuracy: 0.9451219512195121\n",
      "Precision: 0.996102526957327\n",
      "Confusion Matrix:\n",
      "[[492   0]\n",
      " [ 54 438]]\n",
      "Recall: 0.8902439024390244\n",
      "F1 Score: 0.9419354838709677\n",
      "Epoch 196/300\n",
      "[LightGBM] [Info] Number of positive: 442, number of negative: 540\n",
      "[LightGBM] [Info] This is the GPU trainer!!\n",
      "[LightGBM] [Info] Total Bins 7650\n",
      "[LightGBM] [Info] Number of data points in the train set: 982, number of used features: 30\n"
     ]
    },
    {
     "name": "stderr",
     "output_type": "stream",
     "text": [
      "c:\\Users\\FH-Deg\\.conda\\envs\\tf_c_gpu\\lib\\site-packages\\lightgbm\\basic.py:1192: UserWarning: Converting data to scipy sparse matrix.\n",
      "  _log_warning('Converting data to scipy sparse matrix.')\n"
     ]
    },
    {
     "name": "stdout",
     "output_type": "stream",
     "text": [
      "[LightGBM] [Info] Using GPU Device: Quadro RTX 4000, Vendor: NVIDIA Corporation\n",
      "[LightGBM] [Info] Compiling OpenCL Kernel with 256 bins...\n",
      "[LightGBM] [Info] GPU programs have been built\n",
      "[LightGBM] [Info] Size of histogram bin entry: 8\n",
      "[LightGBM] [Info] 30 dense feature groups (0.03 MB) transferred to GPU in 0.005647 secs. 0 sparse feature groups\n",
      "[LightGBM] [Info] Size of histogram bin entry: 8\n",
      "[LightGBM] [Info] 30 dense feature groups (0.02 MB) transferred to GPU in 0.008081 secs. 0 sparse feature groups\n",
      "threshold: 0.673901153952981\n",
      "AUC-ROC: 0.9957862383501883\n",
      "Accuracy: 0.9451219512195121\n",
      "Precision: 0.9961234250642188\n",
      "Confusion Matrix:\n",
      "[[492   0]\n",
      " [ 54 438]]\n",
      "Recall: 0.8902439024390244\n",
      "F1 Score: 0.9419354838709677\n",
      "Updating target policy...\n",
      "Epoch 197/300\n",
      "[LightGBM] [Info] Number of positive: 442, number of negative: 540\n",
      "[LightGBM] [Info] This is the GPU trainer!!\n",
      "[LightGBM] [Info] Total Bins 7650\n",
      "[LightGBM] [Info] Number of data points in the train set: 982, number of used features: 30\n"
     ]
    },
    {
     "name": "stderr",
     "output_type": "stream",
     "text": [
      "c:\\Users\\FH-Deg\\.conda\\envs\\tf_c_gpu\\lib\\site-packages\\lightgbm\\basic.py:1192: UserWarning: Converting data to scipy sparse matrix.\n",
      "  _log_warning('Converting data to scipy sparse matrix.')\n"
     ]
    },
    {
     "name": "stdout",
     "output_type": "stream",
     "text": [
      "[LightGBM] [Info] Using GPU Device: Quadro RTX 4000, Vendor: NVIDIA Corporation\n",
      "[LightGBM] [Info] Compiling OpenCL Kernel with 256 bins...\n",
      "[LightGBM] [Info] GPU programs have been built\n",
      "[LightGBM] [Info] Size of histogram bin entry: 8\n",
      "[LightGBM] [Info] 30 dense feature groups (0.03 MB) transferred to GPU in 0.004364 secs. 0 sparse feature groups\n",
      "[LightGBM] [Info] Size of histogram bin entry: 8\n",
      "[LightGBM] [Info] 30 dense feature groups (0.02 MB) transferred to GPU in 0.004620 secs. 0 sparse feature groups\n",
      "threshold: 0.672589086456886\n",
      "AUC-ROC: 0.9957862383501884\n",
      "Accuracy: 0.9451219512195121\n",
      "Precision: 0.9961294371913576\n",
      "Confusion Matrix:\n",
      "[[492   0]\n",
      " [ 54 438]]\n",
      "Recall: 0.8902439024390244\n",
      "F1 Score: 0.9419354838709677\n",
      "Epoch 198/300\n",
      "[LightGBM] [Info] Number of positive: 442, number of negative: 540\n",
      "[LightGBM] [Info] This is the GPU trainer!!\n",
      "[LightGBM] [Info] Total Bins 7650\n",
      "[LightGBM] [Info] Number of data points in the train set: 982, number of used features: 30\n"
     ]
    },
    {
     "name": "stderr",
     "output_type": "stream",
     "text": [
      "c:\\Users\\FH-Deg\\.conda\\envs\\tf_c_gpu\\lib\\site-packages\\lightgbm\\basic.py:1192: UserWarning: Converting data to scipy sparse matrix.\n",
      "  _log_warning('Converting data to scipy sparse matrix.')\n"
     ]
    },
    {
     "name": "stdout",
     "output_type": "stream",
     "text": [
      "[LightGBM] [Info] Using GPU Device: Quadro RTX 4000, Vendor: NVIDIA Corporation\n",
      "[LightGBM] [Info] Compiling OpenCL Kernel with 256 bins...\n",
      "[LightGBM] [Info] GPU programs have been built\n",
      "[LightGBM] [Info] Size of histogram bin entry: 8\n",
      "[LightGBM] [Info] 30 dense feature groups (0.03 MB) transferred to GPU in 0.023765 secs. 0 sparse feature groups\n",
      "[LightGBM] [Info] Size of histogram bin entry: 8\n",
      "[LightGBM] [Info] 30 dense feature groups (0.02 MB) transferred to GPU in 0.004576 secs. 0 sparse feature groups\n",
      "threshold: 0.6720917841121995\n",
      "AUC-ROC: 0.9958110251834225\n",
      "Accuracy: 0.9451219512195121\n",
      "Precision: 0.9961580634327417\n",
      "Confusion Matrix:\n",
      "[[492   0]\n",
      " [ 54 438]]\n",
      "Recall: 0.8902439024390244\n",
      "F1 Score: 0.9419354838709677\n",
      "Epoch 199/300\n",
      "[LightGBM] [Info] Number of positive: 442, number of negative: 540\n",
      "[LightGBM] [Info] This is the GPU trainer!!\n",
      "[LightGBM] [Info] Total Bins 7650\n",
      "[LightGBM] [Info] Number of data points in the train set: 982, number of used features: 30\n"
     ]
    },
    {
     "name": "stderr",
     "output_type": "stream",
     "text": [
      "c:\\Users\\FH-Deg\\.conda\\envs\\tf_c_gpu\\lib\\site-packages\\lightgbm\\basic.py:1192: UserWarning: Converting data to scipy sparse matrix.\n",
      "  _log_warning('Converting data to scipy sparse matrix.')\n"
     ]
    },
    {
     "name": "stdout",
     "output_type": "stream",
     "text": [
      "[LightGBM] [Info] Using GPU Device: Quadro RTX 4000, Vendor: NVIDIA Corporation\n",
      "[LightGBM] [Info] Compiling OpenCL Kernel with 256 bins...\n",
      "[LightGBM] [Info] GPU programs have been built\n",
      "[LightGBM] [Info] Size of histogram bin entry: 8\n",
      "[LightGBM] [Info] 30 dense feature groups (0.03 MB) transferred to GPU in 0.025258 secs. 0 sparse feature groups\n",
      "[LightGBM] [Info] Size of histogram bin entry: 8\n",
      "[LightGBM] [Info] 30 dense feature groups (0.02 MB) transferred to GPU in 0.039036 secs. 0 sparse feature groups\n",
      "threshold: 0.6707165413493998\n",
      "AUC-ROC: 0.9958068940445501\n",
      "Accuracy: 0.9451219512195121\n",
      "Precision: 0.9961594666020839\n",
      "Confusion Matrix:\n",
      "[[492   0]\n",
      " [ 54 438]]\n",
      "Recall: 0.8902439024390244\n",
      "F1 Score: 0.9419354838709677\n",
      "Updating target policy...\n",
      "Epoch 200/300\n",
      "[LightGBM] [Info] Number of positive: 442, number of negative: 540\n",
      "[LightGBM] [Info] This is the GPU trainer!!\n",
      "[LightGBM] [Info] Total Bins 7650\n",
      "[LightGBM] [Info] Number of data points in the train set: 982, number of used features: 30\n"
     ]
    },
    {
     "name": "stderr",
     "output_type": "stream",
     "text": [
      "c:\\Users\\FH-Deg\\.conda\\envs\\tf_c_gpu\\lib\\site-packages\\lightgbm\\basic.py:1192: UserWarning: Converting data to scipy sparse matrix.\n",
      "  _log_warning('Converting data to scipy sparse matrix.')\n"
     ]
    },
    {
     "name": "stdout",
     "output_type": "stream",
     "text": [
      "[LightGBM] [Info] Using GPU Device: Quadro RTX 4000, Vendor: NVIDIA Corporation\n",
      "[LightGBM] [Info] Compiling OpenCL Kernel with 256 bins...\n",
      "[LightGBM] [Info] GPU programs have been built\n",
      "[LightGBM] [Info] Size of histogram bin entry: 8\n",
      "[LightGBM] [Info] 30 dense feature groups (0.03 MB) transferred to GPU in 0.004682 secs. 0 sparse feature groups\n",
      "[LightGBM] [Info] Size of histogram bin entry: 8\n",
      "[LightGBM] [Info] 30 dense feature groups (0.02 MB) transferred to GPU in 0.060803 secs. 0 sparse feature groups\n",
      "threshold: 0.671016026439513\n",
      "AUC-ROC: 0.9958316808777844\n",
      "Accuracy: 0.9441056910569106\n",
      "Precision: 0.9961815221348708\n",
      "Confusion Matrix:\n",
      "[[491   1]\n",
      " [ 54 438]]\n",
      "Recall: 0.8902439024390244\n",
      "F1 Score: 0.9409237379162191\n",
      "Epoch 201/300\n",
      "[LightGBM] [Info] Number of positive: 442, number of negative: 540\n",
      "[LightGBM] [Info] This is the GPU trainer!!\n",
      "[LightGBM] [Info] Total Bins 7650\n",
      "[LightGBM] [Info] Number of data points in the train set: 982, number of used features: 30\n"
     ]
    },
    {
     "name": "stderr",
     "output_type": "stream",
     "text": [
      "c:\\Users\\FH-Deg\\.conda\\envs\\tf_c_gpu\\lib\\site-packages\\lightgbm\\basic.py:1192: UserWarning: Converting data to scipy sparse matrix.\n",
      "  _log_warning('Converting data to scipy sparse matrix.')\n"
     ]
    },
    {
     "name": "stdout",
     "output_type": "stream",
     "text": [
      "[LightGBM] [Info] Using GPU Device: Quadro RTX 4000, Vendor: NVIDIA Corporation\n",
      "[LightGBM] [Info] Compiling OpenCL Kernel with 256 bins...\n",
      "[LightGBM] [Info] GPU programs have been built\n",
      "[LightGBM] [Info] Size of histogram bin entry: 8\n",
      "[LightGBM] [Info] 30 dense feature groups (0.03 MB) transferred to GPU in 0.009280 secs. 0 sparse feature groups\n",
      "[LightGBM] [Info] Size of histogram bin entry: 8\n",
      "[LightGBM] [Info] 30 dense feature groups (0.02 MB) transferred to GPU in 0.059902 secs. 0 sparse feature groups\n",
      "threshold: 0.6756306019189049\n",
      "AUC-ROC: 0.9958729922665079\n",
      "Accuracy: 0.9451219512195121\n",
      "Precision: 0.9962103489700037\n",
      "Confusion Matrix:\n",
      "[[492   0]\n",
      " [ 54 438]]\n",
      "Recall: 0.8902439024390244\n",
      "F1 Score: 0.9419354838709677\n",
      "Epoch 202/300\n",
      "[LightGBM] [Info] Number of positive: 442, number of negative: 540\n",
      "[LightGBM] [Info] This is the GPU trainer!!\n",
      "[LightGBM] [Info] Total Bins 7650\n",
      "[LightGBM] [Info] Number of data points in the train set: 982, number of used features: 30\n"
     ]
    },
    {
     "name": "stderr",
     "output_type": "stream",
     "text": [
      "c:\\Users\\FH-Deg\\.conda\\envs\\tf_c_gpu\\lib\\site-packages\\lightgbm\\basic.py:1192: UserWarning: Converting data to scipy sparse matrix.\n",
      "  _log_warning('Converting data to scipy sparse matrix.')\n"
     ]
    },
    {
     "name": "stdout",
     "output_type": "stream",
     "text": [
      "[LightGBM] [Info] Using GPU Device: Quadro RTX 4000, Vendor: NVIDIA Corporation\n",
      "[LightGBM] [Info] Compiling OpenCL Kernel with 256 bins...\n",
      "[LightGBM] [Info] GPU programs have been built\n",
      "[LightGBM] [Info] Size of histogram bin entry: 8\n",
      "[LightGBM] [Info] 30 dense feature groups (0.03 MB) transferred to GPU in 0.004680 secs. 0 sparse feature groups\n",
      "[LightGBM] [Info] Size of histogram bin entry: 8\n",
      "[LightGBM] [Info] 30 dense feature groups (0.02 MB) transferred to GPU in 0.003900 secs. 0 sparse feature groups\n",
      "threshold: 0.6759903346075549\n",
      "AUC-ROC: 0.995885385683125\n",
      "Accuracy: 0.9451219512195121\n",
      "Precision: 0.9962255489129994\n",
      "Confusion Matrix:\n",
      "[[492   0]\n",
      " [ 54 438]]\n",
      "Recall: 0.8902439024390244\n",
      "F1 Score: 0.9419354838709677\n",
      "Updating target policy...\n",
      "Epoch 203/300\n",
      "[LightGBM] [Info] Number of positive: 442, number of negative: 540\n",
      "[LightGBM] [Info] This is the GPU trainer!!\n",
      "[LightGBM] [Info] Total Bins 7650\n",
      "[LightGBM] [Info] Number of data points in the train set: 982, number of used features: 30\n",
      "[LightGBM] [Info] Using GPU Device: Quadro RTX 4000, Vendor: NVIDIA Corporation\n",
      "[LightGBM] [Info] Compiling OpenCL Kernel with 256 bins...\n"
     ]
    },
    {
     "name": "stderr",
     "output_type": "stream",
     "text": [
      "c:\\Users\\FH-Deg\\.conda\\envs\\tf_c_gpu\\lib\\site-packages\\lightgbm\\basic.py:1192: UserWarning: Converting data to scipy sparse matrix.\n",
      "  _log_warning('Converting data to scipy sparse matrix.')\n"
     ]
    },
    {
     "name": "stdout",
     "output_type": "stream",
     "text": [
      "[LightGBM] [Info] GPU programs have been built\n",
      "[LightGBM] [Info] Size of histogram bin entry: 8\n",
      "[LightGBM] [Info] 30 dense feature groups (0.03 MB) transferred to GPU in 0.016939 secs. 0 sparse feature groups\n",
      "[LightGBM] [Info] Size of histogram bin entry: 8\n",
      "[LightGBM] [Info] 30 dense feature groups (0.02 MB) transferred to GPU in 0.027448 secs. 0 sparse feature groups\n",
      "threshold: 0.6746719713587646\n",
      "AUC-ROC: 0.9958812545442528\n",
      "Accuracy: 0.9451219512195121\n",
      "Precision: 0.9962250614856266\n",
      "Confusion Matrix:\n",
      "[[492   0]\n",
      " [ 54 438]]\n",
      "Recall: 0.8902439024390244\n",
      "F1 Score: 0.9419354838709677\n",
      "Epoch 204/300\n",
      "[LightGBM] [Info] Number of positive: 442, number of negative: 540\n",
      "[LightGBM] [Info] This is the GPU trainer!!\n",
      "[LightGBM] [Info] Total Bins 7650\n",
      "[LightGBM] [Info] Number of data points in the train set: 982, number of used features: 30\n"
     ]
    },
    {
     "name": "stderr",
     "output_type": "stream",
     "text": [
      "c:\\Users\\FH-Deg\\.conda\\envs\\tf_c_gpu\\lib\\site-packages\\lightgbm\\basic.py:1192: UserWarning: Converting data to scipy sparse matrix.\n",
      "  _log_warning('Converting data to scipy sparse matrix.')\n"
     ]
    },
    {
     "name": "stdout",
     "output_type": "stream",
     "text": [
      "[LightGBM] [Info] Using GPU Device: Quadro RTX 4000, Vendor: NVIDIA Corporation\n",
      "[LightGBM] [Info] Compiling OpenCL Kernel with 256 bins...\n",
      "[LightGBM] [Info] GPU programs have been built\n",
      "[LightGBM] [Info] Size of histogram bin entry: 8\n",
      "[LightGBM] [Info] 30 dense feature groups (0.03 MB) transferred to GPU in 0.005871 secs. 0 sparse feature groups\n",
      "[LightGBM] [Info] Size of histogram bin entry: 8\n",
      "[LightGBM] [Info] 30 dense feature groups (0.02 MB) transferred to GPU in 0.049986 secs. 0 sparse feature groups\n",
      "threshold: 0.6741084888312269\n",
      "AUC-ROC: 0.9959019102386145\n",
      "Accuracy: 0.9451219512195121\n",
      "Precision: 0.9962466601366888\n",
      "Confusion Matrix:\n",
      "[[492   0]\n",
      " [ 54 438]]\n",
      "Recall: 0.8902439024390244\n",
      "F1 Score: 0.9419354838709677\n",
      "Epoch 205/300\n",
      "[LightGBM] [Info] Number of positive: 442, number of negative: 540\n",
      "[LightGBM] [Info] This is the GPU trainer!!\n",
      "[LightGBM] [Info] Total Bins 7650\n",
      "[LightGBM] [Info] Number of data points in the train set: 982, number of used features: 30\n"
     ]
    },
    {
     "name": "stderr",
     "output_type": "stream",
     "text": [
      "c:\\Users\\FH-Deg\\.conda\\envs\\tf_c_gpu\\lib\\site-packages\\lightgbm\\basic.py:1192: UserWarning: Converting data to scipy sparse matrix.\n",
      "  _log_warning('Converting data to scipy sparse matrix.')\n"
     ]
    },
    {
     "name": "stdout",
     "output_type": "stream",
     "text": [
      "[LightGBM] [Info] Using GPU Device: Quadro RTX 4000, Vendor: NVIDIA Corporation\n",
      "[LightGBM] [Info] Compiling OpenCL Kernel with 256 bins...\n",
      "[LightGBM] [Info] GPU programs have been built\n",
      "[LightGBM] [Info] Size of histogram bin entry: 8\n",
      "[LightGBM] [Info] 30 dense feature groups (0.03 MB) transferred to GPU in 0.004452 secs. 0 sparse feature groups\n",
      "[LightGBM] [Info] Size of histogram bin entry: 8\n",
      "[LightGBM] [Info] 30 dense feature groups (0.02 MB) transferred to GPU in 0.004193 secs. 0 sparse feature groups\n",
      "threshold: 0.6744947447028421\n",
      "AUC-ROC: 0.9959349593495934\n",
      "Accuracy: 0.9451219512195121\n",
      "Precision: 0.9962791368041832\n",
      "Confusion Matrix:\n",
      "[[492   0]\n",
      " [ 54 438]]\n",
      "Recall: 0.8902439024390244\n",
      "F1 Score: 0.9419354838709677\n",
      "Updating target policy...\n",
      "Epoch 206/300\n",
      "[LightGBM] [Info] Number of positive: 442, number of negative: 540\n",
      "[LightGBM] [Info] This is the GPU trainer!!\n",
      "[LightGBM] [Info] Total Bins 7650\n",
      "[LightGBM] [Info] Number of data points in the train set: 982, number of used features: 30\n"
     ]
    },
    {
     "name": "stderr",
     "output_type": "stream",
     "text": [
      "c:\\Users\\FH-Deg\\.conda\\envs\\tf_c_gpu\\lib\\site-packages\\lightgbm\\basic.py:1192: UserWarning: Converting data to scipy sparse matrix.\n",
      "  _log_warning('Converting data to scipy sparse matrix.')\n"
     ]
    },
    {
     "name": "stdout",
     "output_type": "stream",
     "text": [
      "[LightGBM] [Info] Using GPU Device: Quadro RTX 4000, Vendor: NVIDIA Corporation\n",
      "[LightGBM] [Info] Compiling OpenCL Kernel with 256 bins...\n",
      "[LightGBM] [Info] GPU programs have been built\n",
      "[LightGBM] [Info] Size of histogram bin entry: 8\n",
      "[LightGBM] [Info] 30 dense feature groups (0.03 MB) transferred to GPU in 0.021941 secs. 0 sparse feature groups\n",
      "[LightGBM] [Info] Size of histogram bin entry: 8\n",
      "[LightGBM] [Info] 30 dense feature groups (0.02 MB) transferred to GPU in 0.004502 secs. 0 sparse feature groups\n",
      "threshold: 0.6747575880242948\n",
      "AUC-ROC: 0.9959514839050829\n",
      "Accuracy: 0.9451219512195121\n",
      "Precision: 0.9962951940574499\n",
      "Confusion Matrix:\n",
      "[[492   0]\n",
      " [ 54 438]]\n",
      "Recall: 0.8902439024390244\n",
      "F1 Score: 0.9419354838709677\n",
      "Epoch 207/300\n",
      "[LightGBM] [Info] Number of positive: 442, number of negative: 540\n",
      "[LightGBM] [Info] This is the GPU trainer!!\n",
      "[LightGBM] [Info] Total Bins 7650\n",
      "[LightGBM] [Info] Number of data points in the train set: 982, number of used features: 30\n",
      "[LightGBM] [Info] Using GPU Device: Quadro RTX 4000, Vendor: NVIDIA Corporation\n",
      "[LightGBM] [Info] Compiling OpenCL Kernel with 256 bins...\n"
     ]
    },
    {
     "name": "stderr",
     "output_type": "stream",
     "text": [
      "c:\\Users\\FH-Deg\\.conda\\envs\\tf_c_gpu\\lib\\site-packages\\lightgbm\\basic.py:1192: UserWarning: Converting data to scipy sparse matrix.\n",
      "  _log_warning('Converting data to scipy sparse matrix.')\n"
     ]
    },
    {
     "name": "stdout",
     "output_type": "stream",
     "text": [
      "[LightGBM] [Info] GPU programs have been built\n",
      "[LightGBM] [Info] Size of histogram bin entry: 8\n",
      "[LightGBM] [Info] 30 dense feature groups (0.03 MB) transferred to GPU in 0.043266 secs. 0 sparse feature groups\n",
      "[LightGBM] [Info] Size of histogram bin entry: 8\n",
      "[LightGBM] [Info] 30 dense feature groups (0.02 MB) transferred to GPU in 0.004569 secs. 0 sparse feature groups\n",
      "threshold: 0.6758124881179166\n",
      "AUC-ROC: 0.9959927952938066\n",
      "Accuracy: 0.9451219512195121\n",
      "Precision: 0.9963332082464732\n",
      "Confusion Matrix:\n",
      "[[492   0]\n",
      " [ 54 438]]\n",
      "Recall: 0.8902439024390244\n",
      "F1 Score: 0.9419354838709677\n",
      "Epoch 208/300\n",
      "[LightGBM] [Info] Number of positive: 442, number of negative: 540\n",
      "[LightGBM] [Info] This is the GPU trainer!!\n",
      "[LightGBM] [Info] Total Bins 7650\n",
      "[LightGBM] [Info] Number of data points in the train set: 982, number of used features: 30\n"
     ]
    },
    {
     "name": "stderr",
     "output_type": "stream",
     "text": [
      "c:\\Users\\FH-Deg\\.conda\\envs\\tf_c_gpu\\lib\\site-packages\\lightgbm\\basic.py:1192: UserWarning: Converting data to scipy sparse matrix.\n",
      "  _log_warning('Converting data to scipy sparse matrix.')\n"
     ]
    },
    {
     "name": "stdout",
     "output_type": "stream",
     "text": [
      "[LightGBM] [Info] Using GPU Device: Quadro RTX 4000, Vendor: NVIDIA Corporation\n",
      "[LightGBM] [Info] Compiling OpenCL Kernel with 256 bins...\n",
      "[LightGBM] [Info] GPU programs have been built\n",
      "[LightGBM] [Info] Size of histogram bin entry: 8\n",
      "[LightGBM] [Info] 30 dense feature groups (0.03 MB) transferred to GPU in 0.004252 secs. 0 sparse feature groups\n",
      "[LightGBM] [Info] Size of histogram bin entry: 8\n",
      "[LightGBM] [Info] 30 dense feature groups (0.02 MB) transferred to GPU in 0.004742 secs. 0 sparse feature groups\n",
      "threshold: 0.67619242923628\n",
      "AUC-ROC: 0.9960299755436579\n",
      "Accuracy: 0.9451219512195121\n",
      "Precision: 0.9963700950262915\n",
      "Confusion Matrix:\n",
      "[[492   0]\n",
      " [ 54 438]]\n",
      "Recall: 0.8902439024390244\n",
      "F1 Score: 0.9419354838709677\n",
      "Updating target policy...\n",
      "Epoch 209/300\n",
      "[LightGBM] [Info] Number of positive: 442, number of negative: 540\n",
      "[LightGBM] [Info] This is the GPU trainer!!\n",
      "[LightGBM] [Info] Total Bins 7650\n",
      "[LightGBM] [Info] Number of data points in the train set: 982, number of used features: 30\n",
      "[LightGBM] [Info] Using GPU Device: Quadro RTX 4000, Vendor: NVIDIA Corporation\n",
      "[LightGBM] [Info] Compiling OpenCL Kernel with 256 bins...\n"
     ]
    },
    {
     "name": "stderr",
     "output_type": "stream",
     "text": [
      "c:\\Users\\FH-Deg\\.conda\\envs\\tf_c_gpu\\lib\\site-packages\\lightgbm\\basic.py:1192: UserWarning: Converting data to scipy sparse matrix.\n",
      "  _log_warning('Converting data to scipy sparse matrix.')\n"
     ]
    },
    {
     "name": "stdout",
     "output_type": "stream",
     "text": [
      "[LightGBM] [Info] GPU programs have been built\n",
      "[LightGBM] [Info] Size of histogram bin entry: 8\n",
      "[LightGBM] [Info] 30 dense feature groups (0.03 MB) transferred to GPU in 0.004925 secs. 0 sparse feature groups\n",
      "[LightGBM] [Info] Size of histogram bin entry: 8\n",
      "[LightGBM] [Info] 30 dense feature groups (0.02 MB) transferred to GPU in 0.004164 secs. 0 sparse feature groups\n",
      "threshold: 0.6765302840691592\n",
      "AUC-ROC: 0.9960465000991473\n",
      "Accuracy: 0.9451219512195121\n",
      "Precision: 0.9963863526271954\n",
      "Confusion Matrix:\n",
      "[[492   0]\n",
      " [ 54 438]]\n",
      "Recall: 0.8902439024390244\n",
      "F1 Score: 0.9419354838709677\n",
      "Epoch 210/300\n",
      "[LightGBM] [Info] Number of positive: 442, number of negative: 540\n",
      "[LightGBM] [Info] This is the GPU trainer!!\n",
      "[LightGBM] [Info] Total Bins 7650\n",
      "[LightGBM] [Info] Number of data points in the train set: 982, number of used features: 30\n",
      "[LightGBM] [Info] Using GPU Device: Quadro RTX 4000, Vendor: NVIDIA Corporation\n",
      "[LightGBM] [Info] Compiling OpenCL Kernel with 256 bins...\n"
     ]
    },
    {
     "name": "stderr",
     "output_type": "stream",
     "text": [
      "c:\\Users\\FH-Deg\\.conda\\envs\\tf_c_gpu\\lib\\site-packages\\lightgbm\\basic.py:1192: UserWarning: Converting data to scipy sparse matrix.\n",
      "  _log_warning('Converting data to scipy sparse matrix.')\n"
     ]
    },
    {
     "name": "stdout",
     "output_type": "stream",
     "text": [
      "[LightGBM] [Info] GPU programs have been built\n",
      "[LightGBM] [Info] Size of histogram bin entry: 8\n",
      "[LightGBM] [Info] 30 dense feature groups (0.03 MB) transferred to GPU in 0.004973 secs. 0 sparse feature groups\n",
      "[LightGBM] [Info] Size of histogram bin entry: 8\n",
      "[LightGBM] [Info] 30 dense feature groups (0.02 MB) transferred to GPU in 0.004791 secs. 0 sparse feature groups\n",
      "threshold: 0.6768214123725932\n",
      "AUC-ROC: 0.9960547623768921\n",
      "Accuracy: 0.9451219512195121\n",
      "Precision: 0.9963946269174407\n",
      "Confusion Matrix:\n",
      "[[492   0]\n",
      " [ 54 438]]\n",
      "Recall: 0.8902439024390244\n",
      "F1 Score: 0.9419354838709677\n",
      "Epoch 211/300\n",
      "[LightGBM] [Info] Number of positive: 442, number of negative: 540\n",
      "[LightGBM] [Info] This is the GPU trainer!!\n",
      "[LightGBM] [Info] Total Bins 7650\n",
      "[LightGBM] [Info] Number of data points in the train set: 982, number of used features: 30\n"
     ]
    },
    {
     "name": "stderr",
     "output_type": "stream",
     "text": [
      "c:\\Users\\FH-Deg\\.conda\\envs\\tf_c_gpu\\lib\\site-packages\\lightgbm\\basic.py:1192: UserWarning: Converting data to scipy sparse matrix.\n",
      "  _log_warning('Converting data to scipy sparse matrix.')\n"
     ]
    },
    {
     "name": "stdout",
     "output_type": "stream",
     "text": [
      "[LightGBM] [Info] Using GPU Device: Quadro RTX 4000, Vendor: NVIDIA Corporation\n",
      "[LightGBM] [Info] Compiling OpenCL Kernel with 256 bins...\n",
      "[LightGBM] [Info] GPU programs have been built\n",
      "[LightGBM] [Info] Size of histogram bin entry: 8\n",
      "[LightGBM] [Info] 30 dense feature groups (0.03 MB) transferred to GPU in 0.004884 secs. 0 sparse feature groups\n",
      "[LightGBM] [Info] Size of histogram bin entry: 8\n",
      "[LightGBM] [Info] 30 dense feature groups (0.02 MB) transferred to GPU in 0.004421 secs. 0 sparse feature groups\n",
      "threshold: 0.6762386813527348\n",
      "AUC-ROC: 0.9960712869323815\n",
      "Accuracy: 0.9451219512195121\n",
      "Precision: 0.9964126065140211\n",
      "Confusion Matrix:\n",
      "[[492   0]\n",
      " [ 54 438]]\n",
      "Recall: 0.8902439024390244\n",
      "F1 Score: 0.9419354838709677\n",
      "Updating target policy...\n",
      "Epoch 212/300\n",
      "[LightGBM] [Info] Number of positive: 442, number of negative: 540\n",
      "[LightGBM] [Info] This is the GPU trainer!!\n",
      "[LightGBM] [Info] Total Bins 7650\n",
      "[LightGBM] [Info] Number of data points in the train set: 982, number of used features: 30\n"
     ]
    },
    {
     "name": "stderr",
     "output_type": "stream",
     "text": [
      "c:\\Users\\FH-Deg\\.conda\\envs\\tf_c_gpu\\lib\\site-packages\\lightgbm\\basic.py:1192: UserWarning: Converting data to scipy sparse matrix.\n",
      "  _log_warning('Converting data to scipy sparse matrix.')\n"
     ]
    },
    {
     "name": "stdout",
     "output_type": "stream",
     "text": [
      "[LightGBM] [Info] Using GPU Device: Quadro RTX 4000, Vendor: NVIDIA Corporation\n",
      "[LightGBM] [Info] Compiling OpenCL Kernel with 256 bins...\n",
      "[LightGBM] [Info] GPU programs have been built\n",
      "[LightGBM] [Info] Size of histogram bin entry: 8\n",
      "[LightGBM] [Info] 30 dense feature groups (0.03 MB) transferred to GPU in 0.004379 secs. 0 sparse feature groups\n",
      "[LightGBM] [Info] Size of histogram bin entry: 8\n",
      "[LightGBM] [Info] 30 dense feature groups (0.02 MB) transferred to GPU in 0.004584 secs. 0 sparse feature groups\n",
      "threshold: 0.6739224062198713\n",
      "AUC-ROC: 0.9960795492101262\n",
      "Accuracy: 0.9471544715447154\n",
      "Precision: 0.9964238821294608\n",
      "Confusion Matrix:\n",
      "[[492   0]\n",
      " [ 52 440]]\n",
      "Recall: 0.8943089430894309\n",
      "F1 Score: 0.944206008583691\n",
      "Epoch 213/300\n",
      "[LightGBM] [Info] Number of positive: 442, number of negative: 540\n",
      "[LightGBM] [Info] This is the GPU trainer!!\n",
      "[LightGBM] [Info] Total Bins 7650\n",
      "[LightGBM] [Info] Number of data points in the train set: 982, number of used features: 30\n",
      "[LightGBM] [Info] Using GPU Device: Quadro RTX 4000, Vendor: NVIDIA Corporation\n",
      "[LightGBM] [Info] Compiling OpenCL Kernel with 256 bins...\n"
     ]
    },
    {
     "name": "stderr",
     "output_type": "stream",
     "text": [
      "c:\\Users\\FH-Deg\\.conda\\envs\\tf_c_gpu\\lib\\site-packages\\lightgbm\\basic.py:1192: UserWarning: Converting data to scipy sparse matrix.\n",
      "  _log_warning('Converting data to scipy sparse matrix.')\n"
     ]
    },
    {
     "name": "stdout",
     "output_type": "stream",
     "text": [
      "[LightGBM] [Info] GPU programs have been built\n",
      "[LightGBM] [Info] Size of histogram bin entry: 8\n",
      "[LightGBM] [Info] 30 dense feature groups (0.03 MB) transferred to GPU in 0.051030 secs. 0 sparse feature groups\n",
      "[LightGBM] [Info] Size of histogram bin entry: 8\n",
      "[LightGBM] [Info] 30 dense feature groups (0.02 MB) transferred to GPU in 0.004734 secs. 0 sparse feature groups\n",
      "threshold: 0.6733245684135434\n",
      "AUC-ROC: 0.9960878114878711\n",
      "Accuracy: 0.9471544715447154\n",
      "Precision: 0.9964343286489327\n",
      "Confusion Matrix:\n",
      "[[492   0]\n",
      " [ 52 440]]\n",
      "Recall: 0.8943089430894309\n",
      "F1 Score: 0.944206008583691\n",
      "Epoch 214/300\n",
      "[LightGBM] [Info] Number of positive: 442, number of negative: 540\n",
      "[LightGBM] [Info] This is the GPU trainer!!\n",
      "[LightGBM] [Info] Total Bins 7650\n",
      "[LightGBM] [Info] Number of data points in the train set: 982, number of used features: 30\n"
     ]
    },
    {
     "name": "stderr",
     "output_type": "stream",
     "text": [
      "c:\\Users\\FH-Deg\\.conda\\envs\\tf_c_gpu\\lib\\site-packages\\lightgbm\\basic.py:1192: UserWarning: Converting data to scipy sparse matrix.\n",
      "  _log_warning('Converting data to scipy sparse matrix.')\n"
     ]
    },
    {
     "name": "stdout",
     "output_type": "stream",
     "text": [
      "[LightGBM] [Info] Using GPU Device: Quadro RTX 4000, Vendor: NVIDIA Corporation\n",
      "[LightGBM] [Info] Compiling OpenCL Kernel with 256 bins...\n",
      "[LightGBM] [Info] GPU programs have been built\n",
      "[LightGBM] [Info] Size of histogram bin entry: 8\n",
      "[LightGBM] [Info] 30 dense feature groups (0.03 MB) transferred to GPU in 0.021561 secs. 0 sparse feature groups\n",
      "[LightGBM] [Info] Size of histogram bin entry: 8\n",
      "[LightGBM] [Info] 30 dense feature groups (0.02 MB) transferred to GPU in 0.004902 secs. 0 sparse feature groups\n",
      "threshold: 0.6736397937491296\n",
      "AUC-ROC: 0.9960836803489986\n",
      "Accuracy: 0.9471544715447154\n",
      "Precision: 0.996432336860344\n",
      "Confusion Matrix:\n",
      "[[492   0]\n",
      " [ 52 440]]\n",
      "Recall: 0.8943089430894309\n",
      "F1 Score: 0.944206008583691\n",
      "Updating target policy...\n",
      "Epoch 215/300\n",
      "[LightGBM] [Info] Number of positive: 442, number of negative: 540\n",
      "[LightGBM] [Info] This is the GPU trainer!!\n",
      "[LightGBM] [Info] Total Bins 7650\n",
      "[LightGBM] [Info] Number of data points in the train set: 982, number of used features: 30\n"
     ]
    },
    {
     "name": "stderr",
     "output_type": "stream",
     "text": [
      "c:\\Users\\FH-Deg\\.conda\\envs\\tf_c_gpu\\lib\\site-packages\\lightgbm\\basic.py:1192: UserWarning: Converting data to scipy sparse matrix.\n",
      "  _log_warning('Converting data to scipy sparse matrix.')\n"
     ]
    },
    {
     "name": "stdout",
     "output_type": "stream",
     "text": [
      "[LightGBM] [Info] Using GPU Device: Quadro RTX 4000, Vendor: NVIDIA Corporation\n",
      "[LightGBM] [Info] Compiling OpenCL Kernel with 256 bins...\n",
      "[LightGBM] [Info] GPU programs have been built\n",
      "[LightGBM] [Info] Size of histogram bin entry: 8\n",
      "[LightGBM] [Info] 30 dense feature groups (0.03 MB) transferred to GPU in 0.007900 secs. 0 sparse feature groups\n",
      "[LightGBM] [Info] Size of histogram bin entry: 8\n",
      "[LightGBM] [Info] 30 dense feature groups (0.02 MB) transferred to GPU in 0.004275 secs. 0 sparse feature groups\n",
      "threshold: 0.6730437975729814\n",
      "AUC-ROC: 0.9960960737656157\n",
      "Accuracy: 0.9471544715447154\n",
      "Precision: 0.9964453749499358\n",
      "Confusion Matrix:\n",
      "[[492   0]\n",
      " [ 52 440]]\n",
      "Recall: 0.8943089430894309\n",
      "F1 Score: 0.944206008583691\n",
      "Epoch 216/300\n",
      "[LightGBM] [Info] Number of positive: 442, number of negative: 540\n",
      "[LightGBM] [Info] This is the GPU trainer!!\n",
      "[LightGBM] [Info] Total Bins 7650\n",
      "[LightGBM] [Info] Number of data points in the train set: 982, number of used features: 30\n",
      "[LightGBM] [Info] Using GPU Device: Quadro RTX 4000, Vendor: NVIDIA Corporation\n",
      "[LightGBM] [Info] Compiling OpenCL Kernel with 256 bins...\n"
     ]
    },
    {
     "name": "stderr",
     "output_type": "stream",
     "text": [
      "c:\\Users\\FH-Deg\\.conda\\envs\\tf_c_gpu\\lib\\site-packages\\lightgbm\\basic.py:1192: UserWarning: Converting data to scipy sparse matrix.\n",
      "  _log_warning('Converting data to scipy sparse matrix.')\n"
     ]
    },
    {
     "name": "stdout",
     "output_type": "stream",
     "text": [
      "[LightGBM] [Info] GPU programs have been built\n",
      "[LightGBM] [Info] Size of histogram bin entry: 8\n",
      "[LightGBM] [Info] 30 dense feature groups (0.03 MB) transferred to GPU in 0.036913 secs. 0 sparse feature groups\n",
      "[LightGBM] [Info] Size of histogram bin entry: 8\n",
      "[LightGBM] [Info] 30 dense feature groups (0.02 MB) transferred to GPU in 0.004515 secs. 0 sparse feature groups\n",
      "threshold: 0.6724804987655794\n",
      "AUC-ROC: 0.9961043360433603\n",
      "Accuracy: 0.948170731707317\n",
      "Precision: 0.9964552346857716\n",
      "Confusion Matrix:\n",
      "[[492   0]\n",
      " [ 51 441]]\n",
      "Recall: 0.8963414634146342\n",
      "F1 Score: 0.9453376205787781\n",
      "Epoch 217/300\n",
      "[LightGBM] [Info] Number of positive: 442, number of negative: 540\n",
      "[LightGBM] [Info] This is the GPU trainer!!\n",
      "[LightGBM] [Info] Total Bins 7650\n",
      "[LightGBM] [Info] Number of data points in the train set: 982, number of used features: 30\n",
      "[LightGBM] [Info] Using GPU Device: Quadro RTX 4000, Vendor: NVIDIA Corporation\n",
      "[LightGBM] [Info] Compiling OpenCL Kernel with 256 bins...\n"
     ]
    },
    {
     "name": "stderr",
     "output_type": "stream",
     "text": [
      "c:\\Users\\FH-Deg\\.conda\\envs\\tf_c_gpu\\lib\\site-packages\\lightgbm\\basic.py:1192: UserWarning: Converting data to scipy sparse matrix.\n",
      "  _log_warning('Converting data to scipy sparse matrix.')\n"
     ]
    },
    {
     "name": "stdout",
     "output_type": "stream",
     "text": [
      "[LightGBM] [Info] GPU programs have been built\n",
      "[LightGBM] [Info] Size of histogram bin entry: 8\n",
      "[LightGBM] [Info] 30 dense feature groups (0.03 MB) transferred to GPU in 0.026163 secs. 0 sparse feature groups\n",
      "[LightGBM] [Info] Size of histogram bin entry: 8\n",
      "[LightGBM] [Info] 30 dense feature groups (0.02 MB) transferred to GPU in 0.004359 secs. 0 sparse feature groups\n",
      "threshold: 0.6762748540966715\n",
      "AUC-ROC: 0.9961415162932117\n",
      "Accuracy: 0.9471544715447154\n",
      "Precision: 0.9964817608291957\n",
      "Confusion Matrix:\n",
      "[[492   0]\n",
      " [ 52 440]]\n",
      "Recall: 0.8943089430894309\n",
      "F1 Score: 0.944206008583691\n",
      "Updating target policy...\n",
      "Epoch 218/300\n",
      "[LightGBM] [Info] Number of positive: 442, number of negative: 540\n",
      "[LightGBM] [Info] This is the GPU trainer!!\n",
      "[LightGBM] [Info] Total Bins 7650\n",
      "[LightGBM] [Info] Number of data points in the train set: 982, number of used features: 30\n"
     ]
    },
    {
     "name": "stderr",
     "output_type": "stream",
     "text": [
      "c:\\Users\\FH-Deg\\.conda\\envs\\tf_c_gpu\\lib\\site-packages\\lightgbm\\basic.py:1192: UserWarning: Converting data to scipy sparse matrix.\n",
      "  _log_warning('Converting data to scipy sparse matrix.')\n"
     ]
    },
    {
     "name": "stdout",
     "output_type": "stream",
     "text": [
      "[LightGBM] [Info] Using GPU Device: Quadro RTX 4000, Vendor: NVIDIA Corporation\n",
      "[LightGBM] [Info] Compiling OpenCL Kernel with 256 bins...\n",
      "[LightGBM] [Info] GPU programs have been built\n",
      "[LightGBM] [Info] Size of histogram bin entry: 8\n",
      "[LightGBM] [Info] 30 dense feature groups (0.03 MB) transferred to GPU in 0.004511 secs. 0 sparse feature groups\n",
      "[LightGBM] [Info] Size of histogram bin entry: 8\n",
      "[LightGBM] [Info] 30 dense feature groups (0.02 MB) transferred to GPU in 0.009908 secs. 0 sparse feature groups\n",
      "threshold: 0.6757316411222377\n",
      "AUC-ROC: 0.9961332540154669\n",
      "Accuracy: 0.948170731707317\n",
      "Precision: 0.9964802051775268\n",
      "Confusion Matrix:\n",
      "[[492   0]\n",
      " [ 51 441]]\n",
      "Recall: 0.8963414634146342\n",
      "F1 Score: 0.9453376205787781\n",
      "Epoch 219/300\n",
      "[LightGBM] [Info] Number of positive: 442, number of negative: 540\n",
      "[LightGBM] [Info] This is the GPU trainer!!\n",
      "[LightGBM] [Info] Total Bins 7650\n",
      "[LightGBM] [Info] Number of data points in the train set: 982, number of used features: 30\n",
      "[LightGBM] [Info] Using GPU Device: Quadro RTX 4000, Vendor: NVIDIA Corporation\n",
      "[LightGBM] [Info] Compiling OpenCL Kernel with 256 bins...\n"
     ]
    },
    {
     "name": "stderr",
     "output_type": "stream",
     "text": [
      "c:\\Users\\FH-Deg\\.conda\\envs\\tf_c_gpu\\lib\\site-packages\\lightgbm\\basic.py:1192: UserWarning: Converting data to scipy sparse matrix.\n",
      "  _log_warning('Converting data to scipy sparse matrix.')\n"
     ]
    },
    {
     "name": "stdout",
     "output_type": "stream",
     "text": [
      "[LightGBM] [Info] GPU programs have been built\n",
      "[LightGBM] [Info] Size of histogram bin entry: 8\n",
      "[LightGBM] [Info] 30 dense feature groups (0.03 MB) transferred to GPU in 0.004858 secs. 0 sparse feature groups\n",
      "[LightGBM] [Info] Size of histogram bin entry: 8\n",
      "[LightGBM] [Info] 30 dense feature groups (0.02 MB) transferred to GPU in 0.004244 secs. 0 sparse feature groups\n",
      "threshold: 0.6743081616730795\n",
      "AUC-ROC: 0.9961415162932117\n",
      "Accuracy: 0.948170731707317\n",
      "Precision: 0.996495028710783\n",
      "Confusion Matrix:\n",
      "[[492   0]\n",
      " [ 51 441]]\n",
      "Recall: 0.8963414634146342\n",
      "F1 Score: 0.9453376205787781\n",
      "Epoch 220/300\n",
      "[LightGBM] [Info] Number of positive: 442, number of negative: 540\n",
      "[LightGBM] [Info] This is the GPU trainer!!\n",
      "[LightGBM] [Info] Total Bins 7650\n",
      "[LightGBM] [Info] Number of data points in the train set: 982, number of used features: 30\n"
     ]
    },
    {
     "name": "stderr",
     "output_type": "stream",
     "text": [
      "c:\\Users\\FH-Deg\\.conda\\envs\\tf_c_gpu\\lib\\site-packages\\lightgbm\\basic.py:1192: UserWarning: Converting data to scipy sparse matrix.\n",
      "  _log_warning('Converting data to scipy sparse matrix.')\n"
     ]
    },
    {
     "name": "stdout",
     "output_type": "stream",
     "text": [
      "[LightGBM] [Info] Using GPU Device: Quadro RTX 4000, Vendor: NVIDIA Corporation\n",
      "[LightGBM] [Info] Compiling OpenCL Kernel with 256 bins...\n",
      "[LightGBM] [Info] GPU programs have been built\n",
      "[LightGBM] [Info] Size of histogram bin entry: 8\n",
      "[LightGBM] [Info] 30 dense feature groups (0.03 MB) transferred to GPU in 0.004768 secs. 0 sparse feature groups\n",
      "[LightGBM] [Info] Size of histogram bin entry: 8\n",
      "[LightGBM] [Info] 30 dense feature groups (0.02 MB) transferred to GPU in 0.004222 secs. 0 sparse feature groups\n",
      "threshold: 0.6737079441694858\n",
      "AUC-ROC: 0.9961869588208077\n",
      "Accuracy: 0.948170731707317\n",
      "Precision: 0.9965403237876438\n",
      "Confusion Matrix:\n",
      "[[492   0]\n",
      " [ 51 441]]\n",
      "Recall: 0.8963414634146342\n",
      "F1 Score: 0.9453376205787781\n",
      "Updating target policy...\n",
      "Epoch 221/300\n",
      "[LightGBM] [Info] Number of positive: 442, number of negative: 540\n",
      "[LightGBM] [Info] This is the GPU trainer!!\n",
      "[LightGBM] [Info] Total Bins 7650\n",
      "[LightGBM] [Info] Number of data points in the train set: 982, number of used features: 30\n"
     ]
    },
    {
     "name": "stderr",
     "output_type": "stream",
     "text": [
      "c:\\Users\\FH-Deg\\.conda\\envs\\tf_c_gpu\\lib\\site-packages\\lightgbm\\basic.py:1192: UserWarning: Converting data to scipy sparse matrix.\n",
      "  _log_warning('Converting data to scipy sparse matrix.')\n"
     ]
    },
    {
     "name": "stdout",
     "output_type": "stream",
     "text": [
      "[LightGBM] [Info] Using GPU Device: Quadro RTX 4000, Vendor: NVIDIA Corporation\n",
      "[LightGBM] [Info] Compiling OpenCL Kernel with 256 bins...\n",
      "[LightGBM] [Info] GPU programs have been built\n",
      "[LightGBM] [Info] Size of histogram bin entry: 8\n",
      "[LightGBM] [Info] 30 dense feature groups (0.03 MB) transferred to GPU in 0.006953 secs. 0 sparse feature groups\n",
      "[LightGBM] [Info] Size of histogram bin entry: 8\n",
      "[LightGBM] [Info] 30 dense feature groups (0.02 MB) transferred to GPU in 0.086202 secs. 0 sparse feature groups\n",
      "threshold: 0.6722720389020197\n",
      "AUC-ROC: 0.996178696543063\n",
      "Accuracy: 0.948170731707317\n",
      "Precision: 0.9965369801908285\n",
      "Confusion Matrix:\n",
      "[[492   0]\n",
      " [ 51 441]]\n",
      "Recall: 0.8963414634146342\n",
      "F1 Score: 0.9453376205787781\n",
      "Epoch 222/300\n",
      "[LightGBM] [Info] Number of positive: 442, number of negative: 540\n",
      "[LightGBM] [Info] This is the GPU trainer!!\n",
      "[LightGBM] [Info] Total Bins 7650\n",
      "[LightGBM] [Info] Number of data points in the train set: 982, number of used features: 30\n"
     ]
    },
    {
     "name": "stderr",
     "output_type": "stream",
     "text": [
      "c:\\Users\\FH-Deg\\.conda\\envs\\tf_c_gpu\\lib\\site-packages\\lightgbm\\basic.py:1192: UserWarning: Converting data to scipy sparse matrix.\n",
      "  _log_warning('Converting data to scipy sparse matrix.')\n"
     ]
    },
    {
     "name": "stdout",
     "output_type": "stream",
     "text": [
      "[LightGBM] [Info] Using GPU Device: Quadro RTX 4000, Vendor: NVIDIA Corporation\n",
      "[LightGBM] [Info] Compiling OpenCL Kernel with 256 bins...\n",
      "[LightGBM] [Info] GPU programs have been built\n",
      "[LightGBM] [Info] Size of histogram bin entry: 8\n",
      "[LightGBM] [Info] 30 dense feature groups (0.03 MB) transferred to GPU in 0.004250 secs. 0 sparse feature groups\n",
      "[LightGBM] [Info] Size of histogram bin entry: 8\n",
      "[LightGBM] [Info] 30 dense feature groups (0.02 MB) transferred to GPU in 0.004305 secs. 0 sparse feature groups\n",
      "threshold: 0.6725472672573004\n",
      "AUC-ROC: 0.9962034833762972\n",
      "Accuracy: 0.948170731707317\n",
      "Precision: 0.9965599781270726\n",
      "Confusion Matrix:\n",
      "[[492   0]\n",
      " [ 51 441]]\n",
      "Recall: 0.8963414634146342\n",
      "F1 Score: 0.9453376205787781\n",
      "Epoch 223/300\n",
      "[LightGBM] [Info] Number of positive: 442, number of negative: 540\n",
      "[LightGBM] [Info] This is the GPU trainer!!\n",
      "[LightGBM] [Info] Total Bins 7650\n",
      "[LightGBM] [Info] Number of data points in the train set: 982, number of used features: 30\n",
      "[LightGBM] [Info] Using GPU Device: Quadro RTX 4000, Vendor: NVIDIA Corporation\n",
      "[LightGBM] [Info] Compiling OpenCL Kernel with 256 bins...\n"
     ]
    },
    {
     "name": "stderr",
     "output_type": "stream",
     "text": [
      "c:\\Users\\FH-Deg\\.conda\\envs\\tf_c_gpu\\lib\\site-packages\\lightgbm\\basic.py:1192: UserWarning: Converting data to scipy sparse matrix.\n",
      "  _log_warning('Converting data to scipy sparse matrix.')\n"
     ]
    },
    {
     "name": "stdout",
     "output_type": "stream",
     "text": [
      "[LightGBM] [Info] GPU programs have been built\n",
      "[LightGBM] [Info] Size of histogram bin entry: 8\n",
      "[LightGBM] [Info] 30 dense feature groups (0.03 MB) transferred to GPU in 0.035912 secs. 0 sparse feature groups\n",
      "[LightGBM] [Info] Size of histogram bin entry: 8\n",
      "[LightGBM] [Info] 30 dense feature groups (0.02 MB) transferred to GPU in 0.004729 secs. 0 sparse feature groups\n",
      "threshold: 0.6728280312595404\n",
      "AUC-ROC: 0.9962447947650208\n",
      "Accuracy: 0.948170731707317\n",
      "Precision: 0.9966008773648148\n",
      "Confusion Matrix:\n",
      "[[492   0]\n",
      " [ 51 441]]\n",
      "Recall: 0.8963414634146342\n",
      "F1 Score: 0.9453376205787781\n",
      "Updating target policy...\n",
      "Epoch 224/300\n",
      "[LightGBM] [Info] Number of positive: 442, number of negative: 540\n",
      "[LightGBM] [Info] This is the GPU trainer!!\n",
      "[LightGBM] [Info] Total Bins 7650\n",
      "[LightGBM] [Info] Number of data points in the train set: 982, number of used features: 30\n",
      "[LightGBM] [Info] Using GPU Device: Quadro RTX 4000, Vendor: NVIDIA Corporation\n",
      "[LightGBM] [Info] Compiling OpenCL Kernel with 256 bins...\n"
     ]
    },
    {
     "name": "stderr",
     "output_type": "stream",
     "text": [
      "c:\\Users\\FH-Deg\\.conda\\envs\\tf_c_gpu\\lib\\site-packages\\lightgbm\\basic.py:1192: UserWarning: Converting data to scipy sparse matrix.\n",
      "  _log_warning('Converting data to scipy sparse matrix.')\n"
     ]
    },
    {
     "name": "stdout",
     "output_type": "stream",
     "text": [
      "[LightGBM] [Info] GPU programs have been built\n",
      "[LightGBM] [Info] Size of histogram bin entry: 8\n",
      "[LightGBM] [Info] 30 dense feature groups (0.03 MB) transferred to GPU in 0.050054 secs. 0 sparse feature groups\n",
      "[LightGBM] [Info] Size of histogram bin entry: 8\n",
      "[LightGBM] [Info] 30 dense feature groups (0.02 MB) transferred to GPU in 0.015704 secs. 0 sparse feature groups\n",
      "threshold: 0.6722762316597731\n",
      "AUC-ROC: 0.9962447947650208\n",
      "Accuracy: 0.948170731707317\n",
      "Precision: 0.9966019264506828\n",
      "Confusion Matrix:\n",
      "[[492   0]\n",
      " [ 51 441]]\n",
      "Recall: 0.8963414634146342\n",
      "F1 Score: 0.9453376205787781\n",
      "Epoch 225/300\n",
      "[LightGBM] [Info] Number of positive: 442, number of negative: 540\n",
      "[LightGBM] [Info] This is the GPU trainer!!\n",
      "[LightGBM] [Info] Total Bins 7650\n",
      "[LightGBM] [Info] Number of data points in the train set: 982, number of used features: 30\n"
     ]
    },
    {
     "name": "stderr",
     "output_type": "stream",
     "text": [
      "c:\\Users\\FH-Deg\\.conda\\envs\\tf_c_gpu\\lib\\site-packages\\lightgbm\\basic.py:1192: UserWarning: Converting data to scipy sparse matrix.\n",
      "  _log_warning('Converting data to scipy sparse matrix.')\n"
     ]
    },
    {
     "name": "stdout",
     "output_type": "stream",
     "text": [
      "[LightGBM] [Info] Using GPU Device: Quadro RTX 4000, Vendor: NVIDIA Corporation\n",
      "[LightGBM] [Info] Compiling OpenCL Kernel with 256 bins...\n",
      "[LightGBM] [Info] GPU programs have been built\n",
      "[LightGBM] [Info] Size of histogram bin entry: 8\n",
      "[LightGBM] [Info] 30 dense feature groups (0.03 MB) transferred to GPU in 0.024547 secs. 0 sparse feature groups\n",
      "[LightGBM] [Info] Size of histogram bin entry: 8\n",
      "[LightGBM] [Info] 30 dense feature groups (0.02 MB) transferred to GPU in 0.027265 secs. 0 sparse feature groups\n",
      "threshold: 0.6681838317372611\n",
      "AUC-ROC: 0.9962447947650208\n",
      "Accuracy: 0.9491869918699187\n",
      "Precision: 0.9966113808922447\n",
      "Confusion Matrix:\n",
      "[[492   0]\n",
      " [ 50 442]]\n",
      "Recall: 0.8983739837398373\n",
      "F1 Score: 0.9464668094218416\n",
      "Epoch 226/300\n",
      "[LightGBM] [Info] Number of positive: 442, number of negative: 540\n",
      "[LightGBM] [Info] This is the GPU trainer!!\n",
      "[LightGBM] [Info] Total Bins 7650\n",
      "[LightGBM] [Info] Number of data points in the train set: 982, number of used features: 30\n"
     ]
    },
    {
     "name": "stderr",
     "output_type": "stream",
     "text": [
      "c:\\Users\\FH-Deg\\.conda\\envs\\tf_c_gpu\\lib\\site-packages\\lightgbm\\basic.py:1192: UserWarning: Converting data to scipy sparse matrix.\n",
      "  _log_warning('Converting data to scipy sparse matrix.')\n"
     ]
    },
    {
     "name": "stdout",
     "output_type": "stream",
     "text": [
      "[LightGBM] [Info] Using GPU Device: Quadro RTX 4000, Vendor: NVIDIA Corporation\n",
      "[LightGBM] [Info] Compiling OpenCL Kernel with 256 bins...\n",
      "[LightGBM] [Info] GPU programs have been built\n",
      "[LightGBM] [Info] Size of histogram bin entry: 8\n",
      "[LightGBM] [Info] 30 dense feature groups (0.03 MB) transferred to GPU in 0.006318 secs. 0 sparse feature groups\n",
      "[LightGBM] [Info] Size of histogram bin entry: 8\n",
      "[LightGBM] [Info] 30 dense feature groups (0.02 MB) transferred to GPU in 0.004266 secs. 0 sparse feature groups\n",
      "threshold: 0.6710206631948464\n",
      "AUC-ROC: 0.9962778438759997\n",
      "Accuracy: 0.9491869918699187\n",
      "Precision: 0.9966380637178037\n",
      "Confusion Matrix:\n",
      "[[492   0]\n",
      " [ 50 442]]\n",
      "Recall: 0.8983739837398373\n",
      "F1 Score: 0.9464668094218416\n",
      "Updating target policy...\n",
      "Epoch 227/300\n",
      "[LightGBM] [Info] Number of positive: 442, number of negative: 540\n",
      "[LightGBM] [Info] This is the GPU trainer!!\n",
      "[LightGBM] [Info] Total Bins 7650\n",
      "[LightGBM] [Info] Number of data points in the train set: 982, number of used features: 30\n"
     ]
    },
    {
     "name": "stderr",
     "output_type": "stream",
     "text": [
      "c:\\Users\\FH-Deg\\.conda\\envs\\tf_c_gpu\\lib\\site-packages\\lightgbm\\basic.py:1192: UserWarning: Converting data to scipy sparse matrix.\n",
      "  _log_warning('Converting data to scipy sparse matrix.')\n"
     ]
    },
    {
     "name": "stdout",
     "output_type": "stream",
     "text": [
      "[LightGBM] [Info] Using GPU Device: Quadro RTX 4000, Vendor: NVIDIA Corporation\n",
      "[LightGBM] [Info] Compiling OpenCL Kernel with 256 bins...\n",
      "[LightGBM] [Info] GPU programs have been built\n",
      "[LightGBM] [Info] Size of histogram bin entry: 8\n",
      "[LightGBM] [Info] 30 dense feature groups (0.03 MB) transferred to GPU in 0.004819 secs. 0 sparse feature groups\n",
      "[LightGBM] [Info] Size of histogram bin entry: 8\n",
      "[LightGBM] [Info] 30 dense feature groups (0.02 MB) transferred to GPU in 0.004744 secs. 0 sparse feature groups\n",
      "threshold: 0.6703803288650529\n",
      "AUC-ROC: 0.9962861061537445\n",
      "Accuracy: 0.9491869918699187\n",
      "Precision: 0.9966490991043737\n",
      "Confusion Matrix:\n",
      "[[492   0]\n",
      " [ 50 442]]\n",
      "Recall: 0.8983739837398373\n",
      "F1 Score: 0.9464668094218416\n",
      "Epoch 228/300\n",
      "[LightGBM] [Info] Number of positive: 442, number of negative: 540\n",
      "[LightGBM] [Info] This is the GPU trainer!!\n",
      "[LightGBM] [Info] Total Bins 7650\n",
      "[LightGBM] [Info] Number of data points in the train set: 982, number of used features: 30\n"
     ]
    },
    {
     "name": "stderr",
     "output_type": "stream",
     "text": [
      "c:\\Users\\FH-Deg\\.conda\\envs\\tf_c_gpu\\lib\\site-packages\\lightgbm\\basic.py:1192: UserWarning: Converting data to scipy sparse matrix.\n",
      "  _log_warning('Converting data to scipy sparse matrix.')\n"
     ]
    },
    {
     "name": "stdout",
     "output_type": "stream",
     "text": [
      "[LightGBM] [Info] Using GPU Device: Quadro RTX 4000, Vendor: NVIDIA Corporation\n",
      "[LightGBM] [Info] Compiling OpenCL Kernel with 256 bins...\n",
      "[LightGBM] [Info] GPU programs have been built\n",
      "[LightGBM] [Info] Size of histogram bin entry: 8\n",
      "[LightGBM] [Info] 30 dense feature groups (0.03 MB) transferred to GPU in 0.005300 secs. 0 sparse feature groups\n",
      "[LightGBM] [Info] Size of histogram bin entry: 8\n",
      "[LightGBM] [Info] 30 dense feature groups (0.02 MB) transferred to GPU in 0.004893 secs. 0 sparse feature groups\n",
      "threshold: 0.6697624732627724\n",
      "AUC-ROC: 0.9963274175424681\n",
      "Accuracy: 0.9491869918699187\n",
      "Precision: 0.9966878534274803\n",
      "Confusion Matrix:\n",
      "[[492   0]\n",
      " [ 50 442]]\n",
      "Recall: 0.8983739837398373\n",
      "F1 Score: 0.9464668094218416\n",
      "Epoch 229/300\n",
      "[LightGBM] [Info] Number of positive: 442, number of negative: 540\n",
      "[LightGBM] [Info] This is the GPU trainer!!\n",
      "[LightGBM] [Info] Total Bins 7650\n",
      "[LightGBM] [Info] Number of data points in the train set: 982, number of used features: 30\n"
     ]
    },
    {
     "name": "stderr",
     "output_type": "stream",
     "text": [
      "c:\\Users\\FH-Deg\\.conda\\envs\\tf_c_gpu\\lib\\site-packages\\lightgbm\\basic.py:1192: UserWarning: Converting data to scipy sparse matrix.\n",
      "  _log_warning('Converting data to scipy sparse matrix.')\n"
     ]
    },
    {
     "name": "stdout",
     "output_type": "stream",
     "text": [
      "[LightGBM] [Info] Using GPU Device: Quadro RTX 4000, Vendor: NVIDIA Corporation\n",
      "[LightGBM] [Info] Compiling OpenCL Kernel with 256 bins...\n",
      "[LightGBM] [Info] GPU programs have been built\n",
      "[LightGBM] [Info] Size of histogram bin entry: 8\n",
      "[LightGBM] [Info] 30 dense feature groups (0.03 MB) transferred to GPU in 0.065636 secs. 0 sparse feature groups\n",
      "[LightGBM] [Info] Size of histogram bin entry: 8\n",
      "[LightGBM] [Info] 30 dense feature groups (0.02 MB) transferred to GPU in 0.025626 secs. 0 sparse feature groups\n",
      "threshold: 0.6717889208957641\n",
      "AUC-ROC: 0.9963398109590853\n",
      "Accuracy: 0.9491869918699187\n",
      "Precision: 0.9966949088764787\n",
      "Confusion Matrix:\n",
      "[[492   0]\n",
      " [ 50 442]]\n",
      "Recall: 0.8983739837398373\n",
      "F1 Score: 0.9464668094218416\n",
      "Updating target policy...\n",
      "Epoch 230/300\n",
      "[LightGBM] [Info] Number of positive: 442, number of negative: 540\n",
      "[LightGBM] [Info] This is the GPU trainer!!\n",
      "[LightGBM] [Info] Total Bins 7650\n",
      "[LightGBM] [Info] Number of data points in the train set: 982, number of used features: 30\n"
     ]
    },
    {
     "name": "stderr",
     "output_type": "stream",
     "text": [
      "c:\\Users\\FH-Deg\\.conda\\envs\\tf_c_gpu\\lib\\site-packages\\lightgbm\\basic.py:1192: UserWarning: Converting data to scipy sparse matrix.\n",
      "  _log_warning('Converting data to scipy sparse matrix.')\n"
     ]
    },
    {
     "name": "stdout",
     "output_type": "stream",
     "text": [
      "[LightGBM] [Info] Using GPU Device: Quadro RTX 4000, Vendor: NVIDIA Corporation\n",
      "[LightGBM] [Info] Compiling OpenCL Kernel with 256 bins...\n",
      "[LightGBM] [Info] GPU programs have been built\n",
      "[LightGBM] [Info] Size of histogram bin entry: 8\n",
      "[LightGBM] [Info] 30 dense feature groups (0.03 MB) transferred to GPU in 0.043264 secs. 0 sparse feature groups\n",
      "[LightGBM] [Info] Size of histogram bin entry: 8\n",
      "[LightGBM] [Info] 30 dense feature groups (0.02 MB) transferred to GPU in 0.053915 secs. 0 sparse feature groups\n",
      "threshold: 0.6720232536453281\n",
      "AUC-ROC: 0.9963439420979576\n",
      "Accuracy: 0.9491869918699187\n",
      "Precision: 0.9967016473569931\n",
      "Confusion Matrix:\n",
      "[[492   0]\n",
      " [ 50 442]]\n",
      "Recall: 0.8983739837398373\n",
      "F1 Score: 0.9464668094218416\n",
      "Epoch 231/300\n",
      "[LightGBM] [Info] Number of positive: 442, number of negative: 540\n",
      "[LightGBM] [Info] This is the GPU trainer!!\n",
      "[LightGBM] [Info] Total Bins 7650\n",
      "[LightGBM] [Info] Number of data points in the train set: 982, number of used features: 30\n"
     ]
    },
    {
     "name": "stderr",
     "output_type": "stream",
     "text": [
      "c:\\Users\\FH-Deg\\.conda\\envs\\tf_c_gpu\\lib\\site-packages\\lightgbm\\basic.py:1192: UserWarning: Converting data to scipy sparse matrix.\n",
      "  _log_warning('Converting data to scipy sparse matrix.')\n"
     ]
    },
    {
     "name": "stdout",
     "output_type": "stream",
     "text": [
      "[LightGBM] [Info] Using GPU Device: Quadro RTX 4000, Vendor: NVIDIA Corporation\n",
      "[LightGBM] [Info] Compiling OpenCL Kernel with 256 bins...\n",
      "[LightGBM] [Info] GPU programs have been built\n",
      "[LightGBM] [Info] Size of histogram bin entry: 8\n",
      "[LightGBM] [Info] 30 dense feature groups (0.03 MB) transferred to GPU in 0.005056 secs. 0 sparse feature groups\n",
      "[LightGBM] [Info] Size of histogram bin entry: 8\n",
      "[LightGBM] [Info] 30 dense feature groups (0.02 MB) transferred to GPU in 0.004484 secs. 0 sparse feature groups\n",
      "threshold: 0.6776126841890917\n",
      "AUC-ROC: 0.9963976469032984\n",
      "Accuracy: 0.9491869918699187\n",
      "Precision: 0.9967405488673615\n",
      "Confusion Matrix:\n",
      "[[492   0]\n",
      " [ 50 442]]\n",
      "Recall: 0.8983739837398373\n",
      "F1 Score: 0.9464668094218416\n",
      "Epoch 232/300\n",
      "[LightGBM] [Info] Number of positive: 442, number of negative: 540\n",
      "[LightGBM] [Info] This is the GPU trainer!!\n",
      "[LightGBM] [Info] Total Bins 7650\n",
      "[LightGBM] [Info] Number of data points in the train set: 982, number of used features: 30\n"
     ]
    },
    {
     "name": "stderr",
     "output_type": "stream",
     "text": [
      "c:\\Users\\FH-Deg\\.conda\\envs\\tf_c_gpu\\lib\\site-packages\\lightgbm\\basic.py:1192: UserWarning: Converting data to scipy sparse matrix.\n",
      "  _log_warning('Converting data to scipy sparse matrix.')\n"
     ]
    },
    {
     "name": "stdout",
     "output_type": "stream",
     "text": [
      "[LightGBM] [Info] Using GPU Device: Quadro RTX 4000, Vendor: NVIDIA Corporation\n",
      "[LightGBM] [Info] Compiling OpenCL Kernel with 256 bins...\n",
      "[LightGBM] [Info] GPU programs have been built\n",
      "[LightGBM] [Info] Size of histogram bin entry: 8\n",
      "[LightGBM] [Info] 30 dense feature groups (0.03 MB) transferred to GPU in 0.004878 secs. 0 sparse feature groups\n",
      "[LightGBM] [Info] Size of histogram bin entry: 8\n",
      "[LightGBM] [Info] 30 dense feature groups (0.02 MB) transferred to GPU in 0.004711 secs. 0 sparse feature groups\n",
      "threshold: 0.6769497986406333\n",
      "AUC-ROC: 0.9964224337365324\n",
      "Accuracy: 0.9491869918699187\n",
      "Precision: 0.9967677307815889\n",
      "Confusion Matrix:\n",
      "[[492   0]\n",
      " [ 50 442]]\n",
      "Recall: 0.8983739837398373\n",
      "F1 Score: 0.9464668094218416\n",
      "Updating target policy...\n",
      "Epoch 233/300\n",
      "[LightGBM] [Info] Number of positive: 442, number of negative: 540\n",
      "[LightGBM] [Info] This is the GPU trainer!!\n",
      "[LightGBM] [Info] Total Bins 7650\n",
      "[LightGBM] [Info] Number of data points in the train set: 982, number of used features: 30\n"
     ]
    },
    {
     "name": "stderr",
     "output_type": "stream",
     "text": [
      "c:\\Users\\FH-Deg\\.conda\\envs\\tf_c_gpu\\lib\\site-packages\\lightgbm\\basic.py:1192: UserWarning: Converting data to scipy sparse matrix.\n",
      "  _log_warning('Converting data to scipy sparse matrix.')\n"
     ]
    },
    {
     "name": "stdout",
     "output_type": "stream",
     "text": [
      "[LightGBM] [Info] Using GPU Device: Quadro RTX 4000, Vendor: NVIDIA Corporation\n",
      "[LightGBM] [Info] Compiling OpenCL Kernel with 256 bins...\n",
      "[LightGBM] [Info] GPU programs have been built\n",
      "[LightGBM] [Info] Size of histogram bin entry: 8\n",
      "[LightGBM] [Info] 30 dense feature groups (0.03 MB) transferred to GPU in 0.004416 secs. 0 sparse feature groups\n",
      "[LightGBM] [Info] Size of histogram bin entry: 8\n",
      "[LightGBM] [Info] 30 dense feature groups (0.02 MB) transferred to GPU in 0.007370 secs. 0 sparse feature groups\n",
      "threshold: 0.6753793594977724\n",
      "AUC-ROC: 0.9964348271531496\n",
      "Accuracy: 0.9491869918699187\n",
      "Precision: 0.99678145198515\n",
      "Confusion Matrix:\n",
      "[[492   0]\n",
      " [ 50 442]]\n",
      "Recall: 0.8983739837398373\n",
      "F1 Score: 0.9464668094218416\n",
      "Epoch 234/300\n",
      "[LightGBM] [Info] Number of positive: 442, number of negative: 540\n",
      "[LightGBM] [Info] This is the GPU trainer!!\n",
      "[LightGBM] [Info] Total Bins 7650\n",
      "[LightGBM] [Info] Number of data points in the train set: 982, number of used features: 30\n"
     ]
    },
    {
     "name": "stderr",
     "output_type": "stream",
     "text": [
      "c:\\Users\\FH-Deg\\.conda\\envs\\tf_c_gpu\\lib\\site-packages\\lightgbm\\basic.py:1192: UserWarning: Converting data to scipy sparse matrix.\n",
      "  _log_warning('Converting data to scipy sparse matrix.')\n"
     ]
    },
    {
     "name": "stdout",
     "output_type": "stream",
     "text": [
      "[LightGBM] [Info] Using GPU Device: Quadro RTX 4000, Vendor: NVIDIA Corporation\n",
      "[LightGBM] [Info] Compiling OpenCL Kernel with 256 bins...\n",
      "[LightGBM] [Info] GPU programs have been built\n",
      "[LightGBM] [Info] Size of histogram bin entry: 8\n",
      "[LightGBM] [Info] 30 dense feature groups (0.03 MB) transferred to GPU in 0.023537 secs. 0 sparse feature groups\n",
      "[LightGBM] [Info] Size of histogram bin entry: 8\n",
      "[LightGBM] [Info] 30 dense feature groups (0.02 MB) transferred to GPU in 0.005167 secs. 0 sparse feature groups\n",
      "threshold: 0.675650126171627\n",
      "AUC-ROC: 0.9964637451252562\n",
      "Accuracy: 0.9491869918699187\n",
      "Precision: 0.9968099111225117\n",
      "Confusion Matrix:\n",
      "[[492   0]\n",
      " [ 50 442]]\n",
      "Recall: 0.8983739837398373\n",
      "F1 Score: 0.9464668094218416\n",
      "Epoch 235/300\n",
      "[LightGBM] [Info] Number of positive: 442, number of negative: 540\n",
      "[LightGBM] [Info] This is the GPU trainer!!\n",
      "[LightGBM] [Info] Total Bins 7650\n",
      "[LightGBM] [Info] Number of data points in the train set: 982, number of used features: 30\n"
     ]
    },
    {
     "name": "stderr",
     "output_type": "stream",
     "text": [
      "c:\\Users\\FH-Deg\\.conda\\envs\\tf_c_gpu\\lib\\site-packages\\lightgbm\\basic.py:1192: UserWarning: Converting data to scipy sparse matrix.\n",
      "  _log_warning('Converting data to scipy sparse matrix.')\n"
     ]
    },
    {
     "name": "stdout",
     "output_type": "stream",
     "text": [
      "[LightGBM] [Info] Using GPU Device: Quadro RTX 4000, Vendor: NVIDIA Corporation\n",
      "[LightGBM] [Info] Compiling OpenCL Kernel with 256 bins...\n",
      "[LightGBM] [Info] GPU programs have been built\n",
      "[LightGBM] [Info] Size of histogram bin entry: 8\n",
      "[LightGBM] [Info] 30 dense feature groups (0.03 MB) transferred to GPU in 0.004173 secs. 0 sparse feature groups\n",
      "[LightGBM] [Info] Size of histogram bin entry: 8\n",
      "[LightGBM] [Info] 30 dense feature groups (0.02 MB) transferred to GPU in 0.004378 secs. 0 sparse feature groups\n",
      "threshold: 0.6768742061187545\n",
      "AUC-ROC: 0.9964678762641285\n",
      "Accuracy: 0.9491869918699187\n",
      "Precision: 0.9968137474825388\n",
      "Confusion Matrix:\n",
      "[[492   0]\n",
      " [ 50 442]]\n",
      "Recall: 0.8983739837398373\n",
      "F1 Score: 0.9464668094218416\n",
      "Updating target policy...\n",
      "Epoch 236/300\n",
      "[LightGBM] [Info] Number of positive: 442, number of negative: 540\n",
      "[LightGBM] [Info] This is the GPU trainer!!\n",
      "[LightGBM] [Info] Total Bins 7650\n",
      "[LightGBM] [Info] Number of data points in the train set: 982, number of used features: 30\n",
      "[LightGBM] [Info] Using GPU Device: Quadro RTX 4000, Vendor: NVIDIA Corporation\n",
      "[LightGBM] [Info] Compiling OpenCL Kernel with 256 bins...\n"
     ]
    },
    {
     "name": "stderr",
     "output_type": "stream",
     "text": [
      "c:\\Users\\FH-Deg\\.conda\\envs\\tf_c_gpu\\lib\\site-packages\\lightgbm\\basic.py:1192: UserWarning: Converting data to scipy sparse matrix.\n",
      "  _log_warning('Converting data to scipy sparse matrix.')\n"
     ]
    },
    {
     "name": "stdout",
     "output_type": "stream",
     "text": [
      "[LightGBM] [Info] GPU programs have been built\n",
      "[LightGBM] [Info] Size of histogram bin entry: 8\n",
      "[LightGBM] [Info] 30 dense feature groups (0.03 MB) transferred to GPU in 0.078745 secs. 0 sparse feature groups\n",
      "[LightGBM] [Info] Size of histogram bin entry: 8\n",
      "[LightGBM] [Info] 30 dense feature groups (0.02 MB) transferred to GPU in 0.004210 secs. 0 sparse feature groups\n",
      "threshold: 0.6771094258675276\n",
      "AUC-ROC: 0.996484400819618\n",
      "Accuracy: 0.9491869918699187\n",
      "Precision: 0.9968302652894302\n",
      "Confusion Matrix:\n",
      "[[492   0]\n",
      " [ 50 442]]\n",
      "Recall: 0.8983739837398373\n",
      "F1 Score: 0.9464668094218416\n",
      "Epoch 237/300\n",
      "[LightGBM] [Info] Number of positive: 442, number of negative: 540\n",
      "[LightGBM] [Info] This is the GPU trainer!!\n",
      "[LightGBM] [Info] Total Bins 7650\n",
      "[LightGBM] [Info] Number of data points in the train set: 982, number of used features: 30\n"
     ]
    },
    {
     "name": "stderr",
     "output_type": "stream",
     "text": [
      "c:\\Users\\FH-Deg\\.conda\\envs\\tf_c_gpu\\lib\\site-packages\\lightgbm\\basic.py:1192: UserWarning: Converting data to scipy sparse matrix.\n",
      "  _log_warning('Converting data to scipy sparse matrix.')\n"
     ]
    },
    {
     "name": "stdout",
     "output_type": "stream",
     "text": [
      "[LightGBM] [Info] Using GPU Device: Quadro RTX 4000, Vendor: NVIDIA Corporation\n",
      "[LightGBM] [Info] Compiling OpenCL Kernel with 256 bins...\n",
      "[LightGBM] [Info] GPU programs have been built\n",
      "[LightGBM] [Info] Size of histogram bin entry: 8\n",
      "[LightGBM] [Info] 30 dense feature groups (0.03 MB) transferred to GPU in 0.033364 secs. 0 sparse feature groups\n",
      "[LightGBM] [Info] Size of histogram bin entry: 8\n",
      "[LightGBM] [Info] 30 dense feature groups (0.02 MB) transferred to GPU in 0.004704 secs. 0 sparse feature groups\n",
      "threshold: 0.6755174211443602\n",
      "AUC-ROC: 0.9965050565139797\n",
      "Accuracy: 0.9491869918699187\n",
      "Precision: 0.9968535077284659\n",
      "Confusion Matrix:\n",
      "[[492   0]\n",
      " [ 50 442]]\n",
      "Recall: 0.8983739837398373\n",
      "F1 Score: 0.9464668094218416\n",
      "Epoch 238/300\n",
      "[LightGBM] [Info] Number of positive: 442, number of negative: 540\n",
      "[LightGBM] [Info] This is the GPU trainer!!\n",
      "[LightGBM] [Info] Total Bins 7650\n",
      "[LightGBM] [Info] Number of data points in the train set: 982, number of used features: 30\n"
     ]
    },
    {
     "name": "stderr",
     "output_type": "stream",
     "text": [
      "c:\\Users\\FH-Deg\\.conda\\envs\\tf_c_gpu\\lib\\site-packages\\lightgbm\\basic.py:1192: UserWarning: Converting data to scipy sparse matrix.\n",
      "  _log_warning('Converting data to scipy sparse matrix.')\n"
     ]
    },
    {
     "name": "stdout",
     "output_type": "stream",
     "text": [
      "[LightGBM] [Info] Using GPU Device: Quadro RTX 4000, Vendor: NVIDIA Corporation\n",
      "[LightGBM] [Info] Compiling OpenCL Kernel with 256 bins...\n",
      "[LightGBM] [Info] GPU programs have been built\n",
      "[LightGBM] [Info] Size of histogram bin entry: 8\n",
      "[LightGBM] [Info] 30 dense feature groups (0.03 MB) transferred to GPU in 0.006184 secs. 0 sparse feature groups\n",
      "[LightGBM] [Info] Size of histogram bin entry: 8\n",
      "[LightGBM] [Info] 30 dense feature groups (0.02 MB) transferred to GPU in 0.003869 secs. 0 sparse feature groups\n",
      "threshold: 0.6748778972172877\n",
      "AUC-ROC: 0.9965009253751074\n",
      "Accuracy: 0.9491869918699187\n",
      "Precision: 0.9968503788236499\n",
      "Confusion Matrix:\n",
      "[[492   0]\n",
      " [ 50 442]]\n",
      "Recall: 0.8983739837398373\n",
      "F1 Score: 0.9464668094218416\n",
      "Updating target policy...\n",
      "Epoch 239/300\n",
      "[LightGBM] [Info] Number of positive: 442, number of negative: 540\n",
      "[LightGBM] [Info] This is the GPU trainer!!\n",
      "[LightGBM] [Info] Total Bins 7650\n",
      "[LightGBM] [Info] Number of data points in the train set: 982, number of used features: 30\n"
     ]
    },
    {
     "name": "stderr",
     "output_type": "stream",
     "text": [
      "c:\\Users\\FH-Deg\\.conda\\envs\\tf_c_gpu\\lib\\site-packages\\lightgbm\\basic.py:1192: UserWarning: Converting data to scipy sparse matrix.\n",
      "  _log_warning('Converting data to scipy sparse matrix.')\n"
     ]
    },
    {
     "name": "stdout",
     "output_type": "stream",
     "text": [
      "[LightGBM] [Info] Using GPU Device: Quadro RTX 4000, Vendor: NVIDIA Corporation\n",
      "[LightGBM] [Info] Compiling OpenCL Kernel with 256 bins...\n",
      "[LightGBM] [Info] GPU programs have been built\n",
      "[LightGBM] [Info] Size of histogram bin entry: 8\n",
      "[LightGBM] [Info] 30 dense feature groups (0.03 MB) transferred to GPU in 0.004322 secs. 0 sparse feature groups\n",
      "[LightGBM] [Info] Size of histogram bin entry: 8\n",
      "[LightGBM] [Info] 30 dense feature groups (0.02 MB) transferred to GPU in 0.004184 secs. 0 sparse feature groups\n",
      "threshold: 0.6742392973955869\n",
      "AUC-ROC: 0.9965546301804482\n",
      "Accuracy: 0.9491869918699187\n",
      "Precision: 0.9969017786046577\n",
      "Confusion Matrix:\n",
      "[[492   0]\n",
      " [ 50 442]]\n",
      "Recall: 0.8983739837398373\n",
      "F1 Score: 0.9464668094218416\n",
      "Epoch 240/300\n",
      "[LightGBM] [Info] Number of positive: 442, number of negative: 540\n",
      "[LightGBM] [Info] This is the GPU trainer!!\n",
      "[LightGBM] [Info] Total Bins 7650\n",
      "[LightGBM] [Info] Number of data points in the train set: 982, number of used features: 30\n",
      "[LightGBM] [Info] Using GPU Device: Quadro RTX 4000, Vendor: NVIDIA Corporation\n",
      "[LightGBM] [Info] Compiling OpenCL Kernel with 256 bins...\n",
      "[LightGBM] [Info] GPU programs have been built\n",
      "[LightGBM] [Info] Size of histogram bin entry: 8\n",
      "[LightGBM] [Info] 30 dense feature groups (0.03 MB) transferred to GPU in 0.004695 secs. 0 sparse feature groups\n",
      "[LightGBM] [Info] Size of histogram bin entry: 8\n"
     ]
    },
    {
     "name": "stderr",
     "output_type": "stream",
     "text": [
      "c:\\Users\\FH-Deg\\.conda\\envs\\tf_c_gpu\\lib\\site-packages\\lightgbm\\basic.py:1192: UserWarning: Converting data to scipy sparse matrix.\n",
      "  _log_warning('Converting data to scipy sparse matrix.')\n"
     ]
    },
    {
     "name": "stdout",
     "output_type": "stream",
     "text": [
      "[LightGBM] [Info] 30 dense feature groups (0.02 MB) transferred to GPU in 0.004500 secs. 0 sparse feature groups\n",
      "threshold: 0.6727177617313199\n",
      "AUC-ROC: 0.9966083349857889\n",
      "Accuracy: 0.9502032520325203\n",
      "Precision: 0.9969543506398739\n",
      "Confusion Matrix:\n",
      "[[492   0]\n",
      " [ 49 443]]\n",
      "Recall: 0.9004065040650406\n",
      "F1 Score: 0.9475935828877006\n",
      "Epoch 241/300\n",
      "[LightGBM] [Info] Number of positive: 442, number of negative: 540\n",
      "[LightGBM] [Info] This is the GPU trainer!!\n",
      "[LightGBM] [Info] Total Bins 7650\n",
      "[LightGBM] [Info] Number of data points in the train set: 982, number of used features: 30\n"
     ]
    },
    {
     "name": "stderr",
     "output_type": "stream",
     "text": [
      "c:\\Users\\FH-Deg\\.conda\\envs\\tf_c_gpu\\lib\\site-packages\\lightgbm\\basic.py:1192: UserWarning: Converting data to scipy sparse matrix.\n",
      "  _log_warning('Converting data to scipy sparse matrix.')\n"
     ]
    },
    {
     "name": "stdout",
     "output_type": "stream",
     "text": [
      "[LightGBM] [Info] Using GPU Device: Quadro RTX 4000, Vendor: NVIDIA Corporation\n",
      "[LightGBM] [Info] Compiling OpenCL Kernel with 256 bins...\n",
      "[LightGBM] [Info] GPU programs have been built\n",
      "[LightGBM] [Info] Size of histogram bin entry: 8\n",
      "[LightGBM] [Info] 30 dense feature groups (0.03 MB) transferred to GPU in 0.009157 secs. 0 sparse feature groups\n",
      "[LightGBM] [Info] Size of histogram bin entry: 8\n",
      "[LightGBM] [Info] 30 dense feature groups (0.02 MB) transferred to GPU in 0.006090 secs. 0 sparse feature groups\n",
      "threshold: 0.6729286617810503\n",
      "AUC-ROC: 0.9966083349857888\n",
      "Accuracy: 0.9502032520325203\n",
      "Precision: 0.9969569455332106\n",
      "Confusion Matrix:\n",
      "[[492   0]\n",
      " [ 49 443]]\n",
      "Recall: 0.9004065040650406\n",
      "F1 Score: 0.9475935828877006\n",
      "Updating target policy...\n",
      "Epoch 242/300\n",
      "[LightGBM] [Info] Number of positive: 442, number of negative: 540\n",
      "[LightGBM] [Info] This is the GPU trainer!!\n",
      "[LightGBM] [Info] Total Bins 7650\n",
      "[LightGBM] [Info] Number of data points in the train set: 982, number of used features: 30\n",
      "[LightGBM] [Info] Using GPU Device: Quadro RTX 4000, Vendor: NVIDIA Corporation\n",
      "[LightGBM] [Info] Compiling OpenCL Kernel with 256 bins...\n"
     ]
    },
    {
     "name": "stderr",
     "output_type": "stream",
     "text": [
      "c:\\Users\\FH-Deg\\.conda\\envs\\tf_c_gpu\\lib\\site-packages\\lightgbm\\basic.py:1192: UserWarning: Converting data to scipy sparse matrix.\n",
      "  _log_warning('Converting data to scipy sparse matrix.')\n"
     ]
    },
    {
     "name": "stdout",
     "output_type": "stream",
     "text": [
      "[LightGBM] [Info] GPU programs have been built\n",
      "[LightGBM] [Info] Size of histogram bin entry: 8\n",
      "[LightGBM] [Info] 30 dense feature groups (0.03 MB) transferred to GPU in 0.050564 secs. 0 sparse feature groups\n",
      "[LightGBM] [Info] Size of histogram bin entry: 8\n",
      "[LightGBM] [Info] 30 dense feature groups (0.02 MB) transferred to GPU in 0.004215 secs. 0 sparse feature groups\n",
      "threshold: 0.6732269776270329\n",
      "AUC-ROC: 0.9966165972635336\n",
      "Accuracy: 0.9502032520325203\n",
      "Precision: 0.9969653635680771\n",
      "Confusion Matrix:\n",
      "[[492   0]\n",
      " [ 49 443]]\n",
      "Recall: 0.9004065040650406\n",
      "F1 Score: 0.9475935828877006\n",
      "Epoch 243/300\n",
      "[LightGBM] [Info] Number of positive: 442, number of negative: 540\n",
      "[LightGBM] [Info] This is the GPU trainer!!\n",
      "[LightGBM] [Info] Total Bins 7650\n",
      "[LightGBM] [Info] Number of data points in the train set: 982, number of used features: 30\n"
     ]
    },
    {
     "name": "stderr",
     "output_type": "stream",
     "text": [
      "c:\\Users\\FH-Deg\\.conda\\envs\\tf_c_gpu\\lib\\site-packages\\lightgbm\\basic.py:1192: UserWarning: Converting data to scipy sparse matrix.\n",
      "  _log_warning('Converting data to scipy sparse matrix.')\n"
     ]
    },
    {
     "name": "stdout",
     "output_type": "stream",
     "text": [
      "[LightGBM] [Info] Using GPU Device: Quadro RTX 4000, Vendor: NVIDIA Corporation\n",
      "[LightGBM] [Info] Compiling OpenCL Kernel with 256 bins...\n",
      "[LightGBM] [Info] GPU programs have been built\n",
      "[LightGBM] [Info] Size of histogram bin entry: 8\n",
      "[LightGBM] [Info] 30 dense feature groups (0.03 MB) transferred to GPU in 0.039070 secs. 0 sparse feature groups\n",
      "[LightGBM] [Info] Size of histogram bin entry: 8\n",
      "[LightGBM] [Info] 30 dense feature groups (0.02 MB) transferred to GPU in 0.004419 secs. 0 sparse feature groups\n",
      "threshold: 0.6751816071340776\n",
      "AUC-ROC: 0.9966248595412783\n",
      "Accuracy: 0.9502032520325203\n",
      "Precision: 0.9969714728687606\n",
      "Confusion Matrix:\n",
      "[[492   0]\n",
      " [ 49 443]]\n",
      "Recall: 0.9004065040650406\n",
      "F1 Score: 0.9475935828877006\n",
      "Epoch 244/300\n",
      "[LightGBM] [Info] Number of positive: 442, number of negative: 540\n",
      "[LightGBM] [Info] This is the GPU trainer!!\n",
      "[LightGBM] [Info] Total Bins 7650\n",
      "[LightGBM] [Info] Number of data points in the train set: 982, number of used features: 30\n"
     ]
    },
    {
     "name": "stderr",
     "output_type": "stream",
     "text": [
      "c:\\Users\\FH-Deg\\.conda\\envs\\tf_c_gpu\\lib\\site-packages\\lightgbm\\basic.py:1192: UserWarning: Converting data to scipy sparse matrix.\n",
      "  _log_warning('Converting data to scipy sparse matrix.')\n"
     ]
    },
    {
     "name": "stdout",
     "output_type": "stream",
     "text": [
      "[LightGBM] [Info] Using GPU Device: Quadro RTX 4000, Vendor: NVIDIA Corporation\n",
      "[LightGBM] [Info] Compiling OpenCL Kernel with 256 bins...\n",
      "[LightGBM] [Info] GPU programs have been built\n",
      "[LightGBM] [Info] Size of histogram bin entry: 8\n",
      "[LightGBM] [Info] 30 dense feature groups (0.03 MB) transferred to GPU in 0.084257 secs. 0 sparse feature groups\n",
      "[LightGBM] [Info] Size of histogram bin entry: 8\n",
      "[LightGBM] [Info] 30 dense feature groups (0.02 MB) transferred to GPU in 0.008684 secs. 0 sparse feature groups\n",
      "threshold: 0.6735843247074074\n",
      "AUC-ROC: 0.9966289906801507\n",
      "Accuracy: 0.9502032520325203\n",
      "Precision: 0.9969780255430996\n",
      "Confusion Matrix:\n",
      "[[492   0]\n",
      " [ 49 443]]\n",
      "Recall: 0.9004065040650406\n",
      "F1 Score: 0.9475935828877006\n",
      "Updating target policy...\n",
      "Epoch 245/300\n",
      "[LightGBM] [Info] Number of positive: 442, number of negative: 540\n",
      "[LightGBM] [Info] This is the GPU trainer!!\n",
      "[LightGBM] [Info] Total Bins 7650\n",
      "[LightGBM] [Info] Number of data points in the train set: 982, number of used features: 30\n"
     ]
    },
    {
     "name": "stderr",
     "output_type": "stream",
     "text": [
      "c:\\Users\\FH-Deg\\.conda\\envs\\tf_c_gpu\\lib\\site-packages\\lightgbm\\basic.py:1192: UserWarning: Converting data to scipy sparse matrix.\n",
      "  _log_warning('Converting data to scipy sparse matrix.')\n"
     ]
    },
    {
     "name": "stdout",
     "output_type": "stream",
     "text": [
      "[LightGBM] [Info] Using GPU Device: Quadro RTX 4000, Vendor: NVIDIA Corporation\n",
      "[LightGBM] [Info] Compiling OpenCL Kernel with 256 bins...\n",
      "[LightGBM] [Info] GPU programs have been built\n",
      "[LightGBM] [Info] Size of histogram bin entry: 8\n",
      "[LightGBM] [Info] 30 dense feature groups (0.03 MB) transferred to GPU in 0.036138 secs. 0 sparse feature groups\n",
      "[LightGBM] [Info] Size of histogram bin entry: 8\n",
      "[LightGBM] [Info] 30 dense feature groups (0.02 MB) transferred to GPU in 0.004411 secs. 0 sparse feature groups\n",
      "threshold: 0.6729411579145724\n",
      "AUC-ROC: 0.9966455152356402\n",
      "Accuracy: 0.9502032520325203\n",
      "Precision: 0.996994489147484\n",
      "Confusion Matrix:\n",
      "[[492   0]\n",
      " [ 49 443]]\n",
      "Recall: 0.9004065040650406\n",
      "F1 Score: 0.9475935828877006\n",
      "Epoch 246/300\n",
      "[LightGBM] [Info] Number of positive: 442, number of negative: 540\n",
      "[LightGBM] [Info] This is the GPU trainer!!\n",
      "[LightGBM] [Info] Total Bins 7650\n",
      "[LightGBM] [Info] Number of data points in the train set: 982, number of used features: 30\n"
     ]
    },
    {
     "name": "stderr",
     "output_type": "stream",
     "text": [
      "c:\\Users\\FH-Deg\\.conda\\envs\\tf_c_gpu\\lib\\site-packages\\lightgbm\\basic.py:1192: UserWarning: Converting data to scipy sparse matrix.\n",
      "  _log_warning('Converting data to scipy sparse matrix.')\n"
     ]
    },
    {
     "name": "stdout",
     "output_type": "stream",
     "text": [
      "[LightGBM] [Info] Using GPU Device: Quadro RTX 4000, Vendor: NVIDIA Corporation\n",
      "[LightGBM] [Info] Compiling OpenCL Kernel with 256 bins...\n",
      "[LightGBM] [Info] GPU programs have been built\n",
      "[LightGBM] [Info] Size of histogram bin entry: 8\n",
      "[LightGBM] [Info] 30 dense feature groups (0.03 MB) transferred to GPU in 0.004435 secs. 0 sparse feature groups\n",
      "[LightGBM] [Info] Size of histogram bin entry: 8\n",
      "[LightGBM] [Info] 30 dense feature groups (0.02 MB) transferred to GPU in 0.004267 secs. 0 sparse feature groups\n",
      "threshold: 0.6775623724634702\n",
      "AUC-ROC: 0.9966703020688743\n",
      "Accuracy: 0.9502032520325203\n",
      "Precision: 0.9970076920217548\n",
      "Confusion Matrix:\n",
      "[[492   0]\n",
      " [ 49 443]]\n",
      "Recall: 0.9004065040650406\n",
      "F1 Score: 0.9475935828877006\n",
      "Epoch 247/300\n",
      "[LightGBM] [Info] Number of positive: 442, number of negative: 540\n",
      "[LightGBM] [Info] This is the GPU trainer!!\n",
      "[LightGBM] [Info] Total Bins 7650\n",
      "[LightGBM] [Info] Number of data points in the train set: 982, number of used features: 30\n"
     ]
    },
    {
     "name": "stderr",
     "output_type": "stream",
     "text": [
      "c:\\Users\\FH-Deg\\.conda\\envs\\tf_c_gpu\\lib\\site-packages\\lightgbm\\basic.py:1192: UserWarning: Converting data to scipy sparse matrix.\n",
      "  _log_warning('Converting data to scipy sparse matrix.')\n"
     ]
    },
    {
     "name": "stdout",
     "output_type": "stream",
     "text": [
      "[LightGBM] [Info] Using GPU Device: Quadro RTX 4000, Vendor: NVIDIA Corporation\n",
      "[LightGBM] [Info] Compiling OpenCL Kernel with 256 bins...\n",
      "[LightGBM] [Info] GPU programs have been built\n",
      "[LightGBM] [Info] Size of histogram bin entry: 8\n",
      "[LightGBM] [Info] 30 dense feature groups (0.03 MB) transferred to GPU in 0.004471 secs. 0 sparse feature groups\n",
      "[LightGBM] [Info] Size of histogram bin entry: 8\n",
      "[LightGBM] [Info] 30 dense feature groups (0.02 MB) transferred to GPU in 0.004135 secs. 0 sparse feature groups\n",
      "threshold: 0.6768853974060828\n",
      "AUC-ROC: 0.996711613457598\n",
      "Accuracy: 0.9502032520325203\n",
      "Precision: 0.9970502187598682\n",
      "Confusion Matrix:\n",
      "[[492   0]\n",
      " [ 49 443]]\n",
      "Recall: 0.9004065040650406\n",
      "F1 Score: 0.9475935828877006\n",
      "Updating target policy...\n",
      "Epoch 248/300\n",
      "[LightGBM] [Info] Number of positive: 442, number of negative: 540\n",
      "[LightGBM] [Info] This is the GPU trainer!!\n",
      "[LightGBM] [Info] Total Bins 7650\n",
      "[LightGBM] [Info] Number of data points in the train set: 982, number of used features: 30\n"
     ]
    },
    {
     "name": "stderr",
     "output_type": "stream",
     "text": [
      "c:\\Users\\FH-Deg\\.conda\\envs\\tf_c_gpu\\lib\\site-packages\\lightgbm\\basic.py:1192: UserWarning: Converting data to scipy sparse matrix.\n",
      "  _log_warning('Converting data to scipy sparse matrix.')\n"
     ]
    },
    {
     "name": "stdout",
     "output_type": "stream",
     "text": [
      "[LightGBM] [Info] Using GPU Device: Quadro RTX 4000, Vendor: NVIDIA Corporation\n",
      "[LightGBM] [Info] Compiling OpenCL Kernel with 256 bins...\n",
      "[LightGBM] [Info] GPU programs have been built\n",
      "[LightGBM] [Info] Size of histogram bin entry: 8\n",
      "[LightGBM] [Info] 30 dense feature groups (0.03 MB) transferred to GPU in 0.006350 secs. 0 sparse feature groups\n",
      "[LightGBM] [Info] Size of histogram bin entry: 8\n",
      "[LightGBM] [Info] 30 dense feature groups (0.02 MB) transferred to GPU in 0.052141 secs. 0 sparse feature groups\n",
      "threshold: 0.6798453468040827\n",
      "AUC-ROC: 0.9967446625685769\n",
      "Accuracy: 0.9502032520325203\n",
      "Precision: 0.9970770427793427\n",
      "Confusion Matrix:\n",
      "[[492   0]\n",
      " [ 49 443]]\n",
      "Recall: 0.9004065040650406\n",
      "F1 Score: 0.9475935828877006\n",
      "Epoch 249/300\n",
      "[LightGBM] [Info] Number of positive: 442, number of negative: 540\n",
      "[LightGBM] [Info] This is the GPU trainer!!\n",
      "[LightGBM] [Info] Total Bins 7650\n",
      "[LightGBM] [Info] Number of data points in the train set: 982, number of used features: 30\n"
     ]
    },
    {
     "name": "stderr",
     "output_type": "stream",
     "text": [
      "c:\\Users\\FH-Deg\\.conda\\envs\\tf_c_gpu\\lib\\site-packages\\lightgbm\\basic.py:1192: UserWarning: Converting data to scipy sparse matrix.\n",
      "  _log_warning('Converting data to scipy sparse matrix.')\n"
     ]
    },
    {
     "name": "stdout",
     "output_type": "stream",
     "text": [
      "[LightGBM] [Info] Using GPU Device: Quadro RTX 4000, Vendor: NVIDIA Corporation\n",
      "[LightGBM] [Info] Compiling OpenCL Kernel with 256 bins...\n",
      "[LightGBM] [Info] GPU programs have been built\n",
      "[LightGBM] [Info] Size of histogram bin entry: 8\n",
      "[LightGBM] [Info] 30 dense feature groups (0.03 MB) transferred to GPU in 0.005591 secs. 0 sparse feature groups\n",
      "[LightGBM] [Info] Size of histogram bin entry: 8\n",
      "[LightGBM] [Info] 30 dense feature groups (0.02 MB) transferred to GPU in 0.010787 secs. 0 sparse feature groups\n",
      "threshold: 0.6800786501599263\n",
      "AUC-ROC: 0.9967487937074493\n",
      "Accuracy: 0.9502032520325203\n",
      "Precision: 0.9970805777368053\n",
      "Confusion Matrix:\n",
      "[[492   0]\n",
      " [ 49 443]]\n",
      "Recall: 0.9004065040650406\n",
      "F1 Score: 0.9475935828877006\n",
      "Epoch 250/300\n",
      "[LightGBM] [Info] Number of positive: 442, number of negative: 540\n",
      "[LightGBM] [Info] This is the GPU trainer!!\n",
      "[LightGBM] [Info] Total Bins 7650\n",
      "[LightGBM] [Info] Number of data points in the train set: 982, number of used features: 30\n"
     ]
    },
    {
     "name": "stderr",
     "output_type": "stream",
     "text": [
      "c:\\Users\\FH-Deg\\.conda\\envs\\tf_c_gpu\\lib\\site-packages\\lightgbm\\basic.py:1192: UserWarning: Converting data to scipy sparse matrix.\n",
      "  _log_warning('Converting data to scipy sparse matrix.')\n"
     ]
    },
    {
     "name": "stdout",
     "output_type": "stream",
     "text": [
      "[LightGBM] [Info] Using GPU Device: Quadro RTX 4000, Vendor: NVIDIA Corporation\n",
      "[LightGBM] [Info] Compiling OpenCL Kernel with 256 bins...\n",
      "[LightGBM] [Info] GPU programs have been built\n",
      "[LightGBM] [Info] Size of histogram bin entry: 8\n",
      "[LightGBM] [Info] 30 dense feature groups (0.03 MB) transferred to GPU in 0.004665 secs. 0 sparse feature groups\n",
      "[LightGBM] [Info] Size of histogram bin entry: 8\n",
      "[LightGBM] [Info] 30 dense feature groups (0.02 MB) transferred to GPU in 0.004444 secs. 0 sparse feature groups\n",
      "threshold: 0.6794011374014015\n",
      "AUC-ROC: 0.9967653182629388\n",
      "Accuracy: 0.9512195121951219\n",
      "Precision: 0.9970998989673947\n",
      "Confusion Matrix:\n",
      "[[492   0]\n",
      " [ 48 444]]\n",
      "Recall: 0.9024390243902439\n",
      "F1 Score: 0.9487179487179487\n",
      "Updating target policy...\n",
      "Epoch 251/300\n",
      "[LightGBM] [Info] Number of positive: 442, number of negative: 540\n",
      "[LightGBM] [Info] This is the GPU trainer!!\n",
      "[LightGBM] [Info] Total Bins 7650\n",
      "[LightGBM] [Info] Number of data points in the train set: 982, number of used features: 30\n"
     ]
    },
    {
     "name": "stderr",
     "output_type": "stream",
     "text": [
      "c:\\Users\\FH-Deg\\.conda\\envs\\tf_c_gpu\\lib\\site-packages\\lightgbm\\basic.py:1192: UserWarning: Converting data to scipy sparse matrix.\n",
      "  _log_warning('Converting data to scipy sparse matrix.')\n"
     ]
    },
    {
     "name": "stdout",
     "output_type": "stream",
     "text": [
      "[LightGBM] [Info] Using GPU Device: Quadro RTX 4000, Vendor: NVIDIA Corporation\n",
      "[LightGBM] [Info] Compiling OpenCL Kernel with 256 bins...\n",
      "[LightGBM] [Info] GPU programs have been built\n",
      "[LightGBM] [Info] Size of histogram bin entry: 8\n",
      "[LightGBM] [Info] 30 dense feature groups (0.03 MB) transferred to GPU in 0.004959 secs. 0 sparse feature groups\n",
      "[LightGBM] [Info] Size of histogram bin entry: 8\n",
      "[LightGBM] [Info] 30 dense feature groups (0.02 MB) transferred to GPU in 0.004456 secs. 0 sparse feature groups\n",
      "threshold: 0.6823628537772474\n",
      "AUC-ROC: 0.99680249851279\n",
      "Accuracy: 0.9491869918699187\n",
      "Precision: 0.9971284465637732\n",
      "Confusion Matrix:\n",
      "[[492   0]\n",
      " [ 50 442]]\n",
      "Recall: 0.8983739837398373\n",
      "F1 Score: 0.9464668094218416\n",
      "Epoch 252/300\n",
      "[LightGBM] [Info] Number of positive: 442, number of negative: 540\n",
      "[LightGBM] [Info] This is the GPU trainer!!\n",
      "[LightGBM] [Info] Total Bins 7650\n",
      "[LightGBM] [Info] Number of data points in the train set: 982, number of used features: 30\n"
     ]
    },
    {
     "name": "stderr",
     "output_type": "stream",
     "text": [
      "c:\\Users\\FH-Deg\\.conda\\envs\\tf_c_gpu\\lib\\site-packages\\lightgbm\\basic.py:1192: UserWarning: Converting data to scipy sparse matrix.\n",
      "  _log_warning('Converting data to scipy sparse matrix.')\n"
     ]
    },
    {
     "name": "stdout",
     "output_type": "stream",
     "text": [
      "[LightGBM] [Info] Using GPU Device: Quadro RTX 4000, Vendor: NVIDIA Corporation\n",
      "[LightGBM] [Info] Compiling OpenCL Kernel with 256 bins...\n",
      "[LightGBM] [Info] GPU programs have been built\n",
      "[LightGBM] [Info] Size of histogram bin entry: 8\n",
      "[LightGBM] [Info] 30 dense feature groups (0.03 MB) transferred to GPU in 0.012217 secs. 0 sparse feature groups\n",
      "[LightGBM] [Info] Size of histogram bin entry: 8\n",
      "[LightGBM] [Info] 30 dense feature groups (0.02 MB) transferred to GPU in 0.004686 secs. 0 sparse feature groups\n",
      "threshold: 0.6825770808121173\n",
      "AUC-ROC: 0.9968190230682794\n",
      "Accuracy: 0.9502032520325203\n",
      "Precision: 0.997143795415293\n",
      "Confusion Matrix:\n",
      "[[492   0]\n",
      " [ 49 443]]\n",
      "Recall: 0.9004065040650406\n",
      "F1 Score: 0.9475935828877006\n",
      "Epoch 253/300\n",
      "[LightGBM] [Info] Number of positive: 442, number of negative: 540\n",
      "[LightGBM] [Info] This is the GPU trainer!!\n",
      "[LightGBM] [Info] Total Bins 7650\n",
      "[LightGBM] [Info] Number of data points in the train set: 982, number of used features: 30\n"
     ]
    },
    {
     "name": "stderr",
     "output_type": "stream",
     "text": [
      "c:\\Users\\FH-Deg\\.conda\\envs\\tf_c_gpu\\lib\\site-packages\\lightgbm\\basic.py:1192: UserWarning: Converting data to scipy sparse matrix.\n",
      "  _log_warning('Converting data to scipy sparse matrix.')\n"
     ]
    },
    {
     "name": "stdout",
     "output_type": "stream",
     "text": [
      "[LightGBM] [Info] Using GPU Device: Quadro RTX 4000, Vendor: NVIDIA Corporation\n",
      "[LightGBM] [Info] Compiling OpenCL Kernel with 256 bins...\n",
      "[LightGBM] [Info] GPU programs have been built\n",
      "[LightGBM] [Info] Size of histogram bin entry: 8\n",
      "[LightGBM] [Info] 30 dense feature groups (0.03 MB) transferred to GPU in 0.004649 secs. 0 sparse feature groups\n",
      "[LightGBM] [Info] Size of histogram bin entry: 8\n",
      "[LightGBM] [Info] 30 dense feature groups (0.02 MB) transferred to GPU in 0.013201 secs. 0 sparse feature groups\n",
      "threshold: 0.68099448496273\n",
      "AUC-ROC: 0.9968231542071518\n",
      "Accuracy: 0.9502032520325203\n",
      "Precision: 0.9971509561339665\n",
      "Confusion Matrix:\n",
      "[[492   0]\n",
      " [ 49 443]]\n",
      "Recall: 0.9004065040650406\n",
      "F1 Score: 0.9475935828877006\n",
      "Updating target policy...\n",
      "Epoch 254/300\n",
      "[LightGBM] [Info] Number of positive: 442, number of negative: 540\n",
      "[LightGBM] [Info] This is the GPU trainer!!\n",
      "[LightGBM] [Info] Total Bins 7650\n",
      "[LightGBM] [Info] Number of data points in the train set: 982, number of used features: 30\n"
     ]
    },
    {
     "name": "stderr",
     "output_type": "stream",
     "text": [
      "c:\\Users\\FH-Deg\\.conda\\envs\\tf_c_gpu\\lib\\site-packages\\lightgbm\\basic.py:1192: UserWarning: Converting data to scipy sparse matrix.\n",
      "  _log_warning('Converting data to scipy sparse matrix.')\n"
     ]
    },
    {
     "name": "stdout",
     "output_type": "stream",
     "text": [
      "[LightGBM] [Info] Using GPU Device: Quadro RTX 4000, Vendor: NVIDIA Corporation\n",
      "[LightGBM] [Info] Compiling OpenCL Kernel with 256 bins...\n",
      "[LightGBM] [Info] GPU programs have been built\n",
      "[LightGBM] [Info] Size of histogram bin entry: 8\n",
      "[LightGBM] [Info] 30 dense feature groups (0.03 MB) transferred to GPU in 0.033278 secs. 0 sparse feature groups\n",
      "[LightGBM] [Info] Size of histogram bin entry: 8\n",
      "[LightGBM] [Info] 30 dense feature groups (0.02 MB) transferred to GPU in 0.004576 secs. 0 sparse feature groups\n",
      "threshold: 0.6821286853494082\n",
      "AUC-ROC: 0.9968562033181307\n",
      "Accuracy: 0.9502032520325203\n",
      "Precision: 0.9971816488679869\n",
      "Confusion Matrix:\n",
      "[[492   0]\n",
      " [ 49 443]]\n",
      "Recall: 0.9004065040650406\n",
      "F1 Score: 0.9475935828877006\n",
      "Epoch 255/300\n",
      "[LightGBM] [Info] Number of positive: 442, number of negative: 540\n",
      "[LightGBM] [Info] This is the GPU trainer!!\n",
      "[LightGBM] [Info] Total Bins 7650\n",
      "[LightGBM] [Info] Number of data points in the train set: 982, number of used features: 30\n"
     ]
    },
    {
     "name": "stderr",
     "output_type": "stream",
     "text": [
      "c:\\Users\\FH-Deg\\.conda\\envs\\tf_c_gpu\\lib\\site-packages\\lightgbm\\basic.py:1192: UserWarning: Converting data to scipy sparse matrix.\n",
      "  _log_warning('Converting data to scipy sparse matrix.')\n"
     ]
    },
    {
     "name": "stdout",
     "output_type": "stream",
     "text": [
      "[LightGBM] [Info] Using GPU Device: Quadro RTX 4000, Vendor: NVIDIA Corporation\n",
      "[LightGBM] [Info] Compiling OpenCL Kernel with 256 bins...\n",
      "[LightGBM] [Info] GPU programs have been built\n",
      "[LightGBM] [Info] Size of histogram bin entry: 8\n",
      "[LightGBM] [Info] 30 dense feature groups (0.03 MB) transferred to GPU in 0.012285 secs. 0 sparse feature groups\n",
      "[LightGBM] [Info] Size of histogram bin entry: 8\n",
      "[LightGBM] [Info] 30 dense feature groups (0.02 MB) transferred to GPU in 0.004384 secs. 0 sparse feature groups\n",
      "threshold: 0.6822928348777605\n",
      "AUC-ROC: 0.9968438099015136\n",
      "Accuracy: 0.9502032520325203\n",
      "Precision: 0.997170186250031\n",
      "Confusion Matrix:\n",
      "[[492   0]\n",
      " [ 49 443]]\n",
      "Recall: 0.9004065040650406\n",
      "F1 Score: 0.9475935828877006\n",
      "Epoch 256/300\n",
      "[LightGBM] [Info] Number of positive: 442, number of negative: 540\n",
      "[LightGBM] [Info] This is the GPU trainer!!\n",
      "[LightGBM] [Info] Total Bins 7650\n",
      "[LightGBM] [Info] Number of data points in the train set: 982, number of used features: 30\n"
     ]
    },
    {
     "name": "stderr",
     "output_type": "stream",
     "text": [
      "c:\\Users\\FH-Deg\\.conda\\envs\\tf_c_gpu\\lib\\site-packages\\lightgbm\\basic.py:1192: UserWarning: Converting data to scipy sparse matrix.\n",
      "  _log_warning('Converting data to scipy sparse matrix.')\n"
     ]
    },
    {
     "name": "stdout",
     "output_type": "stream",
     "text": [
      "[LightGBM] [Info] Using GPU Device: Quadro RTX 4000, Vendor: NVIDIA Corporation\n",
      "[LightGBM] [Info] Compiling OpenCL Kernel with 256 bins...\n",
      "[LightGBM] [Info] GPU programs have been built\n",
      "[LightGBM] [Info] Size of histogram bin entry: 8\n",
      "[LightGBM] [Info] 30 dense feature groups (0.03 MB) transferred to GPU in 0.012483 secs. 0 sparse feature groups\n",
      "[LightGBM] [Info] Size of histogram bin entry: 8\n",
      "[LightGBM] [Info] 30 dense feature groups (0.02 MB) transferred to GPU in 0.004377 secs. 0 sparse feature groups\n",
      "threshold: 0.6824805233867649\n",
      "AUC-ROC: 0.9968892524291096\n",
      "Accuracy: 0.9512195121951219\n",
      "Precision: 0.9972127909118815\n",
      "Confusion Matrix:\n",
      "[[492   0]\n",
      " [ 48 444]]\n",
      "Recall: 0.9024390243902439\n",
      "F1 Score: 0.9487179487179487\n",
      "Updating target policy...\n",
      "Epoch 257/300\n",
      "[LightGBM] [Info] Number of positive: 442, number of negative: 540\n",
      "[LightGBM] [Info] This is the GPU trainer!!\n",
      "[LightGBM] [Info] Total Bins 7650\n",
      "[LightGBM] [Info] Number of data points in the train set: 982, number of used features: 30\n"
     ]
    },
    {
     "name": "stderr",
     "output_type": "stream",
     "text": [
      "c:\\Users\\FH-Deg\\.conda\\envs\\tf_c_gpu\\lib\\site-packages\\lightgbm\\basic.py:1192: UserWarning: Converting data to scipy sparse matrix.\n",
      "  _log_warning('Converting data to scipy sparse matrix.')\n"
     ]
    },
    {
     "name": "stdout",
     "output_type": "stream",
     "text": [
      "[LightGBM] [Info] Using GPU Device: Quadro RTX 4000, Vendor: NVIDIA Corporation\n",
      "[LightGBM] [Info] Compiling OpenCL Kernel with 256 bins...\n",
      "[LightGBM] [Info] GPU programs have been built\n",
      "[LightGBM] [Info] Size of histogram bin entry: 8\n",
      "[LightGBM] [Info] 30 dense feature groups (0.03 MB) transferred to GPU in 0.029269 secs. 0 sparse feature groups\n",
      "[LightGBM] [Info] Size of histogram bin entry: 8\n",
      "[LightGBM] [Info] 30 dense feature groups (0.02 MB) transferred to GPU in 0.009651 secs. 0 sparse feature groups\n",
      "threshold: 0.6817943640558379\n",
      "AUC-ROC: 0.9968975147068544\n",
      "Accuracy: 0.9522357723577236\n",
      "Precision: 0.9972233773475754\n",
      "Confusion Matrix:\n",
      "[[492   0]\n",
      " [ 47 445]]\n",
      "Recall: 0.9044715447154471\n",
      "F1 Score: 0.9498399146211313\n",
      "Epoch 258/300\n",
      "[LightGBM] [Info] Number of positive: 442, number of negative: 540\n",
      "[LightGBM] [Info] This is the GPU trainer!!\n",
      "[LightGBM] [Info] Total Bins 7650\n",
      "[LightGBM] [Info] Number of data points in the train set: 982, number of used features: 30\n"
     ]
    },
    {
     "name": "stderr",
     "output_type": "stream",
     "text": [
      "c:\\Users\\FH-Deg\\.conda\\envs\\tf_c_gpu\\lib\\site-packages\\lightgbm\\basic.py:1192: UserWarning: Converting data to scipy sparse matrix.\n",
      "  _log_warning('Converting data to scipy sparse matrix.')\n"
     ]
    },
    {
     "name": "stdout",
     "output_type": "stream",
     "text": [
      "[LightGBM] [Info] Using GPU Device: Quadro RTX 4000, Vendor: NVIDIA Corporation\n",
      "[LightGBM] [Info] Compiling OpenCL Kernel with 256 bins...\n",
      "[LightGBM] [Info] GPU programs have been built\n",
      "[LightGBM] [Info] Size of histogram bin entry: 8\n",
      "[LightGBM] [Info] 30 dense feature groups (0.03 MB) transferred to GPU in 0.004760 secs. 0 sparse feature groups\n",
      "[LightGBM] [Info] Size of histogram bin entry: 8\n",
      "[LightGBM] [Info] 30 dense feature groups (0.02 MB) transferred to GPU in 0.004239 secs. 0 sparse feature groups\n",
      "threshold: 0.6865928107285164\n",
      "AUC-ROC: 0.9969346949567057\n",
      "Accuracy: 0.9502032520325203\n",
      "Precision: 0.9972494317663896\n",
      "Confusion Matrix:\n",
      "[[492   0]\n",
      " [ 49 443]]\n",
      "Recall: 0.9004065040650406\n",
      "F1 Score: 0.9475935828877006\n",
      "Epoch 259/300\n",
      "[LightGBM] [Info] Number of positive: 442, number of negative: 540\n",
      "[LightGBM] [Info] This is the GPU trainer!!\n",
      "[LightGBM] [Info] Total Bins 7650\n",
      "[LightGBM] [Info] Number of data points in the train set: 982, number of used features: 30\n"
     ]
    },
    {
     "name": "stderr",
     "output_type": "stream",
     "text": [
      "c:\\Users\\FH-Deg\\.conda\\envs\\tf_c_gpu\\lib\\site-packages\\lightgbm\\basic.py:1192: UserWarning: Converting data to scipy sparse matrix.\n",
      "  _log_warning('Converting data to scipy sparse matrix.')\n"
     ]
    },
    {
     "name": "stdout",
     "output_type": "stream",
     "text": [
      "[LightGBM] [Info] Using GPU Device: Quadro RTX 4000, Vendor: NVIDIA Corporation\n",
      "[LightGBM] [Info] Compiling OpenCL Kernel with 256 bins...\n",
      "[LightGBM] [Info] GPU programs have been built\n",
      "[LightGBM] [Info] Size of histogram bin entry: 8\n",
      "[LightGBM] [Info] 30 dense feature groups (0.03 MB) transferred to GPU in 0.004737 secs. 0 sparse feature groups\n",
      "[LightGBM] [Info] Size of histogram bin entry: 8\n",
      "[LightGBM] [Info] 30 dense feature groups (0.02 MB) transferred to GPU in 0.004326 secs. 0 sparse feature groups\n",
      "threshold: 0.6867847429835108\n",
      "AUC-ROC: 0.9969553506510676\n",
      "Accuracy: 0.9512195121951219\n",
      "Precision: 0.9972696686066382\n",
      "Confusion Matrix:\n",
      "[[492   0]\n",
      " [ 48 444]]\n",
      "Recall: 0.9024390243902439\n",
      "F1 Score: 0.9487179487179487\n",
      "Updating target policy...\n",
      "Epoch 260/300\n",
      "[LightGBM] [Info] Number of positive: 442, number of negative: 540\n",
      "[LightGBM] [Info] This is the GPU trainer!!\n",
      "[LightGBM] [Info] Total Bins 7650\n",
      "[LightGBM] [Info] Number of data points in the train set: 982, number of used features: 30\n"
     ]
    },
    {
     "name": "stderr",
     "output_type": "stream",
     "text": [
      "c:\\Users\\FH-Deg\\.conda\\envs\\tf_c_gpu\\lib\\site-packages\\lightgbm\\basic.py:1192: UserWarning: Converting data to scipy sparse matrix.\n",
      "  _log_warning('Converting data to scipy sparse matrix.')\n"
     ]
    },
    {
     "name": "stdout",
     "output_type": "stream",
     "text": [
      "[LightGBM] [Info] Using GPU Device: Quadro RTX 4000, Vendor: NVIDIA Corporation\n",
      "[LightGBM] [Info] Compiling OpenCL Kernel with 256 bins...\n",
      "[LightGBM] [Info] GPU programs have been built\n",
      "[LightGBM] [Info] Size of histogram bin entry: 8\n",
      "[LightGBM] [Info] 30 dense feature groups (0.03 MB) transferred to GPU in 0.006559 secs. 0 sparse feature groups\n",
      "[LightGBM] [Info] Size of histogram bin entry: 8\n",
      "[LightGBM] [Info] 30 dense feature groups (0.02 MB) transferred to GPU in 0.004319 secs. 0 sparse feature groups\n",
      "threshold: 0.6860242020824179\n",
      "AUC-ROC: 0.9969553506510674\n",
      "Accuracy: 0.9512195121951219\n",
      "Precision: 0.997273681262976\n",
      "Confusion Matrix:\n",
      "[[492   0]\n",
      " [ 48 444]]\n",
      "Recall: 0.9024390243902439\n",
      "F1 Score: 0.9487179487179487\n",
      "Epoch 261/300\n",
      "[LightGBM] [Info] Number of positive: 442, number of negative: 540\n",
      "[LightGBM] [Info] This is the GPU trainer!!\n",
      "[LightGBM] [Info] Total Bins 7650\n",
      "[LightGBM] [Info] Number of data points in the train set: 982, number of used features: 30\n"
     ]
    },
    {
     "name": "stderr",
     "output_type": "stream",
     "text": [
      "c:\\Users\\FH-Deg\\.conda\\envs\\tf_c_gpu\\lib\\site-packages\\lightgbm\\basic.py:1192: UserWarning: Converting data to scipy sparse matrix.\n",
      "  _log_warning('Converting data to scipy sparse matrix.')\n"
     ]
    },
    {
     "name": "stdout",
     "output_type": "stream",
     "text": [
      "[LightGBM] [Info] Using GPU Device: Quadro RTX 4000, Vendor: NVIDIA Corporation\n",
      "[LightGBM] [Info] Compiling OpenCL Kernel with 256 bins...\n",
      "[LightGBM] [Info] GPU programs have been built\n",
      "[LightGBM] [Info] Size of histogram bin entry: 8\n",
      "[LightGBM] [Info] 30 dense feature groups (0.03 MB) transferred to GPU in 0.004758 secs. 0 sparse feature groups\n",
      "[LightGBM] [Info] Size of histogram bin entry: 8\n",
      "[LightGBM] [Info] 30 dense feature groups (0.02 MB) transferred to GPU in 0.009613 secs. 0 sparse feature groups\n",
      "threshold: 0.6862769000870511\n",
      "AUC-ROC: 0.9969636129288122\n",
      "Accuracy: 0.9512195121951219\n",
      "Precision: 0.9972842697141189\n",
      "Confusion Matrix:\n",
      "[[492   0]\n",
      " [ 48 444]]\n",
      "Recall: 0.9024390243902439\n",
      "F1 Score: 0.9487179487179487\n",
      "Epoch 262/300\n",
      "[LightGBM] [Info] Number of positive: 442, number of negative: 540\n",
      "[LightGBM] [Info] This is the GPU trainer!!\n",
      "[LightGBM] [Info] Total Bins 7650\n",
      "[LightGBM] [Info] Number of data points in the train set: 982, number of used features: 30\n",
      "[LightGBM] [Info] Using GPU Device: Quadro RTX 4000, Vendor: NVIDIA Corporation\n",
      "[LightGBM] [Info] Compiling OpenCL Kernel with 256 bins...\n"
     ]
    },
    {
     "name": "stderr",
     "output_type": "stream",
     "text": [
      "c:\\Users\\FH-Deg\\.conda\\envs\\tf_c_gpu\\lib\\site-packages\\lightgbm\\basic.py:1192: UserWarning: Converting data to scipy sparse matrix.\n",
      "  _log_warning('Converting data to scipy sparse matrix.')\n"
     ]
    },
    {
     "name": "stdout",
     "output_type": "stream",
     "text": [
      "[LightGBM] [Info] GPU programs have been built\n",
      "[LightGBM] [Info] Size of histogram bin entry: 8\n",
      "[LightGBM] [Info] 30 dense feature groups (0.03 MB) transferred to GPU in 0.004970 secs. 0 sparse feature groups\n",
      "[LightGBM] [Info] Size of histogram bin entry: 8\n",
      "[LightGBM] [Info] 30 dense feature groups (0.02 MB) transferred to GPU in 0.004829 secs. 0 sparse feature groups\n",
      "threshold: 0.6864604839793053\n",
      "AUC-ROC: 0.9969594817899398\n",
      "Accuracy: 0.9522357723577236\n",
      "Precision: 0.9972823502635275\n",
      "Confusion Matrix:\n",
      "[[492   0]\n",
      " [ 47 445]]\n",
      "Recall: 0.9044715447154471\n",
      "F1 Score: 0.9498399146211313\n",
      "Updating target policy...\n",
      "Epoch 263/300\n",
      "[LightGBM] [Info] Number of positive: 442, number of negative: 540\n",
      "[LightGBM] [Info] This is the GPU trainer!!\n",
      "[LightGBM] [Info] Total Bins 7650\n",
      "[LightGBM] [Info] Number of data points in the train set: 982, number of used features: 30\n"
     ]
    },
    {
     "name": "stderr",
     "output_type": "stream",
     "text": [
      "c:\\Users\\FH-Deg\\.conda\\envs\\tf_c_gpu\\lib\\site-packages\\lightgbm\\basic.py:1192: UserWarning: Converting data to scipy sparse matrix.\n",
      "  _log_warning('Converting data to scipy sparse matrix.')\n"
     ]
    },
    {
     "name": "stdout",
     "output_type": "stream",
     "text": [
      "[LightGBM] [Info] Using GPU Device: Quadro RTX 4000, Vendor: NVIDIA Corporation\n",
      "[LightGBM] [Info] Compiling OpenCL Kernel with 256 bins...\n",
      "[LightGBM] [Info] GPU programs have been built\n",
      "[LightGBM] [Info] Size of histogram bin entry: 8\n",
      "[LightGBM] [Info] 30 dense feature groups (0.03 MB) transferred to GPU in 0.004996 secs. 0 sparse feature groups\n",
      "[LightGBM] [Info] Size of histogram bin entry: 8\n",
      "[LightGBM] [Info] 30 dense feature groups (0.02 MB) transferred to GPU in 0.005054 secs. 0 sparse feature groups\n",
      "threshold: 0.6875670821886958\n",
      "AUC-ROC: 0.9970007931786635\n",
      "Accuracy: 0.9522357723577236\n",
      "Precision: 0.9973191918136971\n",
      "Confusion Matrix:\n",
      "[[492   0]\n",
      " [ 47 445]]\n",
      "Recall: 0.9044715447154471\n",
      "F1 Score: 0.9498399146211313\n",
      "Epoch 264/300\n",
      "[LightGBM] [Info] Number of positive: 442, number of negative: 540\n",
      "[LightGBM] [Info] This is the GPU trainer!!\n",
      "[LightGBM] [Info] Total Bins 7650\n",
      "[LightGBM] [Info] Number of data points in the train set: 982, number of used features: 30\n"
     ]
    },
    {
     "name": "stderr",
     "output_type": "stream",
     "text": [
      "c:\\Users\\FH-Deg\\.conda\\envs\\tf_c_gpu\\lib\\site-packages\\lightgbm\\basic.py:1192: UserWarning: Converting data to scipy sparse matrix.\n",
      "  _log_warning('Converting data to scipy sparse matrix.')\n"
     ]
    },
    {
     "name": "stdout",
     "output_type": "stream",
     "text": [
      "[LightGBM] [Info] Using GPU Device: Quadro RTX 4000, Vendor: NVIDIA Corporation\n",
      "[LightGBM] [Info] Compiling OpenCL Kernel with 256 bins...\n",
      "[LightGBM] [Info] GPU programs have been built\n",
      "[LightGBM] [Info] Size of histogram bin entry: 8\n",
      "[LightGBM] [Info] 30 dense feature groups (0.03 MB) transferred to GPU in 0.004955 secs. 0 sparse feature groups\n",
      "[LightGBM] [Info] Size of histogram bin entry: 8\n",
      "[LightGBM] [Info] 30 dense feature groups (0.02 MB) transferred to GPU in 0.008662 secs. 0 sparse feature groups\n",
      "threshold: 0.6914540722369992\n",
      "AUC-ROC: 0.9970255800118977\n",
      "Accuracy: 0.9512195121951219\n",
      "Precision: 0.9973364681233889\n",
      "Confusion Matrix:\n",
      "[[492   0]\n",
      " [ 48 444]]\n",
      "Recall: 0.9024390243902439\n",
      "F1 Score: 0.9487179487179487\n",
      "Epoch 265/300\n",
      "[LightGBM] [Info] Number of positive: 442, number of negative: 540\n",
      "[LightGBM] [Info] This is the GPU trainer!!\n",
      "[LightGBM] [Info] Total Bins 7650\n",
      "[LightGBM] [Info] Number of data points in the train set: 982, number of used features: 30\n"
     ]
    },
    {
     "name": "stderr",
     "output_type": "stream",
     "text": [
      "c:\\Users\\FH-Deg\\.conda\\envs\\tf_c_gpu\\lib\\site-packages\\lightgbm\\basic.py:1192: UserWarning: Converting data to scipy sparse matrix.\n",
      "  _log_warning('Converting data to scipy sparse matrix.')\n"
     ]
    },
    {
     "name": "stdout",
     "output_type": "stream",
     "text": [
      "[LightGBM] [Info] Using GPU Device: Quadro RTX 4000, Vendor: NVIDIA Corporation\n",
      "[LightGBM] [Info] Compiling OpenCL Kernel with 256 bins...\n",
      "[LightGBM] [Info] GPU programs have been built\n",
      "[LightGBM] [Info] Size of histogram bin entry: 8\n",
      "[LightGBM] [Info] 30 dense feature groups (0.03 MB) transferred to GPU in 0.004757 secs. 0 sparse feature groups\n",
      "[LightGBM] [Info] Size of histogram bin entry: 8\n",
      "[LightGBM] [Info] 30 dense feature groups (0.02 MB) transferred to GPU in 0.015289 secs. 0 sparse feature groups\n",
      "threshold: 0.6898382242236599\n",
      "AUC-ROC: 0.9970379734285147\n",
      "Accuracy: 0.9522357723577236\n",
      "Precision: 0.9973515601573434\n",
      "Confusion Matrix:\n",
      "[[492   0]\n",
      " [ 47 445]]\n",
      "Recall: 0.9044715447154471\n",
      "F1 Score: 0.9498399146211313\n",
      "Updating target policy...\n",
      "Epoch 266/300\n",
      "[LightGBM] [Info] Number of positive: 442, number of negative: 540\n",
      "[LightGBM] [Info] This is the GPU trainer!!\n",
      "[LightGBM] [Info] Total Bins 7650\n",
      "[LightGBM] [Info] Number of data points in the train set: 982, number of used features: 30\n"
     ]
    },
    {
     "name": "stderr",
     "output_type": "stream",
     "text": [
      "c:\\Users\\FH-Deg\\.conda\\envs\\tf_c_gpu\\lib\\site-packages\\lightgbm\\basic.py:1192: UserWarning: Converting data to scipy sparse matrix.\n",
      "  _log_warning('Converting data to scipy sparse matrix.')\n"
     ]
    },
    {
     "name": "stdout",
     "output_type": "stream",
     "text": [
      "[LightGBM] [Info] Using GPU Device: Quadro RTX 4000, Vendor: NVIDIA Corporation\n",
      "[LightGBM] [Info] Compiling OpenCL Kernel with 256 bins...\n",
      "[LightGBM] [Info] GPU programs have been built\n",
      "[LightGBM] [Info] Size of histogram bin entry: 8\n",
      "[LightGBM] [Info] 30 dense feature groups (0.03 MB) transferred to GPU in 0.004802 secs. 0 sparse feature groups\n",
      "[LightGBM] [Info] Size of histogram bin entry: 8\n",
      "[LightGBM] [Info] 30 dense feature groups (0.02 MB) transferred to GPU in 0.015083 secs. 0 sparse feature groups\n",
      "threshold: 0.6900461689750764\n",
      "AUC-ROC: 0.9970379734285147\n",
      "Accuracy: 0.9522357723577236\n",
      "Precision: 0.9973501287403334\n",
      "Confusion Matrix:\n",
      "[[492   0]\n",
      " [ 47 445]]\n",
      "Recall: 0.9044715447154471\n",
      "F1 Score: 0.9498399146211313\n",
      "Epoch 267/300\n",
      "[LightGBM] [Info] Number of positive: 442, number of negative: 540\n",
      "[LightGBM] [Info] This is the GPU trainer!!\n",
      "[LightGBM] [Info] Total Bins 7650\n",
      "[LightGBM] [Info] Number of data points in the train set: 982, number of used features: 30\n"
     ]
    },
    {
     "name": "stderr",
     "output_type": "stream",
     "text": [
      "c:\\Users\\FH-Deg\\.conda\\envs\\tf_c_gpu\\lib\\site-packages\\lightgbm\\basic.py:1192: UserWarning: Converting data to scipy sparse matrix.\n",
      "  _log_warning('Converting data to scipy sparse matrix.')\n"
     ]
    },
    {
     "name": "stdout",
     "output_type": "stream",
     "text": [
      "[LightGBM] [Info] Using GPU Device: Quadro RTX 4000, Vendor: NVIDIA Corporation\n",
      "[LightGBM] [Info] Compiling OpenCL Kernel with 256 bins...\n",
      "[LightGBM] [Info] GPU programs have been built\n",
      "[LightGBM] [Info] Size of histogram bin entry: 8\n",
      "[LightGBM] [Info] 30 dense feature groups (0.03 MB) transferred to GPU in 0.045246 secs. 0 sparse feature groups\n",
      "[LightGBM] [Info] Size of histogram bin entry: 8\n",
      "[LightGBM] [Info] 30 dense feature groups (0.02 MB) transferred to GPU in 0.004262 secs. 0 sparse feature groups\n",
      "threshold: 0.6902070559229695\n",
      "AUC-ROC: 0.9970668914006213\n",
      "Accuracy: 0.9522357723577236\n",
      "Precision: 0.9973770942800263\n",
      "Confusion Matrix:\n",
      "[[492   0]\n",
      " [ 47 445]]\n",
      "Recall: 0.9044715447154471\n",
      "F1 Score: 0.9498399146211313\n",
      "Epoch 268/300\n",
      "[LightGBM] [Info] Number of positive: 442, number of negative: 540\n",
      "[LightGBM] [Info] This is the GPU trainer!!\n",
      "[LightGBM] [Info] Total Bins 7650\n",
      "[LightGBM] [Info] Number of data points in the train set: 982, number of used features: 30\n",
      "[LightGBM] [Info] Using GPU Device: Quadro RTX 4000, Vendor: NVIDIA Corporation\n",
      "[LightGBM] [Info] Compiling OpenCL Kernel with 256 bins...\n"
     ]
    },
    {
     "name": "stderr",
     "output_type": "stream",
     "text": [
      "c:\\Users\\FH-Deg\\.conda\\envs\\tf_c_gpu\\lib\\site-packages\\lightgbm\\basic.py:1192: UserWarning: Converting data to scipy sparse matrix.\n",
      "  _log_warning('Converting data to scipy sparse matrix.')\n"
     ]
    },
    {
     "name": "stdout",
     "output_type": "stream",
     "text": [
      "[LightGBM] [Info] GPU programs have been built\n",
      "[LightGBM] [Info] Size of histogram bin entry: 8\n",
      "[LightGBM] [Info] 30 dense feature groups (0.03 MB) transferred to GPU in 0.004880 secs. 0 sparse feature groups\n",
      "[LightGBM] [Info] Size of histogram bin entry: 8\n",
      "[LightGBM] [Info] 30 dense feature groups (0.02 MB) transferred to GPU in 0.040805 secs. 0 sparse feature groups\n",
      "threshold: 0.691388726001933\n",
      "AUC-ROC: 0.9970834159561108\n",
      "Accuracy: 0.9522357723577236\n",
      "Precision: 0.9973907908657265\n",
      "Confusion Matrix:\n",
      "[[492   0]\n",
      " [ 47 445]]\n",
      "Recall: 0.9044715447154471\n",
      "F1 Score: 0.9498399146211313\n",
      "Updating target policy...\n",
      "Epoch 269/300\n",
      "[LightGBM] [Info] Number of positive: 442, number of negative: 540\n",
      "[LightGBM] [Info] This is the GPU trainer!!\n",
      "[LightGBM] [Info] Total Bins 7650\n",
      "[LightGBM] [Info] Number of data points in the train set: 982, number of used features: 30\n"
     ]
    },
    {
     "name": "stderr",
     "output_type": "stream",
     "text": [
      "c:\\Users\\FH-Deg\\.conda\\envs\\tf_c_gpu\\lib\\site-packages\\lightgbm\\basic.py:1192: UserWarning: Converting data to scipy sparse matrix.\n",
      "  _log_warning('Converting data to scipy sparse matrix.')\n"
     ]
    },
    {
     "name": "stdout",
     "output_type": "stream",
     "text": [
      "[LightGBM] [Info] Using GPU Device: Quadro RTX 4000, Vendor: NVIDIA Corporation\n",
      "[LightGBM] [Info] Compiling OpenCL Kernel with 256 bins...\n",
      "[LightGBM] [Info] GPU programs have been built\n",
      "[LightGBM] [Info] Size of histogram bin entry: 8\n",
      "[LightGBM] [Info] 30 dense feature groups (0.03 MB) transferred to GPU in 0.004310 secs. 0 sparse feature groups\n",
      "[LightGBM] [Info] Size of histogram bin entry: 8\n",
      "[LightGBM] [Info] 30 dense feature groups (0.02 MB) transferred to GPU in 0.004481 secs. 0 sparse feature groups\n",
      "threshold: 0.6953729740412582\n",
      "AUC-ROC: 0.9970958093727279\n",
      "Accuracy: 0.9502032520325203\n",
      "Precision: 0.9973958098521087\n",
      "Confusion Matrix:\n",
      "[[492   0]\n",
      " [ 49 443]]\n",
      "Recall: 0.9004065040650406\n",
      "F1 Score: 0.9475935828877006\n",
      "Epoch 270/300\n",
      "[LightGBM] [Info] Number of positive: 442, number of negative: 540\n",
      "[LightGBM] [Info] This is the GPU trainer!!\n",
      "[LightGBM] [Info] Total Bins 7650\n",
      "[LightGBM] [Info] Number of data points in the train set: 982, number of used features: 30\n",
      "[LightGBM] [Info] Using GPU Device: Quadro RTX 4000, Vendor: NVIDIA Corporation\n",
      "[LightGBM] [Info] Compiling OpenCL Kernel with 256 bins...\n"
     ]
    },
    {
     "name": "stderr",
     "output_type": "stream",
     "text": [
      "c:\\Users\\FH-Deg\\.conda\\envs\\tf_c_gpu\\lib\\site-packages\\lightgbm\\basic.py:1192: UserWarning: Converting data to scipy sparse matrix.\n",
      "  _log_warning('Converting data to scipy sparse matrix.')\n"
     ]
    },
    {
     "name": "stdout",
     "output_type": "stream",
     "text": [
      "[LightGBM] [Info] GPU programs have been built\n",
      "[LightGBM] [Info] Size of histogram bin entry: 8\n",
      "[LightGBM] [Info] 30 dense feature groups (0.03 MB) transferred to GPU in 0.008784 secs. 0 sparse feature groups\n",
      "[LightGBM] [Info] Size of histogram bin entry: 8\n",
      "[LightGBM] [Info] 30 dense feature groups (0.02 MB) transferred to GPU in 0.033542 secs. 0 sparse feature groups\n",
      "threshold: 0.6964947448165061\n",
      "AUC-ROC: 0.997108202789345\n",
      "Accuracy: 0.9512195121951219\n",
      "Precision: 0.9974055552486294\n",
      "Confusion Matrix:\n",
      "[[492   0]\n",
      " [ 48 444]]\n",
      "Recall: 0.9024390243902439\n",
      "F1 Score: 0.9487179487179487\n",
      "Epoch 271/300\n",
      "[LightGBM] [Info] Number of positive: 442, number of negative: 540\n",
      "[LightGBM] [Info] This is the GPU trainer!!\n",
      "[LightGBM] [Info] Total Bins 7650\n",
      "[LightGBM] [Info] Number of data points in the train set: 982, number of used features: 30\n"
     ]
    },
    {
     "name": "stderr",
     "output_type": "stream",
     "text": [
      "c:\\Users\\FH-Deg\\.conda\\envs\\tf_c_gpu\\lib\\site-packages\\lightgbm\\basic.py:1192: UserWarning: Converting data to scipy sparse matrix.\n",
      "  _log_warning('Converting data to scipy sparse matrix.')\n"
     ]
    },
    {
     "name": "stdout",
     "output_type": "stream",
     "text": [
      "[LightGBM] [Info] Using GPU Device: Quadro RTX 4000, Vendor: NVIDIA Corporation\n",
      "[LightGBM] [Info] Compiling OpenCL Kernel with 256 bins...\n",
      "[LightGBM] [Info] GPU programs have been built\n",
      "[LightGBM] [Info] Size of histogram bin entry: 8\n",
      "[LightGBM] [Info] 30 dense feature groups (0.03 MB) transferred to GPU in 0.004761 secs. 0 sparse feature groups\n",
      "[LightGBM] [Info] Size of histogram bin entry: 8\n",
      "[LightGBM] [Info] 30 dense feature groups (0.02 MB) transferred to GPU in 0.013087 secs. 0 sparse feature groups\n",
      "threshold: 0.6976138561661134\n",
      "AUC-ROC: 0.9971329896225791\n",
      "Accuracy: 0.9512195121951219\n",
      "Precision: 0.997428684828622\n",
      "Confusion Matrix:\n",
      "[[492   0]\n",
      " [ 48 444]]\n",
      "Recall: 0.9024390243902439\n",
      "F1 Score: 0.9487179487179487\n",
      "Updating target policy...\n",
      "Epoch 272/300\n",
      "[LightGBM] [Info] Number of positive: 442, number of negative: 540\n",
      "[LightGBM] [Info] This is the GPU trainer!!\n",
      "[LightGBM] [Info] Total Bins 7650\n",
      "[LightGBM] [Info] Number of data points in the train set: 982, number of used features: 30\n"
     ]
    },
    {
     "name": "stderr",
     "output_type": "stream",
     "text": [
      "c:\\Users\\FH-Deg\\.conda\\envs\\tf_c_gpu\\lib\\site-packages\\lightgbm\\basic.py:1192: UserWarning: Converting data to scipy sparse matrix.\n",
      "  _log_warning('Converting data to scipy sparse matrix.')\n"
     ]
    },
    {
     "name": "stdout",
     "output_type": "stream",
     "text": [
      "[LightGBM] [Info] Using GPU Device: Quadro RTX 4000, Vendor: NVIDIA Corporation\n",
      "[LightGBM] [Info] Compiling OpenCL Kernel with 256 bins...\n",
      "[LightGBM] [Info] GPU programs have been built\n",
      "[LightGBM] [Info] Size of histogram bin entry: 8\n",
      "[LightGBM] [Info] 30 dense feature groups (0.03 MB) transferred to GPU in 0.004456 secs. 0 sparse feature groups\n",
      "[LightGBM] [Info] Size of histogram bin entry: 8\n",
      "[LightGBM] [Info] 30 dense feature groups (0.02 MB) transferred to GPU in 0.004362 secs. 0 sparse feature groups\n",
      "threshold: 0.6977992646181862\n",
      "AUC-ROC: 0.9971371207614514\n",
      "Accuracy: 0.9522357723577236\n",
      "Precision: 0.9974330638860098\n",
      "Confusion Matrix:\n",
      "[[492   0]\n",
      " [ 47 445]]\n",
      "Recall: 0.9044715447154471\n",
      "F1 Score: 0.9498399146211313\n",
      "Epoch 273/300\n",
      "[LightGBM] [Info] Number of positive: 442, number of negative: 540\n",
      "[LightGBM] [Info] This is the GPU trainer!!\n",
      "[LightGBM] [Info] Total Bins 7650\n",
      "[LightGBM] [Info] Number of data points in the train set: 982, number of used features: 30\n"
     ]
    },
    {
     "name": "stderr",
     "output_type": "stream",
     "text": [
      "c:\\Users\\FH-Deg\\.conda\\envs\\tf_c_gpu\\lib\\site-packages\\lightgbm\\basic.py:1192: UserWarning: Converting data to scipy sparse matrix.\n",
      "  _log_warning('Converting data to scipy sparse matrix.')\n"
     ]
    },
    {
     "name": "stdout",
     "output_type": "stream",
     "text": [
      "[LightGBM] [Info] Using GPU Device: Quadro RTX 4000, Vendor: NVIDIA Corporation\n",
      "[LightGBM] [Info] Compiling OpenCL Kernel with 256 bins...\n",
      "[LightGBM] [Info] GPU programs have been built\n",
      "[LightGBM] [Info] Size of histogram bin entry: 8\n",
      "[LightGBM] [Info] 30 dense feature groups (0.03 MB) transferred to GPU in 0.014235 secs. 0 sparse feature groups\n",
      "[LightGBM] [Info] Size of histogram bin entry: 8\n",
      "[LightGBM] [Info] 30 dense feature groups (0.02 MB) transferred to GPU in 0.005028 secs. 0 sparse feature groups\n",
      "threshold: 0.6951275285391694\n",
      "AUC-ROC: 0.9971371207614516\n",
      "Accuracy: 0.9522357723577236\n",
      "Precision: 0.9974387898178538\n",
      "Confusion Matrix:\n",
      "[[492   0]\n",
      " [ 47 445]]\n",
      "Recall: 0.9044715447154471\n",
      "F1 Score: 0.9498399146211313\n",
      "Epoch 274/300\n",
      "[LightGBM] [Info] Number of positive: 442, number of negative: 540\n",
      "[LightGBM] [Info] This is the GPU trainer!!\n",
      "[LightGBM] [Info] Total Bins 7650\n",
      "[LightGBM] [Info] Number of data points in the train set: 982, number of used features: 30\n"
     ]
    },
    {
     "name": "stderr",
     "output_type": "stream",
     "text": [
      "c:\\Users\\FH-Deg\\.conda\\envs\\tf_c_gpu\\lib\\site-packages\\lightgbm\\basic.py:1192: UserWarning: Converting data to scipy sparse matrix.\n",
      "  _log_warning('Converting data to scipy sparse matrix.')\n"
     ]
    },
    {
     "name": "stdout",
     "output_type": "stream",
     "text": [
      "[LightGBM] [Info] Using GPU Device: Quadro RTX 4000, Vendor: NVIDIA Corporation\n",
      "[LightGBM] [Info] Compiling OpenCL Kernel with 256 bins...\n",
      "[LightGBM] [Info] GPU programs have been built\n",
      "[LightGBM] [Info] Size of histogram bin entry: 8\n",
      "[LightGBM] [Info] 30 dense feature groups (0.03 MB) transferred to GPU in 0.005070 secs. 0 sparse feature groups\n",
      "[LightGBM] [Info] Size of histogram bin entry: 8\n",
      "[LightGBM] [Info] 30 dense feature groups (0.02 MB) transferred to GPU in 0.032023 secs. 0 sparse feature groups\n",
      "threshold: 0.6991711034471544\n",
      "AUC-ROC: 0.9971949567056647\n",
      "Accuracy: 0.9522357723577236\n",
      "Precision: 0.9974876086034212\n",
      "Confusion Matrix:\n",
      "[[492   0]\n",
      " [ 47 445]]\n",
      "Recall: 0.9044715447154471\n",
      "F1 Score: 0.9498399146211313\n",
      "Updating target policy...\n",
      "Epoch 275/300\n",
      "[LightGBM] [Info] Number of positive: 442, number of negative: 540\n",
      "[LightGBM] [Info] This is the GPU trainer!!\n",
      "[LightGBM] [Info] Total Bins 7650\n",
      "[LightGBM] [Info] Number of data points in the train set: 982, number of used features: 30\n"
     ]
    },
    {
     "name": "stderr",
     "output_type": "stream",
     "text": [
      "c:\\Users\\FH-Deg\\.conda\\envs\\tf_c_gpu\\lib\\site-packages\\lightgbm\\basic.py:1192: UserWarning: Converting data to scipy sparse matrix.\n",
      "  _log_warning('Converting data to scipy sparse matrix.')\n"
     ]
    },
    {
     "name": "stdout",
     "output_type": "stream",
     "text": [
      "[LightGBM] [Info] Using GPU Device: Quadro RTX 4000, Vendor: NVIDIA Corporation\n",
      "[LightGBM] [Info] Compiling OpenCL Kernel with 256 bins...\n",
      "[LightGBM] [Info] GPU programs have been built\n",
      "[LightGBM] [Info] Size of histogram bin entry: 8\n",
      "[LightGBM] [Info] 30 dense feature groups (0.03 MB) transferred to GPU in 0.004912 secs. 0 sparse feature groups\n",
      "[LightGBM] [Info] Size of histogram bin entry: 8\n",
      "[LightGBM] [Info] 30 dense feature groups (0.02 MB) transferred to GPU in 0.004956 secs. 0 sparse feature groups\n",
      "threshold: 0.6983928214004651\n",
      "AUC-ROC: 0.9972114812611541\n",
      "Accuracy: 0.9522357723577236\n",
      "Precision: 0.9975040107897379\n",
      "Confusion Matrix:\n",
      "[[492   0]\n",
      " [ 47 445]]\n",
      "Recall: 0.9044715447154471\n",
      "F1 Score: 0.9498399146211313\n",
      "Epoch 276/300\n",
      "[LightGBM] [Info] Number of positive: 442, number of negative: 540\n",
      "[LightGBM] [Info] This is the GPU trainer!!\n",
      "[LightGBM] [Info] Total Bins 7650\n",
      "[LightGBM] [Info] Number of data points in the train set: 982, number of used features: 30\n"
     ]
    },
    {
     "name": "stderr",
     "output_type": "stream",
     "text": [
      "c:\\Users\\FH-Deg\\.conda\\envs\\tf_c_gpu\\lib\\site-packages\\lightgbm\\basic.py:1192: UserWarning: Converting data to scipy sparse matrix.\n",
      "  _log_warning('Converting data to scipy sparse matrix.')\n"
     ]
    },
    {
     "name": "stdout",
     "output_type": "stream",
     "text": [
      "[LightGBM] [Info] Using GPU Device: Quadro RTX 4000, Vendor: NVIDIA Corporation\n",
      "[LightGBM] [Info] Compiling OpenCL Kernel with 256 bins...\n",
      "[LightGBM] [Info] GPU programs have been built\n",
      "[LightGBM] [Info] Size of histogram bin entry: 8\n",
      "[LightGBM] [Info] 30 dense feature groups (0.03 MB) transferred to GPU in 0.015814 secs. 0 sparse feature groups\n",
      "[LightGBM] [Info] Size of histogram bin entry: 8\n",
      "[LightGBM] [Info] 30 dense feature groups (0.02 MB) transferred to GPU in 0.012476 secs. 0 sparse feature groups\n",
      "threshold: 0.7053244574849704\n",
      "AUC-ROC: 0.9972651860664948\n",
      "Accuracy: 0.9502032520325203\n",
      "Precision: 0.9975415739427406\n",
      "Confusion Matrix:\n",
      "[[492   0]\n",
      " [ 49 443]]\n",
      "Recall: 0.9004065040650406\n",
      "F1 Score: 0.9475935828877006\n",
      "Epoch 277/300\n",
      "[LightGBM] [Info] Number of positive: 442, number of negative: 540\n",
      "[LightGBM] [Info] This is the GPU trainer!!\n",
      "[LightGBM] [Info] Total Bins 7650\n",
      "[LightGBM] [Info] Number of data points in the train set: 982, number of used features: 30\n"
     ]
    },
    {
     "name": "stderr",
     "output_type": "stream",
     "text": [
      "c:\\Users\\FH-Deg\\.conda\\envs\\tf_c_gpu\\lib\\site-packages\\lightgbm\\basic.py:1192: UserWarning: Converting data to scipy sparse matrix.\n",
      "  _log_warning('Converting data to scipy sparse matrix.')\n"
     ]
    },
    {
     "name": "stdout",
     "output_type": "stream",
     "text": [
      "[LightGBM] [Info] Using GPU Device: Quadro RTX 4000, Vendor: NVIDIA Corporation\n",
      "[LightGBM] [Info] Compiling OpenCL Kernel with 256 bins...\n",
      "[LightGBM] [Info] GPU programs have been built\n",
      "[LightGBM] [Info] Size of histogram bin entry: 8\n",
      "[LightGBM] [Info] 30 dense feature groups (0.03 MB) transferred to GPU in 0.004285 secs. 0 sparse feature groups\n",
      "[LightGBM] [Info] Size of histogram bin entry: 8\n",
      "[LightGBM] [Info] 30 dense feature groups (0.02 MB) transferred to GPU in 0.004371 secs. 0 sparse feature groups\n",
      "threshold: 0.7055540762648423\n",
      "AUC-ROC: 0.9973023663163462\n",
      "Accuracy: 0.9512195121951219\n",
      "Precision: 0.9975769840311367\n",
      "Confusion Matrix:\n",
      "[[492   0]\n",
      " [ 48 444]]\n",
      "Recall: 0.9024390243902439\n",
      "F1 Score: 0.9487179487179487\n",
      "Updating target policy...\n",
      "Epoch 278/300\n",
      "[LightGBM] [Info] Number of positive: 442, number of negative: 540\n",
      "[LightGBM] [Info] This is the GPU trainer!!\n",
      "[LightGBM] [Info] Total Bins 7650\n",
      "[LightGBM] [Info] Number of data points in the train set: 982, number of used features: 30\n",
      "[LightGBM] [Info] Using GPU Device: Quadro RTX 4000, Vendor: NVIDIA Corporation\n",
      "[LightGBM] [Info] Compiling OpenCL Kernel with 256 bins...\n"
     ]
    },
    {
     "name": "stderr",
     "output_type": "stream",
     "text": [
      "c:\\Users\\FH-Deg\\.conda\\envs\\tf_c_gpu\\lib\\site-packages\\lightgbm\\basic.py:1192: UserWarning: Converting data to scipy sparse matrix.\n",
      "  _log_warning('Converting data to scipy sparse matrix.')\n"
     ]
    },
    {
     "name": "stdout",
     "output_type": "stream",
     "text": [
      "[LightGBM] [Info] GPU programs have been built\n",
      "[LightGBM] [Info] Size of histogram bin entry: 8\n",
      "[LightGBM] [Info] 30 dense feature groups (0.03 MB) transferred to GPU in 0.004452 secs. 0 sparse feature groups\n",
      "[LightGBM] [Info] Size of histogram bin entry: 8\n",
      "[LightGBM] [Info] 30 dense feature groups (0.02 MB) transferred to GPU in 0.004321 secs. 0 sparse feature groups\n",
      "threshold: 0.7027906815579176\n",
      "AUC-ROC: 0.9972858417608567\n",
      "Accuracy: 0.9522357723577236\n",
      "Precision: 0.9975664454855756\n",
      "Confusion Matrix:\n",
      "[[492   0]\n",
      " [ 47 445]]\n",
      "Recall: 0.9044715447154471\n",
      "F1 Score: 0.9498399146211313\n",
      "Epoch 279/300\n",
      "[LightGBM] [Info] Number of positive: 442, number of negative: 540\n",
      "[LightGBM] [Info] This is the GPU trainer!!\n",
      "[LightGBM] [Info] Total Bins 7650\n",
      "[LightGBM] [Info] Number of data points in the train set: 982, number of used features: 30\n"
     ]
    },
    {
     "name": "stderr",
     "output_type": "stream",
     "text": [
      "c:\\Users\\FH-Deg\\.conda\\envs\\tf_c_gpu\\lib\\site-packages\\lightgbm\\basic.py:1192: UserWarning: Converting data to scipy sparse matrix.\n",
      "  _log_warning('Converting data to scipy sparse matrix.')\n"
     ]
    },
    {
     "name": "stdout",
     "output_type": "stream",
     "text": [
      "[LightGBM] [Info] Using GPU Device: Quadro RTX 4000, Vendor: NVIDIA Corporation\n",
      "[LightGBM] [Info] Compiling OpenCL Kernel with 256 bins...\n",
      "[LightGBM] [Info] GPU programs have been built\n",
      "[LightGBM] [Info] Size of histogram bin entry: 8\n",
      "[LightGBM] [Info] 30 dense feature groups (0.03 MB) transferred to GPU in 0.015824 secs. 0 sparse feature groups\n",
      "[LightGBM] [Info] Size of histogram bin entry: 8\n",
      "[LightGBM] [Info] 30 dense feature groups (0.02 MB) transferred to GPU in 0.004417 secs. 0 sparse feature groups\n",
      "threshold: 0.7029399953741542\n",
      "AUC-ROC: 0.9972982351774737\n",
      "Accuracy: 0.9522357723577236\n",
      "Precision: 0.9975803735689379\n",
      "Confusion Matrix:\n",
      "[[492   0]\n",
      " [ 47 445]]\n",
      "Recall: 0.9044715447154471\n",
      "F1 Score: 0.9498399146211313\n",
      "Epoch 280/300\n",
      "[LightGBM] [Info] Number of positive: 442, number of negative: 540\n",
      "[LightGBM] [Info] This is the GPU trainer!!\n",
      "[LightGBM] [Info] Total Bins 7650\n",
      "[LightGBM] [Info] Number of data points in the train set: 982, number of used features: 30\n"
     ]
    },
    {
     "name": "stderr",
     "output_type": "stream",
     "text": [
      "c:\\Users\\FH-Deg\\.conda\\envs\\tf_c_gpu\\lib\\site-packages\\lightgbm\\basic.py:1192: UserWarning: Converting data to scipy sparse matrix.\n",
      "  _log_warning('Converting data to scipy sparse matrix.')\n"
     ]
    },
    {
     "name": "stdout",
     "output_type": "stream",
     "text": [
      "[LightGBM] [Info] Using GPU Device: Quadro RTX 4000, Vendor: NVIDIA Corporation\n",
      "[LightGBM] [Info] Compiling OpenCL Kernel with 256 bins...\n",
      "[LightGBM] [Info] GPU programs have been built\n",
      "[LightGBM] [Info] Size of histogram bin entry: 8\n",
      "[LightGBM] [Info] 30 dense feature groups (0.03 MB) transferred to GPU in 0.004434 secs. 0 sparse feature groups\n",
      "[LightGBM] [Info] Size of histogram bin entry: 8\n",
      "[LightGBM] [Info] 30 dense feature groups (0.02 MB) transferred to GPU in 0.005372 secs. 0 sparse feature groups\n",
      "threshold: 0.7031605001446961\n",
      "AUC-ROC: 0.9973312842884527\n",
      "Accuracy: 0.9522357723577236\n",
      "Precision: 0.9976116252659807\n",
      "Confusion Matrix:\n",
      "[[492   0]\n",
      " [ 47 445]]\n",
      "Recall: 0.9044715447154471\n",
      "F1 Score: 0.9498399146211313\n",
      "Updating target policy...\n",
      "Epoch 281/300\n",
      "[LightGBM] [Info] Number of positive: 442, number of negative: 540\n",
      "[LightGBM] [Info] This is the GPU trainer!!\n",
      "[LightGBM] [Info] Total Bins 7650\n",
      "[LightGBM] [Info] Number of data points in the train set: 982, number of used features: 30\n"
     ]
    },
    {
     "name": "stderr",
     "output_type": "stream",
     "text": [
      "c:\\Users\\FH-Deg\\.conda\\envs\\tf_c_gpu\\lib\\site-packages\\lightgbm\\basic.py:1192: UserWarning: Converting data to scipy sparse matrix.\n",
      "  _log_warning('Converting data to scipy sparse matrix.')\n"
     ]
    },
    {
     "name": "stdout",
     "output_type": "stream",
     "text": [
      "[LightGBM] [Info] Using GPU Device: Quadro RTX 4000, Vendor: NVIDIA Corporation\n",
      "[LightGBM] [Info] Compiling OpenCL Kernel with 256 bins...\n",
      "[LightGBM] [Info] GPU programs have been built\n",
      "[LightGBM] [Info] Size of histogram bin entry: 8\n",
      "[LightGBM] [Info] 30 dense feature groups (0.03 MB) transferred to GPU in 0.004832 secs. 0 sparse feature groups\n",
      "[LightGBM] [Info] Size of histogram bin entry: 8\n",
      "[LightGBM] [Info] 30 dense feature groups (0.02 MB) transferred to GPU in 0.004660 secs. 0 sparse feature groups\n",
      "threshold: 0.705320021043908\n",
      "AUC-ROC: 0.9973478088439421\n",
      "Accuracy: 0.9512195121951219\n",
      "Precision: 0.9976232383168988\n",
      "Confusion Matrix:\n",
      "[[492   0]\n",
      " [ 48 444]]\n",
      "Recall: 0.9024390243902439\n",
      "F1 Score: 0.9487179487179487\n",
      "Epoch 282/300\n",
      "[LightGBM] [Info] Number of positive: 442, number of negative: 540\n",
      "[LightGBM] [Info] This is the GPU trainer!!\n",
      "[LightGBM] [Info] Total Bins 7650\n",
      "[LightGBM] [Info] Number of data points in the train set: 982, number of used features: 30\n"
     ]
    },
    {
     "name": "stderr",
     "output_type": "stream",
     "text": [
      "c:\\Users\\FH-Deg\\.conda\\envs\\tf_c_gpu\\lib\\site-packages\\lightgbm\\basic.py:1192: UserWarning: Converting data to scipy sparse matrix.\n",
      "  _log_warning('Converting data to scipy sparse matrix.')\n"
     ]
    },
    {
     "name": "stdout",
     "output_type": "stream",
     "text": [
      "[LightGBM] [Info] Using GPU Device: Quadro RTX 4000, Vendor: NVIDIA Corporation\n",
      "[LightGBM] [Info] Compiling OpenCL Kernel with 256 bins...\n",
      "[LightGBM] [Info] GPU programs have been built\n",
      "[LightGBM] [Info] Size of histogram bin entry: 8\n",
      "[LightGBM] [Info] 30 dense feature groups (0.03 MB) transferred to GPU in 0.018902 secs. 0 sparse feature groups\n",
      "[LightGBM] [Info] Size of histogram bin entry: 8\n",
      "[LightGBM] [Info] 30 dense feature groups (0.02 MB) transferred to GPU in 0.004469 secs. 0 sparse feature groups\n",
      "threshold: 0.7054778487851334\n",
      "AUC-ROC: 0.9973643333994315\n",
      "Accuracy: 0.9512195121951219\n",
      "Precision: 0.9976410074498342\n",
      "Confusion Matrix:\n",
      "[[492   0]\n",
      " [ 48 444]]\n",
      "Recall: 0.9024390243902439\n",
      "F1 Score: 0.9487179487179487\n",
      "Epoch 283/300\n",
      "[LightGBM] [Info] Number of positive: 442, number of negative: 540\n",
      "[LightGBM] [Info] This is the GPU trainer!!\n",
      "[LightGBM] [Info] Total Bins 7650\n",
      "[LightGBM] [Info] Number of data points in the train set: 982, number of used features: 30\n"
     ]
    },
    {
     "name": "stderr",
     "output_type": "stream",
     "text": [
      "c:\\Users\\FH-Deg\\.conda\\envs\\tf_c_gpu\\lib\\site-packages\\lightgbm\\basic.py:1192: UserWarning: Converting data to scipy sparse matrix.\n",
      "  _log_warning('Converting data to scipy sparse matrix.')\n"
     ]
    },
    {
     "name": "stdout",
     "output_type": "stream",
     "text": [
      "[LightGBM] [Info] Using GPU Device: Quadro RTX 4000, Vendor: NVIDIA Corporation\n",
      "[LightGBM] [Info] Compiling OpenCL Kernel with 256 bins...\n",
      "[LightGBM] [Info] GPU programs have been built\n",
      "[LightGBM] [Info] Size of histogram bin entry: 8\n",
      "[LightGBM] [Info] 30 dense feature groups (0.03 MB) transferred to GPU in 0.004489 secs. 0 sparse feature groups\n",
      "[LightGBM] [Info] Size of histogram bin entry: 8\n",
      "[LightGBM] [Info] 30 dense feature groups (0.02 MB) transferred to GPU in 0.004070 secs. 0 sparse feature groups\n",
      "threshold: 0.7055990431462262\n",
      "AUC-ROC: 0.9973932513715381\n",
      "Accuracy: 0.9522357723577236\n",
      "Precision: 0.9976665080271262\n",
      "Confusion Matrix:\n",
      "[[492   0]\n",
      " [ 47 445]]\n",
      "Recall: 0.9044715447154471\n",
      "F1 Score: 0.9498399146211313\n",
      "Updating target policy...\n",
      "Epoch 284/300\n",
      "[LightGBM] [Info] Number of positive: 442, number of negative: 540\n",
      "[LightGBM] [Info] This is the GPU trainer!!\n",
      "[LightGBM] [Info] Total Bins 7650\n",
      "[LightGBM] [Info] Number of data points in the train set: 982, number of used features: 30\n"
     ]
    },
    {
     "name": "stderr",
     "output_type": "stream",
     "text": [
      "c:\\Users\\FH-Deg\\.conda\\envs\\tf_c_gpu\\lib\\site-packages\\lightgbm\\basic.py:1192: UserWarning: Converting data to scipy sparse matrix.\n",
      "  _log_warning('Converting data to scipy sparse matrix.')\n"
     ]
    },
    {
     "name": "stdout",
     "output_type": "stream",
     "text": [
      "[LightGBM] [Info] Using GPU Device: Quadro RTX 4000, Vendor: NVIDIA Corporation\n",
      "[LightGBM] [Info] Compiling OpenCL Kernel with 256 bins...\n",
      "[LightGBM] [Info] GPU programs have been built\n",
      "[LightGBM] [Info] Size of histogram bin entry: 8\n",
      "[LightGBM] [Info] 30 dense feature groups (0.03 MB) transferred to GPU in 0.010892 secs. 0 sparse feature groups\n",
      "[LightGBM] [Info] Size of histogram bin entry: 8\n",
      "[LightGBM] [Info] 30 dense feature groups (0.02 MB) transferred to GPU in 0.004232 secs. 0 sparse feature groups\n",
      "threshold: 0.704724920756228\n",
      "AUC-ROC: 0.9973849890937934\n",
      "Accuracy: 0.9512195121951219\n",
      "Precision: 0.9976621564442799\n",
      "Confusion Matrix:\n",
      "[[492   0]\n",
      " [ 48 444]]\n",
      "Recall: 0.9024390243902439\n",
      "F1 Score: 0.9487179487179487\n",
      "Epoch 285/300\n",
      "[LightGBM] [Info] Number of positive: 442, number of negative: 540\n",
      "[LightGBM] [Info] This is the GPU trainer!!\n",
      "[LightGBM] [Info] Total Bins 7650\n",
      "[LightGBM] [Info] Number of data points in the train set: 982, number of used features: 30\n"
     ]
    },
    {
     "name": "stderr",
     "output_type": "stream",
     "text": [
      "c:\\Users\\FH-Deg\\.conda\\envs\\tf_c_gpu\\lib\\site-packages\\lightgbm\\basic.py:1192: UserWarning: Converting data to scipy sparse matrix.\n",
      "  _log_warning('Converting data to scipy sparse matrix.')\n"
     ]
    },
    {
     "name": "stdout",
     "output_type": "stream",
     "text": [
      "[LightGBM] [Info] Using GPU Device: Quadro RTX 4000, Vendor: NVIDIA Corporation\n",
      "[LightGBM] [Info] Compiling OpenCL Kernel with 256 bins...\n",
      "[LightGBM] [Info] GPU programs have been built\n",
      "[LightGBM] [Info] Size of histogram bin entry: 8\n",
      "[LightGBM] [Info] 30 dense feature groups (0.03 MB) transferred to GPU in 0.007357 secs. 0 sparse feature groups\n",
      "[LightGBM] [Info] Size of histogram bin entry: 8\n",
      "[LightGBM] [Info] 30 dense feature groups (0.02 MB) transferred to GPU in 0.004504 secs. 0 sparse feature groups\n",
      "threshold: 0.7048434644842677\n",
      "AUC-ROC: 0.9973932513715381\n",
      "Accuracy: 0.9512195121951219\n",
      "Precision: 0.9976669811372583\n",
      "Confusion Matrix:\n",
      "[[492   0]\n",
      " [ 48 444]]\n",
      "Recall: 0.9024390243902439\n",
      "F1 Score: 0.9487179487179487\n",
      "Epoch 286/300\n",
      "[LightGBM] [Info] Number of positive: 442, number of negative: 540\n",
      "[LightGBM] [Info] This is the GPU trainer!!\n",
      "[LightGBM] [Info] Total Bins 7650\n",
      "[LightGBM] [Info] Number of data points in the train set: 982, number of used features: 30\n"
     ]
    },
    {
     "name": "stderr",
     "output_type": "stream",
     "text": [
      "c:\\Users\\FH-Deg\\.conda\\envs\\tf_c_gpu\\lib\\site-packages\\lightgbm\\basic.py:1192: UserWarning: Converting data to scipy sparse matrix.\n",
      "  _log_warning('Converting data to scipy sparse matrix.')\n"
     ]
    },
    {
     "name": "stdout",
     "output_type": "stream",
     "text": [
      "[LightGBM] [Info] Using GPU Device: Quadro RTX 4000, Vendor: NVIDIA Corporation\n",
      "[LightGBM] [Info] Compiling OpenCL Kernel with 256 bins...\n",
      "[LightGBM] [Info] GPU programs have been built\n",
      "[LightGBM] [Info] Size of histogram bin entry: 8\n",
      "[LightGBM] [Info] 30 dense feature groups (0.03 MB) transferred to GPU in 0.123349 secs. 0 sparse feature groups\n",
      "[LightGBM] [Info] Size of histogram bin entry: 8\n",
      "[LightGBM] [Info] 30 dense feature groups (0.02 MB) transferred to GPU in 0.012266 secs. 0 sparse feature groups\n",
      "threshold: 0.7059647740293623\n",
      "AUC-ROC: 0.9974097759270276\n",
      "Accuracy: 0.9522357723577236\n",
      "Precision: 0.9976831461316868\n",
      "Confusion Matrix:\n",
      "[[492   0]\n",
      " [ 47 445]]\n",
      "Recall: 0.9044715447154471\n",
      "F1 Score: 0.9498399146211313\n",
      "Updating target policy...\n",
      "Epoch 287/300\n",
      "[LightGBM] [Info] Number of positive: 442, number of negative: 540\n",
      "[LightGBM] [Info] This is the GPU trainer!!\n",
      "[LightGBM] [Info] Total Bins 7650\n",
      "[LightGBM] [Info] Number of data points in the train set: 982, number of used features: 30\n"
     ]
    },
    {
     "name": "stderr",
     "output_type": "stream",
     "text": [
      "c:\\Users\\FH-Deg\\.conda\\envs\\tf_c_gpu\\lib\\site-packages\\lightgbm\\basic.py:1192: UserWarning: Converting data to scipy sparse matrix.\n",
      "  _log_warning('Converting data to scipy sparse matrix.')\n"
     ]
    },
    {
     "name": "stdout",
     "output_type": "stream",
     "text": [
      "[LightGBM] [Info] Using GPU Device: Quadro RTX 4000, Vendor: NVIDIA Corporation\n",
      "[LightGBM] [Info] Compiling OpenCL Kernel with 256 bins...\n",
      "[LightGBM] [Info] GPU programs have been built\n",
      "[LightGBM] [Info] Size of histogram bin entry: 8\n",
      "[LightGBM] [Info] 30 dense feature groups (0.03 MB) transferred to GPU in 0.005286 secs. 0 sparse feature groups\n",
      "[LightGBM] [Info] Size of histogram bin entry: 8\n",
      "[LightGBM] [Info] 30 dense feature groups (0.02 MB) transferred to GPU in 0.004592 secs. 0 sparse feature groups\n",
      "threshold: 0.7091090626587354\n",
      "AUC-ROC: 0.9974345627602617\n",
      "Accuracy: 0.9522357723577236\n",
      "Precision: 0.9977012149169371\n",
      "Confusion Matrix:\n",
      "[[492   0]\n",
      " [ 47 445]]\n",
      "Recall: 0.9044715447154471\n",
      "F1 Score: 0.9498399146211313\n",
      "Epoch 288/300\n",
      "[LightGBM] [Info] Number of positive: 442, number of negative: 540\n",
      "[LightGBM] [Info] This is the GPU trainer!!\n",
      "[LightGBM] [Info] Total Bins 7650\n",
      "[LightGBM] [Info] Number of data points in the train set: 982, number of used features: 30\n"
     ]
    },
    {
     "name": "stderr",
     "output_type": "stream",
     "text": [
      "c:\\Users\\FH-Deg\\.conda\\envs\\tf_c_gpu\\lib\\site-packages\\lightgbm\\basic.py:1192: UserWarning: Converting data to scipy sparse matrix.\n",
      "  _log_warning('Converting data to scipy sparse matrix.')\n"
     ]
    },
    {
     "name": "stdout",
     "output_type": "stream",
     "text": [
      "[LightGBM] [Info] Using GPU Device: Quadro RTX 4000, Vendor: NVIDIA Corporation\n",
      "[LightGBM] [Info] Compiling OpenCL Kernel with 256 bins...\n",
      "[LightGBM] [Info] GPU programs have been built\n",
      "[LightGBM] [Info] Size of histogram bin entry: 8\n",
      "[LightGBM] [Info] 30 dense feature groups (0.03 MB) transferred to GPU in 0.004454 secs. 0 sparse feature groups\n",
      "[LightGBM] [Info] Size of histogram bin entry: 8\n",
      "[LightGBM] [Info] 30 dense feature groups (0.02 MB) transferred to GPU in 0.004491 secs. 0 sparse feature groups\n",
      "threshold: 0.7102915113902611\n",
      "AUC-ROC: 0.997459349593496\n",
      "Accuracy: 0.9522357723577236\n",
      "Precision: 0.9977218892582843\n",
      "Confusion Matrix:\n",
      "[[492   0]\n",
      " [ 47 445]]\n",
      "Recall: 0.9044715447154471\n",
      "F1 Score: 0.9498399146211313\n",
      "Epoch 289/300\n",
      "[LightGBM] [Info] Number of positive: 442, number of negative: 540\n",
      "[LightGBM] [Info] This is the GPU trainer!!\n",
      "[LightGBM] [Info] Total Bins 7650\n",
      "[LightGBM] [Info] Number of data points in the train set: 982, number of used features: 30\n"
     ]
    },
    {
     "name": "stderr",
     "output_type": "stream",
     "text": [
      "c:\\Users\\FH-Deg\\.conda\\envs\\tf_c_gpu\\lib\\site-packages\\lightgbm\\basic.py:1192: UserWarning: Converting data to scipy sparse matrix.\n",
      "  _log_warning('Converting data to scipy sparse matrix.')\n"
     ]
    },
    {
     "name": "stdout",
     "output_type": "stream",
     "text": [
      "[LightGBM] [Info] Using GPU Device: Quadro RTX 4000, Vendor: NVIDIA Corporation\n",
      "[LightGBM] [Info] Compiling OpenCL Kernel with 256 bins...\n",
      "[LightGBM] [Info] GPU programs have been built\n",
      "[LightGBM] [Info] Size of histogram bin entry: 8\n",
      "[LightGBM] [Info] 30 dense feature groups (0.03 MB) transferred to GPU in 0.004772 secs. 0 sparse feature groups\n",
      "[LightGBM] [Info] Size of histogram bin entry: 8\n",
      "[LightGBM] [Info] 30 dense feature groups (0.02 MB) transferred to GPU in 0.008918 secs. 0 sparse feature groups\n",
      "threshold: 0.7083786112462293\n",
      "AUC-ROC: 0.9974800052878577\n",
      "Accuracy: 0.9522357723577236\n",
      "Precision: 0.9977444897062165\n",
      "Confusion Matrix:\n",
      "[[492   0]\n",
      " [ 47 445]]\n",
      "Recall: 0.9044715447154471\n",
      "F1 Score: 0.9498399146211313\n",
      "Updating target policy...\n",
      "Epoch 290/300\n",
      "[LightGBM] [Info] Number of positive: 442, number of negative: 540\n",
      "[LightGBM] [Info] This is the GPU trainer!!\n",
      "[LightGBM] [Info] Total Bins 7650\n",
      "[LightGBM] [Info] Number of data points in the train set: 982, number of used features: 30\n"
     ]
    },
    {
     "name": "stderr",
     "output_type": "stream",
     "text": [
      "c:\\Users\\FH-Deg\\.conda\\envs\\tf_c_gpu\\lib\\site-packages\\lightgbm\\basic.py:1192: UserWarning: Converting data to scipy sparse matrix.\n",
      "  _log_warning('Converting data to scipy sparse matrix.')\n"
     ]
    },
    {
     "name": "stdout",
     "output_type": "stream",
     "text": [
      "[LightGBM] [Info] Using GPU Device: Quadro RTX 4000, Vendor: NVIDIA Corporation\n",
      "[LightGBM] [Info] Compiling OpenCL Kernel with 256 bins...\n",
      "[LightGBM] [Info] GPU programs have been built\n",
      "[LightGBM] [Info] Size of histogram bin entry: 8\n",
      "[LightGBM] [Info] 30 dense feature groups (0.03 MB) transferred to GPU in 0.004595 secs. 0 sparse feature groups\n",
      "[LightGBM] [Info] Size of histogram bin entry: 8\n",
      "[LightGBM] [Info] 30 dense feature groups (0.02 MB) transferred to GPU in 0.004782 secs. 0 sparse feature groups\n",
      "threshold: 0.7115872858615665\n",
      "AUC-ROC: 0.9975006609822196\n",
      "Accuracy: 0.9522357723577236\n",
      "Precision: 0.997758893699779\n",
      "Confusion Matrix:\n",
      "[[492   0]\n",
      " [ 47 445]]\n",
      "Recall: 0.9044715447154471\n",
      "F1 Score: 0.9498399146211313\n",
      "Epoch 291/300\n",
      "[LightGBM] [Info] Number of positive: 442, number of negative: 540\n",
      "[LightGBM] [Info] This is the GPU trainer!!\n",
      "[LightGBM] [Info] Total Bins 7650\n",
      "[LightGBM] [Info] Number of data points in the train set: 982, number of used features: 30\n"
     ]
    },
    {
     "name": "stderr",
     "output_type": "stream",
     "text": [
      "c:\\Users\\FH-Deg\\.conda\\envs\\tf_c_gpu\\lib\\site-packages\\lightgbm\\basic.py:1192: UserWarning: Converting data to scipy sparse matrix.\n",
      "  _log_warning('Converting data to scipy sparse matrix.')\n"
     ]
    },
    {
     "name": "stdout",
     "output_type": "stream",
     "text": [
      "[LightGBM] [Info] Using GPU Device: Quadro RTX 4000, Vendor: NVIDIA Corporation\n",
      "[LightGBM] [Info] Compiling OpenCL Kernel with 256 bins...\n",
      "[LightGBM] [Info] GPU programs have been built\n",
      "[LightGBM] [Info] Size of histogram bin entry: 8\n",
      "[LightGBM] [Info] 30 dense feature groups (0.03 MB) transferred to GPU in 0.024731 secs. 0 sparse feature groups\n",
      "[LightGBM] [Info] Size of histogram bin entry: 8\n",
      "[LightGBM] [Info] 30 dense feature groups (0.02 MB) transferred to GPU in 0.006890 secs. 0 sparse feature groups\n",
      "threshold: 0.7117258272013491\n",
      "AUC-ROC: 0.9975213166765814\n",
      "Accuracy: 0.9522357723577236\n",
      "Precision: 0.9977780391947462\n",
      "Confusion Matrix:\n",
      "[[492   0]\n",
      " [ 47 445]]\n",
      "Recall: 0.9044715447154471\n",
      "F1 Score: 0.9498399146211313\n",
      "Epoch 292/300\n",
      "[LightGBM] [Info] Number of positive: 442, number of negative: 540\n",
      "[LightGBM] [Info] This is the GPU trainer!!\n",
      "[LightGBM] [Info] Total Bins 7650\n",
      "[LightGBM] [Info] Number of data points in the train set: 982, number of used features: 30\n"
     ]
    },
    {
     "name": "stderr",
     "output_type": "stream",
     "text": [
      "c:\\Users\\FH-Deg\\.conda\\envs\\tf_c_gpu\\lib\\site-packages\\lightgbm\\basic.py:1192: UserWarning: Converting data to scipy sparse matrix.\n",
      "  _log_warning('Converting data to scipy sparse matrix.')\n"
     ]
    },
    {
     "name": "stdout",
     "output_type": "stream",
     "text": [
      "[LightGBM] [Info] Using GPU Device: Quadro RTX 4000, Vendor: NVIDIA Corporation\n",
      "[LightGBM] [Info] Compiling OpenCL Kernel with 256 bins...\n",
      "[LightGBM] [Info] GPU programs have been built\n",
      "[LightGBM] [Info] Size of histogram bin entry: 8\n",
      "[LightGBM] [Info] 30 dense feature groups (0.03 MB) transferred to GPU in 0.004252 secs. 0 sparse feature groups\n",
      "[LightGBM] [Info] Size of histogram bin entry: 8\n",
      "[LightGBM] [Info] 30 dense feature groups (0.02 MB) transferred to GPU in 0.004550 secs. 0 sparse feature groups\n",
      "threshold: 0.7138658919471637\n",
      "AUC-ROC: 0.9975378412320709\n",
      "Accuracy: 0.9522357723577236\n",
      "Precision: 0.9977913589884064\n",
      "Confusion Matrix:\n",
      "[[492   0]\n",
      " [ 47 445]]\n",
      "Recall: 0.9044715447154471\n",
      "F1 Score: 0.9498399146211313\n",
      "Updating target policy...\n",
      "Epoch 293/300\n",
      "[LightGBM] [Info] Number of positive: 442, number of negative: 540\n",
      "[LightGBM] [Info] This is the GPU trainer!!\n",
      "[LightGBM] [Info] Total Bins 7650\n",
      "[LightGBM] [Info] Number of data points in the train set: 982, number of used features: 30\n"
     ]
    },
    {
     "name": "stderr",
     "output_type": "stream",
     "text": [
      "c:\\Users\\FH-Deg\\.conda\\envs\\tf_c_gpu\\lib\\site-packages\\lightgbm\\basic.py:1192: UserWarning: Converting data to scipy sparse matrix.\n",
      "  _log_warning('Converting data to scipy sparse matrix.')\n"
     ]
    },
    {
     "name": "stdout",
     "output_type": "stream",
     "text": [
      "[LightGBM] [Info] Using GPU Device: Quadro RTX 4000, Vendor: NVIDIA Corporation\n",
      "[LightGBM] [Info] Compiling OpenCL Kernel with 256 bins...\n",
      "[LightGBM] [Info] GPU programs have been built\n",
      "[LightGBM] [Info] Size of histogram bin entry: 8\n",
      "[LightGBM] [Info] 30 dense feature groups (0.03 MB) transferred to GPU in 0.004892 secs. 0 sparse feature groups\n",
      "[LightGBM] [Info] Size of histogram bin entry: 8\n",
      "[LightGBM] [Info] 30 dense feature groups (0.02 MB) transferred to GPU in 0.004431 secs. 0 sparse feature groups\n",
      "threshold: 0.7129615643902955\n",
      "AUC-ROC: 0.9975502346486879\n",
      "Accuracy: 0.9522357723577236\n",
      "Precision: 0.9978048394531621\n",
      "Confusion Matrix:\n",
      "[[492   0]\n",
      " [ 47 445]]\n",
      "Recall: 0.9044715447154471\n",
      "F1 Score: 0.9498399146211313\n",
      "Epoch 294/300\n",
      "[LightGBM] [Info] Number of positive: 442, number of negative: 540\n",
      "[LightGBM] [Info] This is the GPU trainer!!\n",
      "[LightGBM] [Info] Total Bins 7650\n",
      "[LightGBM] [Info] Number of data points in the train set: 982, number of used features: 30\n"
     ]
    },
    {
     "name": "stderr",
     "output_type": "stream",
     "text": [
      "c:\\Users\\FH-Deg\\.conda\\envs\\tf_c_gpu\\lib\\site-packages\\lightgbm\\basic.py:1192: UserWarning: Converting data to scipy sparse matrix.\n",
      "  _log_warning('Converting data to scipy sparse matrix.')\n"
     ]
    },
    {
     "name": "stdout",
     "output_type": "stream",
     "text": [
      "[LightGBM] [Info] Using GPU Device: Quadro RTX 4000, Vendor: NVIDIA Corporation\n",
      "[LightGBM] [Info] Compiling OpenCL Kernel with 256 bins...\n",
      "[LightGBM] [Info] GPU programs have been built\n",
      "[LightGBM] [Info] Size of histogram bin entry: 8\n",
      "[LightGBM] [Info] 30 dense feature groups (0.03 MB) transferred to GPU in 0.004523 secs. 0 sparse feature groups\n",
      "[LightGBM] [Info] Size of histogram bin entry: 8\n",
      "[LightGBM] [Info] 30 dense feature groups (0.02 MB) transferred to GPU in 0.004500 secs. 0 sparse feature groups\n",
      "threshold: 0.7130932967304081\n",
      "AUC-ROC: 0.9975667592041774\n",
      "Accuracy: 0.9522357723577236\n",
      "Precision: 0.9978197832908031\n",
      "Confusion Matrix:\n",
      "[[492   0]\n",
      " [ 47 445]]\n",
      "Recall: 0.9044715447154471\n",
      "F1 Score: 0.9498399146211313\n",
      "Epoch 295/300\n",
      "[LightGBM] [Info] Number of positive: 442, number of negative: 540\n",
      "[LightGBM] [Info] This is the GPU trainer!!\n",
      "[LightGBM] [Info] Total Bins 7650\n",
      "[LightGBM] [Info] Number of data points in the train set: 982, number of used features: 30\n"
     ]
    },
    {
     "name": "stderr",
     "output_type": "stream",
     "text": [
      "c:\\Users\\FH-Deg\\.conda\\envs\\tf_c_gpu\\lib\\site-packages\\lightgbm\\basic.py:1192: UserWarning: Converting data to scipy sparse matrix.\n",
      "  _log_warning('Converting data to scipy sparse matrix.')\n"
     ]
    },
    {
     "name": "stdout",
     "output_type": "stream",
     "text": [
      "[LightGBM] [Info] Using GPU Device: Quadro RTX 4000, Vendor: NVIDIA Corporation\n",
      "[LightGBM] [Info] Compiling OpenCL Kernel with 256 bins...\n",
      "[LightGBM] [Info] GPU programs have been built\n",
      "[LightGBM] [Info] Size of histogram bin entry: 8\n",
      "[LightGBM] [Info] 30 dense feature groups (0.03 MB) transferred to GPU in 0.004312 secs. 0 sparse feature groups\n",
      "[LightGBM] [Info] Size of histogram bin entry: 8\n",
      "[LightGBM] [Info] 30 dense feature groups (0.02 MB) transferred to GPU in 0.005079 secs. 0 sparse feature groups\n",
      "threshold: 0.715288181622141\n",
      "AUC-ROC: 0.9976039394540287\n",
      "Accuracy: 0.9522357723577236\n",
      "Precision: 0.9978529432931205\n",
      "Confusion Matrix:\n",
      "[[492   0]\n",
      " [ 47 445]]\n",
      "Recall: 0.9044715447154471\n",
      "F1 Score: 0.9498399146211313\n",
      "Updating target policy...\n",
      "Epoch 296/300\n",
      "[LightGBM] [Info] Number of positive: 442, number of negative: 540\n",
      "[LightGBM] [Info] This is the GPU trainer!!\n",
      "[LightGBM] [Info] Total Bins 7650\n",
      "[LightGBM] [Info] Number of data points in the train set: 982, number of used features: 30\n"
     ]
    },
    {
     "name": "stderr",
     "output_type": "stream",
     "text": [
      "c:\\Users\\FH-Deg\\.conda\\envs\\tf_c_gpu\\lib\\site-packages\\lightgbm\\basic.py:1192: UserWarning: Converting data to scipy sparse matrix.\n",
      "  _log_warning('Converting data to scipy sparse matrix.')\n"
     ]
    },
    {
     "name": "stdout",
     "output_type": "stream",
     "text": [
      "[LightGBM] [Info] Using GPU Device: Quadro RTX 4000, Vendor: NVIDIA Corporation\n",
      "[LightGBM] [Info] Compiling OpenCL Kernel with 256 bins...\n",
      "[LightGBM] [Info] GPU programs have been built\n",
      "[LightGBM] [Info] Size of histogram bin entry: 8\n",
      "[LightGBM] [Info] 30 dense feature groups (0.03 MB) transferred to GPU in 0.004793 secs. 0 sparse feature groups\n",
      "[LightGBM] [Info] Size of histogram bin entry: 8\n",
      "[LightGBM] [Info] 30 dense feature groups (0.02 MB) transferred to GPU in 0.106224 secs. 0 sparse feature groups\n",
      "threshold: 0.7154012190839877\n",
      "AUC-ROC: 0.9976039394540287\n",
      "Accuracy: 0.9522357723577236\n",
      "Precision: 0.9978524169280585\n",
      "Confusion Matrix:\n",
      "[[492   0]\n",
      " [ 47 445]]\n",
      "Recall: 0.9044715447154471\n",
      "F1 Score: 0.9498399146211313\n",
      "Epoch 297/300\n",
      "[LightGBM] [Info] Number of positive: 442, number of negative: 540\n",
      "[LightGBM] [Info] This is the GPU trainer!!\n",
      "[LightGBM] [Info] Total Bins 7650\n",
      "[LightGBM] [Info] Number of data points in the train set: 982, number of used features: 30\n"
     ]
    },
    {
     "name": "stderr",
     "output_type": "stream",
     "text": [
      "c:\\Users\\FH-Deg\\.conda\\envs\\tf_c_gpu\\lib\\site-packages\\lightgbm\\basic.py:1192: UserWarning: Converting data to scipy sparse matrix.\n",
      "  _log_warning('Converting data to scipy sparse matrix.')\n"
     ]
    },
    {
     "name": "stdout",
     "output_type": "stream",
     "text": [
      "[LightGBM] [Info] Using GPU Device: Quadro RTX 4000, Vendor: NVIDIA Corporation\n",
      "[LightGBM] [Info] Compiling OpenCL Kernel with 256 bins...\n",
      "[LightGBM] [Info] GPU programs have been built\n",
      "[LightGBM] [Info] Size of histogram bin entry: 8\n",
      "[LightGBM] [Info] 30 dense feature groups (0.03 MB) transferred to GPU in 0.007660 secs. 0 sparse feature groups\n",
      "[LightGBM] [Info] Size of histogram bin entry: 8\n",
      "[LightGBM] [Info] 30 dense feature groups (0.02 MB) transferred to GPU in 0.004668 secs. 0 sparse feature groups\n",
      "threshold: 0.7155463281708654\n",
      "AUC-ROC: 0.9976287262872628\n",
      "Accuracy: 0.9532520325203252\n",
      "Precision: 0.9978781546403067\n",
      "Confusion Matrix:\n",
      "[[492   0]\n",
      " [ 46 446]]\n",
      "Recall: 0.9065040650406504\n",
      "F1 Score: 0.9509594882729211\n",
      "Epoch 298/300\n",
      "[LightGBM] [Info] Number of positive: 442, number of negative: 540\n",
      "[LightGBM] [Info] This is the GPU trainer!!\n",
      "[LightGBM] [Info] Total Bins 7650\n",
      "[LightGBM] [Info] Number of data points in the train set: 982, number of used features: 30\n"
     ]
    },
    {
     "name": "stderr",
     "output_type": "stream",
     "text": [
      "c:\\Users\\FH-Deg\\.conda\\envs\\tf_c_gpu\\lib\\site-packages\\lightgbm\\basic.py:1192: UserWarning: Converting data to scipy sparse matrix.\n",
      "  _log_warning('Converting data to scipy sparse matrix.')\n"
     ]
    },
    {
     "name": "stdout",
     "output_type": "stream",
     "text": [
      "[LightGBM] [Info] Using GPU Device: Quadro RTX 4000, Vendor: NVIDIA Corporation\n",
      "[LightGBM] [Info] Compiling OpenCL Kernel with 256 bins...\n",
      "[LightGBM] [Info] GPU programs have been built\n",
      "[LightGBM] [Info] Size of histogram bin entry: 8\n",
      "[LightGBM] [Info] 30 dense feature groups (0.03 MB) transferred to GPU in 0.012887 secs. 0 sparse feature groups\n",
      "[LightGBM] [Info] Size of histogram bin entry: 8\n",
      "[LightGBM] [Info] 30 dense feature groups (0.02 MB) transferred to GPU in 0.004585 secs. 0 sparse feature groups\n",
      "threshold: 0.7157009319286864\n",
      "AUC-ROC: 0.9976328574261353\n",
      "Accuracy: 0.9542682926829268\n",
      "Precision: 0.9978829120439464\n",
      "Confusion Matrix:\n",
      "[[492   0]\n",
      " [ 45 447]]\n",
      "Recall: 0.9085365853658537\n",
      "F1 Score: 0.952076677316294\n",
      "Updating target policy...\n",
      "Epoch 299/300\n",
      "[LightGBM] [Info] Number of positive: 442, number of negative: 540\n",
      "[LightGBM] [Info] This is the GPU trainer!!\n",
      "[LightGBM] [Info] Total Bins 7650\n",
      "[LightGBM] [Info] Number of data points in the train set: 982, number of used features: 30\n"
     ]
    },
    {
     "name": "stderr",
     "output_type": "stream",
     "text": [
      "c:\\Users\\FH-Deg\\.conda\\envs\\tf_c_gpu\\lib\\site-packages\\lightgbm\\basic.py:1192: UserWarning: Converting data to scipy sparse matrix.\n",
      "  _log_warning('Converting data to scipy sparse matrix.')\n"
     ]
    },
    {
     "name": "stdout",
     "output_type": "stream",
     "text": [
      "[LightGBM] [Info] Using GPU Device: Quadro RTX 4000, Vendor: NVIDIA Corporation\n",
      "[LightGBM] [Info] Compiling OpenCL Kernel with 256 bins...\n",
      "[LightGBM] [Info] GPU programs have been built\n",
      "[LightGBM] [Info] Size of histogram bin entry: 8\n",
      "[LightGBM] [Info] 30 dense feature groups (0.03 MB) transferred to GPU in 0.004798 secs. 0 sparse feature groups\n",
      "[LightGBM] [Info] Size of histogram bin entry: 8\n",
      "[LightGBM] [Info] 30 dense feature groups (0.02 MB) transferred to GPU in 0.004688 secs. 0 sparse feature groups\n",
      "threshold: 0.7148440204513451\n",
      "AUC-ROC: 0.9976328574261353\n",
      "Accuracy: 0.9532520325203252\n",
      "Precision: 0.9978844585114176\n",
      "Confusion Matrix:\n",
      "[[492   0]\n",
      " [ 46 446]]\n",
      "Recall: 0.9065040650406504\n",
      "F1 Score: 0.9509594882729211\n",
      "Epoch 300/300\n",
      "[LightGBM] [Info] Number of positive: 442, number of negative: 540\n",
      "[LightGBM] [Info] This is the GPU trainer!!\n",
      "[LightGBM] [Info] Total Bins 7650\n",
      "[LightGBM] [Info] Number of data points in the train set: 982, number of used features: 30\n"
     ]
    },
    {
     "name": "stderr",
     "output_type": "stream",
     "text": [
      "c:\\Users\\FH-Deg\\.conda\\envs\\tf_c_gpu\\lib\\site-packages\\lightgbm\\basic.py:1192: UserWarning: Converting data to scipy sparse matrix.\n",
      "  _log_warning('Converting data to scipy sparse matrix.')\n"
     ]
    },
    {
     "name": "stdout",
     "output_type": "stream",
     "text": [
      "[LightGBM] [Info] Using GPU Device: Quadro RTX 4000, Vendor: NVIDIA Corporation\n",
      "[LightGBM] [Info] Compiling OpenCL Kernel with 256 bins...\n",
      "[LightGBM] [Info] GPU programs have been built\n",
      "[LightGBM] [Info] Size of histogram bin entry: 8\n",
      "[LightGBM] [Info] 30 dense feature groups (0.03 MB) transferred to GPU in 0.017141 secs. 0 sparse feature groups\n",
      "[LightGBM] [Info] Size of histogram bin entry: 8\n",
      "[LightGBM] [Info] 30 dense feature groups (0.02 MB) transferred to GPU in 0.004460 secs. 0 sparse feature groups\n",
      "threshold: 0.7149558851501542\n",
      "AUC-ROC: 0.9976576442593694\n",
      "Accuracy: 0.9532520325203252\n",
      "Precision: 0.9979093272734469\n",
      "Confusion Matrix:\n",
      "[[492   0]\n",
      " [ 46 446]]\n",
      "Recall: 0.9065040650406504\n",
      "F1 Score: 0.9509594882729211\n"
     ]
    }
   ],
   "source": [
    "def train_model(x_train, y_train, s, epochs=300, batch_size=128, model_lgb=model_lgb):\n",
    "    x_train = x_train.astype('float32')\n",
    "    y_train = y_train.astype('float32')\n",
    "    s = s.astype('float32')\n",
    "\n",
    "    dataset = tf.data.Dataset.from_tensor_slices((x_train, y_train, s))\n",
    "    dataset = dataset.shuffle(buffer_size=len(x_train)).batch(len(y_train))\n",
    "    # dataset = dataset.shuffle(buffer_size=len(x_train)).batch(batch_size)\n",
    "\n",
    "    for epoch in range(epochs):\n",
    "        print(f\"Epoch {epoch+1}/{epochs}\")\n",
    "        # lgb_probabilities=None\n",
    "        threshold = 0.5\n",
    "        for x_batch, y_batch, s_batch in dataset:\n",
    "            # Get actions and probabilities for the entire batch\n",
    "            actions, probabilities = agent.choose_action(x_batch, s_batch, threshold=threshold)\n",
    "            train_data = lgb.Dataset(x_batch, label=actions)\n",
    "            valid_data = lgb.Dataset(x_batch, label=actions)\n",
    "            model_lgb = lgb.train(params, train_data, num_boost_round=1, init_model=model_lgb, keep_training_booster=True)\n",
    "    \n",
    "\n",
    "            # Fit the model on the current batch and update history\n",
    "            # batch_history = model.fit(x_batch, actions, epochs=1, batch_size=len(x_batch), validation_split=0.2)\n",
    "            # history['batch_loss'].append(batch_history.history['loss'][0])\n",
    "            # history['batch_accuracy'].append(batch_history.history['accuracy'][0])\n",
    "\n",
    "            lgb_probabilities = model_lgb.predict(x_batch, num_iteration=model_lgb.best_iteration)\n",
    "            threshold = calculate_threshold(lgb_probabilities, y_batch)\n",
    "            rewards = calculate_rewards(lgb_probabilities, y_batch, threshold)\n",
    "\n",
    "            # Store transitions and learn from them\n",
    "            agent.store_transition(x_batch.numpy(), actions, rewards)\n",
    "            agent.learn()\n",
    "            # break\n",
    "\n",
    "        y_pred_prob = model_lgb.predict(x_test)\n",
    "        threshold = calculate_threshold(y_pred_prob, y_test)\n",
    "        print(f\"threshold: {threshold}\")\n",
    "        y_pred = np.where(y_pred_prob >= threshold, 1, 0)\n",
    "\n",
    "        roc_auc = roc_auc_score(y_test, y_pred_prob)\n",
    "        print(\"AUC-ROC:\", roc_auc)\n",
    "        history['ROC_AUC'].append(roc_auc)\n",
    "\n",
    "        accuracy = accuracy_score(y_test, y_pred)\n",
    "        print(\"Accuracy:\", accuracy)\n",
    "        history['accuracy'].append(roc_auc)\n",
    "\n",
    "        precision, recall, _ = precision_recall_curve(y_true=y_test, probas_pred=y_pred_prob)\n",
    "        pr_auc = auc(recall, precision)\n",
    "        history['PR_AUC'].append(pr_auc)\n",
    "        print(\"Precision:\", pr_auc)\n",
    "\n",
    "        conf_matrix = confusion_matrix(y_test, y_pred)\n",
    "        print(\"Confusion Matrix:\")\n",
    "        print(conf_matrix)\n",
    "        # Test the confustion matrix and test the inputs\n",
    "\n",
    "        recall = recall_score(y_test, y_pred)\n",
    "        print(\"Recall:\", recall)\n",
    "        history['recall'].append(recall)\n",
    "\n",
    "        # Calculate F1 score\n",
    "        f1 = f1_score(y_test, y_pred)\n",
    "        print(\"F1 Score:\", f1)\n",
    "        history['f1'].append(f1)\n",
    "\n",
    "\n",
    "        if epoch % 3 == 0:\n",
    "            print(\"Updating target policy...\")\n",
    "            agent.target_model.set_weights(agent.model.get_weights())\n",
    "\n",
    "\n",
    "train_model(x_train=x_train, y_train=y_train, s=y_train, model_lgb=model_lgb)"
   ]
  },
  {
   "cell_type": "code",
   "execution_count": 13,
   "metadata": {},
   "outputs": [
    {
     "name": "stdout",
     "output_type": "stream",
     "text": [
      "{'epoch_loss': [], 'epoch_accuracy': [], 'batch_loss': [], 'batch_accuracy': [], 'predictions': [], 'rewards': [], 'thresholds': [], 'ROC_AUC': [0.989200309753531, 0.9926025965941934, 0.9924154847124035, 0.9922098469017238, 0.992096838735494, 0.9786868451084136, 0.9959919152846324, 0.9959678315770752, 0.9957658989521736, 0.9955861974419398, 0.9955195040979357, 0.9955695241059387, 0.9956917952366132, 0.9956853111615015, 0.9956149126317193, 0.9955926815170512, 0.9956010181850519, 0.9955361774339364, 0.9954954203903783, 0.9953759281490375, 0.9953629599988144, 0.9953851911134826, 0.9955519244734932, 0.9956760481970565, 0.9956797533828347, 0.9955398826197145, 0.9952823722081425, 0.9950044832747915, 0.9949970729032352, 0.9949340847450092, 0.994878506958339, 0.9948599810294487, 0.994887769922784, 0.9948247817645577, 0.9947692039778874, 0.9947302995272185, 0.9948081084285567, 0.9947840247209996, 0.9948025506498896, 0.9947821721281105, 0.9947840247209996, 0.9947265943414404, 0.9946247017325448, 0.9946450802543241, 0.994520030234316, 0.994521882827205, 0.9944533368903117, 0.994499651712537, 0.9944570420760898, 0.9944663050405347, 0.9943412550205268, 0.9944672313369792, 0.9944320320720881, 0.9944598209654232, 0.9943884961391962, 0.9943570020600834, 0.9943847909534185, 0.9942958664947461, 0.9942495516725209, 0.9942439938938539, 0.9941791531427386, 0.9941717427711825, 0.9941004179449557, 0.994163406103182, 0.994152290545848, 0.9941606272138486, 0.9940605871978421, 0.9941513642494033, 0.9944625998547567, 0.9944829783765358, 0.9944514842974227, 0.9944274005898656, 0.9944681576334238, 0.9944311057756436, 0.9943681176174174, 0.9943551494671943, 0.9943440339098603, 0.9942791931587451, 0.994258814636966, 0.9942699301942999, 0.9941958264787397, 0.9941958264787397, 0.9941847109214057, 0.9941847109214056, 0.9941365435062914, 0.9969246958042476, 0.9969228432113585, 0.9969135802469135, 0.9969284009900256, 0.9968894965393564, 0.9968709706104664, 0.9971618276940405, 0.9971525647295955, 0.9970895765713692, 0.9970691980495903, 0.9970321461918099, 0.9970191780415871, 0.996985831369585, 0.9969580424762499, 0.9970599350851451, 0.9970636402709232, 0.997021030634476, 0.9970803136069243, 0.9970673454567012, 0.9970599350851452, 0.9970543773064782, 0.9970080624842529, 0.99699509433403, 0.9969802735909179, 0.9969784209980288, 0.9969673054406948, 0.9969395165473597, 0.9969191380255806, 0.9968857913535785, 0.9968746757962443, 0.9968598550531325, 0.9968190980095741, 0.9967931617091281, 0.996746846886903, 0.9967264683651238, 0.9966894165073437, 0.9966616276140086, 0.9966375439064515, 0.9966208705704503, 0.9965949342700043, 0.9965856713055592, 0.996543061669112, 0.996511567589999, 0.9964634001748849, 0.9964393164673276, 0.9964411690602167, 0.9964115275739924, 0.9963855912735465, 0.9963540971944334, 0.9963466868228773, 0.9962985194077632, 0.996274435700206, 0.9962799934788731, 0.996265172735761, 0.9962484993997598, 0.9962244156922028, 0.9962077423562018, 0.9961799534628666, 0.9961614275339765, 0.9961317860477525, 0.9961077023401954, 0.9961039971544173, 0.9960947341899722, 0.9960984393757504, 0.9960780608539712, 0.9960576823321923, 0.9960354512175241, 0.9960002519526329, 0.9959928415810768, 0.9959520845375187, 0.9959020645295156, 0.9958613074859572, 0.9958131400708432, 0.995766825248618, 0.9958520445215122], 'accuracy': [0.989200309753531, 0.9926025965941934, 0.9924154847124035, 0.9922098469017238, 0.992096838735494, 0.9786868451084136, 0.9959919152846324, 0.9959678315770752, 0.9957658989521736, 0.9955861974419398, 0.9955195040979357, 0.9955695241059387, 0.9956917952366132, 0.9956853111615015, 0.9956149126317193, 0.9955926815170512, 0.9956010181850519, 0.9955361774339364, 0.9954954203903783, 0.9953759281490375, 0.9953629599988144, 0.9953851911134826, 0.9955519244734932, 0.9956760481970565, 0.9956797533828347, 0.9955398826197145, 0.9952823722081425, 0.9950044832747915, 0.9949970729032352, 0.9949340847450092, 0.994878506958339, 0.9948599810294487, 0.994887769922784, 0.9948247817645577, 0.9947692039778874, 0.9947302995272185, 0.9948081084285567, 0.9947840247209996, 0.9948025506498896, 0.9947821721281105, 0.9947840247209996, 0.9947265943414404, 0.9946247017325448, 0.9946450802543241, 0.994520030234316, 0.994521882827205, 0.9944533368903117, 0.994499651712537, 0.9944570420760898, 0.9944663050405347, 0.9943412550205268, 0.9944672313369792, 0.9944320320720881, 0.9944598209654232, 0.9943884961391962, 0.9943570020600834, 0.9943847909534185, 0.9942958664947461, 0.9942495516725209, 0.9942439938938539, 0.9941791531427386, 0.9941717427711825, 0.9941004179449557, 0.994163406103182, 0.994152290545848, 0.9941606272138486, 0.9940605871978421, 0.9941513642494033, 0.9944625998547567, 0.9944829783765358, 0.9944514842974227, 0.9944274005898656, 0.9944681576334238, 0.9944311057756436, 0.9943681176174174, 0.9943551494671943, 0.9943440339098603, 0.9942791931587451, 0.994258814636966, 0.9942699301942999, 0.9941958264787397, 0.9941958264787397, 0.9941847109214057, 0.9941847109214056, 0.9941365435062914, 0.9969246958042476, 0.9969228432113585, 0.9969135802469135, 0.9969284009900256, 0.9968894965393564, 0.9968709706104664, 0.9971618276940405, 0.9971525647295955, 0.9970895765713692, 0.9970691980495903, 0.9970321461918099, 0.9970191780415871, 0.996985831369585, 0.9969580424762499, 0.9970599350851451, 0.9970636402709232, 0.997021030634476, 0.9970803136069243, 0.9970673454567012, 0.9970599350851452, 0.9970543773064782, 0.9970080624842529, 0.99699509433403, 0.9969802735909179, 0.9969784209980288, 0.9969673054406948, 0.9969395165473597, 0.9969191380255806, 0.9968857913535785, 0.9968746757962443, 0.9968598550531325, 0.9968190980095741, 0.9967931617091281, 0.996746846886903, 0.9967264683651238, 0.9966894165073437, 0.9966616276140086, 0.9966375439064515, 0.9966208705704503, 0.9965949342700043, 0.9965856713055592, 0.996543061669112, 0.996511567589999, 0.9964634001748849, 0.9964393164673276, 0.9964411690602167, 0.9964115275739924, 0.9963855912735465, 0.9963540971944334, 0.9963466868228773, 0.9962985194077632, 0.996274435700206, 0.9962799934788731, 0.996265172735761, 0.9962484993997598, 0.9962244156922028, 0.9962077423562018, 0.9961799534628666, 0.9961614275339765, 0.9961317860477525, 0.9961077023401954, 0.9961039971544173, 0.9960947341899722, 0.9960984393757504, 0.9960780608539712, 0.9960576823321923, 0.9960354512175241, 0.9960002519526329, 0.9959928415810768, 0.9959520845375187, 0.9959020645295156, 0.9958613074859572, 0.9958131400708432, 0.995766825248618, 0.9958520445215122], 'PR_AUC': [0.9445319983736222, 0.9471459802795588, 0.9469416629846381, 0.9472060249980356, 0.9470736808677542, 0.9466542345150487, 0.9489545830237723, 0.9489149293443717, 0.9486979142473182, 0.9484326025266874, 0.9479336969700767, 0.9478668452592744, 0.948427637093271, 0.9486809670384161, 0.9478822320735985, 0.9474567015227768, 0.9476844475674614, 0.9472270770394999, 0.9463777757949128, 0.9463097818179905, 0.9462447688895099, 0.9460693903845283, 0.9456324031652259, 0.9455878902366058, 0.9455210749869108, 0.9454326010878138, 0.9452694421907003, 0.9455872934522435, 0.9455405979519866, 0.94553916090376, 0.9454508120576308, 0.94537835123079, 0.9453313865657872, 0.9452607843416216, 0.9452165837093257, 0.9452350885681834, 0.9453721108959372, 0.9455127404185028, 0.9454298016080854, 0.9453464892415899, 0.9453228570811282, 0.945211732465694, 0.9451767346855987, 0.9447667119866245, 0.9447015209703833, 0.9448862761029843, 0.9448691009705795, 0.944842725698415, 0.9447280730302837, 0.9447074319607006, 0.9446392541127694, 0.9449121510052894, 0.9450281703378655, 0.9454968532470965, 0.9454457614698892, 0.9450440678370058, 0.9452171797764104, 0.9451873553991502, 0.9451191182940184, 0.944400120857511, 0.944278889019719, 0.9444012082056525, 0.9443574805588801, 0.9445522717991786, 0.9446573617780069, 0.9445664682716063, 0.9444854463377849, 0.944484524363022, 0.9446354599172364, 0.9449256625775373, 0.9449072233160059, 0.9445507644521031, 0.9445065268964339, 0.9444529396628906, 0.9443066389664808, 0.944246681820936, 0.9442050419822622, 0.9441702171371817, 0.9441286731800881, 0.9443313607649091, 0.9442753693880367, 0.9443918516875982, 0.9445545334931531, 0.9447839729595632, 0.9447266794969503, 0.9455479282269766, 0.9456566896219941, 0.9456491765494862, 0.9457783784421908, 0.9458698272510032, 0.9458809710984961, 0.9461031690479633, 0.946048063482637, 0.9459867785338698, 0.9457065513328964, 0.9455956832442959, 0.9455849509727172, 0.9455531635755725, 0.945555682413663, 0.945630486730967, 0.9457370677455154, 0.9456209064139409, 0.9456689914675335, 0.9453866536424568, 0.9455701324884238, 0.9460081540122338, 0.9459382553753807, 0.9461449361103248, 0.9462317820773244, 0.9465518771216124, 0.946504775363835, 0.9461851837917149, 0.9461690190804914, 0.9462581229665309, 0.9463287749003025, 0.9461125982413641, 0.9460009754912494, 0.9459028147776462, 0.9459493541286051, 0.9456584769840689, 0.9457565909516312, 0.9457803732778725, 0.9457222477881186, 0.9456284931932167, 0.9456948551392681, 0.945774281533398, 0.9454802460708529, 0.9455488979710222, 0.9455202059171807, 0.9454618625371258, 0.9455521253590483, 0.9454901982903514, 0.9454755036115814, 0.9453699031045673, 0.94540955231714, 0.945427729127483, 0.9454599318047039, 0.9456495140348081, 0.9456901098556104, 0.9458310170773413, 0.9458186581338701, 0.9457595642476424, 0.9458476234749529, 0.9459436366905465, 0.9459829904931076, 0.9460816417950759, 0.9460798695388337, 0.946131903403184, 0.9462492408889779, 0.9462396506031341, 0.9462893704916827, 0.9463392778805492, 0.9463232960807982, 0.946319967796821, 0.9463018764643387, 0.9462801640744491, 0.9462628674426398, 0.9462428406855797, 0.9462240479887309, 0.9462594794014092], 'recall': [0.9444444444444444, 0.9444444444444444, 0.9444444444444444, 0.9444444444444444, 0.9444444444444444, 0.9444444444444444, 0.9444444444444444, 0.9444444444444444, 0.9444444444444444, 0.9444444444444444, 0.9444444444444444, 0.9444444444444444, 0.9444444444444444, 0.9444444444444444, 0.9444444444444444, 0.9444444444444444, 0.9444444444444444, 0.9444444444444444, 0.9444444444444444, 0.9444444444444444, 0.9444444444444444, 0.9444444444444444, 0.9444444444444444, 0.9444444444444444, 0.9444444444444444, 0.9444444444444444, 0.9444444444444444, 0.9444444444444444, 0.9444444444444444, 0.9444444444444444, 0.9444444444444444, 0.9444444444444444, 0.9444444444444444, 0.9444444444444444, 0.9444444444444444, 0.9444444444444444, 0.9444444444444444, 0.9444444444444444, 0.9444444444444444, 0.9444444444444444, 0.9444444444444444, 0.9444444444444444, 0.9444444444444444, 0.9444444444444444, 0.9444444444444444, 0.9444444444444444, 0.9444444444444444, 0.9444444444444444, 0.9444444444444444, 0.9444444444444444, 0.9444444444444444, 0.9444444444444444, 0.9444444444444444, 0.9444444444444444, 0.9444444444444444, 0.9444444444444444, 0.9444444444444444, 0.9444444444444444, 0.9444444444444444, 0.9444444444444444, 0.9444444444444444, 0.9444444444444444, 0.9444444444444444, 0.9444444444444444, 0.9444444444444444, 0.9444444444444444, 0.9444444444444444, 0.9444444444444444, 0.9444444444444444, 0.9444444444444444, 0.9444444444444444, 0.9444444444444444, 0.9444444444444444, 0.9444444444444444, 0.9444444444444444, 0.9444444444444444, 0.9444444444444444, 0.9444444444444444, 0.9444444444444444, 0.9444444444444444, 0.9444444444444444, 0.9444444444444444, 0.9444444444444444, 0.9444444444444444, 0.9444444444444444, 0.9444444444444444, 0.9444444444444444, 0.9444444444444444, 0.9444444444444444, 0.9444444444444444, 0.9444444444444444, 0.9444444444444444, 0.9444444444444444, 0.9444444444444444, 0.9444444444444444, 0.9444444444444444, 0.9444444444444444, 0.9444444444444444, 0.9444444444444444, 0.9444444444444444, 0.9444444444444444, 0.9444444444444444, 0.9444444444444444, 0.9444444444444444, 0.9444444444444444, 0.9444444444444444, 0.9444444444444444, 0.9444444444444444, 0.9444444444444444, 0.9444444444444444, 0.9444444444444444, 0.9444444444444444, 0.9444444444444444, 0.9444444444444444, 0.9444444444444444, 0.9444444444444444, 0.9444444444444444, 0.9444444444444444, 0.9444444444444444, 0.9444444444444444, 0.9444444444444444, 0.9444444444444444, 0.9444444444444444, 0.9444444444444444, 0.9444444444444444, 0.9444444444444444, 0.9444444444444444, 0.9444444444444444, 0.9444444444444444, 0.9444444444444444, 0.9444444444444444, 0.9444444444444444, 0.9444444444444444, 0.9444444444444444, 0.9444444444444444, 0.9444444444444444, 0.9444444444444444, 0.9444444444444444, 0.9444444444444444, 0.9444444444444444, 0.9444444444444444, 0.9444444444444444, 0.9444444444444444, 0.9444444444444444, 0.9444444444444444, 0.9444444444444444, 0.9444444444444444, 0.9444444444444444, 0.9444444444444444, 0.9444444444444444, 0.9444444444444444, 0.9444444444444444, 0.9444444444444444, 0.9444444444444444, 0.9444444444444444, 0.9444444444444444, 0.9444444444444444, 0.9444444444444444, 0.9444444444444444, 0.9444444444444444], 'f1': [0.7034482758620689, 0.7083333333333334, 0.7034482758620689, 0.7132867132867133, 0.723404255319149, 0.4015748031496063, 0.7846153846153846, 0.7555555555555555, 0.75, 0.75, 0.7555555555555555, 0.7786259541984732, 0.7786259541984732, 0.7727272727272727, 0.7727272727272727, 0.7786259541984732, 0.7846153846153846, 0.7846153846153846, 0.7846153846153846, 0.7846153846153846, 0.7786259541984732, 0.7846153846153846, 0.8031496062992126, 0.8095238095238095, 0.8095238095238095, 0.8095238095238095, 0.796875, 0.7846153846153846, 0.7846153846153846, 0.7906976744186046, 0.7846153846153846, 0.7906976744186046, 0.7906976744186046, 0.796875, 0.796875, 0.796875, 0.8031496062992126, 0.8031496062992126, 0.8031496062992126, 0.8031496062992126, 0.8031496062992126, 0.8031496062992126, 0.796875, 0.796875, 0.796875, 0.796875, 0.796875, 0.796875, 0.796875, 0.796875, 0.7846153846153846, 0.7846153846153846, 0.7846153846153846, 0.7846153846153846, 0.7906976744186046, 0.796875, 0.796875, 0.796875, 0.796875, 0.796875, 0.796875, 0.7906976744186046, 0.7906976744186046, 0.7906976744186046, 0.7906976744186046, 0.7906976744186046, 0.7906976744186046, 0.7906976744186046, 0.8095238095238095, 0.8095238095238095, 0.8095238095238095, 0.8095238095238095, 0.8095238095238095, 0.8095238095238095, 0.8095238095238095, 0.8095238095238095, 0.8095238095238095, 0.8095238095238095, 0.8031496062992126, 0.8031496062992126, 0.8031496062992126, 0.8031496062992126, 0.8031496062992126, 0.8031496062992126, 0.8031496062992126, 0.9107142857142857, 0.9107142857142857, 0.9026548672566371, 0.9026548672566371, 0.8947368421052632, 0.8947368421052632, 0.9026548672566371, 0.9026548672566371, 0.8947368421052632, 0.8947368421052632, 0.8947368421052632, 0.8947368421052632, 0.8947368421052632, 0.8947368421052632, 0.8947368421052632, 0.9026548672566371, 0.8947368421052632, 0.8947368421052632, 0.8947368421052632, 0.8947368421052632, 0.8947368421052632, 0.8947368421052632, 0.8947368421052632, 0.8947368421052632, 0.8947368421052632, 0.9026548672566371, 0.8947368421052632, 0.8947368421052632, 0.8947368421052632, 0.8947368421052632, 0.8947368421052632, 0.8947368421052632, 0.8947368421052632, 0.8947368421052632, 0.8947368421052632, 0.8947368421052632, 0.8947368421052632, 0.8947368421052632, 0.8947368421052632, 0.8947368421052632, 0.8947368421052632, 0.8869565217391304, 0.8869565217391304, 0.8793103448275862, 0.8793103448275862, 0.8793103448275862, 0.8793103448275862, 0.8793103448275862, 0.8793103448275862, 0.8793103448275862, 0.8793103448275862, 0.8793103448275862, 0.8793103448275862, 0.8793103448275862, 0.8793103448275862, 0.8793103448275862, 0.8793103448275862, 0.8793103448275862, 0.8793103448275862, 0.8717948717948718, 0.8717948717948718, 0.8717948717948718, 0.8717948717948718, 0.8717948717948718, 0.8717948717948718, 0.8717948717948718, 0.8717948717948718, 0.8717948717948718, 0.8717948717948718, 0.8717948717948718, 0.8717948717948718, 0.8717948717948718, 0.8717948717948718, 0.8717948717948718, 0.8717948717948718]}\n"
     ]
    }
   ],
   "source": [
    "import pickle\n",
    "with open('history_XGB.pkl', 'wb') as file:\n",
    "    # Use pickle to dump the dictionary into the file\n",
    "    pickle.dump(history, file)\n",
    "\n",
    "with open('history_XGB.pkl', 'rb') as file:\n",
    "    # Load the dictionary back from the pickle file\n",
    "    loaded_history = pickle.load(file)\n",
    "\n",
    "# Verify the content\n",
    "print(loaded_history)"
   ]
  },
  {
   "cell_type": "code",
   "execution_count": null,
   "metadata": {},
   "outputs": [],
   "source": [
    "# import matplotlib.pyplot as plt\n",
    "\n",
    "# # Plotting epoch losses and accuracies\n",
    "# plt.figure(figsize=(14, 5))\n",
    "\n",
    "# plt.subplot(1, 2, 1)\n",
    "# plt.plot(history['batch_loss'], label='Loss')\n",
    "# plt.title('Epoch Loss')\n",
    "# plt.xlabel('Epoch')\n",
    "# plt.ylabel('Loss')\n",
    "# plt.legend()\n",
    "\n",
    "# plt.subplot(1, 2, 2)\n",
    "# plt.plot(history['batch_accuracy'], label='Accuracy')\n",
    "# plt.title('Epoch Accuracy')\n",
    "# plt.xlabel('Epoch')\n",
    "# plt.ylabel('Accuracy')\n",
    "# plt.legend()\n",
    "\n",
    "# plt.show()\n",
    "\n",
    "# # You can add more plots for batch-level data, rewards, thresholds, etc.\n"
   ]
  },
  {
   "cell_type": "code",
   "execution_count": 6,
   "metadata": {},
   "outputs": [],
   "source": []
  },
  {
   "cell_type": "markdown",
   "metadata": {},
   "source": [
    "# Visual"
   ]
  },
  {
   "cell_type": "code",
   "execution_count": 7,
   "metadata": {},
   "outputs": [
    {
     "data": {
      "text/plain": [
       "<matplotlib.legend.Legend at 0x78731400>"
      ]
     },
     "execution_count": 7,
     "metadata": {},
     "output_type": "execute_result"
    },
    {
     "data": {
      "image/png": "[encoded data removed]",
      "text/plain": [
       "<Figure size 1800x500 with 3 Axes>"
      ]
     },
     "metadata": {},
     "output_type": "display_data"
    }
   ],
   "source": [
    "plt.figure(figsize=(18, 5))\n",
    "\n",
    "plt.subplot(1, 3, 1)\n",
    "plt.plot(history['ROC_AUC'], label='ROC')\n",
    "plt.title('ROC AUC')\n",
    "plt.xlabel('Epoch')\n",
    "plt.ylabel('ROC')\n",
    "plt.legend()\n",
    "\n",
    "plt.subplot(1, 3, 2)\n",
    "plt.plot(history['accuracy'], label='Accuracy')\n",
    "plt.title('Epoch Accuracy')\n",
    "plt.xlabel('Epoch')\n",
    "plt.ylabel('Accuracy')\n",
    "plt.legend()\n",
    "\n",
    "plt.subplot(1, 3, 3)\n",
    "plt.plot(history['PR_AUC'], label='Accuracy')\n",
    "plt.title('PR AUC')\n",
    "plt.xlabel('Epoch')\n",
    "plt.ylabel('PR@Epoch')\n",
    "plt.legend()"
   ]
  },
  {
   "cell_type": "code",
   "execution_count": 22,
   "metadata": {},
   "outputs": [
    {
     "data": {
      "text/plain": [
       "<matplotlib.legend.Legend at 0xa1d41c10>"
      ]
     },
     "execution_count": 22,
     "metadata": {},
     "output_type": "execute_result"
    },
    {
     "data": {
      "image/png": "[encoded data removed]",
      "text/plain": [
       "<Figure size 1400x500 with 2 Axes>"
      ]
     },
     "metadata": {},
     "output_type": "display_data"
    }
   ],
   "source": [
    "plt.figure(figsize=(14, 5))\n",
    "\n",
    "plt.subplot(1, 2, 1)\n",
    "plt.plot(history['recall'], label='Recall')\n",
    "plt.title('Recall')\n",
    "plt.xlabel('Epoch')\n",
    "plt.ylabel('Recall')\n",
    "plt.legend()\n",
    "\n",
    "plt.subplot(1, 2, 2)\n",
    "plt.plot(history['f1'], label='F1')\n",
    "plt.title('F1@Epoch')\n",
    "plt.xlabel('Epoch')\n",
    "plt.ylabel('F1')\n",
    "plt.legend()\n",
    "\n",
    "# plt.subplot(1, 3, 3)\n",
    "# plt.plot(history['PR_AUC'], label='Accuracy')\n",
    "# plt.title('PR AUC')\n",
    "# plt.xlabel('Epoch')\n",
    "# plt.ylabel('PR@Epoch')\n",
    "# plt.legend()"
   ]
  },
  {
   "cell_type": "code",
   "execution_count": null,
   "metadata": {},
   "outputs": [],
   "source": []
  }
 ],
 "metadata": {
  "kernelspec": {
   "display_name": "Python 3",
   "language": "python",
   "name": "python3"
  },
  "language_info": {
   "codemirror_mode": {
    "name": "ipython",
    "version": 3
   },
   "file_extension": ".py",
   "mimetype": "text/x-python",
   "name": "python",
   "nbconvert_exporter": "python",
   "pygments_lexer": "ipython3",
   "version": "3.9.19"
  }
 },
 "nbformat": 4,
 "nbformat_minor": 2
}
