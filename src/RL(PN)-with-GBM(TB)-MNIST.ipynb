{
 "cells": [
  {
   "cell_type": "code",
   "execution_count": 1,
   "metadata": {},
   "outputs": [],
   "source": [
    "import numpy as np\n",
    "from tensorflow.keras.datasets import mnist\n",
    "from tensorflow.keras.models import Sequential\n",
    "from tensorflow.keras.layers import Conv2D, MaxPooling2D, Flatten, Dense\n",
    "from sklearn.model_selection import train_test_split\n",
    "import matplotlib.pyplot as plt\n",
    "import numpy as np\n",
    "from tensorflow.keras.optimizers import Adam\n",
    "import tensorflow as tf\n",
    "from uitils import *\n",
    "import pandas as pd\n",
    "from sklearn.metrics import accuracy_score\n",
    "from tensorflow.keras.models import Sequential\n",
    "from tensorflow.keras.layers import Conv2D, MaxPooling2D, Flatten, Dense, Activation, BatchNormalization\n",
    "from sklearn.metrics import roc_auc_score, precision_score, recall_score\n",
    "from sklearn.metrics import precision_recall_curve, auc\n",
    "from sklearn.metrics import roc_auc_score, accuracy_score, precision_recall_curve, auc, recall_score, f1_score, confusion_matrix"
   ]
  },
  {
   "cell_type": "code",
   "execution_count": 2,
   "metadata": {},
   "outputs": [
    {
     "name": "stdout",
     "output_type": "stream",
     "text": [
      "Num GPUs Available:  1\n",
      "GPU support: gpu\n"
     ]
    }
   ],
   "source": [
    "import tensorflow as tf\n",
    "print(\"Num GPUs Available: \", len(tf.config.list_physical_devices('GPU')))\n",
    "\n",
    "import lightgbm as lgb\n",
    "print('GPU support:', lgb.LGBMClassifier(device='gpu').get_params()['device'])\n",
    "\n"
   ]
  },
  {
   "cell_type": "markdown",
   "metadata": {},
   "source": [
    "# Data Loading"
   ]
  },
  {
   "cell_type": "code",
   "execution_count": 3,
   "metadata": {},
   "outputs": [
    {
     "name": "stdout",
     "output_type": "stream",
     "text": [
      "Reduced training set shape: (60000, 28, 28)\n",
      "Reduced testing set shape: (10000, 28, 28)\n",
      "Training labels distribution: [30367   980]\n",
      "Training original labels distribution: [30367   980]\n"
     ]
    }
   ],
   "source": [
    "import numpy as np\n",
    "from keras.datasets import mnist\n",
    "import lightgbm as lgb\n",
    "from sklearn.metrics import accuracy_score\n",
    "\n",
    "# Random samples selector\n",
    "def extract_samples(x, y, num_samples):\n",
    "    indices = np.random.choice(x.shape[0], num_samples, replace=False)\n",
    "    return x[indices], y[indices]\n",
    "\n",
    "# Load MNIST dataset\n",
    "(x_train, y_train), (x_test, y_test) = mnist.load_data()\n",
    "# x_train, y_train = extract_samples(x_train, y_train, 500)\n",
    "# x_test, y_test = extract_samples(x_test, y_test, 100)\n",
    "print(\"Reduced training set shape:\", x_train.shape)\n",
    "print(\"Reduced testing set shape:\", x_test.shape)\n",
    "\n",
    "# Normalize data\n",
    "x_train = x_train / 255.0\n",
    "x_test = x_test / 255.0\n",
    "\n",
    "# Flatten the images for LightGBM\n",
    "x_train = x_train.reshape((x_train.shape[0], -1))\n",
    "x_test = x_test.reshape((x_test.shape[0], -1))\n",
    "\n",
    "# Convert labels to 0 (even) and 1 (odd)\n",
    "y_train = y_train % 2\n",
    "y_test = y_test % 2\n",
    "\n",
    "# Initialize 's' to zeros, meaning initially all are unlabeled\n",
    "s = np.zeros_like(y_train)\n",
    "\n",
    "# Select a random 1000 samples where y_train == 1 to be labeled\n",
    "positive_indices = np.where(y_train == 1)[0]\n",
    "chosen_indices = np.random.choice(positive_indices, size=1000)\n",
    "\n",
    "# Mark these as labeled in 's'\n",
    "s[chosen_indices] = 1\n",
    "\n",
    "# Mark the rest of the positive_indices except the chosen 1000 as potential targets for unlabeled marking\n",
    "rest_of_positives = np.setdiff1d(positive_indices, chosen_indices)\n",
    "\n",
    "# From the rest, select 3% and mark their labels as 0 in y_train\n",
    "number_to_mark_unlabeled = int(len(rest_of_positives) * 0.03)\n",
    "unlabeled_indices = np.random.choice(rest_of_positives, size=number_to_mark_unlabeled)\n",
    "y_train[unlabeled_indices] = 0\n",
    "\n",
    "# Remove the rest of the positive rows that are not in the chosen 1000 and not marked as unlabeled\n",
    "indices_to_drop = np.setdiff1d(rest_of_positives, np.concatenate([chosen_indices, unlabeled_indices]))\n",
    "x_train = np.delete(x_train, indices_to_drop, axis=0)\n",
    "y_train = np.delete(y_train, indices_to_drop)\n",
    "s = np.delete(s, indices_to_drop)\n",
    "\n",
    "print(\"Training labels distribution:\", np.bincount(y_train))\n",
    "print(\"Training original labels distribution:\", np.bincount(s))\n"
   ]
  },
  {
   "cell_type": "markdown",
   "metadata": {},
   "source": [
    "# Pre-training"
   ]
  },
  {
   "cell_type": "code",
   "execution_count": 6,
   "metadata": {},
   "outputs": [
    {
     "name": "stdout",
     "output_type": "stream",
     "text": [
      "[LightGBM] [Info] Number of positive: 980, number of negative: 30367\n",
      "[LightGBM] [Info] This is the GPU trainer!!\n",
      "[LightGBM] [Info] Total Bins 99557\n",
      "[LightGBM] [Info] Number of data points in the train set: 31347, number of used features: 587\n",
      "[LightGBM] [Info] Using GPU Device: Quadro RTX 4000, Vendor: NVIDIA Corporation\n",
      "[LightGBM] [Info] Compiling OpenCL Kernel with 256 bins...\n",
      "[LightGBM] [Info] GPU programs have been built\n",
      "[LightGBM] [Info] Size of histogram bin entry: 8\n",
      "[LightGBM] [Info] 217 dense feature groups (6.58 MB) transferred to GPU in 0.063919 secs. 1 sparse feature groups\n",
      "[LightGBM] [Info] [binary:BoostFromScore]: pavg=0.031263 -> initscore=-3.433559\n",
      "[LightGBM] [Info] Start training from score -3.433559\n",
      "Accuracy: 0.4945\n"
     ]
    }
   ],
   "source": [
    "#%%%%%%%%%%%%%%%%\n",
    "# Import LightGBM and necessary libraries\n",
    "import lightgbm as lgb\n",
    "from sklearn.metrics import accuracy_score\n",
    "\n",
    "# Create LightGBM datasets\n",
    "train_data = lgb.Dataset(x_train, label=y_train)\n",
    "test_data = lgb.Dataset(x_test, label=y_test)\n",
    "\n",
    "# Set the parameters for LightGBM\n",
    "params = {\n",
    "    'boosting_type': 'gbdt',        # Gradient boosting decision tree\n",
    "    'objective': 'binary',          # Binary classification\n",
    "    'metric': 'binary_logloss',     # Evaluation metric\n",
    "    'num_leaves': 31,               # Number of leaves in full tree\n",
    "    'learning_rate': 0.01,          # Learning rate\n",
    "    'feature_fraction': 0.9,        # Fraction of features to be used at each iteration\n",
    "    'bagging_fraction': 0.8,        # Fraction of data to be used for each iteration\n",
    "    'bagging_freq': 5,              # Frequency for bagging\n",
    "    'device': 'gpu',                # Use GPU for training\n",
    "    'verbose': 1                    # Verbose output\n",
    "}\n",
    "\n",
    "# Number of boosting rounds\n",
    "num_boost_round = 100\n",
    "\n",
    "# Train the LightGBM model\n",
    "model_lgb = lgb.train(params, train_data, num_boost_round=num_boost_round, valid_sets=[test_data])\n",
    "\n",
    "# Save the model\n",
    "model_lgb.save_model('lgb_model_mnist.weights.h5')\n",
    "\n",
    "# Predict the probabilities\n",
    "y_pred_prob = model_lgb.predict(x_test)\n",
    "\n",
    "# Convert probabilities to binary predictions\n",
    "y_pred = np.where(y_pred_prob > 0.5, 1, 0)\n",
    "\n",
    "# Calculate and print the accuracy\n",
    "accuracy = accuracy_score(y_test, y_pred)\n",
    "print(\"Accuracy:\", accuracy)\n"
   ]
  },
  {
   "cell_type": "markdown",
   "metadata": {},
   "source": [
    "### Probablistic outcome of classifer to pre-train policy network\n",
    " "
   ]
  },
  {
   "cell_type": "code",
   "execution_count": 7,
   "metadata": {},
   "outputs": [
    {
     "name": "stdout",
     "output_type": "stream",
     "text": [
      "Classifer predicted labels distribution: [ 1700 29647]\n"
     ]
    },
    {
     "data": {
      "image/png": "[encoded data removed]",
      "text/plain": [
       "<Figure size 640x480 with 1 Axes>"
      ]
     },
     "metadata": {},
     "output_type": "display_data"
    }
   ],
   "source": [
    "# probabilities = model_lgb.predict(x_train)\n",
    "# threshold = min(probabilities[y_train == 1])\n",
    "\n",
    "# # Convert probabilities to binary labels based on the threshold\n",
    "# predicted_labels = (probabilities >= threshold).astype(int)\n",
    "# clf_predicted_labels = predicted_labels.flatten().astype(int)\n",
    "\n",
    "\n",
    "y_pred = model_lgb.predict(x_train, num_iteration=model_lgb.best_iteration)\n",
    "threshold = min(y_pred[y_train == 1])\n",
    "lgb_predicted_labels = np.array([1 if pred >= threshold else 0 for pred in y_pred])\n",
    "print(\"Classifer predicted labels distribution:\", np.bincount(lgb_predicted_labels))\n",
    "\n",
    "bin_ploter(predicted_labels=lgb_predicted_labels)"
   ]
  },
  {
   "cell_type": "code",
   "execution_count": 8,
   "metadata": {},
   "outputs": [
    {
     "name": "stdout",
     "output_type": "stream",
     "text": [
      "Epoch 1/10\n",
      "196/196 [==============================] - 4s 14ms/step - loss: 0.0978 - accuracy: 0.9650 - val_loss: 0.0662 - val_accuracy: 0.9745\n",
      "Epoch 2/10\n",
      "196/196 [==============================] - 3s 13ms/step - loss: 0.0594 - accuracy: 0.9768 - val_loss: 0.0555 - val_accuracy: 0.9772\n",
      "Epoch 3/10\n",
      "196/196 [==============================] - 4s 20ms/step - loss: 0.0554 - accuracy: 0.9783 - val_loss: 0.0628 - val_accuracy: 0.9753\n",
      "Epoch 4/10\n",
      "196/196 [==============================] - 5s 25ms/step - loss: 0.0499 - accuracy: 0.9794 - val_loss: 0.0490 - val_accuracy: 0.9794\n",
      "Epoch 5/10\n",
      "196/196 [==============================] - 5s 24ms/step - loss: 0.0448 - accuracy: 0.9823 - val_loss: 0.0533 - val_accuracy: 0.9777\n",
      "Epoch 6/10\n",
      "196/196 [==============================] - 5s 25ms/step - loss: 0.0394 - accuracy: 0.9834 - val_loss: 0.0467 - val_accuracy: 0.9789\n",
      "Epoch 7/10\n",
      "196/196 [==============================] - 5s 24ms/step - loss: 0.0378 - accuracy: 0.9849 - val_loss: 0.0519 - val_accuracy: 0.9786\n",
      "Epoch 8/10\n",
      "196/196 [==============================] - 5s 23ms/step - loss: 0.0377 - accuracy: 0.9840 - val_loss: 0.0498 - val_accuracy: 0.9802\n",
      "Epoch 9/10\n",
      "196/196 [==============================] - 5s 23ms/step - loss: 0.0344 - accuracy: 0.9852 - val_loss: 0.0527 - val_accuracy: 0.9783\n",
      "Epoch 10/10\n",
      "196/196 [==============================] - 5s 23ms/step - loss: 0.0310 - accuracy: 0.9863 - val_loss: 0.0609 - val_accuracy: 0.9777\n"
     ]
    }
   ],
   "source": [
    "# Policy-Network Model\n",
    "\n",
    "class PolicyGradientNetwork:\n",
    "    def __init__(self):\n",
    "        self.model = self._create_model()\n",
    "    \n",
    "    def _create_model(self):\n",
    "        model = Sequential([\n",
    "            Dense(64, input_shape=(input_dimension,)),  # Adjust `input_dimension` to match your feature count\n",
    "            Activation('relu'),\n",
    "            # Dense(256),\n",
    "            # Activation('relu'),\n",
    "            # Dense(128),\n",
    "            # Activation('relu'),\n",
    "            # Dense(64),\n",
    "            # Activation('relu'),\n",
    "            Dense(32),\n",
    "            Activation('relu'),\n",
    "            Dense(16),\n",
    "            Activation('relu'),\n",
    "            Dense(1),  # Output layer for binary classification\n",
    "            Activation('sigmoid')\n",
    "        ])\n",
    "        return model\n",
    "    \n",
    "    def get_model(self):\n",
    "        return self.model\n",
    "    \n",
    "input_dimension = x_train.shape[1]\n",
    "policy_network = PolicyGradientNetwork()\n",
    "pn_model = policy_network.get_model()\n",
    "\n",
    "pn_model.compile(optimizer=Adam(learning_rate=0.01), loss='binary_crossentropy', metrics=['accuracy'])\n",
    "\n",
    "# Fit the model with one-hot encoded labels\n",
    "# history_2 = pn_model.fit(x_train.to_numpy(), lgb_predicted_labels, epochs=60, batch_size=5, validation_split=0.2)\n",
    "history_2 = pn_model.fit(x_train, lgb_predicted_labels, epochs=10, batch_size=128, validation_split=0.2)\n",
    "pn_model.save_weights('pn_mlp_model_.weights.h5')\n",
    "# pn_model.load_weights('pn_mlp_model_.weights.h5')"
   ]
  },
  {
   "cell_type": "markdown",
   "metadata": {},
   "source": [
    "\n",
    "\n"
   ]
  },
  {
   "cell_type": "code",
   "execution_count": 9,
   "metadata": {},
   "outputs": [
    {
     "name": "stdout",
     "output_type": "stream",
     "text": [
      "980/980 [==============================] - 6s 6ms/step\n",
      "Classifer predicted labels distribution: [ 1960 29387]\n"
     ]
    },
    {
     "data": {
      "image/png": "[encoded data removed]",
      "text/plain": [
       "<Figure size 640x480 with 1 Axes>"
      ]
     },
     "metadata": {},
     "output_type": "display_data"
    }
   ],
   "source": [
    "# probabilities = pn_model.predict(x_train.to_numpy())\n",
    "probabilities = pn_model.predict(x_train)\n",
    "threshold = min(probabilities[y_train == 1])\n",
    "\n",
    "# Convert probabilities to binary labels based on the threshold\n",
    "predicted_labels = (probabilities >= threshold).astype(int)\n",
    "np_predicted_labels = predicted_labels.flatten().astype(int)\n",
    "\n",
    "print(\"Classifer predicted labels distribution:\", np.bincount(np_predicted_labels))\n",
    "bin_ploter(predicted_labels=np_predicted_labels)"
   ]
  },
  {
   "cell_type": "markdown",
   "metadata": {},
   "source": [
    "## Interactive learning"
   ]
  },
  {
   "cell_type": "code",
   "execution_count": 10,
   "metadata": {},
   "outputs": [],
   "source": [
    "import tensorflow as tf\n",
    "import numpy as np\n",
    "\n",
    "class Agent:\n",
    "    def __init__(self, model, target_model, alpha=0.00001, gamma=0.99):\n",
    "        self.gamma = gamma  # Discount factor\n",
    "        self.lr = alpha  # Learning rate\n",
    "        self.model = model  # Policy model\n",
    "        self.target_model = target_model # target policy model\n",
    "        self.state_memory = []\n",
    "        self.action_memory = []\n",
    "        self.reward_memory = []\n",
    "\n",
    "    \n",
    "    def choose_action(self, states, s, threshold=0.5):\n",
    "        # Convert states to float32 tensor within the function\n",
    "        states = tf.convert_to_tensor(states, dtype=tf.float32)\n",
    "        probabilities = self.target_model(states) \n",
    "        \n",
    "        inferred_labels = tf.cast(probabilities > threshold, tf.int32)       \n",
    "        s = tf.reshape(s, tf.shape(inferred_labels))  # Ensuring s is the same shape as inferred_labels\n",
    "        actions = tf.where(s == 1, 1, inferred_labels)\n",
    "        actions = tf.squeeze(actions)  # This should correctly squeeze actions to shape (128,)\n",
    "        return actions.numpy(), probabilities.numpy()\n",
    "\n",
    "\n",
    "        # actions = tf.cast(tf.random.uniform(tf.shape(probabilities)) < probabilities, tf.int32)\n",
    "        # return actions.numpy(), probabilities.numpy()\n",
    "\n",
    "\n",
    "    def store_transition(self, states, actions, rewards):\n",
    "        self.state_memory.extend(states)\n",
    "        self.action_memory.extend(actions)\n",
    "        self.reward_memory.extend(rewards)\n",
    "\n",
    "    def learn(self):\n",
    "        actions = np.array(self.action_memory)\n",
    "        rewards = np.array(self.reward_memory)\n",
    "        states = np.array(self.state_memory)\n",
    "\n",
    "        # Calculate discounted rewards\n",
    "        G = np.zeros_like(rewards)\n",
    "        for t in range(len(rewards)):\n",
    "            G_sum = 0\n",
    "            discount = 1\n",
    "            for k in range(t, len(rewards)):\n",
    "                G_sum += rewards[k] * discount\n",
    "                discount *= self.gamma\n",
    "            G[t] = G_sum\n",
    "\n",
    "        # Updating policy\n",
    "        with tf.GradientTape() as tape:\n",
    "            loss = 0\n",
    "            for idx, (g, state) in enumerate(zip(G, states)):\n",
    "                state = tf.convert_to_tensor([state], dtype=tf.float32)\n",
    "                probs = self.model(state, training=True)\n",
    "                action_probs = tf.where(actions[idx] == 1, probs, 1 - probs)\n",
    "                log_prob = tf.math.log(action_probs)\n",
    "                loss += -g * tf.reduce_sum(log_prob)\n",
    "\n",
    "        gradients = tape.gradient(loss, self.model.trainable_variables)\n",
    "        self.model.optimizer.apply_gradients(zip(gradients, self.model.trainable_variables))\n",
    "\n",
    "        # Clear memory\n",
    "        self.state_memory = []\n",
    "        self.action_memory = []\n",
    "        self.reward_memory = []\n"
   ]
  },
  {
   "cell_type": "code",
   "execution_count": 11,
   "metadata": {},
   "outputs": [],
   "source": [
    "# Clone policy model for stable target policy\n",
    "target_policy_model = tf.keras.models.clone_model(pn_model)\n",
    "target_policy_model.compile(optimizer=Adam(learning_rate=0.00001), loss='binary_crossentropy', metrics=['accuracy'])\n"
   ]
  },
  {
   "cell_type": "code",
   "execution_count": 12,
   "metadata": {},
   "outputs": [],
   "source": [
    "history = {\n",
    "    'epoch_loss': [],\n",
    "    'epoch_accuracy': [],\n",
    "    'batch_loss': [],\n",
    "    'batch_accuracy': [],\n",
    "    'predictions': [],\n",
    "    'rewards': [],\n",
    "    'thresholds': [],\n",
    "    'ROC_AUC': [],\n",
    "    'accuracy':[],\n",
    "    'PR_AUC':[],\n",
    "    'recall':[],\n",
    "    'f1':[]\n",
    "}\n",
    "\n",
    "agent = Agent(pn_model,target_model=target_policy_model, alpha=0.00001, gamma=0.99)\n",
    "# Example parameters\n",
    "n_epochs = 300\n",
    "n_epochs = 10\n",
    "batch_size = 128 # You can adjust the batch size as needed\n",
    "\n",
    "def shuffle_data(x_train, y_train, s):\n",
    "    indices = np.arange(len(x_train))\n",
    "    np.random.shuffle(indices)\n",
    "    return x_train[indices], y_train[indices], s[indices]\n",
    "\n",
    "def create_mini_batches(x_train, y_train, s, batch_size):\n",
    "    for start_idx in range(0, len(x_train) - batch_size + 1, batch_size):\n",
    "        excerpt = slice(start_idx, start_idx + batch_size)\n",
    "        yield x_train[excerpt], y_train[excerpt], s[excerpt]\n",
    "\n",
    "def calculate_threshold(clf_probabilities, y_batch):\n",
    "    # Identify indices of positive examples\n",
    "    positive_indices = (y_batch == 1)\n",
    "    \n",
    "    # Calculate threshmin from positive examples\n",
    "    if np.any(positive_indices):\n",
    "        threshmin = np.min(clf_probabilities[positive_indices])\n",
    "    else:\n",
    "        threshmin = 0  # Default value if no positive examples are present\n",
    "\n",
    "    # Identify U0 - samples with predictions >= threshmin\n",
    "    U0_indices = (clf_probabilities >= threshmin)\n",
    "    \n",
    "    # Calculate the final threshold using Equation 5\n",
    "    if np.any(U0_indices):\n",
    "        threshold = np.mean(clf_probabilities[U0_indices])\n",
    "    else:\n",
    "        threshold = threshmin  # Use threshmin if no samples meet the U0 criteria\n",
    "\n",
    "    return threshold\n",
    "\n",
    "def calculate_rewards(clf_probabilities, y_batch, threshold):\n",
    "    # Reward calculation needs to consider whether predictions meet a certain threshold\n",
    "    # Positive examples above threshold or negative examples below threshold get positive rewards\n",
    "    rewards = []\n",
    "    for prob, actual in zip(clf_probabilities.flatten(), y_batch):\n",
    "        if actual == 1 or (actual == 0 and prob >= threshold):\n",
    "            reward = prob  # Reward is the probability itself if conditions are met\n",
    "        else:\n",
    "            reward = prob -1  # Otherwise, reward is the complement of the probability\n",
    "        rewards.append(reward)\n",
    "    return rewards"
   ]
  },
  {
   "cell_type": "code",
   "execution_count": 13,
   "metadata": {},
   "outputs": [],
   "source": [
    "# num_initial_round = 5\n",
    "# model_lgb = lgb.train(params, train_data, num_boost_round=num_initial_round, valid_sets=[test_data])\n",
    "# model_lgb.save_model('lgb_model.we7ights.h5')\n",
    "\n",
    "\n",
    "# y_pred = model_lgb.predict(x_train, num_iteration=model_lgb.best_iteration)\n",
    "# threshold = min(y_pred[y_train == 1])\n",
    "# lgb_predicted_labels = np.array([1 if pred >= threshold else 0 for pred in y_pred])\n",
    "# print(\"Classifer predicted labels distribution:\", np.bincount(lgb_predicted_labels))"
   ]
  },
  {
   "cell_type": "code",
   "execution_count": 14,
   "metadata": {},
   "outputs": [
    {
     "name": "stdout",
     "output_type": "stream",
     "text": [
      "Epoch 1/300\n"
     ]
    },
    {
     "name": "stderr",
     "output_type": "stream",
     "text": [
      "c:\\Users\\FH-Deg\\.conda\\envs\\tf_c_gpu\\lib\\site-packages\\lightgbm\\basic.py:1192: UserWarning: Converting data to scipy sparse matrix.\n",
      "  _log_warning('Converting data to scipy sparse matrix.')\n"
     ]
    },
    {
     "name": "stdout",
     "output_type": "stream",
     "text": [
      "[LightGBM] [Info] Number of positive: 26746, number of negative: 4601\n",
      "[LightGBM] [Info] This is the GPU trainer!!\n",
      "[LightGBM] [Info] Total Bins 99557\n",
      "[LightGBM] [Info] Number of data points in the train set: 31347, number of used features: 587\n",
      "[LightGBM] [Info] Using GPU Device: Quadro RTX 4000, Vendor: NVIDIA Corporation\n",
      "[LightGBM] [Info] Compiling OpenCL Kernel with 256 bins...\n",
      "[LightGBM] [Info] GPU programs have been built\n",
      "[LightGBM] [Info] Size of histogram bin entry: 8\n",
      "[LightGBM] [Info] 217 dense feature groups (6.58 MB) transferred to GPU in 0.037656 secs. 1 sparse feature groups\n",
      "threshold: 0.13416390837508763\n",
      "AUC-ROC: 0.9709253314846085\n",
      "Accuracy: 0.8651\n",
      "Precision: 0.9790826872867734\n",
      "Recall: 0.7388648009459993\n",
      "F1 Score: 0.8475189329716288\n",
      "Updating target policy...\n",
      "Epoch 2/300\n"
     ]
    },
    {
     "name": "stderr",
     "output_type": "stream",
     "text": [
      "c:\\Users\\FH-Deg\\.conda\\envs\\tf_c_gpu\\lib\\site-packages\\lightgbm\\basic.py:1192: UserWarning: Converting data to scipy sparse matrix.\n",
      "  _log_warning('Converting data to scipy sparse matrix.')\n"
     ]
    },
    {
     "name": "stdout",
     "output_type": "stream",
     "text": [
      "[LightGBM] [Info] Number of positive: 980, number of negative: 30367\n",
      "[LightGBM] [Info] This is the GPU trainer!!\n",
      "[LightGBM] [Info] Total Bins 99557\n",
      "[LightGBM] [Info] Number of data points in the train set: 31347, number of used features: 587\n",
      "[LightGBM] [Info] Using GPU Device: Quadro RTX 4000, Vendor: NVIDIA Corporation\n",
      "[LightGBM] [Info] Compiling OpenCL Kernel with 256 bins...\n",
      "[LightGBM] [Info] GPU programs have been built\n",
      "[LightGBM] [Info] Size of histogram bin entry: 8\n",
      "[LightGBM] [Info] 217 dense feature groups (6.58 MB) transferred to GPU in 0.042550 secs. 1 sparse feature groups\n",
      "threshold: 0.13466084955346858\n",
      "AUC-ROC: 0.9709262116774058\n",
      "Accuracy: 0.8648\n",
      "Precision: 0.9790986619002481\n",
      "Recall: 0.7380764682696098\n",
      "F1 Score: 0.8470934177787831\n",
      "Epoch 3/300\n"
     ]
    },
    {
     "name": "stderr",
     "output_type": "stream",
     "text": [
      "c:\\Users\\FH-Deg\\.conda\\envs\\tf_c_gpu\\lib\\site-packages\\lightgbm\\basic.py:1192: UserWarning: Converting data to scipy sparse matrix.\n",
      "  _log_warning('Converting data to scipy sparse matrix.')\n"
     ]
    },
    {
     "name": "stdout",
     "output_type": "stream",
     "text": [
      "[LightGBM] [Info] Number of positive: 980, number of negative: 30367\n",
      "[LightGBM] [Info] This is the GPU trainer!!\n",
      "[LightGBM] [Info] Total Bins 99557\n",
      "[LightGBM] [Info] Number of data points in the train set: 31347, number of used features: 587\n",
      "[LightGBM] [Info] Using GPU Device: Quadro RTX 4000, Vendor: NVIDIA Corporation\n",
      "[LightGBM] [Info] Compiling OpenCL Kernel with 256 bins...\n",
      "[LightGBM] [Info] GPU programs have been built\n",
      "[LightGBM] [Info] Size of histogram bin entry: 8\n",
      "[LightGBM] [Info] 217 dense feature groups (6.58 MB) transferred to GPU in 0.039507 secs. 1 sparse feature groups\n",
      "threshold: 0.1351867692336689\n",
      "AUC-ROC: 0.9709672206600135\n",
      "Accuracy: 0.8648\n",
      "Precision: 0.979113273573479\n",
      "Recall: 0.7382735514387071\n",
      "F1 Score: 0.8471279963817278\n",
      "Epoch 4/300\n"
     ]
    },
    {
     "name": "stderr",
     "output_type": "stream",
     "text": [
      "c:\\Users\\FH-Deg\\.conda\\envs\\tf_c_gpu\\lib\\site-packages\\lightgbm\\basic.py:1192: UserWarning: Converting data to scipy sparse matrix.\n",
      "  _log_warning('Converting data to scipy sparse matrix.')\n"
     ]
    },
    {
     "name": "stdout",
     "output_type": "stream",
     "text": [
      "[LightGBM] [Info] Number of positive: 980, number of negative: 30367\n",
      "[LightGBM] [Info] This is the GPU trainer!!\n",
      "[LightGBM] [Info] Total Bins 99557\n",
      "[LightGBM] [Info] Number of data points in the train set: 31347, number of used features: 587\n",
      "[LightGBM] [Info] Using GPU Device: Quadro RTX 4000, Vendor: NVIDIA Corporation\n",
      "[LightGBM] [Info] Compiling OpenCL Kernel with 256 bins...\n",
      "[LightGBM] [Info] GPU programs have been built\n",
      "[LightGBM] [Info] Size of histogram bin entry: 8\n",
      "[LightGBM] [Info] 217 dense feature groups (6.58 MB) transferred to GPU in 0.038890 secs. 1 sparse feature groups\n",
      "threshold: 0.13569465940274728\n",
      "AUC-ROC: 0.9709956668908757\n",
      "Accuracy: 0.8653\n",
      "Precision: 0.979140308173425\n",
      "Recall: 0.7388648009459993\n",
      "F1 Score: 0.8477105709440361\n",
      "Updating target policy...\n",
      "Epoch 5/300\n"
     ]
    },
    {
     "name": "stderr",
     "output_type": "stream",
     "text": [
      "c:\\Users\\FH-Deg\\.conda\\envs\\tf_c_gpu\\lib\\site-packages\\lightgbm\\basic.py:1192: UserWarning: Converting data to scipy sparse matrix.\n",
      "  _log_warning('Converting data to scipy sparse matrix.')\n"
     ]
    },
    {
     "name": "stdout",
     "output_type": "stream",
     "text": [
      "[LightGBM] [Info] Number of positive: 980, number of negative: 30367\n",
      "[LightGBM] [Info] This is the GPU trainer!!\n",
      "[LightGBM] [Info] Total Bins 99557\n",
      "[LightGBM] [Info] Number of data points in the train set: 31347, number of used features: 587\n",
      "[LightGBM] [Info] Using GPU Device: Quadro RTX 4000, Vendor: NVIDIA Corporation\n",
      "[LightGBM] [Info] Compiling OpenCL Kernel with 256 bins...\n",
      "[LightGBM] [Info] GPU programs have been built\n",
      "[LightGBM] [Info] Size of histogram bin entry: 8\n",
      "[LightGBM] [Info] 217 dense feature groups (6.58 MB) transferred to GPU in 0.041111 secs. 1 sparse feature groups\n",
      "threshold: 0.13611802869864897\n",
      "AUC-ROC: 0.9710671225425216\n",
      "Accuracy: 0.865\n",
      "Precision: 0.9791816801494633\n",
      "Recall: 0.7382735514387071\n",
      "F1 Score: 0.8473196109477493\n",
      "Epoch 6/300\n"
     ]
    },
    {
     "name": "stderr",
     "output_type": "stream",
     "text": [
      "c:\\Users\\FH-Deg\\.conda\\envs\\tf_c_gpu\\lib\\site-packages\\lightgbm\\basic.py:1192: UserWarning: Converting data to scipy sparse matrix.\n",
      "  _log_warning('Converting data to scipy sparse matrix.')\n"
     ]
    },
    {
     "name": "stdout",
     "output_type": "stream",
     "text": [
      "[LightGBM] [Info] Number of positive: 980, number of negative: 30367\n",
      "[LightGBM] [Info] This is the GPU trainer!!\n",
      "[LightGBM] [Info] Total Bins 99557\n",
      "[LightGBM] [Info] Number of data points in the train set: 31347, number of used features: 587\n",
      "[LightGBM] [Info] Using GPU Device: Quadro RTX 4000, Vendor: NVIDIA Corporation\n",
      "[LightGBM] [Info] Compiling OpenCL Kernel with 256 bins...\n",
      "[LightGBM] [Info] GPU programs have been built\n",
      "[LightGBM] [Info] Size of histogram bin entry: 8\n",
      "[LightGBM] [Info] 217 dense feature groups (6.58 MB) transferred to GPU in 0.040964 secs. 1 sparse feature groups\n",
      "threshold: 0.13659962595991895\n",
      "AUC-ROC: 0.9712279977806337\n",
      "Accuracy: 0.8654\n",
      "Precision: 0.9792828769776747\n",
      "Recall: 0.7390618841150965\n",
      "F1 Score: 0.8478408320144698\n",
      "Epoch 7/300\n"
     ]
    },
    {
     "name": "stderr",
     "output_type": "stream",
     "text": [
      "c:\\Users\\FH-Deg\\.conda\\envs\\tf_c_gpu\\lib\\site-packages\\lightgbm\\basic.py:1192: UserWarning: Converting data to scipy sparse matrix.\n",
      "  _log_warning('Converting data to scipy sparse matrix.')\n"
     ]
    },
    {
     "name": "stdout",
     "output_type": "stream",
     "text": [
      "[LightGBM] [Info] Number of positive: 980, number of negative: 30367\n",
      "[LightGBM] [Info] This is the GPU trainer!!\n",
      "[LightGBM] [Info] Total Bins 99557\n",
      "[LightGBM] [Info] Number of data points in the train set: 31347, number of used features: 587\n",
      "[LightGBM] [Info] Using GPU Device: Quadro RTX 4000, Vendor: NVIDIA Corporation\n",
      "[LightGBM] [Info] Compiling OpenCL Kernel with 256 bins...\n",
      "[LightGBM] [Info] GPU programs have been built\n",
      "[LightGBM] [Info] Size of histogram bin entry: 8\n",
      "[LightGBM] [Info] 217 dense feature groups (6.58 MB) transferred to GPU in 0.043306 secs. 1 sparse feature groups\n",
      "threshold: 0.13702511284235344\n",
      "AUC-ROC: 0.9713750299865682\n",
      "Accuracy: 0.8653\n",
      "Precision: 0.9793595712738132\n",
      "Recall: 0.7388648009459993\n",
      "F1 Score: 0.8477105709440361\n",
      "Updating target policy...\n",
      "Epoch 8/300\n"
     ]
    },
    {
     "name": "stderr",
     "output_type": "stream",
     "text": [
      "c:\\Users\\FH-Deg\\.conda\\envs\\tf_c_gpu\\lib\\site-packages\\lightgbm\\basic.py:1192: UserWarning: Converting data to scipy sparse matrix.\n",
      "  _log_warning('Converting data to scipy sparse matrix.')\n"
     ]
    },
    {
     "name": "stdout",
     "output_type": "stream",
     "text": [
      "[LightGBM] [Info] Number of positive: 980, number of negative: 30367\n",
      "[LightGBM] [Info] This is the GPU trainer!!\n",
      "[LightGBM] [Info] Total Bins 99557\n",
      "[LightGBM] [Info] Number of data points in the train set: 31347, number of used features: 587\n",
      "[LightGBM] [Info] Using GPU Device: Quadro RTX 4000, Vendor: NVIDIA Corporation\n",
      "[LightGBM] [Info] Compiling OpenCL Kernel with 256 bins...\n",
      "[LightGBM] [Info] GPU programs have been built\n",
      "[LightGBM] [Info] Size of histogram bin entry: 8\n",
      "[LightGBM] [Info] 217 dense feature groups (6.58 MB) transferred to GPU in 0.041677 secs. 1 sparse feature groups\n",
      "threshold: 0.1374605261162266\n",
      "AUC-ROC: 0.9714116780139522\n",
      "Accuracy: 0.8652\n",
      "Precision: 0.979378864348984\n",
      "Recall: 0.7386677177769019\n",
      "F1 Score: 0.8475802804161013\n",
      "Epoch 9/300\n"
     ]
    },
    {
     "name": "stderr",
     "output_type": "stream",
     "text": [
      "c:\\Users\\FH-Deg\\.conda\\envs\\tf_c_gpu\\lib\\site-packages\\lightgbm\\basic.py:1192: UserWarning: Converting data to scipy sparse matrix.\n",
      "  _log_warning('Converting data to scipy sparse matrix.')\n"
     ]
    },
    {
     "name": "stdout",
     "output_type": "stream",
     "text": [
      "[LightGBM] [Info] Number of positive: 980, number of negative: 30367\n",
      "[LightGBM] [Info] This is the GPU trainer!!\n",
      "[LightGBM] [Info] Total Bins 99557\n",
      "[LightGBM] [Info] Number of data points in the train set: 31347, number of used features: 587\n",
      "[LightGBM] [Info] Using GPU Device: Quadro RTX 4000, Vendor: NVIDIA Corporation\n",
      "[LightGBM] [Info] Compiling OpenCL Kernel with 256 bins...\n",
      "[LightGBM] [Info] GPU programs have been built\n",
      "[LightGBM] [Info] Size of histogram bin entry: 8\n",
      "[LightGBM] [Info] 217 dense feature groups (6.58 MB) transferred to GPU in 0.046872 secs. 1 sparse feature groups\n",
      "threshold: 0.13791013760524384\n",
      "AUC-ROC: 0.9714590483899594\n",
      "Accuracy: 0.8652\n",
      "Precision: 0.9794191626746691\n",
      "Recall: 0.7386677177769019\n",
      "F1 Score: 0.8475802804161013\n",
      "Epoch 10/300\n"
     ]
    },
    {
     "name": "stderr",
     "output_type": "stream",
     "text": [
      "c:\\Users\\FH-Deg\\.conda\\envs\\tf_c_gpu\\lib\\site-packages\\lightgbm\\basic.py:1192: UserWarning: Converting data to scipy sparse matrix.\n",
      "  _log_warning('Converting data to scipy sparse matrix.')\n"
     ]
    },
    {
     "name": "stdout",
     "output_type": "stream",
     "text": [
      "[LightGBM] [Info] Number of positive: 980, number of negative: 30367\n",
      "[LightGBM] [Info] This is the GPU trainer!!\n",
      "[LightGBM] [Info] Total Bins 99557\n",
      "[LightGBM] [Info] Number of data points in the train set: 31347, number of used features: 587\n",
      "[LightGBM] [Info] Using GPU Device: Quadro RTX 4000, Vendor: NVIDIA Corporation\n",
      "[LightGBM] [Info] Compiling OpenCL Kernel with 256 bins...\n",
      "[LightGBM] [Info] GPU programs have been built\n",
      "[LightGBM] [Info] Size of histogram bin entry: 8\n",
      "[LightGBM] [Info] 217 dense feature groups (6.58 MB) transferred to GPU in 0.046010 secs. 1 sparse feature groups\n",
      "threshold: 0.1383073165798565\n",
      "AUC-ROC: 0.9715008575478373\n",
      "Accuracy: 0.8647\n",
      "Precision: 0.9794250444170858\n",
      "Recall: 0.7378793851005124\n",
      "F1 Score: 0.8469630132337971\n",
      "Updating target policy...\n",
      "Epoch 11/300\n"
     ]
    },
    {
     "name": "stderr",
     "output_type": "stream",
     "text": [
      "c:\\Users\\FH-Deg\\.conda\\envs\\tf_c_gpu\\lib\\site-packages\\lightgbm\\basic.py:1192: UserWarning: Converting data to scipy sparse matrix.\n",
      "  _log_warning('Converting data to scipy sparse matrix.')\n"
     ]
    },
    {
     "name": "stdout",
     "output_type": "stream",
     "text": [
      "[LightGBM] [Info] Number of positive: 980, number of negative: 30367\n",
      "[LightGBM] [Info] This is the GPU trainer!!\n",
      "[LightGBM] [Info] Total Bins 99557\n",
      "[LightGBM] [Info] Number of data points in the train set: 31347, number of used features: 587\n",
      "[LightGBM] [Info] Using GPU Device: Quadro RTX 4000, Vendor: NVIDIA Corporation\n",
      "[LightGBM] [Info] Compiling OpenCL Kernel with 256 bins...\n",
      "[LightGBM] [Info] GPU programs have been built\n",
      "[LightGBM] [Info] Size of histogram bin entry: 8\n",
      "[LightGBM] [Info] 217 dense feature groups (6.58 MB) transferred to GPU in 0.045361 secs. 1 sparse feature groups\n",
      "threshold: 0.13879220154988742\n",
      "AUC-ROC: 0.9715859161790799\n",
      "Accuracy: 0.8653\n",
      "Precision: 0.979468627446574\n",
      "Recall: 0.7390618841150965\n",
      "F1 Score: 0.84774499830451\n",
      "Epoch 12/300\n"
     ]
    },
    {
     "name": "stderr",
     "output_type": "stream",
     "text": [
      "c:\\Users\\FH-Deg\\.conda\\envs\\tf_c_gpu\\lib\\site-packages\\lightgbm\\basic.py:1192: UserWarning: Converting data to scipy sparse matrix.\n",
      "  _log_warning('Converting data to scipy sparse matrix.')\n"
     ]
    },
    {
     "name": "stdout",
     "output_type": "stream",
     "text": [
      "[LightGBM] [Info] Number of positive: 980, number of negative: 30367\n",
      "[LightGBM] [Info] This is the GPU trainer!!\n",
      "[LightGBM] [Info] Total Bins 99557\n",
      "[LightGBM] [Info] Number of data points in the train set: 31347, number of used features: 587\n",
      "[LightGBM] [Info] Using GPU Device: Quadro RTX 4000, Vendor: NVIDIA Corporation\n",
      "[LightGBM] [Info] Compiling OpenCL Kernel with 256 bins...\n",
      "[LightGBM] [Info] GPU programs have been built\n",
      "[LightGBM] [Info] Size of histogram bin entry: 8\n",
      "[LightGBM] [Info] 217 dense feature groups (6.58 MB) transferred to GPU in 0.047201 secs. 1 sparse feature groups\n",
      "threshold: 0.13919868557208864\n",
      "AUC-ROC: 0.9715948381333448\n",
      "Accuracy: 0.8653\n",
      "Precision: 0.9794755974346463\n",
      "Recall: 0.7388648009459993\n",
      "F1 Score: 0.8477105709440361\n",
      "Epoch 13/300\n"
     ]
    },
    {
     "name": "stderr",
     "output_type": "stream",
     "text": [
      "c:\\Users\\FH-Deg\\.conda\\envs\\tf_c_gpu\\lib\\site-packages\\lightgbm\\basic.py:1192: UserWarning: Converting data to scipy sparse matrix.\n",
      "  _log_warning('Converting data to scipy sparse matrix.')\n"
     ]
    },
    {
     "name": "stdout",
     "output_type": "stream",
     "text": [
      "[LightGBM] [Info] Number of positive: 980, number of negative: 30367\n",
      "[LightGBM] [Info] This is the GPU trainer!!\n",
      "[LightGBM] [Info] Total Bins 99557\n",
      "[LightGBM] [Info] Number of data points in the train set: 31347, number of used features: 587\n",
      "[LightGBM] [Info] Using GPU Device: Quadro RTX 4000, Vendor: NVIDIA Corporation\n",
      "[LightGBM] [Info] Compiling OpenCL Kernel with 256 bins...\n",
      "[LightGBM] [Info] GPU programs have been built\n",
      "[LightGBM] [Info] Size of histogram bin entry: 8\n",
      "[LightGBM] [Info] 217 dense feature groups (6.58 MB) transferred to GPU in 0.046912 secs. 1 sparse feature groups\n",
      "threshold: 0.13956332623644527\n",
      "AUC-ROC: 0.9717408701201911\n",
      "Accuracy: 0.8656\n",
      "Precision: 0.9795391162219291\n",
      "Recall: 0.7396531336223886\n",
      "F1 Score: 0.8481355932203389\n",
      "Updating target policy...\n",
      "Epoch 14/300\n"
     ]
    },
    {
     "name": "stderr",
     "output_type": "stream",
     "text": [
      "c:\\Users\\FH-Deg\\.conda\\envs\\tf_c_gpu\\lib\\site-packages\\lightgbm\\basic.py:1192: UserWarning: Converting data to scipy sparse matrix.\n",
      "  _log_warning('Converting data to scipy sparse matrix.')\n"
     ]
    },
    {
     "name": "stdout",
     "output_type": "stream",
     "text": [
      "[LightGBM] [Info] Number of positive: 980, number of negative: 30367\n",
      "[LightGBM] [Info] This is the GPU trainer!!\n",
      "[LightGBM] [Info] Total Bins 99557\n",
      "[LightGBM] [Info] Number of data points in the train set: 31347, number of used features: 587\n",
      "[LightGBM] [Info] Using GPU Device: Quadro RTX 4000, Vendor: NVIDIA Corporation\n",
      "[LightGBM] [Info] Compiling OpenCL Kernel with 256 bins...\n",
      "[LightGBM] [Info] GPU programs have been built\n",
      "[LightGBM] [Info] Size of histogram bin entry: 8\n",
      "[LightGBM] [Info] 217 dense feature groups (6.58 MB) transferred to GPU in 0.047464 secs. 1 sparse feature groups\n",
      "threshold: 0.14000087349494675\n",
      "AUC-ROC: 0.971727387166885\n",
      "Accuracy: 0.8652\n",
      "Precision: 0.9795352395505472\n",
      "Recall: 0.7390618841150965\n",
      "F1 Score: 0.8476491862567812\n",
      "Epoch 15/300\n"
     ]
    },
    {
     "name": "stderr",
     "output_type": "stream",
     "text": [
      "c:\\Users\\FH-Deg\\.conda\\envs\\tf_c_gpu\\lib\\site-packages\\lightgbm\\basic.py:1192: UserWarning: Converting data to scipy sparse matrix.\n",
      "  _log_warning('Converting data to scipy sparse matrix.')\n"
     ]
    },
    {
     "name": "stdout",
     "output_type": "stream",
     "text": [
      "[LightGBM] [Info] Number of positive: 980, number of negative: 30367\n",
      "[LightGBM] [Info] This is the GPU trainer!!\n",
      "[LightGBM] [Info] Total Bins 99557\n",
      "[LightGBM] [Info] Number of data points in the train set: 31347, number of used features: 587\n",
      "[LightGBM] [Info] Using GPU Device: Quadro RTX 4000, Vendor: NVIDIA Corporation\n",
      "[LightGBM] [Info] Compiling OpenCL Kernel with 256 bins...\n",
      "[LightGBM] [Info] GPU programs have been built\n",
      "[LightGBM] [Info] Size of histogram bin entry: 8\n",
      "[LightGBM] [Info] 217 dense feature groups (6.58 MB) transferred to GPU in 0.044983 secs. 1 sparse feature groups\n",
      "threshold: 0.14038488296384816\n",
      "AUC-ROC: 0.971882861221922\n",
      "Accuracy: 0.8655\n",
      "Precision: 0.9796146453126876\n",
      "Recall: 0.7396531336223886\n",
      "F1 Score: 0.8480397695175687\n",
      "Epoch 16/300\n"
     ]
    },
    {
     "name": "stderr",
     "output_type": "stream",
     "text": [
      "c:\\Users\\FH-Deg\\.conda\\envs\\tf_c_gpu\\lib\\site-packages\\lightgbm\\basic.py:1192: UserWarning: Converting data to scipy sparse matrix.\n",
      "  _log_warning('Converting data to scipy sparse matrix.')\n"
     ]
    },
    {
     "name": "stdout",
     "output_type": "stream",
     "text": [
      "[LightGBM] [Info] Number of positive: 980, number of negative: 30367\n",
      "[LightGBM] [Info] This is the GPU trainer!!\n",
      "[LightGBM] [Info] Total Bins 99557\n",
      "[LightGBM] [Info] Number of data points in the train set: 31347, number of used features: 587\n",
      "[LightGBM] [Info] Using GPU Device: Quadro RTX 4000, Vendor: NVIDIA Corporation\n",
      "[LightGBM] [Info] Compiling OpenCL Kernel with 256 bins...\n",
      "[LightGBM] [Info] GPU programs have been built\n",
      "[LightGBM] [Info] Size of histogram bin entry: 8\n",
      "[LightGBM] [Info] 217 dense feature groups (6.58 MB) transferred to GPU in 0.047707 secs. 1 sparse feature groups\n",
      "threshold: 0.1408283718976191\n",
      "AUC-ROC: 0.971978802236842\n",
      "Accuracy: 0.866\n",
      "Precision: 0.979674278667551\n",
      "Recall: 0.740441466298778\n",
      "F1 Score: 0.8486559747007002\n",
      "Updating target policy...\n",
      "Epoch 17/300\n"
     ]
    },
    {
     "name": "stderr",
     "output_type": "stream",
     "text": [
      "c:\\Users\\FH-Deg\\.conda\\envs\\tf_c_gpu\\lib\\site-packages\\lightgbm\\basic.py:1192: UserWarning: Converting data to scipy sparse matrix.\n",
      "  _log_warning('Converting data to scipy sparse matrix.')\n"
     ]
    },
    {
     "name": "stdout",
     "output_type": "stream",
     "text": [
      "[LightGBM] [Info] Number of positive: 980, number of negative: 30367\n",
      "[LightGBM] [Info] This is the GPU trainer!!\n",
      "[LightGBM] [Info] Total Bins 99557\n",
      "[LightGBM] [Info] Number of data points in the train set: 31347, number of used features: 587\n",
      "[LightGBM] [Info] Using GPU Device: Quadro RTX 4000, Vendor: NVIDIA Corporation\n",
      "[LightGBM] [Info] Compiling OpenCL Kernel with 256 bins...\n",
      "[LightGBM] [Info] GPU programs have been built\n",
      "[LightGBM] [Info] Size of histogram bin entry: 8\n",
      "[LightGBM] [Info] 217 dense feature groups (6.58 MB) transferred to GPU in 0.050085 secs. 1 sparse feature groups\n",
      "threshold: 0.14117834240698307\n",
      "AUC-ROC: 0.9720523783529544\n",
      "Accuracy: 0.8658\n",
      "Precision: 0.9797185387485096\n",
      "Recall: 0.7406385494678754\n",
      "F1 Score: 0.8484985324000903\n",
      "Epoch 18/300\n"
     ]
    },
    {
     "name": "stderr",
     "output_type": "stream",
     "text": [
      "c:\\Users\\FH-Deg\\.conda\\envs\\tf_c_gpu\\lib\\site-packages\\lightgbm\\basic.py:1192: UserWarning: Converting data to scipy sparse matrix.\n",
      "  _log_warning('Converting data to scipy sparse matrix.')\n"
     ]
    },
    {
     "name": "stdout",
     "output_type": "stream",
     "text": [
      "[LightGBM] [Info] Number of positive: 980, number of negative: 30367\n",
      "[LightGBM] [Info] This is the GPU trainer!!\n",
      "[LightGBM] [Info] Total Bins 99557\n",
      "[LightGBM] [Info] Number of data points in the train set: 31347, number of used features: 587\n",
      "[LightGBM] [Info] Using GPU Device: Quadro RTX 4000, Vendor: NVIDIA Corporation\n",
      "[LightGBM] [Info] Compiling OpenCL Kernel with 256 bins...\n",
      "[LightGBM] [Info] GPU programs have been built\n",
      "[LightGBM] [Info] Size of histogram bin entry: 8\n",
      "[LightGBM] [Info] 217 dense feature groups (6.58 MB) transferred to GPU in 0.048770 secs. 1 sparse feature groups\n",
      "threshold: 0.14158338988853622\n",
      "AUC-ROC: 0.9720166905358951\n",
      "Accuracy: 0.8659\n",
      "Precision: 0.9797012682282185\n",
      "Recall: 0.7406385494678754\n",
      "F1 Score: 0.8485943321666478\n",
      "Epoch 19/300\n"
     ]
    },
    {
     "name": "stderr",
     "output_type": "stream",
     "text": [
      "c:\\Users\\FH-Deg\\.conda\\envs\\tf_c_gpu\\lib\\site-packages\\lightgbm\\basic.py:1192: UserWarning: Converting data to scipy sparse matrix.\n",
      "  _log_warning('Converting data to scipy sparse matrix.')\n"
     ]
    },
    {
     "name": "stdout",
     "output_type": "stream",
     "text": [
      "[LightGBM] [Info] Number of positive: 980, number of negative: 30367\n",
      "[LightGBM] [Info] This is the GPU trainer!!\n",
      "[LightGBM] [Info] Total Bins 99557\n",
      "[LightGBM] [Info] Number of data points in the train set: 31347, number of used features: 587\n",
      "[LightGBM] [Info] Using GPU Device: Quadro RTX 4000, Vendor: NVIDIA Corporation\n",
      "[LightGBM] [Info] Compiling OpenCL Kernel with 256 bins...\n",
      "[LightGBM] [Info] GPU programs have been built\n",
      "[LightGBM] [Info] Size of histogram bin entry: 8\n",
      "[LightGBM] [Info] 217 dense feature groups (6.58 MB) transferred to GPU in 0.049553 secs. 1 sparse feature groups\n",
      "threshold: 0.14189864173475542\n",
      "AUC-ROC: 0.9722387391734286\n",
      "Accuracy: 0.8664\n",
      "Precision: 0.9798329520074066\n",
      "Recall: 0.7416239653133623\n",
      "F1 Score: 0.8492439629880388\n",
      "Updating target policy...\n",
      "Epoch 20/300\n"
     ]
    },
    {
     "name": "stderr",
     "output_type": "stream",
     "text": [
      "c:\\Users\\FH-Deg\\.conda\\envs\\tf_c_gpu\\lib\\site-packages\\lightgbm\\basic.py:1192: UserWarning: Converting data to scipy sparse matrix.\n",
      "  _log_warning('Converting data to scipy sparse matrix.')\n"
     ]
    },
    {
     "name": "stdout",
     "output_type": "stream",
     "text": [
      "[LightGBM] [Info] Number of positive: 980, number of negative: 30367\n",
      "[LightGBM] [Info] This is the GPU trainer!!\n",
      "[LightGBM] [Info] Total Bins 99557\n",
      "[LightGBM] [Info] Number of data points in the train set: 31347, number of used features: 587\n",
      "[LightGBM] [Info] Using GPU Device: Quadro RTX 4000, Vendor: NVIDIA Corporation\n",
      "[LightGBM] [Info] Compiling OpenCL Kernel with 256 bins...\n",
      "[LightGBM] [Info] GPU programs have been built\n",
      "[LightGBM] [Info] Size of histogram bin entry: 8\n",
      "[LightGBM] [Info] 217 dense feature groups (6.58 MB) transferred to GPU in 0.046332 secs. 1 sparse feature groups\n",
      "threshold: 0.14235012041913006\n",
      "AUC-ROC: 0.9722567031082487\n",
      "Accuracy: 0.8661\n",
      "Precision: 0.9798455196818595\n",
      "Recall: 0.7408356326369728\n",
      "F1 Score: 0.8488201422603591\n",
      "Epoch 21/300\n"
     ]
    },
    {
     "name": "stderr",
     "output_type": "stream",
     "text": [
      "c:\\Users\\FH-Deg\\.conda\\envs\\tf_c_gpu\\lib\\site-packages\\lightgbm\\basic.py:1192: UserWarning: Converting data to scipy sparse matrix.\n",
      "  _log_warning('Converting data to scipy sparse matrix.')\n"
     ]
    },
    {
     "name": "stdout",
     "output_type": "stream",
     "text": [
      "[LightGBM] [Info] Number of positive: 980, number of negative: 30367\n",
      "[LightGBM] [Info] This is the GPU trainer!!\n",
      "[LightGBM] [Info] Total Bins 99557\n",
      "[LightGBM] [Info] Number of data points in the train set: 31347, number of used features: 587\n",
      "[LightGBM] [Info] Using GPU Device: Quadro RTX 4000, Vendor: NVIDIA Corporation\n",
      "[LightGBM] [Info] Compiling OpenCL Kernel with 256 bins...\n",
      "[LightGBM] [Info] GPU programs have been built\n",
      "[LightGBM] [Info] Size of histogram bin entry: 8\n",
      "[LightGBM] [Info] 217 dense feature groups (6.58 MB) transferred to GPU in 0.052015 secs. 1 sparse feature groups\n",
      "threshold: 0.1426859027729494\n",
      "AUC-ROC: 0.9725895560163498\n",
      "Accuracy: 0.866\n",
      "Precision: 0.9800229844283151\n",
      "Recall: 0.7406385494678754\n",
      "F1 Score: 0.8486901535682023\n",
      "Epoch 22/300\n"
     ]
    },
    {
     "name": "stderr",
     "output_type": "stream",
     "text": [
      "c:\\Users\\FH-Deg\\.conda\\envs\\tf_c_gpu\\lib\\site-packages\\lightgbm\\basic.py:1192: UserWarning: Converting data to scipy sparse matrix.\n",
      "  _log_warning('Converting data to scipy sparse matrix.')\n"
     ]
    },
    {
     "name": "stdout",
     "output_type": "stream",
     "text": [
      "[LightGBM] [Info] Number of positive: 980, number of negative: 30367\n",
      "[LightGBM] [Info] This is the GPU trainer!!\n",
      "[LightGBM] [Info] Total Bins 99557\n",
      "[LightGBM] [Info] Number of data points in the train set: 31347, number of used features: 587\n",
      "[LightGBM] [Info] Using GPU Device: Quadro RTX 4000, Vendor: NVIDIA Corporation\n",
      "[LightGBM] [Info] Compiling OpenCL Kernel with 256 bins...\n",
      "[LightGBM] [Info] GPU programs have been built\n",
      "[LightGBM] [Info] Size of histogram bin entry: 8\n",
      "[LightGBM] [Info] 217 dense feature groups (6.58 MB) transferred to GPU in 0.049112 secs. 1 sparse feature groups\n",
      "threshold: 0.14306962717331514\n",
      "AUC-ROC: 0.9726204827905505\n",
      "Accuracy: 0.8658\n",
      "Precision: 0.9800453699717289\n",
      "Recall: 0.7402443831296808\n",
      "F1 Score: 0.8484300880957759\n",
      "Updating target policy...\n",
      "Epoch 23/300\n"
     ]
    },
    {
     "name": "stderr",
     "output_type": "stream",
     "text": [
      "c:\\Users\\FH-Deg\\.conda\\envs\\tf_c_gpu\\lib\\site-packages\\lightgbm\\basic.py:1192: UserWarning: Converting data to scipy sparse matrix.\n",
      "  _log_warning('Converting data to scipy sparse matrix.')\n"
     ]
    },
    {
     "name": "stdout",
     "output_type": "stream",
     "text": [
      "[LightGBM] [Info] Number of positive: 980, number of negative: 30367\n",
      "[LightGBM] [Info] This is the GPU trainer!!\n",
      "[LightGBM] [Info] Total Bins 99557\n",
      "[LightGBM] [Info] Number of data points in the train set: 31347, number of used features: 587\n",
      "[LightGBM] [Info] Using GPU Device: Quadro RTX 4000, Vendor: NVIDIA Corporation\n",
      "[LightGBM] [Info] Compiling OpenCL Kernel with 256 bins...\n",
      "[LightGBM] [Info] GPU programs have been built\n",
      "[LightGBM] [Info] Size of histogram bin entry: 8\n",
      "[LightGBM] [Info] 217 dense feature groups (6.58 MB) transferred to GPU in 0.050614 secs. 1 sparse feature groups\n",
      "threshold: 0.14351131838539805\n",
      "AUC-ROC: 0.9728475525279057\n",
      "Accuracy: 0.8662\n",
      "Precision: 0.9801733587447984\n",
      "Recall: 0.7406385494678754\n",
      "F1 Score: 0.8488818613056246\n",
      "Epoch 24/300\n"
     ]
    },
    {
     "name": "stderr",
     "output_type": "stream",
     "text": [
      "c:\\Users\\FH-Deg\\.conda\\envs\\tf_c_gpu\\lib\\site-packages\\lightgbm\\basic.py:1192: UserWarning: Converting data to scipy sparse matrix.\n",
      "  _log_warning('Converting data to scipy sparse matrix.')\n"
     ]
    },
    {
     "name": "stdout",
     "output_type": "stream",
     "text": [
      "[LightGBM] [Info] Number of positive: 980, number of negative: 30367\n",
      "[LightGBM] [Info] This is the GPU trainer!!\n",
      "[LightGBM] [Info] Total Bins 99557\n",
      "[LightGBM] [Info] Number of data points in the train set: 31347, number of used features: 587\n",
      "[LightGBM] [Info] Using GPU Device: Quadro RTX 4000, Vendor: NVIDIA Corporation\n",
      "[LightGBM] [Info] Compiling OpenCL Kernel with 256 bins...\n",
      "[LightGBM] [Info] GPU programs have been built\n",
      "[LightGBM] [Info] Size of histogram bin entry: 8\n",
      "[LightGBM] [Info] 217 dense feature groups (6.58 MB) transferred to GPU in 0.050223 secs. 1 sparse feature groups\n",
      "threshold: 0.14398474683178056\n",
      "AUC-ROC: 0.9732176735992253\n",
      "Accuracy: 0.866\n",
      "Precision: 0.980395553551429\n",
      "Recall: 0.7406385494678754\n",
      "F1 Score: 0.8486901535682023\n",
      "Epoch 25/300\n"
     ]
    },
    {
     "name": "stderr",
     "output_type": "stream",
     "text": [
      "c:\\Users\\FH-Deg\\.conda\\envs\\tf_c_gpu\\lib\\site-packages\\lightgbm\\basic.py:1192: UserWarning: Converting data to scipy sparse matrix.\n",
      "  _log_warning('Converting data to scipy sparse matrix.')\n"
     ]
    },
    {
     "name": "stdout",
     "output_type": "stream",
     "text": [
      "[LightGBM] [Info] Number of positive: 980, number of negative: 30367\n",
      "[LightGBM] [Info] This is the GPU trainer!!\n",
      "[LightGBM] [Info] Total Bins 99557\n",
      "[LightGBM] [Info] Number of data points in the train set: 31347, number of used features: 587\n",
      "[LightGBM] [Info] Using GPU Device: Quadro RTX 4000, Vendor: NVIDIA Corporation\n",
      "[LightGBM] [Info] Compiling OpenCL Kernel with 256 bins...\n",
      "[LightGBM] [Info] GPU programs have been built\n",
      "[LightGBM] [Info] Size of histogram bin entry: 8\n",
      "[LightGBM] [Info] 217 dense feature groups (6.58 MB) transferred to GPU in 0.050204 secs. 1 sparse feature groups\n",
      "threshold: 0.14442607036124963\n",
      "AUC-ROC: 0.9731871469126597\n",
      "Accuracy: 0.8665\n",
      "Precision: 0.9803765255158466\n",
      "Recall: 0.7414268821442649\n",
      "F1 Score: 0.8493057907213004\n",
      "Updating target policy...\n",
      "Epoch 26/300\n"
     ]
    },
    {
     "name": "stderr",
     "output_type": "stream",
     "text": [
      "c:\\Users\\FH-Deg\\.conda\\envs\\tf_c_gpu\\lib\\site-packages\\lightgbm\\basic.py:1192: UserWarning: Converting data to scipy sparse matrix.\n",
      "  _log_warning('Converting data to scipy sparse matrix.')\n"
     ]
    },
    {
     "name": "stdout",
     "output_type": "stream",
     "text": [
      "[LightGBM] [Info] Number of positive: 980, number of negative: 30367\n",
      "[LightGBM] [Info] This is the GPU trainer!!\n",
      "[LightGBM] [Info] Total Bins 99557\n",
      "[LightGBM] [Info] Number of data points in the train set: 31347, number of used features: 587\n",
      "[LightGBM] [Info] Using GPU Device: Quadro RTX 4000, Vendor: NVIDIA Corporation\n",
      "[LightGBM] [Info] Compiling OpenCL Kernel with 256 bins...\n",
      "[LightGBM] [Info] GPU programs have been built\n",
      "[LightGBM] [Info] Size of histogram bin entry: 8\n",
      "[LightGBM] [Info] 217 dense feature groups (6.58 MB) transferred to GPU in 0.049140 secs. 1 sparse feature groups\n",
      "threshold: 0.14484793043121802\n",
      "AUC-ROC: 0.9732246351240774\n",
      "Accuracy: 0.8662\n",
      "Precision: 0.9804036937104683\n",
      "Recall: 0.7410327158060701\n",
      "F1 Score: 0.8489501016030707\n",
      "Epoch 27/300\n"
     ]
    },
    {
     "name": "stderr",
     "output_type": "stream",
     "text": [
      "c:\\Users\\FH-Deg\\.conda\\envs\\tf_c_gpu\\lib\\site-packages\\lightgbm\\basic.py:1192: UserWarning: Converting data to scipy sparse matrix.\n",
      "  _log_warning('Converting data to scipy sparse matrix.')\n"
     ]
    },
    {
     "name": "stdout",
     "output_type": "stream",
     "text": [
      "[LightGBM] [Info] Number of positive: 980, number of negative: 30367\n",
      "[LightGBM] [Info] This is the GPU trainer!!\n",
      "[LightGBM] [Info] Total Bins 99557\n",
      "[LightGBM] [Info] Number of data points in the train set: 31347, number of used features: 587\n",
      "[LightGBM] [Info] Using GPU Device: Quadro RTX 4000, Vendor: NVIDIA Corporation\n",
      "[LightGBM] [Info] Compiling OpenCL Kernel with 256 bins...\n",
      "[LightGBM] [Info] GPU programs have been built\n",
      "[LightGBM] [Info] Size of histogram bin entry: 8\n",
      "[LightGBM] [Info] 217 dense feature groups (6.58 MB) transferred to GPU in 0.045388 secs. 1 sparse feature groups\n",
      "threshold: 0.14521096167192057\n",
      "AUC-ROC: 0.9731860266672812\n",
      "Accuracy: 0.8663\n",
      "Precision: 0.980379607031435\n",
      "Recall: 0.7412297989751675\n",
      "F1 Score: 0.8490800316062761\n",
      "Epoch 28/300\n"
     ]
    },
    {
     "name": "stderr",
     "output_type": "stream",
     "text": [
      "c:\\Users\\FH-Deg\\.conda\\envs\\tf_c_gpu\\lib\\site-packages\\lightgbm\\basic.py:1192: UserWarning: Converting data to scipy sparse matrix.\n",
      "  _log_warning('Converting data to scipy sparse matrix.')\n"
     ]
    },
    {
     "name": "stdout",
     "output_type": "stream",
     "text": [
      "[LightGBM] [Info] Number of positive: 980, number of negative: 30367\n",
      "[LightGBM] [Info] This is the GPU trainer!!\n",
      "[LightGBM] [Info] Total Bins 99557\n",
      "[LightGBM] [Info] Number of data points in the train set: 31347, number of used features: 587\n",
      "[LightGBM] [Info] Using GPU Device: Quadro RTX 4000, Vendor: NVIDIA Corporation\n",
      "[LightGBM] [Info] Compiling OpenCL Kernel with 256 bins...\n",
      "[LightGBM] [Info] GPU programs have been built\n",
      "[LightGBM] [Info] Size of histogram bin entry: 8\n",
      "[LightGBM] [Info] 217 dense feature groups (6.58 MB) transferred to GPU in 0.047915 secs. 1 sparse feature groups\n",
      "threshold: 0.1457385481223471\n",
      "AUC-ROC: 0.9735208200004128\n",
      "Accuracy: 0.8662\n",
      "Precision: 0.9805781622932764\n",
      "Recall: 0.7412297989751675\n",
      "F1 Score: 0.8489841986455982\n",
      "Updating target policy...\n",
      "Epoch 29/300\n"
     ]
    },
    {
     "name": "stderr",
     "output_type": "stream",
     "text": [
      "c:\\Users\\FH-Deg\\.conda\\envs\\tf_c_gpu\\lib\\site-packages\\lightgbm\\basic.py:1192: UserWarning: Converting data to scipy sparse matrix.\n",
      "  _log_warning('Converting data to scipy sparse matrix.')\n"
     ]
    },
    {
     "name": "stdout",
     "output_type": "stream",
     "text": [
      "[LightGBM] [Info] Number of positive: 980, number of negative: 30367\n",
      "[LightGBM] [Info] This is the GPU trainer!!\n",
      "[LightGBM] [Info] Total Bins 99557\n",
      "[LightGBM] [Info] Number of data points in the train set: 31347, number of used features: 587\n",
      "[LightGBM] [Info] Using GPU Device: Quadro RTX 4000, Vendor: NVIDIA Corporation\n",
      "[LightGBM] [Info] Compiling OpenCL Kernel with 256 bins...\n",
      "[LightGBM] [Info] GPU programs have been built\n",
      "[LightGBM] [Info] Size of histogram bin entry: 8\n",
      "[LightGBM] [Info] 217 dense feature groups (6.58 MB) transferred to GPU in 0.052184 secs. 1 sparse feature groups\n",
      "threshold: 0.14609916174609064\n",
      "AUC-ROC: 0.9738787584032407\n",
      "Accuracy: 0.8662\n",
      "Precision: 0.980774201967245\n",
      "Recall: 0.7410327158060701\n",
      "F1 Score: 0.8489501016030707\n",
      "Epoch 30/300\n"
     ]
    },
    {
     "name": "stderr",
     "output_type": "stream",
     "text": [
      "c:\\Users\\FH-Deg\\.conda\\envs\\tf_c_gpu\\lib\\site-packages\\lightgbm\\basic.py:1192: UserWarning: Converting data to scipy sparse matrix.\n",
      "  _log_warning('Converting data to scipy sparse matrix.')\n"
     ]
    },
    {
     "name": "stdout",
     "output_type": "stream",
     "text": [
      "[LightGBM] [Info] Number of positive: 980, number of negative: 30367\n",
      "[LightGBM] [Info] This is the GPU trainer!!\n",
      "[LightGBM] [Info] Total Bins 99557\n",
      "[LightGBM] [Info] Number of data points in the train set: 31347, number of used features: 587\n",
      "[LightGBM] [Info] Using GPU Device: Quadro RTX 4000, Vendor: NVIDIA Corporation\n",
      "[LightGBM] [Info] Compiling OpenCL Kernel with 256 bins...\n",
      "[LightGBM] [Info] GPU programs have been built\n",
      "[LightGBM] [Info] Size of histogram bin entry: 8\n",
      "[LightGBM] [Info] 217 dense feature groups (6.58 MB) transferred to GPU in 0.048267 secs. 1 sparse feature groups\n",
      "threshold: 0.14648242273605228\n",
      "AUC-ROC: 0.974095745932189\n",
      "Accuracy: 0.8663\n",
      "Precision: 0.9809127715650134\n",
      "Recall: 0.7410327158060701\n",
      "F1 Score: 0.8490459523540702\n",
      "Epoch 31/300\n"
     ]
    },
    {
     "name": "stderr",
     "output_type": "stream",
     "text": [
      "c:\\Users\\FH-Deg\\.conda\\envs\\tf_c_gpu\\lib\\site-packages\\lightgbm\\basic.py:1192: UserWarning: Converting data to scipy sparse matrix.\n",
      "  _log_warning('Converting data to scipy sparse matrix.')\n"
     ]
    },
    {
     "name": "stdout",
     "output_type": "stream",
     "text": [
      "[LightGBM] [Info] Number of positive: 980, number of negative: 30367\n",
      "[LightGBM] [Info] This is the GPU trainer!!\n",
      "[LightGBM] [Info] Total Bins 99557\n",
      "[LightGBM] [Info] Number of data points in the train set: 31347, number of used features: 587\n",
      "[LightGBM] [Info] Using GPU Device: Quadro RTX 4000, Vendor: NVIDIA Corporation\n",
      "[LightGBM] [Info] Compiling OpenCL Kernel with 256 bins...\n",
      "[LightGBM] [Info] GPU programs have been built\n",
      "[LightGBM] [Info] Size of histogram bin entry: 8\n",
      "[LightGBM] [Info] 217 dense feature groups (6.58 MB) transferred to GPU in 0.050264 secs. 1 sparse feature groups\n",
      "threshold: 0.1468334405719762\n",
      "AUC-ROC: 0.9742155721789302\n",
      "Accuracy: 0.8665\n",
      "Precision: 0.9809661029562897\n",
      "Recall: 0.7414268821442649\n",
      "F1 Score: 0.8493057907213004\n",
      "Updating target policy...\n",
      "Epoch 32/300\n"
     ]
    },
    {
     "name": "stderr",
     "output_type": "stream",
     "text": [
      "c:\\Users\\FH-Deg\\.conda\\envs\\tf_c_gpu\\lib\\site-packages\\lightgbm\\basic.py:1192: UserWarning: Converting data to scipy sparse matrix.\n",
      "  _log_warning('Converting data to scipy sparse matrix.')\n"
     ]
    },
    {
     "name": "stdout",
     "output_type": "stream",
     "text": [
      "[LightGBM] [Info] Number of positive: 980, number of negative: 30367\n",
      "[LightGBM] [Info] This is the GPU trainer!!\n",
      "[LightGBM] [Info] Total Bins 99557\n",
      "[LightGBM] [Info] Number of data points in the train set: 31347, number of used features: 587\n",
      "[LightGBM] [Info] Using GPU Device: Quadro RTX 4000, Vendor: NVIDIA Corporation\n",
      "[LightGBM] [Info] Compiling OpenCL Kernel with 256 bins...\n",
      "[LightGBM] [Info] GPU programs have been built\n",
      "[LightGBM] [Info] Size of histogram bin entry: 8\n",
      "[LightGBM] [Info] 217 dense feature groups (6.58 MB) transferred to GPU in 0.050029 secs. 1 sparse feature groups\n",
      "threshold: 0.14723016906232875\n",
      "AUC-ROC: 0.9742467390057119\n",
      "Accuracy: 0.8666\n",
      "Precision: 0.9809775545947406\n",
      "Recall: 0.7416239653133623\n",
      "F1 Score: 0.8494356659142213\n",
      "Epoch 33/300\n"
     ]
    },
    {
     "name": "stderr",
     "output_type": "stream",
     "text": [
      "c:\\Users\\FH-Deg\\.conda\\envs\\tf_c_gpu\\lib\\site-packages\\lightgbm\\basic.py:1192: UserWarning: Converting data to scipy sparse matrix.\n",
      "  _log_warning('Converting data to scipy sparse matrix.')\n"
     ]
    },
    {
     "name": "stdout",
     "output_type": "stream",
     "text": [
      "[LightGBM] [Info] Number of positive: 980, number of negative: 30367\n",
      "[LightGBM] [Info] This is the GPU trainer!!\n",
      "[LightGBM] [Info] Total Bins 99557\n",
      "[LightGBM] [Info] Number of data points in the train set: 31347, number of used features: 587\n",
      "[LightGBM] [Info] Using GPU Device: Quadro RTX 4000, Vendor: NVIDIA Corporation\n",
      "[LightGBM] [Info] Compiling OpenCL Kernel with 256 bins...\n",
      "[LightGBM] [Info] GPU programs have been built\n",
      "[LightGBM] [Info] Size of histogram bin entry: 8\n",
      "[LightGBM] [Info] 217 dense feature groups (6.58 MB) transferred to GPU in 0.047011 secs. 1 sparse feature groups\n",
      "threshold: 0.14760617541790896\n",
      "AUC-ROC: 0.9743933711240109\n",
      "Accuracy: 0.8664\n",
      "Precision: 0.9810699109971427\n",
      "Recall: 0.7412297989751675\n",
      "F1 Score: 0.8491758862045609\n",
      "Epoch 34/300\n"
     ]
    },
    {
     "name": "stderr",
     "output_type": "stream",
     "text": [
      "c:\\Users\\FH-Deg\\.conda\\envs\\tf_c_gpu\\lib\\site-packages\\lightgbm\\basic.py:1192: UserWarning: Converting data to scipy sparse matrix.\n",
      "  _log_warning('Converting data to scipy sparse matrix.')\n"
     ]
    },
    {
     "name": "stdout",
     "output_type": "stream",
     "text": [
      "[LightGBM] [Info] Number of positive: 980, number of negative: 30367\n",
      "[LightGBM] [Info] This is the GPU trainer!!\n",
      "[LightGBM] [Info] Total Bins 99557\n",
      "[LightGBM] [Info] Number of data points in the train set: 31347, number of used features: 587\n",
      "[LightGBM] [Info] Using GPU Device: Quadro RTX 4000, Vendor: NVIDIA Corporation\n",
      "[LightGBM] [Info] Compiling OpenCL Kernel with 256 bins...\n",
      "[LightGBM] [Info] GPU programs have been built\n",
      "[LightGBM] [Info] Size of histogram bin entry: 8\n",
      "[LightGBM] [Info] 217 dense feature groups (6.58 MB) transferred to GPU in 0.045445 secs. 1 sparse feature groups\n",
      "threshold: 0.1479586613761259\n",
      "AUC-ROC: 0.9745703298850579\n",
      "Accuracy: 0.8666\n",
      "Precision: 0.9811963978801274\n",
      "Recall: 0.7414268821442649\n",
      "F1 Score: 0.849401670806051\n",
      "Updating target policy...\n",
      "Epoch 35/300\n"
     ]
    },
    {
     "name": "stderr",
     "output_type": "stream",
     "text": [
      "c:\\Users\\FH-Deg\\.conda\\envs\\tf_c_gpu\\lib\\site-packages\\lightgbm\\basic.py:1192: UserWarning: Converting data to scipy sparse matrix.\n",
      "  _log_warning('Converting data to scipy sparse matrix.')\n"
     ]
    },
    {
     "name": "stdout",
     "output_type": "stream",
     "text": [
      "[LightGBM] [Info] Number of positive: 980, number of negative: 30367\n",
      "[LightGBM] [Info] This is the GPU trainer!!\n",
      "[LightGBM] [Info] Total Bins 99557\n",
      "[LightGBM] [Info] Number of data points in the train set: 31347, number of used features: 587\n",
      "[LightGBM] [Info] Using GPU Device: Quadro RTX 4000, Vendor: NVIDIA Corporation\n",
      "[LightGBM] [Info] Compiling OpenCL Kernel with 256 bins...\n",
      "[LightGBM] [Info] GPU programs have been built\n",
      "[LightGBM] [Info] Size of histogram bin entry: 8\n",
      "[LightGBM] [Info] 217 dense feature groups (6.58 MB) transferred to GPU in 0.048052 secs. 1 sparse feature groups\n",
      "threshold: 0.14837351986457936\n",
      "AUC-ROC: 0.9745908943895071\n",
      "Accuracy: 0.8664\n",
      "Precision: 0.9812082740630148\n",
      "Recall: 0.7410327158060701\n",
      "F1 Score: 0.8491418247515808\n",
      "Epoch 36/300\n"
     ]
    },
    {
     "name": "stderr",
     "output_type": "stream",
     "text": [
      "c:\\Users\\FH-Deg\\.conda\\envs\\tf_c_gpu\\lib\\site-packages\\lightgbm\\basic.py:1192: UserWarning: Converting data to scipy sparse matrix.\n",
      "  _log_warning('Converting data to scipy sparse matrix.')\n"
     ]
    },
    {
     "name": "stdout",
     "output_type": "stream",
     "text": [
      "[LightGBM] [Info] Number of positive: 980, number of negative: 30367\n",
      "[LightGBM] [Info] This is the GPU trainer!!\n",
      "[LightGBM] [Info] Total Bins 99557\n",
      "[LightGBM] [Info] Number of data points in the train set: 31347, number of used features: 587\n",
      "[LightGBM] [Info] Using GPU Device: Quadro RTX 4000, Vendor: NVIDIA Corporation\n",
      "[LightGBM] [Info] Compiling OpenCL Kernel with 256 bins...\n",
      "[LightGBM] [Info] GPU programs have been built\n",
      "[LightGBM] [Info] Size of histogram bin entry: 8\n",
      "[LightGBM] [Info] 217 dense feature groups (6.58 MB) transferred to GPU in 0.047969 secs. 1 sparse feature groups\n",
      "threshold: 0.14867019289934083\n",
      "AUC-ROC: 0.9746315232888612\n",
      "Accuracy: 0.8669\n",
      "Precision: 0.9812416123437315\n",
      "Recall: 0.742018131651557\n",
      "F1 Score: 0.8497912199526013\n",
      "Epoch 37/300\n"
     ]
    },
    {
     "name": "stderr",
     "output_type": "stream",
     "text": [
      "c:\\Users\\FH-Deg\\.conda\\envs\\tf_c_gpu\\lib\\site-packages\\lightgbm\\basic.py:1192: UserWarning: Converting data to scipy sparse matrix.\n",
      "  _log_warning('Converting data to scipy sparse matrix.')\n"
     ]
    },
    {
     "name": "stdout",
     "output_type": "stream",
     "text": [
      "[LightGBM] [Info] Number of positive: 980, number of negative: 30367\n",
      "[LightGBM] [Info] This is the GPU trainer!!\n",
      "[LightGBM] [Info] Total Bins 99557\n",
      "[LightGBM] [Info] Number of data points in the train set: 31347, number of used features: 587\n",
      "[LightGBM] [Info] Using GPU Device: Quadro RTX 4000, Vendor: NVIDIA Corporation\n",
      "[LightGBM] [Info] Compiling OpenCL Kernel with 256 bins...\n",
      "[LightGBM] [Info] GPU programs have been built\n",
      "[LightGBM] [Info] Size of histogram bin entry: 8\n",
      "[LightGBM] [Info] 217 dense feature groups (6.58 MB) transferred to GPU in 0.047046 secs. 1 sparse feature groups\n",
      "threshold: 0.14897313597058381\n",
      "AUC-ROC: 0.9746550884505742\n",
      "Accuracy: 0.867\n",
      "Precision: 0.9812718441401811\n",
      "Recall: 0.7422152148206543\n",
      "F1 Score: 0.8499210110584519\n",
      "Updating target policy...\n",
      "Epoch 38/300\n"
     ]
    },
    {
     "name": "stderr",
     "output_type": "stream",
     "text": [
      "c:\\Users\\FH-Deg\\.conda\\envs\\tf_c_gpu\\lib\\site-packages\\lightgbm\\basic.py:1192: UserWarning: Converting data to scipy sparse matrix.\n",
      "  _log_warning('Converting data to scipy sparse matrix.')\n"
     ]
    },
    {
     "name": "stdout",
     "output_type": "stream",
     "text": [
      "[LightGBM] [Info] Number of positive: 980, number of negative: 30367\n",
      "[LightGBM] [Info] This is the GPU trainer!!\n",
      "[LightGBM] [Info] Total Bins 99557\n",
      "[LightGBM] [Info] Number of data points in the train set: 31347, number of used features: 587\n",
      "[LightGBM] [Info] Using GPU Device: Quadro RTX 4000, Vendor: NVIDIA Corporation\n",
      "[LightGBM] [Info] Compiling OpenCL Kernel with 256 bins...\n",
      "[LightGBM] [Info] GPU programs have been built\n",
      "[LightGBM] [Info] Size of histogram bin entry: 8\n",
      "[LightGBM] [Info] 217 dense feature groups (6.58 MB) transferred to GPU in 0.043978 secs. 1 sparse feature groups\n",
      "threshold: 0.14935692749508703\n",
      "AUC-ROC: 0.9748740564133167\n",
      "Accuracy: 0.8674\n",
      "Precision: 0.9814025709094254\n",
      "Recall: 0.7428064643279464\n",
      "F1 Score: 0.8504061371841155\n",
      "Epoch 39/300\n"
     ]
    },
    {
     "name": "stderr",
     "output_type": "stream",
     "text": [
      "c:\\Users\\FH-Deg\\.conda\\envs\\tf_c_gpu\\lib\\site-packages\\lightgbm\\basic.py:1192: UserWarning: Converting data to scipy sparse matrix.\n",
      "  _log_warning('Converting data to scipy sparse matrix.')\n"
     ]
    },
    {
     "name": "stdout",
     "output_type": "stream",
     "text": [
      "[LightGBM] [Info] Number of positive: 980, number of negative: 30367\n",
      "[LightGBM] [Info] This is the GPU trainer!!\n",
      "[LightGBM] [Info] Total Bins 99557\n",
      "[LightGBM] [Info] Number of data points in the train set: 31347, number of used features: 587\n",
      "[LightGBM] [Info] Using GPU Device: Quadro RTX 4000, Vendor: NVIDIA Corporation\n",
      "[LightGBM] [Info] Compiling OpenCL Kernel with 256 bins...\n",
      "[LightGBM] [Info] GPU programs have been built\n",
      "[LightGBM] [Info] Size of histogram bin entry: 8\n",
      "[LightGBM] [Info] 217 dense feature groups (6.58 MB) transferred to GPU in 0.046689 secs. 1 sparse feature groups\n",
      "threshold: 0.14970268780996177\n",
      "AUC-ROC: 0.9748689352915862\n",
      "Accuracy: 0.8668\n",
      "Precision: 0.9814066673028955\n",
      "Recall: 0.7416239653133623\n",
      "F1 Score: 0.8496274554075413\n",
      "Epoch 40/300\n"
     ]
    },
    {
     "name": "stderr",
     "output_type": "stream",
     "text": [
      "c:\\Users\\FH-Deg\\.conda\\envs\\tf_c_gpu\\lib\\site-packages\\lightgbm\\basic.py:1192: UserWarning: Converting data to scipy sparse matrix.\n",
      "  _log_warning('Converting data to scipy sparse matrix.')\n"
     ]
    },
    {
     "name": "stdout",
     "output_type": "stream",
     "text": [
      "[LightGBM] [Info] Number of positive: 980, number of negative: 30367\n",
      "[LightGBM] [Info] This is the GPU trainer!!\n",
      "[LightGBM] [Info] Total Bins 99557\n",
      "[LightGBM] [Info] Number of data points in the train set: 31347, number of used features: 587\n",
      "[LightGBM] [Info] Using GPU Device: Quadro RTX 4000, Vendor: NVIDIA Corporation\n",
      "[LightGBM] [Info] Compiling OpenCL Kernel with 256 bins...\n",
      "[LightGBM] [Info] GPU programs have been built\n",
      "[LightGBM] [Info] Size of histogram bin entry: 8\n",
      "[LightGBM] [Info] 217 dense feature groups (6.58 MB) transferred to GPU in 0.046707 secs. 1 sparse feature groups\n",
      "threshold: 0.1501010137985013\n",
      "AUC-ROC: 0.9749404709607592\n",
      "Accuracy: 0.8668\n",
      "Precision: 0.9814694851412951\n",
      "Recall: 0.7418210484824596\n",
      "F1 Score: 0.8496613995485327\n",
      "Updating target policy...\n",
      "Epoch 41/300\n"
     ]
    },
    {
     "name": "stderr",
     "output_type": "stream",
     "text": [
      "c:\\Users\\FH-Deg\\.conda\\envs\\tf_c_gpu\\lib\\site-packages\\lightgbm\\basic.py:1192: UserWarning: Converting data to scipy sparse matrix.\n",
      "  _log_warning('Converting data to scipy sparse matrix.')\n"
     ]
    },
    {
     "name": "stdout",
     "output_type": "stream",
     "text": [
      "[LightGBM] [Info] Number of positive: 980, number of negative: 30367\n",
      "[LightGBM] [Info] This is the GPU trainer!!\n",
      "[LightGBM] [Info] Total Bins 99557\n",
      "[LightGBM] [Info] Number of data points in the train set: 31347, number of used features: 587\n",
      "[LightGBM] [Info] Using GPU Device: Quadro RTX 4000, Vendor: NVIDIA Corporation\n",
      "[LightGBM] [Info] Compiling OpenCL Kernel with 256 bins...\n",
      "[LightGBM] [Info] GPU programs have been built\n",
      "[LightGBM] [Info] Size of histogram bin entry: 8\n",
      "[LightGBM] [Info] 217 dense feature groups (6.58 MB) transferred to GPU in 0.076870 secs. 1 sparse feature groups\n",
      "threshold: 0.15043686106529425\n",
      "AUC-ROC: 0.9749190062591311\n",
      "Accuracy: 0.8669\n",
      "Precision: 0.9814581562767947\n",
      "Recall: 0.7418210484824596\n",
      "F1 Score: 0.8497573089513489\n",
      "Epoch 42/300\n"
     ]
    },
    {
     "name": "stderr",
     "output_type": "stream",
     "text": [
      "c:\\Users\\FH-Deg\\.conda\\envs\\tf_c_gpu\\lib\\site-packages\\lightgbm\\basic.py:1192: UserWarning: Converting data to scipy sparse matrix.\n",
      "  _log_warning('Converting data to scipy sparse matrix.')\n"
     ]
    },
    {
     "name": "stdout",
     "output_type": "stream",
     "text": [
      "[LightGBM] [Info] Number of positive: 980, number of negative: 30367\n",
      "[LightGBM] [Info] This is the GPU trainer!!\n",
      "[LightGBM] [Info] Total Bins 99557\n",
      "[LightGBM] [Info] Number of data points in the train set: 31347, number of used features: 587\n",
      "[LightGBM] [Info] Using GPU Device: Quadro RTX 4000, Vendor: NVIDIA Corporation\n",
      "[LightGBM] [Info] Compiling OpenCL Kernel with 256 bins...\n",
      "[LightGBM] [Info] GPU programs have been built\n",
      "[LightGBM] [Info] Size of histogram bin entry: 8\n",
      "[LightGBM] [Info] 217 dense feature groups (6.58 MB) transferred to GPU in 0.044891 secs. 1 sparse feature groups\n",
      "threshold: 0.15079205275290294\n",
      "AUC-ROC: 0.9749458521394526\n",
      "Accuracy: 0.8672\n",
      "Precision: 0.9814778006435327\n",
      "Recall: 0.7424122979897517\n",
      "F1 Score: 0.8501466937485895\n",
      "Epoch 43/300\n"
     ]
    },
    {
     "name": "stderr",
     "output_type": "stream",
     "text": [
      "c:\\Users\\FH-Deg\\.conda\\envs\\tf_c_gpu\\lib\\site-packages\\lightgbm\\basic.py:1192: UserWarning: Converting data to scipy sparse matrix.\n",
      "  _log_warning('Converting data to scipy sparse matrix.')\n"
     ]
    },
    {
     "name": "stdout",
     "output_type": "stream",
     "text": [
      "[LightGBM] [Info] Number of positive: 980, number of negative: 30367\n",
      "[LightGBM] [Info] This is the GPU trainer!!\n",
      "[LightGBM] [Info] Total Bins 99557\n",
      "[LightGBM] [Info] Number of data points in the train set: 31347, number of used features: 587\n",
      "[LightGBM] [Info] Using GPU Device: Quadro RTX 4000, Vendor: NVIDIA Corporation\n",
      "[LightGBM] [Info] Compiling OpenCL Kernel with 256 bins...\n",
      "[LightGBM] [Info] GPU programs have been built\n",
      "[LightGBM] [Info] Size of histogram bin entry: 8\n",
      "[LightGBM] [Info] 217 dense feature groups (6.58 MB) transferred to GPU in 0.045825 secs. 1 sparse feature groups\n",
      "threshold: 0.1511047908592624\n",
      "AUC-ROC: 0.9751578985861064\n",
      "Accuracy: 0.8678\n",
      "Precision: 0.9816119723919892\n",
      "Recall: 0.7433977138352384\n",
      "F1 Score: 0.8508910444394315\n",
      "Updating target policy...\n",
      "Epoch 44/300\n"
     ]
    },
    {
     "name": "stderr",
     "output_type": "stream",
     "text": [
      "c:\\Users\\FH-Deg\\.conda\\envs\\tf_c_gpu\\lib\\site-packages\\lightgbm\\basic.py:1192: UserWarning: Converting data to scipy sparse matrix.\n",
      "  _log_warning('Converting data to scipy sparse matrix.')\n"
     ]
    },
    {
     "name": "stdout",
     "output_type": "stream",
     "text": [
      "[LightGBM] [Info] Number of positive: 980, number of negative: 30367\n",
      "[LightGBM] [Info] This is the GPU trainer!!\n",
      "[LightGBM] [Info] Total Bins 99557\n",
      "[LightGBM] [Info] Number of data points in the train set: 31347, number of used features: 587\n",
      "[LightGBM] [Info] Using GPU Device: Quadro RTX 4000, Vendor: NVIDIA Corporation\n",
      "[LightGBM] [Info] Compiling OpenCL Kernel with 256 bins...\n",
      "[LightGBM] [Info] GPU programs have been built\n",
      "[LightGBM] [Info] Size of histogram bin entry: 8\n",
      "[LightGBM] [Info] 217 dense feature groups (6.58 MB) transferred to GPU in 0.043855 secs. 1 sparse feature groups\n",
      "threshold: 0.15145631856332825\n",
      "AUC-ROC: 0.9752361757319323\n",
      "Accuracy: 0.8677\n",
      "Precision: 0.9816724404235465\n",
      "Recall: 0.7433977138352384\n",
      "F1 Score: 0.8507950828916206\n",
      "Epoch 45/300\n"
     ]
    },
    {
     "name": "stderr",
     "output_type": "stream",
     "text": [
      "c:\\Users\\FH-Deg\\.conda\\envs\\tf_c_gpu\\lib\\site-packages\\lightgbm\\basic.py:1192: UserWarning: Converting data to scipy sparse matrix.\n",
      "  _log_warning('Converting data to scipy sparse matrix.')\n"
     ]
    },
    {
     "name": "stdout",
     "output_type": "stream",
     "text": [
      "[LightGBM] [Info] Number of positive: 980, number of negative: 30367\n",
      "[LightGBM] [Info] This is the GPU trainer!!\n",
      "[LightGBM] [Info] Total Bins 99557\n",
      "[LightGBM] [Info] Number of data points in the train set: 31347, number of used features: 587\n",
      "[LightGBM] [Info] Using GPU Device: Quadro RTX 4000, Vendor: NVIDIA Corporation\n",
      "[LightGBM] [Info] Compiling OpenCL Kernel with 256 bins...\n",
      "[LightGBM] [Info] GPU programs have been built\n",
      "[LightGBM] [Info] Size of histogram bin entry: 8\n",
      "[LightGBM] [Info] 217 dense feature groups (6.58 MB) transferred to GPU in 0.047047 secs. 1 sparse feature groups\n",
      "threshold: 0.15177720710265025\n",
      "AUC-ROC: 0.9752745841449112\n",
      "Accuracy: 0.868\n",
      "Precision: 0.9816958897688971\n",
      "Recall: 0.7437918801734332\n",
      "F1 Score: 0.851150202976996\n",
      "Epoch 46/300\n"
     ]
    },
    {
     "name": "stderr",
     "output_type": "stream",
     "text": [
      "c:\\Users\\FH-Deg\\.conda\\envs\\tf_c_gpu\\lib\\site-packages\\lightgbm\\basic.py:1192: UserWarning: Converting data to scipy sparse matrix.\n",
      "  _log_warning('Converting data to scipy sparse matrix.')\n"
     ]
    },
    {
     "name": "stdout",
     "output_type": "stream",
     "text": [
      "[LightGBM] [Info] Number of positive: 980, number of negative: 30367\n",
      "[LightGBM] [Info] This is the GPU trainer!!\n",
      "[LightGBM] [Info] Total Bins 99557\n",
      "[LightGBM] [Info] Number of data points in the train set: 31347, number of used features: 587\n",
      "[LightGBM] [Info] Using GPU Device: Quadro RTX 4000, Vendor: NVIDIA Corporation\n",
      "[LightGBM] [Info] Compiling OpenCL Kernel with 256 bins...\n",
      "[LightGBM] [Info] GPU programs have been built\n",
      "[LightGBM] [Info] Size of histogram bin entry: 8\n",
      "[LightGBM] [Info] 217 dense feature groups (6.58 MB) transferred to GPU in 0.049144 secs. 1 sparse feature groups\n"
     ]
    },
    {
     "ename": "ResourceExhaustedError",
     "evalue": "{{function_node __wrapped__MatMul_device_/job:localhost/replica:0/task:0/device:GPU:0}} OOM when allocating tensor with shape[64,32] and type float on /job:localhost/replica:0/task:0/device:GPU:0 by allocator GPU_0_bfc [Op:MatMul]",
     "output_type": "error",
     "traceback": [
      "\u001b[1;31m---------------------------------------------------------------------------\u001b[0m",
      "\u001b[1;31mResourceExhaustedError\u001b[0m                    Traceback (most recent call last)",
      "Cell \u001b[1;32mIn[14], line 74\u001b[0m\n\u001b[0;32m     70\u001b[0m             \u001b[38;5;28mprint\u001b[39m(\u001b[38;5;124m\"\u001b[39m\u001b[38;5;124mUpdating target policy...\u001b[39m\u001b[38;5;124m\"\u001b[39m)\n\u001b[0;32m     71\u001b[0m             agent\u001b[38;5;241m.\u001b[39mtarget_model\u001b[38;5;241m.\u001b[39mset_weights(agent\u001b[38;5;241m.\u001b[39mmodel\u001b[38;5;241m.\u001b[39mget_weights())\n\u001b[1;32m---> 74\u001b[0m \u001b[43mtrain_model\u001b[49m\u001b[43m(\u001b[49m\u001b[43mx_train\u001b[49m\u001b[38;5;241;43m=\u001b[39;49m\u001b[43mx_train\u001b[49m\u001b[43m,\u001b[49m\u001b[43m \u001b[49m\u001b[43my_train\u001b[49m\u001b[38;5;241;43m=\u001b[39;49m\u001b[43my_train\u001b[49m\u001b[43m,\u001b[49m\u001b[43m \u001b[49m\u001b[43ms\u001b[49m\u001b[38;5;241;43m=\u001b[39;49m\u001b[43my_train\u001b[49m\u001b[43m,\u001b[49m\u001b[43m \u001b[49m\u001b[43mmodel_lgb\u001b[49m\u001b[38;5;241;43m=\u001b[39;49m\u001b[43mmodel_lgb\u001b[49m\u001b[43m)\u001b[49m\n",
      "Cell \u001b[1;32mIn[14], line 33\u001b[0m, in \u001b[0;36mtrain_model\u001b[1;34m(x_train, y_train, s, epochs, batch_size, model_lgb)\u001b[0m\n\u001b[0;32m     31\u001b[0m     \u001b[38;5;66;03m# Store transitions and learn from them\u001b[39;00m\n\u001b[0;32m     32\u001b[0m     agent\u001b[38;5;241m.\u001b[39mstore_transition(x_batch\u001b[38;5;241m.\u001b[39mnumpy(), actions, rewards)\n\u001b[1;32m---> 33\u001b[0m     \u001b[43magent\u001b[49m\u001b[38;5;241;43m.\u001b[39;49m\u001b[43mlearn\u001b[49m\u001b[43m(\u001b[49m\u001b[43m)\u001b[49m\n\u001b[0;32m     34\u001b[0m     \u001b[38;5;66;03m# break\u001b[39;00m\n\u001b[0;32m     36\u001b[0m y_pred_prob \u001b[38;5;241m=\u001b[39m model_lgb\u001b[38;5;241m.\u001b[39mpredict(x_test)\n",
      "Cell \u001b[1;32mIn[10], line 61\u001b[0m, in \u001b[0;36mAgent.learn\u001b[1;34m(self)\u001b[0m\n\u001b[0;32m     58\u001b[0m         log_prob \u001b[38;5;241m=\u001b[39m tf\u001b[38;5;241m.\u001b[39mmath\u001b[38;5;241m.\u001b[39mlog(action_probs)\n\u001b[0;32m     59\u001b[0m         loss \u001b[38;5;241m+\u001b[39m\u001b[38;5;241m=\u001b[39m \u001b[38;5;241m-\u001b[39mg \u001b[38;5;241m*\u001b[39m tf\u001b[38;5;241m.\u001b[39mreduce_sum(log_prob)\n\u001b[1;32m---> 61\u001b[0m gradients \u001b[38;5;241m=\u001b[39m \u001b[43mtape\u001b[49m\u001b[38;5;241;43m.\u001b[39;49m\u001b[43mgradient\u001b[49m\u001b[43m(\u001b[49m\u001b[43mloss\u001b[49m\u001b[43m,\u001b[49m\u001b[43m \u001b[49m\u001b[38;5;28;43mself\u001b[39;49m\u001b[38;5;241;43m.\u001b[39;49m\u001b[43mmodel\u001b[49m\u001b[38;5;241;43m.\u001b[39;49m\u001b[43mtrainable_variables\u001b[49m\u001b[43m)\u001b[49m\n\u001b[0;32m     62\u001b[0m \u001b[38;5;28mself\u001b[39m\u001b[38;5;241m.\u001b[39mmodel\u001b[38;5;241m.\u001b[39moptimizer\u001b[38;5;241m.\u001b[39mapply_gradients(\u001b[38;5;28mzip\u001b[39m(gradients, \u001b[38;5;28mself\u001b[39m\u001b[38;5;241m.\u001b[39mmodel\u001b[38;5;241m.\u001b[39mtrainable_variables))\n\u001b[0;32m     64\u001b[0m \u001b[38;5;66;03m# Clear memory\u001b[39;00m\n",
      "File \u001b[1;32mc:\\Users\\FH-Deg\\.conda\\envs\\tf_c_gpu\\lib\\site-packages\\tensorflow\\python\\eager\\backprop.py:1113\u001b[0m, in \u001b[0;36mGradientTape.gradient\u001b[1;34m(self, target, sources, output_gradients, unconnected_gradients)\u001b[0m\n\u001b[0;32m   1107\u001b[0m   output_gradients \u001b[38;5;241m=\u001b[39m (\n\u001b[0;32m   1108\u001b[0m       composite_tensor_gradient\u001b[38;5;241m.\u001b[39mget_flat_tensors_for_gradients(\n\u001b[0;32m   1109\u001b[0m           output_gradients))\n\u001b[0;32m   1110\u001b[0m   output_gradients \u001b[38;5;241m=\u001b[39m [\u001b[38;5;28;01mNone\u001b[39;00m \u001b[38;5;28;01mif\u001b[39;00m x \u001b[38;5;129;01mis\u001b[39;00m \u001b[38;5;28;01mNone\u001b[39;00m \u001b[38;5;28;01melse\u001b[39;00m ops\u001b[38;5;241m.\u001b[39mconvert_to_tensor(x)\n\u001b[0;32m   1111\u001b[0m                       \u001b[38;5;28;01mfor\u001b[39;00m x \u001b[38;5;129;01min\u001b[39;00m output_gradients]\n\u001b[1;32m-> 1113\u001b[0m flat_grad \u001b[38;5;241m=\u001b[39m \u001b[43mimperative_grad\u001b[49m\u001b[38;5;241;43m.\u001b[39;49m\u001b[43mimperative_grad\u001b[49m\u001b[43m(\u001b[49m\n\u001b[0;32m   1114\u001b[0m \u001b[43m    \u001b[49m\u001b[38;5;28;43mself\u001b[39;49m\u001b[38;5;241;43m.\u001b[39;49m\u001b[43m_tape\u001b[49m\u001b[43m,\u001b[49m\n\u001b[0;32m   1115\u001b[0m \u001b[43m    \u001b[49m\u001b[43mflat_targets\u001b[49m\u001b[43m,\u001b[49m\n\u001b[0;32m   1116\u001b[0m \u001b[43m    \u001b[49m\u001b[43mflat_sources\u001b[49m\u001b[43m,\u001b[49m\n\u001b[0;32m   1117\u001b[0m \u001b[43m    \u001b[49m\u001b[43moutput_gradients\u001b[49m\u001b[38;5;241;43m=\u001b[39;49m\u001b[43moutput_gradients\u001b[49m\u001b[43m,\u001b[49m\n\u001b[0;32m   1118\u001b[0m \u001b[43m    \u001b[49m\u001b[43msources_raw\u001b[49m\u001b[38;5;241;43m=\u001b[39;49m\u001b[43mflat_sources_raw\u001b[49m\u001b[43m,\u001b[49m\n\u001b[0;32m   1119\u001b[0m \u001b[43m    \u001b[49m\u001b[43munconnected_gradients\u001b[49m\u001b[38;5;241;43m=\u001b[39;49m\u001b[43munconnected_gradients\u001b[49m\u001b[43m)\u001b[49m\n\u001b[0;32m   1121\u001b[0m \u001b[38;5;28;01mif\u001b[39;00m \u001b[38;5;129;01mnot\u001b[39;00m \u001b[38;5;28mself\u001b[39m\u001b[38;5;241m.\u001b[39m_persistent:\n\u001b[0;32m   1122\u001b[0m   \u001b[38;5;66;03m# Keep track of watched variables before setting tape to None\u001b[39;00m\n\u001b[0;32m   1123\u001b[0m   \u001b[38;5;28mself\u001b[39m\u001b[38;5;241m.\u001b[39m_watched_variables \u001b[38;5;241m=\u001b[39m \u001b[38;5;28mself\u001b[39m\u001b[38;5;241m.\u001b[39m_tape\u001b[38;5;241m.\u001b[39mwatched_variables()\n",
      "File \u001b[1;32mc:\\Users\\FH-Deg\\.conda\\envs\\tf_c_gpu\\lib\\site-packages\\tensorflow\\python\\eager\\imperative_grad.py:67\u001b[0m, in \u001b[0;36mimperative_grad\u001b[1;34m(tape, target, sources, output_gradients, sources_raw, unconnected_gradients)\u001b[0m\n\u001b[0;32m     63\u001b[0m \u001b[38;5;28;01mexcept\u001b[39;00m \u001b[38;5;167;01mValueError\u001b[39;00m:\n\u001b[0;32m     64\u001b[0m   \u001b[38;5;28;01mraise\u001b[39;00m \u001b[38;5;167;01mValueError\u001b[39;00m(\n\u001b[0;32m     65\u001b[0m       \u001b[38;5;124m\"\u001b[39m\u001b[38;5;124mUnknown value for unconnected_gradients: \u001b[39m\u001b[38;5;132;01m%r\u001b[39;00m\u001b[38;5;124m\"\u001b[39m \u001b[38;5;241m%\u001b[39m unconnected_gradients)\n\u001b[1;32m---> 67\u001b[0m \u001b[38;5;28;01mreturn\u001b[39;00m \u001b[43mpywrap_tfe\u001b[49m\u001b[38;5;241;43m.\u001b[39;49m\u001b[43mTFE_Py_TapeGradient\u001b[49m\u001b[43m(\u001b[49m\n\u001b[0;32m     68\u001b[0m \u001b[43m    \u001b[49m\u001b[43mtape\u001b[49m\u001b[38;5;241;43m.\u001b[39;49m\u001b[43m_tape\u001b[49m\u001b[43m,\u001b[49m\u001b[43m  \u001b[49m\u001b[38;5;66;43;03m# pylint: disable=protected-access\u001b[39;49;00m\n\u001b[0;32m     69\u001b[0m \u001b[43m    \u001b[49m\u001b[43mtarget\u001b[49m\u001b[43m,\u001b[49m\n\u001b[0;32m     70\u001b[0m \u001b[43m    \u001b[49m\u001b[43msources\u001b[49m\u001b[43m,\u001b[49m\n\u001b[0;32m     71\u001b[0m \u001b[43m    \u001b[49m\u001b[43moutput_gradients\u001b[49m\u001b[43m,\u001b[49m\n\u001b[0;32m     72\u001b[0m \u001b[43m    \u001b[49m\u001b[43msources_raw\u001b[49m\u001b[43m,\u001b[49m\n\u001b[0;32m     73\u001b[0m \u001b[43m    \u001b[49m\u001b[43mcompat\u001b[49m\u001b[38;5;241;43m.\u001b[39;49m\u001b[43mas_str\u001b[49m\u001b[43m(\u001b[49m\u001b[43munconnected_gradients\u001b[49m\u001b[38;5;241;43m.\u001b[39;49m\u001b[43mvalue\u001b[49m\u001b[43m)\u001b[49m\u001b[43m)\u001b[49m\n",
      "File \u001b[1;32mc:\\Users\\FH-Deg\\.conda\\envs\\tf_c_gpu\\lib\\site-packages\\tensorflow\\python\\eager\\backprop.py:160\u001b[0m, in \u001b[0;36m_gradient_function\u001b[1;34m(op_name, attr_tuple, num_inputs, inputs, outputs, out_grads, skip_input_indices, forward_pass_name_scope)\u001b[0m\n\u001b[0;32m    158\u001b[0m     gradient_name_scope \u001b[38;5;241m+\u001b[39m\u001b[38;5;241m=\u001b[39m forward_pass_name_scope \u001b[38;5;241m+\u001b[39m \u001b[38;5;124m\"\u001b[39m\u001b[38;5;124m/\u001b[39m\u001b[38;5;124m\"\u001b[39m\n\u001b[0;32m    159\u001b[0m   \u001b[38;5;28;01mwith\u001b[39;00m ops\u001b[38;5;241m.\u001b[39mname_scope(gradient_name_scope):\n\u001b[1;32m--> 160\u001b[0m     \u001b[38;5;28;01mreturn\u001b[39;00m \u001b[43mgrad_fn\u001b[49m\u001b[43m(\u001b[49m\u001b[43mmock_op\u001b[49m\u001b[43m,\u001b[49m\u001b[43m \u001b[49m\u001b[38;5;241;43m*\u001b[39;49m\u001b[43mout_grads\u001b[49m\u001b[43m)\u001b[49m\n\u001b[0;32m    161\u001b[0m \u001b[38;5;28;01melse\u001b[39;00m:\n\u001b[0;32m    162\u001b[0m   \u001b[38;5;28;01mreturn\u001b[39;00m grad_fn(mock_op, \u001b[38;5;241m*\u001b[39mout_grads)\n",
      "File \u001b[1;32mc:\\Users\\FH-Deg\\.conda\\envs\\tf_c_gpu\\lib\\site-packages\\tensorflow\\python\\ops\\math_grad.py:1737\u001b[0m, in \u001b[0;36m_MatMulGrad\u001b[1;34m(op, grad)\u001b[0m\n\u001b[0;32m   1735\u001b[0m \u001b[38;5;28;01mif\u001b[39;00m \u001b[38;5;129;01mnot\u001b[39;00m t_a \u001b[38;5;129;01mand\u001b[39;00m \u001b[38;5;129;01mnot\u001b[39;00m t_b:\n\u001b[0;32m   1736\u001b[0m   grad_a \u001b[38;5;241m=\u001b[39m gen_math_ops\u001b[38;5;241m.\u001b[39mmat_mul(grad, b, transpose_b\u001b[38;5;241m=\u001b[39m\u001b[38;5;28;01mTrue\u001b[39;00m)\n\u001b[1;32m-> 1737\u001b[0m   grad_b \u001b[38;5;241m=\u001b[39m \u001b[43mgen_math_ops\u001b[49m\u001b[38;5;241;43m.\u001b[39;49m\u001b[43mmat_mul\u001b[49m\u001b[43m(\u001b[49m\u001b[43ma\u001b[49m\u001b[43m,\u001b[49m\u001b[43m \u001b[49m\u001b[43mgrad\u001b[49m\u001b[43m,\u001b[49m\u001b[43m \u001b[49m\u001b[43mtranspose_a\u001b[49m\u001b[38;5;241;43m=\u001b[39;49m\u001b[38;5;28;43;01mTrue\u001b[39;49;00m\u001b[43m)\u001b[49m\n\u001b[0;32m   1738\u001b[0m \u001b[38;5;28;01melif\u001b[39;00m \u001b[38;5;129;01mnot\u001b[39;00m t_a \u001b[38;5;129;01mand\u001b[39;00m t_b:\n\u001b[0;32m   1739\u001b[0m   grad_a \u001b[38;5;241m=\u001b[39m gen_math_ops\u001b[38;5;241m.\u001b[39mmat_mul(grad, b)\n",
      "File \u001b[1;32mc:\\Users\\FH-Deg\\.conda\\envs\\tf_c_gpu\\lib\\site-packages\\tensorflow\\python\\ops\\gen_math_ops.py:6017\u001b[0m, in \u001b[0;36mmat_mul\u001b[1;34m(a, b, transpose_a, transpose_b, name)\u001b[0m\n\u001b[0;32m   6015\u001b[0m   \u001b[38;5;28;01mreturn\u001b[39;00m _result\n\u001b[0;32m   6016\u001b[0m \u001b[38;5;28;01mexcept\u001b[39;00m _core\u001b[38;5;241m.\u001b[39m_NotOkStatusException \u001b[38;5;28;01mas\u001b[39;00m e:\n\u001b[1;32m-> 6017\u001b[0m   \u001b[43m_ops\u001b[49m\u001b[38;5;241;43m.\u001b[39;49m\u001b[43mraise_from_not_ok_status\u001b[49m\u001b[43m(\u001b[49m\u001b[43me\u001b[49m\u001b[43m,\u001b[49m\u001b[43m \u001b[49m\u001b[43mname\u001b[49m\u001b[43m)\u001b[49m\n\u001b[0;32m   6018\u001b[0m \u001b[38;5;28;01mexcept\u001b[39;00m _core\u001b[38;5;241m.\u001b[39m_FallbackException:\n\u001b[0;32m   6019\u001b[0m   \u001b[38;5;28;01mpass\u001b[39;00m\n",
      "File \u001b[1;32mc:\\Users\\FH-Deg\\.conda\\envs\\tf_c_gpu\\lib\\site-packages\\tensorflow\\python\\framework\\ops.py:7209\u001b[0m, in \u001b[0;36mraise_from_not_ok_status\u001b[1;34m(e, name)\u001b[0m\n\u001b[0;32m   7207\u001b[0m \u001b[38;5;28;01mdef\u001b[39;00m \u001b[38;5;21mraise_from_not_ok_status\u001b[39m(e, name):\n\u001b[0;32m   7208\u001b[0m   e\u001b[38;5;241m.\u001b[39mmessage \u001b[38;5;241m+\u001b[39m\u001b[38;5;241m=\u001b[39m (\u001b[38;5;124m\"\u001b[39m\u001b[38;5;124m name: \u001b[39m\u001b[38;5;124m\"\u001b[39m \u001b[38;5;241m+\u001b[39m name \u001b[38;5;28;01mif\u001b[39;00m name \u001b[38;5;129;01mis\u001b[39;00m \u001b[38;5;129;01mnot\u001b[39;00m \u001b[38;5;28;01mNone\u001b[39;00m \u001b[38;5;28;01melse\u001b[39;00m \u001b[38;5;124m\"\u001b[39m\u001b[38;5;124m\"\u001b[39m)\n\u001b[1;32m-> 7209\u001b[0m   \u001b[38;5;28;01mraise\u001b[39;00m core\u001b[38;5;241m.\u001b[39m_status_to_exception(e) \u001b[38;5;28;01mfrom\u001b[39;00m \u001b[38;5;28;01mNone\u001b[39;00m\n",
      "\u001b[1;31mResourceExhaustedError\u001b[0m: {{function_node __wrapped__MatMul_device_/job:localhost/replica:0/task:0/device:GPU:0}} OOM when allocating tensor with shape[64,32] and type float on /job:localhost/replica:0/task:0/device:GPU:0 by allocator GPU_0_bfc [Op:MatMul]"
     ]
    }
   ],
   "source": [
    "def train_model(x_train, y_train, s, epochs=300, batch_size=128, model_lgb=model_lgb):\n",
    "    x_train = x_train.astype('float32')\n",
    "    y_train = y_train.astype('float32')\n",
    "    s = s.astype('float32')\n",
    "\n",
    "    dataset = tf.data.Dataset.from_tensor_slices((x_train, y_train, s))\n",
    "    dataset = dataset.shuffle(buffer_size=len(x_train)).batch(len(y_train))\n",
    "    # dataset = dataset.shuffle(buffer_size=len(x_train)).batch(batch_size)\n",
    "\n",
    "    for epoch in range(epochs):\n",
    "        print(f\"Epoch {epoch+1}/{epochs}\")\n",
    "        # lgb_probabilities=None\n",
    "        threshold = 0.5\n",
    "        for x_batch, y_batch, s_batch in dataset:\n",
    "            # Get actions and probabilities for the entire batch\n",
    "            actions, probabilities = agent.choose_action(x_batch, s_batch, threshold=threshold)\n",
    "            train_data = lgb.Dataset(x_batch, label=actions)\n",
    "            valid_data = lgb.Dataset(x_batch, label=actions)\n",
    "            model_lgb = lgb.train(params, train_data, num_boost_round=1, init_model=model_lgb, keep_training_booster=True)\n",
    "    \n",
    "\n",
    "            # Fit the model on the current batch and update history\n",
    "            # batch_history = model.fit(x_batch, actions, epochs=1, batch_size=len(x_batch), validation_split=0.2)\n",
    "            # history['batch_loss'].append(batch_history.history['loss'][0])\n",
    "            # history['batch_accuracy'].append(batch_history.history['accuracy'][0])\n",
    "\n",
    "            lgb_probabilities = model_lgb.predict(x_batch, num_iteration=model_lgb.best_iteration)\n",
    "            threshold = calculate_threshold(lgb_probabilities, y_batch)\n",
    "            rewards = calculate_rewards(lgb_probabilities, y_batch, threshold)\n",
    "\n",
    "            # Store transitions and learn from them\n",
    "            agent.store_transition(x_batch.numpy(), actions, rewards)\n",
    "            agent.learn()\n",
    "            # break\n",
    "\n",
    "        y_pred_prob = model_lgb.predict(x_test)\n",
    "        threshold = calculate_threshold(y_pred_prob, y_test)\n",
    "        print(f\"threshold: {threshold}\")\n",
    "        y_pred = np.where(y_pred_prob >= threshold, 1, 0)\n",
    "\n",
    "        roc_auc = roc_auc_score(y_test, y_pred_prob)\n",
    "        print(\"AUC-ROC:\", roc_auc)\n",
    "        history['ROC_AUC'].append(roc_auc)\n",
    "\n",
    "        accuracy = accuracy_score(y_test, y_pred)\n",
    "        print(\"Accuracy:\", accuracy)\n",
    "        history['accuracy'].append(roc_auc)\n",
    "\n",
    "        precision, recall, _ = precision_recall_curve(y_true=y_test, probas_pred=y_pred_prob)\n",
    "        pr_auc = auc(recall, precision)\n",
    "        history['PR_AUC'].append(pr_auc)\n",
    "        print(\"Precision:\", pr_auc)\n",
    "\n",
    "        # conf_matrix = confusion_matrix(y_test, y_pred)\n",
    "        # print(\"Confusion Matrix:\")\n",
    "        # print(conf_matrix)\n",
    "        # Test the confustion matrix and test the inputs\n",
    "\n",
    "        recall = recall_score(y_test, y_pred)\n",
    "        print(\"Recall:\", recall)\n",
    "        history['recall'].append(recall)\n",
    "\n",
    "        # Calculate F1 score\n",
    "        f1 = f1_score(y_test, y_pred)\n",
    "        print(\"F1 Score:\", f1)\n",
    "        history['f1'].append(f1)\n",
    "\n",
    "\n",
    "        if epoch % 3 == 0:\n",
    "            print(\"Updating target policy...\")\n",
    "            agent.target_model.set_weights(agent.model.get_weights())\n",
    "\n",
    "\n",
    "train_model(x_train=x_train, y_train=y_train, s=y_train, model_lgb=model_lgb)"
   ]
  },
  {
   "cell_type": "code",
   "execution_count": 15,
   "metadata": {},
   "outputs": [
    {
     "name": "stdout",
     "output_type": "stream",
     "text": [
      "{'epoch_loss': [], 'epoch_accuracy': [], 'batch_loss': [], 'batch_accuracy': [], 'predictions': [], 'rewards': [], 'thresholds': [], 'ROC_AUC': [0.9709253314846085, 0.9709262116774058, 0.9709672206600135, 0.9709956668908757, 0.9710671225425216, 0.9712279977806337, 0.9713750299865682, 0.9714116780139522, 0.9714590483899594, 0.9715008575478373, 0.9715859161790799, 0.9715948381333448, 0.9717408701201911, 0.971727387166885, 0.971882861221922, 0.971978802236842, 0.9720523783529544, 0.9720166905358951, 0.9722387391734286, 0.9722567031082487, 0.9725895560163498, 0.9726204827905505, 0.9728475525279057, 0.9732176735992253, 0.9731871469126597, 0.9732246351240774, 0.9731860266672812, 0.9735208200004128, 0.9738787584032407, 0.974095745932189, 0.9742155721789302, 0.9742467390057119, 0.9743933711240109, 0.9745703298850579, 0.9745908943895071, 0.9746315232888612, 0.9746550884505742, 0.9748740564133167, 0.9748689352915862, 0.9749404709607592, 0.9749190062591311, 0.9749458521394526, 0.9751578985861064, 0.9752361757319323, 0.9752745841449112], 'accuracy': [0.9709253314846085, 0.9709262116774058, 0.9709672206600135, 0.9709956668908757, 0.9710671225425216, 0.9712279977806337, 0.9713750299865682, 0.9714116780139522, 0.9714590483899594, 0.9715008575478373, 0.9715859161790799, 0.9715948381333448, 0.9717408701201911, 0.971727387166885, 0.971882861221922, 0.971978802236842, 0.9720523783529544, 0.9720166905358951, 0.9722387391734286, 0.9722567031082487, 0.9725895560163498, 0.9726204827905505, 0.9728475525279057, 0.9732176735992253, 0.9731871469126597, 0.9732246351240774, 0.9731860266672812, 0.9735208200004128, 0.9738787584032407, 0.974095745932189, 0.9742155721789302, 0.9742467390057119, 0.9743933711240109, 0.9745703298850579, 0.9745908943895071, 0.9746315232888612, 0.9746550884505742, 0.9748740564133167, 0.9748689352915862, 0.9749404709607592, 0.9749190062591311, 0.9749458521394526, 0.9751578985861064, 0.9752361757319323, 0.9752745841449112], 'PR_AUC': [0.9790826872867734, 0.9790986619002481, 0.979113273573479, 0.979140308173425, 0.9791816801494633, 0.9792828769776747, 0.9793595712738132, 0.979378864348984, 0.9794191626746691, 0.9794250444170858, 0.979468627446574, 0.9794755974346463, 0.9795391162219291, 0.9795352395505472, 0.9796146453126876, 0.979674278667551, 0.9797185387485096, 0.9797012682282185, 0.9798329520074066, 0.9798455196818595, 0.9800229844283151, 0.9800453699717289, 0.9801733587447984, 0.980395553551429, 0.9803765255158466, 0.9804036937104683, 0.980379607031435, 0.9805781622932764, 0.980774201967245, 0.9809127715650134, 0.9809661029562897, 0.9809775545947406, 0.9810699109971427, 0.9811963978801274, 0.9812082740630148, 0.9812416123437315, 0.9812718441401811, 0.9814025709094254, 0.9814066673028955, 0.9814694851412951, 0.9814581562767947, 0.9814778006435327, 0.9816119723919892, 0.9816724404235465, 0.9816958897688971], 'recall': [0.7388648009459993, 0.7380764682696098, 0.7382735514387071, 0.7388648009459993, 0.7382735514387071, 0.7390618841150965, 0.7388648009459993, 0.7386677177769019, 0.7386677177769019, 0.7378793851005124, 0.7390618841150965, 0.7388648009459993, 0.7396531336223886, 0.7390618841150965, 0.7396531336223886, 0.740441466298778, 0.7406385494678754, 0.7406385494678754, 0.7416239653133623, 0.7408356326369728, 0.7406385494678754, 0.7402443831296808, 0.7406385494678754, 0.7406385494678754, 0.7414268821442649, 0.7410327158060701, 0.7412297989751675, 0.7412297989751675, 0.7410327158060701, 0.7410327158060701, 0.7414268821442649, 0.7416239653133623, 0.7412297989751675, 0.7414268821442649, 0.7410327158060701, 0.742018131651557, 0.7422152148206543, 0.7428064643279464, 0.7416239653133623, 0.7418210484824596, 0.7418210484824596, 0.7424122979897517, 0.7433977138352384, 0.7433977138352384, 0.7437918801734332], 'f1': [0.8475189329716288, 0.8470934177787831, 0.8471279963817278, 0.8477105709440361, 0.8473196109477493, 0.8478408320144698, 0.8477105709440361, 0.8475802804161013, 0.8475802804161013, 0.8469630132337971, 0.84774499830451, 0.8477105709440361, 0.8481355932203389, 0.8476491862567812, 0.8480397695175687, 0.8486559747007002, 0.8484985324000903, 0.8485943321666478, 0.8492439629880388, 0.8488201422603591, 0.8486901535682023, 0.8484300880957759, 0.8488818613056246, 0.8486901535682023, 0.8493057907213004, 0.8489501016030707, 0.8490800316062761, 0.8489841986455982, 0.8489501016030707, 0.8490459523540702, 0.8493057907213004, 0.8494356659142213, 0.8491758862045609, 0.849401670806051, 0.8491418247515808, 0.8497912199526013, 0.8499210110584519, 0.8504061371841155, 0.8496274554075413, 0.8496613995485327, 0.8497573089513489, 0.8501466937485895, 0.8508910444394315, 0.8507950828916206, 0.851150202976996]}\n"
     ]
    }
   ],
   "source": [
    "import pickle\n",
    "with open('history_XGB.pkl', 'wb') as file:\n",
    "    # Use pickle to dump the dictionary into the file\n",
    "    pickle.dump(history, file)\n",
    "\n",
    "with open('history_XGB.pkl', 'rb') as file:\n",
    "    # Load the dictionary back from the pickle file\n",
    "    loaded_history = pickle.load(file)\n",
    "\n",
    "# Verify the content\n",
    "print(loaded_history)"
   ]
  },
  {
   "cell_type": "code",
   "execution_count": 16,
   "metadata": {},
   "outputs": [],
   "source": [
    "# import matplotlib.pyplot as plt\n",
    "\n",
    "# # Plotting epoch losses and accuracies\n",
    "# plt.figure(figsize=(14, 5))\n",
    "\n",
    "# plt.subplot(1, 2, 1)\n",
    "# plt.plot(history['batch_loss'], label='Loss')\n",
    "# plt.title('Epoch Loss')\n",
    "# plt.xlabel('Epoch')\n",
    "# plt.ylabel('Loss')\n",
    "# plt.legend()\n",
    "\n",
    "# plt.subplot(1, 2, 2)\n",
    "# plt.plot(history['batch_accuracy'], label='Accuracy')\n",
    "# plt.title('Epoch Accuracy')\n",
    "# plt.xlabel('Epoch')\n",
    "# plt.ylabel('Accuracy')\n",
    "# plt.legend()\n",
    "\n",
    "# plt.show()\n",
    "\n",
    "# # You can add more plots for batch-level data, rewards, thresholds, etc.\n"
   ]
  },
  {
   "cell_type": "markdown",
   "metadata": {},
   "source": [
    "# Visual"
   ]
  },
  {
   "cell_type": "code",
   "execution_count": 21,
   "metadata": {},
   "outputs": [
    {
     "data": {
      "text/plain": [
       "<matplotlib.legend.Legend at 0x1badaefd0>"
      ]
     },
     "execution_count": 21,
     "metadata": {},
     "output_type": "execute_result"
    },
    {
     "data": {
      "image/png": "[encoded data removed]",
      "text/plain": [
       "<Figure size 1800x500 with 3 Axes>"
      ]
     },
     "metadata": {},
     "output_type": "display_data"
    }
   ],
   "source": [
    "plt.figure(figsize=(18, 5))\n",
    "\n",
    "plt.subplot(1, 3, 1)\n",
    "plt.plot(history['ROC_AUC'], label='ROC')\n",
    "plt.title('ROC AUC')\n",
    "plt.xlabel('Epoch')\n",
    "plt.ylabel('ROC')\n",
    "plt.legend()\n",
    "\n",
    "plt.subplot(1, 3, 2)\n",
    "plt.plot(history['accuracy'], label='Accuracy')\n",
    "plt.title('Epoch Accuracy')\n",
    "plt.xlabel('Epoch')\n",
    "plt.ylabel('Accuracy')\n",
    "plt.legend()\n",
    "\n",
    "plt.subplot(1, 3, 3)\n",
    "plt.plot(history['PR_AUC'], label='PR')\n",
    "plt.title('PR AUC')\n",
    "plt.xlabel('Epoch')\n",
    "plt.ylabel('PR@Epoch')\n",
    "plt.legend()    "
   ]
  },
  {
   "cell_type": "code",
   "execution_count": 18,
   "metadata": {},
   "outputs": [
    {
     "data": {
      "text/plain": [
       "<matplotlib.legend.Legend at 0x13fba0850>"
      ]
     },
     "execution_count": 18,
     "metadata": {},
     "output_type": "execute_result"
    },
    {
     "data": {
      "image/png": "[encoded data removed]",
      "text/plain": [
       "<Figure size 1400x500 with 2 Axes>"
      ]
     },
     "metadata": {},
     "output_type": "display_data"
    }
   ],
   "source": [
    "plt.figure(figsize=(14, 5))\n",
    "\n",
    "plt.subplot(1, 2, 1)\n",
    "plt.plot(history['recall'], label='Recall')\n",
    "plt.title('Recall')\n",
    "plt.xlabel('Epoch')\n",
    "plt.ylabel('Recall')\n",
    "plt.legend()\n",
    "\n",
    "plt.subplot(1, 2, 2)\n",
    "plt.plot(history['f1'], label='F1')\n",
    "plt.title('F1@Epoch')\n",
    "plt.xlabel('Epoch')\n",
    "plt.ylabel('F1')\n",
    "plt.legend()\n",
    "\n",
    "# plt.subplot(1, 3, 3)\n",
    "# plt.plot(history['PR_AUC'], label='Accuracy')\n",
    "# plt.title('PR AUC')\n",
    "# plt.xlabel('Epoch')\n",
    "# plt.ylabel('PR@Epoch')\n",
    "# plt.legend()"
   ]
  },
  {
   "cell_type": "code",
   "execution_count": null,
   "metadata": {},
   "outputs": [],
   "source": []
  }
 ],
 "metadata": {
  "kernelspec": {
   "display_name": "Python 3",
   "language": "python",
   "name": "python3"
  },
  "language_info": {
   "codemirror_mode": {
    "name": "ipython",
    "version": 3
   },
   "file_extension": ".py",
   "mimetype": "text/x-python",
   "name": "python",
   "nbconvert_exporter": "python",
   "pygments_lexer": "ipython3",
   "version": "3.9.19"
  }
 },
 "nbformat": 4,
 "nbformat_minor": 2
}
