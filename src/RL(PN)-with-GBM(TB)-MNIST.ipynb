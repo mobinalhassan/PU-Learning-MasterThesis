{
 "cells": [
  {
   "cell_type": "code",
   "execution_count": 2,
   "metadata": {},
   "outputs": [],
   "source": [
    "import numpy as np\n",
    "from tensorflow.keras.datasets import mnist\n",
    "from tensorflow.keras.models import Sequential\n",
    "from tensorflow.keras.layers import Conv2D, MaxPooling2D, Flatten, Dense\n",
    "from sklearn.model_selection import train_test_split\n",
    "import matplotlib.pyplot as plt\n",
    "from tensorflow.keras.optimizers import Adam\n",
    "import tensorflow as tf\n",
    "from uitils import *\n",
    "import pandas as pd\n",
    "from sklearn.metrics import accuracy_score\n",
    "from tensorflow.keras.models import Sequential\n",
    "from tensorflow.keras.layers import Conv2D, MaxPooling2D, Flatten, Dense, Activation, BatchNormalization\n",
    "from sklearn.metrics import roc_auc_score, precision_score, recall_score\n",
    "from sklearn.metrics import precision_recall_curve, auc\n",
    "from sklearn.metrics import roc_auc_score, accuracy_score, precision_recall_curve, auc, recall_score, f1_score, confusion_matrix"
   ]
  },
  {
   "cell_type": "code",
   "execution_count": 3,
   "metadata": {},
   "outputs": [
    {
     "name": "stdout",
     "output_type": "stream",
     "text": [
      "Num GPUs Available:  1\n",
      "GPU support: gpu\n"
     ]
    }
   ],
   "source": [
    "import tensorflow as tf\n",
    "print(\"Num GPUs Available: \", len(tf.config.list_physical_devices('GPU')))\n",
    "\n",
    "import lightgbm as lgb\n",
    "print('GPU support:', lgb.LGBMClassifier(device='gpu').get_params()['device'])\n",
    "\n"
   ]
  },
  {
   "cell_type": "markdown",
   "metadata": {},
   "source": [
    "# Data Loading"
   ]
  },
  {
   "cell_type": "code",
   "execution_count": 4,
   "metadata": {},
   "outputs": [
    {
     "name": "stdout",
     "output_type": "stream",
     "text": [
      "Reduced training set shape: (60000, 28, 28)\n",
      "Reduced testing set shape: (10000, 28, 28)\n",
      "Training labels distribution: [30366   982]\n",
      "Training original labels distribution: [30366   982]\n"
     ]
    }
   ],
   "source": [
    "import numpy as np\n",
    "from keras.datasets import mnist\n",
    "import lightgbm as lgb\n",
    "from sklearn.metrics import accuracy_score\n",
    "\n",
    "# Random samples selector\n",
    "def extract_samples(x, y, num_samples):\n",
    "    indices = np.random.choice(x.shape[0], num_samples, replace=False)\n",
    "    return x[indices], y[indices]\n",
    "\n",
    "# Load MNIST dataset\n",
    "(x_train, y_train), (x_test, y_test) = mnist.load_data()\n",
    "# x_train, y_train = extract_samples(x_train, y_train, 500)\n",
    "# x_test, y_test = extract_samples(x_test, y_test, 100)\n",
    "print(\"Reduced training set shape:\", x_train.shape)\n",
    "print(\"Reduced testing set shape:\", x_test.shape)\n",
    "\n",
    "# Normalize data\n",
    "x_train = x_train / 255.0\n",
    "x_test = x_test / 255.0\n",
    "\n",
    "# Flatten the images for LightGBM\n",
    "x_train = x_train.reshape((x_train.shape[0], -1))\n",
    "x_test = x_test.reshape((x_test.shape[0], -1))\n",
    "\n",
    "# Convert labels to 0 (even) and 1 (odd)\n",
    "y_train = y_train % 2\n",
    "y_test = y_test % 2\n",
    "\n",
    "# Initialize 's' to zeros, meaning initially all are unlabeled\n",
    "s = np.zeros_like(y_train)\n",
    "\n",
    "# Select a random 1000 samples where y_train == 1 to be labeled\n",
    "positive_indices = np.where(y_train == 1)[0]\n",
    "chosen_indices = np.random.choice(positive_indices, size=1000)\n",
    "\n",
    "# Mark these as labeled in 's'\n",
    "s[chosen_indices] = 1\n",
    "\n",
    "# Mark the rest of the positive_indices except the chosen 1000 as potential targets for unlabeled marking\n",
    "rest_of_positives = np.setdiff1d(positive_indices, chosen_indices)\n",
    "\n",
    "# From the rest, select 3% and mark their labels as 0 in y_train\n",
    "number_to_mark_unlabeled = int(len(rest_of_positives) * 0.03)\n",
    "unlabeled_indices = np.random.choice(rest_of_positives, size=number_to_mark_unlabeled)\n",
    "y_train[unlabeled_indices] = 0\n",
    "\n",
    "# Remove the rest of the positive rows that are not in the chosen 1000 and not marked as unlabeled\n",
    "indices_to_drop = np.setdiff1d(rest_of_positives, np.concatenate([chosen_indices, unlabeled_indices]))\n",
    "x_train = np.delete(x_train, indices_to_drop, axis=0)\n",
    "y_train = np.delete(y_train, indices_to_drop)\n",
    "s = np.delete(s, indices_to_drop)\n",
    "\n",
    "print(\"Training labels distribution:\", np.bincount(y_train))\n",
    "print(\"Training original labels distribution:\", np.bincount(s))\n"
   ]
  },
  {
   "cell_type": "markdown",
   "metadata": {},
   "source": [
    "# Pre-training"
   ]
  },
  {
   "cell_type": "code",
   "execution_count": 5,
   "metadata": {},
   "outputs": [
    {
     "name": "stdout",
     "output_type": "stream",
     "text": [
      "[LightGBM] [Info] Number of positive: 982, number of negative: 30366\n",
      "[LightGBM] [Info] This is the GPU trainer!!\n",
      "[LightGBM] [Info] Total Bins 99484\n",
      "[LightGBM] [Info] Number of data points in the train set: 31348, number of used features: 586\n",
      "[LightGBM] [Info] Using GPU Device: Quadro RTX 4000, Vendor: NVIDIA Corporation\n",
      "[LightGBM] [Info] Compiling OpenCL Kernel with 256 bins...\n",
      "[LightGBM] [Info] GPU programs have been built\n",
      "[LightGBM] [Info] Size of histogram bin entry: 8\n",
      "[LightGBM] [Info] 217 dense feature groups (6.58 MB) transferred to GPU in 0.056155 secs. 1 sparse feature groups\n",
      "[LightGBM] [Info] [binary:BoostFromScore]: pavg=0.031326 -> initscore=-3.431488\n",
      "[LightGBM] [Info] Start training from score -3.431488\n",
      "Accuracy: 0.4926\n"
     ]
    }
   ],
   "source": [
    "# Import LightGBM\n",
    "import lightgbm as lgb\n",
    "\n",
    "#  datasets creation for LightGBM\n",
    "train_data = lgb.Dataset(x_train, label=y_train)\n",
    "test_data = lgb.Dataset(x_test, label=y_test)\n",
    "\n",
    "##parameters for LightGBM\n",
    "params = {\n",
    "    'boosting_type': 'gbdt',        # Gradient boosting decision tree\n",
    "    'objective': 'binary',          # Binary classification\n",
    "    'metric': 'binary_logloss',     # Evaluation metric\n",
    "    'num_leaves': 31,               # Number of leaves in full tree\n",
    "    'learning_rate': 0.01,          # Learning rate\n",
    "    'feature_fraction': 0.9,        # Fraction of features to be used at each iteration\n",
    "    'bagging_fraction': 0.8,        # Fraction of data to be used for each iteration\n",
    "    'bagging_freq': 5,              # Frequency for bagging\n",
    "    'device': 'gpu',                # Use GPU for training\n",
    "    'verbose': 1                    # Verbose output\n",
    "}\n",
    "\n",
    "# boosting rounds\n",
    "num_boost_round = 15\n",
    "\n",
    "#  model\n",
    "model_lgb = lgb.train(params, train_data, num_boost_round=num_boost_round, valid_sets=[test_data])\n",
    "\n",
    "model_lgb.save_model('lgb_model_mnist.weights.h5')\n",
    "\n",
    "# predicted probabilities\n",
    "y_pred_prob = model_lgb.predict(x_test)\n",
    "y_pred = np.where(y_pred_prob > 0.5, 1, 0)\n",
    "\n",
    "accuracy = accuracy_score(y_test, y_pred)\n",
    "print(\"Accuracy:\", accuracy)\n"
   ]
  },
  {
   "cell_type": "code",
   "execution_count": 6,
   "metadata": {},
   "outputs": [
    {
     "name": "stdout",
     "output_type": "stream",
     "text": [
      "Classifer predicted labels distribution: [   28 31320]\n"
     ]
    },
    {
     "data": {
      "image/png": "[encoded data removed]",
      "text/plain": [
       "<Figure size 640x480 with 1 Axes>"
      ]
     },
     "metadata": {},
     "output_type": "display_data"
    }
   ],
   "source": [
    "y_pred = model_lgb.predict(x_train, num_iteration=model_lgb.best_iteration)\n",
    "threshold = min(y_pred[y_train == 1])\n",
    "lgb_predicted_labels = np.array([1 if pred >= threshold else 0 for pred in y_pred])\n",
    "print(\"Classifer predicted labels distribution:\", np.bincount(lgb_predicted_labels))\n",
    "\n",
    "bin_ploter(predicted_labels=lgb_predicted_labels)"
   ]
  },
  {
   "cell_type": "markdown",
   "metadata": {},
   "source": [
    "### Probablistic outcome of classifer to pre-train policy network\n",
    " "
   ]
  },
  {
   "cell_type": "code",
   "execution_count": 7,
   "metadata": {},
   "outputs": [
    {
     "name": "stdout",
     "output_type": "stream",
     "text": [
      "Epoch 1/15\n",
      "196/196 [==============================] - 10s 40ms/step - loss: 0.0203 - accuracy: 0.9941 - val_loss: 0.0130 - val_accuracy: 0.9989\n",
      "Epoch 2/15\n",
      "196/196 [==============================] - 8s 41ms/step - loss: 0.0083 - accuracy: 0.9992 - val_loss: 0.0119 - val_accuracy: 0.9989\n",
      "Epoch 3/15\n",
      "196/196 [==============================] - 8s 43ms/step - loss: 0.0076 - accuracy: 0.9992 - val_loss: 0.0098 - val_accuracy: 0.9989\n",
      "Epoch 4/15\n",
      "196/196 [==============================] - 8s 41ms/step - loss: 0.0083 - accuracy: 0.9992 - val_loss: 0.0156 - val_accuracy: 0.9989\n",
      "Epoch 5/15\n",
      "196/196 [==============================] - 7s 36ms/step - loss: 0.0081 - accuracy: 0.9992 - val_loss: 0.0146 - val_accuracy: 0.9989\n",
      "Epoch 6/15\n",
      "196/196 [==============================] - 7s 36ms/step - loss: 0.0054 - accuracy: 0.9992 - val_loss: 0.0110 - val_accuracy: 0.9989\n",
      "Epoch 7/15\n",
      "196/196 [==============================] - 6s 33ms/step - loss: 0.0054 - accuracy: 0.9992 - val_loss: 0.0109 - val_accuracy: 0.9989\n",
      "Epoch 8/15\n",
      "196/196 [==============================] - 7s 36ms/step - loss: 0.0051 - accuracy: 0.9992 - val_loss: 0.0131 - val_accuracy: 0.9989\n",
      "Epoch 9/15\n",
      "196/196 [==============================] - 7s 37ms/step - loss: 0.0044 - accuracy: 0.9992 - val_loss: 0.0178 - val_accuracy: 0.9989\n",
      "Epoch 10/15\n",
      "196/196 [==============================] - 7s 36ms/step - loss: 0.0041 - accuracy: 0.9992 - val_loss: 0.0128 - val_accuracy: 0.9989\n",
      "Epoch 11/15\n",
      "196/196 [==============================] - 7s 37ms/step - loss: 0.0046 - accuracy: 0.9992 - val_loss: 0.0146 - val_accuracy: 0.9989\n",
      "Epoch 12/15\n",
      "196/196 [==============================] - 7s 36ms/step - loss: 0.0047 - accuracy: 0.9992 - val_loss: 0.0129 - val_accuracy: 0.9989\n",
      "Epoch 13/15\n",
      "196/196 [==============================] - 7s 37ms/step - loss: 0.0037 - accuracy: 0.9992 - val_loss: 0.0177 - val_accuracy: 0.9989\n",
      "Epoch 14/15\n",
      "196/196 [==============================] - 7s 37ms/step - loss: 0.0037 - accuracy: 0.9992 - val_loss: 0.0236 - val_accuracy: 0.9989\n",
      "Epoch 15/15\n",
      "196/196 [==============================] - 7s 37ms/step - loss: 0.0039 - accuracy: 0.9992 - val_loss: 0.0159 - val_accuracy: 0.9989\n"
     ]
    }
   ],
   "source": [
    "# Policy-Network Model\n",
    "\n",
    "class PolicyGradientNetwork:\n",
    "    def __init__(self):\n",
    "        self.model = self._create_model()\n",
    "    \n",
    "    def _create_model(self):\n",
    "        model = Sequential([\n",
    "            Dense(64, input_shape=(input_dimension,)),  # Adjust `input_dimension` to match your feature count\n",
    "            Activation('relu'),\n",
    "            Dense(128),\n",
    "            Activation('relu'),\n",
    "            Dense(64),\n",
    "            Activation('relu'),\n",
    "            Dense(32),\n",
    "            Activation('relu'),\n",
    "            Dense(16),\n",
    "            Activation('relu'),\n",
    "            Dense(1),  # Output layer for binary classification\n",
    "            Activation('sigmoid')\n",
    "        ])\n",
    "        return model\n",
    "    \n",
    "    def get_model(self):\n",
    "        return self.model\n",
    "    \n",
    "input_dimension = x_train.shape[1]\n",
    "policy_network = PolicyGradientNetwork()\n",
    "pn_model = policy_network.get_model()\n",
    "\n",
    "pn_model.compile(optimizer=Adam(learning_rate=0.01), loss='binary_crossentropy', metrics=['accuracy'])\n",
    "\n",
    "# fit the model with one-hot encoded labels\n",
    "# history_2 = pn_model.fit(x_train.to_numpy(), lgb_predicted_labels, epochs=60, batch_size=5, validation_split=0.2)\n",
    "history_2 = pn_model.fit(x_train, lgb_predicted_labels, epochs=15, batch_size=128, validation_split=0.2)\n",
    "pn_model.save_weights('pn_mlp_model_.weights.h5')\n",
    "# pn_model.load_weights('pn_mlp_model_.weights.h5')"
   ]
  },
  {
   "cell_type": "code",
   "execution_count": 8,
   "metadata": {},
   "outputs": [
    {
     "name": "stdout",
     "output_type": "stream",
     "text": [
      "980/980 [==============================] - 10s 10ms/step\n",
      "Classifer predicted labels distribution: [   13 31335]\n"
     ]
    },
    {
     "data": {
      "image/png": "[encoded data removed]",
      "text/plain": [
       "<Figure size 640x480 with 1 Axes>"
      ]
     },
     "metadata": {},
     "output_type": "display_data"
    }
   ],
   "source": [
    "probabilities = pn_model.predict(x_train)\n",
    "threshold = min(probabilities[y_train == 1])\n",
    "\n",
    "# Convert probabilities to binary labels based on the threshold\n",
    "predicted_labels = (probabilities >= threshold).astype(int)\n",
    "np_predicted_labels = predicted_labels.flatten().astype(int)\n",
    "\n",
    "print(\"Classifer predicted labels distribution:\", np.bincount(np_predicted_labels))\n",
    "bin_ploter(predicted_labels=np_predicted_labels)"
   ]
  },
  {
   "cell_type": "markdown",
   "metadata": {},
   "source": [
    "## Interactive learning"
   ]
  },
  {
   "cell_type": "code",
   "execution_count": 9,
   "metadata": {},
   "outputs": [],
   "source": [
    "class Agent:\n",
    "    def __init__(self, model, target_model, alpha=0.00001, gamma=0.99):\n",
    "        self.gamma = gamma  # Discount factor\n",
    "        self.lr = alpha  # Learning rate\n",
    "        self.model = model  # Policy model\n",
    "        self.target_model = target_model # target policy model\n",
    "        self.state_memory = []\n",
    "        self.action_memory = []\n",
    "        self.reward_memory = []\n",
    "\n",
    "    \n",
    "    def choose_action(self, states, s, threshold=0.5):\n",
    "        # Convert states to float32 tensor within the function\n",
    "        states = tf.convert_to_tensor(states, dtype=tf.float32)\n",
    "        probabilities = self.target_model(states) \n",
    "        \n",
    "        inferred_labels = tf.cast(probabilities > threshold, tf.int32)       \n",
    "        s = tf.reshape(s, tf.shape(inferred_labels))  # ensuring s is the same shape as inferred_labels\n",
    "        actions = tf.where(s == 1, 1, inferred_labels)\n",
    "        actions = tf.squeeze(actions)  # should correctly squeeze actions to shape (128,)\n",
    "        return actions.numpy(), probabilities.numpy()\n",
    "\n",
    "\n",
    "\n",
    "    def store_transition(self, states, actions, rewards):\n",
    "        self.state_memory.extend(states)\n",
    "        self.action_memory.extend(actions)\n",
    "        self.reward_memory.extend(rewards)\n",
    "\n",
    "    def learn(self):\n",
    "        actions = np.array(self.action_memory)\n",
    "        rewards = np.array(self.reward_memory)\n",
    "        states = np.array(self.state_memory)\n",
    "\n",
    "        # discounted rewards\n",
    "        G = np.zeros_like(rewards)\n",
    "        for t in range(len(rewards)):\n",
    "            G_sum = 0\n",
    "            discount = 1\n",
    "            for k in range(t, len(rewards)):\n",
    "                G_sum += rewards[k] * discount\n",
    "                discount *= self.gamma\n",
    "\n",
    "            G[t] = G_sum\n",
    "\n",
    "        # updating policy\n",
    "        with tf.GradientTape() as tape:\n",
    "            loss = 0\n",
    "\n",
    "            for idx, (g, state) in enumerate(zip(G, states)):\n",
    "                state = tf.convert_to_tensor([state], dtype=tf.float32)\n",
    "                probs = self.model(state, training=True)\n",
    "                action_probs = tf.where(actions[idx] == 1, probs, 1 - probs)\n",
    "                log_prob = tf.math.log(action_probs)\n",
    "                loss += -g * tf.reduce_sum(log_prob)\n",
    "\n",
    "        gradients = tape.gradient(loss, self.model.trainable_variables)\n",
    "        self.model.optimizer.apply_gradients(zip(gradients, self.model.trainable_variables))\n",
    "\n",
    "        # clearing memory\n",
    "        self.state_memory = []\n",
    "        self.action_memory = []\n",
    "        self.reward_memory = []\n"
   ]
  },
  {
   "cell_type": "code",
   "execution_count": 10,
   "metadata": {},
   "outputs": [],
   "source": [
    "# cloning policy model for stable target policy\n",
    "target_policy_model = tf.keras.models.clone_model(pn_model)\n",
    "target_policy_model.compile(optimizer=Adam(learning_rate=0.00001), loss='binary_crossentropy', metrics=['accuracy'])\n"
   ]
  },
  {
   "cell_type": "code",
   "execution_count": 11,
   "metadata": {},
   "outputs": [],
   "source": [
    "history = {\n",
    "    'epoch_loss': [],\n",
    "    'epoch_accuracy': [],\n",
    "    'batch_loss': [],\n",
    "    'batch_accuracy': [],\n",
    "    'predictions': [],\n",
    "    'rewards': [],\n",
    "    'thresholds': [],\n",
    "    'ROC_AUC': [],\n",
    "    'accuracy':[],\n",
    "    'PR_AUC':[],\n",
    "    'recall':[],\n",
    "    'f1':[]\n",
    "}\n",
    "\n",
    "agent = Agent(pn_model,target_model=target_policy_model, alpha=0.00001, gamma=0.99)\n",
    "# Example parameters\n",
    "n_epochs = 300\n",
    "# n_epochs = 10 #for testing\n",
    "batch_size = 128 # You can adjust the batch size as needed\n",
    "\n",
    "def shuffle_data(x_train, y_train, s):\n",
    "    indices = np.arange(len(x_train))\n",
    "    np.random.shuffle(indices)\n",
    "    return x_train[indices], y_train[indices], s[indices]\n",
    "\n",
    "def create_mini_batches(x_train, y_train, s, batch_size):\n",
    "    for start_idx in range(0, len(x_train) - batch_size + 1, batch_size):\n",
    "        excerpt = slice(start_idx, start_idx + batch_size)\n",
    "        yield x_train[excerpt], y_train[excerpt], s[excerpt]\n",
    "\n",
    "def calculate_threshold(clf_probabilities, y_batch):\n",
    "    # Identify indices of positive examples\n",
    "    positive_indices = (y_batch == 1)\n",
    "    \n",
    "    # Calculate threshmin from positive examples\n",
    "    if np.any(positive_indices):\n",
    "        threshmin = np.min(clf_probabilities[positive_indices])\n",
    "    else:\n",
    "        threshmin = 0  # Default value if no positive examples are present\n",
    "\n",
    "    # Identify U0 - samples with predictions >= threshmin\n",
    "    U0_indices = (clf_probabilities >= threshmin)\n",
    "    \n",
    "    # Calculate the final threshold using Equation 5\n",
    "    if np.any(U0_indices):\n",
    "        threshold = np.mean(clf_probabilities[U0_indices])\n",
    "    else:\n",
    "        threshold = threshmin  # Use threshmin if no samples meet the U0 criteria\n",
    "\n",
    "    return threshold\n",
    "\n",
    "def calculate_rewards(clf_probabilities, y_batch, threshold):\n",
    "    # Reward calculation needs to consider whether predictions meet a certain threshold\n",
    "    # Positive examples above threshold or negative examples below threshold get positive rewards\n",
    "    rewards = []\n",
    "    for prob, actual in zip(clf_probabilities.flatten(), y_batch):\n",
    "        if actual == 1 or (actual == 0 and prob >= threshold):\n",
    "            reward = prob  # Reward is the probability itself if conditions are met\n",
    "        else:\n",
    "            reward = prob -1  # Otherwise, reward is the complement of the probability\n",
    "        rewards.append(reward)\n",
    "    return rewards"
   ]
  },
  {
   "cell_type": "code",
   "execution_count": 12,
   "metadata": {},
   "outputs": [],
   "source": [
    "# num_initial_round = 5\n",
    "# model_lgb = lgb.train(params, train_data, num_boost_round=num_initial_round, valid_sets=[test_data])\n",
    "# model_lgb.save_model('lgb_model.we7ights.h5')\n",
    "\n",
    "\n",
    "# y_pred = model_lgb.predict(x_train, num_iteration=model_lgb.best_iteration)\n",
    "# threshold = min(y_pred[y_train == 1])\n",
    "# lgb_predicted_labels = np.array([1 if pred >= threshold else 0 for pred in y_pred])\n",
    "# print(\"Classifer predicted labels distribution:\", np.bincount(lgb_predicted_labels))"
   ]
  },
  {
   "cell_type": "code",
   "execution_count": 13,
   "metadata": {},
   "outputs": [
    {
     "name": "stdout",
     "output_type": "stream",
     "text": [
      "Epoch 1/300\n"
     ]
    },
    {
     "name": "stderr",
     "output_type": "stream",
     "text": [
      "c:\\Users\\FH-Deg\\.conda\\envs\\tf_c_gpu\\lib\\site-packages\\lightgbm\\basic.py:1192: UserWarning: Converting data to scipy sparse matrix.\n",
      "  _log_warning('Converting data to scipy sparse matrix.')\n"
     ]
    },
    {
     "name": "stdout",
     "output_type": "stream",
     "text": [
      "[LightGBM] [Info] Number of positive: 28669, number of negative: 2679\n",
      "[LightGBM] [Info] This is the GPU trainer!!\n",
      "[LightGBM] [Info] Total Bins 99484\n",
      "[LightGBM] [Info] Number of data points in the train set: 31348, number of used features: 586\n",
      "[LightGBM] [Info] Using GPU Device: Quadro RTX 4000, Vendor: NVIDIA Corporation\n",
      "[LightGBM] [Info] Compiling OpenCL Kernel with 256 bins...\n",
      "[LightGBM] [Info] GPU programs have been built\n",
      "[LightGBM] [Info] Size of histogram bin entry: 8\n",
      "[LightGBM] [Info] 217 dense feature groups (6.58 MB) transferred to GPU in 0.040914 secs. 1 sparse feature groups\n",
      "threshold: 0.14581506530547028\n",
      "AUC-ROC: 0.8658050459372622\n",
      "Accuracy: 0.8266\n",
      "PR_AUC: 0.9141675744816804\n",
      "Updating target policy...\n",
      "Epoch 2/300\n"
     ]
    },
    {
     "name": "stderr",
     "output_type": "stream",
     "text": [
      "c:\\Users\\FH-Deg\\.conda\\envs\\tf_c_gpu\\lib\\site-packages\\lightgbm\\basic.py:1192: UserWarning: Converting data to scipy sparse matrix.\n",
      "  _log_warning('Converting data to scipy sparse matrix.')\n"
     ]
    },
    {
     "name": "stdout",
     "output_type": "stream",
     "text": [
      "[LightGBM] [Info] Number of positive: 982, number of negative: 30366\n",
      "[LightGBM] [Info] This is the GPU trainer!!\n",
      "[LightGBM] [Info] Total Bins 99484\n",
      "[LightGBM] [Info] Number of data points in the train set: 31348, number of used features: 586\n",
      "[LightGBM] [Info] Using GPU Device: Quadro RTX 4000, Vendor: NVIDIA Corporation\n",
      "[LightGBM] [Info] Compiling OpenCL Kernel with 256 bins...\n",
      "[LightGBM] [Info] GPU programs have been built\n",
      "[LightGBM] [Info] Size of histogram bin entry: 8\n",
      "[LightGBM] [Info] 217 dense feature groups (6.58 MB) transferred to GPU in 0.052537 secs. 1 sparse feature groups\n",
      "threshold: 0.1462981844676173\n",
      "AUC-ROC: 0.9020932144977035\n",
      "Accuracy: 0.8427\n",
      "PR_AUC: 0.9376099197849818\n",
      "Epoch 3/300\n"
     ]
    },
    {
     "name": "stderr",
     "output_type": "stream",
     "text": [
      "c:\\Users\\FH-Deg\\.conda\\envs\\tf_c_gpu\\lib\\site-packages\\lightgbm\\basic.py:1192: UserWarning: Converting data to scipy sparse matrix.\n",
      "  _log_warning('Converting data to scipy sparse matrix.')\n"
     ]
    },
    {
     "name": "stdout",
     "output_type": "stream",
     "text": [
      "[LightGBM] [Info] Number of positive: 982, number of negative: 30366\n",
      "[LightGBM] [Info] This is the GPU trainer!!\n",
      "[LightGBM] [Info] Total Bins 99484\n",
      "[LightGBM] [Info] Number of data points in the train set: 31348, number of used features: 586\n",
      "[LightGBM] [Info] Using GPU Device: Quadro RTX 4000, Vendor: NVIDIA Corporation\n",
      "[LightGBM] [Info] Compiling OpenCL Kernel with 256 bins...\n",
      "[LightGBM] [Info] GPU programs have been built\n",
      "[LightGBM] [Info] Size of histogram bin entry: 8\n",
      "[LightGBM] [Info] 217 dense feature groups (6.58 MB) transferred to GPU in 0.044096 secs. 1 sparse feature groups\n",
      "threshold: 0.14737924054743318\n",
      "AUC-ROC: 0.9219503239989688\n",
      "Accuracy: 0.8513\n",
      "PR_AUC: 0.9503761738457178\n",
      "Epoch 4/300\n"
     ]
    },
    {
     "name": "stderr",
     "output_type": "stream",
     "text": [
      "c:\\Users\\FH-Deg\\.conda\\envs\\tf_c_gpu\\lib\\site-packages\\lightgbm\\basic.py:1192: UserWarning: Converting data to scipy sparse matrix.\n",
      "  _log_warning('Converting data to scipy sparse matrix.')\n"
     ]
    },
    {
     "name": "stdout",
     "output_type": "stream",
     "text": [
      "[LightGBM] [Info] Number of positive: 982, number of negative: 30366\n",
      "[LightGBM] [Info] This is the GPU trainer!!\n",
      "[LightGBM] [Info] Total Bins 99484\n",
      "[LightGBM] [Info] Number of data points in the train set: 31348, number of used features: 586\n",
      "[LightGBM] [Info] Using GPU Device: Quadro RTX 4000, Vendor: NVIDIA Corporation\n",
      "[LightGBM] [Info] Compiling OpenCL Kernel with 256 bins...\n",
      "[LightGBM] [Info] GPU programs have been built\n",
      "[LightGBM] [Info] Size of histogram bin entry: 8\n",
      "[LightGBM] [Info] 217 dense feature groups (6.58 MB) transferred to GPU in 0.051793 secs. 1 sparse feature groups\n",
      "threshold: 0.14816304894821775\n",
      "AUC-ROC: 0.9354067314904656\n",
      "Accuracy: 0.8523\n",
      "PR_AUC: 0.9582096857783631\n",
      "Updating target policy...\n",
      "Epoch 5/300\n"
     ]
    },
    {
     "name": "stderr",
     "output_type": "stream",
     "text": [
      "c:\\Users\\FH-Deg\\.conda\\envs\\tf_c_gpu\\lib\\site-packages\\lightgbm\\basic.py:1192: UserWarning: Converting data to scipy sparse matrix.\n",
      "  _log_warning('Converting data to scipy sparse matrix.')\n"
     ]
    },
    {
     "name": "stdout",
     "output_type": "stream",
     "text": [
      "[LightGBM] [Info] Number of positive: 982, number of negative: 30366\n",
      "[LightGBM] [Info] This is the GPU trainer!!\n",
      "[LightGBM] [Info] Total Bins 99484\n",
      "[LightGBM] [Info] Number of data points in the train set: 31348, number of used features: 586\n",
      "[LightGBM] [Info] Using GPU Device: Quadro RTX 4000, Vendor: NVIDIA Corporation\n",
      "[LightGBM] [Info] Compiling OpenCL Kernel with 256 bins...\n",
      "[LightGBM] [Info] GPU programs have been built\n",
      "[LightGBM] [Info] Size of histogram bin entry: 8\n",
      "[LightGBM] [Info] 217 dense feature groups (6.58 MB) transferred to GPU in 0.044643 secs. 1 sparse feature groups\n",
      "threshold: 0.14861333788440423\n",
      "AUC-ROC: 0.9422866784740529\n",
      "Accuracy: 0.8543\n",
      "PR_AUC: 0.9622414831760171\n",
      "Epoch 6/300\n"
     ]
    },
    {
     "name": "stderr",
     "output_type": "stream",
     "text": [
      "c:\\Users\\FH-Deg\\.conda\\envs\\tf_c_gpu\\lib\\site-packages\\lightgbm\\basic.py:1192: UserWarning: Converting data to scipy sparse matrix.\n",
      "  _log_warning('Converting data to scipy sparse matrix.')\n"
     ]
    },
    {
     "name": "stdout",
     "output_type": "stream",
     "text": [
      "[LightGBM] [Info] Number of positive: 982, number of negative: 30366\n",
      "[LightGBM] [Info] This is the GPU trainer!!\n",
      "[LightGBM] [Info] Total Bins 99484\n",
      "[LightGBM] [Info] Number of data points in the train set: 31348, number of used features: 586\n",
      "[LightGBM] [Info] Using GPU Device: Quadro RTX 4000, Vendor: NVIDIA Corporation\n",
      "[LightGBM] [Info] Compiling OpenCL Kernel with 256 bins...\n",
      "[LightGBM] [Info] GPU programs have been built\n",
      "[LightGBM] [Info] Size of histogram bin entry: 8\n",
      "[LightGBM] [Info] 217 dense feature groups (6.58 MB) transferred to GPU in 0.043825 secs. 1 sparse feature groups\n",
      "threshold: 0.14978237462532337\n",
      "AUC-ROC: 0.953880618010569\n",
      "Accuracy: 0.8586\n",
      "PR_AUC: 0.9689642955828048\n",
      "Epoch 7/300\n"
     ]
    },
    {
     "name": "stderr",
     "output_type": "stream",
     "text": [
      "c:\\Users\\FH-Deg\\.conda\\envs\\tf_c_gpu\\lib\\site-packages\\lightgbm\\basic.py:1192: UserWarning: Converting data to scipy sparse matrix.\n",
      "  _log_warning('Converting data to scipy sparse matrix.')\n"
     ]
    },
    {
     "name": "stdout",
     "output_type": "stream",
     "text": [
      "[LightGBM] [Info] Number of positive: 982, number of negative: 30366\n",
      "[LightGBM] [Info] This is the GPU trainer!!\n",
      "[LightGBM] [Info] Total Bins 99484\n",
      "[LightGBM] [Info] Number of data points in the train set: 31348, number of used features: 586\n",
      "[LightGBM] [Info] Using GPU Device: Quadro RTX 4000, Vendor: NVIDIA Corporation\n",
      "[LightGBM] [Info] Compiling OpenCL Kernel with 256 bins...\n",
      "[LightGBM] [Info] GPU programs have been built\n",
      "[LightGBM] [Info] Size of histogram bin entry: 8\n",
      "[LightGBM] [Info] 217 dense feature groups (6.58 MB) transferred to GPU in 0.051596 secs. 1 sparse feature groups\n",
      "threshold: 0.1510808430668399\n",
      "AUC-ROC: 0.9589205619598917\n",
      "Accuracy: 0.8606\n",
      "PR_AUC: 0.9719428042789551\n",
      "Updating target policy...\n",
      "Epoch 8/300\n"
     ]
    },
    {
     "name": "stderr",
     "output_type": "stream",
     "text": [
      "c:\\Users\\FH-Deg\\.conda\\envs\\tf_c_gpu\\lib\\site-packages\\lightgbm\\basic.py:1192: UserWarning: Converting data to scipy sparse matrix.\n",
      "  _log_warning('Converting data to scipy sparse matrix.')\n"
     ]
    },
    {
     "name": "stdout",
     "output_type": "stream",
     "text": [
      "[LightGBM] [Info] Number of positive: 982, number of negative: 30366\n",
      "[LightGBM] [Info] This is the GPU trainer!!\n",
      "[LightGBM] [Info] Total Bins 99484\n",
      "[LightGBM] [Info] Number of data points in the train set: 31348, number of used features: 586\n",
      "[LightGBM] [Info] Using GPU Device: Quadro RTX 4000, Vendor: NVIDIA Corporation\n",
      "[LightGBM] [Info] Compiling OpenCL Kernel with 256 bins...\n",
      "[LightGBM] [Info] GPU programs have been built\n",
      "[LightGBM] [Info] Size of histogram bin entry: 8\n",
      "[LightGBM] [Info] 217 dense feature groups (6.58 MB) transferred to GPU in 0.049878 secs. 1 sparse feature groups\n",
      "threshold: 0.1522359743530203\n",
      "AUC-ROC: 0.9612184252838741\n",
      "Accuracy: 0.8612\n",
      "PR_AUC: 0.973423598668167\n",
      "Epoch 9/300\n"
     ]
    },
    {
     "name": "stderr",
     "output_type": "stream",
     "text": [
      "c:\\Users\\FH-Deg\\.conda\\envs\\tf_c_gpu\\lib\\site-packages\\lightgbm\\basic.py:1192: UserWarning: Converting data to scipy sparse matrix.\n",
      "  _log_warning('Converting data to scipy sparse matrix.')\n"
     ]
    },
    {
     "name": "stdout",
     "output_type": "stream",
     "text": [
      "[LightGBM] [Info] Number of positive: 982, number of negative: 30366\n",
      "[LightGBM] [Info] This is the GPU trainer!!\n",
      "[LightGBM] [Info] Total Bins 99484\n",
      "[LightGBM] [Info] Number of data points in the train set: 31348, number of used features: 586\n",
      "[LightGBM] [Info] Using GPU Device: Quadro RTX 4000, Vendor: NVIDIA Corporation\n",
      "[LightGBM] [Info] Compiling OpenCL Kernel with 256 bins...\n",
      "[LightGBM] [Info] GPU programs have been built\n",
      "[LightGBM] [Info] Size of histogram bin entry: 8\n",
      "[LightGBM] [Info] 217 dense feature groups (6.58 MB) transferred to GPU in 0.046583 secs. 1 sparse feature groups\n",
      "threshold: 0.15330310142340992\n",
      "AUC-ROC: 0.9652930978001422\n",
      "Accuracy: 0.8614\n",
      "PR_AUC: 0.9758360729311057\n",
      "Epoch 10/300\n"
     ]
    },
    {
     "name": "stderr",
     "output_type": "stream",
     "text": [
      "c:\\Users\\FH-Deg\\.conda\\envs\\tf_c_gpu\\lib\\site-packages\\lightgbm\\basic.py:1192: UserWarning: Converting data to scipy sparse matrix.\n",
      "  _log_warning('Converting data to scipy sparse matrix.')\n"
     ]
    },
    {
     "name": "stdout",
     "output_type": "stream",
     "text": [
      "[LightGBM] [Info] Number of positive: 982, number of negative: 30366\n",
      "[LightGBM] [Info] This is the GPU trainer!!\n",
      "[LightGBM] [Info] Total Bins 99484\n",
      "[LightGBM] [Info] Number of data points in the train set: 31348, number of used features: 586\n",
      "[LightGBM] [Info] Using GPU Device: Quadro RTX 4000, Vendor: NVIDIA Corporation\n",
      "[LightGBM] [Info] Compiling OpenCL Kernel with 256 bins...\n",
      "[LightGBM] [Info] GPU programs have been built\n",
      "[LightGBM] [Info] Size of histogram bin entry: 8\n",
      "[LightGBM] [Info] 217 dense feature groups (6.58 MB) transferred to GPU in 0.051434 secs. 1 sparse feature groups\n",
      "threshold: 0.15416740334146298\n",
      "AUC-ROC: 0.9691039925385256\n",
      "Accuracy: 0.8622\n",
      "PR_AUC: 0.9779423542840633\n",
      "Updating target policy...\n",
      "Epoch 11/300\n"
     ]
    },
    {
     "name": "stderr",
     "output_type": "stream",
     "text": [
      "c:\\Users\\FH-Deg\\.conda\\envs\\tf_c_gpu\\lib\\site-packages\\lightgbm\\basic.py:1192: UserWarning: Converting data to scipy sparse matrix.\n",
      "  _log_warning('Converting data to scipy sparse matrix.')\n"
     ]
    },
    {
     "name": "stdout",
     "output_type": "stream",
     "text": [
      "[LightGBM] [Info] Number of positive: 982, number of negative: 30366\n",
      "[LightGBM] [Info] This is the GPU trainer!!\n",
      "[LightGBM] [Info] Total Bins 99484\n",
      "[LightGBM] [Info] Number of data points in the train set: 31348, number of used features: 586\n",
      "[LightGBM] [Info] Using GPU Device: Quadro RTX 4000, Vendor: NVIDIA Corporation\n",
      "[LightGBM] [Info] Compiling OpenCL Kernel with 256 bins...\n",
      "[LightGBM] [Info] GPU programs have been built\n",
      "[LightGBM] [Info] Size of histogram bin entry: 8\n",
      "[LightGBM] [Info] 217 dense feature groups (6.58 MB) transferred to GPU in 0.053899 secs. 1 sparse feature groups\n",
      "threshold: 0.15581352756775868\n",
      "AUC-ROC: 0.9724727104224908\n",
      "Accuracy: 0.8648\n",
      "PR_AUC: 0.9799908767053496\n",
      "Epoch 12/300\n"
     ]
    },
    {
     "name": "stderr",
     "output_type": "stream",
     "text": [
      "c:\\Users\\FH-Deg\\.conda\\envs\\tf_c_gpu\\lib\\site-packages\\lightgbm\\basic.py:1192: UserWarning: Converting data to scipy sparse matrix.\n",
      "  _log_warning('Converting data to scipy sparse matrix.')\n"
     ]
    },
    {
     "name": "stdout",
     "output_type": "stream",
     "text": [
      "[LightGBM] [Info] Number of positive: 982, number of negative: 30366\n",
      "[LightGBM] [Info] This is the GPU trainer!!\n",
      "[LightGBM] [Info] Total Bins 99484\n",
      "[LightGBM] [Info] Number of data points in the train set: 31348, number of used features: 586\n",
      "[LightGBM] [Info] Using GPU Device: Quadro RTX 4000, Vendor: NVIDIA Corporation\n",
      "[LightGBM] [Info] Compiling OpenCL Kernel with 256 bins...\n",
      "[LightGBM] [Info] GPU programs have been built\n",
      "[LightGBM] [Info] Size of histogram bin entry: 8\n",
      "[LightGBM] [Info] 217 dense feature groups (6.58 MB) transferred to GPU in 0.215699 secs. 1 sparse feature groups\n",
      "threshold: 0.15727634412607328\n",
      "AUC-ROC: 0.9739491938314168\n",
      "Accuracy: 0.8649\n",
      "PR_AUC: 0.980902698144566\n",
      "Epoch 13/300\n"
     ]
    },
    {
     "name": "stderr",
     "output_type": "stream",
     "text": [
      "c:\\Users\\FH-Deg\\.conda\\envs\\tf_c_gpu\\lib\\site-packages\\lightgbm\\basic.py:1192: UserWarning: Converting data to scipy sparse matrix.\n",
      "  _log_warning('Converting data to scipy sparse matrix.')\n"
     ]
    },
    {
     "name": "stdout",
     "output_type": "stream",
     "text": [
      "[LightGBM] [Info] Number of positive: 982, number of negative: 30366\n",
      "[LightGBM] [Info] This is the GPU trainer!!\n",
      "[LightGBM] [Info] Total Bins 99484\n",
      "[LightGBM] [Info] Number of data points in the train set: 31348, number of used features: 586\n",
      "[LightGBM] [Info] Using GPU Device: Quadro RTX 4000, Vendor: NVIDIA Corporation\n",
      "[LightGBM] [Info] Compiling OpenCL Kernel with 256 bins...\n",
      "[LightGBM] [Info] GPU programs have been built\n",
      "[LightGBM] [Info] Size of histogram bin entry: 8\n",
      "[LightGBM] [Info] 217 dense feature groups (6.58 MB) transferred to GPU in 0.121230 secs. 1 sparse feature groups\n",
      "threshold: 0.15858968439230792\n",
      "AUC-ROC: 0.975617519261419\n",
      "Accuracy: 0.8669\n",
      "PR_AUC: 0.9820391223974123\n",
      "Updating target policy...\n",
      "Epoch 14/300\n"
     ]
    },
    {
     "name": "stderr",
     "output_type": "stream",
     "text": [
      "c:\\Users\\FH-Deg\\.conda\\envs\\tf_c_gpu\\lib\\site-packages\\lightgbm\\basic.py:1192: UserWarning: Converting data to scipy sparse matrix.\n",
      "  _log_warning('Converting data to scipy sparse matrix.')\n"
     ]
    },
    {
     "name": "stdout",
     "output_type": "stream",
     "text": [
      "[LightGBM] [Info] Number of positive: 982, number of negative: 30366\n",
      "[LightGBM] [Info] This is the GPU trainer!!\n",
      "[LightGBM] [Info] Total Bins 99484\n",
      "[LightGBM] [Info] Number of data points in the train set: 31348, number of used features: 586\n",
      "[LightGBM] [Info] Using GPU Device: Quadro RTX 4000, Vendor: NVIDIA Corporation\n",
      "[LightGBM] [Info] Compiling OpenCL Kernel with 256 bins...\n",
      "[LightGBM] [Info] GPU programs have been built\n",
      "[LightGBM] [Info] Size of histogram bin entry: 8\n",
      "[LightGBM] [Info] 217 dense feature groups (6.58 MB) transferred to GPU in 0.053787 secs. 1 sparse feature groups\n",
      "threshold: 0.16018290459096335\n",
      "AUC-ROC: 0.9768451281568715\n",
      "Accuracy: 0.8663\n",
      "PR_AUC: 0.9828979713676879\n",
      "Epoch 15/300\n"
     ]
    },
    {
     "name": "stderr",
     "output_type": "stream",
     "text": [
      "c:\\Users\\FH-Deg\\.conda\\envs\\tf_c_gpu\\lib\\site-packages\\lightgbm\\basic.py:1192: UserWarning: Converting data to scipy sparse matrix.\n",
      "  _log_warning('Converting data to scipy sparse matrix.')\n"
     ]
    },
    {
     "name": "stdout",
     "output_type": "stream",
     "text": [
      "[LightGBM] [Info] Number of positive: 982, number of negative: 30366\n",
      "[LightGBM] [Info] This is the GPU trainer!!\n",
      "[LightGBM] [Info] Total Bins 99484\n",
      "[LightGBM] [Info] Number of data points in the train set: 31348, number of used features: 586\n",
      "[LightGBM] [Info] Using GPU Device: Quadro RTX 4000, Vendor: NVIDIA Corporation\n",
      "[LightGBM] [Info] Compiling OpenCL Kernel with 256 bins...\n",
      "[LightGBM] [Info] GPU programs have been built\n",
      "[LightGBM] [Info] Size of histogram bin entry: 8\n",
      "[LightGBM] [Info] 217 dense feature groups (6.58 MB) transferred to GPU in 0.068608 secs. 1 sparse feature groups\n",
      "threshold: 0.161584804847032\n",
      "AUC-ROC: 0.9778954382167869\n",
      "Accuracy: 0.8672\n",
      "PR_AUC: 0.9835801170493754\n",
      "Epoch 16/300\n"
     ]
    },
    {
     "name": "stderr",
     "output_type": "stream",
     "text": [
      "c:\\Users\\FH-Deg\\.conda\\envs\\tf_c_gpu\\lib\\site-packages\\lightgbm\\basic.py:1192: UserWarning: Converting data to scipy sparse matrix.\n",
      "  _log_warning('Converting data to scipy sparse matrix.')\n"
     ]
    },
    {
     "name": "stdout",
     "output_type": "stream",
     "text": [
      "[LightGBM] [Info] Number of positive: 982, number of negative: 30366\n",
      "[LightGBM] [Info] This is the GPU trainer!!\n",
      "[LightGBM] [Info] Total Bins 99484\n",
      "[LightGBM] [Info] Number of data points in the train set: 31348, number of used features: 586\n",
      "[LightGBM] [Info] Using GPU Device: Quadro RTX 4000, Vendor: NVIDIA Corporation\n",
      "[LightGBM] [Info] Compiling OpenCL Kernel with 256 bins...\n",
      "[LightGBM] [Info] GPU programs have been built\n",
      "[LightGBM] [Info] Size of histogram bin entry: 8\n",
      "[LightGBM] [Info] 217 dense feature groups (6.58 MB) transferred to GPU in 0.055025 secs. 1 sparse feature groups\n",
      "threshold: 0.1629930991510035\n",
      "AUC-ROC: 0.978975194726653\n",
      "Accuracy: 0.8667\n",
      "PR_AUC: 0.984284717153149\n",
      "Updating target policy...\n",
      "Epoch 17/300\n"
     ]
    },
    {
     "name": "stderr",
     "output_type": "stream",
     "text": [
      "c:\\Users\\FH-Deg\\.conda\\envs\\tf_c_gpu\\lib\\site-packages\\lightgbm\\basic.py:1192: UserWarning: Converting data to scipy sparse matrix.\n",
      "  _log_warning('Converting data to scipy sparse matrix.')\n"
     ]
    },
    {
     "name": "stdout",
     "output_type": "stream",
     "text": [
      "[LightGBM] [Info] Number of positive: 982, number of negative: 30366\n",
      "[LightGBM] [Info] This is the GPU trainer!!\n",
      "[LightGBM] [Info] Total Bins 99484\n",
      "[LightGBM] [Info] Number of data points in the train set: 31348, number of used features: 586\n",
      "[LightGBM] [Info] Using GPU Device: Quadro RTX 4000, Vendor: NVIDIA Corporation\n",
      "[LightGBM] [Info] Compiling OpenCL Kernel with 256 bins...\n",
      "[LightGBM] [Info] GPU programs have been built\n",
      "[LightGBM] [Info] Size of histogram bin entry: 8\n",
      "[LightGBM] [Info] 217 dense feature groups (6.58 MB) transferred to GPU in 0.065034 secs. 1 sparse feature groups\n",
      "threshold: 0.16415568536933195\n",
      "AUC-ROC: 0.9801868601298429\n",
      "Accuracy: 0.8683\n",
      "PR_AUC: 0.9850023281712841\n",
      "Epoch 18/300\n"
     ]
    },
    {
     "name": "stderr",
     "output_type": "stream",
     "text": [
      "c:\\Users\\FH-Deg\\.conda\\envs\\tf_c_gpu\\lib\\site-packages\\lightgbm\\basic.py:1192: UserWarning: Converting data to scipy sparse matrix.\n",
      "  _log_warning('Converting data to scipy sparse matrix.')\n"
     ]
    },
    {
     "name": "stdout",
     "output_type": "stream",
     "text": [
      "[LightGBM] [Info] Number of positive: 982, number of negative: 30366\n",
      "[LightGBM] [Info] This is the GPU trainer!!\n",
      "[LightGBM] [Info] Total Bins 99484\n",
      "[LightGBM] [Info] Number of data points in the train set: 31348, number of used features: 586\n",
      "[LightGBM] [Info] Using GPU Device: Quadro RTX 4000, Vendor: NVIDIA Corporation\n",
      "[LightGBM] [Info] Compiling OpenCL Kernel with 256 bins...\n",
      "[LightGBM] [Info] GPU programs have been built\n",
      "[LightGBM] [Info] Size of histogram bin entry: 8\n",
      "[LightGBM] [Info] 217 dense feature groups (6.58 MB) transferred to GPU in 0.057460 secs. 1 sparse feature groups\n",
      "threshold: 0.16563924968481092\n",
      "AUC-ROC: 0.9816002497186984\n",
      "Accuracy: 0.87\n",
      "PR_AUC: 0.9858702717231294\n",
      "Epoch 19/300\n"
     ]
    },
    {
     "name": "stderr",
     "output_type": "stream",
     "text": [
      "c:\\Users\\FH-Deg\\.conda\\envs\\tf_c_gpu\\lib\\site-packages\\lightgbm\\basic.py:1192: UserWarning: Converting data to scipy sparse matrix.\n",
      "  _log_warning('Converting data to scipy sparse matrix.')\n"
     ]
    },
    {
     "name": "stdout",
     "output_type": "stream",
     "text": [
      "[LightGBM] [Info] Number of positive: 982, number of negative: 30366\n",
      "[LightGBM] [Info] This is the GPU trainer!!\n",
      "[LightGBM] [Info] Total Bins 99484\n",
      "[LightGBM] [Info] Number of data points in the train set: 31348, number of used features: 586\n",
      "[LightGBM] [Info] Using GPU Device: Quadro RTX 4000, Vendor: NVIDIA Corporation\n",
      "[LightGBM] [Info] Compiling OpenCL Kernel with 256 bins...\n",
      "[LightGBM] [Info] GPU programs have been built\n",
      "[LightGBM] [Info] Size of histogram bin entry: 8\n",
      "[LightGBM] [Info] 217 dense feature groups (6.58 MB) transferred to GPU in 0.067780 secs. 1 sparse feature groups\n",
      "threshold: 0.16670573894553364\n",
      "AUC-ROC: 0.9825933072380174\n",
      "Accuracy: 0.8703\n",
      "PR_AUC: 0.9864889391779863\n",
      "Updating target policy...\n",
      "Epoch 20/300\n"
     ]
    },
    {
     "name": "stderr",
     "output_type": "stream",
     "text": [
      "c:\\Users\\FH-Deg\\.conda\\envs\\tf_c_gpu\\lib\\site-packages\\lightgbm\\basic.py:1192: UserWarning: Converting data to scipy sparse matrix.\n",
      "  _log_warning('Converting data to scipy sparse matrix.')\n"
     ]
    },
    {
     "name": "stdout",
     "output_type": "stream",
     "text": [
      "[LightGBM] [Info] Number of positive: 982, number of negative: 30366\n",
      "[LightGBM] [Info] This is the GPU trainer!!\n",
      "[LightGBM] [Info] Total Bins 99484\n",
      "[LightGBM] [Info] Number of data points in the train set: 31348, number of used features: 586\n",
      "[LightGBM] [Info] Using GPU Device: Quadro RTX 4000, Vendor: NVIDIA Corporation\n",
      "[LightGBM] [Info] Compiling OpenCL Kernel with 256 bins...\n",
      "[LightGBM] [Info] GPU programs have been built\n",
      "[LightGBM] [Info] Size of histogram bin entry: 8\n",
      "[LightGBM] [Info] 217 dense feature groups (6.58 MB) transferred to GPU in 0.109170 secs. 1 sparse feature groups\n",
      "threshold: 0.16784687010556598\n",
      "AUC-ROC: 0.9831921584103782\n",
      "Accuracy: 0.871\n",
      "PR_AUC: 0.9868631432167102\n",
      "Epoch 21/300\n"
     ]
    },
    {
     "name": "stderr",
     "output_type": "stream",
     "text": [
      "c:\\Users\\FH-Deg\\.conda\\envs\\tf_c_gpu\\lib\\site-packages\\lightgbm\\basic.py:1192: UserWarning: Converting data to scipy sparse matrix.\n",
      "  _log_warning('Converting data to scipy sparse matrix.')\n"
     ]
    },
    {
     "name": "stdout",
     "output_type": "stream",
     "text": [
      "[LightGBM] [Info] Number of positive: 982, number of negative: 30366\n",
      "[LightGBM] [Info] This is the GPU trainer!!\n",
      "[LightGBM] [Info] Total Bins 99484\n",
      "[LightGBM] [Info] Number of data points in the train set: 31348, number of used features: 586\n",
      "[LightGBM] [Info] Using GPU Device: Quadro RTX 4000, Vendor: NVIDIA Corporation\n",
      "[LightGBM] [Info] Compiling OpenCL Kernel with 256 bins...\n",
      "[LightGBM] [Info] GPU programs have been built\n",
      "[LightGBM] [Info] Size of histogram bin entry: 8\n",
      "[LightGBM] [Info] 217 dense feature groups (6.58 MB) transferred to GPU in 0.059745 secs. 1 sparse feature groups\n",
      "threshold: 0.16851518018809747\n",
      "AUC-ROC: 0.9835874649983332\n",
      "Accuracy: 0.8713\n",
      "PR_AUC: 0.9870879458780734\n",
      "Epoch 22/300\n"
     ]
    },
    {
     "name": "stderr",
     "output_type": "stream",
     "text": [
      "c:\\Users\\FH-Deg\\.conda\\envs\\tf_c_gpu\\lib\\site-packages\\lightgbm\\basic.py:1192: UserWarning: Converting data to scipy sparse matrix.\n",
      "  _log_warning('Converting data to scipy sparse matrix.')\n"
     ]
    },
    {
     "name": "stdout",
     "output_type": "stream",
     "text": [
      "[LightGBM] [Info] Number of positive: 982, number of negative: 30366\n",
      "[LightGBM] [Info] This is the GPU trainer!!\n",
      "[LightGBM] [Info] Total Bins 99484\n",
      "[LightGBM] [Info] Number of data points in the train set: 31348, number of used features: 586\n",
      "[LightGBM] [Info] Using GPU Device: Quadro RTX 4000, Vendor: NVIDIA Corporation\n",
      "[LightGBM] [Info] Compiling OpenCL Kernel with 256 bins...\n",
      "[LightGBM] [Info] GPU programs have been built\n",
      "[LightGBM] [Info] Size of histogram bin entry: 8\n",
      "[LightGBM] [Info] 217 dense feature groups (6.58 MB) transferred to GPU in 0.076425 secs. 1 sparse feature groups\n",
      "threshold: 0.16957014611814905\n",
      "AUC-ROC: 0.9838190157172026\n",
      "Accuracy: 0.8713\n",
      "PR_AUC: 0.98725933738559\n",
      "Updating target policy...\n",
      "Epoch 23/300\n"
     ]
    },
    {
     "name": "stderr",
     "output_type": "stream",
     "text": [
      "c:\\Users\\FH-Deg\\.conda\\envs\\tf_c_gpu\\lib\\site-packages\\lightgbm\\basic.py:1192: UserWarning: Converting data to scipy sparse matrix.\n",
      "  _log_warning('Converting data to scipy sparse matrix.')\n"
     ]
    },
    {
     "name": "stdout",
     "output_type": "stream",
     "text": [
      "[LightGBM] [Info] Number of positive: 982, number of negative: 30366\n",
      "[LightGBM] [Info] This is the GPU trainer!!\n",
      "[LightGBM] [Info] Total Bins 99484\n",
      "[LightGBM] [Info] Number of data points in the train set: 31348, number of used features: 586\n",
      "[LightGBM] [Info] Using GPU Device: Quadro RTX 4000, Vendor: NVIDIA Corporation\n",
      "[LightGBM] [Info] Compiling OpenCL Kernel with 256 bins...\n",
      "[LightGBM] [Info] GPU programs have been built\n",
      "[LightGBM] [Info] Size of histogram bin entry: 8\n",
      "[LightGBM] [Info] 217 dense feature groups (6.58 MB) transferred to GPU in 0.058776 secs. 1 sparse feature groups\n",
      "threshold: 0.17062707608417793\n",
      "AUC-ROC: 0.9842254247370346\n",
      "Accuracy: 0.8718\n",
      "PR_AUC: 0.9875530132751853\n",
      "Epoch 24/300\n"
     ]
    },
    {
     "name": "stderr",
     "output_type": "stream",
     "text": [
      "c:\\Users\\FH-Deg\\.conda\\envs\\tf_c_gpu\\lib\\site-packages\\lightgbm\\basic.py:1192: UserWarning: Converting data to scipy sparse matrix.\n",
      "  _log_warning('Converting data to scipy sparse matrix.')\n"
     ]
    },
    {
     "name": "stdout",
     "output_type": "stream",
     "text": [
      "[LightGBM] [Info] Number of positive: 982, number of negative: 30366\n",
      "[LightGBM] [Info] This is the GPU trainer!!\n",
      "[LightGBM] [Info] Total Bins 99484\n",
      "[LightGBM] [Info] Number of data points in the train set: 31348, number of used features: 586\n",
      "[LightGBM] [Info] Using GPU Device: Quadro RTX 4000, Vendor: NVIDIA Corporation\n",
      "[LightGBM] [Info] Compiling OpenCL Kernel with 256 bins...\n",
      "[LightGBM] [Info] GPU programs have been built\n",
      "[LightGBM] [Info] Size of histogram bin entry: 8\n",
      "[LightGBM] [Info] 217 dense feature groups (6.58 MB) transferred to GPU in 0.076041 secs. 1 sparse feature groups\n",
      "threshold: 0.17235439083209056\n",
      "AUC-ROC: 0.9843796585204023\n",
      "Accuracy: 0.8718\n",
      "PR_AUC: 0.9876898053964549\n",
      "Epoch 25/300\n"
     ]
    },
    {
     "name": "stderr",
     "output_type": "stream",
     "text": [
      "c:\\Users\\FH-Deg\\.conda\\envs\\tf_c_gpu\\lib\\site-packages\\lightgbm\\basic.py:1192: UserWarning: Converting data to scipy sparse matrix.\n",
      "  _log_warning('Converting data to scipy sparse matrix.')\n"
     ]
    },
    {
     "name": "stdout",
     "output_type": "stream",
     "text": [
      "[LightGBM] [Info] Number of positive: 982, number of negative: 30366\n",
      "[LightGBM] [Info] This is the GPU trainer!!\n",
      "[LightGBM] [Info] Total Bins 99484\n",
      "[LightGBM] [Info] Number of data points in the train set: 31348, number of used features: 586\n",
      "[LightGBM] [Info] Using GPU Device: Quadro RTX 4000, Vendor: NVIDIA Corporation\n",
      "[LightGBM] [Info] Compiling OpenCL Kernel with 256 bins...\n",
      "[LightGBM] [Info] GPU programs have been built\n",
      "[LightGBM] [Info] Size of histogram bin entry: 8\n",
      "[LightGBM] [Info] 217 dense feature groups (6.58 MB) transferred to GPU in 0.058475 secs. 1 sparse feature groups\n",
      "threshold: 0.17357308521221368\n",
      "AUC-ROC: 0.9853450499797476\n",
      "Accuracy: 0.8711\n",
      "PR_AUC: 0.9882249843243225\n",
      "Updating target policy...\n",
      "Epoch 26/300\n"
     ]
    },
    {
     "name": "stderr",
     "output_type": "stream",
     "text": [
      "c:\\Users\\FH-Deg\\.conda\\envs\\tf_c_gpu\\lib\\site-packages\\lightgbm\\basic.py:1192: UserWarning: Converting data to scipy sparse matrix.\n",
      "  _log_warning('Converting data to scipy sparse matrix.')\n"
     ]
    },
    {
     "name": "stdout",
     "output_type": "stream",
     "text": [
      "[LightGBM] [Info] Number of positive: 982, number of negative: 30366\n",
      "[LightGBM] [Info] This is the GPU trainer!!\n",
      "[LightGBM] [Info] Total Bins 99484\n",
      "[LightGBM] [Info] Number of data points in the train set: 31348, number of used features: 586\n",
      "[LightGBM] [Info] Using GPU Device: Quadro RTX 4000, Vendor: NVIDIA Corporation\n",
      "[LightGBM] [Info] Compiling OpenCL Kernel with 256 bins...\n",
      "[LightGBM] [Info] GPU programs have been built\n",
      "[LightGBM] [Info] Size of histogram bin entry: 8\n",
      "[LightGBM] [Info] 217 dense feature groups (6.58 MB) transferred to GPU in 0.055160 secs. 1 sparse feature groups\n",
      "threshold: 0.17616496612480903\n",
      "AUC-ROC: 0.9857877069393279\n",
      "Accuracy: 0.8716\n",
      "PR_AUC: 0.9885069815647229\n",
      "Epoch 27/300\n"
     ]
    },
    {
     "name": "stderr",
     "output_type": "stream",
     "text": [
      "c:\\Users\\FH-Deg\\.conda\\envs\\tf_c_gpu\\lib\\site-packages\\lightgbm\\basic.py:1192: UserWarning: Converting data to scipy sparse matrix.\n",
      "  _log_warning('Converting data to scipy sparse matrix.')\n"
     ]
    },
    {
     "name": "stdout",
     "output_type": "stream",
     "text": [
      "[LightGBM] [Info] Number of positive: 982, number of negative: 30366\n",
      "[LightGBM] [Info] This is the GPU trainer!!\n",
      "[LightGBM] [Info] Total Bins 99484\n",
      "[LightGBM] [Info] Number of data points in the train set: 31348, number of used features: 586\n",
      "[LightGBM] [Info] Using GPU Device: Quadro RTX 4000, Vendor: NVIDIA Corporation\n",
      "[LightGBM] [Info] Compiling OpenCL Kernel with 256 bins...\n",
      "[LightGBM] [Info] GPU programs have been built\n",
      "[LightGBM] [Info] Size of histogram bin entry: 8\n",
      "[LightGBM] [Info] 217 dense feature groups (6.58 MB) transferred to GPU in 0.065522 secs. 1 sparse feature groups\n",
      "threshold: 0.1769341565911126\n",
      "AUC-ROC: 0.9861628491104691\n",
      "Accuracy: 0.8713\n",
      "PR_AUC: 0.9887573815645586\n",
      "Epoch 28/300\n"
     ]
    },
    {
     "name": "stderr",
     "output_type": "stream",
     "text": [
      "c:\\Users\\FH-Deg\\.conda\\envs\\tf_c_gpu\\lib\\site-packages\\lightgbm\\basic.py:1192: UserWarning: Converting data to scipy sparse matrix.\n",
      "  _log_warning('Converting data to scipy sparse matrix.')\n"
     ]
    },
    {
     "name": "stdout",
     "output_type": "stream",
     "text": [
      "[LightGBM] [Info] Number of positive: 982, number of negative: 30366\n",
      "[LightGBM] [Info] This is the GPU trainer!!\n",
      "[LightGBM] [Info] Total Bins 99484\n",
      "[LightGBM] [Info] Number of data points in the train set: 31348, number of used features: 586\n",
      "[LightGBM] [Info] Using GPU Device: Quadro RTX 4000, Vendor: NVIDIA Corporation\n",
      "[LightGBM] [Info] Compiling OpenCL Kernel with 256 bins...\n",
      "[LightGBM] [Info] GPU programs have been built\n",
      "[LightGBM] [Info] Size of histogram bin entry: 8\n",
      "[LightGBM] [Info] 217 dense feature groups (6.58 MB) transferred to GPU in 0.056057 secs. 1 sparse feature groups\n",
      "threshold: 0.17809126642186404\n",
      "AUC-ROC: 0.9862711128245532\n",
      "Accuracy: 0.8712\n",
      "PR_AUC: 0.988813370811233\n",
      "Updating target policy...\n",
      "Epoch 29/300\n"
     ]
    },
    {
     "name": "stderr",
     "output_type": "stream",
     "text": [
      "c:\\Users\\FH-Deg\\.conda\\envs\\tf_c_gpu\\lib\\site-packages\\lightgbm\\basic.py:1192: UserWarning: Converting data to scipy sparse matrix.\n",
      "  _log_warning('Converting data to scipy sparse matrix.')\n"
     ]
    },
    {
     "name": "stdout",
     "output_type": "stream",
     "text": [
      "[LightGBM] [Info] Number of positive: 982, number of negative: 30366\n",
      "[LightGBM] [Info] This is the GPU trainer!!\n",
      "[LightGBM] [Info] Total Bins 99484\n",
      "[LightGBM] [Info] Number of data points in the train set: 31348, number of used features: 586\n",
      "[LightGBM] [Info] Using GPU Device: Quadro RTX 4000, Vendor: NVIDIA Corporation\n",
      "[LightGBM] [Info] Compiling OpenCL Kernel with 256 bins...\n",
      "[LightGBM] [Info] GPU programs have been built\n",
      "[LightGBM] [Info] Size of histogram bin entry: 8\n",
      "[LightGBM] [Info] 217 dense feature groups (6.58 MB) transferred to GPU in 0.062718 secs. 1 sparse feature groups\n",
      "threshold: 0.17922470286307093\n",
      "AUC-ROC: 0.9866124475905204\n",
      "Accuracy: 0.871\n",
      "PR_AUC: 0.9890303063008113\n",
      "Epoch 30/300\n"
     ]
    },
    {
     "name": "stderr",
     "output_type": "stream",
     "text": [
      "c:\\Users\\FH-Deg\\.conda\\envs\\tf_c_gpu\\lib\\site-packages\\lightgbm\\basic.py:1192: UserWarning: Converting data to scipy sparse matrix.\n",
      "  _log_warning('Converting data to scipy sparse matrix.')\n"
     ]
    },
    {
     "name": "stdout",
     "output_type": "stream",
     "text": [
      "[LightGBM] [Info] Number of positive: 982, number of negative: 30366\n",
      "[LightGBM] [Info] This is the GPU trainer!!\n",
      "[LightGBM] [Info] Total Bins 99484\n",
      "[LightGBM] [Info] Number of data points in the train set: 31348, number of used features: 586\n",
      "[LightGBM] [Info] Using GPU Device: Quadro RTX 4000, Vendor: NVIDIA Corporation\n",
      "[LightGBM] [Info] Compiling OpenCL Kernel with 256 bins...\n",
      "[LightGBM] [Info] GPU programs have been built\n",
      "[LightGBM] [Info] Size of histogram bin entry: 8\n",
      "[LightGBM] [Info] 217 dense feature groups (6.58 MB) transferred to GPU in 0.053809 secs. 1 sparse feature groups\n",
      "threshold: 0.18040860293796251\n",
      "AUC-ROC: 0.9870261782140761\n",
      "Accuracy: 0.8697\n",
      "PR_AUC: 0.9893114340580903\n",
      "Epoch 31/300\n"
     ]
    },
    {
     "name": "stderr",
     "output_type": "stream",
     "text": [
      "c:\\Users\\FH-Deg\\.conda\\envs\\tf_c_gpu\\lib\\site-packages\\lightgbm\\basic.py:1192: UserWarning: Converting data to scipy sparse matrix.\n",
      "  _log_warning('Converting data to scipy sparse matrix.')\n"
     ]
    },
    {
     "name": "stdout",
     "output_type": "stream",
     "text": [
      "[LightGBM] [Info] Number of positive: 982, number of negative: 30366\n",
      "[LightGBM] [Info] This is the GPU trainer!!\n",
      "[LightGBM] [Info] Total Bins 99484\n",
      "[LightGBM] [Info] Number of data points in the train set: 31348, number of used features: 586\n",
      "[LightGBM] [Info] Using GPU Device: Quadro RTX 4000, Vendor: NVIDIA Corporation\n",
      "[LightGBM] [Info] Compiling OpenCL Kernel with 256 bins...\n",
      "[LightGBM] [Info] GPU programs have been built\n",
      "[LightGBM] [Info] Size of histogram bin entry: 8\n",
      "[LightGBM] [Info] 217 dense feature groups (6.58 MB) transferred to GPU in 0.065385 secs. 1 sparse feature groups\n",
      "threshold: 0.18663656241380466\n",
      "AUC-ROC: 0.9871536461346493\n",
      "Accuracy: 0.8648\n",
      "PR_AUC: 0.9894211419709046\n",
      "Updating target policy...\n",
      "Epoch 32/300\n"
     ]
    },
    {
     "name": "stderr",
     "output_type": "stream",
     "text": [
      "c:\\Users\\FH-Deg\\.conda\\envs\\tf_c_gpu\\lib\\site-packages\\lightgbm\\basic.py:1192: UserWarning: Converting data to scipy sparse matrix.\n",
      "  _log_warning('Converting data to scipy sparse matrix.')\n"
     ]
    },
    {
     "name": "stdout",
     "output_type": "stream",
     "text": [
      "[LightGBM] [Info] Number of positive: 982, number of negative: 30366\n",
      "[LightGBM] [Info] This is the GPU trainer!!\n",
      "[LightGBM] [Info] Total Bins 99484\n",
      "[LightGBM] [Info] Number of data points in the train set: 31348, number of used features: 586\n",
      "[LightGBM] [Info] Using GPU Device: Quadro RTX 4000, Vendor: NVIDIA Corporation\n",
      "[LightGBM] [Info] Compiling OpenCL Kernel with 256 bins...\n",
      "[LightGBM] [Info] GPU programs have been built\n",
      "[LightGBM] [Info] Size of histogram bin entry: 8\n",
      "[LightGBM] [Info] 217 dense feature groups (6.58 MB) transferred to GPU in 0.064765 secs. 1 sparse feature groups\n",
      "threshold: 0.1883410538123817\n",
      "AUC-ROC: 0.9876093659555188\n",
      "Accuracy: 0.8645\n",
      "PR_AUC: 0.9897501276704177\n",
      "Epoch 33/300\n"
     ]
    },
    {
     "name": "stderr",
     "output_type": "stream",
     "text": [
      "c:\\Users\\FH-Deg\\.conda\\envs\\tf_c_gpu\\lib\\site-packages\\lightgbm\\basic.py:1192: UserWarning: Converting data to scipy sparse matrix.\n",
      "  _log_warning('Converting data to scipy sparse matrix.')\n"
     ]
    },
    {
     "name": "stdout",
     "output_type": "stream",
     "text": [
      "[LightGBM] [Info] Number of positive: 982, number of negative: 30366\n",
      "[LightGBM] [Info] This is the GPU trainer!!\n",
      "[LightGBM] [Info] Total Bins 99484\n",
      "[LightGBM] [Info] Number of data points in the train set: 31348, number of used features: 586\n",
      "[LightGBM] [Info] Using GPU Device: Quadro RTX 4000, Vendor: NVIDIA Corporation\n",
      "[LightGBM] [Info] Compiling OpenCL Kernel with 256 bins...\n",
      "[LightGBM] [Info] GPU programs have been built\n",
      "[LightGBM] [Info] Size of histogram bin entry: 8\n",
      "[LightGBM] [Info] 217 dense feature groups (6.58 MB) transferred to GPU in 0.055915 secs. 1 sparse feature groups\n",
      "threshold: 0.19000946068388253\n",
      "AUC-ROC: 0.987942038824184\n",
      "Accuracy: 0.864\n",
      "PR_AUC: 0.9900012143961021\n",
      "Epoch 34/300\n"
     ]
    },
    {
     "name": "stderr",
     "output_type": "stream",
     "text": [
      "c:\\Users\\FH-Deg\\.conda\\envs\\tf_c_gpu\\lib\\site-packages\\lightgbm\\basic.py:1192: UserWarning: Converting data to scipy sparse matrix.\n",
      "  _log_warning('Converting data to scipy sparse matrix.')\n"
     ]
    },
    {
     "name": "stdout",
     "output_type": "stream",
     "text": [
      "[LightGBM] [Info] Number of positive: 982, number of negative: 30366\n",
      "[LightGBM] [Info] This is the GPU trainer!!\n",
      "[LightGBM] [Info] Total Bins 99484\n",
      "[LightGBM] [Info] Number of data points in the train set: 31348, number of used features: 586\n",
      "[LightGBM] [Info] Using GPU Device: Quadro RTX 4000, Vendor: NVIDIA Corporation\n",
      "[LightGBM] [Info] Compiling OpenCL Kernel with 256 bins...\n",
      "[LightGBM] [Info] GPU programs have been built\n",
      "[LightGBM] [Info] Size of histogram bin entry: 8\n",
      "[LightGBM] [Info] 217 dense feature groups (6.58 MB) transferred to GPU in 0.058733 secs. 1 sparse feature groups\n",
      "threshold: 0.1886174634823049\n",
      "AUC-ROC: 0.9883086791330773\n",
      "Accuracy: 0.865\n",
      "PR_AUC: 0.9902446606405508\n",
      "Updating target policy...\n",
      "Epoch 35/300\n"
     ]
    },
    {
     "name": "stderr",
     "output_type": "stream",
     "text": [
      "c:\\Users\\FH-Deg\\.conda\\envs\\tf_c_gpu\\lib\\site-packages\\lightgbm\\basic.py:1192: UserWarning: Converting data to scipy sparse matrix.\n",
      "  _log_warning('Converting data to scipy sparse matrix.')\n"
     ]
    },
    {
     "name": "stdout",
     "output_type": "stream",
     "text": [
      "[LightGBM] [Info] Number of positive: 982, number of negative: 30366\n",
      "[LightGBM] [Info] This is the GPU trainer!!\n",
      "[LightGBM] [Info] Total Bins 99484\n",
      "[LightGBM] [Info] Number of data points in the train set: 31348, number of used features: 586\n",
      "[LightGBM] [Info] Using GPU Device: Quadro RTX 4000, Vendor: NVIDIA Corporation\n",
      "[LightGBM] [Info] Compiling OpenCL Kernel with 256 bins...\n",
      "[LightGBM] [Info] GPU programs have been built\n",
      "[LightGBM] [Info] Size of histogram bin entry: 8\n",
      "[LightGBM] [Info] 217 dense feature groups (6.58 MB) transferred to GPU in 0.064172 secs. 1 sparse feature groups\n",
      "threshold: 0.18798708785418247\n",
      "AUC-ROC: 0.9888170304823569\n",
      "Accuracy: 0.8666\n",
      "PR_AUC: 0.9905838515537936\n",
      "Epoch 36/300\n"
     ]
    },
    {
     "name": "stderr",
     "output_type": "stream",
     "text": [
      "c:\\Users\\FH-Deg\\.conda\\envs\\tf_c_gpu\\lib\\site-packages\\lightgbm\\basic.py:1192: UserWarning: Converting data to scipy sparse matrix.\n",
      "  _log_warning('Converting data to scipy sparse matrix.')\n"
     ]
    },
    {
     "name": "stdout",
     "output_type": "stream",
     "text": [
      "[LightGBM] [Info] Number of positive: 982, number of negative: 30366\n",
      "[LightGBM] [Info] This is the GPU trainer!!\n",
      "[LightGBM] [Info] Total Bins 99484\n",
      "[LightGBM] [Info] Number of data points in the train set: 31348, number of used features: 586\n",
      "[LightGBM] [Info] Using GPU Device: Quadro RTX 4000, Vendor: NVIDIA Corporation\n",
      "[LightGBM] [Info] Compiling OpenCL Kernel with 256 bins...\n",
      "[LightGBM] [Info] GPU programs have been built\n",
      "[LightGBM] [Info] Size of histogram bin entry: 8\n",
      "[LightGBM] [Info] 217 dense feature groups (6.58 MB) transferred to GPU in 0.095172 secs. 1 sparse feature groups\n",
      "threshold: 0.18859019217675843\n",
      "AUC-ROC: 0.9890501615473855\n",
      "Accuracy: 0.8669\n",
      "PR_AUC: 0.9907543349868451\n",
      "Epoch 37/300\n"
     ]
    },
    {
     "name": "stderr",
     "output_type": "stream",
     "text": [
      "c:\\Users\\FH-Deg\\.conda\\envs\\tf_c_gpu\\lib\\site-packages\\lightgbm\\basic.py:1192: UserWarning: Converting data to scipy sparse matrix.\n",
      "  _log_warning('Converting data to scipy sparse matrix.')\n"
     ]
    },
    {
     "name": "stdout",
     "output_type": "stream",
     "text": [
      "[LightGBM] [Info] Number of positive: 982, number of negative: 30366\n",
      "[LightGBM] [Info] This is the GPU trainer!!\n",
      "[LightGBM] [Info] Total Bins 99484\n",
      "[LightGBM] [Info] Number of data points in the train set: 31348, number of used features: 586\n",
      "[LightGBM] [Info] Using GPU Device: Quadro RTX 4000, Vendor: NVIDIA Corporation\n",
      "[LightGBM] [Info] Compiling OpenCL Kernel with 256 bins...\n",
      "[LightGBM] [Info] GPU programs have been built\n",
      "[LightGBM] [Info] Size of histogram bin entry: 8\n",
      "[LightGBM] [Info] 217 dense feature groups (6.58 MB) transferred to GPU in 0.129516 secs. 1 sparse feature groups\n",
      "threshold: 0.18851267532068852\n",
      "AUC-ROC: 0.9892634882744715\n",
      "Accuracy: 0.8678\n",
      "PR_AUC: 0.990928709441105\n",
      "Updating target policy...\n",
      "Epoch 38/300\n"
     ]
    },
    {
     "name": "stderr",
     "output_type": "stream",
     "text": [
      "c:\\Users\\FH-Deg\\.conda\\envs\\tf_c_gpu\\lib\\site-packages\\lightgbm\\basic.py:1192: UserWarning: Converting data to scipy sparse matrix.\n",
      "  _log_warning('Converting data to scipy sparse matrix.')\n"
     ]
    },
    {
     "name": "stdout",
     "output_type": "stream",
     "text": [
      "[LightGBM] [Info] Number of positive: 982, number of negative: 30366\n",
      "[LightGBM] [Info] This is the GPU trainer!!\n",
      "[LightGBM] [Info] Total Bins 99484\n",
      "[LightGBM] [Info] Number of data points in the train set: 31348, number of used features: 586\n",
      "[LightGBM] [Info] Using GPU Device: Quadro RTX 4000, Vendor: NVIDIA Corporation\n",
      "[LightGBM] [Info] Compiling OpenCL Kernel with 256 bins...\n",
      "[LightGBM] [Info] GPU programs have been built\n",
      "[LightGBM] [Info] Size of histogram bin entry: 8\n",
      "[LightGBM] [Info] 217 dense feature groups (6.58 MB) transferred to GPU in 0.064806 secs. 1 sparse feature groups\n",
      "threshold: 0.18857928415653796\n",
      "AUC-ROC: 0.9893857950645509\n",
      "Accuracy: 0.868\n",
      "PR_AUC: 0.991028972778794\n",
      "Epoch 39/300\n"
     ]
    },
    {
     "name": "stderr",
     "output_type": "stream",
     "text": [
      "c:\\Users\\FH-Deg\\.conda\\envs\\tf_c_gpu\\lib\\site-packages\\lightgbm\\basic.py:1192: UserWarning: Converting data to scipy sparse matrix.\n",
      "  _log_warning('Converting data to scipy sparse matrix.')\n"
     ]
    },
    {
     "name": "stdout",
     "output_type": "stream",
     "text": [
      "[LightGBM] [Info] Number of positive: 982, number of negative: 30366\n",
      "[LightGBM] [Info] This is the GPU trainer!!\n",
      "[LightGBM] [Info] Total Bins 99484\n",
      "[LightGBM] [Info] Number of data points in the train set: 31348, number of used features: 586\n",
      "[LightGBM] [Info] Using GPU Device: Quadro RTX 4000, Vendor: NVIDIA Corporation\n",
      "[LightGBM] [Info] Compiling OpenCL Kernel with 256 bins...\n",
      "[LightGBM] [Info] GPU programs have been built\n",
      "[LightGBM] [Info] Size of histogram bin entry: 8\n",
      "[LightGBM] [Info] 217 dense feature groups (6.58 MB) transferred to GPU in 0.065618 secs. 1 sparse feature groups\n",
      "threshold: 0.18865063704855828\n",
      "AUC-ROC: 0.9896265277946481\n",
      "Accuracy: 0.8676\n",
      "PR_AUC: 0.9912212758020296\n",
      "Epoch 40/300\n"
     ]
    },
    {
     "name": "stderr",
     "output_type": "stream",
     "text": [
      "c:\\Users\\FH-Deg\\.conda\\envs\\tf_c_gpu\\lib\\site-packages\\lightgbm\\basic.py:1192: UserWarning: Converting data to scipy sparse matrix.\n",
      "  _log_warning('Converting data to scipy sparse matrix.')\n"
     ]
    },
    {
     "name": "stdout",
     "output_type": "stream",
     "text": [
      "[LightGBM] [Info] Number of positive: 982, number of negative: 30366\n",
      "[LightGBM] [Info] This is the GPU trainer!!\n",
      "[LightGBM] [Info] Total Bins 99484\n",
      "[LightGBM] [Info] Number of data points in the train set: 31348, number of used features: 586\n",
      "[LightGBM] [Info] Using GPU Device: Quadro RTX 4000, Vendor: NVIDIA Corporation\n",
      "[LightGBM] [Info] Compiling OpenCL Kernel with 256 bins...\n",
      "[LightGBM] [Info] GPU programs have been built\n",
      "[LightGBM] [Info] Size of histogram bin entry: 8\n",
      "[LightGBM] [Info] 217 dense feature groups (6.58 MB) transferred to GPU in 0.075164 secs. 1 sparse feature groups\n",
      "threshold: 0.18937942510871436\n",
      "AUC-ROC: 0.9898682207350697\n",
      "Accuracy: 0.8682\n",
      "PR_AUC: 0.9914118143407762\n",
      "Updating target policy...\n",
      "Epoch 41/300\n"
     ]
    },
    {
     "name": "stderr",
     "output_type": "stream",
     "text": [
      "c:\\Users\\FH-Deg\\.conda\\envs\\tf_c_gpu\\lib\\site-packages\\lightgbm\\basic.py:1192: UserWarning: Converting data to scipy sparse matrix.\n",
      "  _log_warning('Converting data to scipy sparse matrix.')\n"
     ]
    },
    {
     "name": "stdout",
     "output_type": "stream",
     "text": [
      "[LightGBM] [Info] Number of positive: 982, number of negative: 30366\n",
      "[LightGBM] [Info] This is the GPU trainer!!\n",
      "[LightGBM] [Info] Total Bins 99484\n",
      "[LightGBM] [Info] Number of data points in the train set: 31348, number of used features: 586\n",
      "[LightGBM] [Info] Using GPU Device: Quadro RTX 4000, Vendor: NVIDIA Corporation\n",
      "[LightGBM] [Info] Compiling OpenCL Kernel with 256 bins...\n",
      "[LightGBM] [Info] GPU programs have been built\n",
      "[LightGBM] [Info] Size of histogram bin entry: 8\n",
      "[LightGBM] [Info] 217 dense feature groups (6.58 MB) transferred to GPU in 0.055362 secs. 1 sparse feature groups\n",
      "threshold: 0.18912095985317576\n",
      "AUC-ROC: 0.9901031922032201\n",
      "Accuracy: 0.8683\n",
      "PR_AUC: 0.9915934391115335\n",
      "Epoch 42/300\n"
     ]
    },
    {
     "name": "stderr",
     "output_type": "stream",
     "text": [
      "c:\\Users\\FH-Deg\\.conda\\envs\\tf_c_gpu\\lib\\site-packages\\lightgbm\\basic.py:1192: UserWarning: Converting data to scipy sparse matrix.\n",
      "  _log_warning('Converting data to scipy sparse matrix.')\n"
     ]
    },
    {
     "name": "stdout",
     "output_type": "stream",
     "text": [
      "[LightGBM] [Info] Number of positive: 982, number of negative: 30366\n",
      "[LightGBM] [Info] This is the GPU trainer!!\n",
      "[LightGBM] [Info] Total Bins 99484\n",
      "[LightGBM] [Info] Number of data points in the train set: 31348, number of used features: 586\n",
      "[LightGBM] [Info] Using GPU Device: Quadro RTX 4000, Vendor: NVIDIA Corporation\n",
      "[LightGBM] [Info] Compiling OpenCL Kernel with 256 bins...\n",
      "[LightGBM] [Info] GPU programs have been built\n",
      "[LightGBM] [Info] Size of histogram bin entry: 8\n",
      "[LightGBM] [Info] 217 dense feature groups (6.58 MB) transferred to GPU in 0.078315 secs. 1 sparse feature groups\n",
      "threshold: 0.18890360884073146\n",
      "AUC-ROC: 0.990207054953317\n",
      "Accuracy: 0.8686\n",
      "PR_AUC: 0.9916836186385485\n",
      "Epoch 43/300\n"
     ]
    },
    {
     "name": "stderr",
     "output_type": "stream",
     "text": [
      "c:\\Users\\FH-Deg\\.conda\\envs\\tf_c_gpu\\lib\\site-packages\\lightgbm\\basic.py:1192: UserWarning: Converting data to scipy sparse matrix.\n",
      "  _log_warning('Converting data to scipy sparse matrix.')\n"
     ]
    },
    {
     "name": "stdout",
     "output_type": "stream",
     "text": [
      "[LightGBM] [Info] Number of positive: 982, number of negative: 30366\n",
      "[LightGBM] [Info] This is the GPU trainer!!\n",
      "[LightGBM] [Info] Total Bins 99484\n",
      "[LightGBM] [Info] Number of data points in the train set: 31348, number of used features: 586\n",
      "[LightGBM] [Info] Using GPU Device: Quadro RTX 4000, Vendor: NVIDIA Corporation\n",
      "[LightGBM] [Info] Compiling OpenCL Kernel with 256 bins...\n",
      "[LightGBM] [Info] GPU programs have been built\n",
      "[LightGBM] [Info] Size of histogram bin entry: 8\n",
      "[LightGBM] [Info] 217 dense feature groups (6.58 MB) transferred to GPU in 0.077583 secs. 1 sparse feature groups\n",
      "threshold: 0.1926664576017708\n",
      "AUC-ROC: 0.9903906151603447\n",
      "Accuracy: 0.8654\n",
      "PR_AUC: 0.9918233187350611\n",
      "Updating target policy...\n",
      "Epoch 44/300\n"
     ]
    },
    {
     "name": "stderr",
     "output_type": "stream",
     "text": [
      "c:\\Users\\FH-Deg\\.conda\\envs\\tf_c_gpu\\lib\\site-packages\\lightgbm\\basic.py:1192: UserWarning: Converting data to scipy sparse matrix.\n",
      "  _log_warning('Converting data to scipy sparse matrix.')\n"
     ]
    },
    {
     "name": "stdout",
     "output_type": "stream",
     "text": [
      "[LightGBM] [Info] Number of positive: 982, number of negative: 30366\n",
      "[LightGBM] [Info] This is the GPU trainer!!\n",
      "[LightGBM] [Info] Total Bins 99484\n",
      "[LightGBM] [Info] Number of data points in the train set: 31348, number of used features: 586\n",
      "[LightGBM] [Info] Using GPU Device: Quadro RTX 4000, Vendor: NVIDIA Corporation\n",
      "[LightGBM] [Info] Compiling OpenCL Kernel with 256 bins...\n",
      "[LightGBM] [Info] GPU programs have been built\n",
      "[LightGBM] [Info] Size of histogram bin entry: 8\n",
      "[LightGBM] [Info] 217 dense feature groups (6.58 MB) transferred to GPU in 0.066121 secs. 1 sparse feature groups\n",
      "threshold: 0.19241013967717144\n",
      "AUC-ROC: 0.9905584119145457\n",
      "Accuracy: 0.8658\n",
      "PR_AUC: 0.9919686570165601\n",
      "Epoch 45/300\n"
     ]
    },
    {
     "name": "stderr",
     "output_type": "stream",
     "text": [
      "c:\\Users\\FH-Deg\\.conda\\envs\\tf_c_gpu\\lib\\site-packages\\lightgbm\\basic.py:1192: UserWarning: Converting data to scipy sparse matrix.\n",
      "  _log_warning('Converting data to scipy sparse matrix.')\n"
     ]
    },
    {
     "name": "stdout",
     "output_type": "stream",
     "text": [
      "[LightGBM] [Info] Number of positive: 982, number of negative: 30366\n",
      "[LightGBM] [Info] This is the GPU trainer!!\n",
      "[LightGBM] [Info] Total Bins 99484\n",
      "[LightGBM] [Info] Number of data points in the train set: 31348, number of used features: 586\n",
      "[LightGBM] [Info] Using GPU Device: Quadro RTX 4000, Vendor: NVIDIA Corporation\n",
      "[LightGBM] [Info] Compiling OpenCL Kernel with 256 bins...\n",
      "[LightGBM] [Info] GPU programs have been built\n",
      "[LightGBM] [Info] Size of histogram bin entry: 8\n",
      "[LightGBM] [Info] 217 dense feature groups (6.58 MB) transferred to GPU in 0.062926 secs. 1 sparse feature groups\n",
      "threshold: 0.19230644632513003\n",
      "AUC-ROC: 0.9906910809743766\n",
      "Accuracy: 0.866\n",
      "PR_AUC: 0.9920709459427126\n",
      "Epoch 46/300\n"
     ]
    },
    {
     "name": "stderr",
     "output_type": "stream",
     "text": [
      "c:\\Users\\FH-Deg\\.conda\\envs\\tf_c_gpu\\lib\\site-packages\\lightgbm\\basic.py:1192: UserWarning: Converting data to scipy sparse matrix.\n",
      "  _log_warning('Converting data to scipy sparse matrix.')\n"
     ]
    },
    {
     "name": "stdout",
     "output_type": "stream",
     "text": [
      "[LightGBM] [Info] Number of positive: 982, number of negative: 30366\n",
      "[LightGBM] [Info] This is the GPU trainer!!\n",
      "[LightGBM] [Info] Total Bins 99484\n",
      "[LightGBM] [Info] Number of data points in the train set: 31348, number of used features: 586\n",
      "[LightGBM] [Info] Using GPU Device: Quadro RTX 4000, Vendor: NVIDIA Corporation\n",
      "[LightGBM] [Info] Compiling OpenCL Kernel with 256 bins...\n",
      "[LightGBM] [Info] GPU programs have been built\n",
      "[LightGBM] [Info] Size of histogram bin entry: 8\n",
      "[LightGBM] [Info] 217 dense feature groups (6.58 MB) transferred to GPU in 0.070338 secs. 1 sparse feature groups\n",
      "threshold: 0.19193763416978274\n",
      "AUC-ROC: 0.9907124056453325\n",
      "Accuracy: 0.8665\n",
      "PR_AUC: 0.9921085901210895\n",
      "Updating target policy...\n",
      "Epoch 47/300\n"
     ]
    },
    {
     "name": "stderr",
     "output_type": "stream",
     "text": [
      "c:\\Users\\FH-Deg\\.conda\\envs\\tf_c_gpu\\lib\\site-packages\\lightgbm\\basic.py:1192: UserWarning: Converting data to scipy sparse matrix.\n",
      "  _log_warning('Converting data to scipy sparse matrix.')\n"
     ]
    },
    {
     "name": "stdout",
     "output_type": "stream",
     "text": [
      "[LightGBM] [Info] Number of positive: 982, number of negative: 30366\n",
      "[LightGBM] [Info] This is the GPU trainer!!\n",
      "[LightGBM] [Info] Total Bins 99484\n",
      "[LightGBM] [Info] Number of data points in the train set: 31348, number of used features: 586\n",
      "[LightGBM] [Info] Using GPU Device: Quadro RTX 4000, Vendor: NVIDIA Corporation\n",
      "[LightGBM] [Info] Compiling OpenCL Kernel with 256 bins...\n",
      "[LightGBM] [Info] GPU programs have been built\n",
      "[LightGBM] [Info] Size of histogram bin entry: 8\n",
      "[LightGBM] [Info] 217 dense feature groups (6.58 MB) transferred to GPU in 0.055515 secs. 1 sparse feature groups\n",
      "threshold: 0.19211548682967433\n",
      "AUC-ROC: 0.990906488157166\n",
      "Accuracy: 0.8661\n",
      "PR_AUC: 0.9922515437889889\n",
      "Epoch 48/300\n"
     ]
    },
    {
     "name": "stderr",
     "output_type": "stream",
     "text": [
      "c:\\Users\\FH-Deg\\.conda\\envs\\tf_c_gpu\\lib\\site-packages\\lightgbm\\basic.py:1192: UserWarning: Converting data to scipy sparse matrix.\n",
      "  _log_warning('Converting data to scipy sparse matrix.')\n"
     ]
    },
    {
     "name": "stdout",
     "output_type": "stream",
     "text": [
      "[LightGBM] [Info] Number of positive: 982, number of negative: 30366\n",
      "[LightGBM] [Info] This is the GPU trainer!!\n",
      "[LightGBM] [Info] Total Bins 99484\n",
      "[LightGBM] [Info] Number of data points in the train set: 31348, number of used features: 586\n",
      "[LightGBM] [Info] Using GPU Device: Quadro RTX 4000, Vendor: NVIDIA Corporation\n",
      "[LightGBM] [Info] Compiling OpenCL Kernel with 256 bins...\n",
      "[LightGBM] [Info] GPU programs have been built\n",
      "[LightGBM] [Info] Size of histogram bin entry: 8\n",
      "[LightGBM] [Info] 217 dense feature groups (6.58 MB) transferred to GPU in 0.104044 secs. 1 sparse feature groups\n",
      "threshold: 0.19039040330192838\n",
      "AUC-ROC: 0.99101475187125\n",
      "Accuracy: 0.867\n",
      "PR_AUC: 0.9923302283268478\n",
      "Epoch 49/300\n"
     ]
    },
    {
     "name": "stderr",
     "output_type": "stream",
     "text": [
      "c:\\Users\\FH-Deg\\.conda\\envs\\tf_c_gpu\\lib\\site-packages\\lightgbm\\basic.py:1192: UserWarning: Converting data to scipy sparse matrix.\n",
      "  _log_warning('Converting data to scipy sparse matrix.')\n"
     ]
    },
    {
     "name": "stdout",
     "output_type": "stream",
     "text": [
      "[LightGBM] [Info] Number of positive: 982, number of negative: 30366\n",
      "[LightGBM] [Info] This is the GPU trainer!!\n",
      "[LightGBM] [Info] Total Bins 99484\n",
      "[LightGBM] [Info] Number of data points in the train set: 31348, number of used features: 586\n",
      "[LightGBM] [Info] Using GPU Device: Quadro RTX 4000, Vendor: NVIDIA Corporation\n",
      "[LightGBM] [Info] Compiling OpenCL Kernel with 256 bins...\n",
      "[LightGBM] [Info] GPU programs have been built\n",
      "[LightGBM] [Info] Size of histogram bin entry: 8\n",
      "[LightGBM] [Info] 217 dense feature groups (6.58 MB) transferred to GPU in 0.056375 secs. 1 sparse feature groups\n",
      "threshold: 0.1894598397703066\n",
      "AUC-ROC: 0.9910645227730682\n",
      "Accuracy: 0.8682\n",
      "PR_AUC: 0.9923803335962416\n",
      "Updating target policy...\n",
      "Epoch 50/300\n"
     ]
    },
    {
     "name": "stderr",
     "output_type": "stream",
     "text": [
      "c:\\Users\\FH-Deg\\.conda\\envs\\tf_c_gpu\\lib\\site-packages\\lightgbm\\basic.py:1192: UserWarning: Converting data to scipy sparse matrix.\n",
      "  _log_warning('Converting data to scipy sparse matrix.')\n"
     ]
    },
    {
     "name": "stdout",
     "output_type": "stream",
     "text": [
      "[LightGBM] [Info] Number of positive: 982, number of negative: 30366\n",
      "[LightGBM] [Info] This is the GPU trainer!!\n",
      "[LightGBM] [Info] Total Bins 99484\n",
      "[LightGBM] [Info] Number of data points in the train set: 31348, number of used features: 586\n",
      "[LightGBM] [Info] Using GPU Device: Quadro RTX 4000, Vendor: NVIDIA Corporation\n",
      "[LightGBM] [Info] Compiling OpenCL Kernel with 256 bins...\n",
      "[LightGBM] [Info] GPU programs have been built\n",
      "[LightGBM] [Info] Size of histogram bin entry: 8\n",
      "[LightGBM] [Info] 217 dense feature groups (6.58 MB) transferred to GPU in 0.054969 secs. 1 sparse feature groups\n",
      "threshold: 0.18872613404367036\n",
      "AUC-ROC: 0.9911624642261642\n",
      "Accuracy: 0.868\n",
      "PR_AUC: 0.9924699428318685\n",
      "Epoch 51/300\n"
     ]
    },
    {
     "name": "stderr",
     "output_type": "stream",
     "text": [
      "c:\\Users\\FH-Deg\\.conda\\envs\\tf_c_gpu\\lib\\site-packages\\lightgbm\\basic.py:1192: UserWarning: Converting data to scipy sparse matrix.\n",
      "  _log_warning('Converting data to scipy sparse matrix.')\n"
     ]
    },
    {
     "name": "stdout",
     "output_type": "stream",
     "text": [
      "[LightGBM] [Info] Number of positive: 982, number of negative: 30366\n",
      "[LightGBM] [Info] This is the GPU trainer!!\n",
      "[LightGBM] [Info] Total Bins 99484\n",
      "[LightGBM] [Info] Number of data points in the train set: 31348, number of used features: 586\n",
      "[LightGBM] [Info] Using GPU Device: Quadro RTX 4000, Vendor: NVIDIA Corporation\n",
      "[LightGBM] [Info] Compiling OpenCL Kernel with 256 bins...\n",
      "[LightGBM] [Info] GPU programs have been built\n",
      "[LightGBM] [Info] Size of histogram bin entry: 8\n",
      "[LightGBM] [Info] 217 dense feature groups (6.58 MB) transferred to GPU in 0.079875 secs. 1 sparse feature groups\n",
      "threshold: 0.18801143204734252\n",
      "AUC-ROC: 0.9911939911318176\n",
      "Accuracy: 0.8683\n",
      "PR_AUC: 0.9924954195390998\n",
      "Epoch 52/300\n"
     ]
    },
    {
     "name": "stderr",
     "output_type": "stream",
     "text": [
      "c:\\Users\\FH-Deg\\.conda\\envs\\tf_c_gpu\\lib\\site-packages\\lightgbm\\basic.py:1192: UserWarning: Converting data to scipy sparse matrix.\n",
      "  _log_warning('Converting data to scipy sparse matrix.')\n"
     ]
    },
    {
     "name": "stdout",
     "output_type": "stream",
     "text": [
      "[LightGBM] [Info] Number of positive: 982, number of negative: 30366\n",
      "[LightGBM] [Info] This is the GPU trainer!!\n",
      "[LightGBM] [Info] Total Bins 99484\n",
      "[LightGBM] [Info] Number of data points in the train set: 31348, number of used features: 586\n",
      "[LightGBM] [Info] Using GPU Device: Quadro RTX 4000, Vendor: NVIDIA Corporation\n",
      "[LightGBM] [Info] Compiling OpenCL Kernel with 256 bins...\n",
      "[LightGBM] [Info] GPU programs have been built\n",
      "[LightGBM] [Info] Size of histogram bin entry: 8\n",
      "[LightGBM] [Info] 217 dense feature groups (6.58 MB) transferred to GPU in 0.057629 secs. 1 sparse feature groups\n",
      "threshold: 0.18776878430396043\n",
      "AUC-ROC: 0.9912716881505728\n",
      "Accuracy: 0.8681\n",
      "PR_AUC: 0.9925552239383649\n",
      "Updating target policy...\n",
      "Epoch 53/300\n"
     ]
    },
    {
     "name": "stderr",
     "output_type": "stream",
     "text": [
      "c:\\Users\\FH-Deg\\.conda\\envs\\tf_c_gpu\\lib\\site-packages\\lightgbm\\basic.py:1192: UserWarning: Converting data to scipy sparse matrix.\n",
      "  _log_warning('Converting data to scipy sparse matrix.')\n"
     ]
    },
    {
     "name": "stdout",
     "output_type": "stream",
     "text": [
      "[LightGBM] [Info] Number of positive: 982, number of negative: 30366\n",
      "[LightGBM] [Info] This is the GPU trainer!!\n",
      "[LightGBM] [Info] Total Bins 99484\n",
      "[LightGBM] [Info] Number of data points in the train set: 31348, number of used features: 586\n",
      "[LightGBM] [Info] Using GPU Device: Quadro RTX 4000, Vendor: NVIDIA Corporation\n",
      "[LightGBM] [Info] Compiling OpenCL Kernel with 256 bins...\n",
      "[LightGBM] [Info] GPU programs have been built\n",
      "[LightGBM] [Info] Size of histogram bin entry: 8\n",
      "[LightGBM] [Info] 217 dense feature groups (6.58 MB) transferred to GPU in 0.075079 secs. 1 sparse feature groups\n",
      "threshold: 0.18766165719834774\n",
      "AUC-ROC: 0.9913787916105145\n",
      "Accuracy: 0.8687\n",
      "PR_AUC: 0.9926540278745807\n",
      "Epoch 54/300\n"
     ]
    },
    {
     "name": "stderr",
     "output_type": "stream",
     "text": [
      "c:\\Users\\FH-Deg\\.conda\\envs\\tf_c_gpu\\lib\\site-packages\\lightgbm\\basic.py:1192: UserWarning: Converting data to scipy sparse matrix.\n",
      "  _log_warning('Converting data to scipy sparse matrix.')\n"
     ]
    },
    {
     "name": "stdout",
     "output_type": "stream",
     "text": [
      "[LightGBM] [Info] Number of positive: 982, number of negative: 30366\n",
      "[LightGBM] [Info] This is the GPU trainer!!\n",
      "[LightGBM] [Info] Total Bins 99484\n",
      "[LightGBM] [Info] Number of data points in the train set: 31348, number of used features: 586\n",
      "[LightGBM] [Info] Using GPU Device: Quadro RTX 4000, Vendor: NVIDIA Corporation\n",
      "[LightGBM] [Info] Compiling OpenCL Kernel with 256 bins...\n",
      "[LightGBM] [Info] GPU programs have been built\n",
      "[LightGBM] [Info] Size of histogram bin entry: 8\n",
      "[LightGBM] [Info] 217 dense feature groups (6.58 MB) transferred to GPU in 0.067547 secs. 1 sparse feature groups\n",
      "threshold: 0.1875670371788365\n",
      "AUC-ROC: 0.991550949319939\n",
      "Accuracy: 0.8694\n",
      "PR_AUC: 0.9927872474907644\n",
      "Epoch 55/300\n"
     ]
    },
    {
     "name": "stderr",
     "output_type": "stream",
     "text": [
      "c:\\Users\\FH-Deg\\.conda\\envs\\tf_c_gpu\\lib\\site-packages\\lightgbm\\basic.py:1192: UserWarning: Converting data to scipy sparse matrix.\n",
      "  _log_warning('Converting data to scipy sparse matrix.')\n"
     ]
    },
    {
     "name": "stdout",
     "output_type": "stream",
     "text": [
      "[LightGBM] [Info] Number of positive: 982, number of negative: 30366\n",
      "[LightGBM] [Info] This is the GPU trainer!!\n",
      "[LightGBM] [Info] Total Bins 99484\n",
      "[LightGBM] [Info] Number of data points in the train set: 31348, number of used features: 586\n",
      "[LightGBM] [Info] Using GPU Device: Quadro RTX 4000, Vendor: NVIDIA Corporation\n",
      "[LightGBM] [Info] Compiling OpenCL Kernel with 256 bins...\n",
      "[LightGBM] [Info] GPU programs have been built\n",
      "[LightGBM] [Info] Size of histogram bin entry: 8\n",
      "[LightGBM] [Info] 217 dense feature groups (6.58 MB) transferred to GPU in 0.065943 secs. 1 sparse feature groups\n",
      "threshold: 0.1882390611240428\n",
      "AUC-ROC: 0.991636488056344\n",
      "Accuracy: 0.8683\n",
      "PR_AUC: 0.9928610504058767\n",
      "Updating target policy...\n",
      "Epoch 56/300\n"
     ]
    },
    {
     "name": "stderr",
     "output_type": "stream",
     "text": [
      "c:\\Users\\FH-Deg\\.conda\\envs\\tf_c_gpu\\lib\\site-packages\\lightgbm\\basic.py:1192: UserWarning: Converting data to scipy sparse matrix.\n",
      "  _log_warning('Converting data to scipy sparse matrix.')\n"
     ]
    },
    {
     "name": "stdout",
     "output_type": "stream",
     "text": [
      "[LightGBM] [Info] Number of positive: 982, number of negative: 30366\n",
      "[LightGBM] [Info] This is the GPU trainer!!\n",
      "[LightGBM] [Info] Total Bins 99484\n",
      "[LightGBM] [Info] Number of data points in the train set: 31348, number of used features: 586\n",
      "[LightGBM] [Info] Using GPU Device: Quadro RTX 4000, Vendor: NVIDIA Corporation\n",
      "[LightGBM] [Info] Compiling OpenCL Kernel with 256 bins...\n",
      "[LightGBM] [Info] GPU programs have been built\n",
      "[LightGBM] [Info] Size of histogram bin entry: 8\n",
      "[LightGBM] [Info] 217 dense feature groups (6.58 MB) transferred to GPU in 0.074498 secs. 1 sparse feature groups\n",
      "threshold: 0.1882983103786915\n",
      "AUC-ROC: 0.9917216667138768\n",
      "Accuracy: 0.8694\n",
      "PR_AUC: 0.9929380975705627\n",
      "Epoch 57/300\n"
     ]
    },
    {
     "name": "stderr",
     "output_type": "stream",
     "text": [
      "c:\\Users\\FH-Deg\\.conda\\envs\\tf_c_gpu\\lib\\site-packages\\lightgbm\\basic.py:1192: UserWarning: Converting data to scipy sparse matrix.\n",
      "  _log_warning('Converting data to scipy sparse matrix.')\n"
     ]
    },
    {
     "name": "stdout",
     "output_type": "stream",
     "text": [
      "[LightGBM] [Info] Number of positive: 982, number of negative: 30366\n",
      "[LightGBM] [Info] This is the GPU trainer!!\n",
      "[LightGBM] [Info] Total Bins 99484\n",
      "[LightGBM] [Info] Number of data points in the train set: 31348, number of used features: 586\n",
      "[LightGBM] [Info] Using GPU Device: Quadro RTX 4000, Vendor: NVIDIA Corporation\n",
      "[LightGBM] [Info] Compiling OpenCL Kernel with 256 bins...\n",
      "[LightGBM] [Info] GPU programs have been built\n",
      "[LightGBM] [Info] Size of histogram bin entry: 8\n",
      "[LightGBM] [Info] 217 dense feature groups (6.58 MB) transferred to GPU in 0.057603 secs. 1 sparse feature groups\n",
      "threshold: 0.1887853467211682\n",
      "AUC-ROC: 0.9917815198241023\n",
      "Accuracy: 0.8686\n",
      "PR_AUC: 0.9929783282533319\n",
      "Epoch 58/300\n"
     ]
    },
    {
     "name": "stderr",
     "output_type": "stream",
     "text": [
      "c:\\Users\\FH-Deg\\.conda\\envs\\tf_c_gpu\\lib\\site-packages\\lightgbm\\basic.py:1192: UserWarning: Converting data to scipy sparse matrix.\n",
      "  _log_warning('Converting data to scipy sparse matrix.')\n"
     ]
    },
    {
     "name": "stdout",
     "output_type": "stream",
     "text": [
      "[LightGBM] [Info] Number of positive: 982, number of negative: 30366\n",
      "[LightGBM] [Info] This is the GPU trainer!!\n",
      "[LightGBM] [Info] Total Bins 99484\n",
      "[LightGBM] [Info] Number of data points in the train set: 31348, number of used features: 586\n",
      "[LightGBM] [Info] Using GPU Device: Quadro RTX 4000, Vendor: NVIDIA Corporation\n",
      "[LightGBM] [Info] Compiling OpenCL Kernel with 256 bins...\n",
      "[LightGBM] [Info] GPU programs have been built\n",
      "[LightGBM] [Info] Size of histogram bin entry: 8\n",
      "[LightGBM] [Info] 217 dense feature groups (6.58 MB) transferred to GPU in 0.080171 secs. 1 sparse feature groups\n",
      "threshold: 0.18879120942557925\n",
      "AUC-ROC: 0.9918394125049153\n",
      "Accuracy: 0.868\n",
      "PR_AUC: 0.9930175853274944\n",
      "Updating target policy...\n",
      "Epoch 59/300\n"
     ]
    },
    {
     "name": "stderr",
     "output_type": "stream",
     "text": [
      "c:\\Users\\FH-Deg\\.conda\\envs\\tf_c_gpu\\lib\\site-packages\\lightgbm\\basic.py:1192: UserWarning: Converting data to scipy sparse matrix.\n",
      "  _log_warning('Converting data to scipy sparse matrix.')\n"
     ]
    },
    {
     "name": "stdout",
     "output_type": "stream",
     "text": [
      "[LightGBM] [Info] Number of positive: 982, number of negative: 30366\n",
      "[LightGBM] [Info] This is the GPU trainer!!\n",
      "[LightGBM] [Info] Total Bins 99484\n",
      "[LightGBM] [Info] Number of data points in the train set: 31348, number of used features: 586\n",
      "[LightGBM] [Info] Using GPU Device: Quadro RTX 4000, Vendor: NVIDIA Corporation\n",
      "[LightGBM] [Info] Compiling OpenCL Kernel with 256 bins...\n",
      "[LightGBM] [Info] GPU programs have been built\n",
      "[LightGBM] [Info] Size of histogram bin entry: 8\n",
      "[LightGBM] [Info] 217 dense feature groups (6.58 MB) transferred to GPU in 0.056611 secs. 1 sparse feature groups\n",
      "threshold: 0.18843875630102958\n",
      "AUC-ROC: 0.9918405727590571\n",
      "Accuracy: 0.8674\n",
      "PR_AUC: 0.9930333073028592\n",
      "Epoch 60/300\n"
     ]
    },
    {
     "name": "stderr",
     "output_type": "stream",
     "text": [
      "c:\\Users\\FH-Deg\\.conda\\envs\\tf_c_gpu\\lib\\site-packages\\lightgbm\\basic.py:1192: UserWarning: Converting data to scipy sparse matrix.\n",
      "  _log_warning('Converting data to scipy sparse matrix.')\n"
     ]
    },
    {
     "name": "stdout",
     "output_type": "stream",
     "text": [
      "[LightGBM] [Info] Number of positive: 982, number of negative: 30366\n",
      "[LightGBM] [Info] This is the GPU trainer!!\n",
      "[LightGBM] [Info] Total Bins 99484\n",
      "[LightGBM] [Info] Number of data points in the train set: 31348, number of used features: 586\n",
      "[LightGBM] [Info] Using GPU Device: Quadro RTX 4000, Vendor: NVIDIA Corporation\n",
      "[LightGBM] [Info] Compiling OpenCL Kernel with 256 bins...\n",
      "[LightGBM] [Info] GPU programs have been built\n",
      "[LightGBM] [Info] Size of histogram bin entry: 8\n",
      "[LightGBM] [Info] 217 dense feature groups (6.58 MB) transferred to GPU in 0.080254 secs. 1 sparse feature groups\n",
      "threshold: 0.18774832518811074\n",
      "AUC-ROC: 0.9919269116707324\n",
      "Accuracy: 0.8677\n",
      "PR_AUC: 0.9930965218176376\n",
      "Epoch 61/300\n"
     ]
    },
    {
     "name": "stderr",
     "output_type": "stream",
     "text": [
      "c:\\Users\\FH-Deg\\.conda\\envs\\tf_c_gpu\\lib\\site-packages\\lightgbm\\basic.py:1192: UserWarning: Converting data to scipy sparse matrix.\n",
      "  _log_warning('Converting data to scipy sparse matrix.')\n"
     ]
    },
    {
     "name": "stdout",
     "output_type": "stream",
     "text": [
      "[LightGBM] [Info] Number of positive: 982, number of negative: 30366\n",
      "[LightGBM] [Info] This is the GPU trainer!!\n",
      "[LightGBM] [Info] Total Bins 99484\n",
      "[LightGBM] [Info] Number of data points in the train set: 31348, number of used features: 586\n",
      "[LightGBM] [Info] Using GPU Device: Quadro RTX 4000, Vendor: NVIDIA Corporation\n",
      "[LightGBM] [Info] Compiling OpenCL Kernel with 256 bins...\n",
      "[LightGBM] [Info] GPU programs have been built\n",
      "[LightGBM] [Info] Size of histogram bin entry: 8\n",
      "[LightGBM] [Info] 217 dense feature groups (6.58 MB) transferred to GPU in 0.053108 secs. 1 sparse feature groups\n",
      "threshold: 0.1875967273821053\n",
      "AUC-ROC: 0.9920280138161462\n",
      "Accuracy: 0.8664\n",
      "PR_AUC: 0.9931746087383899\n",
      "Updating target policy...\n",
      "Epoch 62/300\n"
     ]
    },
    {
     "name": "stderr",
     "output_type": "stream",
     "text": [
      "c:\\Users\\FH-Deg\\.conda\\envs\\tf_c_gpu\\lib\\site-packages\\lightgbm\\basic.py:1192: UserWarning: Converting data to scipy sparse matrix.\n",
      "  _log_warning('Converting data to scipy sparse matrix.')\n"
     ]
    },
    {
     "name": "stdout",
     "output_type": "stream",
     "text": [
      "[LightGBM] [Info] Number of positive: 982, number of negative: 30366\n",
      "[LightGBM] [Info] This is the GPU trainer!!\n",
      "[LightGBM] [Info] Total Bins 99484\n",
      "[LightGBM] [Info] Number of data points in the train set: 31348, number of used features: 586\n",
      "[LightGBM] [Info] Using GPU Device: Quadro RTX 4000, Vendor: NVIDIA Corporation\n",
      "[LightGBM] [Info] Compiling OpenCL Kernel with 256 bins...\n",
      "[LightGBM] [Info] GPU programs have been built\n",
      "[LightGBM] [Info] Size of histogram bin entry: 8\n",
      "[LightGBM] [Info] 217 dense feature groups (6.58 MB) transferred to GPU in 0.107211 secs. 1 sparse feature groups\n",
      "threshold: 0.18728013164089985\n",
      "AUC-ROC: 0.9921196738933695\n",
      "Accuracy: 0.867\n",
      "PR_AUC: 0.9932434532555011\n",
      "Epoch 63/300\n"
     ]
    },
    {
     "name": "stderr",
     "output_type": "stream",
     "text": [
      "c:\\Users\\FH-Deg\\.conda\\envs\\tf_c_gpu\\lib\\site-packages\\lightgbm\\basic.py:1192: UserWarning: Converting data to scipy sparse matrix.\n",
      "  _log_warning('Converting data to scipy sparse matrix.')\n"
     ]
    },
    {
     "name": "stdout",
     "output_type": "stream",
     "text": [
      "[LightGBM] [Info] Number of positive: 982, number of negative: 30366\n",
      "[LightGBM] [Info] This is the GPU trainer!!\n",
      "[LightGBM] [Info] Total Bins 99484\n",
      "[LightGBM] [Info] Number of data points in the train set: 31348, number of used features: 586\n",
      "[LightGBM] [Info] Using GPU Device: Quadro RTX 4000, Vendor: NVIDIA Corporation\n",
      "[LightGBM] [Info] Compiling OpenCL Kernel with 256 bins...\n",
      "[LightGBM] [Info] GPU programs have been built\n",
      "[LightGBM] [Info] Size of histogram bin entry: 8\n",
      "[LightGBM] [Info] 217 dense feature groups (6.58 MB) transferred to GPU in 0.079490 secs. 1 sparse feature groups\n",
      "threshold: 0.18699122476470384\n",
      "AUC-ROC: 0.9921311564084999\n",
      "Accuracy: 0.8668\n",
      "PR_AUC: 0.9932566823696322\n",
      "Epoch 64/300\n"
     ]
    },
    {
     "name": "stderr",
     "output_type": "stream",
     "text": [
      "c:\\Users\\FH-Deg\\.conda\\envs\\tf_c_gpu\\lib\\site-packages\\lightgbm\\basic.py:1192: UserWarning: Converting data to scipy sparse matrix.\n",
      "  _log_warning('Converting data to scipy sparse matrix.')\n"
     ]
    },
    {
     "name": "stdout",
     "output_type": "stream",
     "text": [
      "[LightGBM] [Info] Number of positive: 982, number of negative: 30366\n",
      "[LightGBM] [Info] This is the GPU trainer!!\n",
      "[LightGBM] [Info] Total Bins 99484\n",
      "[LightGBM] [Info] Number of data points in the train set: 31348, number of used features: 586\n",
      "[LightGBM] [Info] Using GPU Device: Quadro RTX 4000, Vendor: NVIDIA Corporation\n",
      "[LightGBM] [Info] Compiling OpenCL Kernel with 256 bins...\n",
      "[LightGBM] [Info] GPU programs have been built\n",
      "[LightGBM] [Info] Size of histogram bin entry: 8\n",
      "[LightGBM] [Info] 217 dense feature groups (6.58 MB) transferred to GPU in 0.084325 secs. 1 sparse feature groups\n",
      "threshold: 0.1871316091632537\n",
      "AUC-ROC: 0.9921791669247233\n",
      "Accuracy: 0.8663\n",
      "PR_AUC: 0.9932930276306351\n",
      "Updating target policy...\n",
      "Epoch 65/300\n"
     ]
    },
    {
     "name": "stderr",
     "output_type": "stream",
     "text": [
      "c:\\Users\\FH-Deg\\.conda\\envs\\tf_c_gpu\\lib\\site-packages\\lightgbm\\basic.py:1192: UserWarning: Converting data to scipy sparse matrix.\n",
      "  _log_warning('Converting data to scipy sparse matrix.')\n"
     ]
    },
    {
     "name": "stdout",
     "output_type": "stream",
     "text": [
      "[LightGBM] [Info] Number of positive: 982, number of negative: 30366\n",
      "[LightGBM] [Info] This is the GPU trainer!!\n",
      "[LightGBM] [Info] Total Bins 99484\n",
      "[LightGBM] [Info] Number of data points in the train set: 31348, number of used features: 586\n",
      "[LightGBM] [Info] Using GPU Device: Quadro RTX 4000, Vendor: NVIDIA Corporation\n",
      "[LightGBM] [Info] Compiling OpenCL Kernel with 256 bins...\n",
      "[LightGBM] [Info] GPU programs have been built\n",
      "[LightGBM] [Info] Size of histogram bin entry: 8\n",
      "[LightGBM] [Info] 217 dense feature groups (6.58 MB) transferred to GPU in 0.079451 secs. 1 sparse feature groups\n",
      "threshold: 0.18679020328495488\n",
      "AUC-ROC: 0.992196930815726\n",
      "Accuracy: 0.8658\n",
      "PR_AUC: 0.9933163032543322\n",
      "Epoch 66/300\n"
     ]
    },
    {
     "name": "stderr",
     "output_type": "stream",
     "text": [
      "c:\\Users\\FH-Deg\\.conda\\envs\\tf_c_gpu\\lib\\site-packages\\lightgbm\\basic.py:1192: UserWarning: Converting data to scipy sparse matrix.\n",
      "  _log_warning('Converting data to scipy sparse matrix.')\n"
     ]
    },
    {
     "name": "stdout",
     "output_type": "stream",
     "text": [
      "[LightGBM] [Info] Number of positive: 982, number of negative: 30366\n",
      "[LightGBM] [Info] This is the GPU trainer!!\n",
      "[LightGBM] [Info] Total Bins 99484\n",
      "[LightGBM] [Info] Number of data points in the train set: 31348, number of used features: 586\n",
      "[LightGBM] [Info] Using GPU Device: Quadro RTX 4000, Vendor: NVIDIA Corporation\n",
      "[LightGBM] [Info] Compiling OpenCL Kernel with 256 bins...\n",
      "[LightGBM] [Info] GPU programs have been built\n",
      "[LightGBM] [Info] Size of histogram bin entry: 8\n",
      "[LightGBM] [Info] 217 dense feature groups (6.58 MB) transferred to GPU in 0.078016 secs. 1 sparse feature groups\n",
      "threshold: 0.18658654209907422\n",
      "AUC-ROC: 0.992253383181052\n",
      "Accuracy: 0.8661\n",
      "PR_AUC: 0.9933589723949858\n",
      "Epoch 67/300\n"
     ]
    },
    {
     "name": "stderr",
     "output_type": "stream",
     "text": [
      "c:\\Users\\FH-Deg\\.conda\\envs\\tf_c_gpu\\lib\\site-packages\\lightgbm\\basic.py:1192: UserWarning: Converting data to scipy sparse matrix.\n",
      "  _log_warning('Converting data to scipy sparse matrix.')\n"
     ]
    },
    {
     "name": "stdout",
     "output_type": "stream",
     "text": [
      "[LightGBM] [Info] Number of positive: 982, number of negative: 30366\n",
      "[LightGBM] [Info] This is the GPU trainer!!\n",
      "[LightGBM] [Info] Total Bins 99484\n",
      "[LightGBM] [Info] Number of data points in the train set: 31348, number of used features: 586\n",
      "[LightGBM] [Info] Using GPU Device: Quadro RTX 4000, Vendor: NVIDIA Corporation\n",
      "[LightGBM] [Info] Compiling OpenCL Kernel with 256 bins...\n",
      "[LightGBM] [Info] GPU programs have been built\n",
      "[LightGBM] [Info] Size of histogram bin entry: 8\n",
      "[LightGBM] [Info] 217 dense feature groups (6.58 MB) transferred to GPU in 0.089510 secs. 1 sparse feature groups\n",
      "threshold: 0.18753240602728663\n",
      "AUC-ROC: 0.9923418425571937\n",
      "Accuracy: 0.8649\n",
      "PR_AUC: 0.9934243872096223\n",
      "Updating target policy...\n",
      "Epoch 68/300\n"
     ]
    },
    {
     "name": "stderr",
     "output_type": "stream",
     "text": [
      "c:\\Users\\FH-Deg\\.conda\\envs\\tf_c_gpu\\lib\\site-packages\\lightgbm\\basic.py:1192: UserWarning: Converting data to scipy sparse matrix.\n",
      "  _log_warning('Converting data to scipy sparse matrix.')\n"
     ]
    },
    {
     "name": "stdout",
     "output_type": "stream",
     "text": [
      "[LightGBM] [Info] Number of positive: 982, number of negative: 30366\n",
      "[LightGBM] [Info] This is the GPU trainer!!\n",
      "[LightGBM] [Info] Total Bins 99484\n",
      "[LightGBM] [Info] Number of data points in the train set: 31348, number of used features: 586\n",
      "[LightGBM] [Info] Using GPU Device: Quadro RTX 4000, Vendor: NVIDIA Corporation\n",
      "[LightGBM] [Info] Compiling OpenCL Kernel with 256 bins...\n",
      "[LightGBM] [Info] GPU programs have been built\n",
      "[LightGBM] [Info] Size of histogram bin entry: 8\n",
      "[LightGBM] [Info] 217 dense feature groups (6.58 MB) transferred to GPU in 0.059891 secs. 1 sparse feature groups\n",
      "threshold: 0.18770781358489977\n",
      "AUC-ROC: 0.9923516046954924\n",
      "Accuracy: 0.8644\n",
      "PR_AUC: 0.9934345753083667\n",
      "Epoch 69/300\n"
     ]
    },
    {
     "name": "stderr",
     "output_type": "stream",
     "text": [
      "c:\\Users\\FH-Deg\\.conda\\envs\\tf_c_gpu\\lib\\site-packages\\lightgbm\\basic.py:1192: UserWarning: Converting data to scipy sparse matrix.\n",
      "  _log_warning('Converting data to scipy sparse matrix.')\n"
     ]
    },
    {
     "name": "stdout",
     "output_type": "stream",
     "text": [
      "[LightGBM] [Info] Number of positive: 982, number of negative: 30366\n",
      "[LightGBM] [Info] This is the GPU trainer!!\n",
      "[LightGBM] [Info] Total Bins 99484\n",
      "[LightGBM] [Info] Number of data points in the train set: 31348, number of used features: 586\n",
      "[LightGBM] [Info] Using GPU Device: Quadro RTX 4000, Vendor: NVIDIA Corporation\n",
      "[LightGBM] [Info] Compiling OpenCL Kernel with 256 bins...\n",
      "[LightGBM] [Info] GPU programs have been built\n",
      "[LightGBM] [Info] Size of histogram bin entry: 8\n",
      "[LightGBM] [Info] 217 dense feature groups (6.58 MB) transferred to GPU in 0.075430 secs. 1 sparse feature groups\n",
      "threshold: 0.18799026121321338\n",
      "AUC-ROC: 0.9924279414162878\n",
      "Accuracy: 0.8643\n",
      "PR_AUC: 0.9934927001384325\n",
      "Epoch 70/300\n"
     ]
    },
    {
     "name": "stderr",
     "output_type": "stream",
     "text": [
      "c:\\Users\\FH-Deg\\.conda\\envs\\tf_c_gpu\\lib\\site-packages\\lightgbm\\basic.py:1192: UserWarning: Converting data to scipy sparse matrix.\n",
      "  _log_warning('Converting data to scipy sparse matrix.')\n"
     ]
    },
    {
     "name": "stdout",
     "output_type": "stream",
     "text": [
      "[LightGBM] [Info] Number of positive: 982, number of negative: 30366\n",
      "[LightGBM] [Info] This is the GPU trainer!!\n",
      "[LightGBM] [Info] Total Bins 99484\n",
      "[LightGBM] [Info] Number of data points in the train set: 31348, number of used features: 586\n",
      "[LightGBM] [Info] Using GPU Device: Quadro RTX 4000, Vendor: NVIDIA Corporation\n",
      "[LightGBM] [Info] Compiling OpenCL Kernel with 256 bins...\n",
      "[LightGBM] [Info] GPU programs have been built\n",
      "[LightGBM] [Info] Size of histogram bin entry: 8\n",
      "[LightGBM] [Info] 217 dense feature groups (6.58 MB) transferred to GPU in 0.070786 secs. 1 sparse feature groups\n",
      "threshold: 0.1887476294147554\n",
      "AUC-ROC: 0.9925186812919502\n",
      "Accuracy: 0.865\n",
      "PR_AUC: 0.9935594868918789\n",
      "Updating target policy...\n",
      "Epoch 71/300\n"
     ]
    },
    {
     "name": "stderr",
     "output_type": "stream",
     "text": [
      "c:\\Users\\FH-Deg\\.conda\\envs\\tf_c_gpu\\lib\\site-packages\\lightgbm\\basic.py:1192: UserWarning: Converting data to scipy sparse matrix.\n",
      "  _log_warning('Converting data to scipy sparse matrix.')\n"
     ]
    },
    {
     "name": "stdout",
     "output_type": "stream",
     "text": [
      "[LightGBM] [Info] Number of positive: 982, number of negative: 30366\n",
      "[LightGBM] [Info] This is the GPU trainer!!\n",
      "[LightGBM] [Info] Total Bins 99484\n",
      "[LightGBM] [Info] Number of data points in the train set: 31348, number of used features: 586\n",
      "[LightGBM] [Info] Using GPU Device: Quadro RTX 4000, Vendor: NVIDIA Corporation\n",
      "[LightGBM] [Info] Compiling OpenCL Kernel with 256 bins...\n",
      "[LightGBM] [Info] GPU programs have been built\n",
      "[LightGBM] [Info] Size of histogram bin entry: 8\n",
      "[LightGBM] [Info] 217 dense feature groups (6.58 MB) transferred to GPU in 0.133113 secs. 1 sparse feature groups\n",
      "threshold: 0.1886294055544753\n",
      "AUC-ROC: 0.9925057984700969\n",
      "Accuracy: 0.8647\n",
      "PR_AUC: 0.993559737479083\n",
      "Epoch 72/300\n"
     ]
    },
    {
     "name": "stderr",
     "output_type": "stream",
     "text": [
      "c:\\Users\\FH-Deg\\.conda\\envs\\tf_c_gpu\\lib\\site-packages\\lightgbm\\basic.py:1192: UserWarning: Converting data to scipy sparse matrix.\n",
      "  _log_warning('Converting data to scipy sparse matrix.')\n"
     ]
    },
    {
     "name": "stdout",
     "output_type": "stream",
     "text": [
      "[LightGBM] [Info] Number of positive: 982, number of negative: 30366\n",
      "[LightGBM] [Info] This is the GPU trainer!!\n",
      "[LightGBM] [Info] Total Bins 99484\n",
      "[LightGBM] [Info] Number of data points in the train set: 31348, number of used features: 586\n",
      "[LightGBM] [Info] Using GPU Device: Quadro RTX 4000, Vendor: NVIDIA Corporation\n",
      "[LightGBM] [Info] Compiling OpenCL Kernel with 256 bins...\n",
      "[LightGBM] [Info] GPU programs have been built\n",
      "[LightGBM] [Info] Size of histogram bin entry: 8\n",
      "[LightGBM] [Info] 217 dense feature groups (6.58 MB) transferred to GPU in 0.073931 secs. 1 sparse feature groups\n",
      "threshold: 0.18888450349745944\n",
      "AUC-ROC: 0.9925267230534178\n",
      "Accuracy: 0.8639\n",
      "PR_AUC: 0.993581435799514\n",
      "Epoch 73/300\n"
     ]
    },
    {
     "name": "stderr",
     "output_type": "stream",
     "text": [
      "c:\\Users\\FH-Deg\\.conda\\envs\\tf_c_gpu\\lib\\site-packages\\lightgbm\\basic.py:1192: UserWarning: Converting data to scipy sparse matrix.\n",
      "  _log_warning('Converting data to scipy sparse matrix.')\n"
     ]
    },
    {
     "name": "stdout",
     "output_type": "stream",
     "text": [
      "[LightGBM] [Info] Number of positive: 982, number of negative: 30366\n",
      "[LightGBM] [Info] This is the GPU trainer!!\n",
      "[LightGBM] [Info] Total Bins 99484\n",
      "[LightGBM] [Info] Number of data points in the train set: 31348, number of used features: 586\n",
      "[LightGBM] [Info] Using GPU Device: Quadro RTX 4000, Vendor: NVIDIA Corporation\n",
      "[LightGBM] [Info] Compiling OpenCL Kernel with 256 bins...\n",
      "[LightGBM] [Info] GPU programs have been built\n",
      "[LightGBM] [Info] Size of histogram bin entry: 8\n",
      "[LightGBM] [Info] 217 dense feature groups (6.58 MB) transferred to GPU in 0.072454 secs. 1 sparse feature groups\n",
      "threshold: 0.18843583795952684\n",
      "AUC-ROC: 0.9925057184525701\n",
      "Accuracy: 0.864\n",
      "PR_AUC: 0.9935674488526323\n",
      "Updating target policy...\n",
      "Epoch 74/300\n"
     ]
    },
    {
     "name": "stderr",
     "output_type": "stream",
     "text": [
      "c:\\Users\\FH-Deg\\.conda\\envs\\tf_c_gpu\\lib\\site-packages\\lightgbm\\basic.py:1192: UserWarning: Converting data to scipy sparse matrix.\n",
      "  _log_warning('Converting data to scipy sparse matrix.')\n"
     ]
    },
    {
     "name": "stdout",
     "output_type": "stream",
     "text": [
      "[LightGBM] [Info] Number of positive: 982, number of negative: 30366\n",
      "[LightGBM] [Info] This is the GPU trainer!!\n",
      "[LightGBM] [Info] Total Bins 99484\n",
      "[LightGBM] [Info] Number of data points in the train set: 31348, number of used features: 586\n",
      "[LightGBM] [Info] Using GPU Device: Quadro RTX 4000, Vendor: NVIDIA Corporation\n",
      "[LightGBM] [Info] Compiling OpenCL Kernel with 256 bins...\n",
      "[LightGBM] [Info] GPU programs have been built\n",
      "[LightGBM] [Info] Size of histogram bin entry: 8\n",
      "[LightGBM] [Info] 217 dense feature groups (6.58 MB) transferred to GPU in 0.096866 secs. 1 sparse feature groups\n",
      "threshold: 0.1883427499095313\n",
      "AUC-ROC: 0.9925329644205265\n",
      "Accuracy: 0.8637\n",
      "PR_AUC: 0.9935905943999522\n",
      "Epoch 75/300\n"
     ]
    },
    {
     "name": "stderr",
     "output_type": "stream",
     "text": [
      "c:\\Users\\FH-Deg\\.conda\\envs\\tf_c_gpu\\lib\\site-packages\\lightgbm\\basic.py:1192: UserWarning: Converting data to scipy sparse matrix.\n",
      "  _log_warning('Converting data to scipy sparse matrix.')\n"
     ]
    },
    {
     "name": "stdout",
     "output_type": "stream",
     "text": [
      "[LightGBM] [Info] Number of positive: 982, number of negative: 30366\n",
      "[LightGBM] [Info] This is the GPU trainer!!\n",
      "[LightGBM] [Info] Total Bins 99484\n",
      "[LightGBM] [Info] Number of data points in the train set: 31348, number of used features: 586\n",
      "[LightGBM] [Info] Using GPU Device: Quadro RTX 4000, Vendor: NVIDIA Corporation\n",
      "[LightGBM] [Info] Compiling OpenCL Kernel with 256 bins...\n",
      "[LightGBM] [Info] GPU programs have been built\n",
      "[LightGBM] [Info] Size of histogram bin entry: 8\n",
      "[LightGBM] [Info] 217 dense feature groups (6.58 MB) transferred to GPU in 0.060596 secs. 1 sparse feature groups\n",
      "threshold: 0.1885674121285733\n",
      "AUC-ROC: 0.9926011793623275\n",
      "Accuracy: 0.8636\n",
      "PR_AUC: 0.9936437669619564\n",
      "Epoch 76/300\n"
     ]
    },
    {
     "name": "stderr",
     "output_type": "stream",
     "text": [
      "c:\\Users\\FH-Deg\\.conda\\envs\\tf_c_gpu\\lib\\site-packages\\lightgbm\\basic.py:1192: UserWarning: Converting data to scipy sparse matrix.\n",
      "  _log_warning('Converting data to scipy sparse matrix.')\n"
     ]
    },
    {
     "name": "stdout",
     "output_type": "stream",
     "text": [
      "[LightGBM] [Info] Number of positive: 982, number of negative: 30366\n",
      "[LightGBM] [Info] This is the GPU trainer!!\n",
      "[LightGBM] [Info] Total Bins 99484\n",
      "[LightGBM] [Info] Number of data points in the train set: 31348, number of used features: 586\n",
      "[LightGBM] [Info] Using GPU Device: Quadro RTX 4000, Vendor: NVIDIA Corporation\n",
      "[LightGBM] [Info] Compiling OpenCL Kernel with 256 bins...\n",
      "[LightGBM] [Info] GPU programs have been built\n",
      "[LightGBM] [Info] Size of histogram bin entry: 8\n",
      "[LightGBM] [Info] 217 dense feature groups (6.58 MB) transferred to GPU in 0.059905 secs. 1 sparse feature groups\n",
      "threshold: 0.18832298337060002\n",
      "AUC-ROC: 0.9926307058298048\n",
      "Accuracy: 0.863\n",
      "PR_AUC: 0.9936737699569127\n",
      "Updating target policy...\n",
      "Epoch 77/300\n"
     ]
    },
    {
     "name": "stderr",
     "output_type": "stream",
     "text": [
      "c:\\Users\\FH-Deg\\.conda\\envs\\tf_c_gpu\\lib\\site-packages\\lightgbm\\basic.py:1192: UserWarning: Converting data to scipy sparse matrix.\n",
      "  _log_warning('Converting data to scipy sparse matrix.')\n"
     ]
    },
    {
     "name": "stdout",
     "output_type": "stream",
     "text": [
      "[LightGBM] [Info] Number of positive: 982, number of negative: 30366\n",
      "[LightGBM] [Info] This is the GPU trainer!!\n",
      "[LightGBM] [Info] Total Bins 99484\n",
      "[LightGBM] [Info] Number of data points in the train set: 31348, number of used features: 586\n",
      "[LightGBM] [Info] Using GPU Device: Quadro RTX 4000, Vendor: NVIDIA Corporation\n",
      "[LightGBM] [Info] Compiling OpenCL Kernel with 256 bins...\n",
      "[LightGBM] [Info] GPU programs have been built\n",
      "[LightGBM] [Info] Size of histogram bin entry: 8\n",
      "[LightGBM] [Info] 217 dense feature groups (6.58 MB) transferred to GPU in 0.069369 secs. 1 sparse feature groups\n",
      "threshold: 0.18842614324968335\n",
      "AUC-ROC: 0.9926579117889982\n",
      "Accuracy: 0.8626\n",
      "PR_AUC: 0.993699767849912\n",
      "Epoch 78/300\n"
     ]
    },
    {
     "name": "stderr",
     "output_type": "stream",
     "text": [
      "c:\\Users\\FH-Deg\\.conda\\envs\\tf_c_gpu\\lib\\site-packages\\lightgbm\\basic.py:1192: UserWarning: Converting data to scipy sparse matrix.\n",
      "  _log_warning('Converting data to scipy sparse matrix.')\n"
     ]
    },
    {
     "name": "stdout",
     "output_type": "stream",
     "text": [
      "[LightGBM] [Info] Number of positive: 982, number of negative: 30366\n",
      "[LightGBM] [Info] This is the GPU trainer!!\n",
      "[LightGBM] [Info] Total Bins 99484\n",
      "[LightGBM] [Info] Number of data points in the train set: 31348, number of used features: 586\n",
      "[LightGBM] [Info] Using GPU Device: Quadro RTX 4000, Vendor: NVIDIA Corporation\n",
      "[LightGBM] [Info] Compiling OpenCL Kernel with 256 bins...\n",
      "[LightGBM] [Info] GPU programs have been built\n",
      "[LightGBM] [Info] Size of histogram bin entry: 8\n",
      "[LightGBM] [Info] 217 dense feature groups (6.58 MB) transferred to GPU in 0.102700 secs. 1 sparse feature groups\n",
      "threshold: 0.18885100176969857\n",
      "AUC-ROC: 0.9927080827784517\n",
      "Accuracy: 0.8618\n",
      "PR_AUC: 0.9937315570042514\n",
      "Epoch 79/300\n"
     ]
    },
    {
     "name": "stderr",
     "output_type": "stream",
     "text": [
      "c:\\Users\\FH-Deg\\.conda\\envs\\tf_c_gpu\\lib\\site-packages\\lightgbm\\basic.py:1192: UserWarning: Converting data to scipy sparse matrix.\n",
      "  _log_warning('Converting data to scipy sparse matrix.')\n"
     ]
    },
    {
     "name": "stdout",
     "output_type": "stream",
     "text": [
      "[LightGBM] [Info] Number of positive: 982, number of negative: 30366\n",
      "[LightGBM] [Info] This is the GPU trainer!!\n",
      "[LightGBM] [Info] Total Bins 99484\n",
      "[LightGBM] [Info] Number of data points in the train set: 31348, number of used features: 586\n",
      "[LightGBM] [Info] Using GPU Device: Quadro RTX 4000, Vendor: NVIDIA Corporation\n",
      "[LightGBM] [Info] Compiling OpenCL Kernel with 256 bins...\n",
      "[LightGBM] [Info] GPU programs have been built\n",
      "[LightGBM] [Info] Size of histogram bin entry: 8\n",
      "[LightGBM] [Info] 217 dense feature groups (6.58 MB) transferred to GPU in 0.062072 secs. 1 sparse feature groups\n",
      "threshold: 0.18859846039960737\n",
      "AUC-ROC: 0.9927264468009072\n",
      "Accuracy: 0.8615\n",
      "PR_AUC: 0.9937447364941018\n",
      "Updating target policy...\n",
      "Epoch 80/300\n"
     ]
    },
    {
     "name": "stderr",
     "output_type": "stream",
     "text": [
      "c:\\Users\\FH-Deg\\.conda\\envs\\tf_c_gpu\\lib\\site-packages\\lightgbm\\basic.py:1192: UserWarning: Converting data to scipy sparse matrix.\n",
      "  _log_warning('Converting data to scipy sparse matrix.')\n"
     ]
    },
    {
     "name": "stdout",
     "output_type": "stream",
     "text": [
      "[LightGBM] [Info] Number of positive: 982, number of negative: 30366\n",
      "[LightGBM] [Info] This is the GPU trainer!!\n",
      "[LightGBM] [Info] Total Bins 99484\n",
      "[LightGBM] [Info] Number of data points in the train set: 31348, number of used features: 586\n",
      "[LightGBM] [Info] Using GPU Device: Quadro RTX 4000, Vendor: NVIDIA Corporation\n",
      "[LightGBM] [Info] Compiling OpenCL Kernel with 256 bins...\n",
      "[LightGBM] [Info] GPU programs have been built\n",
      "[LightGBM] [Info] Size of histogram bin entry: 8\n",
      "[LightGBM] [Info] 217 dense feature groups (6.58 MB) transferred to GPU in 0.078715 secs. 1 sparse feature groups\n",
      "threshold: 0.18850069046977344\n",
      "AUC-ROC: 0.9927669356695891\n",
      "Accuracy: 0.8615\n",
      "PR_AUC: 0.9937801446641003\n",
      "Epoch 81/300\n"
     ]
    },
    {
     "name": "stderr",
     "output_type": "stream",
     "text": [
      "c:\\Users\\FH-Deg\\.conda\\envs\\tf_c_gpu\\lib\\site-packages\\lightgbm\\basic.py:1192: UserWarning: Converting data to scipy sparse matrix.\n",
      "  _log_warning('Converting data to scipy sparse matrix.')\n"
     ]
    },
    {
     "name": "stdout",
     "output_type": "stream",
     "text": [
      "[LightGBM] [Info] Number of positive: 982, number of negative: 30366\n",
      "[LightGBM] [Info] This is the GPU trainer!!\n",
      "[LightGBM] [Info] Total Bins 99484\n",
      "[LightGBM] [Info] Number of data points in the train set: 31348, number of used features: 586\n",
      "[LightGBM] [Info] Using GPU Device: Quadro RTX 4000, Vendor: NVIDIA Corporation\n",
      "[LightGBM] [Info] Compiling OpenCL Kernel with 256 bins...\n",
      "[LightGBM] [Info] GPU programs have been built\n",
      "[LightGBM] [Info] Size of histogram bin entry: 8\n",
      "[LightGBM] [Info] 217 dense feature groups (6.58 MB) transferred to GPU in 0.059770 secs. 1 sparse feature groups\n",
      "threshold: 0.1884942008864468\n",
      "AUC-ROC: 0.9927910209452278\n",
      "Accuracy: 0.8611\n",
      "PR_AUC: 0.9938036078045778\n",
      "Epoch 82/300\n"
     ]
    },
    {
     "name": "stderr",
     "output_type": "stream",
     "text": [
      "c:\\Users\\FH-Deg\\.conda\\envs\\tf_c_gpu\\lib\\site-packages\\lightgbm\\basic.py:1192: UserWarning: Converting data to scipy sparse matrix.\n",
      "  _log_warning('Converting data to scipy sparse matrix.')\n"
     ]
    },
    {
     "name": "stdout",
     "output_type": "stream",
     "text": [
      "[LightGBM] [Info] Number of positive: 982, number of negative: 30366\n",
      "[LightGBM] [Info] This is the GPU trainer!!\n",
      "[LightGBM] [Info] Total Bins 99484\n",
      "[LightGBM] [Info] Number of data points in the train set: 31348, number of used features: 586\n",
      "[LightGBM] [Info] Using GPU Device: Quadro RTX 4000, Vendor: NVIDIA Corporation\n",
      "[LightGBM] [Info] Compiling OpenCL Kernel with 256 bins...\n",
      "[LightGBM] [Info] GPU programs have been built\n",
      "[LightGBM] [Info] Size of histogram bin entry: 8\n",
      "[LightGBM] [Info] 217 dense feature groups (6.58 MB) transferred to GPU in 0.069657 secs. 1 sparse feature groups\n",
      "threshold: 0.18821877655330863\n",
      "AUC-ROC: 0.992784419499247\n",
      "Accuracy: 0.8611\n",
      "PR_AUC: 0.993803647112659\n",
      "Updating target policy...\n",
      "Epoch 83/300\n"
     ]
    },
    {
     "name": "stderr",
     "output_type": "stream",
     "text": [
      "c:\\Users\\FH-Deg\\.conda\\envs\\tf_c_gpu\\lib\\site-packages\\lightgbm\\basic.py:1192: UserWarning: Converting data to scipy sparse matrix.\n",
      "  _log_warning('Converting data to scipy sparse matrix.')\n"
     ]
    },
    {
     "name": "stdout",
     "output_type": "stream",
     "text": [
      "[LightGBM] [Info] Number of positive: 982, number of negative: 30366\n",
      "[LightGBM] [Info] This is the GPU trainer!!\n",
      "[LightGBM] [Info] Total Bins 99484\n",
      "[LightGBM] [Info] Number of data points in the train set: 31348, number of used features: 586\n",
      "[LightGBM] [Info] Using GPU Device: Quadro RTX 4000, Vendor: NVIDIA Corporation\n",
      "[LightGBM] [Info] Compiling OpenCL Kernel with 256 bins...\n",
      "[LightGBM] [Info] GPU programs have been built\n",
      "[LightGBM] [Info] Size of histogram bin entry: 8\n",
      "[LightGBM] [Info] 217 dense feature groups (6.58 MB) transferred to GPU in 0.063563 secs. 1 sparse feature groups\n",
      "threshold: 0.1883837967430356\n",
      "AUC-ROC: 0.9927883003493084\n",
      "Accuracy: 0.8605\n",
      "PR_AUC: 0.9938121089983964\n",
      "Epoch 84/300\n"
     ]
    },
    {
     "name": "stderr",
     "output_type": "stream",
     "text": [
      "c:\\Users\\FH-Deg\\.conda\\envs\\tf_c_gpu\\lib\\site-packages\\lightgbm\\basic.py:1192: UserWarning: Converting data to scipy sparse matrix.\n",
      "  _log_warning('Converting data to scipy sparse matrix.')\n"
     ]
    },
    {
     "name": "stdout",
     "output_type": "stream",
     "text": [
      "[LightGBM] [Info] Number of positive: 982, number of negative: 30366\n",
      "[LightGBM] [Info] This is the GPU trainer!!\n",
      "[LightGBM] [Info] Total Bins 99484\n",
      "[LightGBM] [Info] Number of data points in the train set: 31348, number of used features: 586\n",
      "[LightGBM] [Info] Using GPU Device: Quadro RTX 4000, Vendor: NVIDIA Corporation\n",
      "[LightGBM] [Info] Compiling OpenCL Kernel with 256 bins...\n",
      "[LightGBM] [Info] GPU programs have been built\n",
      "[LightGBM] [Info] Size of histogram bin entry: 8\n",
      "[LightGBM] [Info] 217 dense feature groups (6.58 MB) transferred to GPU in 0.067760 secs. 1 sparse feature groups\n",
      "threshold: 0.188211645651803\n",
      "AUC-ROC: 0.9928143860631232\n",
      "Accuracy: 0.8609\n",
      "PR_AUC: 0.9938338195190716\n",
      "Epoch 85/300\n"
     ]
    },
    {
     "name": "stderr",
     "output_type": "stream",
     "text": [
      "c:\\Users\\FH-Deg\\.conda\\envs\\tf_c_gpu\\lib\\site-packages\\lightgbm\\basic.py:1192: UserWarning: Converting data to scipy sparse matrix.\n",
      "  _log_warning('Converting data to scipy sparse matrix.')\n"
     ]
    },
    {
     "name": "stdout",
     "output_type": "stream",
     "text": [
      "[LightGBM] [Info] Number of positive: 982, number of negative: 30366\n",
      "[LightGBM] [Info] This is the GPU trainer!!\n",
      "[LightGBM] [Info] Total Bins 99484\n",
      "[LightGBM] [Info] Number of data points in the train set: 31348, number of used features: 586\n",
      "[LightGBM] [Info] Using GPU Device: Quadro RTX 4000, Vendor: NVIDIA Corporation\n",
      "[LightGBM] [Info] Compiling OpenCL Kernel with 256 bins...\n",
      "[LightGBM] [Info] GPU programs have been built\n",
      "[LightGBM] [Info] Size of histogram bin entry: 8\n",
      "[LightGBM] [Info] 217 dense feature groups (6.58 MB) transferred to GPU in 0.070732 secs. 1 sparse feature groups\n",
      "threshold: 0.1879621344330668\n",
      "AUC-ROC: 0.992857035405035\n",
      "Accuracy: 0.861\n",
      "PR_AUC: 0.9938751551172692\n",
      "Updating target policy...\n",
      "Epoch 86/300\n"
     ]
    },
    {
     "name": "stderr",
     "output_type": "stream",
     "text": [
      "c:\\Users\\FH-Deg\\.conda\\envs\\tf_c_gpu\\lib\\site-packages\\lightgbm\\basic.py:1192: UserWarning: Converting data to scipy sparse matrix.\n",
      "  _log_warning('Converting data to scipy sparse matrix.')\n"
     ]
    },
    {
     "name": "stdout",
     "output_type": "stream",
     "text": [
      "[LightGBM] [Info] Number of positive: 982, number of negative: 30366\n",
      "[LightGBM] [Info] This is the GPU trainer!!\n",
      "[LightGBM] [Info] Total Bins 99484\n",
      "[LightGBM] [Info] Number of data points in the train set: 31348, number of used features: 586\n",
      "[LightGBM] [Info] Using GPU Device: Quadro RTX 4000, Vendor: NVIDIA Corporation\n",
      "[LightGBM] [Info] Compiling OpenCL Kernel with 256 bins...\n",
      "[LightGBM] [Info] GPU programs have been built\n",
      "[LightGBM] [Info] Size of histogram bin entry: 8\n",
      "[LightGBM] [Info] 217 dense feature groups (6.58 MB) transferred to GPU in 0.058675 secs. 1 sparse feature groups\n",
      "threshold: 0.18795577734329405\n",
      "AUC-ROC: 0.9929010050361431\n",
      "Accuracy: 0.86\n",
      "PR_AUC: 0.9939044199193641\n",
      "Epoch 87/300\n"
     ]
    },
    {
     "name": "stderr",
     "output_type": "stream",
     "text": [
      "c:\\Users\\FH-Deg\\.conda\\envs\\tf_c_gpu\\lib\\site-packages\\lightgbm\\basic.py:1192: UserWarning: Converting data to scipy sparse matrix.\n",
      "  _log_warning('Converting data to scipy sparse matrix.')\n"
     ]
    },
    {
     "name": "stdout",
     "output_type": "stream",
     "text": [
      "[LightGBM] [Info] Number of positive: 982, number of negative: 30366\n",
      "[LightGBM] [Info] This is the GPU trainer!!\n",
      "[LightGBM] [Info] Total Bins 99484\n",
      "[LightGBM] [Info] Number of data points in the train set: 31348, number of used features: 586\n",
      "[LightGBM] [Info] Using GPU Device: Quadro RTX 4000, Vendor: NVIDIA Corporation\n",
      "[LightGBM] [Info] Compiling OpenCL Kernel with 256 bins...\n",
      "[LightGBM] [Info] GPU programs have been built\n",
      "[LightGBM] [Info] Size of histogram bin entry: 8\n",
      "[LightGBM] [Info] 217 dense feature groups (6.58 MB) transferred to GPU in 0.095774 secs. 1 sparse feature groups\n",
      "threshold: 0.18784893585902449\n",
      "AUC-ROC: 0.9929497757188732\n",
      "Accuracy: 0.8599\n",
      "PR_AUC: 0.9939410376295432\n",
      "Epoch 88/300\n"
     ]
    },
    {
     "name": "stderr",
     "output_type": "stream",
     "text": [
      "c:\\Users\\FH-Deg\\.conda\\envs\\tf_c_gpu\\lib\\site-packages\\lightgbm\\basic.py:1192: UserWarning: Converting data to scipy sparse matrix.\n",
      "  _log_warning('Converting data to scipy sparse matrix.')\n"
     ]
    },
    {
     "name": "stdout",
     "output_type": "stream",
     "text": [
      "[LightGBM] [Info] Number of positive: 982, number of negative: 30366\n",
      "[LightGBM] [Info] This is the GPU trainer!!\n",
      "[LightGBM] [Info] Total Bins 99484\n",
      "[LightGBM] [Info] Number of data points in the train set: 31348, number of used features: 586\n",
      "[LightGBM] [Info] Using GPU Device: Quadro RTX 4000, Vendor: NVIDIA Corporation\n",
      "[LightGBM] [Info] Compiling OpenCL Kernel with 256 bins...\n",
      "[LightGBM] [Info] GPU programs have been built\n",
      "[LightGBM] [Info] Size of histogram bin entry: 8\n",
      "[LightGBM] [Info] 217 dense feature groups (6.58 MB) transferred to GPU in 0.065085 secs. 1 sparse feature groups\n",
      "threshold: 0.1874752357046187\n",
      "AUC-ROC: 0.9929777418445738\n",
      "Accuracy: 0.8602\n",
      "PR_AUC: 0.9939607204327037\n",
      "Updating target policy...\n",
      "Epoch 89/300\n"
     ]
    },
    {
     "name": "stderr",
     "output_type": "stream",
     "text": [
      "c:\\Users\\FH-Deg\\.conda\\envs\\tf_c_gpu\\lib\\site-packages\\lightgbm\\basic.py:1192: UserWarning: Converting data to scipy sparse matrix.\n",
      "  _log_warning('Converting data to scipy sparse matrix.')\n"
     ]
    },
    {
     "name": "stdout",
     "output_type": "stream",
     "text": [
      "[LightGBM] [Info] Number of positive: 982, number of negative: 30366\n",
      "[LightGBM] [Info] This is the GPU trainer!!\n",
      "[LightGBM] [Info] Total Bins 99484\n",
      "[LightGBM] [Info] Number of data points in the train set: 31348, number of used features: 586\n",
      "[LightGBM] [Info] Using GPU Device: Quadro RTX 4000, Vendor: NVIDIA Corporation\n",
      "[LightGBM] [Info] Compiling OpenCL Kernel with 256 bins...\n",
      "[LightGBM] [Info] GPU programs have been built\n",
      "[LightGBM] [Info] Size of histogram bin entry: 8\n",
      "[LightGBM] [Info] 217 dense feature groups (6.58 MB) transferred to GPU in 0.159574 secs. 1 sparse feature groups\n",
      "threshold: 0.18775610133012297\n",
      "AUC-ROC: 0.9929997466645094\n",
      "Accuracy: 0.8593\n",
      "PR_AUC: 0.9939804398791715\n",
      "Epoch 90/300\n"
     ]
    },
    {
     "name": "stderr",
     "output_type": "stream",
     "text": [
      "c:\\Users\\FH-Deg\\.conda\\envs\\tf_c_gpu\\lib\\site-packages\\lightgbm\\basic.py:1192: UserWarning: Converting data to scipy sparse matrix.\n",
      "  _log_warning('Converting data to scipy sparse matrix.')\n"
     ]
    },
    {
     "name": "stdout",
     "output_type": "stream",
     "text": [
      "[LightGBM] [Info] Number of positive: 982, number of negative: 30366\n",
      "[LightGBM] [Info] This is the GPU trainer!!\n",
      "[LightGBM] [Info] Total Bins 99484\n",
      "[LightGBM] [Info] Number of data points in the train set: 31348, number of used features: 586\n",
      "[LightGBM] [Info] Using GPU Device: Quadro RTX 4000, Vendor: NVIDIA Corporation\n",
      "[LightGBM] [Info] Compiling OpenCL Kernel with 256 bins...\n",
      "[LightGBM] [Info] GPU programs have been built\n",
      "[LightGBM] [Info] Size of histogram bin entry: 8\n",
      "[LightGBM] [Info] 217 dense feature groups (6.58 MB) transferred to GPU in 0.098982 secs. 1 sparse feature groups\n",
      "threshold: 0.18765614618127438\n",
      "AUC-ROC: 0.9930605999938227\n",
      "Accuracy: 0.859\n",
      "PR_AUC: 0.9940233674548274\n",
      "Epoch 91/300\n"
     ]
    },
    {
     "name": "stderr",
     "output_type": "stream",
     "text": [
      "c:\\Users\\FH-Deg\\.conda\\envs\\tf_c_gpu\\lib\\site-packages\\lightgbm\\basic.py:1192: UserWarning: Converting data to scipy sparse matrix.\n",
      "  _log_warning('Converting data to scipy sparse matrix.')\n"
     ]
    },
    {
     "name": "stdout",
     "output_type": "stream",
     "text": [
      "[LightGBM] [Info] Number of positive: 982, number of negative: 30366\n",
      "[LightGBM] [Info] This is the GPU trainer!!\n",
      "[LightGBM] [Info] Total Bins 99484\n",
      "[LightGBM] [Info] Number of data points in the train set: 31348, number of used features: 586\n",
      "[LightGBM] [Info] Using GPU Device: Quadro RTX 4000, Vendor: NVIDIA Corporation\n",
      "[LightGBM] [Info] Compiling OpenCL Kernel with 256 bins...\n",
      "[LightGBM] [Info] GPU programs have been built\n",
      "[LightGBM] [Info] Size of histogram bin entry: 8\n",
      "[LightGBM] [Info] 217 dense feature groups (6.58 MB) transferred to GPU in 0.078529 secs. 1 sparse feature groups\n",
      "threshold: 0.1872465209983711\n",
      "AUC-ROC: 0.9930923269432936\n",
      "Accuracy: 0.8592\n",
      "PR_AUC: 0.9940511953239142\n",
      "Updating target policy...\n",
      "Epoch 92/300\n"
     ]
    },
    {
     "name": "stderr",
     "output_type": "stream",
     "text": [
      "c:\\Users\\FH-Deg\\.conda\\envs\\tf_c_gpu\\lib\\site-packages\\lightgbm\\basic.py:1192: UserWarning: Converting data to scipy sparse matrix.\n",
      "  _log_warning('Converting data to scipy sparse matrix.')\n"
     ]
    },
    {
     "name": "stdout",
     "output_type": "stream",
     "text": [
      "[LightGBM] [Info] Number of positive: 982, number of negative: 30366\n",
      "[LightGBM] [Info] This is the GPU trainer!!\n",
      "[LightGBM] [Info] Total Bins 99484\n",
      "[LightGBM] [Info] Number of data points in the train set: 31348, number of used features: 586\n",
      "[LightGBM] [Info] Using GPU Device: Quadro RTX 4000, Vendor: NVIDIA Corporation\n",
      "[LightGBM] [Info] Compiling OpenCL Kernel with 256 bins...\n",
      "[LightGBM] [Info] GPU programs have been built\n",
      "[LightGBM] [Info] Size of histogram bin entry: 8\n",
      "[LightGBM] [Info] 217 dense feature groups (6.58 MB) transferred to GPU in 0.080693 secs. 1 sparse feature groups\n",
      "threshold: 0.18746102312357327\n",
      "AUC-ROC: 0.9931366966620369\n",
      "Accuracy: 0.8582\n",
      "PR_AUC: 0.9940898252898964\n",
      "Epoch 93/300\n"
     ]
    },
    {
     "name": "stderr",
     "output_type": "stream",
     "text": [
      "c:\\Users\\FH-Deg\\.conda\\envs\\tf_c_gpu\\lib\\site-packages\\lightgbm\\basic.py:1192: UserWarning: Converting data to scipy sparse matrix.\n",
      "  _log_warning('Converting data to scipy sparse matrix.')\n"
     ]
    },
    {
     "name": "stdout",
     "output_type": "stream",
     "text": [
      "[LightGBM] [Info] Number of positive: 982, number of negative: 30366\n",
      "[LightGBM] [Info] This is the GPU trainer!!\n",
      "[LightGBM] [Info] Total Bins 99484\n",
      "[LightGBM] [Info] Number of data points in the train set: 31348, number of used features: 586\n",
      "[LightGBM] [Info] Using GPU Device: Quadro RTX 4000, Vendor: NVIDIA Corporation\n",
      "[LightGBM] [Info] Compiling OpenCL Kernel with 256 bins...\n",
      "[LightGBM] [Info] GPU programs have been built\n",
      "[LightGBM] [Info] Size of histogram bin entry: 8\n",
      "[LightGBM] [Info] 217 dense feature groups (6.58 MB) transferred to GPU in 0.071370 secs. 1 sparse feature groups\n",
      "threshold: 0.18711145727574546\n",
      "AUC-ROC: 0.9932001505609788\n",
      "Accuracy: 0.8584\n",
      "PR_AUC: 0.9941435781870227\n",
      "Epoch 94/300\n"
     ]
    },
    {
     "name": "stderr",
     "output_type": "stream",
     "text": [
      "c:\\Users\\FH-Deg\\.conda\\envs\\tf_c_gpu\\lib\\site-packages\\lightgbm\\basic.py:1192: UserWarning: Converting data to scipy sparse matrix.\n",
      "  _log_warning('Converting data to scipy sparse matrix.')\n"
     ]
    },
    {
     "name": "stdout",
     "output_type": "stream",
     "text": [
      "[LightGBM] [Info] Number of positive: 982, number of negative: 30366\n",
      "[LightGBM] [Info] This is the GPU trainer!!\n",
      "[LightGBM] [Info] Total Bins 99484\n",
      "[LightGBM] [Info] Number of data points in the train set: 31348, number of used features: 586\n",
      "[LightGBM] [Info] Using GPU Device: Quadro RTX 4000, Vendor: NVIDIA Corporation\n",
      "[LightGBM] [Info] Compiling OpenCL Kernel with 256 bins...\n",
      "[LightGBM] [Info] GPU programs have been built\n",
      "[LightGBM] [Info] Size of histogram bin entry: 8\n",
      "[LightGBM] [Info] 217 dense feature groups (6.58 MB) transferred to GPU in 0.084020 secs. 1 sparse feature groups\n",
      "threshold: 0.18723834793646374\n",
      "AUC-ROC: 0.9932262762835571\n",
      "Accuracy: 0.8577\n",
      "PR_AUC: 0.994161704359542\n",
      "Updating target policy...\n",
      "Epoch 95/300\n"
     ]
    },
    {
     "name": "stderr",
     "output_type": "stream",
     "text": [
      "c:\\Users\\FH-Deg\\.conda\\envs\\tf_c_gpu\\lib\\site-packages\\lightgbm\\basic.py:1192: UserWarning: Converting data to scipy sparse matrix.\n",
      "  _log_warning('Converting data to scipy sparse matrix.')\n"
     ]
    },
    {
     "name": "stdout",
     "output_type": "stream",
     "text": [
      "[LightGBM] [Info] Number of positive: 982, number of negative: 30366\n",
      "[LightGBM] [Info] This is the GPU trainer!!\n",
      "[LightGBM] [Info] Total Bins 99484\n",
      "[LightGBM] [Info] Number of data points in the train set: 31348, number of used features: 586\n",
      "[LightGBM] [Info] Using GPU Device: Quadro RTX 4000, Vendor: NVIDIA Corporation\n",
      "[LightGBM] [Info] Compiling OpenCL Kernel with 256 bins...\n",
      "[LightGBM] [Info] GPU programs have been built\n",
      "[LightGBM] [Info] Size of histogram bin entry: 8\n",
      "[LightGBM] [Info] 217 dense feature groups (6.58 MB) transferred to GPU in 0.096309 secs. 1 sparse feature groups\n",
      "threshold: 0.18715395392347517\n",
      "AUC-ROC: 0.9932550825932912\n",
      "Accuracy: 0.8576\n",
      "PR_AUC: 0.9941857874824807\n",
      "Epoch 96/300\n"
     ]
    },
    {
     "name": "stderr",
     "output_type": "stream",
     "text": [
      "c:\\Users\\FH-Deg\\.conda\\envs\\tf_c_gpu\\lib\\site-packages\\lightgbm\\basic.py:1192: UserWarning: Converting data to scipy sparse matrix.\n",
      "  _log_warning('Converting data to scipy sparse matrix.')\n"
     ]
    },
    {
     "name": "stdout",
     "output_type": "stream",
     "text": [
      "[LightGBM] [Info] Number of positive: 982, number of negative: 30366\n",
      "[LightGBM] [Info] This is the GPU trainer!!\n",
      "[LightGBM] [Info] Total Bins 99484\n",
      "[LightGBM] [Info] Number of data points in the train set: 31348, number of used features: 586\n",
      "[LightGBM] [Info] Using GPU Device: Quadro RTX 4000, Vendor: NVIDIA Corporation\n",
      "[LightGBM] [Info] Compiling OpenCL Kernel with 256 bins...\n",
      "[LightGBM] [Info] GPU programs have been built\n",
      "[LightGBM] [Info] Size of histogram bin entry: 8\n",
      "[LightGBM] [Info] 217 dense feature groups (6.58 MB) transferred to GPU in 0.058642 secs. 1 sparse feature groups\n",
      "threshold: 0.18699734323078118\n",
      "AUC-ROC: 0.993279247886457\n",
      "Accuracy: 0.8575\n",
      "PR_AUC: 0.9942042095117998\n",
      "Epoch 97/300\n"
     ]
    },
    {
     "name": "stderr",
     "output_type": "stream",
     "text": [
      "c:\\Users\\FH-Deg\\.conda\\envs\\tf_c_gpu\\lib\\site-packages\\lightgbm\\basic.py:1192: UserWarning: Converting data to scipy sparse matrix.\n",
      "  _log_warning('Converting data to scipy sparse matrix.')\n"
     ]
    },
    {
     "name": "stdout",
     "output_type": "stream",
     "text": [
      "[LightGBM] [Info] Number of positive: 982, number of negative: 30366\n",
      "[LightGBM] [Info] This is the GPU trainer!!\n",
      "[LightGBM] [Info] Total Bins 99484\n",
      "[LightGBM] [Info] Number of data points in the train set: 31348, number of used features: 586\n",
      "[LightGBM] [Info] Using GPU Device: Quadro RTX 4000, Vendor: NVIDIA Corporation\n",
      "[LightGBM] [Info] Compiling OpenCL Kernel with 256 bins...\n",
      "[LightGBM] [Info] GPU programs have been built\n",
      "[LightGBM] [Info] Size of histogram bin entry: 8\n",
      "[LightGBM] [Info] 217 dense feature groups (6.58 MB) transferred to GPU in 0.097857 secs. 1 sparse feature groups\n",
      "threshold: 0.18641310933926278\n",
      "AUC-ROC: 0.9932892100685733\n",
      "Accuracy: 0.8568\n",
      "PR_AUC: 0.9942166217051803\n",
      "Updating target policy...\n",
      "Epoch 98/300\n"
     ]
    },
    {
     "name": "stderr",
     "output_type": "stream",
     "text": [
      "c:\\Users\\FH-Deg\\.conda\\envs\\tf_c_gpu\\lib\\site-packages\\lightgbm\\basic.py:1192: UserWarning: Converting data to scipy sparse matrix.\n",
      "  _log_warning('Converting data to scipy sparse matrix.')\n"
     ]
    },
    {
     "name": "stdout",
     "output_type": "stream",
     "text": [
      "[LightGBM] [Info] Number of positive: 982, number of negative: 30366\n",
      "[LightGBM] [Info] This is the GPU trainer!!\n",
      "[LightGBM] [Info] Total Bins 99484\n",
      "[LightGBM] [Info] Number of data points in the train set: 31348, number of used features: 586\n",
      "[LightGBM] [Info] Using GPU Device: Quadro RTX 4000, Vendor: NVIDIA Corporation\n",
      "[LightGBM] [Info] Compiling OpenCL Kernel with 256 bins...\n",
      "[LightGBM] [Info] GPU programs have been built\n",
      "[LightGBM] [Info] Size of histogram bin entry: 8\n",
      "[LightGBM] [Info] 217 dense feature groups (6.58 MB) transferred to GPU in 0.056174 secs. 1 sparse feature groups\n",
      "threshold: 0.1862160104129396\n",
      "AUC-ROC: 0.9933213771144431\n",
      "Accuracy: 0.8566\n",
      "PR_AUC: 0.9942430331938269\n",
      "Epoch 99/300\n"
     ]
    },
    {
     "name": "stderr",
     "output_type": "stream",
     "text": [
      "c:\\Users\\FH-Deg\\.conda\\envs\\tf_c_gpu\\lib\\site-packages\\lightgbm\\basic.py:1192: UserWarning: Converting data to scipy sparse matrix.\n",
      "  _log_warning('Converting data to scipy sparse matrix.')\n"
     ]
    },
    {
     "name": "stdout",
     "output_type": "stream",
     "text": [
      "[LightGBM] [Info] Number of positive: 982, number of negative: 30366\n",
      "[LightGBM] [Info] This is the GPU trainer!!\n",
      "[LightGBM] [Info] Total Bins 99484\n",
      "[LightGBM] [Info] Number of data points in the train set: 31348, number of used features: 586\n",
      "[LightGBM] [Info] Using GPU Device: Quadro RTX 4000, Vendor: NVIDIA Corporation\n",
      "[LightGBM] [Info] Compiling OpenCL Kernel with 256 bins...\n",
      "[LightGBM] [Info] GPU programs have been built\n",
      "[LightGBM] [Info] Size of histogram bin entry: 8\n",
      "[LightGBM] [Info] 217 dense feature groups (6.58 MB) transferred to GPU in 0.081415 secs. 1 sparse feature groups\n",
      "threshold: 0.1863029532963167\n",
      "AUC-ROC: 0.9933506635293394\n",
      "Accuracy: 0.8561\n",
      "PR_AUC: 0.9942614718863275\n",
      "Epoch 100/300\n"
     ]
    },
    {
     "name": "stderr",
     "output_type": "stream",
     "text": [
      "c:\\Users\\FH-Deg\\.conda\\envs\\tf_c_gpu\\lib\\site-packages\\lightgbm\\basic.py:1192: UserWarning: Converting data to scipy sparse matrix.\n",
      "  _log_warning('Converting data to scipy sparse matrix.')\n"
     ]
    },
    {
     "name": "stdout",
     "output_type": "stream",
     "text": [
      "[LightGBM] [Info] Number of positive: 982, number of negative: 30366\n",
      "[LightGBM] [Info] This is the GPU trainer!!\n",
      "[LightGBM] [Info] Total Bins 99484\n",
      "[LightGBM] [Info] Number of data points in the train set: 31348, number of used features: 586\n",
      "[LightGBM] [Info] Using GPU Device: Quadro RTX 4000, Vendor: NVIDIA Corporation\n",
      "[LightGBM] [Info] Compiling OpenCL Kernel with 256 bins...\n",
      "[LightGBM] [Info] GPU programs have been built\n",
      "[LightGBM] [Info] Size of histogram bin entry: 8\n",
      "[LightGBM] [Info] 217 dense feature groups (6.58 MB) transferred to GPU in 0.059790 secs. 1 sparse feature groups\n",
      "threshold: 0.18652944948208297\n",
      "AUC-ROC: 0.9933599455624761\n",
      "Accuracy: 0.8551\n",
      "PR_AUC: 0.9942691367171439\n",
      "Updating target policy...\n",
      "Epoch 101/300\n"
     ]
    },
    {
     "name": "stderr",
     "output_type": "stream",
     "text": [
      "c:\\Users\\FH-Deg\\.conda\\envs\\tf_c_gpu\\lib\\site-packages\\lightgbm\\basic.py:1192: UserWarning: Converting data to scipy sparse matrix.\n",
      "  _log_warning('Converting data to scipy sparse matrix.')\n"
     ]
    },
    {
     "name": "stdout",
     "output_type": "stream",
     "text": [
      "[LightGBM] [Info] Number of positive: 982, number of negative: 30366\n",
      "[LightGBM] [Info] This is the GPU trainer!!\n",
      "[LightGBM] [Info] Total Bins 99484\n",
      "[LightGBM] [Info] Number of data points in the train set: 31348, number of used features: 586\n",
      "[LightGBM] [Info] Using GPU Device: Quadro RTX 4000, Vendor: NVIDIA Corporation\n",
      "[LightGBM] [Info] Compiling OpenCL Kernel with 256 bins...\n",
      "[LightGBM] [Info] GPU programs have been built\n",
      "[LightGBM] [Info] Size of histogram bin entry: 8\n",
      "[LightGBM] [Info] 217 dense feature groups (6.58 MB) transferred to GPU in 0.064553 secs. 1 sparse feature groups\n",
      "threshold: 0.1862802637455833\n",
      "AUC-ROC: 0.9933822704525199\n",
      "Accuracy: 0.8555\n",
      "PR_AUC: 0.9942927036731642\n",
      "Epoch 102/300\n"
     ]
    },
    {
     "name": "stderr",
     "output_type": "stream",
     "text": [
      "c:\\Users\\FH-Deg\\.conda\\envs\\tf_c_gpu\\lib\\site-packages\\lightgbm\\basic.py:1192: UserWarning: Converting data to scipy sparse matrix.\n",
      "  _log_warning('Converting data to scipy sparse matrix.')\n"
     ]
    },
    {
     "name": "stdout",
     "output_type": "stream",
     "text": [
      "[LightGBM] [Info] Number of positive: 982, number of negative: 30366\n",
      "[LightGBM] [Info] This is the GPU trainer!!\n",
      "[LightGBM] [Info] Total Bins 99484\n",
      "[LightGBM] [Info] Number of data points in the train set: 31348, number of used features: 586\n",
      "[LightGBM] [Info] Using GPU Device: Quadro RTX 4000, Vendor: NVIDIA Corporation\n",
      "[LightGBM] [Info] Compiling OpenCL Kernel with 256 bins...\n",
      "[LightGBM] [Info] GPU programs have been built\n",
      "[LightGBM] [Info] Size of histogram bin entry: 8\n",
      "[LightGBM] [Info] 217 dense feature groups (6.58 MB) transferred to GPU in 0.066567 secs. 1 sparse feature groups\n",
      "threshold: 0.18649813844701207\n",
      "AUC-ROC: 0.9934472446844756\n",
      "Accuracy: 0.8551\n",
      "PR_AUC: 0.9943432292429176\n",
      "Epoch 103/300\n"
     ]
    },
    {
     "name": "stderr",
     "output_type": "stream",
     "text": [
      "c:\\Users\\FH-Deg\\.conda\\envs\\tf_c_gpu\\lib\\site-packages\\lightgbm\\basic.py:1192: UserWarning: Converting data to scipy sparse matrix.\n",
      "  _log_warning('Converting data to scipy sparse matrix.')\n"
     ]
    },
    {
     "name": "stdout",
     "output_type": "stream",
     "text": [
      "[LightGBM] [Info] Number of positive: 982, number of negative: 30366\n",
      "[LightGBM] [Info] This is the GPU trainer!!\n",
      "[LightGBM] [Info] Total Bins 99484\n",
      "[LightGBM] [Info] Number of data points in the train set: 31348, number of used features: 586\n",
      "[LightGBM] [Info] Using GPU Device: Quadro RTX 4000, Vendor: NVIDIA Corporation\n",
      "[LightGBM] [Info] Compiling OpenCL Kernel with 256 bins...\n",
      "[LightGBM] [Info] GPU programs have been built\n",
      "[LightGBM] [Info] Size of histogram bin entry: 8\n",
      "[LightGBM] [Info] 217 dense feature groups (6.58 MB) transferred to GPU in 0.075124 secs. 1 sparse feature groups\n",
      "threshold: 0.18647845371052718\n",
      "AUC-ROC: 0.9934700496796818\n",
      "Accuracy: 0.8549\n",
      "PR_AUC: 0.9943599290938312\n",
      "Updating target policy...\n",
      "Epoch 104/300\n"
     ]
    },
    {
     "name": "stderr",
     "output_type": "stream",
     "text": [
      "c:\\Users\\FH-Deg\\.conda\\envs\\tf_c_gpu\\lib\\site-packages\\lightgbm\\basic.py:1192: UserWarning: Converting data to scipy sparse matrix.\n",
      "  _log_warning('Converting data to scipy sparse matrix.')\n"
     ]
    },
    {
     "name": "stdout",
     "output_type": "stream",
     "text": [
      "[LightGBM] [Info] Number of positive: 982, number of negative: 30366\n",
      "[LightGBM] [Info] This is the GPU trainer!!\n",
      "[LightGBM] [Info] Total Bins 99484\n",
      "[LightGBM] [Info] Number of data points in the train set: 31348, number of used features: 586\n",
      "[LightGBM] [Info] Using GPU Device: Quadro RTX 4000, Vendor: NVIDIA Corporation\n",
      "[LightGBM] [Info] Compiling OpenCL Kernel with 256 bins...\n",
      "[LightGBM] [Info] GPU programs have been built\n",
      "[LightGBM] [Info] Size of histogram bin entry: 8\n",
      "[LightGBM] [Info] 217 dense feature groups (6.58 MB) transferred to GPU in 0.081641 secs. 1 sparse feature groups\n",
      "threshold: 0.18649954531020677\n",
      "AUC-ROC: 0.993476451081845\n",
      "Accuracy: 0.8543\n",
      "PR_AUC: 0.9943656899633571\n",
      "Epoch 105/300\n"
     ]
    },
    {
     "name": "stderr",
     "output_type": "stream",
     "text": [
      "c:\\Users\\FH-Deg\\.conda\\envs\\tf_c_gpu\\lib\\site-packages\\lightgbm\\basic.py:1192: UserWarning: Converting data to scipy sparse matrix.\n",
      "  _log_warning('Converting data to scipy sparse matrix.')\n"
     ]
    },
    {
     "name": "stdout",
     "output_type": "stream",
     "text": [
      "[LightGBM] [Info] Number of positive: 982, number of negative: 30366\n",
      "[LightGBM] [Info] This is the GPU trainer!!\n",
      "[LightGBM] [Info] Total Bins 99484\n",
      "[LightGBM] [Info] Number of data points in the train set: 31348, number of used features: 586\n",
      "[LightGBM] [Info] Using GPU Device: Quadro RTX 4000, Vendor: NVIDIA Corporation\n",
      "[LightGBM] [Info] Compiling OpenCL Kernel with 256 bins...\n",
      "[LightGBM] [Info] GPU programs have been built\n",
      "[LightGBM] [Info] Size of histogram bin entry: 8\n",
      "[LightGBM] [Info] 217 dense feature groups (6.58 MB) transferred to GPU in 0.079878 secs. 1 sparse feature groups\n",
      "threshold: 0.18599847441271192\n",
      "AUC-ROC: 0.9934900140526782\n",
      "Accuracy: 0.8541\n",
      "PR_AUC: 0.9943796930155874\n",
      "Epoch 106/300\n"
     ]
    },
    {
     "name": "stderr",
     "output_type": "stream",
     "text": [
      "c:\\Users\\FH-Deg\\.conda\\envs\\tf_c_gpu\\lib\\site-packages\\lightgbm\\basic.py:1192: UserWarning: Converting data to scipy sparse matrix.\n",
      "  _log_warning('Converting data to scipy sparse matrix.')\n"
     ]
    },
    {
     "name": "stdout",
     "output_type": "stream",
     "text": [
      "[LightGBM] [Info] Number of positive: 982, number of negative: 30366\n",
      "[LightGBM] [Info] This is the GPU trainer!!\n",
      "[LightGBM] [Info] Total Bins 99484\n",
      "[LightGBM] [Info] Number of data points in the train set: 31348, number of used features: 586\n",
      "[LightGBM] [Info] Using GPU Device: Quadro RTX 4000, Vendor: NVIDIA Corporation\n",
      "[LightGBM] [Info] Compiling OpenCL Kernel with 256 bins...\n",
      "[LightGBM] [Info] GPU programs have been built\n",
      "[LightGBM] [Info] Size of histogram bin entry: 8\n",
      "[LightGBM] [Info] 217 dense feature groups (6.58 MB) transferred to GPU in 0.074919 secs. 1 sparse feature groups\n",
      "threshold: 0.18603467717710517\n",
      "AUC-ROC: 0.9935124189602489\n",
      "Accuracy: 0.8543\n",
      "PR_AUC: 0.9943985511717611\n",
      "Updating target policy...\n",
      "Epoch 107/300\n"
     ]
    },
    {
     "name": "stderr",
     "output_type": "stream",
     "text": [
      "c:\\Users\\FH-Deg\\.conda\\envs\\tf_c_gpu\\lib\\site-packages\\lightgbm\\basic.py:1192: UserWarning: Converting data to scipy sparse matrix.\n",
      "  _log_warning('Converting data to scipy sparse matrix.')\n"
     ]
    },
    {
     "name": "stdout",
     "output_type": "stream",
     "text": [
      "[LightGBM] [Info] Number of positive: 982, number of negative: 30366\n",
      "[LightGBM] [Info] This is the GPU trainer!!\n",
      "[LightGBM] [Info] Total Bins 99484\n",
      "[LightGBM] [Info] Number of data points in the train set: 31348, number of used features: 586\n",
      "[LightGBM] [Info] Using GPU Device: Quadro RTX 4000, Vendor: NVIDIA Corporation\n",
      "[LightGBM] [Info] Compiling OpenCL Kernel with 256 bins...\n",
      "[LightGBM] [Info] GPU programs have been built\n",
      "[LightGBM] [Info] Size of histogram bin entry: 8\n",
      "[LightGBM] [Info] 217 dense feature groups (6.58 MB) transferred to GPU in 0.059868 secs. 1 sparse feature groups\n",
      "threshold: 0.18590004847676128\n",
      "AUC-ROC: 0.9935359441131986\n",
      "Accuracy: 0.8542\n",
      "PR_AUC: 0.9944181403061507\n",
      "Epoch 108/300\n"
     ]
    },
    {
     "name": "stderr",
     "output_type": "stream",
     "text": [
      "c:\\Users\\FH-Deg\\.conda\\envs\\tf_c_gpu\\lib\\site-packages\\lightgbm\\basic.py:1192: UserWarning: Converting data to scipy sparse matrix.\n",
      "  _log_warning('Converting data to scipy sparse matrix.')\n"
     ]
    },
    {
     "name": "stdout",
     "output_type": "stream",
     "text": [
      "[LightGBM] [Info] Number of positive: 982, number of negative: 30366\n",
      "[LightGBM] [Info] This is the GPU trainer!!\n",
      "[LightGBM] [Info] Total Bins 99484\n",
      "[LightGBM] [Info] Number of data points in the train set: 31348, number of used features: 586\n",
      "[LightGBM] [Info] Using GPU Device: Quadro RTX 4000, Vendor: NVIDIA Corporation\n",
      "[LightGBM] [Info] Compiling OpenCL Kernel with 256 bins...\n",
      "[LightGBM] [Info] GPU programs have been built\n",
      "[LightGBM] [Info] Size of histogram bin entry: 8\n",
      "[LightGBM] [Info] 217 dense feature groups (6.58 MB) transferred to GPU in 0.068121 secs. 1 sparse feature groups\n",
      "threshold: 0.18579623578710644\n",
      "AUC-ROC: 0.9935597493274927\n",
      "Accuracy: 0.854\n",
      "PR_AUC: 0.994437760442147\n",
      "Epoch 109/300\n"
     ]
    },
    {
     "name": "stderr",
     "output_type": "stream",
     "text": [
      "c:\\Users\\FH-Deg\\.conda\\envs\\tf_c_gpu\\lib\\site-packages\\lightgbm\\basic.py:1192: UserWarning: Converting data to scipy sparse matrix.\n",
      "  _log_warning('Converting data to scipy sparse matrix.')\n"
     ]
    },
    {
     "name": "stdout",
     "output_type": "stream",
     "text": [
      "[LightGBM] [Info] Number of positive: 982, number of negative: 30366\n",
      "[LightGBM] [Info] This is the GPU trainer!!\n",
      "[LightGBM] [Info] Total Bins 99484\n",
      "[LightGBM] [Info] Number of data points in the train set: 31348, number of used features: 586\n",
      "[LightGBM] [Info] Using GPU Device: Quadro RTX 4000, Vendor: NVIDIA Corporation\n",
      "[LightGBM] [Info] Compiling OpenCL Kernel with 256 bins...\n",
      "[LightGBM] [Info] GPU programs have been built\n",
      "[LightGBM] [Info] Size of histogram bin entry: 8\n",
      "[LightGBM] [Info] 217 dense feature groups (6.58 MB) transferred to GPU in 0.062487 secs. 1 sparse feature groups\n",
      "threshold: 0.1857636600033352\n",
      "AUC-ROC: 0.9935607895553442\n",
      "Accuracy: 0.8528\n",
      "PR_AUC: 0.9944390850244568\n",
      "Updating target policy...\n",
      "Epoch 110/300\n"
     ]
    },
    {
     "name": "stderr",
     "output_type": "stream",
     "text": [
      "c:\\Users\\FH-Deg\\.conda\\envs\\tf_c_gpu\\lib\\site-packages\\lightgbm\\basic.py:1192: UserWarning: Converting data to scipy sparse matrix.\n",
      "  _log_warning('Converting data to scipy sparse matrix.')\n"
     ]
    },
    {
     "name": "stdout",
     "output_type": "stream",
     "text": [
      "[LightGBM] [Info] Number of positive: 982, number of negative: 30366\n",
      "[LightGBM] [Info] This is the GPU trainer!!\n",
      "[LightGBM] [Info] Total Bins 99484\n",
      "[LightGBM] [Info] Number of data points in the train set: 31348, number of used features: 586\n",
      "[LightGBM] [Info] Using GPU Device: Quadro RTX 4000, Vendor: NVIDIA Corporation\n",
      "[LightGBM] [Info] Compiling OpenCL Kernel with 256 bins...\n",
      "[LightGBM] [Info] GPU programs have been built\n",
      "[LightGBM] [Info] Size of histogram bin entry: 8\n",
      "[LightGBM] [Info] 217 dense feature groups (6.58 MB) transferred to GPU in 0.072820 secs. 1 sparse feature groups\n",
      "threshold: 0.18560458357546097\n",
      "AUC-ROC: 0.9935708317549875\n",
      "Accuracy: 0.8528\n",
      "PR_AUC: 0.9944491557127286\n",
      "Epoch 111/300\n"
     ]
    },
    {
     "name": "stderr",
     "output_type": "stream",
     "text": [
      "c:\\Users\\FH-Deg\\.conda\\envs\\tf_c_gpu\\lib\\site-packages\\lightgbm\\basic.py:1192: UserWarning: Converting data to scipy sparse matrix.\n",
      "  _log_warning('Converting data to scipy sparse matrix.')\n"
     ]
    },
    {
     "name": "stdout",
     "output_type": "stream",
     "text": [
      "[LightGBM] [Info] Number of positive: 982, number of negative: 30366\n",
      "[LightGBM] [Info] This is the GPU trainer!!\n",
      "[LightGBM] [Info] Total Bins 99484\n",
      "[LightGBM] [Info] Number of data points in the train set: 31348, number of used features: 586\n",
      "[LightGBM] [Info] Using GPU Device: Quadro RTX 4000, Vendor: NVIDIA Corporation\n",
      "[LightGBM] [Info] Compiling OpenCL Kernel with 256 bins...\n",
      "[LightGBM] [Info] GPU programs have been built\n",
      "[LightGBM] [Info] Size of histogram bin entry: 8\n",
      "[LightGBM] [Info] 217 dense feature groups (6.58 MB) transferred to GPU in 0.067617 secs. 1 sparse feature groups\n",
      "threshold: 0.18548121868710973\n",
      "AUC-ROC: 0.9935917563383083\n",
      "Accuracy: 0.8522\n",
      "PR_AUC: 0.9944751703469417\n",
      "Epoch 112/300\n"
     ]
    },
    {
     "name": "stderr",
     "output_type": "stream",
     "text": [
      "c:\\Users\\FH-Deg\\.conda\\envs\\tf_c_gpu\\lib\\site-packages\\lightgbm\\basic.py:1192: UserWarning: Converting data to scipy sparse matrix.\n",
      "  _log_warning('Converting data to scipy sparse matrix.')\n"
     ]
    },
    {
     "name": "stdout",
     "output_type": "stream",
     "text": [
      "[LightGBM] [Info] Number of positive: 982, number of negative: 30366\n",
      "[LightGBM] [Info] This is the GPU trainer!!\n",
      "[LightGBM] [Info] Total Bins 99484\n",
      "[LightGBM] [Info] Number of data points in the train set: 31348, number of used features: 586\n",
      "[LightGBM] [Info] Using GPU Device: Quadro RTX 4000, Vendor: NVIDIA Corporation\n",
      "[LightGBM] [Info] Compiling OpenCL Kernel with 256 bins...\n",
      "[LightGBM] [Info] GPU programs have been built\n",
      "[LightGBM] [Info] Size of histogram bin entry: 8\n",
      "[LightGBM] [Info] 217 dense feature groups (6.58 MB) transferred to GPU in 0.074281 secs. 1 sparse feature groups\n",
      "threshold: 0.18558760000188362\n",
      "AUC-ROC: 0.9935835145330233\n",
      "Accuracy: 0.8514\n",
      "PR_AUC: 0.994474727520598\n",
      "Updating target policy...\n",
      "Epoch 113/300\n"
     ]
    },
    {
     "name": "stderr",
     "output_type": "stream",
     "text": [
      "c:\\Users\\FH-Deg\\.conda\\envs\\tf_c_gpu\\lib\\site-packages\\lightgbm\\basic.py:1192: UserWarning: Converting data to scipy sparse matrix.\n",
      "  _log_warning('Converting data to scipy sparse matrix.')\n"
     ]
    },
    {
     "name": "stdout",
     "output_type": "stream",
     "text": [
      "[LightGBM] [Info] Number of positive: 982, number of negative: 30366\n",
      "[LightGBM] [Info] This is the GPU trainer!!\n",
      "[LightGBM] [Info] Total Bins 99484\n",
      "[LightGBM] [Info] Number of data points in the train set: 31348, number of used features: 586\n",
      "[LightGBM] [Info] Using GPU Device: Quadro RTX 4000, Vendor: NVIDIA Corporation\n",
      "[LightGBM] [Info] Compiling OpenCL Kernel with 256 bins...\n",
      "[LightGBM] [Info] GPU programs have been built\n",
      "[LightGBM] [Info] Size of histogram bin entry: 8\n",
      "[LightGBM] [Info] 217 dense feature groups (6.58 MB) transferred to GPU in 0.097494 secs. 1 sparse feature groups\n",
      "threshold: 0.18523254158660843\n",
      "AUC-ROC: 0.9936334454698955\n",
      "Accuracy: 0.8518\n",
      "PR_AUC: 0.994510865264093\n",
      "Epoch 114/300\n"
     ]
    },
    {
     "name": "stderr",
     "output_type": "stream",
     "text": [
      "c:\\Users\\FH-Deg\\.conda\\envs\\tf_c_gpu\\lib\\site-packages\\lightgbm\\basic.py:1192: UserWarning: Converting data to scipy sparse matrix.\n",
      "  _log_warning('Converting data to scipy sparse matrix.')\n"
     ]
    },
    {
     "name": "stdout",
     "output_type": "stream",
     "text": [
      "[LightGBM] [Info] Number of positive: 982, number of negative: 30366\n",
      "[LightGBM] [Info] This is the GPU trainer!!\n",
      "[LightGBM] [Info] Total Bins 99484\n",
      "[LightGBM] [Info] Number of data points in the train set: 31348, number of used features: 586\n",
      "[LightGBM] [Info] Using GPU Device: Quadro RTX 4000, Vendor: NVIDIA Corporation\n",
      "[LightGBM] [Info] Compiling OpenCL Kernel with 256 bins...\n",
      "[LightGBM] [Info] GPU programs have been built\n",
      "[LightGBM] [Info] Size of histogram bin entry: 8\n",
      "[LightGBM] [Info] 217 dense feature groups (6.58 MB) transferred to GPU in 0.073473 secs. 1 sparse feature groups\n",
      "threshold: 0.18505393087589467\n",
      "AUC-ROC: 0.9936803357407407\n",
      "Accuracy: 0.8515\n",
      "PR_AUC: 0.9945522482899586\n",
      "Epoch 115/300\n"
     ]
    },
    {
     "name": "stderr",
     "output_type": "stream",
     "text": [
      "c:\\Users\\FH-Deg\\.conda\\envs\\tf_c_gpu\\lib\\site-packages\\lightgbm\\basic.py:1192: UserWarning: Converting data to scipy sparse matrix.\n",
      "  _log_warning('Converting data to scipy sparse matrix.')\n"
     ]
    },
    {
     "name": "stdout",
     "output_type": "stream",
     "text": [
      "[LightGBM] [Info] Number of positive: 982, number of negative: 30366\n",
      "[LightGBM] [Info] This is the GPU trainer!!\n",
      "[LightGBM] [Info] Total Bins 99484\n",
      "[LightGBM] [Info] Number of data points in the train set: 31348, number of used features: 586\n",
      "[LightGBM] [Info] Using GPU Device: Quadro RTX 4000, Vendor: NVIDIA Corporation\n",
      "[LightGBM] [Info] Compiling OpenCL Kernel with 256 bins...\n",
      "[LightGBM] [Info] GPU programs have been built\n",
      "[LightGBM] [Info] Size of histogram bin entry: 8\n",
      "[LightGBM] [Info] 217 dense feature groups (6.58 MB) transferred to GPU in 0.085038 secs. 1 sparse feature groups\n",
      "threshold: 0.18483454593000803\n",
      "AUC-ROC: 0.9936948189131346\n",
      "Accuracy: 0.8507\n",
      "PR_AUC: 0.9945678788240162\n",
      "Updating target policy...\n",
      "Epoch 116/300\n"
     ]
    },
    {
     "name": "stderr",
     "output_type": "stream",
     "text": [
      "c:\\Users\\FH-Deg\\.conda\\envs\\tf_c_gpu\\lib\\site-packages\\lightgbm\\basic.py:1192: UserWarning: Converting data to scipy sparse matrix.\n",
      "  _log_warning('Converting data to scipy sparse matrix.')\n"
     ]
    },
    {
     "name": "stdout",
     "output_type": "stream",
     "text": [
      "[LightGBM] [Info] Number of positive: 982, number of negative: 30366\n",
      "[LightGBM] [Info] This is the GPU trainer!!\n",
      "[LightGBM] [Info] Total Bins 99484\n",
      "[LightGBM] [Info] Number of data points in the train set: 31348, number of used features: 586\n",
      "[LightGBM] [Info] Using GPU Device: Quadro RTX 4000, Vendor: NVIDIA Corporation\n",
      "[LightGBM] [Info] Compiling OpenCL Kernel with 256 bins...\n",
      "[LightGBM] [Info] GPU programs have been built\n",
      "[LightGBM] [Info] Size of histogram bin entry: 8\n",
      "[LightGBM] [Info] 217 dense feature groups (6.58 MB) transferred to GPU in 0.083672 secs. 1 sparse feature groups\n",
      "threshold: 0.18495912892760097\n",
      "AUC-ROC: 0.9937186641361923\n",
      "Accuracy: 0.8508\n",
      "PR_AUC: 0.9945888384445498\n",
      "Epoch 117/300\n"
     ]
    },
    {
     "name": "stderr",
     "output_type": "stream",
     "text": [
      "c:\\Users\\FH-Deg\\.conda\\envs\\tf_c_gpu\\lib\\site-packages\\lightgbm\\basic.py:1192: UserWarning: Converting data to scipy sparse matrix.\n",
      "  _log_warning('Converting data to scipy sparse matrix.')\n"
     ]
    },
    {
     "name": "stdout",
     "output_type": "stream",
     "text": [
      "[LightGBM] [Info] Number of positive: 982, number of negative: 30366\n",
      "[LightGBM] [Info] This is the GPU trainer!!\n",
      "[LightGBM] [Info] Total Bins 99484\n",
      "[LightGBM] [Info] Number of data points in the train set: 31348, number of used features: 586\n",
      "[LightGBM] [Info] Using GPU Device: Quadro RTX 4000, Vendor: NVIDIA Corporation\n",
      "[LightGBM] [Info] Compiling OpenCL Kernel with 256 bins...\n",
      "[LightGBM] [Info] GPU programs have been built\n",
      "[LightGBM] [Info] Size of histogram bin entry: 8\n",
      "[LightGBM] [Info] 217 dense feature groups (6.58 MB) transferred to GPU in 0.072541 secs. 1 sparse feature groups\n",
      "threshold: 0.18454585837535\n",
      "AUC-ROC: 0.9937481906036698\n",
      "Accuracy: 0.8511\n",
      "PR_AUC: 0.9946087868456381\n",
      "Epoch 118/300\n"
     ]
    },
    {
     "name": "stderr",
     "output_type": "stream",
     "text": [
      "c:\\Users\\FH-Deg\\.conda\\envs\\tf_c_gpu\\lib\\site-packages\\lightgbm\\basic.py:1192: UserWarning: Converting data to scipy sparse matrix.\n",
      "  _log_warning('Converting data to scipy sparse matrix.')\n"
     ]
    },
    {
     "name": "stdout",
     "output_type": "stream",
     "text": [
      "[LightGBM] [Info] Number of positive: 982, number of negative: 30366\n",
      "[LightGBM] [Info] This is the GPU trainer!!\n",
      "[LightGBM] [Info] Total Bins 99484\n",
      "[LightGBM] [Info] Number of data points in the train set: 31348, number of used features: 586\n",
      "[LightGBM] [Info] Using GPU Device: Quadro RTX 4000, Vendor: NVIDIA Corporation\n",
      "[LightGBM] [Info] Compiling OpenCL Kernel with 256 bins...\n",
      "[LightGBM] [Info] GPU programs have been built\n",
      "[LightGBM] [Info] Size of histogram bin entry: 8\n",
      "[LightGBM] [Info] 217 dense feature groups (6.58 MB) transferred to GPU in 0.071075 secs. 1 sparse feature groups\n",
      "threshold: 0.18479339786635007\n",
      "AUC-ROC: 0.9937791973953973\n",
      "Accuracy: 0.8501\n",
      "PR_AUC: 0.9946320956155182\n",
      "Updating target policy...\n",
      "Epoch 119/300\n"
     ]
    },
    {
     "name": "stderr",
     "output_type": "stream",
     "text": [
      "c:\\Users\\FH-Deg\\.conda\\envs\\tf_c_gpu\\lib\\site-packages\\lightgbm\\basic.py:1192: UserWarning: Converting data to scipy sparse matrix.\n",
      "  _log_warning('Converting data to scipy sparse matrix.')\n"
     ]
    },
    {
     "name": "stdout",
     "output_type": "stream",
     "text": [
      "[LightGBM] [Info] Number of positive: 982, number of negative: 30366\n",
      "[LightGBM] [Info] This is the GPU trainer!!\n",
      "[LightGBM] [Info] Total Bins 99484\n",
      "[LightGBM] [Info] Number of data points in the train set: 31348, number of used features: 586\n",
      "[LightGBM] [Info] Using GPU Device: Quadro RTX 4000, Vendor: NVIDIA Corporation\n",
      "[LightGBM] [Info] Compiling OpenCL Kernel with 256 bins...\n",
      "[LightGBM] [Info] GPU programs have been built\n",
      "[LightGBM] [Info] Size of histogram bin entry: 8\n",
      "[LightGBM] [Info] 217 dense feature groups (6.58 MB) transferred to GPU in 0.064998 secs. 1 sparse feature groups\n",
      "threshold: 0.1848644087707785\n",
      "AUC-ROC: 0.9937930804363388\n",
      "Accuracy: 0.8501\n",
      "PR_AUC: 0.9946445414222592\n",
      "Epoch 120/300\n"
     ]
    },
    {
     "name": "stderr",
     "output_type": "stream",
     "text": [
      "c:\\Users\\FH-Deg\\.conda\\envs\\tf_c_gpu\\lib\\site-packages\\lightgbm\\basic.py:1192: UserWarning: Converting data to scipy sparse matrix.\n",
      "  _log_warning('Converting data to scipy sparse matrix.')\n"
     ]
    },
    {
     "name": "stdout",
     "output_type": "stream",
     "text": [
      "[LightGBM] [Info] Number of positive: 982, number of negative: 30366\n",
      "[LightGBM] [Info] This is the GPU trainer!!\n",
      "[LightGBM] [Info] Total Bins 99484\n",
      "[LightGBM] [Info] Number of data points in the train set: 31348, number of used features: 586\n",
      "[LightGBM] [Info] Using GPU Device: Quadro RTX 4000, Vendor: NVIDIA Corporation\n",
      "[LightGBM] [Info] Compiling OpenCL Kernel with 256 bins...\n",
      "[LightGBM] [Info] GPU programs have been built\n",
      "[LightGBM] [Info] Size of histogram bin entry: 8\n",
      "[LightGBM] [Info] 217 dense feature groups (6.58 MB) transferred to GPU in 0.076549 secs. 1 sparse feature groups\n",
      "threshold: 0.1846659001743319\n",
      "AUC-ROC: 0.9938208465182212\n",
      "Accuracy: 0.849\n",
      "PR_AUC: 0.9946655846769065\n",
      "Epoch 121/300\n"
     ]
    },
    {
     "name": "stderr",
     "output_type": "stream",
     "text": [
      "c:\\Users\\FH-Deg\\.conda\\envs\\tf_c_gpu\\lib\\site-packages\\lightgbm\\basic.py:1192: UserWarning: Converting data to scipy sparse matrix.\n",
      "  _log_warning('Converting data to scipy sparse matrix.')\n"
     ]
    },
    {
     "name": "stdout",
     "output_type": "stream",
     "text": [
      "[LightGBM] [Info] Number of positive: 982, number of negative: 30366\n",
      "[LightGBM] [Info] This is the GPU trainer!!\n",
      "[LightGBM] [Info] Total Bins 99484\n",
      "[LightGBM] [Info] Number of data points in the train set: 31348, number of used features: 586\n",
      "[LightGBM] [Info] Using GPU Device: Quadro RTX 4000, Vendor: NVIDIA Corporation\n",
      "[LightGBM] [Info] Compiling OpenCL Kernel with 256 bins...\n",
      "[LightGBM] [Info] GPU programs have been built\n",
      "[LightGBM] [Info] Size of histogram bin entry: 8\n",
      "[LightGBM] [Info] 217 dense feature groups (6.58 MB) transferred to GPU in 0.069661 secs. 1 sparse feature groups\n",
      "threshold: 0.18467905879799026\n",
      "AUC-ROC: 0.9938298084812497\n",
      "Accuracy: 0.8484\n",
      "PR_AUC: 0.9946739665829832\n",
      "Updating target policy...\n",
      "Epoch 122/300\n"
     ]
    },
    {
     "name": "stderr",
     "output_type": "stream",
     "text": [
      "c:\\Users\\FH-Deg\\.conda\\envs\\tf_c_gpu\\lib\\site-packages\\lightgbm\\basic.py:1192: UserWarning: Converting data to scipy sparse matrix.\n",
      "  _log_warning('Converting data to scipy sparse matrix.')\n"
     ]
    },
    {
     "name": "stdout",
     "output_type": "stream",
     "text": [
      "[LightGBM] [Info] Number of positive: 982, number of negative: 30366\n",
      "[LightGBM] [Info] This is the GPU trainer!!\n",
      "[LightGBM] [Info] Total Bins 99484\n",
      "[LightGBM] [Info] Number of data points in the train set: 31348, number of used features: 586\n",
      "[LightGBM] [Info] Using GPU Device: Quadro RTX 4000, Vendor: NVIDIA Corporation\n",
      "[LightGBM] [Info] Compiling OpenCL Kernel with 256 bins...\n",
      "[LightGBM] [Info] GPU programs have been built\n",
      "[LightGBM] [Info] Size of histogram bin entry: 8\n",
      "[LightGBM] [Info] 217 dense feature groups (6.58 MB) transferred to GPU in 0.060143 secs. 1 sparse feature groups\n",
      "threshold: 0.18488436487480292\n",
      "AUC-ROC: 0.9938418111103056\n",
      "Accuracy: 0.8481\n",
      "PR_AUC: 0.9946828282693378\n",
      "Epoch 123/300\n"
     ]
    },
    {
     "name": "stderr",
     "output_type": "stream",
     "text": [
      "c:\\Users\\FH-Deg\\.conda\\envs\\tf_c_gpu\\lib\\site-packages\\lightgbm\\basic.py:1192: UserWarning: Converting data to scipy sparse matrix.\n",
      "  _log_warning('Converting data to scipy sparse matrix.')\n"
     ]
    },
    {
     "name": "stdout",
     "output_type": "stream",
     "text": [
      "[LightGBM] [Info] Number of positive: 982, number of negative: 30366\n",
      "[LightGBM] [Info] This is the GPU trainer!!\n",
      "[LightGBM] [Info] Total Bins 99484\n",
      "[LightGBM] [Info] Number of data points in the train set: 31348, number of used features: 586\n",
      "[LightGBM] [Info] Using GPU Device: Quadro RTX 4000, Vendor: NVIDIA Corporation\n",
      "[LightGBM] [Info] Compiling OpenCL Kernel with 256 bins...\n",
      "[LightGBM] [Info] GPU programs have been built\n",
      "[LightGBM] [Info] Size of histogram bin entry: 8\n",
      "[LightGBM] [Info] 217 dense feature groups (6.58 MB) transferred to GPU in 0.068014 secs. 1 sparse feature groups\n",
      "threshold: 0.184809281557219\n",
      "AUC-ROC: 0.9938509731171515\n",
      "Accuracy: 0.8476\n",
      "PR_AUC: 0.994691178799083\n",
      "Epoch 124/300\n"
     ]
    },
    {
     "name": "stderr",
     "output_type": "stream",
     "text": [
      "c:\\Users\\FH-Deg\\.conda\\envs\\tf_c_gpu\\lib\\site-packages\\lightgbm\\basic.py:1192: UserWarning: Converting data to scipy sparse matrix.\n",
      "  _log_warning('Converting data to scipy sparse matrix.')\n"
     ]
    },
    {
     "name": "stdout",
     "output_type": "stream",
     "text": [
      "[LightGBM] [Info] Number of positive: 982, number of negative: 30366\n",
      "[LightGBM] [Info] This is the GPU trainer!!\n",
      "[LightGBM] [Info] Total Bins 99484\n",
      "[LightGBM] [Info] Number of data points in the train set: 31348, number of used features: 586\n",
      "[LightGBM] [Info] Using GPU Device: Quadro RTX 4000, Vendor: NVIDIA Corporation\n",
      "[LightGBM] [Info] Compiling OpenCL Kernel with 256 bins...\n",
      "[LightGBM] [Info] GPU programs have been built\n",
      "[LightGBM] [Info] Size of histogram bin entry: 8\n",
      "[LightGBM] [Info] 217 dense feature groups (6.58 MB) transferred to GPU in 0.072489 secs. 1 sparse feature groups\n",
      "threshold: 0.18457721135694702\n",
      "AUC-ROC: 0.9938532936254357\n",
      "Accuracy: 0.8472\n",
      "PR_AUC: 0.9946921984632496\n",
      "Updating target policy...\n",
      "Epoch 125/300\n"
     ]
    },
    {
     "name": "stderr",
     "output_type": "stream",
     "text": [
      "c:\\Users\\FH-Deg\\.conda\\envs\\tf_c_gpu\\lib\\site-packages\\lightgbm\\basic.py:1192: UserWarning: Converting data to scipy sparse matrix.\n",
      "  _log_warning('Converting data to scipy sparse matrix.')\n"
     ]
    },
    {
     "name": "stdout",
     "output_type": "stream",
     "text": [
      "[LightGBM] [Info] Number of positive: 982, number of negative: 30366\n",
      "[LightGBM] [Info] This is the GPU trainer!!\n",
      "[LightGBM] [Info] Total Bins 99484\n",
      "[LightGBM] [Info] Number of data points in the train set: 31348, number of used features: 586\n",
      "[LightGBM] [Info] Using GPU Device: Quadro RTX 4000, Vendor: NVIDIA Corporation\n",
      "[LightGBM] [Info] Compiling OpenCL Kernel with 256 bins...\n",
      "[LightGBM] [Info] GPU programs have been built\n",
      "[LightGBM] [Info] Size of histogram bin entry: 8\n",
      "[LightGBM] [Info] 217 dense feature groups (6.58 MB) transferred to GPU in 0.067266 secs. 1 sparse feature groups\n",
      "threshold: 0.18419161962769234\n",
      "AUC-ROC: 0.9938801795145208\n",
      "Accuracy: 0.8468\n",
      "PR_AUC: 0.9947170488945953\n",
      "Epoch 126/300\n"
     ]
    },
    {
     "name": "stderr",
     "output_type": "stream",
     "text": [
      "c:\\Users\\FH-Deg\\.conda\\envs\\tf_c_gpu\\lib\\site-packages\\lightgbm\\basic.py:1192: UserWarning: Converting data to scipy sparse matrix.\n",
      "  _log_warning('Converting data to scipy sparse matrix.')\n"
     ]
    },
    {
     "name": "stdout",
     "output_type": "stream",
     "text": [
      "[LightGBM] [Info] Number of positive: 982, number of negative: 30366\n",
      "[LightGBM] [Info] This is the GPU trainer!!\n",
      "[LightGBM] [Info] Total Bins 99484\n",
      "[LightGBM] [Info] Number of data points in the train set: 31348, number of used features: 586\n",
      "[LightGBM] [Info] Using GPU Device: Quadro RTX 4000, Vendor: NVIDIA Corporation\n",
      "[LightGBM] [Info] Compiling OpenCL Kernel with 256 bins...\n",
      "[LightGBM] [Info] GPU programs have been built\n",
      "[LightGBM] [Info] Size of histogram bin entry: 8\n",
      "[LightGBM] [Info] 217 dense feature groups (6.58 MB) transferred to GPU in 0.069582 secs. 1 sparse feature groups\n",
      "threshold: 0.1842702568394604\n",
      "AUC-ROC: 0.9938936624678271\n",
      "Accuracy: 0.8463\n",
      "PR_AUC: 0.9947330579970662\n",
      "Epoch 127/300\n"
     ]
    },
    {
     "name": "stderr",
     "output_type": "stream",
     "text": [
      "c:\\Users\\FH-Deg\\.conda\\envs\\tf_c_gpu\\lib\\site-packages\\lightgbm\\basic.py:1192: UserWarning: Converting data to scipy sparse matrix.\n",
      "  _log_warning('Converting data to scipy sparse matrix.')\n"
     ]
    },
    {
     "name": "stdout",
     "output_type": "stream",
     "text": [
      "[LightGBM] [Info] Number of positive: 982, number of negative: 30366\n",
      "[LightGBM] [Info] This is the GPU trainer!!\n",
      "[LightGBM] [Info] Total Bins 99484\n",
      "[LightGBM] [Info] Number of data points in the train set: 31348, number of used features: 586\n",
      "[LightGBM] [Info] Using GPU Device: Quadro RTX 4000, Vendor: NVIDIA Corporation\n",
      "[LightGBM] [Info] Compiling OpenCL Kernel with 256 bins...\n",
      "[LightGBM] [Info] GPU programs have been built\n",
      "[LightGBM] [Info] Size of histogram bin entry: 8\n",
      "[LightGBM] [Info] 217 dense feature groups (6.58 MB) transferred to GPU in 0.068846 secs. 1 sparse feature groups\n",
      "threshold: 0.18436396072661065\n",
      "AUC-ROC: 0.9939038647025245\n",
      "Accuracy: 0.8456\n",
      "PR_AUC: 0.9947423907535557\n",
      "Updating target policy...\n",
      "Epoch 128/300\n"
     ]
    },
    {
     "name": "stderr",
     "output_type": "stream",
     "text": [
      "c:\\Users\\FH-Deg\\.conda\\envs\\tf_c_gpu\\lib\\site-packages\\lightgbm\\basic.py:1192: UserWarning: Converting data to scipy sparse matrix.\n",
      "  _log_warning('Converting data to scipy sparse matrix.')\n"
     ]
    },
    {
     "name": "stdout",
     "output_type": "stream",
     "text": [
      "[LightGBM] [Info] Number of positive: 982, number of negative: 30366\n",
      "[LightGBM] [Info] This is the GPU trainer!!\n",
      "[LightGBM] [Info] Total Bins 99484\n",
      "[LightGBM] [Info] Number of data points in the train set: 31348, number of used features: 586\n",
      "[LightGBM] [Info] Using GPU Device: Quadro RTX 4000, Vendor: NVIDIA Corporation\n",
      "[LightGBM] [Info] Compiling OpenCL Kernel with 256 bins...\n",
      "[LightGBM] [Info] GPU programs have been built\n",
      "[LightGBM] [Info] Size of histogram bin entry: 8\n",
      "[LightGBM] [Info] 217 dense feature groups (6.58 MB) transferred to GPU in 0.073937 secs. 1 sparse feature groups\n",
      "threshold: 0.18432117106858767\n",
      "AUC-ROC: 0.9939208684270202\n",
      "Accuracy: 0.8446\n",
      "PR_AUC: 0.9947586918197114\n",
      "Epoch 129/300\n"
     ]
    },
    {
     "name": "stderr",
     "output_type": "stream",
     "text": [
      "c:\\Users\\FH-Deg\\.conda\\envs\\tf_c_gpu\\lib\\site-packages\\lightgbm\\basic.py:1192: UserWarning: Converting data to scipy sparse matrix.\n",
      "  _log_warning('Converting data to scipy sparse matrix.')\n"
     ]
    },
    {
     "name": "stdout",
     "output_type": "stream",
     "text": [
      "[LightGBM] [Info] Number of positive: 982, number of negative: 30366\n",
      "[LightGBM] [Info] This is the GPU trainer!!\n",
      "[LightGBM] [Info] Total Bins 99484\n",
      "[LightGBM] [Info] Number of data points in the train set: 31348, number of used features: 586\n",
      "[LightGBM] [Info] Using GPU Device: Quadro RTX 4000, Vendor: NVIDIA Corporation\n",
      "[LightGBM] [Info] Compiling OpenCL Kernel with 256 bins...\n",
      "[LightGBM] [Info] GPU programs have been built\n",
      "[LightGBM] [Info] Size of histogram bin entry: 8\n",
      "[LightGBM] [Info] 217 dense feature groups (6.58 MB) transferred to GPU in 0.061060 secs. 1 sparse feature groups\n",
      "threshold: 0.18450288537866674\n",
      "AUC-ROC: 0.9939001438875172\n",
      "Accuracy: 0.844\n",
      "PR_AUC: 0.9947410801373061\n",
      "Epoch 130/300\n"
     ]
    },
    {
     "name": "stderr",
     "output_type": "stream",
     "text": [
      "c:\\Users\\FH-Deg\\.conda\\envs\\tf_c_gpu\\lib\\site-packages\\lightgbm\\basic.py:1192: UserWarning: Converting data to scipy sparse matrix.\n",
      "  _log_warning('Converting data to scipy sparse matrix.')\n"
     ]
    },
    {
     "name": "stdout",
     "output_type": "stream",
     "text": [
      "[LightGBM] [Info] Number of positive: 982, number of negative: 30366\n",
      "[LightGBM] [Info] This is the GPU trainer!!\n",
      "[LightGBM] [Info] Total Bins 99484\n",
      "[LightGBM] [Info] Number of data points in the train set: 31348, number of used features: 586\n",
      "[LightGBM] [Info] Using GPU Device: Quadro RTX 4000, Vendor: NVIDIA Corporation\n",
      "[LightGBM] [Info] Compiling OpenCL Kernel with 256 bins...\n",
      "[LightGBM] [Info] GPU programs have been built\n",
      "[LightGBM] [Info] Size of histogram bin entry: 8\n",
      "[LightGBM] [Info] 217 dense feature groups (6.58 MB) transferred to GPU in 0.075800 secs. 1 sparse feature groups\n",
      "threshold: 0.18442653036987822\n",
      "AUC-ROC: 0.9939173076470671\n",
      "Accuracy: 0.8442\n",
      "PR_AUC: 0.9947534820832351\n",
      "Updating target policy...\n",
      "Epoch 131/300\n"
     ]
    },
    {
     "name": "stderr",
     "output_type": "stream",
     "text": [
      "c:\\Users\\FH-Deg\\.conda\\envs\\tf_c_gpu\\lib\\site-packages\\lightgbm\\basic.py:1192: UserWarning: Converting data to scipy sparse matrix.\n",
      "  _log_warning('Converting data to scipy sparse matrix.')\n"
     ]
    },
    {
     "name": "stdout",
     "output_type": "stream",
     "text": [
      "[LightGBM] [Info] Number of positive: 982, number of negative: 30366\n",
      "[LightGBM] [Info] This is the GPU trainer!!\n",
      "[LightGBM] [Info] Total Bins 99484\n",
      "[LightGBM] [Info] Number of data points in the train set: 31348, number of used features: 586\n",
      "[LightGBM] [Info] Using GPU Device: Quadro RTX 4000, Vendor: NVIDIA Corporation\n",
      "[LightGBM] [Info] Compiling OpenCL Kernel with 256 bins...\n",
      "[LightGBM] [Info] GPU programs have been built\n",
      "[LightGBM] [Info] Size of histogram bin entry: 8\n",
      "[LightGBM] [Info] 217 dense feature groups (6.58 MB) transferred to GPU in 0.060736 secs. 1 sparse feature groups\n",
      "threshold: 0.1841969578628078\n",
      "AUC-ROC: 0.9939395925283474\n",
      "Accuracy: 0.8443\n",
      "PR_AUC: 0.9947688634315741\n",
      "Epoch 132/300\n"
     ]
    },
    {
     "name": "stderr",
     "output_type": "stream",
     "text": [
      "c:\\Users\\FH-Deg\\.conda\\envs\\tf_c_gpu\\lib\\site-packages\\lightgbm\\basic.py:1192: UserWarning: Converting data to scipy sparse matrix.\n",
      "  _log_warning('Converting data to scipy sparse matrix.')\n"
     ]
    },
    {
     "name": "stdout",
     "output_type": "stream",
     "text": [
      "[LightGBM] [Info] Number of positive: 982, number of negative: 30366\n",
      "[LightGBM] [Info] This is the GPU trainer!!\n",
      "[LightGBM] [Info] Total Bins 99484\n",
      "[LightGBM] [Info] Number of data points in the train set: 31348, number of used features: 586\n",
      "[LightGBM] [Info] Using GPU Device: Quadro RTX 4000, Vendor: NVIDIA Corporation\n",
      "[LightGBM] [Info] Compiling OpenCL Kernel with 256 bins...\n",
      "[LightGBM] [Info] GPU programs have been built\n",
      "[LightGBM] [Info] Size of histogram bin entry: 8\n",
      "[LightGBM] [Info] 217 dense feature groups (6.58 MB) transferred to GPU in 0.086991 secs. 1 sparse feature groups\n",
      "threshold: 0.18445080869108102\n",
      "AUC-ROC: 0.9939673186014665\n",
      "Accuracy: 0.8431\n",
      "PR_AUC: 0.994788481275119\n",
      "Epoch 133/300\n"
     ]
    },
    {
     "name": "stderr",
     "output_type": "stream",
     "text": [
      "c:\\Users\\FH-Deg\\.conda\\envs\\tf_c_gpu\\lib\\site-packages\\lightgbm\\basic.py:1192: UserWarning: Converting data to scipy sparse matrix.\n",
      "  _log_warning('Converting data to scipy sparse matrix.')\n"
     ]
    },
    {
     "name": "stdout",
     "output_type": "stream",
     "text": [
      "[LightGBM] [Info] Number of positive: 982, number of negative: 30366\n",
      "[LightGBM] [Info] This is the GPU trainer!!\n",
      "[LightGBM] [Info] Total Bins 99484\n",
      "[LightGBM] [Info] Number of data points in the train set: 31348, number of used features: 586\n",
      "[LightGBM] [Info] Using GPU Device: Quadro RTX 4000, Vendor: NVIDIA Corporation\n",
      "[LightGBM] [Info] Compiling OpenCL Kernel with 256 bins...\n",
      "[LightGBM] [Info] GPU programs have been built\n",
      "[LightGBM] [Info] Size of histogram bin entry: 8\n",
      "[LightGBM] [Info] 217 dense feature groups (6.58 MB) transferred to GPU in 0.103710 secs. 1 sparse feature groups\n",
      "threshold: 0.1842342038065638\n",
      "AUC-ROC: 0.993988763298713\n",
      "Accuracy: 0.8434\n",
      "PR_AUC: 0.9948043367634363\n",
      "Updating target policy...\n",
      "Epoch 134/300\n"
     ]
    },
    {
     "name": "stderr",
     "output_type": "stream",
     "text": [
      "c:\\Users\\FH-Deg\\.conda\\envs\\tf_c_gpu\\lib\\site-packages\\lightgbm\\basic.py:1192: UserWarning: Converting data to scipy sparse matrix.\n",
      "  _log_warning('Converting data to scipy sparse matrix.')\n"
     ]
    },
    {
     "name": "stdout",
     "output_type": "stream",
     "text": [
      "[LightGBM] [Info] Number of positive: 982, number of negative: 30366\n",
      "[LightGBM] [Info] This is the GPU trainer!!\n",
      "[LightGBM] [Info] Total Bins 99484\n",
      "[LightGBM] [Info] Number of data points in the train set: 31348, number of used features: 586\n",
      "[LightGBM] [Info] Using GPU Device: Quadro RTX 4000, Vendor: NVIDIA Corporation\n",
      "[LightGBM] [Info] Compiling OpenCL Kernel with 256 bins...\n",
      "[LightGBM] [Info] GPU programs have been built\n",
      "[LightGBM] [Info] Size of histogram bin entry: 8\n",
      "[LightGBM] [Info] 217 dense feature groups (6.58 MB) transferred to GPU in 0.068978 secs. 1 sparse feature groups\n",
      "threshold: 0.18436194639123699\n",
      "AUC-ROC: 0.9939923240786661\n",
      "Accuracy: 0.8432\n",
      "PR_AUC: 0.9948066528269917\n",
      "Epoch 135/300\n"
     ]
    },
    {
     "name": "stderr",
     "output_type": "stream",
     "text": [
      "c:\\Users\\FH-Deg\\.conda\\envs\\tf_c_gpu\\lib\\site-packages\\lightgbm\\basic.py:1192: UserWarning: Converting data to scipy sparse matrix.\n",
      "  _log_warning('Converting data to scipy sparse matrix.')\n"
     ]
    },
    {
     "name": "stdout",
     "output_type": "stream",
     "text": [
      "[LightGBM] [Info] Number of positive: 982, number of negative: 30366\n",
      "[LightGBM] [Info] This is the GPU trainer!!\n",
      "[LightGBM] [Info] Total Bins 99484\n",
      "[LightGBM] [Info] Number of data points in the train set: 31348, number of used features: 586\n",
      "[LightGBM] [Info] Using GPU Device: Quadro RTX 4000, Vendor: NVIDIA Corporation\n",
      "[LightGBM] [Info] Compiling OpenCL Kernel with 256 bins...\n",
      "[LightGBM] [Info] GPU programs have been built\n",
      "[LightGBM] [Info] Size of histogram bin entry: 8\n",
      "[LightGBM] [Info] 217 dense feature groups (6.58 MB) transferred to GPU in 0.076654 secs. 1 sparse feature groups\n",
      "threshold: 0.18427894854427046\n",
      "AUC-ROC: 0.9940090077330539\n",
      "Accuracy: 0.8432\n",
      "PR_AUC: 0.994822093060727\n",
      "Epoch 136/300\n"
     ]
    },
    {
     "name": "stderr",
     "output_type": "stream",
     "text": [
      "c:\\Users\\FH-Deg\\.conda\\envs\\tf_c_gpu\\lib\\site-packages\\lightgbm\\basic.py:1192: UserWarning: Converting data to scipy sparse matrix.\n",
      "  _log_warning('Converting data to scipy sparse matrix.')\n"
     ]
    },
    {
     "name": "stdout",
     "output_type": "stream",
     "text": [
      "[LightGBM] [Info] Number of positive: 982, number of negative: 30366\n",
      "[LightGBM] [Info] This is the GPU trainer!!\n",
      "[LightGBM] [Info] Total Bins 99484\n",
      "[LightGBM] [Info] Number of data points in the train set: 31348, number of used features: 586\n",
      "[LightGBM] [Info] Using GPU Device: Quadro RTX 4000, Vendor: NVIDIA Corporation\n",
      "[LightGBM] [Info] Compiling OpenCL Kernel with 256 bins...\n",
      "[LightGBM] [Info] GPU programs have been built\n",
      "[LightGBM] [Info] Size of histogram bin entry: 8\n",
      "[LightGBM] [Info] 217 dense feature groups (6.58 MB) transferred to GPU in 0.067930 secs. 1 sparse feature groups\n",
      "threshold: 0.18397722630278693\n",
      "AUC-ROC: 0.9940167694331765\n",
      "Accuracy: 0.8435\n",
      "PR_AUC: 0.9948248421725183\n",
      "Updating target policy...\n",
      "Epoch 137/300\n"
     ]
    },
    {
     "name": "stderr",
     "output_type": "stream",
     "text": [
      "c:\\Users\\FH-Deg\\.conda\\envs\\tf_c_gpu\\lib\\site-packages\\lightgbm\\basic.py:1192: UserWarning: Converting data to scipy sparse matrix.\n",
      "  _log_warning('Converting data to scipy sparse matrix.')\n"
     ]
    },
    {
     "name": "stdout",
     "output_type": "stream",
     "text": [
      "[LightGBM] [Info] Number of positive: 982, number of negative: 30366\n",
      "[LightGBM] [Info] This is the GPU trainer!!\n",
      "[LightGBM] [Info] Total Bins 99484\n",
      "[LightGBM] [Info] Number of data points in the train set: 31348, number of used features: 586\n",
      "[LightGBM] [Info] Using GPU Device: Quadro RTX 4000, Vendor: NVIDIA Corporation\n",
      "[LightGBM] [Info] Compiling OpenCL Kernel with 256 bins...\n",
      "[LightGBM] [Info] GPU programs have been built\n",
      "[LightGBM] [Info] Size of histogram bin entry: 8\n",
      "[LightGBM] [Info] 217 dense feature groups (6.58 MB) transferred to GPU in 0.074999 secs. 1 sparse feature groups\n",
      "threshold: 0.18370186268586988\n",
      "AUC-ROC: 0.9940480162774854\n",
      "Accuracy: 0.8426\n",
      "PR_AUC: 0.994847334911695\n",
      "Epoch 138/300\n"
     ]
    },
    {
     "name": "stderr",
     "output_type": "stream",
     "text": [
      "c:\\Users\\FH-Deg\\.conda\\envs\\tf_c_gpu\\lib\\site-packages\\lightgbm\\basic.py:1192: UserWarning: Converting data to scipy sparse matrix.\n",
      "  _log_warning('Converting data to scipy sparse matrix.')\n"
     ]
    },
    {
     "name": "stdout",
     "output_type": "stream",
     "text": [
      "[LightGBM] [Info] Number of positive: 982, number of negative: 30366\n",
      "[LightGBM] [Info] This is the GPU trainer!!\n",
      "[LightGBM] [Info] Total Bins 99484\n",
      "[LightGBM] [Info] Number of data points in the train set: 31348, number of used features: 586\n",
      "[LightGBM] [Info] Using GPU Device: Quadro RTX 4000, Vendor: NVIDIA Corporation\n",
      "[LightGBM] [Info] Compiling OpenCL Kernel with 256 bins...\n",
      "[LightGBM] [Info] GPU programs have been built\n",
      "[LightGBM] [Info] Size of histogram bin entry: 8\n",
      "[LightGBM] [Info] 217 dense feature groups (6.58 MB) transferred to GPU in 0.078552 secs. 1 sparse feature groups\n",
      "threshold: 0.1835598199865978\n",
      "AUC-ROC: 0.9940610591343928\n",
      "Accuracy: 0.8427\n",
      "PR_AUC: 0.9948558263972834\n",
      "Epoch 139/300\n"
     ]
    },
    {
     "name": "stderr",
     "output_type": "stream",
     "text": [
      "c:\\Users\\FH-Deg\\.conda\\envs\\tf_c_gpu\\lib\\site-packages\\lightgbm\\basic.py:1192: UserWarning: Converting data to scipy sparse matrix.\n",
      "  _log_warning('Converting data to scipy sparse matrix.')\n"
     ]
    },
    {
     "name": "stdout",
     "output_type": "stream",
     "text": [
      "[LightGBM] [Info] Number of positive: 982, number of negative: 30366\n",
      "[LightGBM] [Info] This is the GPU trainer!!\n",
      "[LightGBM] [Info] Total Bins 99484\n",
      "[LightGBM] [Info] Number of data points in the train set: 31348, number of used features: 586\n",
      "[LightGBM] [Info] Using GPU Device: Quadro RTX 4000, Vendor: NVIDIA Corporation\n",
      "[LightGBM] [Info] Compiling OpenCL Kernel with 256 bins...\n",
      "[LightGBM] [Info] GPU programs have been built\n",
      "[LightGBM] [Info] Size of histogram bin entry: 8\n",
      "[LightGBM] [Info] 217 dense feature groups (6.58 MB) transferred to GPU in 0.074691 secs. 1 sparse feature groups\n",
      "threshold: 0.1832638806552729\n",
      "AUC-ROC: 0.9940731417809757\n",
      "Accuracy: 0.8421\n",
      "PR_AUC: 0.9948658592435182\n",
      "Updating target policy...\n",
      "Epoch 140/300\n"
     ]
    },
    {
     "name": "stderr",
     "output_type": "stream",
     "text": [
      "c:\\Users\\FH-Deg\\.conda\\envs\\tf_c_gpu\\lib\\site-packages\\lightgbm\\basic.py:1192: UserWarning: Converting data to scipy sparse matrix.\n",
      "  _log_warning('Converting data to scipy sparse matrix.')\n"
     ]
    },
    {
     "name": "stdout",
     "output_type": "stream",
     "text": [
      "[LightGBM] [Info] Number of positive: 982, number of negative: 30366\n",
      "[LightGBM] [Info] This is the GPU trainer!!\n",
      "[LightGBM] [Info] Total Bins 99484\n",
      "[LightGBM] [Info] Number of data points in the train set: 31348, number of used features: 586\n",
      "[LightGBM] [Info] Using GPU Device: Quadro RTX 4000, Vendor: NVIDIA Corporation\n",
      "[LightGBM] [Info] Compiling OpenCL Kernel with 256 bins...\n",
      "[LightGBM] [Info] GPU programs have been built\n",
      "[LightGBM] [Info] Size of histogram bin entry: 8\n",
      "[LightGBM] [Info] 217 dense feature groups (6.58 MB) transferred to GPU in 0.083335 secs. 1 sparse feature groups\n",
      "threshold: 0.18306359951293827\n",
      "AUC-ROC: 0.9940818236826594\n",
      "Accuracy: 0.8418\n",
      "PR_AUC: 0.9948740069094179\n",
      "Epoch 141/300\n"
     ]
    },
    {
     "name": "stderr",
     "output_type": "stream",
     "text": [
      "c:\\Users\\FH-Deg\\.conda\\envs\\tf_c_gpu\\lib\\site-packages\\lightgbm\\basic.py:1192: UserWarning: Converting data to scipy sparse matrix.\n",
      "  _log_warning('Converting data to scipy sparse matrix.')\n"
     ]
    },
    {
     "name": "stdout",
     "output_type": "stream",
     "text": [
      "[LightGBM] [Info] Number of positive: 982, number of negative: 30366\n",
      "[LightGBM] [Info] This is the GPU trainer!!\n",
      "[LightGBM] [Info] Total Bins 99484\n",
      "[LightGBM] [Info] Number of data points in the train set: 31348, number of used features: 586\n",
      "[LightGBM] [Info] Using GPU Device: Quadro RTX 4000, Vendor: NVIDIA Corporation\n",
      "[LightGBM] [Info] Compiling OpenCL Kernel with 256 bins...\n",
      "[LightGBM] [Info] GPU programs have been built\n",
      "[LightGBM] [Info] Size of histogram bin entry: 8\n",
      "[LightGBM] [Info] 217 dense feature groups (6.58 MB) transferred to GPU in 0.058030 secs. 1 sparse feature groups\n",
      "threshold: 0.18335646936722585\n",
      "AUC-ROC: 0.9940785829728143\n",
      "Accuracy: 0.8415\n",
      "PR_AUC: 0.9948735149312681\n",
      "Epoch 142/300\n"
     ]
    },
    {
     "name": "stderr",
     "output_type": "stream",
     "text": [
      "c:\\Users\\FH-Deg\\.conda\\envs\\tf_c_gpu\\lib\\site-packages\\lightgbm\\basic.py:1192: UserWarning: Converting data to scipy sparse matrix.\n",
      "  _log_warning('Converting data to scipy sparse matrix.')\n"
     ]
    },
    {
     "name": "stdout",
     "output_type": "stream",
     "text": [
      "[LightGBM] [Info] Number of positive: 982, number of negative: 30366\n",
      "[LightGBM] [Info] This is the GPU trainer!!\n",
      "[LightGBM] [Info] Total Bins 99484\n",
      "[LightGBM] [Info] Number of data points in the train set: 31348, number of used features: 586\n",
      "[LightGBM] [Info] Using GPU Device: Quadro RTX 4000, Vendor: NVIDIA Corporation\n",
      "[LightGBM] [Info] Compiling OpenCL Kernel with 256 bins...\n",
      "[LightGBM] [Info] GPU programs have been built\n",
      "[LightGBM] [Info] Size of histogram bin entry: 8\n",
      "[LightGBM] [Info] 217 dense feature groups (6.58 MB) transferred to GPU in 0.074513 secs. 1 sparse feature groups\n",
      "threshold: 0.18344465538852128\n",
      "AUC-ROC: 0.994062699493697\n",
      "Accuracy: 0.8408\n",
      "PR_AUC: 0.9948583595042071\n",
      "Updating target policy...\n",
      "Epoch 143/300\n"
     ]
    },
    {
     "name": "stderr",
     "output_type": "stream",
     "text": [
      "c:\\Users\\FH-Deg\\.conda\\envs\\tf_c_gpu\\lib\\site-packages\\lightgbm\\basic.py:1192: UserWarning: Converting data to scipy sparse matrix.\n",
      "  _log_warning('Converting data to scipy sparse matrix.')\n"
     ]
    },
    {
     "name": "stdout",
     "output_type": "stream",
     "text": [
      "[LightGBM] [Info] Number of positive: 982, number of negative: 30366\n",
      "[LightGBM] [Info] This is the GPU trainer!!\n",
      "[LightGBM] [Info] Total Bins 99484\n",
      "[LightGBM] [Info] Number of data points in the train set: 31348, number of used features: 586\n",
      "[LightGBM] [Info] Using GPU Device: Quadro RTX 4000, Vendor: NVIDIA Corporation\n",
      "[LightGBM] [Info] Compiling OpenCL Kernel with 256 bins...\n",
      "[LightGBM] [Info] GPU programs have been built\n",
      "[LightGBM] [Info] Size of histogram bin entry: 8\n",
      "[LightGBM] [Info] 217 dense feature groups (6.58 MB) transferred to GPU in 0.078147 secs. 1 sparse feature groups\n",
      "threshold: 0.18311251920143085\n",
      "AUC-ROC: 0.9940686607994614\n",
      "Accuracy: 0.8412\n",
      "PR_AUC: 0.9948637613640369\n",
      "Epoch 144/300\n"
     ]
    },
    {
     "name": "stderr",
     "output_type": "stream",
     "text": [
      "c:\\Users\\FH-Deg\\.conda\\envs\\tf_c_gpu\\lib\\site-packages\\lightgbm\\basic.py:1192: UserWarning: Converting data to scipy sparse matrix.\n",
      "  _log_warning('Converting data to scipy sparse matrix.')\n"
     ]
    },
    {
     "name": "stdout",
     "output_type": "stream",
     "text": [
      "[LightGBM] [Info] Number of positive: 982, number of negative: 30366\n",
      "[LightGBM] [Info] This is the GPU trainer!!\n",
      "[LightGBM] [Info] Total Bins 99484\n",
      "[LightGBM] [Info] Number of data points in the train set: 31348, number of used features: 586\n",
      "[LightGBM] [Info] Using GPU Device: Quadro RTX 4000, Vendor: NVIDIA Corporation\n",
      "[LightGBM] [Info] Compiling OpenCL Kernel with 256 bins...\n",
      "[LightGBM] [Info] GPU programs have been built\n",
      "[LightGBM] [Info] Size of histogram bin entry: 8\n",
      "[LightGBM] [Info] 217 dense feature groups (6.58 MB) transferred to GPU in 0.070582 secs. 1 sparse feature groups\n",
      "threshold: 0.18305561195636263\n",
      "AUC-ROC: 0.9940803833671729\n",
      "Accuracy: 0.84\n",
      "PR_AUC: 0.9948734447960479\n",
      "Epoch 145/300\n"
     ]
    },
    {
     "name": "stderr",
     "output_type": "stream",
     "text": [
      "c:\\Users\\FH-Deg\\.conda\\envs\\tf_c_gpu\\lib\\site-packages\\lightgbm\\basic.py:1192: UserWarning: Converting data to scipy sparse matrix.\n",
      "  _log_warning('Converting data to scipy sparse matrix.')\n"
     ]
    },
    {
     "name": "stdout",
     "output_type": "stream",
     "text": [
      "[LightGBM] [Info] Number of positive: 982, number of negative: 30366\n",
      "[LightGBM] [Info] This is the GPU trainer!!\n",
      "[LightGBM] [Info] Total Bins 99484\n",
      "[LightGBM] [Info] Number of data points in the train set: 31348, number of used features: 586\n",
      "[LightGBM] [Info] Using GPU Device: Quadro RTX 4000, Vendor: NVIDIA Corporation\n",
      "[LightGBM] [Info] Compiling OpenCL Kernel with 256 bins...\n",
      "[LightGBM] [Info] GPU programs have been built\n",
      "[LightGBM] [Info] Size of histogram bin entry: 8\n",
      "[LightGBM] [Info] 217 dense feature groups (6.58 MB) transferred to GPU in 0.084917 secs. 1 sparse feature groups\n",
      "threshold: 0.18290029743838587\n",
      "AUC-ROC: 0.9941157511141241\n",
      "Accuracy: 0.8398\n",
      "PR_AUC: 0.9949047817778682\n",
      "Updating target policy...\n",
      "Epoch 146/300\n"
     ]
    },
    {
     "name": "stderr",
     "output_type": "stream",
     "text": [
      "c:\\Users\\FH-Deg\\.conda\\envs\\tf_c_gpu\\lib\\site-packages\\lightgbm\\basic.py:1192: UserWarning: Converting data to scipy sparse matrix.\n",
      "  _log_warning('Converting data to scipy sparse matrix.')\n"
     ]
    },
    {
     "name": "stdout",
     "output_type": "stream",
     "text": [
      "[LightGBM] [Info] Number of positive: 982, number of negative: 30366\n",
      "[LightGBM] [Info] This is the GPU trainer!!\n",
      "[LightGBM] [Info] Total Bins 99484\n",
      "[LightGBM] [Info] Number of data points in the train set: 31348, number of used features: 586\n",
      "[LightGBM] [Info] Using GPU Device: Quadro RTX 4000, Vendor: NVIDIA Corporation\n",
      "[LightGBM] [Info] Compiling OpenCL Kernel with 256 bins...\n",
      "[LightGBM] [Info] GPU programs have been built\n",
      "[LightGBM] [Info] Size of histogram bin entry: 8\n",
      "[LightGBM] [Info] 217 dense feature groups (6.58 MB) transferred to GPU in 0.058487 secs. 1 sparse feature groups\n",
      "threshold: 0.18275551890639355\n",
      "AUC-ROC: 0.9941137506759481\n",
      "Accuracy: 0.8398\n",
      "PR_AUC: 0.9949040752126812\n",
      "Epoch 147/300\n"
     ]
    },
    {
     "name": "stderr",
     "output_type": "stream",
     "text": [
      "c:\\Users\\FH-Deg\\.conda\\envs\\tf_c_gpu\\lib\\site-packages\\lightgbm\\basic.py:1192: UserWarning: Converting data to scipy sparse matrix.\n",
      "  _log_warning('Converting data to scipy sparse matrix.')\n"
     ]
    },
    {
     "name": "stdout",
     "output_type": "stream",
     "text": [
      "[LightGBM] [Info] Number of positive: 982, number of negative: 30366\n",
      "[LightGBM] [Info] This is the GPU trainer!!\n",
      "[LightGBM] [Info] Total Bins 99484\n",
      "[LightGBM] [Info] Number of data points in the train set: 31348, number of used features: 586\n",
      "[LightGBM] [Info] Using GPU Device: Quadro RTX 4000, Vendor: NVIDIA Corporation\n",
      "[LightGBM] [Info] Compiling OpenCL Kernel with 256 bins...\n",
      "[LightGBM] [Info] GPU programs have been built\n",
      "[LightGBM] [Info] Size of histogram bin entry: 8\n",
      "[LightGBM] [Info] 217 dense feature groups (6.58 MB) transferred to GPU in 0.062801 secs. 1 sparse feature groups\n",
      "threshold: 0.1827044411244621\n",
      "AUC-ROC: 0.9941301542689911\n",
      "Accuracy: 0.8393\n",
      "PR_AUC: 0.9949195153228805\n",
      "Epoch 148/300\n"
     ]
    },
    {
     "name": "stderr",
     "output_type": "stream",
     "text": [
      "c:\\Users\\FH-Deg\\.conda\\envs\\tf_c_gpu\\lib\\site-packages\\lightgbm\\basic.py:1192: UserWarning: Converting data to scipy sparse matrix.\n",
      "  _log_warning('Converting data to scipy sparse matrix.')\n"
     ]
    },
    {
     "name": "stdout",
     "output_type": "stream",
     "text": [
      "[LightGBM] [Info] Number of positive: 982, number of negative: 30366\n",
      "[LightGBM] [Info] This is the GPU trainer!!\n",
      "[LightGBM] [Info] Total Bins 99484\n",
      "[LightGBM] [Info] Number of data points in the train set: 31348, number of used features: 586\n",
      "[LightGBM] [Info] Using GPU Device: Quadro RTX 4000, Vendor: NVIDIA Corporation\n",
      "[LightGBM] [Info] Compiling OpenCL Kernel with 256 bins...\n",
      "[LightGBM] [Info] GPU programs have been built\n",
      "[LightGBM] [Info] Size of histogram bin entry: 8\n",
      "[LightGBM] [Info] 217 dense feature groups (6.58 MB) transferred to GPU in 0.066440 secs. 1 sparse feature groups\n",
      "threshold: 0.18254214129794352\n",
      "AUC-ROC: 0.99412275264774\n",
      "Accuracy: 0.8395\n",
      "PR_AUC: 0.9949137590376598\n",
      "Updating target policy...\n",
      "Epoch 149/300\n"
     ]
    },
    {
     "name": "stderr",
     "output_type": "stream",
     "text": [
      "c:\\Users\\FH-Deg\\.conda\\envs\\tf_c_gpu\\lib\\site-packages\\lightgbm\\basic.py:1192: UserWarning: Converting data to scipy sparse matrix.\n",
      "  _log_warning('Converting data to scipy sparse matrix.')\n"
     ]
    },
    {
     "name": "stdout",
     "output_type": "stream",
     "text": [
      "[LightGBM] [Info] Number of positive: 982, number of negative: 30366\n",
      "[LightGBM] [Info] This is the GPU trainer!!\n",
      "[LightGBM] [Info] Total Bins 99484\n",
      "[LightGBM] [Info] Number of data points in the train set: 31348, number of used features: 586\n",
      "[LightGBM] [Info] Using GPU Device: Quadro RTX 4000, Vendor: NVIDIA Corporation\n",
      "[LightGBM] [Info] Compiling OpenCL Kernel with 256 bins...\n",
      "[LightGBM] [Info] GPU programs have been built\n",
      "[LightGBM] [Info] Size of histogram bin entry: 8\n",
      "[LightGBM] [Info] 217 dense feature groups (6.58 MB) transferred to GPU in 0.059601 secs. 1 sparse feature groups\n",
      "threshold: 0.1825015356818993\n",
      "AUC-ROC: 0.9941363556273366\n",
      "Accuracy: 0.8391\n",
      "PR_AUC: 0.9949286051170378\n",
      "Epoch 150/300\n"
     ]
    },
    {
     "name": "stderr",
     "output_type": "stream",
     "text": [
      "c:\\Users\\FH-Deg\\.conda\\envs\\tf_c_gpu\\lib\\site-packages\\lightgbm\\basic.py:1192: UserWarning: Converting data to scipy sparse matrix.\n",
      "  _log_warning('Converting data to scipy sparse matrix.')\n"
     ]
    },
    {
     "name": "stdout",
     "output_type": "stream",
     "text": [
      "[LightGBM] [Info] Number of positive: 982, number of negative: 30366\n",
      "[LightGBM] [Info] This is the GPU trainer!!\n",
      "[LightGBM] [Info] Total Bins 99484\n",
      "[LightGBM] [Info] Number of data points in the train set: 31348, number of used features: 586\n",
      "[LightGBM] [Info] Using GPU Device: Quadro RTX 4000, Vendor: NVIDIA Corporation\n",
      "[LightGBM] [Info] Compiling OpenCL Kernel with 256 bins...\n",
      "[LightGBM] [Info] GPU programs have been built\n",
      "[LightGBM] [Info] Size of histogram bin entry: 8\n",
      "[LightGBM] [Info] 217 dense feature groups (6.58 MB) transferred to GPU in 0.066691 secs. 1 sparse feature groups\n",
      "threshold: 0.1823822136084125\n",
      "AUC-ROC: 0.9941450375290204\n",
      "Accuracy: 0.8385\n",
      "PR_AUC: 0.9949372518341978\n",
      "Epoch 151/300\n"
     ]
    },
    {
     "name": "stderr",
     "output_type": "stream",
     "text": [
      "c:\\Users\\FH-Deg\\.conda\\envs\\tf_c_gpu\\lib\\site-packages\\lightgbm\\basic.py:1192: UserWarning: Converting data to scipy sparse matrix.\n",
      "  _log_warning('Converting data to scipy sparse matrix.')\n"
     ]
    },
    {
     "name": "stdout",
     "output_type": "stream",
     "text": [
      "[LightGBM] [Info] Number of positive: 982, number of negative: 30366\n",
      "[LightGBM] [Info] This is the GPU trainer!!\n",
      "[LightGBM] [Info] Total Bins 99484\n",
      "[LightGBM] [Info] Number of data points in the train set: 31348, number of used features: 586\n",
      "[LightGBM] [Info] Using GPU Device: Quadro RTX 4000, Vendor: NVIDIA Corporation\n",
      "[LightGBM] [Info] Compiling OpenCL Kernel with 256 bins...\n",
      "[LightGBM] [Info] GPU programs have been built\n",
      "[LightGBM] [Info] Size of histogram bin entry: 8\n",
      "[LightGBM] [Info] 217 dense feature groups (6.58 MB) transferred to GPU in 0.067752 secs. 1 sparse feature groups\n",
      "threshold: 0.18232935374245152\n",
      "AUC-ROC: 0.9941687227170238\n",
      "Accuracy: 0.8384\n",
      "PR_AUC: 0.9949505272749325\n",
      "Updating target policy...\n",
      "Epoch 152/300\n"
     ]
    },
    {
     "name": "stderr",
     "output_type": "stream",
     "text": [
      "c:\\Users\\FH-Deg\\.conda\\envs\\tf_c_gpu\\lib\\site-packages\\lightgbm\\basic.py:1192: UserWarning: Converting data to scipy sparse matrix.\n",
      "  _log_warning('Converting data to scipy sparse matrix.')\n"
     ]
    },
    {
     "name": "stdout",
     "output_type": "stream",
     "text": [
      "[LightGBM] [Info] Number of positive: 982, number of negative: 30366\n",
      "[LightGBM] [Info] This is the GPU trainer!!\n",
      "[LightGBM] [Info] Total Bins 99484\n",
      "[LightGBM] [Info] Number of data points in the train set: 31348, number of used features: 586\n",
      "[LightGBM] [Info] Using GPU Device: Quadro RTX 4000, Vendor: NVIDIA Corporation\n",
      "[LightGBM] [Info] Compiling OpenCL Kernel with 256 bins...\n",
      "[LightGBM] [Info] GPU programs have been built\n",
      "[LightGBM] [Info] Size of histogram bin entry: 8\n",
      "[LightGBM] [Info] 217 dense feature groups (6.58 MB) transferred to GPU in 0.075602 secs. 1 sparse feature groups\n",
      "threshold: 0.1822001023184313\n",
      "AUC-ROC: 0.9941535593956501\n",
      "Accuracy: 0.838\n",
      "PR_AUC: 0.994935929139452\n",
      "Epoch 153/300\n"
     ]
    },
    {
     "name": "stderr",
     "output_type": "stream",
     "text": [
      "c:\\Users\\FH-Deg\\.conda\\envs\\tf_c_gpu\\lib\\site-packages\\lightgbm\\basic.py:1192: UserWarning: Converting data to scipy sparse matrix.\n",
      "  _log_warning('Converting data to scipy sparse matrix.')\n"
     ]
    },
    {
     "name": "stdout",
     "output_type": "stream",
     "text": [
      "[LightGBM] [Info] Number of positive: 982, number of negative: 30366\n",
      "[LightGBM] [Info] This is the GPU trainer!!\n",
      "[LightGBM] [Info] Total Bins 99484\n",
      "[LightGBM] [Info] Number of data points in the train set: 31348, number of used features: 586\n",
      "[LightGBM] [Info] Using GPU Device: Quadro RTX 4000, Vendor: NVIDIA Corporation\n",
      "[LightGBM] [Info] Compiling OpenCL Kernel with 256 bins...\n",
      "[LightGBM] [Info] GPU programs have been built\n",
      "[LightGBM] [Info] Size of histogram bin entry: 8\n",
      "[LightGBM] [Info] 217 dense feature groups (6.58 MB) transferred to GPU in 0.059823 secs. 1 sparse feature groups\n",
      "threshold: 0.18207275233937226\n",
      "AUC-ROC: 0.9941666422613208\n",
      "Accuracy: 0.8379\n",
      "PR_AUC: 0.9949498986435533\n",
      "Epoch 154/300\n"
     ]
    },
    {
     "name": "stderr",
     "output_type": "stream",
     "text": [
      "c:\\Users\\FH-Deg\\.conda\\envs\\tf_c_gpu\\lib\\site-packages\\lightgbm\\basic.py:1192: UserWarning: Converting data to scipy sparse matrix.\n",
      "  _log_warning('Converting data to scipy sparse matrix.')\n"
     ]
    },
    {
     "name": "stdout",
     "output_type": "stream",
     "text": [
      "[LightGBM] [Info] Number of positive: 982, number of negative: 30366\n",
      "[LightGBM] [Info] This is the GPU trainer!!\n",
      "[LightGBM] [Info] Total Bins 99484\n",
      "[LightGBM] [Info] Number of data points in the train set: 31348, number of used features: 586\n",
      "[LightGBM] [Info] Using GPU Device: Quadro RTX 4000, Vendor: NVIDIA Corporation\n",
      "[LightGBM] [Info] Compiling OpenCL Kernel with 256 bins...\n",
      "[LightGBM] [Info] GPU programs have been built\n",
      "[LightGBM] [Info] Size of histogram bin entry: 8\n",
      "[LightGBM] [Info] 217 dense feature groups (6.58 MB) transferred to GPU in 0.079669 secs. 1 sparse feature groups\n",
      "threshold: 0.18203110841390485\n",
      "AUC-ROC: 0.9941908475632503\n",
      "Accuracy: 0.8375\n",
      "PR_AUC: 0.9949709475407402\n",
      "Updating target policy...\n",
      "Epoch 155/300\n"
     ]
    },
    {
     "name": "stderr",
     "output_type": "stream",
     "text": [
      "c:\\Users\\FH-Deg\\.conda\\envs\\tf_c_gpu\\lib\\site-packages\\lightgbm\\basic.py:1192: UserWarning: Converting data to scipy sparse matrix.\n",
      "  _log_warning('Converting data to scipy sparse matrix.')\n"
     ]
    },
    {
     "name": "stdout",
     "output_type": "stream",
     "text": [
      "[LightGBM] [Info] Number of positive: 982, number of negative: 30366\n",
      "[LightGBM] [Info] This is the GPU trainer!!\n",
      "[LightGBM] [Info] Total Bins 99484\n",
      "[LightGBM] [Info] Number of data points in the train set: 31348, number of used features: 586\n",
      "[LightGBM] [Info] Using GPU Device: Quadro RTX 4000, Vendor: NVIDIA Corporation\n",
      "[LightGBM] [Info] Compiling OpenCL Kernel with 256 bins...\n",
      "[LightGBM] [Info] GPU programs have been built\n",
      "[LightGBM] [Info] Size of histogram bin entry: 8\n",
      "[LightGBM] [Info] 217 dense feature groups (6.58 MB) transferred to GPU in 0.080412 secs. 1 sparse feature groups\n",
      "threshold: 0.18215193081179926\n",
      "AUC-ROC: 0.99418720676577\n",
      "Accuracy: 0.8377\n",
      "PR_AUC: 0.9949699375904054\n",
      "Epoch 156/300\n"
     ]
    },
    {
     "name": "stderr",
     "output_type": "stream",
     "text": [
      "c:\\Users\\FH-Deg\\.conda\\envs\\tf_c_gpu\\lib\\site-packages\\lightgbm\\basic.py:1192: UserWarning: Converting data to scipy sparse matrix.\n",
      "  _log_warning('Converting data to scipy sparse matrix.')\n"
     ]
    },
    {
     "name": "stdout",
     "output_type": "stream",
     "text": [
      "[LightGBM] [Info] Number of positive: 982, number of negative: 30366\n",
      "[LightGBM] [Info] This is the GPU trainer!!\n",
      "[LightGBM] [Info] Total Bins 99484\n",
      "[LightGBM] [Info] Number of data points in the train set: 31348, number of used features: 586\n",
      "[LightGBM] [Info] Using GPU Device: Quadro RTX 4000, Vendor: NVIDIA Corporation\n",
      "[LightGBM] [Info] Compiling OpenCL Kernel with 256 bins...\n",
      "[LightGBM] [Info] GPU programs have been built\n",
      "[LightGBM] [Info] Size of histogram bin entry: 8\n",
      "[LightGBM] [Info] 217 dense feature groups (6.58 MB) transferred to GPU in 0.066615 secs. 1 sparse feature groups\n",
      "threshold: 0.18182385984321978\n",
      "AUC-ROC: 0.9942075312176379\n",
      "Accuracy: 0.8373\n",
      "PR_AUC: 0.9949816736276151\n",
      "Epoch 157/300\n"
     ]
    },
    {
     "name": "stderr",
     "output_type": "stream",
     "text": [
      "c:\\Users\\FH-Deg\\.conda\\envs\\tf_c_gpu\\lib\\site-packages\\lightgbm\\basic.py:1192: UserWarning: Converting data to scipy sparse matrix.\n",
      "  _log_warning('Converting data to scipy sparse matrix.')\n"
     ]
    },
    {
     "name": "stdout",
     "output_type": "stream",
     "text": [
      "[LightGBM] [Info] Number of positive: 982, number of negative: 30366\n",
      "[LightGBM] [Info] This is the GPU trainer!!\n",
      "[LightGBM] [Info] Total Bins 99484\n",
      "[LightGBM] [Info] Number of data points in the train set: 31348, number of used features: 586\n",
      "[LightGBM] [Info] Using GPU Device: Quadro RTX 4000, Vendor: NVIDIA Corporation\n",
      "[LightGBM] [Info] Compiling OpenCL Kernel with 256 bins...\n",
      "[LightGBM] [Info] GPU programs have been built\n",
      "[LightGBM] [Info] Size of histogram bin entry: 8\n",
      "[LightGBM] [Info] 217 dense feature groups (6.58 MB) transferred to GPU in 0.083082 secs. 1 sparse feature groups\n",
      "threshold: 0.18197017601672\n",
      "AUC-ROC: 0.9942248550122419\n",
      "Accuracy: 0.8367\n",
      "PR_AUC: 0.9949993547135775\n",
      "Updating target policy...\n",
      "Epoch 158/300\n"
     ]
    },
    {
     "name": "stderr",
     "output_type": "stream",
     "text": [
      "c:\\Users\\FH-Deg\\.conda\\envs\\tf_c_gpu\\lib\\site-packages\\lightgbm\\basic.py:1192: UserWarning: Converting data to scipy sparse matrix.\n",
      "  _log_warning('Converting data to scipy sparse matrix.')\n"
     ]
    },
    {
     "name": "stdout",
     "output_type": "stream",
     "text": [
      "[LightGBM] [Info] Number of positive: 982, number of negative: 30366\n",
      "[LightGBM] [Info] This is the GPU trainer!!\n",
      "[LightGBM] [Info] Total Bins 99484\n",
      "[LightGBM] [Info] Number of data points in the train set: 31348, number of used features: 586\n",
      "[LightGBM] [Info] Using GPU Device: Quadro RTX 4000, Vendor: NVIDIA Corporation\n",
      "[LightGBM] [Info] Compiling OpenCL Kernel with 256 bins...\n",
      "[LightGBM] [Info] GPU programs have been built\n",
      "[LightGBM] [Info] Size of histogram bin entry: 8\n",
      "[LightGBM] [Info] 217 dense feature groups (6.58 MB) transferred to GPU in 0.056598 secs. 1 sparse feature groups\n",
      "threshold: 0.18167097277472938\n",
      "AUC-ROC: 0.9942079313052731\n",
      "Accuracy: 0.8365\n",
      "PR_AUC: 0.994986186539491\n",
      "Epoch 159/300\n"
     ]
    },
    {
     "name": "stderr",
     "output_type": "stream",
     "text": [
      "c:\\Users\\FH-Deg\\.conda\\envs\\tf_c_gpu\\lib\\site-packages\\lightgbm\\basic.py:1192: UserWarning: Converting data to scipy sparse matrix.\n",
      "  _log_warning('Converting data to scipy sparse matrix.')\n"
     ]
    },
    {
     "name": "stdout",
     "output_type": "stream",
     "text": [
      "[LightGBM] [Info] Number of positive: 982, number of negative: 30366\n",
      "[LightGBM] [Info] This is the GPU trainer!!\n",
      "[LightGBM] [Info] Total Bins 99484\n",
      "[LightGBM] [Info] Number of data points in the train set: 31348, number of used features: 586\n",
      "[LightGBM] [Info] Using GPU Device: Quadro RTX 4000, Vendor: NVIDIA Corporation\n",
      "[LightGBM] [Info] Compiling OpenCL Kernel with 256 bins...\n",
      "[LightGBM] [Info] GPU programs have been built\n",
      "[LightGBM] [Info] Size of histogram bin entry: 8\n",
      "[LightGBM] [Info] 217 dense feature groups (6.58 MB) transferred to GPU in 0.067167 secs. 1 sparse feature groups\n",
      "threshold: 0.1813270237272519\n",
      "AUC-ROC: 0.9942130124182401\n",
      "Accuracy: 0.8366\n",
      "PR_AUC: 0.9949935126690672\n",
      "Epoch 160/300\n"
     ]
    },
    {
     "name": "stderr",
     "output_type": "stream",
     "text": [
      "c:\\Users\\FH-Deg\\.conda\\envs\\tf_c_gpu\\lib\\site-packages\\lightgbm\\basic.py:1192: UserWarning: Converting data to scipy sparse matrix.\n",
      "  _log_warning('Converting data to scipy sparse matrix.')\n"
     ]
    },
    {
     "name": "stdout",
     "output_type": "stream",
     "text": [
      "[LightGBM] [Info] Number of positive: 982, number of negative: 30366\n",
      "[LightGBM] [Info] This is the GPU trainer!!\n",
      "[LightGBM] [Info] Total Bins 99484\n",
      "[LightGBM] [Info] Number of data points in the train set: 31348, number of used features: 586\n",
      "[LightGBM] [Info] Using GPU Device: Quadro RTX 4000, Vendor: NVIDIA Corporation\n",
      "[LightGBM] [Info] Compiling OpenCL Kernel with 256 bins...\n",
      "[LightGBM] [Info] GPU programs have been built\n",
      "[LightGBM] [Info] Size of histogram bin entry: 8\n",
      "[LightGBM] [Info] 217 dense feature groups (6.58 MB) transferred to GPU in 0.065182 secs. 1 sparse feature groups\n",
      "threshold: 0.18116255845761606\n",
      "AUC-ROC: 0.99425382135703\n",
      "Accuracy: 0.8362\n",
      "PR_AUC: 0.9950259629807564\n",
      "Updating target policy...\n",
      "Epoch 161/300\n"
     ]
    },
    {
     "name": "stderr",
     "output_type": "stream",
     "text": [
      "c:\\Users\\FH-Deg\\.conda\\envs\\tf_c_gpu\\lib\\site-packages\\lightgbm\\basic.py:1192: UserWarning: Converting data to scipy sparse matrix.\n",
      "  _log_warning('Converting data to scipy sparse matrix.')\n"
     ]
    },
    {
     "name": "stdout",
     "output_type": "stream",
     "text": [
      "[LightGBM] [Info] Number of positive: 982, number of negative: 30366\n",
      "[LightGBM] [Info] This is the GPU trainer!!\n",
      "[LightGBM] [Info] Total Bins 99484\n",
      "[LightGBM] [Info] Number of data points in the train set: 31348, number of used features: 586\n",
      "[LightGBM] [Info] Using GPU Device: Quadro RTX 4000, Vendor: NVIDIA Corporation\n",
      "[LightGBM] [Info] Compiling OpenCL Kernel with 256 bins...\n",
      "[LightGBM] [Info] GPU programs have been built\n",
      "[LightGBM] [Info] Size of histogram bin entry: 8\n",
      "[LightGBM] [Info] 217 dense feature groups (6.58 MB) transferred to GPU in 0.074214 secs. 1 sparse feature groups\n",
      "threshold: 0.18115785175987253\n",
      "AUC-ROC: 0.99425450150601\n",
      "Accuracy: 0.8368\n",
      "PR_AUC: 0.9950290119426234\n",
      "Epoch 162/300\n"
     ]
    },
    {
     "name": "stderr",
     "output_type": "stream",
     "text": [
      "c:\\Users\\FH-Deg\\.conda\\envs\\tf_c_gpu\\lib\\site-packages\\lightgbm\\basic.py:1192: UserWarning: Converting data to scipy sparse matrix.\n",
      "  _log_warning('Converting data to scipy sparse matrix.')\n"
     ]
    },
    {
     "name": "stdout",
     "output_type": "stream",
     "text": [
      "[LightGBM] [Info] Number of positive: 982, number of negative: 30366\n",
      "[LightGBM] [Info] This is the GPU trainer!!\n",
      "[LightGBM] [Info] Total Bins 99484\n",
      "[LightGBM] [Info] Number of data points in the train set: 31348, number of used features: 586\n",
      "[LightGBM] [Info] Using GPU Device: Quadro RTX 4000, Vendor: NVIDIA Corporation\n",
      "[LightGBM] [Info] Compiling OpenCL Kernel with 256 bins...\n",
      "[LightGBM] [Info] GPU programs have been built\n",
      "[LightGBM] [Info] Size of histogram bin entry: 8\n",
      "[LightGBM] [Info] 217 dense feature groups (6.58 MB) transferred to GPU in 0.062133 secs. 1 sparse feature groups\n",
      "threshold: 0.1811081260496644\n",
      "AUC-ROC: 0.9942636635128559\n",
      "Accuracy: 0.8362\n",
      "PR_AUC: 0.9950330962810727\n",
      "Epoch 163/300\n"
     ]
    },
    {
     "name": "stderr",
     "output_type": "stream",
     "text": [
      "c:\\Users\\FH-Deg\\.conda\\envs\\tf_c_gpu\\lib\\site-packages\\lightgbm\\basic.py:1192: UserWarning: Converting data to scipy sparse matrix.\n",
      "  _log_warning('Converting data to scipy sparse matrix.')\n"
     ]
    },
    {
     "name": "stdout",
     "output_type": "stream",
     "text": [
      "[LightGBM] [Info] Number of positive: 982, number of negative: 30366\n",
      "[LightGBM] [Info] This is the GPU trainer!!\n",
      "[LightGBM] [Info] Total Bins 99484\n",
      "[LightGBM] [Info] Number of data points in the train set: 31348, number of used features: 586\n",
      "[LightGBM] [Info] Using GPU Device: Quadro RTX 4000, Vendor: NVIDIA Corporation\n",
      "[LightGBM] [Info] Compiling OpenCL Kernel with 256 bins...\n",
      "[LightGBM] [Info] GPU programs have been built\n",
      "[LightGBM] [Info] Size of histogram bin entry: 8\n",
      "[LightGBM] [Info] 217 dense feature groups (6.58 MB) transferred to GPU in 0.057498 secs. 1 sparse feature groups\n",
      "threshold: 0.18107800690181539\n",
      "AUC-ROC: 0.9942889890601637\n",
      "Accuracy: 0.8354\n",
      "PR_AUC: 0.9950486586022811\n",
      "Updating target policy...\n",
      "Epoch 164/300\n"
     ]
    },
    {
     "name": "stderr",
     "output_type": "stream",
     "text": [
      "c:\\Users\\FH-Deg\\.conda\\envs\\tf_c_gpu\\lib\\site-packages\\lightgbm\\basic.py:1192: UserWarning: Converting data to scipy sparse matrix.\n",
      "  _log_warning('Converting data to scipy sparse matrix.')\n"
     ]
    },
    {
     "name": "stdout",
     "output_type": "stream",
     "text": [
      "[LightGBM] [Info] Number of positive: 982, number of negative: 30366\n",
      "[LightGBM] [Info] This is the GPU trainer!!\n",
      "[LightGBM] [Info] Total Bins 99484\n",
      "[LightGBM] [Info] Number of data points in the train set: 31348, number of used features: 586\n",
      "[LightGBM] [Info] Using GPU Device: Quadro RTX 4000, Vendor: NVIDIA Corporation\n",
      "[LightGBM] [Info] Compiling OpenCL Kernel with 256 bins...\n",
      "[LightGBM] [Info] GPU programs have been built\n",
      "[LightGBM] [Info] Size of histogram bin entry: 8\n",
      "[LightGBM] [Info] 217 dense feature groups (6.58 MB) transferred to GPU in 0.077477 secs. 1 sparse feature groups\n",
      "threshold: 0.18096008179466158\n",
      "AUC-ROC: 0.9942891490952178\n",
      "Accuracy: 0.8349\n",
      "PR_AUC: 0.9950469068294784\n",
      "Epoch 165/300\n"
     ]
    },
    {
     "name": "stderr",
     "output_type": "stream",
     "text": [
      "c:\\Users\\FH-Deg\\.conda\\envs\\tf_c_gpu\\lib\\site-packages\\lightgbm\\basic.py:1192: UserWarning: Converting data to scipy sparse matrix.\n",
      "  _log_warning('Converting data to scipy sparse matrix.')\n"
     ]
    },
    {
     "name": "stdout",
     "output_type": "stream",
     "text": [
      "[LightGBM] [Info] Number of positive: 982, number of negative: 30366\n",
      "[LightGBM] [Info] This is the GPU trainer!!\n",
      "[LightGBM] [Info] Total Bins 99484\n",
      "[LightGBM] [Info] Number of data points in the train set: 31348, number of used features: 586\n",
      "[LightGBM] [Info] Using GPU Device: Quadro RTX 4000, Vendor: NVIDIA Corporation\n",
      "[LightGBM] [Info] Compiling OpenCL Kernel with 256 bins...\n",
      "[LightGBM] [Info] GPU programs have been built\n",
      "[LightGBM] [Info] Size of histogram bin entry: 8\n",
      "[LightGBM] [Info] 217 dense feature groups (6.58 MB) transferred to GPU in 0.081705 secs. 1 sparse feature groups\n",
      "threshold: 0.18076278656646308\n",
      "AUC-ROC: 0.9942962306463607\n",
      "Accuracy: 0.8346\n",
      "PR_AUC: 0.9950520688806598\n",
      "Epoch 166/300\n"
     ]
    },
    {
     "name": "stderr",
     "output_type": "stream",
     "text": [
      "c:\\Users\\FH-Deg\\.conda\\envs\\tf_c_gpu\\lib\\site-packages\\lightgbm\\basic.py:1192: UserWarning: Converting data to scipy sparse matrix.\n",
      "  _log_warning('Converting data to scipy sparse matrix.')\n"
     ]
    },
    {
     "name": "stdout",
     "output_type": "stream",
     "text": [
      "[LightGBM] [Info] Number of positive: 982, number of negative: 30366\n",
      "[LightGBM] [Info] This is the GPU trainer!!\n",
      "[LightGBM] [Info] Total Bins 99484\n",
      "[LightGBM] [Info] Number of data points in the train set: 31348, number of used features: 586\n",
      "[LightGBM] [Info] Using GPU Device: Quadro RTX 4000, Vendor: NVIDIA Corporation\n",
      "[LightGBM] [Info] Compiling OpenCL Kernel with 256 bins...\n",
      "[LightGBM] [Info] GPU programs have been built\n",
      "[LightGBM] [Info] Size of histogram bin entry: 8\n",
      "[LightGBM] [Info] 217 dense feature groups (6.58 MB) transferred to GPU in 0.057133 secs. 1 sparse feature groups\n",
      "threshold: 0.18039105760850419\n",
      "AUC-ROC: 0.9942927498839346\n",
      "Accuracy: 0.8345\n",
      "PR_AUC: 0.9950508691755402\n",
      "Updating target policy...\n",
      "Epoch 167/300\n"
     ]
    },
    {
     "name": "stderr",
     "output_type": "stream",
     "text": [
      "c:\\Users\\FH-Deg\\.conda\\envs\\tf_c_gpu\\lib\\site-packages\\lightgbm\\basic.py:1192: UserWarning: Converting data to scipy sparse matrix.\n",
      "  _log_warning('Converting data to scipy sparse matrix.')\n"
     ]
    },
    {
     "name": "stdout",
     "output_type": "stream",
     "text": [
      "[LightGBM] [Info] Number of positive: 982, number of negative: 30366\n",
      "[LightGBM] [Info] This is the GPU trainer!!\n",
      "[LightGBM] [Info] Total Bins 99484\n",
      "[LightGBM] [Info] Number of data points in the train set: 31348, number of used features: 586\n",
      "[LightGBM] [Info] Using GPU Device: Quadro RTX 4000, Vendor: NVIDIA Corporation\n",
      "[LightGBM] [Info] Compiling OpenCL Kernel with 256 bins...\n",
      "[LightGBM] [Info] GPU programs have been built\n",
      "[LightGBM] [Info] Size of histogram bin entry: 8\n",
      "[LightGBM] [Info] 217 dense feature groups (6.58 MB) transferred to GPU in 0.079928 secs. 1 sparse feature groups\n",
      "threshold: 0.18017008044172791\n",
      "AUC-ROC: 0.9942983911195908\n",
      "Accuracy: 0.8343\n",
      "PR_AUC: 0.9950574912197293\n",
      "Epoch 168/300\n"
     ]
    },
    {
     "name": "stderr",
     "output_type": "stream",
     "text": [
      "c:\\Users\\FH-Deg\\.conda\\envs\\tf_c_gpu\\lib\\site-packages\\lightgbm\\basic.py:1192: UserWarning: Converting data to scipy sparse matrix.\n",
      "  _log_warning('Converting data to scipy sparse matrix.')\n"
     ]
    },
    {
     "name": "stdout",
     "output_type": "stream",
     "text": [
      "[LightGBM] [Info] Number of positive: 982, number of negative: 30366\n",
      "[LightGBM] [Info] This is the GPU trainer!!\n",
      "[LightGBM] [Info] Total Bins 99484\n",
      "[LightGBM] [Info] Number of data points in the train set: 31348, number of used features: 586\n",
      "[LightGBM] [Info] Using GPU Device: Quadro RTX 4000, Vendor: NVIDIA Corporation\n",
      "[LightGBM] [Info] Compiling OpenCL Kernel with 256 bins...\n",
      "[LightGBM] [Info] GPU programs have been built\n",
      "[LightGBM] [Info] Size of histogram bin entry: 8\n",
      "[LightGBM] [Info] 217 dense feature groups (6.58 MB) transferred to GPU in 0.065742 secs. 1 sparse feature groups\n",
      "threshold: 0.1800998249309051\n",
      "AUC-ROC: 0.9943011917330371\n",
      "Accuracy: 0.8338\n",
      "PR_AUC: 0.9950619518178792\n",
      "Epoch 169/300\n"
     ]
    },
    {
     "name": "stderr",
     "output_type": "stream",
     "text": [
      "c:\\Users\\FH-Deg\\.conda\\envs\\tf_c_gpu\\lib\\site-packages\\lightgbm\\basic.py:1192: UserWarning: Converting data to scipy sparse matrix.\n",
      "  _log_warning('Converting data to scipy sparse matrix.')\n"
     ]
    },
    {
     "name": "stdout",
     "output_type": "stream",
     "text": [
      "[LightGBM] [Info] Number of positive: 982, number of negative: 30366\n",
      "[LightGBM] [Info] This is the GPU trainer!!\n",
      "[LightGBM] [Info] Total Bins 99484\n",
      "[LightGBM] [Info] Number of data points in the train set: 31348, number of used features: 586\n",
      "[LightGBM] [Info] Using GPU Device: Quadro RTX 4000, Vendor: NVIDIA Corporation\n",
      "[LightGBM] [Info] Compiling OpenCL Kernel with 256 bins...\n",
      "[LightGBM] [Info] GPU programs have been built\n",
      "[LightGBM] [Info] Size of histogram bin entry: 8\n",
      "[LightGBM] [Info] 217 dense feature groups (6.58 MB) transferred to GPU in 0.067023 secs. 1 sparse feature groups\n",
      "threshold: 0.18012910928016893\n",
      "AUC-ROC: 0.9942987511984626\n",
      "Accuracy: 0.8333\n",
      "PR_AUC: 0.9950625407440269\n",
      "Updating target policy...\n",
      "Epoch 170/300\n"
     ]
    },
    {
     "name": "stderr",
     "output_type": "stream",
     "text": [
      "c:\\Users\\FH-Deg\\.conda\\envs\\tf_c_gpu\\lib\\site-packages\\lightgbm\\basic.py:1192: UserWarning: Converting data to scipy sparse matrix.\n",
      "  _log_warning('Converting data to scipy sparse matrix.')\n"
     ]
    },
    {
     "name": "stdout",
     "output_type": "stream",
     "text": [
      "[LightGBM] [Info] Number of positive: 982, number of negative: 30366\n",
      "[LightGBM] [Info] This is the GPU trainer!!\n",
      "[LightGBM] [Info] Total Bins 99484\n",
      "[LightGBM] [Info] Number of data points in the train set: 31348, number of used features: 586\n",
      "[LightGBM] [Info] Using GPU Device: Quadro RTX 4000, Vendor: NVIDIA Corporation\n",
      "[LightGBM] [Info] Compiling OpenCL Kernel with 256 bins...\n",
      "[LightGBM] [Info] GPU programs have been built\n",
      "[LightGBM] [Info] Size of histogram bin entry: 8\n",
      "[LightGBM] [Info] 217 dense feature groups (6.58 MB) transferred to GPU in 0.067539 secs. 1 sparse feature groups\n",
      "threshold: 0.17981863949355995\n",
      "AUC-ROC: 0.9943045124604094\n",
      "Accuracy: 0.833\n",
      "PR_AUC: 0.9950680053370974\n",
      "Epoch 171/300\n"
     ]
    },
    {
     "name": "stderr",
     "output_type": "stream",
     "text": [
      "c:\\Users\\FH-Deg\\.conda\\envs\\tf_c_gpu\\lib\\site-packages\\lightgbm\\basic.py:1192: UserWarning: Converting data to scipy sparse matrix.\n",
      "  _log_warning('Converting data to scipy sparse matrix.')\n"
     ]
    },
    {
     "name": "stdout",
     "output_type": "stream",
     "text": [
      "[LightGBM] [Info] Number of positive: 982, number of negative: 30366\n",
      "[LightGBM] [Info] This is the GPU trainer!!\n",
      "[LightGBM] [Info] Total Bins 99484\n",
      "[LightGBM] [Info] Number of data points in the train set: 31348, number of used features: 586\n",
      "[LightGBM] [Info] Using GPU Device: Quadro RTX 4000, Vendor: NVIDIA Corporation\n",
      "[LightGBM] [Info] Compiling OpenCL Kernel with 256 bins...\n",
      "[LightGBM] [Info] GPU programs have been built\n",
      "[LightGBM] [Info] Size of histogram bin entry: 8\n",
      "[LightGBM] [Info] 217 dense feature groups (6.58 MB) transferred to GPU in 0.061034 secs. 1 sparse feature groups\n",
      "threshold: 0.1797694021600486\n",
      "AUC-ROC: 0.994290629419468\n",
      "Accuracy: 0.8327\n",
      "PR_AUC: 0.9950551489626058\n",
      "Epoch 172/300\n"
     ]
    },
    {
     "name": "stderr",
     "output_type": "stream",
     "text": [
      "c:\\Users\\FH-Deg\\.conda\\envs\\tf_c_gpu\\lib\\site-packages\\lightgbm\\basic.py:1192: UserWarning: Converting data to scipy sparse matrix.\n",
      "  _log_warning('Converting data to scipy sparse matrix.')\n"
     ]
    },
    {
     "name": "stdout",
     "output_type": "stream",
     "text": [
      "[LightGBM] [Info] Number of positive: 982, number of negative: 30366\n",
      "[LightGBM] [Info] This is the GPU trainer!!\n",
      "[LightGBM] [Info] Total Bins 99484\n",
      "[LightGBM] [Info] Number of data points in the train set: 31348, number of used features: 586\n",
      "[LightGBM] [Info] Using GPU Device: Quadro RTX 4000, Vendor: NVIDIA Corporation\n",
      "[LightGBM] [Info] Compiling OpenCL Kernel with 256 bins...\n",
      "[LightGBM] [Info] GPU programs have been built\n",
      "[LightGBM] [Info] Size of histogram bin entry: 8\n",
      "[LightGBM] [Info] 217 dense feature groups (6.58 MB) transferred to GPU in 0.053144 secs. 1 sparse feature groups\n",
      "threshold: 0.17955565149251176\n",
      "AUC-ROC: 0.9942950303834552\n",
      "Accuracy: 0.8314\n",
      "PR_AUC: 0.9950600251822508\n",
      "Updating target policy...\n",
      "Epoch 173/300\n"
     ]
    },
    {
     "name": "stderr",
     "output_type": "stream",
     "text": [
      "c:\\Users\\FH-Deg\\.conda\\envs\\tf_c_gpu\\lib\\site-packages\\lightgbm\\basic.py:1192: UserWarning: Converting data to scipy sparse matrix.\n",
      "  _log_warning('Converting data to scipy sparse matrix.')\n"
     ]
    },
    {
     "name": "stdout",
     "output_type": "stream",
     "text": [
      "[LightGBM] [Info] Number of positive: 982, number of negative: 30366\n",
      "[LightGBM] [Info] This is the GPU trainer!!\n",
      "[LightGBM] [Info] Total Bins 99484\n",
      "[LightGBM] [Info] Number of data points in the train set: 31348, number of used features: 586\n",
      "[LightGBM] [Info] Using GPU Device: Quadro RTX 4000, Vendor: NVIDIA Corporation\n",
      "[LightGBM] [Info] Compiling OpenCL Kernel with 256 bins...\n",
      "[LightGBM] [Info] GPU programs have been built\n",
      "[LightGBM] [Info] Size of histogram bin entry: 8\n",
      "[LightGBM] [Info] 217 dense feature groups (6.58 MB) transferred to GPU in 0.079438 secs. 1 sparse feature groups\n",
      "threshold: 0.17917458590376745\n",
      "AUC-ROC: 0.9943001515051858\n",
      "Accuracy: 0.8308\n",
      "PR_AUC: 0.9950620995261958\n",
      "Epoch 174/300\n"
     ]
    },
    {
     "name": "stderr",
     "output_type": "stream",
     "text": [
      "c:\\Users\\FH-Deg\\.conda\\envs\\tf_c_gpu\\lib\\site-packages\\lightgbm\\basic.py:1192: UserWarning: Converting data to scipy sparse matrix.\n",
      "  _log_warning('Converting data to scipy sparse matrix.')\n"
     ]
    },
    {
     "name": "stdout",
     "output_type": "stream",
     "text": [
      "[LightGBM] [Info] Number of positive: 982, number of negative: 30366\n",
      "[LightGBM] [Info] This is the GPU trainer!!\n",
      "[LightGBM] [Info] Total Bins 99484\n",
      "[LightGBM] [Info] Number of data points in the train set: 31348, number of used features: 586\n",
      "[LightGBM] [Info] Using GPU Device: Quadro RTX 4000, Vendor: NVIDIA Corporation\n",
      "[LightGBM] [Info] Compiling OpenCL Kernel with 256 bins...\n",
      "[LightGBM] [Info] GPU programs have been built\n",
      "[LightGBM] [Info] Size of histogram bin entry: 8\n",
      "[LightGBM] [Info] 217 dense feature groups (6.58 MB) transferred to GPU in 0.081809 secs. 1 sparse feature groups\n",
      "threshold: 0.17894090940655638\n",
      "AUC-ROC: 0.9942829877456357\n",
      "Accuracy: 0.8309\n",
      "PR_AUC: 0.9950488165369682\n",
      "Epoch 175/300\n"
     ]
    },
    {
     "name": "stderr",
     "output_type": "stream",
     "text": [
      "c:\\Users\\FH-Deg\\.conda\\envs\\tf_c_gpu\\lib\\site-packages\\lightgbm\\basic.py:1192: UserWarning: Converting data to scipy sparse matrix.\n",
      "  _log_warning('Converting data to scipy sparse matrix.')\n"
     ]
    },
    {
     "name": "stdout",
     "output_type": "stream",
     "text": [
      "[LightGBM] [Info] Number of positive: 982, number of negative: 30366\n",
      "[LightGBM] [Info] This is the GPU trainer!!\n",
      "[LightGBM] [Info] Total Bins 99484\n",
      "[LightGBM] [Info] Number of data points in the train set: 31348, number of used features: 586\n",
      "[LightGBM] [Info] Using GPU Device: Quadro RTX 4000, Vendor: NVIDIA Corporation\n",
      "[LightGBM] [Info] Compiling OpenCL Kernel with 256 bins...\n",
      "[LightGBM] [Info] GPU programs have been built\n",
      "[LightGBM] [Info] Size of histogram bin entry: 8\n",
      "[LightGBM] [Info] 217 dense feature groups (6.58 MB) transferred to GPU in 0.102295 secs. 1 sparse feature groups\n",
      "threshold: 0.1789137706200839\n",
      "AUC-ROC: 0.9942929899365157\n",
      "Accuracy: 0.8305\n",
      "PR_AUC: 0.995057564466002\n",
      "Updating target policy...\n",
      "Epoch 176/300\n"
     ]
    },
    {
     "name": "stderr",
     "output_type": "stream",
     "text": [
      "c:\\Users\\FH-Deg\\.conda\\envs\\tf_c_gpu\\lib\\site-packages\\lightgbm\\basic.py:1192: UserWarning: Converting data to scipy sparse matrix.\n",
      "  _log_warning('Converting data to scipy sparse matrix.')\n"
     ]
    },
    {
     "name": "stdout",
     "output_type": "stream",
     "text": [
      "[LightGBM] [Info] Number of positive: 982, number of negative: 30366\n",
      "[LightGBM] [Info] This is the GPU trainer!!\n",
      "[LightGBM] [Info] Total Bins 99484\n",
      "[LightGBM] [Info] Number of data points in the train set: 31348, number of used features: 586\n",
      "[LightGBM] [Info] Using GPU Device: Quadro RTX 4000, Vendor: NVIDIA Corporation\n",
      "[LightGBM] [Info] Compiling OpenCL Kernel with 256 bins...\n",
      "[LightGBM] [Info] GPU programs have been built\n",
      "[LightGBM] [Info] Size of histogram bin entry: 8\n",
      "[LightGBM] [Info] 217 dense feature groups (6.58 MB) transferred to GPU in 0.070363 secs. 1 sparse feature groups\n",
      "threshold: 0.1787369991763444\n",
      "AUC-ROC: 0.9942885889725285\n",
      "Accuracy: 0.8302\n",
      "PR_AUC: 0.9950552417370938\n",
      "Epoch 177/300\n"
     ]
    },
    {
     "name": "stderr",
     "output_type": "stream",
     "text": [
      "c:\\Users\\FH-Deg\\.conda\\envs\\tf_c_gpu\\lib\\site-packages\\lightgbm\\basic.py:1192: UserWarning: Converting data to scipy sparse matrix.\n",
      "  _log_warning('Converting data to scipy sparse matrix.')\n"
     ]
    },
    {
     "name": "stdout",
     "output_type": "stream",
     "text": [
      "[LightGBM] [Info] Number of positive: 982, number of negative: 30366\n",
      "[LightGBM] [Info] This is the GPU trainer!!\n",
      "[LightGBM] [Info] Total Bins 99484\n",
      "[LightGBM] [Info] Number of data points in the train set: 31348, number of used features: 586\n",
      "[LightGBM] [Info] Using GPU Device: Quadro RTX 4000, Vendor: NVIDIA Corporation\n",
      "[LightGBM] [Info] Compiling OpenCL Kernel with 256 bins...\n",
      "[LightGBM] [Info] GPU programs have been built\n",
      "[LightGBM] [Info] Size of histogram bin entry: 8\n",
      "[LightGBM] [Info] 217 dense feature groups (6.58 MB) transferred to GPU in 0.064450 secs. 1 sparse feature groups\n",
      "threshold: 0.17844872547420373\n",
      "AUC-ROC: 0.9943024320047064\n",
      "Accuracy: 0.8298\n",
      "PR_AUC: 0.9950673886037354\n",
      "Epoch 178/300\n"
     ]
    },
    {
     "name": "stderr",
     "output_type": "stream",
     "text": [
      "c:\\Users\\FH-Deg\\.conda\\envs\\tf_c_gpu\\lib\\site-packages\\lightgbm\\basic.py:1192: UserWarning: Converting data to scipy sparse matrix.\n",
      "  _log_warning('Converting data to scipy sparse matrix.')\n"
     ]
    },
    {
     "name": "stdout",
     "output_type": "stream",
     "text": [
      "[LightGBM] [Info] Number of positive: 982, number of negative: 30366\n",
      "[LightGBM] [Info] This is the GPU trainer!!\n",
      "[LightGBM] [Info] Total Bins 99484\n",
      "[LightGBM] [Info] Number of data points in the train set: 31348, number of used features: 586\n",
      "[LightGBM] [Info] Using GPU Device: Quadro RTX 4000, Vendor: NVIDIA Corporation\n",
      "[LightGBM] [Info] Compiling OpenCL Kernel with 256 bins...\n",
      "[LightGBM] [Info] GPU programs have been built\n",
      "[LightGBM] [Info] Size of histogram bin entry: 8\n",
      "[LightGBM] [Info] 217 dense feature groups (6.58 MB) transferred to GPU in 0.056847 secs. 1 sparse feature groups\n",
      "threshold: 0.17825447463825914\n",
      "AUC-ROC: 0.9943397201723065\n",
      "Accuracy: 0.8305\n",
      "PR_AUC: 0.9950951261740062\n",
      "Updating target policy...\n",
      "Epoch 179/300\n"
     ]
    },
    {
     "name": "stderr",
     "output_type": "stream",
     "text": [
      "c:\\Users\\FH-Deg\\.conda\\envs\\tf_c_gpu\\lib\\site-packages\\lightgbm\\basic.py:1192: UserWarning: Converting data to scipy sparse matrix.\n",
      "  _log_warning('Converting data to scipy sparse matrix.')\n"
     ]
    },
    {
     "name": "stdout",
     "output_type": "stream",
     "text": [
      "[LightGBM] [Info] Number of positive: 982, number of negative: 30366\n",
      "[LightGBM] [Info] This is the GPU trainer!!\n",
      "[LightGBM] [Info] Total Bins 99484\n",
      "[LightGBM] [Info] Number of data points in the train set: 31348, number of used features: 586\n",
      "[LightGBM] [Info] Using GPU Device: Quadro RTX 4000, Vendor: NVIDIA Corporation\n",
      "[LightGBM] [Info] Compiling OpenCL Kernel with 256 bins...\n",
      "[LightGBM] [Info] GPU programs have been built\n",
      "[LightGBM] [Info] Size of histogram bin entry: 8\n",
      "[LightGBM] [Info] 217 dense feature groups (6.58 MB) transferred to GPU in 0.079336 secs. 1 sparse feature groups\n",
      "threshold: 0.1783700855358546\n",
      "AUC-ROC: 0.9943289578149197\n",
      "Accuracy: 0.8297\n",
      "PR_AUC: 0.9950864031742164\n",
      "Epoch 180/300\n"
     ]
    },
    {
     "name": "stderr",
     "output_type": "stream",
     "text": [
      "c:\\Users\\FH-Deg\\.conda\\envs\\tf_c_gpu\\lib\\site-packages\\lightgbm\\basic.py:1192: UserWarning: Converting data to scipy sparse matrix.\n",
      "  _log_warning('Converting data to scipy sparse matrix.')\n"
     ]
    },
    {
     "name": "stdout",
     "output_type": "stream",
     "text": [
      "[LightGBM] [Info] Number of positive: 982, number of negative: 30366\n",
      "[LightGBM] [Info] This is the GPU trainer!!\n",
      "[LightGBM] [Info] Total Bins 99484\n",
      "[LightGBM] [Info] Number of data points in the train set: 31348, number of used features: 586\n",
      "[LightGBM] [Info] Using GPU Device: Quadro RTX 4000, Vendor: NVIDIA Corporation\n",
      "[LightGBM] [Info] Compiling OpenCL Kernel with 256 bins...\n",
      "[LightGBM] [Info] GPU programs have been built\n",
      "[LightGBM] [Info] Size of histogram bin entry: 8\n",
      "[LightGBM] [Info] 217 dense feature groups (6.58 MB) transferred to GPU in 0.067791 secs. 1 sparse feature groups\n",
      "threshold: 0.1782657525181871\n",
      "AUC-ROC: 0.9943113539589711\n",
      "Accuracy: 0.8293\n",
      "PR_AUC: 0.9950750338996022\n",
      "Epoch 181/300\n"
     ]
    },
    {
     "name": "stderr",
     "output_type": "stream",
     "text": [
      "c:\\Users\\FH-Deg\\.conda\\envs\\tf_c_gpu\\lib\\site-packages\\lightgbm\\basic.py:1192: UserWarning: Converting data to scipy sparse matrix.\n",
      "  _log_warning('Converting data to scipy sparse matrix.')\n"
     ]
    },
    {
     "name": "stdout",
     "output_type": "stream",
     "text": [
      "[LightGBM] [Info] Number of positive: 982, number of negative: 30366\n",
      "[LightGBM] [Info] This is the GPU trainer!!\n",
      "[LightGBM] [Info] Total Bins 99484\n",
      "[LightGBM] [Info] Number of data points in the train set: 31348, number of used features: 586\n",
      "[LightGBM] [Info] Using GPU Device: Quadro RTX 4000, Vendor: NVIDIA Corporation\n",
      "[LightGBM] [Info] Compiling OpenCL Kernel with 256 bins...\n",
      "[LightGBM] [Info] GPU programs have been built\n",
      "[LightGBM] [Info] Size of histogram bin entry: 8\n",
      "[LightGBM] [Info] 217 dense feature groups (6.58 MB) transferred to GPU in 0.083604 secs. 1 sparse feature groups\n",
      "threshold: 0.17813980120339495\n",
      "AUC-ROC: 0.9942831877894535\n",
      "Accuracy: 0.8279\n",
      "PR_AUC: 0.9950559862678247\n",
      "Updating target policy...\n",
      "Epoch 182/300\n"
     ]
    },
    {
     "name": "stderr",
     "output_type": "stream",
     "text": [
      "c:\\Users\\FH-Deg\\.conda\\envs\\tf_c_gpu\\lib\\site-packages\\lightgbm\\basic.py:1192: UserWarning: Converting data to scipy sparse matrix.\n",
      "  _log_warning('Converting data to scipy sparse matrix.')\n"
     ]
    },
    {
     "name": "stdout",
     "output_type": "stream",
     "text": [
      "[LightGBM] [Info] Number of positive: 982, number of negative: 30366\n",
      "[LightGBM] [Info] This is the GPU trainer!!\n",
      "[LightGBM] [Info] Total Bins 99484\n",
      "[LightGBM] [Info] Number of data points in the train set: 31348, number of used features: 586\n",
      "[LightGBM] [Info] Using GPU Device: Quadro RTX 4000, Vendor: NVIDIA Corporation\n",
      "[LightGBM] [Info] Compiling OpenCL Kernel with 256 bins...\n",
      "[LightGBM] [Info] GPU programs have been built\n",
      "[LightGBM] [Info] Size of histogram bin entry: 8\n",
      "[LightGBM] [Info] 217 dense feature groups (6.58 MB) transferred to GPU in 0.058054 secs. 1 sparse feature groups\n",
      "threshold: 0.17816386134718706\n",
      "AUC-ROC: 0.9943045524691729\n",
      "Accuracy: 0.8281\n",
      "PR_AUC: 0.9950711542489135\n",
      "Epoch 183/300\n"
     ]
    },
    {
     "name": "stderr",
     "output_type": "stream",
     "text": [
      "c:\\Users\\FH-Deg\\.conda\\envs\\tf_c_gpu\\lib\\site-packages\\lightgbm\\basic.py:1192: UserWarning: Converting data to scipy sparse matrix.\n",
      "  _log_warning('Converting data to scipy sparse matrix.')\n"
     ]
    },
    {
     "name": "stdout",
     "output_type": "stream",
     "text": [
      "[LightGBM] [Info] Number of positive: 982, number of negative: 30366\n",
      "[LightGBM] [Info] This is the GPU trainer!!\n",
      "[LightGBM] [Info] Total Bins 99484\n",
      "[LightGBM] [Info] Number of data points in the train set: 31348, number of used features: 586\n",
      "[LightGBM] [Info] Using GPU Device: Quadro RTX 4000, Vendor: NVIDIA Corporation\n",
      "[LightGBM] [Info] Compiling OpenCL Kernel with 256 bins...\n",
      "[LightGBM] [Info] GPU programs have been built\n",
      "[LightGBM] [Info] Size of histogram bin entry: 8\n",
      "[LightGBM] [Info] 217 dense feature groups (6.58 MB) transferred to GPU in 0.071326 secs. 1 sparse feature groups\n",
      "threshold: 0.17805292900301706\n",
      "AUC-ROC: 0.994320275913236\n",
      "Accuracy: 0.8275\n",
      "PR_AUC: 0.9950849248253665\n",
      "Epoch 184/300\n"
     ]
    },
    {
     "name": "stderr",
     "output_type": "stream",
     "text": [
      "c:\\Users\\FH-Deg\\.conda\\envs\\tf_c_gpu\\lib\\site-packages\\lightgbm\\basic.py:1192: UserWarning: Converting data to scipy sparse matrix.\n",
      "  _log_warning('Converting data to scipy sparse matrix.')\n"
     ]
    },
    {
     "name": "stdout",
     "output_type": "stream",
     "text": [
      "[LightGBM] [Info] Number of positive: 982, number of negative: 30366\n",
      "[LightGBM] [Info] This is the GPU trainer!!\n",
      "[LightGBM] [Info] Total Bins 99484\n",
      "[LightGBM] [Info] Number of data points in the train set: 31348, number of used features: 586\n",
      "[LightGBM] [Info] Using GPU Device: Quadro RTX 4000, Vendor: NVIDIA Corporation\n",
      "[LightGBM] [Info] Compiling OpenCL Kernel with 256 bins...\n",
      "[LightGBM] [Info] GPU programs have been built\n",
      "[LightGBM] [Info] Size of histogram bin entry: 8\n",
      "[LightGBM] [Info] 217 dense feature groups (6.58 MB) transferred to GPU in 0.083561 secs. 1 sparse feature groups\n",
      "threshold: 0.17811650570923632\n",
      "AUC-ROC: 0.9943195157467293\n",
      "Accuracy: 0.8275\n",
      "PR_AUC: 0.9950842028824187\n",
      "Updating target policy...\n",
      "Epoch 185/300\n"
     ]
    },
    {
     "name": "stderr",
     "output_type": "stream",
     "text": [
      "c:\\Users\\FH-Deg\\.conda\\envs\\tf_c_gpu\\lib\\site-packages\\lightgbm\\basic.py:1192: UserWarning: Converting data to scipy sparse matrix.\n",
      "  _log_warning('Converting data to scipy sparse matrix.')\n"
     ]
    },
    {
     "name": "stdout",
     "output_type": "stream",
     "text": [
      "[LightGBM] [Info] Number of positive: 982, number of negative: 30366\n",
      "[LightGBM] [Info] This is the GPU trainer!!\n",
      "[LightGBM] [Info] Total Bins 99484\n",
      "[LightGBM] [Info] Number of data points in the train set: 31348, number of used features: 586\n",
      "[LightGBM] [Info] Using GPU Device: Quadro RTX 4000, Vendor: NVIDIA Corporation\n",
      "[LightGBM] [Info] Compiling OpenCL Kernel with 256 bins...\n",
      "[LightGBM] [Info] GPU programs have been built\n",
      "[LightGBM] [Info] Size of histogram bin entry: 8\n",
      "[LightGBM] [Info] 217 dense feature groups (6.58 MB) transferred to GPU in 0.063140 secs. 1 sparse feature groups\n",
      "threshold: 0.17814036528629643\n",
      "AUC-ROC: 0.9943182354662966\n",
      "Accuracy: 0.8275\n",
      "PR_AUC: 0.9950832601502118\n",
      "Epoch 186/300\n"
     ]
    },
    {
     "name": "stderr",
     "output_type": "stream",
     "text": [
      "c:\\Users\\FH-Deg\\.conda\\envs\\tf_c_gpu\\lib\\site-packages\\lightgbm\\basic.py:1192: UserWarning: Converting data to scipy sparse matrix.\n",
      "  _log_warning('Converting data to scipy sparse matrix.')\n"
     ]
    },
    {
     "name": "stdout",
     "output_type": "stream",
     "text": [
      "[LightGBM] [Info] Number of positive: 982, number of negative: 30366\n",
      "[LightGBM] [Info] This is the GPU trainer!!\n",
      "[LightGBM] [Info] Total Bins 99484\n",
      "[LightGBM] [Info] Number of data points in the train set: 31348, number of used features: 586\n",
      "[LightGBM] [Info] Using GPU Device: Quadro RTX 4000, Vendor: NVIDIA Corporation\n",
      "[LightGBM] [Info] Compiling OpenCL Kernel with 256 bins...\n",
      "[LightGBM] [Info] GPU programs have been built\n",
      "[LightGBM] [Info] Size of histogram bin entry: 8\n",
      "[LightGBM] [Info] 217 dense feature groups (6.58 MB) transferred to GPU in 0.075063 secs. 1 sparse feature groups\n",
      "threshold: 0.17778976780690692\n",
      "AUC-ROC: 0.994321436167378\n",
      "Accuracy: 0.8276\n",
      "PR_AUC: 0.9950824260105978\n",
      "Epoch 187/300\n"
     ]
    },
    {
     "name": "stderr",
     "output_type": "stream",
     "text": [
      "c:\\Users\\FH-Deg\\.conda\\envs\\tf_c_gpu\\lib\\site-packages\\lightgbm\\basic.py:1192: UserWarning: Converting data to scipy sparse matrix.\n",
      "  _log_warning('Converting data to scipy sparse matrix.')\n"
     ]
    },
    {
     "name": "stdout",
     "output_type": "stream",
     "text": [
      "[LightGBM] [Info] Number of positive: 982, number of negative: 30366\n",
      "[LightGBM] [Info] This is the GPU trainer!!\n",
      "[LightGBM] [Info] Total Bins 99484\n",
      "[LightGBM] [Info] Number of data points in the train set: 31348, number of used features: 586\n",
      "[LightGBM] [Info] Using GPU Device: Quadro RTX 4000, Vendor: NVIDIA Corporation\n",
      "[LightGBM] [Info] Compiling OpenCL Kernel with 256 bins...\n",
      "[LightGBM] [Info] GPU programs have been built\n",
      "[LightGBM] [Info] Size of histogram bin entry: 8\n",
      "[LightGBM] [Info] 217 dense feature groups (6.58 MB) transferred to GPU in 0.063905 secs. 1 sparse feature groups\n",
      "threshold: 0.17739509916910515\n",
      "AUC-ROC: 0.9943255570700207\n",
      "Accuracy: 0.827\n",
      "PR_AUC: 0.995086747013978\n",
      "Updating target policy...\n",
      "Epoch 188/300\n"
     ]
    },
    {
     "name": "stderr",
     "output_type": "stream",
     "text": [
      "c:\\Users\\FH-Deg\\.conda\\envs\\tf_c_gpu\\lib\\site-packages\\lightgbm\\basic.py:1192: UserWarning: Converting data to scipy sparse matrix.\n",
      "  _log_warning('Converting data to scipy sparse matrix.')\n"
     ]
    },
    {
     "name": "stdout",
     "output_type": "stream",
     "text": [
      "[LightGBM] [Info] Number of positive: 982, number of negative: 30366\n",
      "[LightGBM] [Info] This is the GPU trainer!!\n",
      "[LightGBM] [Info] Total Bins 99484\n",
      "[LightGBM] [Info] Number of data points in the train set: 31348, number of used features: 586\n",
      "[LightGBM] [Info] Using GPU Device: Quadro RTX 4000, Vendor: NVIDIA Corporation\n",
      "[LightGBM] [Info] Compiling OpenCL Kernel with 256 bins...\n",
      "[LightGBM] [Info] GPU programs have been built\n",
      "[LightGBM] [Info] Size of histogram bin entry: 8\n",
      "[LightGBM] [Info] 217 dense feature groups (6.58 MB) transferred to GPU in 0.052167 secs. 1 sparse feature groups\n",
      "threshold: 0.17727037316313363\n",
      "AUC-ROC: 0.9943411604877931\n",
      "Accuracy: 0.8262\n",
      "PR_AUC: 0.9950990482726334\n",
      "Epoch 189/300\n"
     ]
    },
    {
     "name": "stderr",
     "output_type": "stream",
     "text": [
      "c:\\Users\\FH-Deg\\.conda\\envs\\tf_c_gpu\\lib\\site-packages\\lightgbm\\basic.py:1192: UserWarning: Converting data to scipy sparse matrix.\n",
      "  _log_warning('Converting data to scipy sparse matrix.')\n"
     ]
    },
    {
     "name": "stdout",
     "output_type": "stream",
     "text": [
      "[LightGBM] [Info] Number of positive: 982, number of negative: 30366\n",
      "[LightGBM] [Info] This is the GPU trainer!!\n",
      "[LightGBM] [Info] Total Bins 99484\n",
      "[LightGBM] [Info] Number of data points in the train set: 31348, number of used features: 586\n",
      "[LightGBM] [Info] Using GPU Device: Quadro RTX 4000, Vendor: NVIDIA Corporation\n",
      "[LightGBM] [Info] Compiling OpenCL Kernel with 256 bins...\n",
      "[LightGBM] [Info] GPU programs have been built\n",
      "[LightGBM] [Info] Size of histogram bin entry: 8\n",
      "[LightGBM] [Info] 217 dense feature groups (6.58 MB) transferred to GPU in 0.069497 secs. 1 sparse feature groups\n",
      "threshold: 0.17752115804270144\n",
      "AUC-ROC: 0.9943502824858756\n",
      "Accuracy: 0.8257\n",
      "PR_AUC: 0.9951088406796392\n",
      "Epoch 190/300\n"
     ]
    },
    {
     "name": "stderr",
     "output_type": "stream",
     "text": [
      "c:\\Users\\FH-Deg\\.conda\\envs\\tf_c_gpu\\lib\\site-packages\\lightgbm\\basic.py:1192: UserWarning: Converting data to scipy sparse matrix.\n",
      "  _log_warning('Converting data to scipy sparse matrix.')\n"
     ]
    },
    {
     "name": "stdout",
     "output_type": "stream",
     "text": [
      "[LightGBM] [Info] Number of positive: 982, number of negative: 30366\n",
      "[LightGBM] [Info] This is the GPU trainer!!\n",
      "[LightGBM] [Info] Total Bins 99484\n",
      "[LightGBM] [Info] Number of data points in the train set: 31348, number of used features: 586\n",
      "[LightGBM] [Info] Using GPU Device: Quadro RTX 4000, Vendor: NVIDIA Corporation\n",
      "[LightGBM] [Info] Compiling OpenCL Kernel with 256 bins...\n",
      "[LightGBM] [Info] GPU programs have been built\n",
      "[LightGBM] [Info] Size of histogram bin entry: 8\n",
      "[LightGBM] [Info] 217 dense feature groups (6.58 MB) transferred to GPU in 0.074408 secs. 1 sparse feature groups\n",
      "threshold: 0.177461079728302\n",
      "AUC-ROC: 0.9943461615832332\n",
      "Accuracy: 0.8252\n",
      "PR_AUC: 0.9951009279788314\n",
      "Updating target policy...\n",
      "Epoch 191/300\n"
     ]
    },
    {
     "name": "stderr",
     "output_type": "stream",
     "text": [
      "c:\\Users\\FH-Deg\\.conda\\envs\\tf_c_gpu\\lib\\site-packages\\lightgbm\\basic.py:1192: UserWarning: Converting data to scipy sparse matrix.\n",
      "  _log_warning('Converting data to scipy sparse matrix.')\n"
     ]
    },
    {
     "name": "stdout",
     "output_type": "stream",
     "text": [
      "[LightGBM] [Info] Number of positive: 982, number of negative: 30366\n",
      "[LightGBM] [Info] This is the GPU trainer!!\n",
      "[LightGBM] [Info] Total Bins 99484\n",
      "[LightGBM] [Info] Number of data points in the train set: 31348, number of used features: 586\n",
      "[LightGBM] [Info] Using GPU Device: Quadro RTX 4000, Vendor: NVIDIA Corporation\n",
      "[LightGBM] [Info] Compiling OpenCL Kernel with 256 bins...\n",
      "[LightGBM] [Info] GPU programs have been built\n",
      "[LightGBM] [Info] Size of histogram bin entry: 8\n",
      "[LightGBM] [Info] 217 dense feature groups (6.58 MB) transferred to GPU in 0.062363 secs. 1 sparse feature groups\n",
      "threshold: 0.17752231432230717\n",
      "AUC-ROC: 0.9943647256495063\n",
      "Accuracy: 0.8239\n",
      "PR_AUC: 0.995117904300929\n",
      "Epoch 192/300\n"
     ]
    },
    {
     "name": "stderr",
     "output_type": "stream",
     "text": [
      "c:\\Users\\FH-Deg\\.conda\\envs\\tf_c_gpu\\lib\\site-packages\\lightgbm\\basic.py:1192: UserWarning: Converting data to scipy sparse matrix.\n",
      "  _log_warning('Converting data to scipy sparse matrix.')\n"
     ]
    },
    {
     "name": "stdout",
     "output_type": "stream",
     "text": [
      "[LightGBM] [Info] Number of positive: 982, number of negative: 30366\n",
      "[LightGBM] [Info] This is the GPU trainer!!\n",
      "[LightGBM] [Info] Total Bins 99484\n",
      "[LightGBM] [Info] Number of data points in the train set: 31348, number of used features: 586\n",
      "[LightGBM] [Info] Using GPU Device: Quadro RTX 4000, Vendor: NVIDIA Corporation\n",
      "[LightGBM] [Info] Compiling OpenCL Kernel with 256 bins...\n",
      "[LightGBM] [Info] GPU programs have been built\n",
      "[LightGBM] [Info] Size of histogram bin entry: 8\n",
      "[LightGBM] [Info] 217 dense feature groups (6.58 MB) transferred to GPU in 0.097995 secs. 1 sparse feature groups\n",
      "threshold: 0.17749765986747376\n",
      "AUC-ROC: 0.9943800490059341\n",
      "Accuracy: 0.8235\n",
      "PR_AUC: 0.9951327805427401\n",
      "Epoch 193/300\n"
     ]
    },
    {
     "name": "stderr",
     "output_type": "stream",
     "text": [
      "c:\\Users\\FH-Deg\\.conda\\envs\\tf_c_gpu\\lib\\site-packages\\lightgbm\\basic.py:1192: UserWarning: Converting data to scipy sparse matrix.\n",
      "  _log_warning('Converting data to scipy sparse matrix.')\n"
     ]
    },
    {
     "name": "stdout",
     "output_type": "stream",
     "text": [
      "[LightGBM] [Info] Number of positive: 982, number of negative: 30366\n",
      "[LightGBM] [Info] This is the GPU trainer!!\n",
      "[LightGBM] [Info] Total Bins 99484\n",
      "[LightGBM] [Info] Number of data points in the train set: 31348, number of used features: 586\n",
      "[LightGBM] [Info] Using GPU Device: Quadro RTX 4000, Vendor: NVIDIA Corporation\n",
      "[LightGBM] [Info] Compiling OpenCL Kernel with 256 bins...\n",
      "[LightGBM] [Info] GPU programs have been built\n",
      "[LightGBM] [Info] Size of histogram bin entry: 8\n",
      "[LightGBM] [Info] 217 dense feature groups (6.58 MB) transferred to GPU in 0.065686 secs. 1 sparse feature groups\n",
      "threshold: 0.17749623970489856\n",
      "AUC-ROC: 0.9943890909864896\n",
      "Accuracy: 0.8233\n",
      "PR_AUC: 0.9951396514533265\n",
      "Updating target policy...\n",
      "Epoch 194/300\n"
     ]
    },
    {
     "name": "stderr",
     "output_type": "stream",
     "text": [
      "c:\\Users\\FH-Deg\\.conda\\envs\\tf_c_gpu\\lib\\site-packages\\lightgbm\\basic.py:1192: UserWarning: Converting data to scipy sparse matrix.\n",
      "  _log_warning('Converting data to scipy sparse matrix.')\n"
     ]
    },
    {
     "name": "stdout",
     "output_type": "stream",
     "text": [
      "[LightGBM] [Info] Number of positive: 982, number of negative: 30366\n",
      "[LightGBM] [Info] This is the GPU trainer!!\n",
      "[LightGBM] [Info] Total Bins 99484\n",
      "[LightGBM] [Info] Number of data points in the train set: 31348, number of used features: 586\n",
      "[LightGBM] [Info] Using GPU Device: Quadro RTX 4000, Vendor: NVIDIA Corporation\n",
      "[LightGBM] [Info] Compiling OpenCL Kernel with 256 bins...\n",
      "[LightGBM] [Info] GPU programs have been built\n",
      "[LightGBM] [Info] Size of histogram bin entry: 8\n",
      "[LightGBM] [Info] 217 dense feature groups (6.58 MB) transferred to GPU in 0.080326 secs. 1 sparse feature groups\n",
      "threshold: 0.17723154831888924\n",
      "AUC-ROC: 0.9943958924762881\n",
      "Accuracy: 0.8233\n",
      "PR_AUC: 0.9951426562028348\n",
      "Epoch 195/300\n"
     ]
    },
    {
     "name": "stderr",
     "output_type": "stream",
     "text": [
      "c:\\Users\\FH-Deg\\.conda\\envs\\tf_c_gpu\\lib\\site-packages\\lightgbm\\basic.py:1192: UserWarning: Converting data to scipy sparse matrix.\n",
      "  _log_warning('Converting data to scipy sparse matrix.')\n"
     ]
    },
    {
     "name": "stdout",
     "output_type": "stream",
     "text": [
      "[LightGBM] [Info] Number of positive: 982, number of negative: 30366\n",
      "[LightGBM] [Info] This is the GPU trainer!!\n",
      "[LightGBM] [Info] Total Bins 99484\n",
      "[LightGBM] [Info] Number of data points in the train set: 31348, number of used features: 586\n",
      "[LightGBM] [Info] Using GPU Device: Quadro RTX 4000, Vendor: NVIDIA Corporation\n",
      "[LightGBM] [Info] Compiling OpenCL Kernel with 256 bins...\n",
      "[LightGBM] [Info] GPU programs have been built\n",
      "[LightGBM] [Info] Size of histogram bin entry: 8\n",
      "[LightGBM] [Info] 217 dense feature groups (6.58 MB) transferred to GPU in 0.066806 secs. 1 sparse feature groups\n",
      "threshold: 0.17708200328752172\n",
      "AUC-ROC: 0.9943907713545577\n",
      "Accuracy: 0.823\n",
      "PR_AUC: 0.9951398742986995\n",
      "Epoch 196/300\n"
     ]
    },
    {
     "name": "stderr",
     "output_type": "stream",
     "text": [
      "c:\\Users\\FH-Deg\\.conda\\envs\\tf_c_gpu\\lib\\site-packages\\lightgbm\\basic.py:1192: UserWarning: Converting data to scipy sparse matrix.\n",
      "  _log_warning('Converting data to scipy sparse matrix.')\n"
     ]
    },
    {
     "name": "stdout",
     "output_type": "stream",
     "text": [
      "[LightGBM] [Info] Number of positive: 982, number of negative: 30366\n",
      "[LightGBM] [Info] This is the GPU trainer!!\n",
      "[LightGBM] [Info] Total Bins 99484\n",
      "[LightGBM] [Info] Number of data points in the train set: 31348, number of used features: 586\n",
      "[LightGBM] [Info] Using GPU Device: Quadro RTX 4000, Vendor: NVIDIA Corporation\n",
      "[LightGBM] [Info] Compiling OpenCL Kernel with 256 bins...\n",
      "[LightGBM] [Info] GPU programs have been built\n",
      "[LightGBM] [Info] Size of histogram bin entry: 8\n",
      "[LightGBM] [Info] 217 dense feature groups (6.58 MB) transferred to GPU in 0.068682 secs. 1 sparse feature groups\n",
      "threshold: 0.17677222653924196\n",
      "AUC-ROC: 0.9944110958064254\n",
      "Accuracy: 0.8231\n",
      "PR_AUC: 0.9951566501004618\n",
      "Updating target policy...\n",
      "Epoch 197/300\n"
     ]
    },
    {
     "name": "stderr",
     "output_type": "stream",
     "text": [
      "c:\\Users\\FH-Deg\\.conda\\envs\\tf_c_gpu\\lib\\site-packages\\lightgbm\\basic.py:1192: UserWarning: Converting data to scipy sparse matrix.\n",
      "  _log_warning('Converting data to scipy sparse matrix.')\n"
     ]
    },
    {
     "name": "stdout",
     "output_type": "stream",
     "text": [
      "[LightGBM] [Info] Number of positive: 982, number of negative: 30366\n",
      "[LightGBM] [Info] This is the GPU trainer!!\n",
      "[LightGBM] [Info] Total Bins 99484\n",
      "[LightGBM] [Info] Number of data points in the train set: 31348, number of used features: 586\n",
      "[LightGBM] [Info] Using GPU Device: Quadro RTX 4000, Vendor: NVIDIA Corporation\n",
      "[LightGBM] [Info] Compiling OpenCL Kernel with 256 bins...\n",
      "[LightGBM] [Info] GPU programs have been built\n",
      "[LightGBM] [Info] Size of histogram bin entry: 8\n",
      "[LightGBM] [Info] 217 dense feature groups (6.58 MB) transferred to GPU in 0.068551 secs. 1 sparse feature groups\n",
      "threshold: 0.17669383897474203\n",
      "AUC-ROC: 0.9944242986983868\n",
      "Accuracy: 0.8229\n",
      "PR_AUC: 0.9951663334637397\n",
      "Epoch 198/300\n"
     ]
    },
    {
     "name": "stderr",
     "output_type": "stream",
     "text": [
      "c:\\Users\\FH-Deg\\.conda\\envs\\tf_c_gpu\\lib\\site-packages\\lightgbm\\basic.py:1192: UserWarning: Converting data to scipy sparse matrix.\n",
      "  _log_warning('Converting data to scipy sparse matrix.')\n"
     ]
    },
    {
     "name": "stdout",
     "output_type": "stream",
     "text": [
      "[LightGBM] [Info] Number of positive: 982, number of negative: 30366\n",
      "[LightGBM] [Info] This is the GPU trainer!!\n",
      "[LightGBM] [Info] Total Bins 99484\n",
      "[LightGBM] [Info] Number of data points in the train set: 31348, number of used features: 586\n",
      "[LightGBM] [Info] Using GPU Device: Quadro RTX 4000, Vendor: NVIDIA Corporation\n",
      "[LightGBM] [Info] Compiling OpenCL Kernel with 256 bins...\n",
      "[LightGBM] [Info] GPU programs have been built\n",
      "[LightGBM] [Info] Size of histogram bin entry: 8\n",
      "[LightGBM] [Info] 217 dense feature groups (6.58 MB) transferred to GPU in 0.112296 secs. 1 sparse feature groups\n",
      "threshold: 0.1766113638574552\n",
      "AUC-ROC: 0.9944268592592521\n",
      "Accuracy: 0.8227\n",
      "PR_AUC: 0.9951652028148092\n",
      "Epoch 199/300\n"
     ]
    },
    {
     "name": "stderr",
     "output_type": "stream",
     "text": [
      "c:\\Users\\FH-Deg\\.conda\\envs\\tf_c_gpu\\lib\\site-packages\\lightgbm\\basic.py:1192: UserWarning: Converting data to scipy sparse matrix.\n",
      "  _log_warning('Converting data to scipy sparse matrix.')\n"
     ]
    },
    {
     "name": "stdout",
     "output_type": "stream",
     "text": [
      "[LightGBM] [Info] Number of positive: 982, number of negative: 30366\n",
      "[LightGBM] [Info] This is the GPU trainer!!\n",
      "[LightGBM] [Info] Total Bins 99484\n",
      "[LightGBM] [Info] Number of data points in the train set: 31348, number of used features: 586\n",
      "[LightGBM] [Info] Using GPU Device: Quadro RTX 4000, Vendor: NVIDIA Corporation\n",
      "[LightGBM] [Info] Compiling OpenCL Kernel with 256 bins...\n",
      "[LightGBM] [Info] GPU programs have been built\n",
      "[LightGBM] [Info] Size of histogram bin entry: 8\n",
      "[LightGBM] [Info] 217 dense feature groups (6.58 MB) transferred to GPU in 0.091181 secs. 1 sparse feature groups\n",
      "threshold: 0.1763785867483322\n",
      "AUC-ROC: 0.9943991331861332\n",
      "Accuracy: 0.822\n",
      "PR_AUC: 0.9951438194679848\n",
      "Updating target policy...\n",
      "Epoch 200/300\n"
     ]
    },
    {
     "name": "stderr",
     "output_type": "stream",
     "text": [
      "c:\\Users\\FH-Deg\\.conda\\envs\\tf_c_gpu\\lib\\site-packages\\lightgbm\\basic.py:1192: UserWarning: Converting data to scipy sparse matrix.\n",
      "  _log_warning('Converting data to scipy sparse matrix.')\n"
     ]
    },
    {
     "name": "stdout",
     "output_type": "stream",
     "text": [
      "[LightGBM] [Info] Number of positive: 982, number of negative: 30366\n",
      "[LightGBM] [Info] This is the GPU trainer!!\n",
      "[LightGBM] [Info] Total Bins 99484\n",
      "[LightGBM] [Info] Number of data points in the train set: 31348, number of used features: 586\n",
      "[LightGBM] [Info] Using GPU Device: Quadro RTX 4000, Vendor: NVIDIA Corporation\n",
      "[LightGBM] [Info] Compiling OpenCL Kernel with 256 bins...\n",
      "[LightGBM] [Info] GPU programs have been built\n",
      "[LightGBM] [Info] Size of histogram bin entry: 8\n",
      "[LightGBM] [Info] 217 dense feature groups (6.58 MB) transferred to GPU in 0.073566 secs. 1 sparse feature groups\n",
      "threshold: 0.17633931419367338\n",
      "AUC-ROC: 0.9944140564549259\n",
      "Accuracy: 0.8221\n",
      "PR_AUC: 0.9951569941239982\n",
      "Epoch 201/300\n"
     ]
    },
    {
     "name": "stderr",
     "output_type": "stream",
     "text": [
      "c:\\Users\\FH-Deg\\.conda\\envs\\tf_c_gpu\\lib\\site-packages\\lightgbm\\basic.py:1192: UserWarning: Converting data to scipy sparse matrix.\n",
      "  _log_warning('Converting data to scipy sparse matrix.')\n"
     ]
    },
    {
     "name": "stdout",
     "output_type": "stream",
     "text": [
      "[LightGBM] [Info] Number of positive: 982, number of negative: 30366\n",
      "[LightGBM] [Info] This is the GPU trainer!!\n",
      "[LightGBM] [Info] Total Bins 99484\n",
      "[LightGBM] [Info] Number of data points in the train set: 31348, number of used features: 586\n",
      "[LightGBM] [Info] Using GPU Device: Quadro RTX 4000, Vendor: NVIDIA Corporation\n",
      "[LightGBM] [Info] Compiling OpenCL Kernel with 256 bins...\n",
      "[LightGBM] [Info] GPU programs have been built\n",
      "[LightGBM] [Info] Size of histogram bin entry: 8\n",
      "[LightGBM] [Info] 217 dense feature groups (6.58 MB) transferred to GPU in 0.109233 secs. 1 sparse feature groups\n",
      "threshold: 0.17649884254495135\n",
      "AUC-ROC: 0.99440205382587\n",
      "Accuracy: 0.8212\n",
      "PR_AUC: 0.9951475050977892\n",
      "Epoch 202/300\n"
     ]
    },
    {
     "name": "stderr",
     "output_type": "stream",
     "text": [
      "c:\\Users\\FH-Deg\\.conda\\envs\\tf_c_gpu\\lib\\site-packages\\lightgbm\\basic.py:1192: UserWarning: Converting data to scipy sparse matrix.\n",
      "  _log_warning('Converting data to scipy sparse matrix.')\n"
     ]
    },
    {
     "name": "stdout",
     "output_type": "stream",
     "text": [
      "[LightGBM] [Info] Number of positive: 982, number of negative: 30366\n",
      "[LightGBM] [Info] This is the GPU trainer!!\n",
      "[LightGBM] [Info] Total Bins 99484\n",
      "[LightGBM] [Info] Number of data points in the train set: 31348, number of used features: 586\n",
      "[LightGBM] [Info] Using GPU Device: Quadro RTX 4000, Vendor: NVIDIA Corporation\n",
      "[LightGBM] [Info] Compiling OpenCL Kernel with 256 bins...\n",
      "[LightGBM] [Info] GPU programs have been built\n",
      "[LightGBM] [Info] Size of histogram bin entry: 8\n",
      "[LightGBM] [Info] 217 dense feature groups (6.58 MB) transferred to GPU in 0.096488 secs. 1 sparse feature groups\n",
      "threshold: 0.17644887934050954\n",
      "AUC-ROC: 0.9943940120644025\n",
      "Accuracy: 0.8218\n",
      "PR_AUC: 0.9951445732211961\n",
      "Updating target policy...\n",
      "Epoch 203/300\n"
     ]
    },
    {
     "name": "stderr",
     "output_type": "stream",
     "text": [
      "c:\\Users\\FH-Deg\\.conda\\envs\\tf_c_gpu\\lib\\site-packages\\lightgbm\\basic.py:1192: UserWarning: Converting data to scipy sparse matrix.\n",
      "  _log_warning('Converting data to scipy sparse matrix.')\n"
     ]
    },
    {
     "name": "stdout",
     "output_type": "stream",
     "text": [
      "[LightGBM] [Info] Number of positive: 982, number of negative: 30366\n",
      "[LightGBM] [Info] This is the GPU trainer!!\n",
      "[LightGBM] [Info] Total Bins 99484\n",
      "[LightGBM] [Info] Number of data points in the train set: 31348, number of used features: 586\n",
      "[LightGBM] [Info] Using GPU Device: Quadro RTX 4000, Vendor: NVIDIA Corporation\n",
      "[LightGBM] [Info] Compiling OpenCL Kernel with 256 bins...\n",
      "[LightGBM] [Info] GPU programs have been built\n",
      "[LightGBM] [Info] Size of histogram bin entry: 8\n",
      "[LightGBM] [Info] 217 dense feature groups (6.58 MB) transferred to GPU in 0.088071 secs. 1 sparse feature groups\n",
      "threshold: 0.17657642274210653\n",
      "AUC-ROC: 0.9944023338872148\n",
      "Accuracy: 0.8214\n",
      "PR_AUC: 0.9951534237944883\n",
      "Epoch 204/300\n"
     ]
    },
    {
     "name": "stderr",
     "output_type": "stream",
     "text": [
      "c:\\Users\\FH-Deg\\.conda\\envs\\tf_c_gpu\\lib\\site-packages\\lightgbm\\basic.py:1192: UserWarning: Converting data to scipy sparse matrix.\n",
      "  _log_warning('Converting data to scipy sparse matrix.')\n"
     ]
    },
    {
     "name": "stdout",
     "output_type": "stream",
     "text": [
      "[LightGBM] [Info] Number of positive: 982, number of negative: 30366\n",
      "[LightGBM] [Info] This is the GPU trainer!!\n",
      "[LightGBM] [Info] Total Bins 99484\n",
      "[LightGBM] [Info] Number of data points in the train set: 31348, number of used features: 586\n",
      "[LightGBM] [Info] Using GPU Device: Quadro RTX 4000, Vendor: NVIDIA Corporation\n",
      "[LightGBM] [Info] Compiling OpenCL Kernel with 256 bins...\n",
      "[LightGBM] [Info] GPU programs have been built\n",
      "[LightGBM] [Info] Size of histogram bin entry: 8\n",
      "[LightGBM] [Info] 217 dense feature groups (6.58 MB) transferred to GPU in 0.094174 secs. 1 sparse feature groups\n",
      "threshold: 0.1764832276667716\n",
      "AUC-ROC: 0.9944079751228709\n",
      "Accuracy: 0.8214\n",
      "PR_AUC: 0.9951591659747528\n",
      "Epoch 205/300\n"
     ]
    },
    {
     "name": "stderr",
     "output_type": "stream",
     "text": [
      "c:\\Users\\FH-Deg\\.conda\\envs\\tf_c_gpu\\lib\\site-packages\\lightgbm\\basic.py:1192: UserWarning: Converting data to scipy sparse matrix.\n",
      "  _log_warning('Converting data to scipy sparse matrix.')\n"
     ]
    },
    {
     "name": "stdout",
     "output_type": "stream",
     "text": [
      "[LightGBM] [Info] Number of positive: 982, number of negative: 30366\n",
      "[LightGBM] [Info] This is the GPU trainer!!\n",
      "[LightGBM] [Info] Total Bins 99484\n",
      "[LightGBM] [Info] Number of data points in the train set: 31348, number of used features: 586\n",
      "[LightGBM] [Info] Using GPU Device: Quadro RTX 4000, Vendor: NVIDIA Corporation\n",
      "[LightGBM] [Info] Compiling OpenCL Kernel with 256 bins...\n",
      "[LightGBM] [Info] GPU programs have been built\n",
      "[LightGBM] [Info] Size of histogram bin entry: 8\n",
      "[LightGBM] [Info] 217 dense feature groups (6.58 MB) transferred to GPU in 0.058869 secs. 1 sparse feature groups\n",
      "threshold: 0.17630231639049615\n",
      "AUC-ROC: 0.9943979729319911\n",
      "Accuracy: 0.8211\n",
      "PR_AUC: 0.9951512950150252\n",
      "Updating target policy...\n",
      "Epoch 206/300\n"
     ]
    },
    {
     "name": "stderr",
     "output_type": "stream",
     "text": [
      "c:\\Users\\FH-Deg\\.conda\\envs\\tf_c_gpu\\lib\\site-packages\\lightgbm\\basic.py:1192: UserWarning: Converting data to scipy sparse matrix.\n",
      "  _log_warning('Converting data to scipy sparse matrix.')\n"
     ]
    },
    {
     "name": "stdout",
     "output_type": "stream",
     "text": [
      "[LightGBM] [Info] Number of positive: 982, number of negative: 30366\n",
      "[LightGBM] [Info] This is the GPU trainer!!\n",
      "[LightGBM] [Info] Total Bins 99484\n",
      "[LightGBM] [Info] Number of data points in the train set: 31348, number of used features: 586\n",
      "[LightGBM] [Info] Using GPU Device: Quadro RTX 4000, Vendor: NVIDIA Corporation\n",
      "[LightGBM] [Info] Compiling OpenCL Kernel with 256 bins...\n",
      "[LightGBM] [Info] GPU programs have been built\n",
      "[LightGBM] [Info] Size of histogram bin entry: 8\n",
      "[LightGBM] [Info] 217 dense feature groups (6.58 MB) transferred to GPU in 0.094350 secs. 1 sparse feature groups\n",
      "threshold: 0.17636800879594788\n",
      "AUC-ROC: 0.9943820094353467\n",
      "Accuracy: 0.8206\n",
      "PR_AUC: 0.9951356647101541\n",
      "Epoch 207/300\n"
     ]
    },
    {
     "name": "stderr",
     "output_type": "stream",
     "text": [
      "c:\\Users\\FH-Deg\\.conda\\envs\\tf_c_gpu\\lib\\site-packages\\lightgbm\\basic.py:1192: UserWarning: Converting data to scipy sparse matrix.\n",
      "  _log_warning('Converting data to scipy sparse matrix.')\n"
     ]
    },
    {
     "name": "stdout",
     "output_type": "stream",
     "text": [
      "[LightGBM] [Info] Number of positive: 982, number of negative: 30366\n",
      "[LightGBM] [Info] This is the GPU trainer!!\n",
      "[LightGBM] [Info] Total Bins 99484\n",
      "[LightGBM] [Info] Number of data points in the train set: 31348, number of used features: 586\n",
      "[LightGBM] [Info] Using GPU Device: Quadro RTX 4000, Vendor: NVIDIA Corporation\n",
      "[LightGBM] [Info] Compiling OpenCL Kernel with 256 bins...\n",
      "[LightGBM] [Info] GPU programs have been built\n",
      "[LightGBM] [Info] Size of histogram bin entry: 8\n",
      "[LightGBM] [Info] 217 dense feature groups (6.58 MB) transferred to GPU in 0.104167 secs. 1 sparse feature groups\n",
      "threshold: 0.17616447394640738\n",
      "AUC-ROC: 0.9943714071130141\n",
      "Accuracy: 0.8203\n",
      "PR_AUC: 0.9951286436571741\n",
      "Epoch 208/300\n"
     ]
    },
    {
     "name": "stderr",
     "output_type": "stream",
     "text": [
      "c:\\Users\\FH-Deg\\.conda\\envs\\tf_c_gpu\\lib\\site-packages\\lightgbm\\basic.py:1192: UserWarning: Converting data to scipy sparse matrix.\n",
      "  _log_warning('Converting data to scipy sparse matrix.')\n"
     ]
    },
    {
     "name": "stdout",
     "output_type": "stream",
     "text": [
      "[LightGBM] [Info] Number of positive: 982, number of negative: 30366\n",
      "[LightGBM] [Info] This is the GPU trainer!!\n",
      "[LightGBM] [Info] Total Bins 99484\n",
      "[LightGBM] [Info] Number of data points in the train set: 31348, number of used features: 586\n",
      "[LightGBM] [Info] Using GPU Device: Quadro RTX 4000, Vendor: NVIDIA Corporation\n",
      "[LightGBM] [Info] Compiling OpenCL Kernel with 256 bins...\n",
      "[LightGBM] [Info] GPU programs have been built\n",
      "[LightGBM] [Info] Size of histogram bin entry: 8\n",
      "[LightGBM] [Info] 217 dense feature groups (6.58 MB) transferred to GPU in 0.059661 secs. 1 sparse feature groups\n",
      "threshold: 0.1760767836195197\n",
      "AUC-ROC: 0.9943812092600762\n",
      "Accuracy: 0.8204\n",
      "PR_AUC: 0.9951348835237108\n",
      "Updating target policy...\n",
      "Epoch 209/300\n"
     ]
    },
    {
     "name": "stderr",
     "output_type": "stream",
     "text": [
      "c:\\Users\\FH-Deg\\.conda\\envs\\tf_c_gpu\\lib\\site-packages\\lightgbm\\basic.py:1192: UserWarning: Converting data to scipy sparse matrix.\n",
      "  _log_warning('Converting data to scipy sparse matrix.')\n"
     ]
    },
    {
     "name": "stdout",
     "output_type": "stream",
     "text": [
      "[LightGBM] [Info] Number of positive: 982, number of negative: 30366\n",
      "[LightGBM] [Info] This is the GPU trainer!!\n",
      "[LightGBM] [Info] Total Bins 99484\n",
      "[LightGBM] [Info] Number of data points in the train set: 31348, number of used features: 586\n",
      "[LightGBM] [Info] Using GPU Device: Quadro RTX 4000, Vendor: NVIDIA Corporation\n",
      "[LightGBM] [Info] Compiling OpenCL Kernel with 256 bins...\n",
      "[LightGBM] [Info] GPU programs have been built\n",
      "[LightGBM] [Info] Size of histogram bin entry: 8\n",
      "[LightGBM] [Info] 217 dense feature groups (6.58 MB) transferred to GPU in 0.106659 secs. 1 sparse feature groups\n",
      "threshold: 0.1759654533275606\n",
      "AUC-ROC: 0.9944055745970597\n",
      "Accuracy: 0.8202\n",
      "PR_AUC: 0.995148256335486\n",
      "Epoch 210/300\n"
     ]
    },
    {
     "name": "stderr",
     "output_type": "stream",
     "text": [
      "c:\\Users\\FH-Deg\\.conda\\envs\\tf_c_gpu\\lib\\site-packages\\lightgbm\\basic.py:1192: UserWarning: Converting data to scipy sparse matrix.\n",
      "  _log_warning('Converting data to scipy sparse matrix.')\n"
     ]
    },
    {
     "name": "stdout",
     "output_type": "stream",
     "text": [
      "[LightGBM] [Info] Number of positive: 982, number of negative: 30366\n",
      "[LightGBM] [Info] This is the GPU trainer!!\n",
      "[LightGBM] [Info] Total Bins 99484\n",
      "[LightGBM] [Info] Number of data points in the train set: 31348, number of used features: 586\n",
      "[LightGBM] [Info] Using GPU Device: Quadro RTX 4000, Vendor: NVIDIA Corporation\n",
      "[LightGBM] [Info] Compiling OpenCL Kernel with 256 bins...\n",
      "[LightGBM] [Info] GPU programs have been built\n",
      "[LightGBM] [Info] Size of histogram bin entry: 8\n",
      "[LightGBM] [Info] 217 dense feature groups (6.58 MB) transferred to GPU in 0.105821 secs. 1 sparse feature groups\n",
      "threshold: 0.17576720387563752\n",
      "AUC-ROC: 0.9944217781462852\n",
      "Accuracy: 0.8198\n",
      "PR_AUC: 0.9951610905102495\n",
      "Epoch 211/300\n"
     ]
    },
    {
     "name": "stderr",
     "output_type": "stream",
     "text": [
      "c:\\Users\\FH-Deg\\.conda\\envs\\tf_c_gpu\\lib\\site-packages\\lightgbm\\basic.py:1192: UserWarning: Converting data to scipy sparse matrix.\n",
      "  _log_warning('Converting data to scipy sparse matrix.')\n"
     ]
    },
    {
     "name": "stdout",
     "output_type": "stream",
     "text": [
      "[LightGBM] [Info] Number of positive: 982, number of negative: 30366\n",
      "[LightGBM] [Info] This is the GPU trainer!!\n",
      "[LightGBM] [Info] Total Bins 99484\n",
      "[LightGBM] [Info] Number of data points in the train set: 31348, number of used features: 586\n",
      "[LightGBM] [Info] Using GPU Device: Quadro RTX 4000, Vendor: NVIDIA Corporation\n",
      "[LightGBM] [Info] Compiling OpenCL Kernel with 256 bins...\n",
      "[LightGBM] [Info] GPU programs have been built\n",
      "[LightGBM] [Info] Size of histogram bin entry: 8\n",
      "[LightGBM] [Info] 217 dense feature groups (6.58 MB) transferred to GPU in 0.090777 secs. 1 sparse feature groups\n",
      "threshold: 0.17558272660837346\n",
      "AUC-ROC: 0.9944240986545693\n",
      "Accuracy: 0.8201\n",
      "PR_AUC: 0.9951635646005877\n",
      "Updating target policy...\n",
      "Epoch 212/300\n"
     ]
    },
    {
     "name": "stderr",
     "output_type": "stream",
     "text": [
      "c:\\Users\\FH-Deg\\.conda\\envs\\tf_c_gpu\\lib\\site-packages\\lightgbm\\basic.py:1192: UserWarning: Converting data to scipy sparse matrix.\n",
      "  _log_warning('Converting data to scipy sparse matrix.')\n"
     ]
    },
    {
     "name": "stdout",
     "output_type": "stream",
     "text": [
      "[LightGBM] [Info] Number of positive: 982, number of negative: 30366\n",
      "[LightGBM] [Info] This is the GPU trainer!!\n",
      "[LightGBM] [Info] Total Bins 99484\n",
      "[LightGBM] [Info] Number of data points in the train set: 31348, number of used features: 586\n",
      "[LightGBM] [Info] Using GPU Device: Quadro RTX 4000, Vendor: NVIDIA Corporation\n",
      "[LightGBM] [Info] Compiling OpenCL Kernel with 256 bins...\n",
      "[LightGBM] [Info] GPU programs have been built\n",
      "[LightGBM] [Info] Size of histogram bin entry: 8\n",
      "[LightGBM] [Info] 217 dense feature groups (6.58 MB) transferred to GPU in 0.098724 secs. 1 sparse feature groups\n",
      "threshold: 0.17560543250163554\n",
      "AUC-ROC: 0.9944174171910615\n",
      "Accuracy: 0.8196\n",
      "PR_AUC: 0.9951600644955395\n",
      "Epoch 213/300\n"
     ]
    },
    {
     "name": "stderr",
     "output_type": "stream",
     "text": [
      "c:\\Users\\FH-Deg\\.conda\\envs\\tf_c_gpu\\lib\\site-packages\\lightgbm\\basic.py:1192: UserWarning: Converting data to scipy sparse matrix.\n",
      "  _log_warning('Converting data to scipy sparse matrix.')\n"
     ]
    },
    {
     "name": "stdout",
     "output_type": "stream",
     "text": [
      "[LightGBM] [Info] Number of positive: 982, number of negative: 30366\n",
      "[LightGBM] [Info] This is the GPU trainer!!\n",
      "[LightGBM] [Info] Total Bins 99484\n",
      "[LightGBM] [Info] Number of data points in the train set: 31348, number of used features: 586\n",
      "[LightGBM] [Info] Using GPU Device: Quadro RTX 4000, Vendor: NVIDIA Corporation\n",
      "[LightGBM] [Info] Compiling OpenCL Kernel with 256 bins...\n",
      "[LightGBM] [Info] GPU programs have been built\n",
      "[LightGBM] [Info] Size of histogram bin entry: 8\n",
      "[LightGBM] [Info] 217 dense feature groups (6.58 MB) transferred to GPU in 0.088227 secs. 1 sparse feature groups\n",
      "threshold: 0.17559396624745788\n",
      "AUC-ROC: 0.994423458514353\n",
      "Accuracy: 0.8191\n",
      "PR_AUC: 0.9951685891812393\n",
      "Epoch 214/300\n"
     ]
    },
    {
     "name": "stderr",
     "output_type": "stream",
     "text": [
      "c:\\Users\\FH-Deg\\.conda\\envs\\tf_c_gpu\\lib\\site-packages\\lightgbm\\basic.py:1192: UserWarning: Converting data to scipy sparse matrix.\n",
      "  _log_warning('Converting data to scipy sparse matrix.')\n"
     ]
    },
    {
     "name": "stdout",
     "output_type": "stream",
     "text": [
      "[LightGBM] [Info] Number of positive: 982, number of negative: 30366\n",
      "[LightGBM] [Info] This is the GPU trainer!!\n",
      "[LightGBM] [Info] Total Bins 99484\n",
      "[LightGBM] [Info] Number of data points in the train set: 31348, number of used features: 586\n",
      "[LightGBM] [Info] Using GPU Device: Quadro RTX 4000, Vendor: NVIDIA Corporation\n",
      "[LightGBM] [Info] Compiling OpenCL Kernel with 256 bins...\n",
      "[LightGBM] [Info] GPU programs have been built\n",
      "[LightGBM] [Info] Size of histogram bin entry: 8\n",
      "[LightGBM] [Info] 217 dense feature groups (6.58 MB) transferred to GPU in 0.077805 secs. 1 sparse feature groups\n",
      "threshold: 0.17550790085627443\n",
      "AUC-ROC: 0.9944359012398076\n",
      "Accuracy: 0.8187\n",
      "PR_AUC: 0.9951733219245315\n",
      "Updating target policy...\n",
      "Epoch 215/300\n"
     ]
    },
    {
     "name": "stderr",
     "output_type": "stream",
     "text": [
      "c:\\Users\\FH-Deg\\.conda\\envs\\tf_c_gpu\\lib\\site-packages\\lightgbm\\basic.py:1192: UserWarning: Converting data to scipy sparse matrix.\n",
      "  _log_warning('Converting data to scipy sparse matrix.')\n"
     ]
    },
    {
     "name": "stdout",
     "output_type": "stream",
     "text": [
      "[LightGBM] [Info] Number of positive: 982, number of negative: 30366\n",
      "[LightGBM] [Info] This is the GPU trainer!!\n",
      "[LightGBM] [Info] Total Bins 99484\n",
      "[LightGBM] [Info] Number of data points in the train set: 31348, number of used features: 586\n",
      "[LightGBM] [Info] Using GPU Device: Quadro RTX 4000, Vendor: NVIDIA Corporation\n",
      "[LightGBM] [Info] Compiling OpenCL Kernel with 256 bins...\n",
      "[LightGBM] [Info] GPU programs have been built\n",
      "[LightGBM] [Info] Size of histogram bin entry: 8\n",
      "[LightGBM] [Info] 217 dense feature groups (6.58 MB) transferred to GPU in 0.070720 secs. 1 sparse feature groups\n",
      "threshold: 0.17550118876833926\n",
      "AUC-ROC: 0.9944415824842272\n",
      "Accuracy: 0.8184\n",
      "PR_AUC: 0.9951771047404746\n",
      "Epoch 216/300\n"
     ]
    },
    {
     "name": "stderr",
     "output_type": "stream",
     "text": [
      "c:\\Users\\FH-Deg\\.conda\\envs\\tf_c_gpu\\lib\\site-packages\\lightgbm\\basic.py:1192: UserWarning: Converting data to scipy sparse matrix.\n",
      "  _log_warning('Converting data to scipy sparse matrix.')\n"
     ]
    },
    {
     "name": "stdout",
     "output_type": "stream",
     "text": [
      "[LightGBM] [Info] Number of positive: 982, number of negative: 30366\n",
      "[LightGBM] [Info] This is the GPU trainer!!\n",
      "[LightGBM] [Info] Total Bins 99484\n",
      "[LightGBM] [Info] Number of data points in the train set: 31348, number of used features: 586\n",
      "[LightGBM] [Info] Using GPU Device: Quadro RTX 4000, Vendor: NVIDIA Corporation\n",
      "[LightGBM] [Info] Compiling OpenCL Kernel with 256 bins...\n",
      "[LightGBM] [Info] GPU programs have been built\n",
      "[LightGBM] [Info] Size of histogram bin entry: 8\n",
      "[LightGBM] [Info] 217 dense feature groups (6.58 MB) transferred to GPU in 0.058177 secs. 1 sparse feature groups\n",
      "threshold: 0.17534666495693668\n",
      "AUC-ROC: 0.9944413024228828\n",
      "Accuracy: 0.8177\n",
      "PR_AUC: 0.9951793129134003\n",
      "Epoch 217/300\n"
     ]
    },
    {
     "name": "stderr",
     "output_type": "stream",
     "text": [
      "c:\\Users\\FH-Deg\\.conda\\envs\\tf_c_gpu\\lib\\site-packages\\lightgbm\\basic.py:1192: UserWarning: Converting data to scipy sparse matrix.\n",
      "  _log_warning('Converting data to scipy sparse matrix.')\n"
     ]
    },
    {
     "name": "stdout",
     "output_type": "stream",
     "text": [
      "[LightGBM] [Info] Number of positive: 982, number of negative: 30366\n",
      "[LightGBM] [Info] This is the GPU trainer!!\n",
      "[LightGBM] [Info] Total Bins 99484\n",
      "[LightGBM] [Info] Number of data points in the train set: 31348, number of used features: 586\n",
      "[LightGBM] [Info] Using GPU Device: Quadro RTX 4000, Vendor: NVIDIA Corporation\n",
      "[LightGBM] [Info] Compiling OpenCL Kernel with 256 bins...\n",
      "[LightGBM] [Info] GPU programs have been built\n",
      "[LightGBM] [Info] Size of histogram bin entry: 8\n",
      "[LightGBM] [Info] 217 dense feature groups (6.58 MB) transferred to GPU in 0.096860 secs. 1 sparse feature groups\n",
      "threshold: 0.1753440455796065\n",
      "AUC-ROC: 0.9944355811696995\n",
      "Accuracy: 0.8179\n",
      "PR_AUC: 0.9951738964112248\n",
      "Updating target policy...\n",
      "Epoch 218/300\n"
     ]
    },
    {
     "name": "stderr",
     "output_type": "stream",
     "text": [
      "c:\\Users\\FH-Deg\\.conda\\envs\\tf_c_gpu\\lib\\site-packages\\lightgbm\\basic.py:1192: UserWarning: Converting data to scipy sparse matrix.\n",
      "  _log_warning('Converting data to scipy sparse matrix.')\n"
     ]
    },
    {
     "name": "stdout",
     "output_type": "stream",
     "text": [
      "[LightGBM] [Info] Number of positive: 982, number of negative: 30366\n",
      "[LightGBM] [Info] This is the GPU trainer!!\n",
      "[LightGBM] [Info] Total Bins 99484\n",
      "[LightGBM] [Info] Number of data points in the train set: 31348, number of used features: 586\n",
      "[LightGBM] [Info] Using GPU Device: Quadro RTX 4000, Vendor: NVIDIA Corporation\n",
      "[LightGBM] [Info] Compiling OpenCL Kernel with 256 bins...\n",
      "[LightGBM] [Info] GPU programs have been built\n",
      "[LightGBM] [Info] Size of histogram bin entry: 8\n",
      "[LightGBM] [Info] 217 dense feature groups (6.58 MB) transferred to GPU in 0.084103 secs. 1 sparse feature groups\n",
      "threshold: 0.17508707117946387\n",
      "AUC-ROC: 0.9944441830538561\n",
      "Accuracy: 0.8179\n",
      "PR_AUC: 0.9951819599406492\n",
      "Epoch 219/300\n"
     ]
    },
    {
     "name": "stderr",
     "output_type": "stream",
     "text": [
      "c:\\Users\\FH-Deg\\.conda\\envs\\tf_c_gpu\\lib\\site-packages\\lightgbm\\basic.py:1192: UserWarning: Converting data to scipy sparse matrix.\n",
      "  _log_warning('Converting data to scipy sparse matrix.')\n"
     ]
    },
    {
     "name": "stdout",
     "output_type": "stream",
     "text": [
      "[LightGBM] [Info] Number of positive: 982, number of negative: 30366\n",
      "[LightGBM] [Info] This is the GPU trainer!!\n",
      "[LightGBM] [Info] Total Bins 99484\n",
      "[LightGBM] [Info] Number of data points in the train set: 31348, number of used features: 586\n",
      "[LightGBM] [Info] Using GPU Device: Quadro RTX 4000, Vendor: NVIDIA Corporation\n",
      "[LightGBM] [Info] Compiling OpenCL Kernel with 256 bins...\n",
      "[LightGBM] [Info] GPU programs have been built\n",
      "[LightGBM] [Info] Size of histogram bin entry: 8\n",
      "[LightGBM] [Info] 217 dense feature groups (6.58 MB) transferred to GPU in 0.092965 secs. 1 sparse feature groups\n",
      "threshold: 0.1748562061607488\n",
      "AUC-ROC: 0.9944362213099158\n",
      "Accuracy: 0.8174\n",
      "PR_AUC: 0.9951766903032487\n",
      "Epoch 220/300\n"
     ]
    },
    {
     "name": "stderr",
     "output_type": "stream",
     "text": [
      "c:\\Users\\FH-Deg\\.conda\\envs\\tf_c_gpu\\lib\\site-packages\\lightgbm\\basic.py:1192: UserWarning: Converting data to scipy sparse matrix.\n",
      "  _log_warning('Converting data to scipy sparse matrix.')\n"
     ]
    },
    {
     "name": "stdout",
     "output_type": "stream",
     "text": [
      "[LightGBM] [Info] Number of positive: 982, number of negative: 30366\n",
      "[LightGBM] [Info] This is the GPU trainer!!\n",
      "[LightGBM] [Info] Total Bins 99484\n",
      "[LightGBM] [Info] Number of data points in the train set: 31348, number of used features: 586\n",
      "[LightGBM] [Info] Using GPU Device: Quadro RTX 4000, Vendor: NVIDIA Corporation\n",
      "[LightGBM] [Info] Compiling OpenCL Kernel with 256 bins...\n",
      "[LightGBM] [Info] GPU programs have been built\n",
      "[LightGBM] [Info] Size of histogram bin entry: 8\n",
      "[LightGBM] [Info] 217 dense feature groups (6.58 MB) transferred to GPU in 0.079192 secs. 1 sparse feature groups\n",
      "threshold: 0.17473541250481675\n",
      "AUC-ROC: 0.9944423826594978\n",
      "Accuracy: 0.8168\n",
      "PR_AUC: 0.9951804287156336\n",
      "Updating target policy...\n",
      "Epoch 221/300\n"
     ]
    },
    {
     "name": "stderr",
     "output_type": "stream",
     "text": [
      "c:\\Users\\FH-Deg\\.conda\\envs\\tf_c_gpu\\lib\\site-packages\\lightgbm\\basic.py:1192: UserWarning: Converting data to scipy sparse matrix.\n",
      "  _log_warning('Converting data to scipy sparse matrix.')\n"
     ]
    },
    {
     "name": "stdout",
     "output_type": "stream",
     "text": [
      "[LightGBM] [Info] Number of positive: 982, number of negative: 30366\n",
      "[LightGBM] [Info] This is the GPU trainer!!\n",
      "[LightGBM] [Info] Total Bins 99484\n",
      "[LightGBM] [Info] Number of data points in the train set: 31348, number of used features: 586\n",
      "[LightGBM] [Info] Using GPU Device: Quadro RTX 4000, Vendor: NVIDIA Corporation\n",
      "[LightGBM] [Info] Compiling OpenCL Kernel with 256 bins...\n",
      "[LightGBM] [Info] GPU programs have been built\n",
      "[LightGBM] [Info] Size of histogram bin entry: 8\n",
      "[LightGBM] [Info] 217 dense feature groups (6.58 MB) transferred to GPU in 0.064441 secs. 1 sparse feature groups\n",
      "threshold: 0.17471276019316412\n",
      "AUC-ROC: 0.9944296598726985\n",
      "Accuracy: 0.8166\n",
      "PR_AUC: 0.9951714299920953\n",
      "Epoch 222/300\n"
     ]
    },
    {
     "name": "stderr",
     "output_type": "stream",
     "text": [
      "c:\\Users\\FH-Deg\\.conda\\envs\\tf_c_gpu\\lib\\site-packages\\lightgbm\\basic.py:1192: UserWarning: Converting data to scipy sparse matrix.\n",
      "  _log_warning('Converting data to scipy sparse matrix.')\n"
     ]
    },
    {
     "name": "stdout",
     "output_type": "stream",
     "text": [
      "[LightGBM] [Info] Number of positive: 982, number of negative: 30366\n",
      "[LightGBM] [Info] This is the GPU trainer!!\n",
      "[LightGBM] [Info] Total Bins 99484\n",
      "[LightGBM] [Info] Number of data points in the train set: 31348, number of used features: 586\n",
      "[LightGBM] [Info] Using GPU Device: Quadro RTX 4000, Vendor: NVIDIA Corporation\n",
      "[LightGBM] [Info] Compiling OpenCL Kernel with 256 bins...\n",
      "[LightGBM] [Info] GPU programs have been built\n",
      "[LightGBM] [Info] Size of histogram bin entry: 8\n",
      "[LightGBM] [Info] 217 dense feature groups (6.58 MB) transferred to GPU in 0.057022 secs. 1 sparse feature groups\n",
      "threshold: 0.17482248729966998\n",
      "AUC-ROC: 0.9944528249467763\n",
      "Accuracy: 0.8164\n",
      "PR_AUC: 0.9951857943848333\n",
      "Epoch 223/300\n"
     ]
    },
    {
     "name": "stderr",
     "output_type": "stream",
     "text": [
      "c:\\Users\\FH-Deg\\.conda\\envs\\tf_c_gpu\\lib\\site-packages\\lightgbm\\basic.py:1192: UserWarning: Converting data to scipy sparse matrix.\n",
      "  _log_warning('Converting data to scipy sparse matrix.')\n"
     ]
    },
    {
     "name": "stdout",
     "output_type": "stream",
     "text": [
      "[LightGBM] [Info] Number of positive: 982, number of negative: 30366\n",
      "[LightGBM] [Info] This is the GPU trainer!!\n",
      "[LightGBM] [Info] Total Bins 99484\n",
      "[LightGBM] [Info] Number of data points in the train set: 31348, number of used features: 586\n",
      "[LightGBM] [Info] Using GPU Device: Quadro RTX 4000, Vendor: NVIDIA Corporation\n",
      "[LightGBM] [Info] Compiling OpenCL Kernel with 256 bins...\n",
      "[LightGBM] [Info] GPU programs have been built\n",
      "[LightGBM] [Info] Size of histogram bin entry: 8\n",
      "[LightGBM] [Info] 217 dense feature groups (6.58 MB) transferred to GPU in 0.094035 secs. 1 sparse feature groups\n",
      "threshold: 0.17471927481309452\n",
      "AUC-ROC: 0.9944517047013978\n",
      "Accuracy: 0.8162\n",
      "PR_AUC: 0.9951831084538032\n",
      "Updating target policy...\n",
      "Epoch 224/300\n"
     ]
    },
    {
     "name": "stderr",
     "output_type": "stream",
     "text": [
      "c:\\Users\\FH-Deg\\.conda\\envs\\tf_c_gpu\\lib\\site-packages\\lightgbm\\basic.py:1192: UserWarning: Converting data to scipy sparse matrix.\n",
      "  _log_warning('Converting data to scipy sparse matrix.')\n"
     ]
    },
    {
     "name": "stdout",
     "output_type": "stream",
     "text": [
      "[LightGBM] [Info] Number of positive: 982, number of negative: 30366\n",
      "[LightGBM] [Info] This is the GPU trainer!!\n",
      "[LightGBM] [Info] Total Bins 99484\n",
      "[LightGBM] [Info] Number of data points in the train set: 31348, number of used features: 586\n",
      "[LightGBM] [Info] Using GPU Device: Quadro RTX 4000, Vendor: NVIDIA Corporation\n",
      "[LightGBM] [Info] Compiling OpenCL Kernel with 256 bins...\n",
      "[LightGBM] [Info] GPU programs have been built\n",
      "[LightGBM] [Info] Size of histogram bin entry: 8\n",
      "[LightGBM] [Info] 217 dense feature groups (6.58 MB) transferred to GPU in 0.082032 secs. 1 sparse feature groups\n",
      "threshold: 0.17464710581612392\n",
      "AUC-ROC: 0.9944760700383813\n",
      "Accuracy: 0.8165\n",
      "PR_AUC: 0.9952031692607329\n",
      "Epoch 225/300\n"
     ]
    },
    {
     "name": "stderr",
     "output_type": "stream",
     "text": [
      "c:\\Users\\FH-Deg\\.conda\\envs\\tf_c_gpu\\lib\\site-packages\\lightgbm\\basic.py:1192: UserWarning: Converting data to scipy sparse matrix.\n",
      "  _log_warning('Converting data to scipy sparse matrix.')\n"
     ]
    },
    {
     "name": "stdout",
     "output_type": "stream",
     "text": [
      "[LightGBM] [Info] Number of positive: 982, number of negative: 30366\n",
      "[LightGBM] [Info] This is the GPU trainer!!\n",
      "[LightGBM] [Info] Total Bins 99484\n",
      "[LightGBM] [Info] Number of data points in the train set: 31348, number of used features: 586\n",
      "[LightGBM] [Info] Using GPU Device: Quadro RTX 4000, Vendor: NVIDIA Corporation\n",
      "[LightGBM] [Info] Compiling OpenCL Kernel with 256 bins...\n",
      "[LightGBM] [Info] GPU programs have been built\n",
      "[LightGBM] [Info] Size of histogram bin entry: 8\n",
      "[LightGBM] [Info] 217 dense feature groups (6.58 MB) transferred to GPU in 0.087251 secs. 1 sparse feature groups\n",
      "threshold: 0.17446980348329139\n",
      "AUC-ROC: 0.9944802709585507\n",
      "Accuracy: 0.8164\n",
      "PR_AUC: 0.9952075956604375\n",
      "Epoch 226/300\n"
     ]
    },
    {
     "name": "stderr",
     "output_type": "stream",
     "text": [
      "c:\\Users\\FH-Deg\\.conda\\envs\\tf_c_gpu\\lib\\site-packages\\lightgbm\\basic.py:1192: UserWarning: Converting data to scipy sparse matrix.\n",
      "  _log_warning('Converting data to scipy sparse matrix.')\n"
     ]
    },
    {
     "name": "stdout",
     "output_type": "stream",
     "text": [
      "[LightGBM] [Info] Number of positive: 982, number of negative: 30366\n",
      "[LightGBM] [Info] This is the GPU trainer!!\n",
      "[LightGBM] [Info] Total Bins 99484\n",
      "[LightGBM] [Info] Number of data points in the train set: 31348, number of used features: 586\n",
      "[LightGBM] [Info] Using GPU Device: Quadro RTX 4000, Vendor: NVIDIA Corporation\n",
      "[LightGBM] [Info] Compiling OpenCL Kernel with 256 bins...\n",
      "[LightGBM] [Info] GPU programs have been built\n",
      "[LightGBM] [Info] Size of histogram bin entry: 8\n",
      "[LightGBM] [Info] 217 dense feature groups (6.58 MB) transferred to GPU in 0.094601 secs. 1 sparse feature groups\n",
      "threshold: 0.17422538241844626\n",
      "AUC-ROC: 0.9944908332721201\n",
      "Accuracy: 0.8159\n",
      "PR_AUC: 0.9952162565098588\n",
      "Updating target policy...\n",
      "Epoch 227/300\n"
     ]
    },
    {
     "name": "stderr",
     "output_type": "stream",
     "text": [
      "c:\\Users\\FH-Deg\\.conda\\envs\\tf_c_gpu\\lib\\site-packages\\lightgbm\\basic.py:1192: UserWarning: Converting data to scipy sparse matrix.\n",
      "  _log_warning('Converting data to scipy sparse matrix.')\n"
     ]
    },
    {
     "name": "stdout",
     "output_type": "stream",
     "text": [
      "[LightGBM] [Info] Number of positive: 982, number of negative: 30366\n",
      "[LightGBM] [Info] This is the GPU trainer!!\n",
      "[LightGBM] [Info] Total Bins 99484\n",
      "[LightGBM] [Info] Number of data points in the train set: 31348, number of used features: 586\n",
      "[LightGBM] [Info] Using GPU Device: Quadro RTX 4000, Vendor: NVIDIA Corporation\n",
      "[LightGBM] [Info] Compiling OpenCL Kernel with 256 bins...\n",
      "[LightGBM] [Info] GPU programs have been built\n",
      "[LightGBM] [Info] Size of histogram bin entry: 8\n",
      "[LightGBM] [Info] 217 dense feature groups (6.58 MB) transferred to GPU in 0.076037 secs. 1 sparse feature groups\n",
      "threshold: 0.17423762386598526\n",
      "AUC-ROC: 0.9945019957171419\n",
      "Accuracy: 0.8154\n",
      "PR_AUC: 0.9952215427191737\n",
      "Epoch 228/300\n"
     ]
    },
    {
     "name": "stderr",
     "output_type": "stream",
     "text": [
      "c:\\Users\\FH-Deg\\.conda\\envs\\tf_c_gpu\\lib\\site-packages\\lightgbm\\basic.py:1192: UserWarning: Converting data to scipy sparse matrix.\n",
      "  _log_warning('Converting data to scipy sparse matrix.')\n"
     ]
    },
    {
     "name": "stdout",
     "output_type": "stream",
     "text": [
      "[LightGBM] [Info] Number of positive: 982, number of negative: 30366\n",
      "[LightGBM] [Info] This is the GPU trainer!!\n",
      "[LightGBM] [Info] Total Bins 99484\n",
      "[LightGBM] [Info] Number of data points in the train set: 31348, number of used features: 586\n",
      "[LightGBM] [Info] Using GPU Device: Quadro RTX 4000, Vendor: NVIDIA Corporation\n",
      "[LightGBM] [Info] Compiling OpenCL Kernel with 256 bins...\n",
      "[LightGBM] [Info] GPU programs have been built\n",
      "[LightGBM] [Info] Size of histogram bin entry: 8\n",
      "[LightGBM] [Info] 217 dense feature groups (6.58 MB) transferred to GPU in 0.077795 secs. 1 sparse feature groups\n",
      "threshold: 0.17406342454226195\n",
      "AUC-ROC: 0.99451163782915\n",
      "Accuracy: 0.815\n",
      "PR_AUC: 0.9952285354013148\n",
      "Epoch 229/300\n"
     ]
    },
    {
     "name": "stderr",
     "output_type": "stream",
     "text": [
      "c:\\Users\\FH-Deg\\.conda\\envs\\tf_c_gpu\\lib\\site-packages\\lightgbm\\basic.py:1192: UserWarning: Converting data to scipy sparse matrix.\n",
      "  _log_warning('Converting data to scipy sparse matrix.')\n"
     ]
    },
    {
     "name": "stdout",
     "output_type": "stream",
     "text": [
      "[LightGBM] [Info] Number of positive: 982, number of negative: 30366\n",
      "[LightGBM] [Info] This is the GPU trainer!!\n",
      "[LightGBM] [Info] Total Bins 99484\n",
      "[LightGBM] [Info] Number of data points in the train set: 31348, number of used features: 586\n",
      "[LightGBM] [Info] Using GPU Device: Quadro RTX 4000, Vendor: NVIDIA Corporation\n",
      "[LightGBM] [Info] Compiling OpenCL Kernel with 256 bins...\n",
      "[LightGBM] [Info] GPU programs have been built\n",
      "[LightGBM] [Info] Size of histogram bin entry: 8\n",
      "[LightGBM] [Info] 217 dense feature groups (6.58 MB) transferred to GPU in 0.068922 secs. 1 sparse feature groups\n",
      "threshold: 0.17415152921526117\n",
      "AUC-ROC: 0.9945235604406788\n",
      "Accuracy: 0.8145\n",
      "PR_AUC: 0.995238852690646\n",
      "Updating target policy...\n",
      "Epoch 230/300\n"
     ]
    },
    {
     "name": "stderr",
     "output_type": "stream",
     "text": [
      "c:\\Users\\FH-Deg\\.conda\\envs\\tf_c_gpu\\lib\\site-packages\\lightgbm\\basic.py:1192: UserWarning: Converting data to scipy sparse matrix.\n",
      "  _log_warning('Converting data to scipy sparse matrix.')\n"
     ]
    },
    {
     "name": "stdout",
     "output_type": "stream",
     "text": [
      "[LightGBM] [Info] Number of positive: 982, number of negative: 30366\n",
      "[LightGBM] [Info] This is the GPU trainer!!\n",
      "[LightGBM] [Info] Total Bins 99484\n",
      "[LightGBM] [Info] Number of data points in the train set: 31348, number of used features: 586\n",
      "[LightGBM] [Info] Using GPU Device: Quadro RTX 4000, Vendor: NVIDIA Corporation\n",
      "[LightGBM] [Info] Compiling OpenCL Kernel with 256 bins...\n",
      "[LightGBM] [Info] GPU programs have been built\n",
      "[LightGBM] [Info] Size of histogram bin entry: 8\n",
      "[LightGBM] [Info] 217 dense feature groups (6.58 MB) transferred to GPU in 0.081567 secs. 1 sparse feature groups\n",
      "threshold: 0.1740372253153138\n",
      "AUC-ROC: 0.994533962719194\n",
      "Accuracy: 0.8147\n",
      "PR_AUC: 0.9952459870930862\n",
      "Epoch 231/300\n"
     ]
    },
    {
     "name": "stderr",
     "output_type": "stream",
     "text": [
      "c:\\Users\\FH-Deg\\.conda\\envs\\tf_c_gpu\\lib\\site-packages\\lightgbm\\basic.py:1192: UserWarning: Converting data to scipy sparse matrix.\n",
      "  _log_warning('Converting data to scipy sparse matrix.')\n"
     ]
    },
    {
     "name": "stdout",
     "output_type": "stream",
     "text": [
      "[LightGBM] [Info] Number of positive: 982, number of negative: 30366\n",
      "[LightGBM] [Info] This is the GPU trainer!!\n",
      "[LightGBM] [Info] Total Bins 99484\n",
      "[LightGBM] [Info] Number of data points in the train set: 31348, number of used features: 586\n",
      "[LightGBM] [Info] Using GPU Device: Quadro RTX 4000, Vendor: NVIDIA Corporation\n",
      "[LightGBM] [Info] Compiling OpenCL Kernel with 256 bins...\n",
      "[LightGBM] [Info] GPU programs have been built\n",
      "[LightGBM] [Info] Size of histogram bin entry: 8\n",
      "[LightGBM] [Info] 217 dense feature groups (6.58 MB) transferred to GPU in 0.076150 secs. 1 sparse feature groups\n",
      "threshold: 0.17377728762462544\n",
      "AUC-ROC: 0.9945283614923013\n",
      "Accuracy: 0.8144\n",
      "PR_AUC: 0.9952414549791228\n",
      "Epoch 232/300\n"
     ]
    },
    {
     "name": "stderr",
     "output_type": "stream",
     "text": [
      "c:\\Users\\FH-Deg\\.conda\\envs\\tf_c_gpu\\lib\\site-packages\\lightgbm\\basic.py:1192: UserWarning: Converting data to scipy sparse matrix.\n",
      "  _log_warning('Converting data to scipy sparse matrix.')\n"
     ]
    },
    {
     "name": "stdout",
     "output_type": "stream",
     "text": [
      "[LightGBM] [Info] Number of positive: 982, number of negative: 30366\n",
      "[LightGBM] [Info] This is the GPU trainer!!\n",
      "[LightGBM] [Info] Total Bins 99484\n",
      "[LightGBM] [Info] Number of data points in the train set: 31348, number of used features: 586\n",
      "[LightGBM] [Info] Using GPU Device: Quadro RTX 4000, Vendor: NVIDIA Corporation\n",
      "[LightGBM] [Info] Compiling OpenCL Kernel with 256 bins...\n",
      "[LightGBM] [Info] GPU programs have been built\n",
      "[LightGBM] [Info] Size of histogram bin entry: 8\n",
      "[LightGBM] [Info] 217 dense feature groups (6.58 MB) transferred to GPU in 0.060493 secs. 1 sparse feature groups\n",
      "threshold: 0.17372571764996286\n",
      "AUC-ROC: 0.9945345228418834\n",
      "Accuracy: 0.814\n",
      "PR_AUC: 0.9952473630658547\n",
      "Updating target policy...\n",
      "Epoch 233/300\n"
     ]
    },
    {
     "name": "stderr",
     "output_type": "stream",
     "text": [
      "c:\\Users\\FH-Deg\\.conda\\envs\\tf_c_gpu\\lib\\site-packages\\lightgbm\\basic.py:1192: UserWarning: Converting data to scipy sparse matrix.\n",
      "  _log_warning('Converting data to scipy sparse matrix.')\n"
     ]
    },
    {
     "name": "stdout",
     "output_type": "stream",
     "text": [
      "[LightGBM] [Info] Number of positive: 982, number of negative: 30366\n",
      "[LightGBM] [Info] This is the GPU trainer!!\n",
      "[LightGBM] [Info] Total Bins 99484\n",
      "[LightGBM] [Info] Number of data points in the train set: 31348, number of used features: 586\n",
      "[LightGBM] [Info] Using GPU Device: Quadro RTX 4000, Vendor: NVIDIA Corporation\n",
      "[LightGBM] [Info] Compiling OpenCL Kernel with 256 bins...\n",
      "[LightGBM] [Info] GPU programs have been built\n",
      "[LightGBM] [Info] Size of histogram bin entry: 8\n",
      "[LightGBM] [Info] 217 dense feature groups (6.58 MB) transferred to GPU in 0.098478 secs. 1 sparse feature groups\n",
      "threshold: 0.17372152313580252\n",
      "AUC-ROC: 0.9945386037357623\n",
      "Accuracy: 0.8135\n",
      "PR_AUC: 0.9952478039238698\n",
      "Epoch 234/300\n"
     ]
    },
    {
     "name": "stderr",
     "output_type": "stream",
     "text": [
      "c:\\Users\\FH-Deg\\.conda\\envs\\tf_c_gpu\\lib\\site-packages\\lightgbm\\basic.py:1192: UserWarning: Converting data to scipy sparse matrix.\n",
      "  _log_warning('Converting data to scipy sparse matrix.')\n"
     ]
    },
    {
     "name": "stdout",
     "output_type": "stream",
     "text": [
      "[LightGBM] [Info] Number of positive: 982, number of negative: 30366\n",
      "[LightGBM] [Info] This is the GPU trainer!!\n",
      "[LightGBM] [Info] Total Bins 99484\n",
      "[LightGBM] [Info] Number of data points in the train set: 31348, number of used features: 586\n",
      "[LightGBM] [Info] Using GPU Device: Quadro RTX 4000, Vendor: NVIDIA Corporation\n",
      "[LightGBM] [Info] Compiling OpenCL Kernel with 256 bins...\n",
      "[LightGBM] [Info] GPU programs have been built\n",
      "[LightGBM] [Info] Size of histogram bin entry: 8\n",
      "[LightGBM] [Info] 217 dense feature groups (6.58 MB) transferred to GPU in 0.062204 secs. 1 sparse feature groups\n",
      "threshold: 0.1734956433669798\n",
      "AUC-ROC: 0.9945331225351601\n",
      "Accuracy: 0.8137\n",
      "PR_AUC: 0.9952388108625052\n",
      "Epoch 235/300\n"
     ]
    },
    {
     "name": "stderr",
     "output_type": "stream",
     "text": [
      "c:\\Users\\FH-Deg\\.conda\\envs\\tf_c_gpu\\lib\\site-packages\\lightgbm\\basic.py:1192: UserWarning: Converting data to scipy sparse matrix.\n",
      "  _log_warning('Converting data to scipy sparse matrix.')\n"
     ]
    },
    {
     "name": "stdout",
     "output_type": "stream",
     "text": [
      "[LightGBM] [Info] Number of positive: 982, number of negative: 30366\n",
      "[LightGBM] [Info] This is the GPU trainer!!\n",
      "[LightGBM] [Info] Total Bins 99484\n",
      "[LightGBM] [Info] Number of data points in the train set: 31348, number of used features: 586\n",
      "[LightGBM] [Info] Using GPU Device: Quadro RTX 4000, Vendor: NVIDIA Corporation\n",
      "[LightGBM] [Info] Compiling OpenCL Kernel with 256 bins...\n",
      "[LightGBM] [Info] GPU programs have been built\n",
      "[LightGBM] [Info] Size of histogram bin entry: 8\n",
      "[LightGBM] [Info] 217 dense feature groups (6.58 MB) transferred to GPU in 0.063489 secs. 1 sparse feature groups\n",
      "threshold: 0.1733371890169573\n",
      "AUC-ROC: 0.9945439249013104\n",
      "Accuracy: 0.8132\n",
      "PR_AUC: 0.9952465810866284\n",
      "Updating target policy...\n",
      "Epoch 236/300\n"
     ]
    },
    {
     "name": "stderr",
     "output_type": "stream",
     "text": [
      "c:\\Users\\FH-Deg\\.conda\\envs\\tf_c_gpu\\lib\\site-packages\\lightgbm\\basic.py:1192: UserWarning: Converting data to scipy sparse matrix.\n",
      "  _log_warning('Converting data to scipy sparse matrix.')\n"
     ]
    },
    {
     "name": "stdout",
     "output_type": "stream",
     "text": [
      "[LightGBM] [Info] Number of positive: 982, number of negative: 30366\n",
      "[LightGBM] [Info] This is the GPU trainer!!\n",
      "[LightGBM] [Info] Total Bins 99484\n",
      "[LightGBM] [Info] Number of data points in the train set: 31348, number of used features: 586\n",
      "[LightGBM] [Info] Using GPU Device: Quadro RTX 4000, Vendor: NVIDIA Corporation\n",
      "[LightGBM] [Info] Compiling OpenCL Kernel with 256 bins...\n",
      "[LightGBM] [Info] GPU programs have been built\n",
      "[LightGBM] [Info] Size of histogram bin entry: 8\n",
      "[LightGBM] [Info] 217 dense feature groups (6.58 MB) transferred to GPU in 0.063683 secs. 1 sparse feature groups\n",
      "threshold: 0.17314833832808246\n",
      "AUC-ROC: 0.9945292016763352\n",
      "Accuracy: 0.8134\n",
      "PR_AUC: 0.9952353843782463\n",
      "Epoch 237/300\n"
     ]
    },
    {
     "name": "stderr",
     "output_type": "stream",
     "text": [
      "c:\\Users\\FH-Deg\\.conda\\envs\\tf_c_gpu\\lib\\site-packages\\lightgbm\\basic.py:1192: UserWarning: Converting data to scipy sparse matrix.\n",
      "  _log_warning('Converting data to scipy sparse matrix.')\n"
     ]
    },
    {
     "name": "stdout",
     "output_type": "stream",
     "text": [
      "[LightGBM] [Info] Number of positive: 982, number of negative: 30366\n",
      "[LightGBM] [Info] This is the GPU trainer!!\n",
      "[LightGBM] [Info] Total Bins 99484\n",
      "[LightGBM] [Info] Number of data points in the train set: 31348, number of used features: 586\n",
      "[LightGBM] [Info] Using GPU Device: Quadro RTX 4000, Vendor: NVIDIA Corporation\n",
      "[LightGBM] [Info] Compiling OpenCL Kernel with 256 bins...\n",
      "[LightGBM] [Info] GPU programs have been built\n",
      "[LightGBM] [Info] Size of histogram bin entry: 8\n",
      "[LightGBM] [Info] 217 dense feature groups (6.58 MB) transferred to GPU in 0.116084 secs. 1 sparse feature groups\n",
      "threshold: 0.17300847559426197\n",
      "AUC-ROC: 0.9945385237182353\n",
      "Accuracy: 0.8126\n",
      "PR_AUC: 0.9952421472652703\n",
      "Epoch 238/300\n"
     ]
    },
    {
     "name": "stderr",
     "output_type": "stream",
     "text": [
      "c:\\Users\\FH-Deg\\.conda\\envs\\tf_c_gpu\\lib\\site-packages\\lightgbm\\basic.py:1192: UserWarning: Converting data to scipy sparse matrix.\n",
      "  _log_warning('Converting data to scipy sparse matrix.')\n"
     ]
    },
    {
     "name": "stdout",
     "output_type": "stream",
     "text": [
      "[LightGBM] [Info] Number of positive: 982, number of negative: 30366\n",
      "[LightGBM] [Info] This is the GPU trainer!!\n",
      "[LightGBM] [Info] Total Bins 99484\n",
      "[LightGBM] [Info] Number of data points in the train set: 31348, number of used features: 586\n",
      "[LightGBM] [Info] Using GPU Device: Quadro RTX 4000, Vendor: NVIDIA Corporation\n",
      "[LightGBM] [Info] Compiling OpenCL Kernel with 256 bins...\n",
      "[LightGBM] [Info] GPU programs have been built\n",
      "[LightGBM] [Info] Size of histogram bin entry: 8\n",
      "[LightGBM] [Info] 217 dense feature groups (6.58 MB) transferred to GPU in 0.101640 secs. 1 sparse feature groups\n",
      "threshold: 0.17287547536555217\n",
      "AUC-ROC: 0.9945482058390068\n",
      "Accuracy: 0.8128\n",
      "PR_AUC: 0.9952509541979184\n",
      "Updating target policy...\n",
      "Epoch 239/300\n"
     ]
    },
    {
     "name": "stderr",
     "output_type": "stream",
     "text": [
      "c:\\Users\\FH-Deg\\.conda\\envs\\tf_c_gpu\\lib\\site-packages\\lightgbm\\basic.py:1192: UserWarning: Converting data to scipy sparse matrix.\n",
      "  _log_warning('Converting data to scipy sparse matrix.')\n"
     ]
    },
    {
     "name": "stdout",
     "output_type": "stream",
     "text": [
      "[LightGBM] [Info] Number of positive: 982, number of negative: 30366\n",
      "[LightGBM] [Info] This is the GPU trainer!!\n",
      "[LightGBM] [Info] Total Bins 99484\n",
      "[LightGBM] [Info] Number of data points in the train set: 31348, number of used features: 586\n",
      "[LightGBM] [Info] Using GPU Device: Quadro RTX 4000, Vendor: NVIDIA Corporation\n",
      "[LightGBM] [Info] Compiling OpenCL Kernel with 256 bins...\n",
      "[LightGBM] [Info] GPU programs have been built\n",
      "[LightGBM] [Info] Size of histogram bin entry: 8\n",
      "[LightGBM] [Info] 217 dense feature groups (6.58 MB) transferred to GPU in 0.088733 secs. 1 sparse feature groups\n",
      "threshold: 0.17288779195415588\n",
      "AUC-ROC: 0.9945790525956807\n",
      "Accuracy: 0.8124\n",
      "PR_AUC: 0.9952735734680268\n",
      "Epoch 240/300\n"
     ]
    },
    {
     "name": "stderr",
     "output_type": "stream",
     "text": [
      "c:\\Users\\FH-Deg\\.conda\\envs\\tf_c_gpu\\lib\\site-packages\\lightgbm\\basic.py:1192: UserWarning: Converting data to scipy sparse matrix.\n",
      "  _log_warning('Converting data to scipy sparse matrix.')\n"
     ]
    },
    {
     "name": "stdout",
     "output_type": "stream",
     "text": [
      "[LightGBM] [Info] Number of positive: 982, number of negative: 30366\n",
      "[LightGBM] [Info] This is the GPU trainer!!\n",
      "[LightGBM] [Info] Total Bins 99484\n",
      "[LightGBM] [Info] Number of data points in the train set: 31348, number of used features: 586\n",
      "[LightGBM] [Info] Using GPU Device: Quadro RTX 4000, Vendor: NVIDIA Corporation\n",
      "[LightGBM] [Info] Compiling OpenCL Kernel with 256 bins...\n",
      "[LightGBM] [Info] GPU programs have been built\n",
      "[LightGBM] [Info] Size of histogram bin entry: 8\n",
      "[LightGBM] [Info] 217 dense feature groups (6.58 MB) transferred to GPU in 0.083238 secs. 1 sparse feature groups\n",
      "threshold: 0.17278520544767506\n",
      "AUC-ROC: 0.9945909752072094\n",
      "Accuracy: 0.8119\n",
      "PR_AUC: 0.9952843398723366\n",
      "Epoch 241/300\n"
     ]
    },
    {
     "name": "stderr",
     "output_type": "stream",
     "text": [
      "c:\\Users\\FH-Deg\\.conda\\envs\\tf_c_gpu\\lib\\site-packages\\lightgbm\\basic.py:1192: UserWarning: Converting data to scipy sparse matrix.\n",
      "  _log_warning('Converting data to scipy sparse matrix.')\n"
     ]
    },
    {
     "name": "stdout",
     "output_type": "stream",
     "text": [
      "[LightGBM] [Info] Number of positive: 982, number of negative: 30366\n",
      "[LightGBM] [Info] This is the GPU trainer!!\n",
      "[LightGBM] [Info] Total Bins 99484\n",
      "[LightGBM] [Info] Number of data points in the train set: 31348, number of used features: 586\n",
      "[LightGBM] [Info] Using GPU Device: Quadro RTX 4000, Vendor: NVIDIA Corporation\n",
      "[LightGBM] [Info] Compiling OpenCL Kernel with 256 bins...\n",
      "[LightGBM] [Info] GPU programs have been built\n",
      "[LightGBM] [Info] Size of histogram bin entry: 8\n",
      "[LightGBM] [Info] 217 dense feature groups (6.58 MB) transferred to GPU in 0.094627 secs. 1 sparse feature groups\n",
      "threshold: 0.17277393308705577\n",
      "AUC-ROC: 0.9945776522889573\n",
      "Accuracy: 0.8116\n",
      "PR_AUC: 0.9952717862892331\n",
      "Updating target policy...\n",
      "Epoch 242/300\n"
     ]
    },
    {
     "name": "stderr",
     "output_type": "stream",
     "text": [
      "c:\\Users\\FH-Deg\\.conda\\envs\\tf_c_gpu\\lib\\site-packages\\lightgbm\\basic.py:1192: UserWarning: Converting data to scipy sparse matrix.\n",
      "  _log_warning('Converting data to scipy sparse matrix.')\n"
     ]
    },
    {
     "name": "stdout",
     "output_type": "stream",
     "text": [
      "[LightGBM] [Info] Number of positive: 982, number of negative: 30366\n",
      "[LightGBM] [Info] This is the GPU trainer!!\n",
      "[LightGBM] [Info] Total Bins 99484\n",
      "[LightGBM] [Info] Number of data points in the train set: 31348, number of used features: 586\n",
      "[LightGBM] [Info] Using GPU Device: Quadro RTX 4000, Vendor: NVIDIA Corporation\n",
      "[LightGBM] [Info] Compiling OpenCL Kernel with 256 bins...\n",
      "[LightGBM] [Info] GPU programs have been built\n",
      "[LightGBM] [Info] Size of histogram bin entry: 8\n",
      "[LightGBM] [Info] 217 dense feature groups (6.58 MB) transferred to GPU in 0.115230 secs. 1 sparse feature groups\n",
      "threshold: 0.1728041358113886\n",
      "AUC-ROC: 0.9945895348917226\n",
      "Accuracy: 0.8115\n",
      "PR_AUC: 0.9952817386769275\n",
      "Epoch 243/300\n"
     ]
    },
    {
     "name": "stderr",
     "output_type": "stream",
     "text": [
      "c:\\Users\\FH-Deg\\.conda\\envs\\tf_c_gpu\\lib\\site-packages\\lightgbm\\basic.py:1192: UserWarning: Converting data to scipy sparse matrix.\n",
      "  _log_warning('Converting data to scipy sparse matrix.')\n"
     ]
    },
    {
     "name": "stdout",
     "output_type": "stream",
     "text": [
      "[LightGBM] [Info] Number of positive: 982, number of negative: 30366\n",
      "[LightGBM] [Info] This is the GPU trainer!!\n",
      "[LightGBM] [Info] Total Bins 99484\n",
      "[LightGBM] [Info] Number of data points in the train set: 31348, number of used features: 586\n",
      "[LightGBM] [Info] Using GPU Device: Quadro RTX 4000, Vendor: NVIDIA Corporation\n",
      "[LightGBM] [Info] Compiling OpenCL Kernel with 256 bins...\n",
      "[LightGBM] [Info] GPU programs have been built\n",
      "[LightGBM] [Info] Size of histogram bin entry: 8\n",
      "[LightGBM] [Info] 217 dense feature groups (6.58 MB) transferred to GPU in 0.077903 secs. 1 sparse feature groups\n",
      "threshold: 0.17265410359977118\n",
      "AUC-ROC: 0.994600257240346\n",
      "Accuracy: 0.8115\n",
      "PR_AUC: 0.9952888679766574\n",
      "Epoch 244/300\n"
     ]
    },
    {
     "name": "stderr",
     "output_type": "stream",
     "text": [
      "c:\\Users\\FH-Deg\\.conda\\envs\\tf_c_gpu\\lib\\site-packages\\lightgbm\\basic.py:1192: UserWarning: Converting data to scipy sparse matrix.\n",
      "  _log_warning('Converting data to scipy sparse matrix.')\n"
     ]
    },
    {
     "name": "stdout",
     "output_type": "stream",
     "text": [
      "[LightGBM] [Info] Number of positive: 982, number of negative: 30366\n",
      "[LightGBM] [Info] This is the GPU trainer!!\n",
      "[LightGBM] [Info] Total Bins 99484\n",
      "[LightGBM] [Info] Number of data points in the train set: 31348, number of used features: 586\n",
      "[LightGBM] [Info] Using GPU Device: Quadro RTX 4000, Vendor: NVIDIA Corporation\n",
      "[LightGBM] [Info] Compiling OpenCL Kernel with 256 bins...\n",
      "[LightGBM] [Info] GPU programs have been built\n",
      "[LightGBM] [Info] Size of histogram bin entry: 8\n",
      "[LightGBM] [Info] 217 dense feature groups (6.58 MB) transferred to GPU in 0.089554 secs. 1 sparse feature groups\n",
      "threshold: 0.17254123640154778\n",
      "AUC-ROC: 0.9946008173630353\n",
      "Accuracy: 0.8106\n",
      "PR_AUC: 0.9952931765196339\n",
      "Updating target policy...\n",
      "Epoch 245/300\n"
     ]
    },
    {
     "name": "stderr",
     "output_type": "stream",
     "text": [
      "c:\\Users\\FH-Deg\\.conda\\envs\\tf_c_gpu\\lib\\site-packages\\lightgbm\\basic.py:1192: UserWarning: Converting data to scipy sparse matrix.\n",
      "  _log_warning('Converting data to scipy sparse matrix.')\n"
     ]
    },
    {
     "name": "stdout",
     "output_type": "stream",
     "text": [
      "[LightGBM] [Info] Number of positive: 982, number of negative: 30366\n",
      "[LightGBM] [Info] This is the GPU trainer!!\n",
      "[LightGBM] [Info] Total Bins 99484\n",
      "[LightGBM] [Info] Number of data points in the train set: 31348, number of used features: 586\n",
      "[LightGBM] [Info] Using GPU Device: Quadro RTX 4000, Vendor: NVIDIA Corporation\n",
      "[LightGBM] [Info] Compiling OpenCL Kernel with 256 bins...\n",
      "[LightGBM] [Info] GPU programs have been built\n",
      "[LightGBM] [Info] Size of histogram bin entry: 8\n",
      "[LightGBM] [Info] 217 dense feature groups (6.58 MB) transferred to GPU in 0.074276 secs. 1 sparse feature groups\n",
      "threshold: 0.1724950133589398\n",
      "AUC-ROC: 0.9946096993085366\n",
      "Accuracy: 0.8108\n",
      "PR_AUC: 0.9952988497856466\n",
      "Epoch 246/300\n"
     ]
    },
    {
     "name": "stderr",
     "output_type": "stream",
     "text": [
      "c:\\Users\\FH-Deg\\.conda\\envs\\tf_c_gpu\\lib\\site-packages\\lightgbm\\basic.py:1192: UserWarning: Converting data to scipy sparse matrix.\n",
      "  _log_warning('Converting data to scipy sparse matrix.')\n"
     ]
    },
    {
     "name": "stdout",
     "output_type": "stream",
     "text": [
      "[LightGBM] [Info] Number of positive: 982, number of negative: 30366\n",
      "[LightGBM] [Info] This is the GPU trainer!!\n",
      "[LightGBM] [Info] Total Bins 99484\n",
      "[LightGBM] [Info] Number of data points in the train set: 31348, number of used features: 586\n",
      "[LightGBM] [Info] Using GPU Device: Quadro RTX 4000, Vendor: NVIDIA Corporation\n",
      "[LightGBM] [Info] Compiling OpenCL Kernel with 256 bins...\n",
      "[LightGBM] [Info] GPU programs have been built\n",
      "[LightGBM] [Info] Size of histogram bin entry: 8\n",
      "[LightGBM] [Info] 217 dense feature groups (6.58 MB) transferred to GPU in 0.131178 secs. 1 sparse feature groups\n",
      "threshold: 0.1726302108934597\n",
      "AUC-ROC: 0.9945939358557098\n",
      "Accuracy: 0.8106\n",
      "PR_AUC: 0.9952866889995737\n",
      "Epoch 247/300\n"
     ]
    },
    {
     "name": "stderr",
     "output_type": "stream",
     "text": [
      "c:\\Users\\FH-Deg\\.conda\\envs\\tf_c_gpu\\lib\\site-packages\\lightgbm\\basic.py:1192: UserWarning: Converting data to scipy sparse matrix.\n",
      "  _log_warning('Converting data to scipy sparse matrix.')\n"
     ]
    },
    {
     "name": "stdout",
     "output_type": "stream",
     "text": [
      "[LightGBM] [Info] Number of positive: 982, number of negative: 30366\n",
      "[LightGBM] [Info] This is the GPU trainer!!\n",
      "[LightGBM] [Info] Total Bins 99484\n",
      "[LightGBM] [Info] Number of data points in the train set: 31348, number of used features: 586\n",
      "[LightGBM] [Info] Using GPU Device: Quadro RTX 4000, Vendor: NVIDIA Corporation\n",
      "[LightGBM] [Info] Compiling OpenCL Kernel with 256 bins...\n",
      "[LightGBM] [Info] GPU programs have been built\n",
      "[LightGBM] [Info] Size of histogram bin entry: 8\n",
      "[LightGBM] [Info] 217 dense feature groups (6.58 MB) transferred to GPU in 0.055873 secs. 1 sparse feature groups\n",
      "threshold: 0.17257755332898939\n",
      "AUC-ROC: 0.9946046982130966\n",
      "Accuracy: 0.8102\n",
      "PR_AUC: 0.9952939599964812\n",
      "Updating target policy...\n",
      "Epoch 248/300\n"
     ]
    },
    {
     "name": "stderr",
     "output_type": "stream",
     "text": [
      "c:\\Users\\FH-Deg\\.conda\\envs\\tf_c_gpu\\lib\\site-packages\\lightgbm\\basic.py:1192: UserWarning: Converting data to scipy sparse matrix.\n",
      "  _log_warning('Converting data to scipy sparse matrix.')\n"
     ]
    },
    {
     "name": "stdout",
     "output_type": "stream",
     "text": [
      "[LightGBM] [Info] Number of positive: 982, number of negative: 30366\n",
      "[LightGBM] [Info] This is the GPU trainer!!\n",
      "[LightGBM] [Info] Total Bins 99484\n",
      "[LightGBM] [Info] Number of data points in the train set: 31348, number of used features: 586\n",
      "[LightGBM] [Info] Using GPU Device: Quadro RTX 4000, Vendor: NVIDIA Corporation\n",
      "[LightGBM] [Info] Compiling OpenCL Kernel with 256 bins...\n",
      "[LightGBM] [Info] GPU programs have been built\n",
      "[LightGBM] [Info] Size of histogram bin entry: 8\n",
      "[LightGBM] [Info] 217 dense feature groups (6.58 MB) transferred to GPU in 0.061228 secs. 1 sparse feature groups\n",
      "threshold: 0.17247641124326143\n",
      "AUC-ROC: 0.9945988969423862\n",
      "Accuracy: 0.8105\n",
      "PR_AUC: 0.9952867191200425\n",
      "Epoch 249/300\n"
     ]
    },
    {
     "name": "stderr",
     "output_type": "stream",
     "text": [
      "c:\\Users\\FH-Deg\\.conda\\envs\\tf_c_gpu\\lib\\site-packages\\lightgbm\\basic.py:1192: UserWarning: Converting data to scipy sparse matrix.\n",
      "  _log_warning('Converting data to scipy sparse matrix.')\n"
     ]
    },
    {
     "name": "stdout",
     "output_type": "stream",
     "text": [
      "[LightGBM] [Info] Number of positive: 982, number of negative: 30366\n",
      "[LightGBM] [Info] This is the GPU trainer!!\n",
      "[LightGBM] [Info] Total Bins 99484\n",
      "[LightGBM] [Info] Number of data points in the train set: 31348, number of used features: 586\n",
      "[LightGBM] [Info] Using GPU Device: Quadro RTX 4000, Vendor: NVIDIA Corporation\n",
      "[LightGBM] [Info] Compiling OpenCL Kernel with 256 bins...\n",
      "[LightGBM] [Info] GPU programs have been built\n",
      "[LightGBM] [Info] Size of histogram bin entry: 8\n",
      "[LightGBM] [Info] 217 dense feature groups (6.58 MB) transferred to GPU in 0.094639 secs. 1 sparse feature groups\n",
      "threshold: 0.17239755798039716\n",
      "AUC-ROC: 0.9945933757330205\n",
      "Accuracy: 0.8101\n",
      "PR_AUC: 0.9952844328024547\n",
      "Epoch 250/300\n"
     ]
    },
    {
     "name": "stderr",
     "output_type": "stream",
     "text": [
      "c:\\Users\\FH-Deg\\.conda\\envs\\tf_c_gpu\\lib\\site-packages\\lightgbm\\basic.py:1192: UserWarning: Converting data to scipy sparse matrix.\n",
      "  _log_warning('Converting data to scipy sparse matrix.')\n"
     ]
    },
    {
     "name": "stdout",
     "output_type": "stream",
     "text": [
      "[LightGBM] [Info] Number of positive: 982, number of negative: 30366\n",
      "[LightGBM] [Info] This is the GPU trainer!!\n",
      "[LightGBM] [Info] Total Bins 99484\n",
      "[LightGBM] [Info] Number of data points in the train set: 31348, number of used features: 586\n",
      "[LightGBM] [Info] Using GPU Device: Quadro RTX 4000, Vendor: NVIDIA Corporation\n",
      "[LightGBM] [Info] Compiling OpenCL Kernel with 256 bins...\n",
      "[LightGBM] [Info] GPU programs have been built\n",
      "[LightGBM] [Info] Size of histogram bin entry: 8\n",
      "[LightGBM] [Info] 217 dense feature groups (6.58 MB) transferred to GPU in 0.065478 secs. 1 sparse feature groups\n",
      "threshold: 0.17231234768834736\n",
      "AUC-ROC: 0.9946009373893259\n",
      "Accuracy: 0.8095\n",
      "PR_AUC: 0.995291452053724\n",
      "Updating target policy...\n",
      "Epoch 251/300\n"
     ]
    },
    {
     "name": "stderr",
     "output_type": "stream",
     "text": [
      "c:\\Users\\FH-Deg\\.conda\\envs\\tf_c_gpu\\lib\\site-packages\\lightgbm\\basic.py:1192: UserWarning: Converting data to scipy sparse matrix.\n",
      "  _log_warning('Converting data to scipy sparse matrix.')\n"
     ]
    },
    {
     "name": "stdout",
     "output_type": "stream",
     "text": [
      "[LightGBM] [Info] Number of positive: 982, number of negative: 30366\n",
      "[LightGBM] [Info] This is the GPU trainer!!\n",
      "[LightGBM] [Info] Total Bins 99484\n",
      "[LightGBM] [Info] Number of data points in the train set: 31348, number of used features: 586\n",
      "[LightGBM] [Info] Using GPU Device: Quadro RTX 4000, Vendor: NVIDIA Corporation\n",
      "[LightGBM] [Info] Compiling OpenCL Kernel with 256 bins...\n",
      "[LightGBM] [Info] GPU programs have been built\n",
      "[LightGBM] [Info] Size of histogram bin entry: 8\n",
      "[LightGBM] [Info] 217 dense feature groups (6.58 MB) transferred to GPU in 0.055932 secs. 1 sparse feature groups\n",
      "threshold: 0.17215447130849393\n",
      "AUC-ROC: 0.9946118997905302\n",
      "Accuracy: 0.8098\n",
      "PR_AUC: 0.9953009629924722\n",
      "Epoch 252/300\n"
     ]
    },
    {
     "name": "stderr",
     "output_type": "stream",
     "text": [
      "c:\\Users\\FH-Deg\\.conda\\envs\\tf_c_gpu\\lib\\site-packages\\lightgbm\\basic.py:1192: UserWarning: Converting data to scipy sparse matrix.\n",
      "  _log_warning('Converting data to scipy sparse matrix.')\n"
     ]
    },
    {
     "name": "stdout",
     "output_type": "stream",
     "text": [
      "[LightGBM] [Info] Number of positive: 982, number of negative: 30366\n",
      "[LightGBM] [Info] This is the GPU trainer!!\n",
      "[LightGBM] [Info] Total Bins 99484\n",
      "[LightGBM] [Info] Number of data points in the train set: 31348, number of used features: 586\n",
      "[LightGBM] [Info] Using GPU Device: Quadro RTX 4000, Vendor: NVIDIA Corporation\n",
      "[LightGBM] [Info] Compiling OpenCL Kernel with 256 bins...\n",
      "[LightGBM] [Info] GPU programs have been built\n",
      "[LightGBM] [Info] Size of histogram bin entry: 8\n",
      "[LightGBM] [Info] 217 dense feature groups (6.58 MB) transferred to GPU in 0.130950 secs. 1 sparse feature groups\n",
      "threshold: 0.17192082188676258\n",
      "AUC-ROC: 0.9946141402812871\n",
      "Accuracy: 0.8092\n",
      "PR_AUC: 0.9953072733684769\n",
      "Epoch 253/300\n"
     ]
    },
    {
     "name": "stderr",
     "output_type": "stream",
     "text": [
      "c:\\Users\\FH-Deg\\.conda\\envs\\tf_c_gpu\\lib\\site-packages\\lightgbm\\basic.py:1192: UserWarning: Converting data to scipy sparse matrix.\n",
      "  _log_warning('Converting data to scipy sparse matrix.')\n"
     ]
    },
    {
     "name": "stdout",
     "output_type": "stream",
     "text": [
      "[LightGBM] [Info] Number of positive: 982, number of negative: 30366\n",
      "[LightGBM] [Info] This is the GPU trainer!!\n",
      "[LightGBM] [Info] Total Bins 99484\n",
      "[LightGBM] [Info] Number of data points in the train set: 31348, number of used features: 586\n",
      "[LightGBM] [Info] Using GPU Device: Quadro RTX 4000, Vendor: NVIDIA Corporation\n",
      "[LightGBM] [Info] Compiling OpenCL Kernel with 256 bins...\n",
      "[LightGBM] [Info] GPU programs have been built\n",
      "[LightGBM] [Info] Size of histogram bin entry: 8\n",
      "[LightGBM] [Info] 217 dense feature groups (6.58 MB) transferred to GPU in 0.087258 secs. 1 sparse feature groups\n",
      "threshold: 0.17185054707735017\n",
      "AUC-ROC: 0.994623502331951\n",
      "Accuracy: 0.8088\n",
      "PR_AUC: 0.9953134815527903\n",
      "Updating target policy...\n",
      "Epoch 254/300\n"
     ]
    },
    {
     "name": "stderr",
     "output_type": "stream",
     "text": [
      "c:\\Users\\FH-Deg\\.conda\\envs\\tf_c_gpu\\lib\\site-packages\\lightgbm\\basic.py:1192: UserWarning: Converting data to scipy sparse matrix.\n",
      "  _log_warning('Converting data to scipy sparse matrix.')\n"
     ]
    },
    {
     "name": "stdout",
     "output_type": "stream",
     "text": [
      "[LightGBM] [Info] Number of positive: 982, number of negative: 30366\n",
      "[LightGBM] [Info] This is the GPU trainer!!\n",
      "[LightGBM] [Info] Total Bins 99484\n",
      "[LightGBM] [Info] Number of data points in the train set: 31348, number of used features: 586\n",
      "[LightGBM] [Info] Using GPU Device: Quadro RTX 4000, Vendor: NVIDIA Corporation\n",
      "[LightGBM] [Info] Compiling OpenCL Kernel with 256 bins...\n",
      "[LightGBM] [Info] GPU programs have been built\n",
      "[LightGBM] [Info] Size of histogram bin entry: 8\n",
      "[LightGBM] [Info] 217 dense feature groups (6.58 MB) transferred to GPU in 0.068831 secs. 1 sparse feature groups\n",
      "threshold: 0.17180760560378536\n",
      "AUC-ROC: 0.9946251827000185\n",
      "Accuracy: 0.808\n",
      "PR_AUC: 0.9953147728973598\n",
      "Epoch 255/300\n"
     ]
    },
    {
     "name": "stderr",
     "output_type": "stream",
     "text": [
      "c:\\Users\\FH-Deg\\.conda\\envs\\tf_c_gpu\\lib\\site-packages\\lightgbm\\basic.py:1192: UserWarning: Converting data to scipy sparse matrix.\n",
      "  _log_warning('Converting data to scipy sparse matrix.')\n"
     ]
    },
    {
     "name": "stdout",
     "output_type": "stream",
     "text": [
      "[LightGBM] [Info] Number of positive: 982, number of negative: 30366\n",
      "[LightGBM] [Info] This is the GPU trainer!!\n",
      "[LightGBM] [Info] Total Bins 99484\n",
      "[LightGBM] [Info] Number of data points in the train set: 31348, number of used features: 586\n",
      "[LightGBM] [Info] Using GPU Device: Quadro RTX 4000, Vendor: NVIDIA Corporation\n",
      "[LightGBM] [Info] Compiling OpenCL Kernel with 256 bins...\n",
      "[LightGBM] [Info] GPU programs have been built\n",
      "[LightGBM] [Info] Size of histogram bin entry: 8\n",
      "[LightGBM] [Info] 217 dense feature groups (6.58 MB) transferred to GPU in 0.056460 secs. 1 sparse feature groups\n",
      "threshold: 0.17164258118332162\n",
      "AUC-ROC: 0.9946058584672386\n",
      "Accuracy: 0.8084\n",
      "PR_AUC: 0.9952982687539847\n",
      "Epoch 256/300\n"
     ]
    },
    {
     "name": "stderr",
     "output_type": "stream",
     "text": [
      "c:\\Users\\FH-Deg\\.conda\\envs\\tf_c_gpu\\lib\\site-packages\\lightgbm\\basic.py:1192: UserWarning: Converting data to scipy sparse matrix.\n",
      "  _log_warning('Converting data to scipy sparse matrix.')\n"
     ]
    },
    {
     "name": "stdout",
     "output_type": "stream",
     "text": [
      "[LightGBM] [Info] Number of positive: 982, number of negative: 30366\n",
      "[LightGBM] [Info] This is the GPU trainer!!\n",
      "[LightGBM] [Info] Total Bins 99484\n",
      "[LightGBM] [Info] Number of data points in the train set: 31348, number of used features: 586\n",
      "[LightGBM] [Info] Using GPU Device: Quadro RTX 4000, Vendor: NVIDIA Corporation\n",
      "[LightGBM] [Info] Compiling OpenCL Kernel with 256 bins...\n",
      "[LightGBM] [Info] GPU programs have been built\n",
      "[LightGBM] [Info] Size of histogram bin entry: 8\n",
      "[LightGBM] [Info] 217 dense feature groups (6.58 MB) transferred to GPU in 0.063987 secs. 1 sparse feature groups\n",
      "threshold: 0.1717926573442674\n",
      "AUC-ROC: 0.9946052983445495\n",
      "Accuracy: 0.8086\n",
      "PR_AUC: 0.9953010112783255\n",
      "Updating target policy...\n",
      "Epoch 257/300\n"
     ]
    },
    {
     "name": "stderr",
     "output_type": "stream",
     "text": [
      "c:\\Users\\FH-Deg\\.conda\\envs\\tf_c_gpu\\lib\\site-packages\\lightgbm\\basic.py:1192: UserWarning: Converting data to scipy sparse matrix.\n",
      "  _log_warning('Converting data to scipy sparse matrix.')\n"
     ]
    },
    {
     "name": "stdout",
     "output_type": "stream",
     "text": [
      "[LightGBM] [Info] Number of positive: 982, number of negative: 30366\n",
      "[LightGBM] [Info] This is the GPU trainer!!\n",
      "[LightGBM] [Info] Total Bins 99484\n",
      "[LightGBM] [Info] Number of data points in the train set: 31348, number of used features: 586\n",
      "[LightGBM] [Info] Using GPU Device: Quadro RTX 4000, Vendor: NVIDIA Corporation\n",
      "[LightGBM] [Info] Compiling OpenCL Kernel with 256 bins...\n",
      "[LightGBM] [Info] GPU programs have been built\n",
      "[LightGBM] [Info] Size of histogram bin entry: 8\n",
      "[LightGBM] [Info] 217 dense feature groups (6.58 MB) transferred to GPU in 0.057188 secs. 1 sparse feature groups\n",
      "threshold: 0.17168370093739532\n",
      "AUC-ROC: 0.994600177222819\n",
      "Accuracy: 0.8078\n",
      "PR_AUC: 0.9952964670393601\n",
      "Epoch 258/300\n"
     ]
    },
    {
     "name": "stderr",
     "output_type": "stream",
     "text": [
      "c:\\Users\\FH-Deg\\.conda\\envs\\tf_c_gpu\\lib\\site-packages\\lightgbm\\basic.py:1192: UserWarning: Converting data to scipy sparse matrix.\n",
      "  _log_warning('Converting data to scipy sparse matrix.')\n"
     ]
    },
    {
     "name": "stdout",
     "output_type": "stream",
     "text": [
      "[LightGBM] [Info] Number of positive: 982, number of negative: 30366\n",
      "[LightGBM] [Info] This is the GPU trainer!!\n",
      "[LightGBM] [Info] Total Bins 99484\n",
      "[LightGBM] [Info] Number of data points in the train set: 31348, number of used features: 586\n",
      "[LightGBM] [Info] Using GPU Device: Quadro RTX 4000, Vendor: NVIDIA Corporation\n",
      "[LightGBM] [Info] Compiling OpenCL Kernel with 256 bins...\n",
      "[LightGBM] [Info] GPU programs have been built\n",
      "[LightGBM] [Info] Size of histogram bin entry: 8\n",
      "[LightGBM] [Info] 217 dense feature groups (6.58 MB) transferred to GPU in 0.065245 secs. 1 sparse feature groups\n",
      "threshold: 0.17164327531631152\n",
      "AUC-ROC: 0.9946139802462333\n",
      "Accuracy: 0.8078\n",
      "PR_AUC: 0.9953080196072507\n",
      "Epoch 259/300\n"
     ]
    },
    {
     "name": "stderr",
     "output_type": "stream",
     "text": [
      "c:\\Users\\FH-Deg\\.conda\\envs\\tf_c_gpu\\lib\\site-packages\\lightgbm\\basic.py:1192: UserWarning: Converting data to scipy sparse matrix.\n",
      "  _log_warning('Converting data to scipy sparse matrix.')\n"
     ]
    },
    {
     "name": "stdout",
     "output_type": "stream",
     "text": [
      "[LightGBM] [Info] Number of positive: 982, number of negative: 30366\n",
      "[LightGBM] [Info] This is the GPU trainer!!\n",
      "[LightGBM] [Info] Total Bins 99484\n",
      "[LightGBM] [Info] Number of data points in the train set: 31348, number of used features: 586\n",
      "[LightGBM] [Info] Using GPU Device: Quadro RTX 4000, Vendor: NVIDIA Corporation\n",
      "[LightGBM] [Info] Compiling OpenCL Kernel with 256 bins...\n",
      "[LightGBM] [Info] GPU programs have been built\n",
      "[LightGBM] [Info] Size of histogram bin entry: 8\n",
      "[LightGBM] [Info] 217 dense feature groups (6.58 MB) transferred to GPU in 0.067788 secs. 1 sparse feature groups\n",
      "threshold: 0.17169917183764347\n",
      "AUC-ROC: 0.9946107795451516\n",
      "Accuracy: 0.8079\n",
      "PR_AUC: 0.9953047641676407\n",
      "Updating target policy...\n",
      "Epoch 260/300\n"
     ]
    },
    {
     "name": "stderr",
     "output_type": "stream",
     "text": [
      "c:\\Users\\FH-Deg\\.conda\\envs\\tf_c_gpu\\lib\\site-packages\\lightgbm\\basic.py:1192: UserWarning: Converting data to scipy sparse matrix.\n",
      "  _log_warning('Converting data to scipy sparse matrix.')\n"
     ]
    },
    {
     "name": "stdout",
     "output_type": "stream",
     "text": [
      "[LightGBM] [Info] Number of positive: 982, number of negative: 30366\n",
      "[LightGBM] [Info] This is the GPU trainer!!\n",
      "[LightGBM] [Info] Total Bins 99484\n",
      "[LightGBM] [Info] Number of data points in the train set: 31348, number of used features: 586\n",
      "[LightGBM] [Info] Using GPU Device: Quadro RTX 4000, Vendor: NVIDIA Corporation\n",
      "[LightGBM] [Info] Compiling OpenCL Kernel with 256 bins...\n",
      "[LightGBM] [Info] GPU programs have been built\n",
      "[LightGBM] [Info] Size of histogram bin entry: 8\n",
      "[LightGBM] [Info] 217 dense feature groups (6.58 MB) transferred to GPU in 0.067925 secs. 1 sparse feature groups\n",
      "threshold: 0.17169252597833207\n",
      "AUC-ROC: 0.9946240624546401\n",
      "Accuracy: 0.8072\n",
      "PR_AUC: 0.9953139602448164\n",
      "Epoch 261/300\n"
     ]
    },
    {
     "name": "stderr",
     "output_type": "stream",
     "text": [
      "c:\\Users\\FH-Deg\\.conda\\envs\\tf_c_gpu\\lib\\site-packages\\lightgbm\\basic.py:1192: UserWarning: Converting data to scipy sparse matrix.\n",
      "  _log_warning('Converting data to scipy sparse matrix.')\n"
     ]
    },
    {
     "name": "stdout",
     "output_type": "stream",
     "text": [
      "[LightGBM] [Info] Number of positive: 982, number of negative: 30366\n",
      "[LightGBM] [Info] This is the GPU trainer!!\n",
      "[LightGBM] [Info] Total Bins 99484\n",
      "[LightGBM] [Info] Number of data points in the train set: 31348, number of used features: 586\n",
      "[LightGBM] [Info] Using GPU Device: Quadro RTX 4000, Vendor: NVIDIA Corporation\n",
      "[LightGBM] [Info] Compiling OpenCL Kernel with 256 bins...\n",
      "[LightGBM] [Info] GPU programs have been built\n",
      "[LightGBM] [Info] Size of histogram bin entry: 8\n",
      "[LightGBM] [Info] 217 dense feature groups (6.58 MB) transferred to GPU in 0.120544 secs. 1 sparse feature groups\n",
      "threshold: 0.17176938849464413\n",
      "AUC-ROC: 0.9946392657847775\n",
      "Accuracy: 0.8066\n",
      "PR_AUC: 0.9953284571195157\n",
      "Epoch 262/300\n"
     ]
    },
    {
     "name": "stderr",
     "output_type": "stream",
     "text": [
      "c:\\Users\\FH-Deg\\.conda\\envs\\tf_c_gpu\\lib\\site-packages\\lightgbm\\basic.py:1192: UserWarning: Converting data to scipy sparse matrix.\n",
      "  _log_warning('Converting data to scipy sparse matrix.')\n"
     ]
    },
    {
     "name": "stdout",
     "output_type": "stream",
     "text": [
      "[LightGBM] [Info] Number of positive: 982, number of negative: 30366\n",
      "[LightGBM] [Info] This is the GPU trainer!!\n",
      "[LightGBM] [Info] Total Bins 99484\n",
      "[LightGBM] [Info] Number of data points in the train set: 31348, number of used features: 586\n",
      "[LightGBM] [Info] Using GPU Device: Quadro RTX 4000, Vendor: NVIDIA Corporation\n",
      "[LightGBM] [Info] Compiling OpenCL Kernel with 256 bins...\n",
      "[LightGBM] [Info] GPU programs have been built\n",
      "[LightGBM] [Info] Size of histogram bin entry: 8\n",
      "[LightGBM] [Info] 217 dense feature groups (6.58 MB) transferred to GPU in 0.097502 secs. 1 sparse feature groups\n",
      "threshold: 0.17173694445321613\n",
      "AUC-ROC: 0.9946361451012229\n",
      "Accuracy: 0.8063\n",
      "PR_AUC: 0.9953257053837028\n",
      "Updating target policy...\n",
      "Epoch 263/300\n"
     ]
    },
    {
     "name": "stderr",
     "output_type": "stream",
     "text": [
      "c:\\Users\\FH-Deg\\.conda\\envs\\tf_c_gpu\\lib\\site-packages\\lightgbm\\basic.py:1192: UserWarning: Converting data to scipy sparse matrix.\n",
      "  _log_warning('Converting data to scipy sparse matrix.')\n"
     ]
    },
    {
     "name": "stdout",
     "output_type": "stream",
     "text": [
      "[LightGBM] [Info] Number of positive: 982, number of negative: 30366\n",
      "[LightGBM] [Info] This is the GPU trainer!!\n",
      "[LightGBM] [Info] Total Bins 99484\n",
      "[LightGBM] [Info] Number of data points in the train set: 31348, number of used features: 586\n",
      "[LightGBM] [Info] Using GPU Device: Quadro RTX 4000, Vendor: NVIDIA Corporation\n",
      "[LightGBM] [Info] Compiling OpenCL Kernel with 256 bins...\n",
      "[LightGBM] [Info] GPU programs have been built\n",
      "[LightGBM] [Info] Size of histogram bin entry: 8\n",
      "[LightGBM] [Info] 217 dense feature groups (6.58 MB) transferred to GPU in 0.115046 secs. 1 sparse feature groups\n",
      "threshold: 0.17173865581079703\n",
      "AUC-ROC: 0.9946252627175456\n",
      "Accuracy: 0.8065\n",
      "PR_AUC: 0.9953145066182815\n",
      "Epoch 264/300\n"
     ]
    },
    {
     "name": "stderr",
     "output_type": "stream",
     "text": [
      "c:\\Users\\FH-Deg\\.conda\\envs\\tf_c_gpu\\lib\\site-packages\\lightgbm\\basic.py:1192: UserWarning: Converting data to scipy sparse matrix.\n",
      "  _log_warning('Converting data to scipy sparse matrix.')\n"
     ]
    },
    {
     "name": "stdout",
     "output_type": "stream",
     "text": [
      "[LightGBM] [Info] Number of positive: 982, number of negative: 30366\n",
      "[LightGBM] [Info] This is the GPU trainer!!\n",
      "[LightGBM] [Info] Total Bins 99484\n",
      "[LightGBM] [Info] Number of data points in the train set: 31348, number of used features: 586\n",
      "[LightGBM] [Info] Using GPU Device: Quadro RTX 4000, Vendor: NVIDIA Corporation\n",
      "[LightGBM] [Info] Compiling OpenCL Kernel with 256 bins...\n",
      "[LightGBM] [Info] GPU programs have been built\n",
      "[LightGBM] [Info] Size of histogram bin entry: 8\n",
      "[LightGBM] [Info] 217 dense feature groups (6.58 MB) transferred to GPU in 0.103468 secs. 1 sparse feature groups\n",
      "threshold: 0.17150206663444387\n",
      "AUC-ROC: 0.9946222220515182\n",
      "Accuracy: 0.8067\n",
      "PR_AUC: 0.9953113166216094\n",
      "Epoch 265/300\n"
     ]
    },
    {
     "name": "stderr",
     "output_type": "stream",
     "text": [
      "c:\\Users\\FH-Deg\\.conda\\envs\\tf_c_gpu\\lib\\site-packages\\lightgbm\\basic.py:1192: UserWarning: Converting data to scipy sparse matrix.\n",
      "  _log_warning('Converting data to scipy sparse matrix.')\n"
     ]
    },
    {
     "name": "stdout",
     "output_type": "stream",
     "text": [
      "[LightGBM] [Info] Number of positive: 982, number of negative: 30366\n",
      "[LightGBM] [Info] This is the GPU trainer!!\n",
      "[LightGBM] [Info] Total Bins 99484\n",
      "[LightGBM] [Info] Number of data points in the train set: 31348, number of used features: 586\n",
      "[LightGBM] [Info] Using GPU Device: Quadro RTX 4000, Vendor: NVIDIA Corporation\n",
      "[LightGBM] [Info] Compiling OpenCL Kernel with 256 bins...\n",
      "[LightGBM] [Info] GPU programs have been built\n",
      "[LightGBM] [Info] Size of histogram bin entry: 8\n",
      "[LightGBM] [Info] 217 dense feature groups (6.58 MB) transferred to GPU in 0.083231 secs. 1 sparse feature groups\n",
      "threshold: 0.17149490748412377\n",
      "AUC-ROC: 0.9946266630242688\n",
      "Accuracy: 0.8061\n",
      "PR_AUC: 0.9953148412438478\n",
      "Updating target policy...\n",
      "Epoch 266/300\n"
     ]
    },
    {
     "name": "stderr",
     "output_type": "stream",
     "text": [
      "c:\\Users\\FH-Deg\\.conda\\envs\\tf_c_gpu\\lib\\site-packages\\lightgbm\\basic.py:1192: UserWarning: Converting data to scipy sparse matrix.\n",
      "  _log_warning('Converting data to scipy sparse matrix.')\n"
     ]
    },
    {
     "name": "stdout",
     "output_type": "stream",
     "text": [
      "[LightGBM] [Info] Number of positive: 982, number of negative: 30366\n",
      "[LightGBM] [Info] This is the GPU trainer!!\n",
      "[LightGBM] [Info] Total Bins 99484\n",
      "[LightGBM] [Info] Number of data points in the train set: 31348, number of used features: 586\n",
      "[LightGBM] [Info] Using GPU Device: Quadro RTX 4000, Vendor: NVIDIA Corporation\n",
      "[LightGBM] [Info] Compiling OpenCL Kernel with 256 bins...\n",
      "[LightGBM] [Info] GPU programs have been built\n",
      "[LightGBM] [Info] Size of histogram bin entry: 8\n",
      "[LightGBM] [Info] 217 dense feature groups (6.58 MB) transferred to GPU in 0.058728 secs. 1 sparse feature groups\n",
      "threshold: 0.17127279611038124\n",
      "AUC-ROC: 0.9946184612277474\n",
      "Accuracy: 0.806\n",
      "PR_AUC: 0.9953081569800242\n",
      "Epoch 267/300\n"
     ]
    },
    {
     "name": "stderr",
     "output_type": "stream",
     "text": [
      "c:\\Users\\FH-Deg\\.conda\\envs\\tf_c_gpu\\lib\\site-packages\\lightgbm\\basic.py:1192: UserWarning: Converting data to scipy sparse matrix.\n",
      "  _log_warning('Converting data to scipy sparse matrix.')\n"
     ]
    },
    {
     "name": "stdout",
     "output_type": "stream",
     "text": [
      "[LightGBM] [Info] Number of positive: 982, number of negative: 30366\n",
      "[LightGBM] [Info] This is the GPU trainer!!\n",
      "[LightGBM] [Info] Total Bins 99484\n",
      "[LightGBM] [Info] Number of data points in the train set: 31348, number of used features: 586\n",
      "[LightGBM] [Info] Using GPU Device: Quadro RTX 4000, Vendor: NVIDIA Corporation\n",
      "[LightGBM] [Info] Compiling OpenCL Kernel with 256 bins...\n",
      "[LightGBM] [Info] GPU programs have been built\n",
      "[LightGBM] [Info] Size of histogram bin entry: 8\n",
      "[LightGBM] [Info] 217 dense feature groups (6.58 MB) transferred to GPU in 0.065602 secs. 1 sparse feature groups\n",
      "threshold: 0.1712304649269306\n",
      "AUC-ROC: 0.994617981122585\n",
      "Accuracy: 0.8055\n",
      "PR_AUC: 0.9953058376943621\n",
      "Epoch 268/300\n"
     ]
    },
    {
     "name": "stderr",
     "output_type": "stream",
     "text": [
      "c:\\Users\\FH-Deg\\.conda\\envs\\tf_c_gpu\\lib\\site-packages\\lightgbm\\basic.py:1192: UserWarning: Converting data to scipy sparse matrix.\n",
      "  _log_warning('Converting data to scipy sparse matrix.')\n"
     ]
    },
    {
     "name": "stdout",
     "output_type": "stream",
     "text": [
      "[LightGBM] [Info] Number of positive: 982, number of negative: 30366\n",
      "[LightGBM] [Info] This is the GPU trainer!!\n",
      "[LightGBM] [Info] Total Bins 99484\n",
      "[LightGBM] [Info] Number of data points in the train set: 31348, number of used features: 586\n",
      "[LightGBM] [Info] Using GPU Device: Quadro RTX 4000, Vendor: NVIDIA Corporation\n",
      "[LightGBM] [Info] Compiling OpenCL Kernel with 256 bins...\n",
      "[LightGBM] [Info] GPU programs have been built\n",
      "[LightGBM] [Info] Size of histogram bin entry: 8\n",
      "[LightGBM] [Info] 217 dense feature groups (6.58 MB) transferred to GPU in 0.070457 secs. 1 sparse feature groups\n",
      "threshold: 0.17111341003466443\n",
      "AUC-ROC: 0.9946017375645961\n",
      "Accuracy: 0.8049\n",
      "PR_AUC: 0.9952926866094494\n",
      "Updating target policy...\n",
      "Epoch 269/300\n"
     ]
    },
    {
     "name": "stderr",
     "output_type": "stream",
     "text": [
      "c:\\Users\\FH-Deg\\.conda\\envs\\tf_c_gpu\\lib\\site-packages\\lightgbm\\basic.py:1192: UserWarning: Converting data to scipy sparse matrix.\n",
      "  _log_warning('Converting data to scipy sparse matrix.')\n"
     ]
    },
    {
     "name": "stdout",
     "output_type": "stream",
     "text": [
      "[LightGBM] [Info] Number of positive: 982, number of negative: 30366\n",
      "[LightGBM] [Info] This is the GPU trainer!!\n",
      "[LightGBM] [Info] Total Bins 99484\n",
      "[LightGBM] [Info] Number of data points in the train set: 31348, number of used features: 586\n",
      "[LightGBM] [Info] Using GPU Device: Quadro RTX 4000, Vendor: NVIDIA Corporation\n",
      "[LightGBM] [Info] Compiling OpenCL Kernel with 256 bins...\n",
      "[LightGBM] [Info] GPU programs have been built\n",
      "[LightGBM] [Info] Size of histogram bin entry: 8\n",
      "[LightGBM] [Info] 217 dense feature groups (6.58 MB) transferred to GPU in 0.055093 secs. 1 sparse feature groups\n",
      "threshold: 0.1710944315620877\n",
      "AUC-ROC: 0.9946004572841635\n",
      "Accuracy: 0.8051\n",
      "PR_AUC: 0.9952899096841353\n",
      "Epoch 270/300\n"
     ]
    },
    {
     "name": "stderr",
     "output_type": "stream",
     "text": [
      "c:\\Users\\FH-Deg\\.conda\\envs\\tf_c_gpu\\lib\\site-packages\\lightgbm\\basic.py:1192: UserWarning: Converting data to scipy sparse matrix.\n",
      "  _log_warning('Converting data to scipy sparse matrix.')\n"
     ]
    },
    {
     "name": "stdout",
     "output_type": "stream",
     "text": [
      "[LightGBM] [Info] Number of positive: 982, number of negative: 30366\n",
      "[LightGBM] [Info] This is the GPU trainer!!\n",
      "[LightGBM] [Info] Total Bins 99484\n",
      "[LightGBM] [Info] Number of data points in the train set: 31348, number of used features: 586\n",
      "[LightGBM] [Info] Using GPU Device: Quadro RTX 4000, Vendor: NVIDIA Corporation\n",
      "[LightGBM] [Info] Compiling OpenCL Kernel with 256 bins...\n",
      "[LightGBM] [Info] GPU programs have been built\n",
      "[LightGBM] [Info] Size of histogram bin entry: 8\n",
      "[LightGBM] [Info] 217 dense feature groups (6.58 MB) transferred to GPU in 0.060305 secs. 1 sparse feature groups\n",
      "threshold: 0.1710985661512839\n",
      "AUC-ROC: 0.9946131800709626\n",
      "Accuracy: 0.8045\n",
      "PR_AUC: 0.9952994446356143\n",
      "Epoch 271/300\n"
     ]
    },
    {
     "name": "stderr",
     "output_type": "stream",
     "text": [
      "c:\\Users\\FH-Deg\\.conda\\envs\\tf_c_gpu\\lib\\site-packages\\lightgbm\\basic.py:1192: UserWarning: Converting data to scipy sparse matrix.\n",
      "  _log_warning('Converting data to scipy sparse matrix.')\n"
     ]
    },
    {
     "name": "stdout",
     "output_type": "stream",
     "text": [
      "[LightGBM] [Info] Number of positive: 982, number of negative: 30366\n",
      "[LightGBM] [Info] This is the GPU trainer!!\n",
      "[LightGBM] [Info] Total Bins 99484\n",
      "[LightGBM] [Info] Number of data points in the train set: 31348, number of used features: 586\n",
      "[LightGBM] [Info] Using GPU Device: Quadro RTX 4000, Vendor: NVIDIA Corporation\n",
      "[LightGBM] [Info] Compiling OpenCL Kernel with 256 bins...\n",
      "[LightGBM] [Info] GPU programs have been built\n",
      "[LightGBM] [Info] Size of histogram bin entry: 8\n",
      "[LightGBM] [Info] 217 dense feature groups (6.58 MB) transferred to GPU in 0.062618 secs. 1 sparse feature groups\n",
      "threshold: 0.17095834651527136\n",
      "AUC-ROC: 0.9946226621479168\n",
      "Accuracy: 0.804\n",
      "PR_AUC: 0.9953036291424522\n",
      "Updating target policy...\n",
      "Epoch 272/300\n"
     ]
    },
    {
     "name": "stderr",
     "output_type": "stream",
     "text": [
      "c:\\Users\\FH-Deg\\.conda\\envs\\tf_c_gpu\\lib\\site-packages\\lightgbm\\basic.py:1192: UserWarning: Converting data to scipy sparse matrix.\n",
      "  _log_warning('Converting data to scipy sparse matrix.')\n"
     ]
    },
    {
     "name": "stdout",
     "output_type": "stream",
     "text": [
      "[LightGBM] [Info] Number of positive: 982, number of negative: 30366\n",
      "[LightGBM] [Info] This is the GPU trainer!!\n",
      "[LightGBM] [Info] Total Bins 99484\n",
      "[LightGBM] [Info] Number of data points in the train set: 31348, number of used features: 586\n",
      "[LightGBM] [Info] Using GPU Device: Quadro RTX 4000, Vendor: NVIDIA Corporation\n",
      "[LightGBM] [Info] Compiling OpenCL Kernel with 256 bins...\n",
      "[LightGBM] [Info] GPU programs have been built\n",
      "[LightGBM] [Info] Size of histogram bin entry: 8\n",
      "[LightGBM] [Info] 217 dense feature groups (6.58 MB) transferred to GPU in 0.063427 secs. 1 sparse feature groups\n",
      "threshold: 0.17096167936372897\n",
      "AUC-ROC: 0.9946324242862157\n",
      "Accuracy: 0.8033\n",
      "PR_AUC: 0.9953104901494703\n",
      "Epoch 273/300\n"
     ]
    },
    {
     "name": "stderr",
     "output_type": "stream",
     "text": [
      "c:\\Users\\FH-Deg\\.conda\\envs\\tf_c_gpu\\lib\\site-packages\\lightgbm\\basic.py:1192: UserWarning: Converting data to scipy sparse matrix.\n",
      "  _log_warning('Converting data to scipy sparse matrix.')\n"
     ]
    },
    {
     "name": "stdout",
     "output_type": "stream",
     "text": [
      "[LightGBM] [Info] Number of positive: 982, number of negative: 30366\n",
      "[LightGBM] [Info] This is the GPU trainer!!\n",
      "[LightGBM] [Info] Total Bins 99484\n",
      "[LightGBM] [Info] Number of data points in the train set: 31348, number of used features: 586\n",
      "[LightGBM] [Info] Using GPU Device: Quadro RTX 4000, Vendor: NVIDIA Corporation\n",
      "[LightGBM] [Info] Compiling OpenCL Kernel with 256 bins...\n",
      "[LightGBM] [Info] GPU programs have been built\n",
      "[LightGBM] [Info] Size of histogram bin entry: 8\n",
      "[LightGBM] [Info] 217 dense feature groups (6.58 MB) transferred to GPU in 0.074222 secs. 1 sparse feature groups\n",
      "threshold: 0.1707423700653311\n",
      "AUC-ROC: 0.9946254627613631\n",
      "Accuracy: 0.8033\n",
      "PR_AUC: 0.9953041030088234\n",
      "Epoch 274/300\n"
     ]
    },
    {
     "name": "stderr",
     "output_type": "stream",
     "text": [
      "c:\\Users\\FH-Deg\\.conda\\envs\\tf_c_gpu\\lib\\site-packages\\lightgbm\\basic.py:1192: UserWarning: Converting data to scipy sparse matrix.\n",
      "  _log_warning('Converting data to scipy sparse matrix.')\n"
     ]
    },
    {
     "name": "stdout",
     "output_type": "stream",
     "text": [
      "[LightGBM] [Info] Number of positive: 982, number of negative: 30366\n",
      "[LightGBM] [Info] This is the GPU trainer!!\n",
      "[LightGBM] [Info] Total Bins 99484\n",
      "[LightGBM] [Info] Number of data points in the train set: 31348, number of used features: 586\n",
      "[LightGBM] [Info] Using GPU Device: Quadro RTX 4000, Vendor: NVIDIA Corporation\n",
      "[LightGBM] [Info] Compiling OpenCL Kernel with 256 bins...\n",
      "[LightGBM] [Info] GPU programs have been built\n",
      "[LightGBM] [Info] Size of histogram bin entry: 8\n",
      "[LightGBM] [Info] 217 dense feature groups (6.58 MB) transferred to GPU in 0.065370 secs. 1 sparse feature groups\n",
      "threshold: 0.17064929174577245\n",
      "AUC-ROC: 0.9946283433923367\n",
      "Accuracy: 0.8033\n",
      "PR_AUC: 0.9953074555799974\n",
      "Updating target policy...\n",
      "Epoch 275/300\n"
     ]
    },
    {
     "name": "stderr",
     "output_type": "stream",
     "text": [
      "c:\\Users\\FH-Deg\\.conda\\envs\\tf_c_gpu\\lib\\site-packages\\lightgbm\\basic.py:1192: UserWarning: Converting data to scipy sparse matrix.\n",
      "  _log_warning('Converting data to scipy sparse matrix.')\n"
     ]
    },
    {
     "name": "stdout",
     "output_type": "stream",
     "text": [
      "[LightGBM] [Info] Number of positive: 982, number of negative: 30366\n",
      "[LightGBM] [Info] This is the GPU trainer!!\n",
      "[LightGBM] [Info] Total Bins 99484\n",
      "[LightGBM] [Info] Number of data points in the train set: 31348, number of used features: 586\n",
      "[LightGBM] [Info] Using GPU Device: Quadro RTX 4000, Vendor: NVIDIA Corporation\n",
      "[LightGBM] [Info] Compiling OpenCL Kernel with 256 bins...\n",
      "[LightGBM] [Info] GPU programs have been built\n",
      "[LightGBM] [Info] Size of histogram bin entry: 8\n",
      "[LightGBM] [Info] 217 dense feature groups (6.58 MB) transferred to GPU in 0.069837 secs. 1 sparse feature groups\n",
      "threshold: 0.17054561367499738\n",
      "AUC-ROC: 0.9946451070642512\n",
      "Accuracy: 0.8023\n",
      "PR_AUC: 0.9953211238377738\n",
      "Epoch 276/300\n"
     ]
    },
    {
     "name": "stderr",
     "output_type": "stream",
     "text": [
      "c:\\Users\\FH-Deg\\.conda\\envs\\tf_c_gpu\\lib\\site-packages\\lightgbm\\basic.py:1192: UserWarning: Converting data to scipy sparse matrix.\n",
      "  _log_warning('Converting data to scipy sparse matrix.')\n"
     ]
    },
    {
     "name": "stdout",
     "output_type": "stream",
     "text": [
      "[LightGBM] [Info] Number of positive: 982, number of negative: 30366\n",
      "[LightGBM] [Info] This is the GPU trainer!!\n",
      "[LightGBM] [Info] Total Bins 99484\n",
      "[LightGBM] [Info] Number of data points in the train set: 31348, number of used features: 586\n",
      "[LightGBM] [Info] Using GPU Device: Quadro RTX 4000, Vendor: NVIDIA Corporation\n",
      "[LightGBM] [Info] Compiling OpenCL Kernel with 256 bins...\n",
      "[LightGBM] [Info] GPU programs have been built\n",
      "[LightGBM] [Info] Size of histogram bin entry: 8\n",
      "[LightGBM] [Info] 217 dense feature groups (6.58 MB) transferred to GPU in 0.057666 secs. 1 sparse feature groups\n",
      "threshold: 0.17051969263590105\n",
      "AUC-ROC: 0.9946484277916234\n",
      "Accuracy: 0.8022\n",
      "PR_AUC: 0.9953240182516252\n",
      "Epoch 277/300\n"
     ]
    },
    {
     "name": "stderr",
     "output_type": "stream",
     "text": [
      "c:\\Users\\FH-Deg\\.conda\\envs\\tf_c_gpu\\lib\\site-packages\\lightgbm\\basic.py:1192: UserWarning: Converting data to scipy sparse matrix.\n",
      "  _log_warning('Converting data to scipy sparse matrix.')\n"
     ]
    },
    {
     "name": "stdout",
     "output_type": "stream",
     "text": [
      "[LightGBM] [Info] Number of positive: 982, number of negative: 30366\n",
      "[LightGBM] [Info] This is the GPU trainer!!\n",
      "[LightGBM] [Info] Total Bins 99484\n",
      "[LightGBM] [Info] Number of data points in the train set: 31348, number of used features: 586\n",
      "[LightGBM] [Info] Using GPU Device: Quadro RTX 4000, Vendor: NVIDIA Corporation\n",
      "[LightGBM] [Info] Compiling OpenCL Kernel with 256 bins...\n",
      "[LightGBM] [Info] GPU programs have been built\n",
      "[LightGBM] [Info] Size of histogram bin entry: 8\n",
      "[LightGBM] [Info] 217 dense feature groups (6.58 MB) transferred to GPU in 0.073853 secs. 1 sparse feature groups\n",
      "threshold: 0.170403075216223\n",
      "AUC-ROC: 0.9946643112707407\n",
      "Accuracy: 0.8024\n",
      "PR_AUC: 0.9953372977864872\n",
      "Updating target policy...\n",
      "Epoch 278/300\n"
     ]
    },
    {
     "name": "stderr",
     "output_type": "stream",
     "text": [
      "c:\\Users\\FH-Deg\\.conda\\envs\\tf_c_gpu\\lib\\site-packages\\lightgbm\\basic.py:1192: UserWarning: Converting data to scipy sparse matrix.\n",
      "  _log_warning('Converting data to scipy sparse matrix.')\n"
     ]
    },
    {
     "name": "stdout",
     "output_type": "stream",
     "text": [
      "[LightGBM] [Info] Number of positive: 982, number of negative: 30366\n",
      "[LightGBM] [Info] This is the GPU trainer!!\n",
      "[LightGBM] [Info] Total Bins 99484\n",
      "[LightGBM] [Info] Number of data points in the train set: 31348, number of used features: 586\n",
      "[LightGBM] [Info] Using GPU Device: Quadro RTX 4000, Vendor: NVIDIA Corporation\n",
      "[LightGBM] [Info] Compiling OpenCL Kernel with 256 bins...\n",
      "[LightGBM] [Info] GPU programs have been built\n",
      "[LightGBM] [Info] Size of histogram bin entry: 8\n",
      "[LightGBM] [Info] 217 dense feature groups (6.58 MB) transferred to GPU in 0.055328 secs. 1 sparse feature groups\n",
      "threshold: 0.1703031527121363\n",
      "AUC-ROC: 0.9946716328744649\n",
      "Accuracy: 0.8018\n",
      "PR_AUC: 0.9953428541339069\n",
      "Epoch 279/300\n"
     ]
    },
    {
     "name": "stderr",
     "output_type": "stream",
     "text": [
      "c:\\Users\\FH-Deg\\.conda\\envs\\tf_c_gpu\\lib\\site-packages\\lightgbm\\basic.py:1192: UserWarning: Converting data to scipy sparse matrix.\n",
      "  _log_warning('Converting data to scipy sparse matrix.')\n"
     ]
    },
    {
     "name": "stdout",
     "output_type": "stream",
     "text": [
      "[LightGBM] [Info] Number of positive: 982, number of negative: 30366\n",
      "[LightGBM] [Info] This is the GPU trainer!!\n",
      "[LightGBM] [Info] Total Bins 99484\n",
      "[LightGBM] [Info] Number of data points in the train set: 31348, number of used features: 586\n",
      "[LightGBM] [Info] Using GPU Device: Quadro RTX 4000, Vendor: NVIDIA Corporation\n",
      "[LightGBM] [Info] Compiling OpenCL Kernel with 256 bins...\n",
      "[LightGBM] [Info] GPU programs have been built\n",
      "[LightGBM] [Info] Size of histogram bin entry: 8\n",
      "[LightGBM] [Info] 217 dense feature groups (6.58 MB) transferred to GPU in 0.082996 secs. 1 sparse feature groups\n",
      "threshold: 0.17024046636205448\n",
      "AUC-ROC: 0.9946754337069992\n",
      "Accuracy: 0.8019\n",
      "PR_AUC: 0.9953461616424059\n",
      "Epoch 280/300\n"
     ]
    },
    {
     "name": "stderr",
     "output_type": "stream",
     "text": [
      "c:\\Users\\FH-Deg\\.conda\\envs\\tf_c_gpu\\lib\\site-packages\\lightgbm\\basic.py:1192: UserWarning: Converting data to scipy sparse matrix.\n",
      "  _log_warning('Converting data to scipy sparse matrix.')\n"
     ]
    },
    {
     "name": "stdout",
     "output_type": "stream",
     "text": [
      "[LightGBM] [Info] Number of positive: 982, number of negative: 30366\n",
      "[LightGBM] [Info] This is the GPU trainer!!\n",
      "[LightGBM] [Info] Total Bins 99484\n",
      "[LightGBM] [Info] Number of data points in the train set: 31348, number of used features: 586\n",
      "[LightGBM] [Info] Using GPU Device: Quadro RTX 4000, Vendor: NVIDIA Corporation\n",
      "[LightGBM] [Info] Compiling OpenCL Kernel with 256 bins...\n",
      "[LightGBM] [Info] GPU programs have been built\n",
      "[LightGBM] [Info] Size of histogram bin entry: 8\n",
      "[LightGBM] [Info] 217 dense feature groups (6.58 MB) transferred to GPU in 0.066156 secs. 1 sparse feature groups\n",
      "threshold: 0.17011397718630272\n",
      "AUC-ROC: 0.9946720729708635\n",
      "Accuracy: 0.8019\n",
      "PR_AUC: 0.9953433101517777\n",
      "Updating target policy...\n",
      "Epoch 281/300\n"
     ]
    },
    {
     "name": "stderr",
     "output_type": "stream",
     "text": [
      "c:\\Users\\FH-Deg\\.conda\\envs\\tf_c_gpu\\lib\\site-packages\\lightgbm\\basic.py:1192: UserWarning: Converting data to scipy sparse matrix.\n",
      "  _log_warning('Converting data to scipy sparse matrix.')\n"
     ]
    },
    {
     "name": "stdout",
     "output_type": "stream",
     "text": [
      "[LightGBM] [Info] Number of positive: 982, number of negative: 30366\n",
      "[LightGBM] [Info] This is the GPU trainer!!\n",
      "[LightGBM] [Info] Total Bins 99484\n",
      "[LightGBM] [Info] Number of data points in the train set: 31348, number of used features: 586\n",
      "[LightGBM] [Info] Using GPU Device: Quadro RTX 4000, Vendor: NVIDIA Corporation\n",
      "[LightGBM] [Info] Compiling OpenCL Kernel with 256 bins...\n",
      "[LightGBM] [Info] GPU programs have been built\n",
      "[LightGBM] [Info] Size of histogram bin entry: 8\n",
      "[LightGBM] [Info] 217 dense feature groups (6.58 MB) transferred to GPU in 0.059823 secs. 1 sparse feature groups\n",
      "threshold: 0.17007656146591218\n",
      "AUC-ROC: 0.9946923974227314\n",
      "Accuracy: 0.8013\n",
      "PR_AUC: 0.9953595642597053\n",
      "Epoch 282/300\n"
     ]
    },
    {
     "name": "stderr",
     "output_type": "stream",
     "text": [
      "c:\\Users\\FH-Deg\\.conda\\envs\\tf_c_gpu\\lib\\site-packages\\lightgbm\\basic.py:1192: UserWarning: Converting data to scipy sparse matrix.\n",
      "  _log_warning('Converting data to scipy sparse matrix.')\n"
     ]
    },
    {
     "name": "stdout",
     "output_type": "stream",
     "text": [
      "[LightGBM] [Info] Number of positive: 982, number of negative: 30366\n",
      "[LightGBM] [Info] This is the GPU trainer!!\n",
      "[LightGBM] [Info] Total Bins 99484\n",
      "[LightGBM] [Info] Number of data points in the train set: 31348, number of used features: 586\n",
      "[LightGBM] [Info] Using GPU Device: Quadro RTX 4000, Vendor: NVIDIA Corporation\n",
      "[LightGBM] [Info] Compiling OpenCL Kernel with 256 bins...\n",
      "[LightGBM] [Info] GPU programs have been built\n",
      "[LightGBM] [Info] Size of histogram bin entry: 8\n",
      "[LightGBM] [Info] 217 dense feature groups (6.58 MB) transferred to GPU in 0.066561 secs. 1 sparse feature groups\n",
      "threshold: 0.17003503039681986\n",
      "AUC-ROC: 0.994702759692483\n",
      "Accuracy: 0.8013\n",
      "PR_AUC: 0.9953676433984634\n",
      "Epoch 283/300\n"
     ]
    },
    {
     "name": "stderr",
     "output_type": "stream",
     "text": [
      "c:\\Users\\FH-Deg\\.conda\\envs\\tf_c_gpu\\lib\\site-packages\\lightgbm\\basic.py:1192: UserWarning: Converting data to scipy sparse matrix.\n",
      "  _log_warning('Converting data to scipy sparse matrix.')\n"
     ]
    },
    {
     "name": "stdout",
     "output_type": "stream",
     "text": [
      "[LightGBM] [Info] Number of positive: 982, number of negative: 30366\n",
      "[LightGBM] [Info] This is the GPU trainer!!\n",
      "[LightGBM] [Info] Total Bins 99484\n",
      "[LightGBM] [Info] Number of data points in the train set: 31348, number of used features: 586\n",
      "[LightGBM] [Info] Using GPU Device: Quadro RTX 4000, Vendor: NVIDIA Corporation\n",
      "[LightGBM] [Info] Compiling OpenCL Kernel with 256 bins...\n",
      "[LightGBM] [Info] GPU programs have been built\n",
      "[LightGBM] [Info] Size of histogram bin entry: 8\n",
      "[LightGBM] [Info] 217 dense feature groups (6.58 MB) transferred to GPU in 0.131831 secs. 1 sparse feature groups\n",
      "threshold: 0.16985299469340473\n",
      "AUC-ROC: 0.9947160025932079\n",
      "Accuracy: 0.8014\n",
      "PR_AUC: 0.9953761781375269\n",
      "Updating target policy...\n",
      "Epoch 284/300\n"
     ]
    },
    {
     "name": "stderr",
     "output_type": "stream",
     "text": [
      "c:\\Users\\FH-Deg\\.conda\\envs\\tf_c_gpu\\lib\\site-packages\\lightgbm\\basic.py:1192: UserWarning: Converting data to scipy sparse matrix.\n",
      "  _log_warning('Converting data to scipy sparse matrix.')\n"
     ]
    },
    {
     "name": "stdout",
     "output_type": "stream",
     "text": [
      "[LightGBM] [Info] Number of positive: 982, number of negative: 30366\n",
      "[LightGBM] [Info] This is the GPU trainer!!\n",
      "[LightGBM] [Info] Total Bins 99484\n",
      "[LightGBM] [Info] Number of data points in the train set: 31348, number of used features: 586\n",
      "[LightGBM] [Info] Using GPU Device: Quadro RTX 4000, Vendor: NVIDIA Corporation\n",
      "[LightGBM] [Info] Compiling OpenCL Kernel with 256 bins...\n",
      "[LightGBM] [Info] GPU programs have been built\n",
      "[LightGBM] [Info] Size of histogram bin entry: 8\n",
      "[LightGBM] [Info] 217 dense feature groups (6.58 MB) transferred to GPU in 0.067328 secs. 1 sparse feature groups\n",
      "threshold: 0.1697304481568019\n",
      "AUC-ROC: 0.9947156425143363\n",
      "Accuracy: 0.8011\n",
      "PR_AUC: 0.9953756290992488\n",
      "Epoch 285/300\n"
     ]
    },
    {
     "name": "stderr",
     "output_type": "stream",
     "text": [
      "c:\\Users\\FH-Deg\\.conda\\envs\\tf_c_gpu\\lib\\site-packages\\lightgbm\\basic.py:1192: UserWarning: Converting data to scipy sparse matrix.\n",
      "  _log_warning('Converting data to scipy sparse matrix.')\n"
     ]
    },
    {
     "name": "stdout",
     "output_type": "stream",
     "text": [
      "[LightGBM] [Info] Number of positive: 982, number of negative: 30366\n",
      "[LightGBM] [Info] This is the GPU trainer!!\n",
      "[LightGBM] [Info] Total Bins 99484\n",
      "[LightGBM] [Info] Number of data points in the train set: 31348, number of used features: 586\n",
      "[LightGBM] [Info] Using GPU Device: Quadro RTX 4000, Vendor: NVIDIA Corporation\n",
      "[LightGBM] [Info] Compiling OpenCL Kernel with 256 bins...\n",
      "[LightGBM] [Info] GPU programs have been built\n",
      "[LightGBM] [Info] Size of histogram bin entry: 8\n",
      "[LightGBM] [Info] 217 dense feature groups (6.58 MB) transferred to GPU in 0.065959 secs. 1 sparse feature groups\n",
      "threshold: 0.16969891293993689\n",
      "AUC-ROC: 0.9947120417256198\n",
      "Accuracy: 0.8009\n",
      "PR_AUC: 0.9953753419554024\n",
      "Epoch 286/300\n"
     ]
    },
    {
     "name": "stderr",
     "output_type": "stream",
     "text": [
      "c:\\Users\\FH-Deg\\.conda\\envs\\tf_c_gpu\\lib\\site-packages\\lightgbm\\basic.py:1192: UserWarning: Converting data to scipy sparse matrix.\n",
      "  _log_warning('Converting data to scipy sparse matrix.')\n"
     ]
    },
    {
     "name": "stdout",
     "output_type": "stream",
     "text": [
      "[LightGBM] [Info] Number of positive: 982, number of negative: 30366\n",
      "[LightGBM] [Info] This is the GPU trainer!!\n",
      "[LightGBM] [Info] Total Bins 99484\n",
      "[LightGBM] [Info] Number of data points in the train set: 31348, number of used features: 586\n",
      "[LightGBM] [Info] Using GPU Device: Quadro RTX 4000, Vendor: NVIDIA Corporation\n",
      "[LightGBM] [Info] Compiling OpenCL Kernel with 256 bins...\n",
      "[LightGBM] [Info] GPU programs have been built\n",
      "[LightGBM] [Info] Size of histogram bin entry: 8\n",
      "[LightGBM] [Info] 217 dense feature groups (6.58 MB) transferred to GPU in 0.059726 secs. 1 sparse feature groups\n",
      "threshold: 0.16972939882145732\n",
      "AUC-ROC: 0.9947206436097762\n",
      "Accuracy: 0.8003\n",
      "PR_AUC: 0.9953800952305231\n",
      "Updating target policy...\n",
      "Epoch 287/300\n"
     ]
    },
    {
     "name": "stderr",
     "output_type": "stream",
     "text": [
      "c:\\Users\\FH-Deg\\.conda\\envs\\tf_c_gpu\\lib\\site-packages\\lightgbm\\basic.py:1192: UserWarning: Converting data to scipy sparse matrix.\n",
      "  _log_warning('Converting data to scipy sparse matrix.')\n"
     ]
    },
    {
     "name": "stdout",
     "output_type": "stream",
     "text": [
      "[LightGBM] [Info] Number of positive: 982, number of negative: 30366\n",
      "[LightGBM] [Info] This is the GPU trainer!!\n",
      "[LightGBM] [Info] Total Bins 99484\n",
      "[LightGBM] [Info] Number of data points in the train set: 31348, number of used features: 586\n",
      "[LightGBM] [Info] Using GPU Device: Quadro RTX 4000, Vendor: NVIDIA Corporation\n",
      "[LightGBM] [Info] Compiling OpenCL Kernel with 256 bins...\n",
      "[LightGBM] [Info] GPU programs have been built\n",
      "[LightGBM] [Info] Size of histogram bin entry: 8\n",
      "[LightGBM] [Info] 217 dense feature groups (6.58 MB) transferred to GPU in 0.209913 secs. 1 sparse feature groups\n",
      "threshold: 0.16964062673816896\n",
      "AUC-ROC: 0.9947080408492677\n",
      "Accuracy: 0.8001\n",
      "PR_AUC: 0.9953705579868742\n",
      "Epoch 288/300\n"
     ]
    },
    {
     "name": "stderr",
     "output_type": "stream",
     "text": [
      "c:\\Users\\FH-Deg\\.conda\\envs\\tf_c_gpu\\lib\\site-packages\\lightgbm\\basic.py:1192: UserWarning: Converting data to scipy sparse matrix.\n",
      "  _log_warning('Converting data to scipy sparse matrix.')\n"
     ]
    },
    {
     "name": "stdout",
     "output_type": "stream",
     "text": [
      "[LightGBM] [Info] Number of positive: 982, number of negative: 30366\n",
      "[LightGBM] [Info] This is the GPU trainer!!\n",
      "[LightGBM] [Info] Total Bins 99484\n",
      "[LightGBM] [Info] Number of data points in the train set: 31348, number of used features: 586\n",
      "[LightGBM] [Info] Using GPU Device: Quadro RTX 4000, Vendor: NVIDIA Corporation\n",
      "[LightGBM] [Info] Compiling OpenCL Kernel with 256 bins...\n",
      "[LightGBM] [Info] GPU programs have been built\n",
      "[LightGBM] [Info] Size of histogram bin entry: 8\n",
      "[LightGBM] [Info] 217 dense feature groups (6.58 MB) transferred to GPU in 0.059621 secs. 1 sparse feature groups\n",
      "threshold: 0.1699299557774931\n",
      "AUC-ROC: 0.9946912771773528\n",
      "Accuracy: 0.8\n",
      "PR_AUC: 0.9953579152766924\n",
      "Epoch 289/300\n"
     ]
    },
    {
     "name": "stderr",
     "output_type": "stream",
     "text": [
      "c:\\Users\\FH-Deg\\.conda\\envs\\tf_c_gpu\\lib\\site-packages\\lightgbm\\basic.py:1192: UserWarning: Converting data to scipy sparse matrix.\n",
      "  _log_warning('Converting data to scipy sparse matrix.')\n"
     ]
    },
    {
     "name": "stdout",
     "output_type": "stream",
     "text": [
      "[LightGBM] [Info] Number of positive: 982, number of negative: 30366\n",
      "[LightGBM] [Info] This is the GPU trainer!!\n",
      "[LightGBM] [Info] Total Bins 99484\n",
      "[LightGBM] [Info] Number of data points in the train set: 31348, number of used features: 586\n",
      "[LightGBM] [Info] Using GPU Device: Quadro RTX 4000, Vendor: NVIDIA Corporation\n",
      "[LightGBM] [Info] Compiling OpenCL Kernel with 256 bins...\n",
      "[LightGBM] [Info] GPU programs have been built\n",
      "[LightGBM] [Info] Size of histogram bin entry: 8\n",
      "[LightGBM] [Info] 217 dense feature groups (6.58 MB) transferred to GPU in 0.067453 secs. 1 sparse feature groups\n",
      "threshold: 0.1697682043041742\n",
      "AUC-ROC: 0.9947007592543071\n",
      "Accuracy: 0.7999\n",
      "PR_AUC: 0.9953665430039577\n",
      "Updating target policy...\n",
      "Epoch 290/300\n"
     ]
    },
    {
     "name": "stderr",
     "output_type": "stream",
     "text": [
      "c:\\Users\\FH-Deg\\.conda\\envs\\tf_c_gpu\\lib\\site-packages\\lightgbm\\basic.py:1192: UserWarning: Converting data to scipy sparse matrix.\n",
      "  _log_warning('Converting data to scipy sparse matrix.')\n"
     ]
    },
    {
     "name": "stdout",
     "output_type": "stream",
     "text": [
      "[LightGBM] [Info] Number of positive: 982, number of negative: 30366\n",
      "[LightGBM] [Info] This is the GPU trainer!!\n",
      "[LightGBM] [Info] Total Bins 99484\n",
      "[LightGBM] [Info] Number of data points in the train set: 31348, number of used features: 586\n",
      "[LightGBM] [Info] Using GPU Device: Quadro RTX 4000, Vendor: NVIDIA Corporation\n",
      "[LightGBM] [Info] Compiling OpenCL Kernel with 256 bins...\n",
      "[LightGBM] [Info] GPU programs have been built\n",
      "[LightGBM] [Info] Size of histogram bin entry: 8\n",
      "[LightGBM] [Info] 217 dense feature groups (6.58 MB) transferred to GPU in 0.061133 secs. 1 sparse feature groups\n",
      "threshold: 0.16960136268500997\n",
      "AUC-ROC: 0.994715082391647\n",
      "Accuracy: 0.7999\n",
      "PR_AUC: 0.9953765117493291\n",
      "Epoch 291/300\n"
     ]
    },
    {
     "name": "stderr",
     "output_type": "stream",
     "text": [
      "c:\\Users\\FH-Deg\\.conda\\envs\\tf_c_gpu\\lib\\site-packages\\lightgbm\\basic.py:1192: UserWarning: Converting data to scipy sparse matrix.\n",
      "  _log_warning('Converting data to scipy sparse matrix.')\n"
     ]
    },
    {
     "name": "stdout",
     "output_type": "stream",
     "text": [
      "[LightGBM] [Info] Number of positive: 982, number of negative: 30366\n",
      "[LightGBM] [Info] This is the GPU trainer!!\n",
      "[LightGBM] [Info] Total Bins 99484\n",
      "[LightGBM] [Info] Number of data points in the train set: 31348, number of used features: 586\n",
      "[LightGBM] [Info] Using GPU Device: Quadro RTX 4000, Vendor: NVIDIA Corporation\n",
      "[LightGBM] [Info] Compiling OpenCL Kernel with 256 bins...\n",
      "[LightGBM] [Info] GPU programs have been built\n",
      "[LightGBM] [Info] Size of histogram bin entry: 8\n",
      "[LightGBM] [Info] 217 dense feature groups (6.58 MB) transferred to GPU in 0.073591 secs. 1 sparse feature groups\n",
      "threshold: 0.16950567825757107\n",
      "AUC-ROC: 0.9947147223127755\n",
      "Accuracy: 0.7991\n",
      "PR_AUC: 0.9953755567868663\n",
      "Epoch 292/300\n"
     ]
    },
    {
     "name": "stderr",
     "output_type": "stream",
     "text": [
      "c:\\Users\\FH-Deg\\.conda\\envs\\tf_c_gpu\\lib\\site-packages\\lightgbm\\basic.py:1192: UserWarning: Converting data to scipy sparse matrix.\n",
      "  _log_warning('Converting data to scipy sparse matrix.')\n"
     ]
    },
    {
     "name": "stdout",
     "output_type": "stream",
     "text": [
      "[LightGBM] [Info] Number of positive: 982, number of negative: 30366\n",
      "[LightGBM] [Info] This is the GPU trainer!!\n",
      "[LightGBM] [Info] Total Bins 99484\n",
      "[LightGBM] [Info] Number of data points in the train set: 31348, number of used features: 586\n",
      "[LightGBM] [Info] Using GPU Device: Quadro RTX 4000, Vendor: NVIDIA Corporation\n",
      "[LightGBM] [Info] Compiling OpenCL Kernel with 256 bins...\n",
      "[LightGBM] [Info] GPU programs have been built\n",
      "[LightGBM] [Info] Size of histogram bin entry: 8\n",
      "[LightGBM] [Info] 217 dense feature groups (6.58 MB) transferred to GPU in 0.057447 secs. 1 sparse feature groups\n",
      "threshold: 0.16940481386748896\n",
      "AUC-ROC: 0.9947121617519101\n",
      "Accuracy: 0.7999\n",
      "PR_AUC: 0.9953747252286598\n",
      "Updating target policy...\n",
      "Epoch 293/300\n"
     ]
    },
    {
     "name": "stderr",
     "output_type": "stream",
     "text": [
      "c:\\Users\\FH-Deg\\.conda\\envs\\tf_c_gpu\\lib\\site-packages\\lightgbm\\basic.py:1192: UserWarning: Converting data to scipy sparse matrix.\n",
      "  _log_warning('Converting data to scipy sparse matrix.')\n"
     ]
    },
    {
     "name": "stdout",
     "output_type": "stream",
     "text": [
      "[LightGBM] [Info] Number of positive: 982, number of negative: 30366\n",
      "[LightGBM] [Info] This is the GPU trainer!!\n",
      "[LightGBM] [Info] Total Bins 99484\n",
      "[LightGBM] [Info] Number of data points in the train set: 31348, number of used features: 586\n",
      "[LightGBM] [Info] Using GPU Device: Quadro RTX 4000, Vendor: NVIDIA Corporation\n",
      "[LightGBM] [Info] Compiling OpenCL Kernel with 256 bins...\n",
      "[LightGBM] [Info] GPU programs have been built\n",
      "[LightGBM] [Info] Size of histogram bin entry: 8\n",
      "[LightGBM] [Info] 217 dense feature groups (6.58 MB) transferred to GPU in 0.066513 secs. 1 sparse feature groups\n",
      "threshold: 0.1693031116839443\n",
      "AUC-ROC: 0.9947153224442281\n",
      "Accuracy: 0.7994\n",
      "PR_AUC: 0.9953735203726686\n",
      "Epoch 294/300\n"
     ]
    },
    {
     "name": "stderr",
     "output_type": "stream",
     "text": [
      "c:\\Users\\FH-Deg\\.conda\\envs\\tf_c_gpu\\lib\\site-packages\\lightgbm\\basic.py:1192: UserWarning: Converting data to scipy sparse matrix.\n",
      "  _log_warning('Converting data to scipy sparse matrix.')\n"
     ]
    },
    {
     "name": "stdout",
     "output_type": "stream",
     "text": [
      "[LightGBM] [Info] Number of positive: 982, number of negative: 30366\n",
      "[LightGBM] [Info] This is the GPU trainer!!\n",
      "[LightGBM] [Info] Total Bins 99484\n",
      "[LightGBM] [Info] Number of data points in the train set: 31348, number of used features: 586\n",
      "[LightGBM] [Info] Using GPU Device: Quadro RTX 4000, Vendor: NVIDIA Corporation\n",
      "[LightGBM] [Info] Compiling OpenCL Kernel with 256 bins...\n",
      "[LightGBM] [Info] GPU programs have been built\n",
      "[LightGBM] [Info] Size of histogram bin entry: 8\n",
      "[LightGBM] [Info] 217 dense feature groups (6.58 MB) transferred to GPU in 0.060344 secs. 1 sparse feature groups\n",
      "threshold: 0.16909747625221555\n",
      "AUC-ROC: 0.9947160426019713\n",
      "Accuracy: 0.7987\n",
      "PR_AUC: 0.9953757608090812\n",
      "Epoch 295/300\n"
     ]
    },
    {
     "name": "stderr",
     "output_type": "stream",
     "text": [
      "c:\\Users\\FH-Deg\\.conda\\envs\\tf_c_gpu\\lib\\site-packages\\lightgbm\\basic.py:1192: UserWarning: Converting data to scipy sparse matrix.\n",
      "  _log_warning('Converting data to scipy sparse matrix.')\n"
     ]
    },
    {
     "name": "stdout",
     "output_type": "stream",
     "text": [
      "[LightGBM] [Info] Number of positive: 982, number of negative: 30366\n",
      "[LightGBM] [Info] This is the GPU trainer!!\n",
      "[LightGBM] [Info] Total Bins 99484\n",
      "[LightGBM] [Info] Number of data points in the train set: 31348, number of used features: 586\n",
      "[LightGBM] [Info] Using GPU Device: Quadro RTX 4000, Vendor: NVIDIA Corporation\n",
      "[LightGBM] [Info] Compiling OpenCL Kernel with 256 bins...\n",
      "[LightGBM] [Info] GPU programs have been built\n",
      "[LightGBM] [Info] Size of histogram bin entry: 8\n",
      "[LightGBM] [Info] 217 dense feature groups (6.58 MB) transferred to GPU in 0.064555 secs. 1 sparse feature groups\n",
      "threshold: 0.16911922339661092\n",
      "AUC-ROC: 0.9946999590790367\n",
      "Accuracy: 0.7985\n",
      "PR_AUC: 0.9953637704778711\n",
      "Updating target policy...\n",
      "Epoch 296/300\n"
     ]
    },
    {
     "name": "stderr",
     "output_type": "stream",
     "text": [
      "c:\\Users\\FH-Deg\\.conda\\envs\\tf_c_gpu\\lib\\site-packages\\lightgbm\\basic.py:1192: UserWarning: Converting data to scipy sparse matrix.\n",
      "  _log_warning('Converting data to scipy sparse matrix.')\n"
     ]
    },
    {
     "name": "stdout",
     "output_type": "stream",
     "text": [
      "[LightGBM] [Info] Number of positive: 982, number of negative: 30366\n",
      "[LightGBM] [Info] This is the GPU trainer!!\n",
      "[LightGBM] [Info] Total Bins 99484\n",
      "[LightGBM] [Info] Number of data points in the train set: 31348, number of used features: 586\n",
      "[LightGBM] [Info] Using GPU Device: Quadro RTX 4000, Vendor: NVIDIA Corporation\n",
      "[LightGBM] [Info] Compiling OpenCL Kernel with 256 bins...\n",
      "[LightGBM] [Info] GPU programs have been built\n",
      "[LightGBM] [Info] Size of histogram bin entry: 8\n",
      "[LightGBM] [Info] 217 dense feature groups (6.58 MB) transferred to GPU in 0.060359 secs. 1 sparse feature groups\n",
      "threshold: 0.1690250640283924\n",
      "AUC-ROC: 0.9947103613575518\n",
      "Accuracy: 0.7981\n",
      "PR_AUC: 0.9953720650196823\n",
      "Epoch 297/300\n"
     ]
    },
    {
     "name": "stderr",
     "output_type": "stream",
     "text": [
      "c:\\Users\\FH-Deg\\.conda\\envs\\tf_c_gpu\\lib\\site-packages\\lightgbm\\basic.py:1192: UserWarning: Converting data to scipy sparse matrix.\n",
      "  _log_warning('Converting data to scipy sparse matrix.')\n"
     ]
    },
    {
     "name": "stdout",
     "output_type": "stream",
     "text": [
      "[LightGBM] [Info] Number of positive: 982, number of negative: 30366\n",
      "[LightGBM] [Info] This is the GPU trainer!!\n",
      "[LightGBM] [Info] Total Bins 99484\n",
      "[LightGBM] [Info] Number of data points in the train set: 31348, number of used features: 586\n",
      "[LightGBM] [Info] Using GPU Device: Quadro RTX 4000, Vendor: NVIDIA Corporation\n",
      "[LightGBM] [Info] Compiling OpenCL Kernel with 256 bins...\n",
      "[LightGBM] [Info] GPU programs have been built\n",
      "[LightGBM] [Info] Size of histogram bin entry: 8\n",
      "[LightGBM] [Info] 217 dense feature groups (6.58 MB) transferred to GPU in 0.059255 secs. 1 sparse feature groups\n",
      "threshold: 0.1689720117727232\n",
      "AUC-ROC: 0.994705840367274\n",
      "Accuracy: 0.7978\n",
      "PR_AUC: 0.9953686142191013\n",
      "Epoch 298/300\n"
     ]
    },
    {
     "name": "stderr",
     "output_type": "stream",
     "text": [
      "c:\\Users\\FH-Deg\\.conda\\envs\\tf_c_gpu\\lib\\site-packages\\lightgbm\\basic.py:1192: UserWarning: Converting data to scipy sparse matrix.\n",
      "  _log_warning('Converting data to scipy sparse matrix.')\n"
     ]
    },
    {
     "name": "stdout",
     "output_type": "stream",
     "text": [
      "[LightGBM] [Info] Number of positive: 982, number of negative: 30366\n",
      "[LightGBM] [Info] This is the GPU trainer!!\n",
      "[LightGBM] [Info] Total Bins 99484\n",
      "[LightGBM] [Info] Number of data points in the train set: 31348, number of used features: 586\n",
      "[LightGBM] [Info] Using GPU Device: Quadro RTX 4000, Vendor: NVIDIA Corporation\n",
      "[LightGBM] [Info] Compiling OpenCL Kernel with 256 bins...\n",
      "[LightGBM] [Info] GPU programs have been built\n",
      "[LightGBM] [Info] Size of histogram bin entry: 8\n",
      "[LightGBM] [Info] 217 dense feature groups (6.58 MB) transferred to GPU in 0.075292 secs. 1 sparse feature groups\n",
      "threshold: 0.16897294876537228\n",
      "AUC-ROC: 0.9947193233205802\n",
      "Accuracy: 0.7969\n",
      "PR_AUC: 0.9953774998832742\n",
      "Updating target policy...\n",
      "Epoch 299/300\n"
     ]
    },
    {
     "name": "stderr",
     "output_type": "stream",
     "text": [
      "c:\\Users\\FH-Deg\\.conda\\envs\\tf_c_gpu\\lib\\site-packages\\lightgbm\\basic.py:1192: UserWarning: Converting data to scipy sparse matrix.\n",
      "  _log_warning('Converting data to scipy sparse matrix.')\n"
     ]
    },
    {
     "name": "stdout",
     "output_type": "stream",
     "text": [
      "[LightGBM] [Info] Number of positive: 982, number of negative: 30366\n",
      "[LightGBM] [Info] This is the GPU trainer!!\n",
      "[LightGBM] [Info] Total Bins 99484\n",
      "[LightGBM] [Info] Number of data points in the train set: 31348, number of used features: 586\n",
      "[LightGBM] [Info] Using GPU Device: Quadro RTX 4000, Vendor: NVIDIA Corporation\n",
      "[LightGBM] [Info] Compiling OpenCL Kernel with 256 bins...\n",
      "[LightGBM] [Info] GPU programs have been built\n",
      "[LightGBM] [Info] Size of histogram bin entry: 8\n",
      "[LightGBM] [Info] 217 dense feature groups (6.58 MB) transferred to GPU in 0.066173 secs. 1 sparse feature groups\n",
      "threshold: 0.1689111161658369\n",
      "AUC-ROC: 0.9947051602182944\n",
      "Accuracy: 0.7967\n",
      "PR_AUC: 0.9953664475424285\n",
      "Epoch 300/300\n"
     ]
    },
    {
     "name": "stderr",
     "output_type": "stream",
     "text": [
      "c:\\Users\\FH-Deg\\.conda\\envs\\tf_c_gpu\\lib\\site-packages\\lightgbm\\basic.py:1192: UserWarning: Converting data to scipy sparse matrix.\n",
      "  _log_warning('Converting data to scipy sparse matrix.')\n"
     ]
    },
    {
     "name": "stdout",
     "output_type": "stream",
     "text": [
      "[LightGBM] [Info] Number of positive: 982, number of negative: 30366\n",
      "[LightGBM] [Info] This is the GPU trainer!!\n",
      "[LightGBM] [Info] Total Bins 99484\n",
      "[LightGBM] [Info] Number of data points in the train set: 31348, number of used features: 586\n",
      "[LightGBM] [Info] Using GPU Device: Quadro RTX 4000, Vendor: NVIDIA Corporation\n",
      "[LightGBM] [Info] Compiling OpenCL Kernel with 256 bins...\n",
      "[LightGBM] [Info] GPU programs have been built\n",
      "[LightGBM] [Info] Size of histogram bin entry: 8\n",
      "[LightGBM] [Info] 217 dense feature groups (6.58 MB) transferred to GPU in 0.079248 secs. 1 sparse feature groups\n",
      "threshold: 0.16885754537224976\n",
      "AUC-ROC: 0.9946952380449414\n",
      "Accuracy: 0.7971\n",
      "PR_AUC: 0.995357090482143\n"
     ]
    }
   ],
   "source": [
    "def train_model(x_train, y_train, s, epochs=300, batch_size=128, model_lgb=model_lgb):\n",
    "    x_train = x_train.astype('float32')\n",
    "    y_train = y_train.astype('float32')\n",
    "    s = s.astype('float32')\n",
    "\n",
    "    dataset = tf.data.Dataset.from_tensor_slices((x_train, y_train, s))\n",
    "    dataset = dataset.shuffle(buffer_size=len(x_train)).batch(len(y_train))\n",
    "    # dataset = dataset.shuffle(buffer_size=len(x_train)).batch(batch_size)\n",
    "\n",
    "    for epoch in range(epochs):\n",
    "        print(f\"Epoch {epoch+1}/{epochs}\")\n",
    "        # lgb_probabilities=None\n",
    "        threshold = 0.5\n",
    "        for x_batch, y_batch, s_batch in dataset:\n",
    "            # Get actions and probabilities for the entire batch\n",
    "            actions, probabilities = agent.choose_action(x_batch, s_batch, threshold=threshold)\n",
    "            train_data = lgb.Dataset(x_batch, label=actions)\n",
    "            valid_data = lgb.Dataset(x_batch, label=actions)\n",
    "            model_lgb = lgb.train(params, train_data, num_boost_round=10, init_model=model_lgb, keep_training_booster=True)\n",
    "    \n",
    "\n",
    "            # Fit the model on the current batch and update history\n",
    "\n",
    "            lgb_probabilities = model_lgb.predict(x_batch, num_iteration=model_lgb.best_iteration)\n",
    "            threshold = calculate_threshold(lgb_probabilities, y_batch)\n",
    "            rewards = calculate_rewards(lgb_probabilities, y_batch, threshold)\n",
    "\n",
    "            # Store transitions and learn from them\n",
    "            agent.store_transition(x_batch.numpy(), actions, rewards)\n",
    "            agent.learn()\n",
    "            # break\n",
    "\n",
    "        y_pred_prob = model_lgb.predict(x_test)\n",
    "        threshold = calculate_threshold(y_pred_prob, y_test)\n",
    "        print(f\"threshold: {threshold}\")\n",
    "        y_pred = np.where(y_pred_prob >= threshold, 1, 0)\n",
    "\n",
    "        roc_auc = roc_auc_score(y_test, y_pred_prob)\n",
    "        print(\"AUC-ROC:\", roc_auc)\n",
    "        history['ROC_AUC'].append(roc_auc)\n",
    "\n",
    "        accuracy = accuracy_score(y_test, y_pred)\n",
    "        print(\"Accuracy:\", accuracy)\n",
    "        history['accuracy'].append(roc_auc)\n",
    "\n",
    "        precision, recall, _ = precision_recall_curve(y_true=y_test, probas_pred=y_pred_prob)\n",
    "        pr_auc = auc(recall, precision)\n",
    "        history['PR_AUC'].append(pr_auc)\n",
    "        print(\"PR_AUC:\", pr_auc)\n",
    "\n",
    "        # conf_matrix = confusion_matrix(y_test, y_pred)\n",
    "        # print(\"Confusion Matrix:\")\n",
    "        # print(conf_matrix)\n",
    "        # Test the confustion matrix and test the inputs\n",
    "\n",
    "        # recall = recall_score(y_test, y_pred)\n",
    "        # print(\"Recall:\", recall)\n",
    "        # history['recall'].append(recall)\n",
    "\n",
    "        # # Calculate F1 score\n",
    "        # f1 = f1_score(y_test, y_pred)\n",
    "        # print(\"F1 Score:\", f1)\n",
    "        # history['f1'].append(f1)\n",
    "\n",
    "\n",
    "        if epoch % 3 == 0:\n",
    "            print(\"Updating target policy...\")\n",
    "            agent.target_model.set_weights(agent.model.get_weights())\n",
    "\n",
    "\n",
    "train_model(x_train=x_train, y_train=y_train, s=y_train, model_lgb=model_lgb)"
   ]
  },
  {
   "cell_type": "code",
   "execution_count": 14,
   "metadata": {},
   "outputs": [
    {
     "name": "stdout",
     "output_type": "stream",
     "text": [
      "{'epoch_loss': [], 'epoch_accuracy': [], 'batch_loss': [], 'batch_accuracy': [], 'predictions': [], 'rewards': [], 'thresholds': [], 'ROC_AUC': [0.8658050459372622, 0.9020932144977035, 0.9219503239989688, 0.9354067314904656, 0.9422866784740529, 0.953880618010569, 0.9589205619598917, 0.9612184252838741, 0.9652930978001422, 0.9691039925385256, 0.9724727104224908, 0.9739491938314168, 0.975617519261419, 0.9768451281568715, 0.9778954382167869, 0.978975194726653, 0.9801868601298429, 0.9816002497186984, 0.9825933072380174, 0.9831921584103782, 0.9835874649983332, 0.9838190157172026, 0.9842254247370346, 0.9843796585204023, 0.9853450499797476, 0.9857877069393279, 0.9861628491104691, 0.9862711128245532, 0.9866124475905204, 0.9870261782140761, 0.9871536461346493, 0.9876093659555188, 0.987942038824184, 0.9883086791330773, 0.9888170304823569, 0.9890501615473855, 0.9892634882744715, 0.9893857950645509, 0.9896265277946481, 0.9898682207350697, 0.9901031922032201, 0.990207054953317, 0.9903906151603447, 0.9905584119145457, 0.9906910809743766, 0.9907124056453325, 0.990906488157166, 0.99101475187125, 0.9910645227730682, 0.9911624642261642, 0.9911939911318176, 0.9912716881505728, 0.9913787916105145, 0.991550949319939, 0.991636488056344, 0.9917216667138768, 0.9917815198241023, 0.9918394125049153, 0.9918405727590571, 0.9919269116707324, 0.9920280138161462, 0.9921196738933695, 0.9921311564084999, 0.9921791669247233, 0.992196930815726, 0.992253383181052, 0.9923418425571937, 0.9923516046954924, 0.9924279414162878, 0.9925186812919502, 0.9925057984700969, 0.9925267230534178, 0.9925057184525701, 0.9925329644205265, 0.9926011793623275, 0.9926307058298048, 0.9926579117889982, 0.9927080827784517, 0.9927264468009072, 0.9927669356695891, 0.9927910209452278, 0.992784419499247, 0.9927883003493084, 0.9928143860631232, 0.992857035405035, 0.9929010050361431, 0.9929497757188732, 0.9929777418445738, 0.9929997466645094, 0.9930605999938227, 0.9930923269432936, 0.9931366966620369, 0.9932001505609788, 0.9932262762835571, 0.9932550825932912, 0.993279247886457, 0.9932892100685733, 0.9933213771144431, 0.9933506635293394, 0.9933599455624761, 0.9933822704525199, 0.9934472446844756, 0.9934700496796818, 0.993476451081845, 0.9934900140526782, 0.9935124189602489, 0.9935359441131986, 0.9935597493274927, 0.9935607895553442, 0.9935708317549875, 0.9935917563383083, 0.9935835145330233, 0.9936334454698955, 0.9936803357407407, 0.9936948189131346, 0.9937186641361923, 0.9937481906036698, 0.9937791973953973, 0.9937930804363388, 0.9938208465182212, 0.9938298084812497, 0.9938418111103056, 0.9938509731171515, 0.9938532936254357, 0.9938801795145208, 0.9938936624678271, 0.9939038647025245, 0.9939208684270202, 0.9939001438875172, 0.9939173076470671, 0.9939395925283474, 0.9939673186014665, 0.993988763298713, 0.9939923240786661, 0.9940090077330539, 0.9940167694331765, 0.9940480162774854, 0.9940610591343928, 0.9940731417809757, 0.9940818236826594, 0.9940785829728143, 0.994062699493697, 0.9940686607994614, 0.9940803833671729, 0.9941157511141241, 0.9941137506759481, 0.9941301542689911, 0.99412275264774, 0.9941363556273366, 0.9941450375290204, 0.9941687227170238, 0.9941535593956501, 0.9941666422613208, 0.9941908475632503, 0.99418720676577, 0.9942075312176379, 0.9942248550122419, 0.9942079313052731, 0.9942130124182401, 0.99425382135703, 0.99425450150601, 0.9942636635128559, 0.9942889890601637, 0.9942891490952178, 0.9942962306463607, 0.9942927498839346, 0.9942983911195908, 0.9943011917330371, 0.9942987511984626, 0.9943045124604094, 0.994290629419468, 0.9942950303834552, 0.9943001515051858, 0.9942829877456357, 0.9942929899365157, 0.9942885889725285, 0.9943024320047064, 0.9943397201723065, 0.9943289578149197, 0.9943113539589711, 0.9942831877894535, 0.9943045524691729, 0.994320275913236, 0.9943195157467293, 0.9943182354662966, 0.994321436167378, 0.9943255570700207, 0.9943411604877931, 0.9943502824858756, 0.9943461615832332, 0.9943647256495063, 0.9943800490059341, 0.9943890909864896, 0.9943958924762881, 0.9943907713545577, 0.9944110958064254, 0.9944242986983868, 0.9944268592592521, 0.9943991331861332, 0.9944140564549259, 0.99440205382587, 0.9943940120644025, 0.9944023338872148, 0.9944079751228709, 0.9943979729319911, 0.9943820094353467, 0.9943714071130141, 0.9943812092600762, 0.9944055745970597, 0.9944217781462852, 0.9944240986545693, 0.9944174171910615, 0.994423458514353, 0.9944359012398076, 0.9944415824842272, 0.9944413024228828, 0.9944355811696995, 0.9944441830538561, 0.9944362213099158, 0.9944423826594978, 0.9944296598726985, 0.9944528249467763, 0.9944517047013978, 0.9944760700383813, 0.9944802709585507, 0.9944908332721201, 0.9945019957171419, 0.99451163782915, 0.9945235604406788, 0.994533962719194, 0.9945283614923013, 0.9945345228418834, 0.9945386037357623, 0.9945331225351601, 0.9945439249013104, 0.9945292016763352, 0.9945385237182353, 0.9945482058390068, 0.9945790525956807, 0.9945909752072094, 0.9945776522889573, 0.9945895348917226, 0.994600257240346, 0.9946008173630353, 0.9946096993085366, 0.9945939358557098, 0.9946046982130966, 0.9945988969423862, 0.9945933757330205, 0.9946009373893259, 0.9946118997905302, 0.9946141402812871, 0.994623502331951, 0.9946251827000185, 0.9946058584672386, 0.9946052983445495, 0.994600177222819, 0.9946139802462333, 0.9946107795451516, 0.9946240624546401, 0.9946392657847775, 0.9946361451012229, 0.9946252627175456, 0.9946222220515182, 0.9946266630242688, 0.9946184612277474, 0.994617981122585, 0.9946017375645961, 0.9946004572841635, 0.9946131800709626, 0.9946226621479168, 0.9946324242862157, 0.9946254627613631, 0.9946283433923367, 0.9946451070642512, 0.9946484277916234, 0.9946643112707407, 0.9946716328744649, 0.9946754337069992, 0.9946720729708635, 0.9946923974227314, 0.994702759692483, 0.9947160025932079, 0.9947156425143363, 0.9947120417256198, 0.9947206436097762, 0.9947080408492677, 0.9946912771773528, 0.9947007592543071, 0.994715082391647, 0.9947147223127755, 0.9947121617519101, 0.9947153224442281, 0.9947160426019713, 0.9946999590790367, 0.9947103613575518, 0.994705840367274, 0.9947193233205802, 0.9947051602182944, 0.9946952380449414], 'accuracy': [0.8658050459372622, 0.9020932144977035, 0.9219503239989688, 0.9354067314904656, 0.9422866784740529, 0.953880618010569, 0.9589205619598917, 0.9612184252838741, 0.9652930978001422, 0.9691039925385256, 0.9724727104224908, 0.9739491938314168, 0.975617519261419, 0.9768451281568715, 0.9778954382167869, 0.978975194726653, 0.9801868601298429, 0.9816002497186984, 0.9825933072380174, 0.9831921584103782, 0.9835874649983332, 0.9838190157172026, 0.9842254247370346, 0.9843796585204023, 0.9853450499797476, 0.9857877069393279, 0.9861628491104691, 0.9862711128245532, 0.9866124475905204, 0.9870261782140761, 0.9871536461346493, 0.9876093659555188, 0.987942038824184, 0.9883086791330773, 0.9888170304823569, 0.9890501615473855, 0.9892634882744715, 0.9893857950645509, 0.9896265277946481, 0.9898682207350697, 0.9901031922032201, 0.990207054953317, 0.9903906151603447, 0.9905584119145457, 0.9906910809743766, 0.9907124056453325, 0.990906488157166, 0.99101475187125, 0.9910645227730682, 0.9911624642261642, 0.9911939911318176, 0.9912716881505728, 0.9913787916105145, 0.991550949319939, 0.991636488056344, 0.9917216667138768, 0.9917815198241023, 0.9918394125049153, 0.9918405727590571, 0.9919269116707324, 0.9920280138161462, 0.9921196738933695, 0.9921311564084999, 0.9921791669247233, 0.992196930815726, 0.992253383181052, 0.9923418425571937, 0.9923516046954924, 0.9924279414162878, 0.9925186812919502, 0.9925057984700969, 0.9925267230534178, 0.9925057184525701, 0.9925329644205265, 0.9926011793623275, 0.9926307058298048, 0.9926579117889982, 0.9927080827784517, 0.9927264468009072, 0.9927669356695891, 0.9927910209452278, 0.992784419499247, 0.9927883003493084, 0.9928143860631232, 0.992857035405035, 0.9929010050361431, 0.9929497757188732, 0.9929777418445738, 0.9929997466645094, 0.9930605999938227, 0.9930923269432936, 0.9931366966620369, 0.9932001505609788, 0.9932262762835571, 0.9932550825932912, 0.993279247886457, 0.9932892100685733, 0.9933213771144431, 0.9933506635293394, 0.9933599455624761, 0.9933822704525199, 0.9934472446844756, 0.9934700496796818, 0.993476451081845, 0.9934900140526782, 0.9935124189602489, 0.9935359441131986, 0.9935597493274927, 0.9935607895553442, 0.9935708317549875, 0.9935917563383083, 0.9935835145330233, 0.9936334454698955, 0.9936803357407407, 0.9936948189131346, 0.9937186641361923, 0.9937481906036698, 0.9937791973953973, 0.9937930804363388, 0.9938208465182212, 0.9938298084812497, 0.9938418111103056, 0.9938509731171515, 0.9938532936254357, 0.9938801795145208, 0.9938936624678271, 0.9939038647025245, 0.9939208684270202, 0.9939001438875172, 0.9939173076470671, 0.9939395925283474, 0.9939673186014665, 0.993988763298713, 0.9939923240786661, 0.9940090077330539, 0.9940167694331765, 0.9940480162774854, 0.9940610591343928, 0.9940731417809757, 0.9940818236826594, 0.9940785829728143, 0.994062699493697, 0.9940686607994614, 0.9940803833671729, 0.9941157511141241, 0.9941137506759481, 0.9941301542689911, 0.99412275264774, 0.9941363556273366, 0.9941450375290204, 0.9941687227170238, 0.9941535593956501, 0.9941666422613208, 0.9941908475632503, 0.99418720676577, 0.9942075312176379, 0.9942248550122419, 0.9942079313052731, 0.9942130124182401, 0.99425382135703, 0.99425450150601, 0.9942636635128559, 0.9942889890601637, 0.9942891490952178, 0.9942962306463607, 0.9942927498839346, 0.9942983911195908, 0.9943011917330371, 0.9942987511984626, 0.9943045124604094, 0.994290629419468, 0.9942950303834552, 0.9943001515051858, 0.9942829877456357, 0.9942929899365157, 0.9942885889725285, 0.9943024320047064, 0.9943397201723065, 0.9943289578149197, 0.9943113539589711, 0.9942831877894535, 0.9943045524691729, 0.994320275913236, 0.9943195157467293, 0.9943182354662966, 0.994321436167378, 0.9943255570700207, 0.9943411604877931, 0.9943502824858756, 0.9943461615832332, 0.9943647256495063, 0.9943800490059341, 0.9943890909864896, 0.9943958924762881, 0.9943907713545577, 0.9944110958064254, 0.9944242986983868, 0.9944268592592521, 0.9943991331861332, 0.9944140564549259, 0.99440205382587, 0.9943940120644025, 0.9944023338872148, 0.9944079751228709, 0.9943979729319911, 0.9943820094353467, 0.9943714071130141, 0.9943812092600762, 0.9944055745970597, 0.9944217781462852, 0.9944240986545693, 0.9944174171910615, 0.994423458514353, 0.9944359012398076, 0.9944415824842272, 0.9944413024228828, 0.9944355811696995, 0.9944441830538561, 0.9944362213099158, 0.9944423826594978, 0.9944296598726985, 0.9944528249467763, 0.9944517047013978, 0.9944760700383813, 0.9944802709585507, 0.9944908332721201, 0.9945019957171419, 0.99451163782915, 0.9945235604406788, 0.994533962719194, 0.9945283614923013, 0.9945345228418834, 0.9945386037357623, 0.9945331225351601, 0.9945439249013104, 0.9945292016763352, 0.9945385237182353, 0.9945482058390068, 0.9945790525956807, 0.9945909752072094, 0.9945776522889573, 0.9945895348917226, 0.994600257240346, 0.9946008173630353, 0.9946096993085366, 0.9945939358557098, 0.9946046982130966, 0.9945988969423862, 0.9945933757330205, 0.9946009373893259, 0.9946118997905302, 0.9946141402812871, 0.994623502331951, 0.9946251827000185, 0.9946058584672386, 0.9946052983445495, 0.994600177222819, 0.9946139802462333, 0.9946107795451516, 0.9946240624546401, 0.9946392657847775, 0.9946361451012229, 0.9946252627175456, 0.9946222220515182, 0.9946266630242688, 0.9946184612277474, 0.994617981122585, 0.9946017375645961, 0.9946004572841635, 0.9946131800709626, 0.9946226621479168, 0.9946324242862157, 0.9946254627613631, 0.9946283433923367, 0.9946451070642512, 0.9946484277916234, 0.9946643112707407, 0.9946716328744649, 0.9946754337069992, 0.9946720729708635, 0.9946923974227314, 0.994702759692483, 0.9947160025932079, 0.9947156425143363, 0.9947120417256198, 0.9947206436097762, 0.9947080408492677, 0.9946912771773528, 0.9947007592543071, 0.994715082391647, 0.9947147223127755, 0.9947121617519101, 0.9947153224442281, 0.9947160426019713, 0.9946999590790367, 0.9947103613575518, 0.994705840367274, 0.9947193233205802, 0.9947051602182944, 0.9946952380449414], 'PR_AUC': [0.9141675744816804, 0.9376099197849818, 0.9503761738457178, 0.9582096857783631, 0.9622414831760171, 0.9689642955828048, 0.9719428042789551, 0.973423598668167, 0.9758360729311057, 0.9779423542840633, 0.9799908767053496, 0.980902698144566, 0.9820391223974123, 0.9828979713676879, 0.9835801170493754, 0.984284717153149, 0.9850023281712841, 0.9858702717231294, 0.9864889391779863, 0.9868631432167102, 0.9870879458780734, 0.98725933738559, 0.9875530132751853, 0.9876898053964549, 0.9882249843243225, 0.9885069815647229, 0.9887573815645586, 0.988813370811233, 0.9890303063008113, 0.9893114340580903, 0.9894211419709046, 0.9897501276704177, 0.9900012143961021, 0.9902446606405508, 0.9905838515537936, 0.9907543349868451, 0.990928709441105, 0.991028972778794, 0.9912212758020296, 0.9914118143407762, 0.9915934391115335, 0.9916836186385485, 0.9918233187350611, 0.9919686570165601, 0.9920709459427126, 0.9921085901210895, 0.9922515437889889, 0.9923302283268478, 0.9923803335962416, 0.9924699428318685, 0.9924954195390998, 0.9925552239383649, 0.9926540278745807, 0.9927872474907644, 0.9928610504058767, 0.9929380975705627, 0.9929783282533319, 0.9930175853274944, 0.9930333073028592, 0.9930965218176376, 0.9931746087383899, 0.9932434532555011, 0.9932566823696322, 0.9932930276306351, 0.9933163032543322, 0.9933589723949858, 0.9934243872096223, 0.9934345753083667, 0.9934927001384325, 0.9935594868918789, 0.993559737479083, 0.993581435799514, 0.9935674488526323, 0.9935905943999522, 0.9936437669619564, 0.9936737699569127, 0.993699767849912, 0.9937315570042514, 0.9937447364941018, 0.9937801446641003, 0.9938036078045778, 0.993803647112659, 0.9938121089983964, 0.9938338195190716, 0.9938751551172692, 0.9939044199193641, 0.9939410376295432, 0.9939607204327037, 0.9939804398791715, 0.9940233674548274, 0.9940511953239142, 0.9940898252898964, 0.9941435781870227, 0.994161704359542, 0.9941857874824807, 0.9942042095117998, 0.9942166217051803, 0.9942430331938269, 0.9942614718863275, 0.9942691367171439, 0.9942927036731642, 0.9943432292429176, 0.9943599290938312, 0.9943656899633571, 0.9943796930155874, 0.9943985511717611, 0.9944181403061507, 0.994437760442147, 0.9944390850244568, 0.9944491557127286, 0.9944751703469417, 0.994474727520598, 0.994510865264093, 0.9945522482899586, 0.9945678788240162, 0.9945888384445498, 0.9946087868456381, 0.9946320956155182, 0.9946445414222592, 0.9946655846769065, 0.9946739665829832, 0.9946828282693378, 0.994691178799083, 0.9946921984632496, 0.9947170488945953, 0.9947330579970662, 0.9947423907535557, 0.9947586918197114, 0.9947410801373061, 0.9947534820832351, 0.9947688634315741, 0.994788481275119, 0.9948043367634363, 0.9948066528269917, 0.994822093060727, 0.9948248421725183, 0.994847334911695, 0.9948558263972834, 0.9948658592435182, 0.9948740069094179, 0.9948735149312681, 0.9948583595042071, 0.9948637613640369, 0.9948734447960479, 0.9949047817778682, 0.9949040752126812, 0.9949195153228805, 0.9949137590376598, 0.9949286051170378, 0.9949372518341978, 0.9949505272749325, 0.994935929139452, 0.9949498986435533, 0.9949709475407402, 0.9949699375904054, 0.9949816736276151, 0.9949993547135775, 0.994986186539491, 0.9949935126690672, 0.9950259629807564, 0.9950290119426234, 0.9950330962810727, 0.9950486586022811, 0.9950469068294784, 0.9950520688806598, 0.9950508691755402, 0.9950574912197293, 0.9950619518178792, 0.9950625407440269, 0.9950680053370974, 0.9950551489626058, 0.9950600251822508, 0.9950620995261958, 0.9950488165369682, 0.995057564466002, 0.9950552417370938, 0.9950673886037354, 0.9950951261740062, 0.9950864031742164, 0.9950750338996022, 0.9950559862678247, 0.9950711542489135, 0.9950849248253665, 0.9950842028824187, 0.9950832601502118, 0.9950824260105978, 0.995086747013978, 0.9950990482726334, 0.9951088406796392, 0.9951009279788314, 0.995117904300929, 0.9951327805427401, 0.9951396514533265, 0.9951426562028348, 0.9951398742986995, 0.9951566501004618, 0.9951663334637397, 0.9951652028148092, 0.9951438194679848, 0.9951569941239982, 0.9951475050977892, 0.9951445732211961, 0.9951534237944883, 0.9951591659747528, 0.9951512950150252, 0.9951356647101541, 0.9951286436571741, 0.9951348835237108, 0.995148256335486, 0.9951610905102495, 0.9951635646005877, 0.9951600644955395, 0.9951685891812393, 0.9951733219245315, 0.9951771047404746, 0.9951793129134003, 0.9951738964112248, 0.9951819599406492, 0.9951766903032487, 0.9951804287156336, 0.9951714299920953, 0.9951857943848333, 0.9951831084538032, 0.9952031692607329, 0.9952075956604375, 0.9952162565098588, 0.9952215427191737, 0.9952285354013148, 0.995238852690646, 0.9952459870930862, 0.9952414549791228, 0.9952473630658547, 0.9952478039238698, 0.9952388108625052, 0.9952465810866284, 0.9952353843782463, 0.9952421472652703, 0.9952509541979184, 0.9952735734680268, 0.9952843398723366, 0.9952717862892331, 0.9952817386769275, 0.9952888679766574, 0.9952931765196339, 0.9952988497856466, 0.9952866889995737, 0.9952939599964812, 0.9952867191200425, 0.9952844328024547, 0.995291452053724, 0.9953009629924722, 0.9953072733684769, 0.9953134815527903, 0.9953147728973598, 0.9952982687539847, 0.9953010112783255, 0.9952964670393601, 0.9953080196072507, 0.9953047641676407, 0.9953139602448164, 0.9953284571195157, 0.9953257053837028, 0.9953145066182815, 0.9953113166216094, 0.9953148412438478, 0.9953081569800242, 0.9953058376943621, 0.9952926866094494, 0.9952899096841353, 0.9952994446356143, 0.9953036291424522, 0.9953104901494703, 0.9953041030088234, 0.9953074555799974, 0.9953211238377738, 0.9953240182516252, 0.9953372977864872, 0.9953428541339069, 0.9953461616424059, 0.9953433101517777, 0.9953595642597053, 0.9953676433984634, 0.9953761781375269, 0.9953756290992488, 0.9953753419554024, 0.9953800952305231, 0.9953705579868742, 0.9953579152766924, 0.9953665430039577, 0.9953765117493291, 0.9953755567868663, 0.9953747252286598, 0.9953735203726686, 0.9953757608090812, 0.9953637704778711, 0.9953720650196823, 0.9953686142191013, 0.9953774998832742, 0.9953664475424285, 0.995357090482143], 'recall': [], 'f1': []}\n"
     ]
    }
   ],
   "source": [
    "import pickle\n",
    "with open('history_XGB.pkl', 'wb') as file:\n",
    "    # Use pickle to dump the dictionary into the file\n",
    "    pickle.dump(history, file)\n",
    "\n",
    "with open('history_XGB.pkl', 'rb') as file:\n",
    "    # Load the dictionary back from the pickle file\n",
    "    loaded_history = pickle.load(file)\n",
    "\n",
    "# Verify the content\n",
    "print(loaded_history)"
   ]
  },
  {
   "cell_type": "code",
   "execution_count": 15,
   "metadata": {},
   "outputs": [],
   "source": [
    "# import matplotlib.pyplot as plt\n",
    "\n",
    "# # Plotting epoch losses and accuracies\n",
    "# plt.figure(figsize=(14, 5))\n",
    "\n",
    "# plt.subplot(1, 2, 1)\n",
    "# plt.plot(history['batch_loss'], label='Loss')\n",
    "# plt.title('Epoch Loss')\n",
    "# plt.xlabel('Epoch')\n",
    "# plt.ylabel('Loss')\n",
    "# plt.legend()\n",
    "\n",
    "# plt.subplot(1, 2, 2)\n",
    "# plt.plot(history['batch_accuracy'], label='Accuracy')\n",
    "# plt.title('Epoch Accuracy')\n",
    "# plt.xlabel('Epoch')\n",
    "# plt.ylabel('Accuracy')\n",
    "# plt.legend()\n",
    "\n",
    "# plt.show()\n",
    "\n",
    "# # You can add more plots for batch-level data, rewards, thresholds, etc.\n"
   ]
  },
  {
   "cell_type": "markdown",
   "metadata": {},
   "source": [
    "# Visual"
   ]
  },
  {
   "cell_type": "code",
   "execution_count": 16,
   "metadata": {},
   "outputs": [
    {
     "data": {
      "text/plain": [
       "<matplotlib.legend.Legend at 0x7871bd00>"
      ]
     },
     "execution_count": 16,
     "metadata": {},
     "output_type": "execute_result"
    },
    {
     "data": {
      "image/png": "[encoded data removed]",
      "text/plain": [
       "<Figure size 1800x500 with 3 Axes>"
      ]
     },
     "metadata": {},
     "output_type": "display_data"
    }
   ],
   "source": [
    "plt.figure(figsize=(18, 5))\n",
    "\n",
    "plt.subplot(1, 3, 1)\n",
    "plt.plot(history['ROC_AUC'], label='ROC')\n",
    "plt.title('ROC AUC')\n",
    "plt.xlabel('Epoch')\n",
    "plt.ylabel('ROC')\n",
    "plt.legend()\n",
    "\n",
    "plt.subplot(1, 3, 2)\n",
    "plt.plot(history['accuracy'], label='Accuracy')\n",
    "plt.title('Epoch Accuracy')\n",
    "plt.xlabel('Epoch')\n",
    "plt.ylabel('Accuracy')\n",
    "plt.legend()\n",
    "\n",
    "plt.subplot(1, 3, 3)\n",
    "plt.plot(history['PR_AUC'], label='PR')\n",
    "plt.title('PR AUC')\n",
    "plt.xlabel('Epoch')\n",
    "plt.ylabel('PR@Epoch')\n",
    "plt.legend()    "
   ]
  },
  {
   "cell_type": "code",
   "execution_count": 17,
   "metadata": {},
   "outputs": [],
   "source": [
    "# plt.figure(figsize=(14, 5))\n",
    "\n",
    "# plt.subplot(1, 2, 1)\n",
    "# plt.plot(history['recall'], label='Recall')\n",
    "# plt.title('Recall')\n",
    "# plt.xlabel('Epoch')\n",
    "# plt.ylabel('Recall')\n",
    "# plt.legend()\n",
    "\n",
    "# plt.subplot(1, 2, 2)\n",
    "# plt.plot(history['f1'], label='F1')\n",
    "# plt.title('F1@Epoch')\n",
    "# plt.xlabel('Epoch')\n",
    "# plt.ylabel('F1')\n",
    "# plt.legend()\n",
    "\n",
    "# # plt.subplot(1, 3, 3)\n",
    "# # plt.plot(history['PR_AUC'], label='Accuracy')\n",
    "# # plt.title('PR AUC')\n",
    "# # plt.xlabel('Epoch')\n",
    "# # plt.ylabel('PR@Epoch')\n",
    "# # plt.legend()"
   ]
  },
  {
   "cell_type": "code",
   "execution_count": null,
   "metadata": {},
   "outputs": [],
   "source": []
  }
 ],
 "metadata": {
  "kernelspec": {
   "display_name": "tf_c_gpu",
   "language": "python",
   "name": "python3"
  },
  "language_info": {
   "codemirror_mode": {
    "name": "ipython",
    "version": 3
   },
   "file_extension": ".py",
   "mimetype": "text/x-python",
   "name": "python",
   "nbconvert_exporter": "python",
   "pygments_lexer": "ipython3",
   "version": "3.9.19"
  }
 },
 "nbformat": 4,
 "nbformat_minor": 2
}
