{
 "cells": [
  {
   "cell_type": "code",
   "execution_count": 1,
   "metadata": {},
   "outputs": [],
   "source": [
    "import numpy as np\n",
    "from tensorflow.keras.datasets import mnist\n",
    "from tensorflow.keras.models import Sequential\n",
    "from tensorflow.keras.layers import Conv2D, MaxPooling2D, Flatten, Dense\n",
    "from sklearn.model_selection import train_test_split\n",
    "import matplotlib.pyplot as plt\n",
    "import numpy as np\n",
    "from tensorflow.keras.optimizers import Adam\n",
    "# import tensorflow_probability as tfp\n",
    "import tensorflow as tf\n",
    "from uitils import *\n",
    "import pandas as pd\n",
    "from sklearn.metrics import accuracy_score\n",
    "from tensorflow.keras.models import Sequential\n",
    "from tensorflow.keras.layers import Conv2D, MaxPooling2D, Flatten, Dense, Activation, BatchNormalization\n",
    "from sklearn.metrics import roc_auc_score, precision_score, recall_score\n",
    "from sklearn.metrics import precision_recall_curve, auc\n",
    "from sklearn.metrics import roc_auc_score, accuracy_score, precision_recall_curve, auc, recall_score, f1_score\n"
   ]
  },
  {
   "cell_type": "code",
   "execution_count": 2,
   "metadata": {},
   "outputs": [
    {
     "name": "stdout",
     "output_type": "stream",
     "text": [
      "Num GPUs Available:  1\n",
      "GPU support: gpu\n"
     ]
    }
   ],
   "source": [
    "import tensorflow as tf\n",
    "print(\"Num GPUs Available: \", len(tf.config.list_physical_devices('GPU')))\n",
    "\n",
    "import lightgbm as lgb\n",
    "print('GPU support:', lgb.LGBMClassifier(device='gpu').get_params()['device'])\n",
    "\n"
   ]
  },
  {
   "cell_type": "markdown",
   "metadata": {},
   "source": [
    "# Data Loading"
   ]
  },
  {
   "cell_type": "code",
   "execution_count": 3,
   "metadata": {},
   "outputs": [
    {
     "name": "stdout",
     "output_type": "stream",
     "text": [
      "Training labels distribution: [90004   438]\n"
     ]
    }
   ],
   "source": [
    "creditcard_path =get_full_path('../datasets/creditcard.csv')\n",
    "# fraudulent=1 \n",
    "# unlabeled=0\n",
    "creditcard_df = pd.read_csv(creditcard_path)\n",
    "x_train = creditcard_df.drop('Class', axis=1) \n",
    "y_train = creditcard_df['Class']\n",
    "\n",
    "# Separate the positive and negative instances\n",
    "positives = creditcard_df[creditcard_df['Class'] == 1]\n",
    "negatives = creditcard_df[creditcard_df['Class'] == 0]\n",
    "\n",
    "# Randomly sample 10,000 negative examples\n",
    "neg_sample = negatives.sample(n=100000, random_state=42)\n",
    "\n",
    "# Concatenate the positive examples with the sampled negative examples\n",
    "sampled_df = pd.concat([positives, neg_sample])\n",
    "\n",
    "# Shuffle the dataset to mix up the rows\n",
    "sampled_df = sampled_df.sample(frac=1, random_state=42)\n",
    "\n",
    "# Split the features and labels\n",
    "x_train_sampled = sampled_df.drop('Class', axis=1)\n",
    "y_train_sampled = sampled_df['Class']\n",
    "\n",
    "# Split into training and test datasets\n",
    "x_train, x_test, y_train, y_test = train_test_split(x_train_sampled, y_train_sampled, test_size=0.1, random_state=42)\n",
    "\n",
    "# Print the training labels distribution to verify\n",
    "print(\"Training labels distribution:\", np.bincount(y_train))\n",
    "\n",
    "\n",
    "\n",
    "\n",
    "# x_train, x_test, y_train, y_test = train_test_split(x_train, y_train, test_size=0.1, random_state=42)\n",
    "# x_train=x_train[:1000]\n",
    "# print(\"Training labels distribution:\", np.bincount(y_train))"
   ]
  },
  {
   "cell_type": "markdown",
   "metadata": {},
   "source": [
    "# Pre-training"
   ]
  },
  {
   "cell_type": "code",
   "execution_count": 4,
   "metadata": {},
   "outputs": [
    {
     "name": "stdout",
     "output_type": "stream",
     "text": [
      "[LightGBM] [Info] Number of positive: 438, number of negative: 90004\n",
      "[LightGBM] [Info] This is the GPU trainer!!\n",
      "[LightGBM] [Info] Total Bins 7650\n",
      "[LightGBM] [Info] Number of data points in the train set: 90442, number of used features: 30\n",
      "[LightGBM] [Info] Using GPU Device: Quadro RTX 4000, Vendor: NVIDIA Corporation\n",
      "[LightGBM] [Info] Compiling OpenCL Kernel with 256 bins...\n",
      "[LightGBM] [Info] GPU programs have been built\n",
      "[LightGBM] [Info] Size of histogram bin entry: 8\n",
      "[LightGBM] [Info] 30 dense feature groups (2.76 MB) transferred to GPU in 0.010493 secs. 0 sparse feature groups\n",
      "[LightGBM] [Info] [binary:BoostFromScore]: pavg=0.004843 -> initscore=-5.325390\n",
      "[LightGBM] [Info] Start training from score -5.325390\n",
      "[LightGBM] [Info] Size of histogram bin entry: 8\n",
      "[LightGBM] [Info] 30 dense feature groups (2.21 MB) transferred to GPU in 0.008244 secs. 0 sparse feature groups\n",
      "[LightGBM] [Info] Size of histogram bin entry: 8\n",
      "[LightGBM] [Info] 30 dense feature groups (2.21 MB) transferred to GPU in 0.015452 secs. 0 sparse feature groups\n",
      "[LightGBM] [Info] Size of histogram bin entry: 8\n",
      "[LightGBM] [Info] 30 dense feature groups (2.21 MB) transferred to GPU in 0.010313 secs. 0 sparse feature groups\n",
      "Accuracy: 0.9946268656716418\n"
     ]
    }
   ],
   "source": [
    "import lightgbm as lgb\n",
    "\n",
    "train_data = lgb.Dataset(x_train, label=y_train)\n",
    "test_data = lgb.Dataset(x_test, label=y_test)\n",
    "params = {\n",
    "    'boosting_type': 'gbdt',  # Gradient boosting decision tree\n",
    "    'objective': 'binary',    # Binary classification\n",
    "    'metric': 'binary_logloss',  # Evaluation metric\n",
    "    'num_leaves': 31,         # Number of leaves in full tree\n",
    "    'learning_rate': 0.01,    # Learning rate\n",
    "    'feature_fraction': 0.9,  # Fraction of features to be used at each iteration\n",
    "    'bagging_fraction': 0.8,  # Fraction of data to be used for each iteration\n",
    "    'bagging_freq': 5, \n",
    "    'device': 'gpu',       # Frequency for bagging\n",
    "    'verbose': 1              # Verbose output\n",
    "}\n",
    "\n",
    "num_initial_round = 15\n",
    "model_lgb = lgb.train(params, train_data, num_boost_round=num_initial_round, valid_sets=[test_data])\n",
    "model_lgb.save_model('lgb_model.we7ights.h5')\n",
    "\n",
    "\n",
    "y_pred_prob = model_lgb.predict(x_test)\n",
    "y_pred = np.where(y_pred_prob > 0.5, 1, 0)\n",
    "accuracy = accuracy_score(y_test, y_pred)\n",
    "print(\"Accuracy:\", accuracy)"
   ]
  },
  {
   "cell_type": "markdown",
   "metadata": {},
   "source": [
    "### Probablistic outcome of classifer to pre-train policy network\n",
    " "
   ]
  },
  {
   "cell_type": "code",
   "execution_count": 5,
   "metadata": {},
   "outputs": [
    {
     "name": "stdout",
     "output_type": "stream",
     "text": [
      "Classifer predicted labels distribution: [ 1776 88666]\n"
     ]
    }
   ],
   "source": [
    "# probabilities = model_lgb.predict(x_train)\n",
    "# threshold = min(probabilities[y_train == 1])\n",
    "\n",
    "# # Convert probabilities to binary labels based on the threshold\n",
    "# predicted_labels = (probabilities >= threshold).astype(int)\n",
    "# clf_predicted_labels = predicted_labels.flatten().astype(int)\n",
    "\n",
    "\n",
    "y_pred = model_lgb.predict(x_train, num_iteration=model_lgb.best_iteration)\n",
    "threshold = min(y_pred[y_train == 1])\n",
    "lgb_predicted_labels = np.array([1 if pred >= threshold else 0 for pred in y_pred])\n",
    "print(\"Classifer predicted labels distribution:\", np.bincount(lgb_predicted_labels))"
   ]
  },
  {
   "cell_type": "code",
   "execution_count": 6,
   "metadata": {},
   "outputs": [
    {
     "name": "stdout",
     "output_type": "stream",
     "text": [
      "Epoch 1/15\n",
      "566/566 [==============================] - 23s 36ms/step - loss: 7.2488 - accuracy: 0.9705 - val_loss: 0.1613 - val_accuracy: 0.9805\n",
      "Epoch 2/15\n",
      "566/566 [==============================] - 20s 36ms/step - loss: 0.5503 - accuracy: 0.9757 - val_loss: 0.3071 - val_accuracy: 0.9684\n",
      "Epoch 3/15\n",
      "566/566 [==============================] - 19s 33ms/step - loss: 1.0051 - accuracy: 0.9710 - val_loss: 0.1372 - val_accuracy: 0.9776\n",
      "Epoch 4/15\n",
      "566/566 [==============================] - 17s 31ms/step - loss: 0.1634 - accuracy: 0.9791 - val_loss: 0.1451 - val_accuracy: 0.9807\n",
      "Epoch 5/15\n",
      "566/566 [==============================] - 22s 39ms/step - loss: 1.4232 - accuracy: 0.9700 - val_loss: 2.3028 - val_accuracy: 0.9809\n",
      "Epoch 6/15\n",
      "566/566 [==============================] - 83s 140ms/step - loss: 0.4184 - accuracy: 0.9765 - val_loss: 0.4099 - val_accuracy: 0.9808\n",
      "Epoch 7/15\n",
      "566/566 [==============================] - 84s 148ms/step - loss: 0.6185 - accuracy: 0.9744 - val_loss: 0.2187 - val_accuracy: 0.9807\n",
      "Epoch 8/15\n",
      "566/566 [==============================] - 78s 137ms/step - loss: 0.6220 - accuracy: 0.9758 - val_loss: 0.1209 - val_accuracy: 0.9798\n",
      "Epoch 9/15\n",
      "566/566 [==============================] - 68s 120ms/step - loss: 1.0354 - accuracy: 0.9716 - val_loss: 1.9407 - val_accuracy: 0.9808\n",
      "Epoch 10/15\n",
      "566/566 [==============================] - 73s 129ms/step - loss: 0.2197 - accuracy: 0.9796 - val_loss: 0.1321 - val_accuracy: 0.9804\n",
      "Epoch 11/15\n",
      "566/566 [==============================] - 69s 121ms/step - loss: 0.4624 - accuracy: 0.9762 - val_loss: 2.8218 - val_accuracy: 0.9809\n",
      "Epoch 12/15\n",
      "566/566 [==============================] - 73s 129ms/step - loss: 1.0509 - accuracy: 0.9725 - val_loss: 0.7067 - val_accuracy: 0.9808\n",
      "Epoch 13/15\n",
      "566/566 [==============================] - 74s 130ms/step - loss: 1.0960 - accuracy: 0.9750 - val_loss: 0.1271 - val_accuracy: 0.9804\n",
      "Epoch 14/15\n",
      "566/566 [==============================] - 73s 130ms/step - loss: 0.8580 - accuracy: 0.9732 - val_loss: 0.1279 - val_accuracy: 0.9801\n",
      "Epoch 15/15\n",
      "566/566 [==============================] - 73s 130ms/step - loss: 0.5036 - accuracy: 0.9765 - val_loss: 2.0039 - val_accuracy: 0.9809\n"
     ]
    }
   ],
   "source": [
    "# Policy-Network Model\n",
    "\n",
    "class PolicyGradientNetwork:\n",
    "    def __init__(self):\n",
    "        self.model = self._create_model()\n",
    "    \n",
    "    def _create_model(self):\n",
    "        model = Sequential([\n",
    "            Dense(512, input_shape=(input_dimension,)),  # Adjust `input_dimension` to match your feature count\n",
    "            Activation('relu'),\n",
    "            Dense(256),\n",
    "            Activation('relu'),\n",
    "            Dense(128),\n",
    "            Activation('relu'),\n",
    "            Dense(64),\n",
    "            Activation('relu'),\n",
    "            Dense(32),\n",
    "            Activation('relu'),\n",
    "            Dense(16),\n",
    "            Activation('relu'),\n",
    "            Dense(1),  # Output layer for binary classification\n",
    "            Activation('sigmoid')\n",
    "        ])\n",
    "        return model\n",
    "    \n",
    "    def get_model(self):\n",
    "        return self.model\n",
    "    \n",
    "input_dimension = x_train.shape[1]\n",
    "policy_network = PolicyGradientNetwork()\n",
    "pn_model = policy_network.get_model()\n",
    "\n",
    "pn_model.compile(optimizer=Adam(learning_rate=0.00001), loss='binary_crossentropy', metrics=['accuracy'])\n",
    "\n",
    "# Fit the model with one-hot encoded labels\n",
    "history_2 = pn_model.fit(x_train.to_numpy(), lgb_predicted_labels, epochs=15, batch_size=128, validation_split=0.2)\n",
    "pn_model.save_weights('pn_mlp_model_.weights.h5')\n",
    "# pn_model.load_weights('pn_mlp_model_.weights.h5')"
   ]
  },
  {
   "cell_type": "markdown",
   "metadata": {},
   "source": [
    "\n",
    "\n"
   ]
  },
  {
   "cell_type": "code",
   "execution_count": 7,
   "metadata": {},
   "outputs": [
    {
     "name": "stdout",
     "output_type": "stream",
     "text": [
      "2827/2827 [==============================] - 74s 26ms/step\n",
      "Classifer predicted labels distribution: [  112 90330]\n"
     ]
    }
   ],
   "source": [
    "probabilities = pn_model.predict(x_train.to_numpy())\n",
    "threshold = min(probabilities[y_train == 1])\n",
    "\n",
    "# Convert probabilities to binary labels based on the threshold\n",
    "predicted_labels = (probabilities >= threshold).astype(int)\n",
    "np_predicted_labels = predicted_labels.flatten().astype(int)\n",
    "\n",
    "print(\"Classifer predicted labels distribution:\", np.bincount(np_predicted_labels))"
   ]
  },
  {
   "cell_type": "markdown",
   "metadata": {},
   "source": [
    "## Interactive learning"
   ]
  },
  {
   "cell_type": "code",
   "execution_count": 8,
   "metadata": {},
   "outputs": [],
   "source": [
    "import tensorflow as tf\n",
    "import numpy as np\n",
    "\n",
    "class Agent:\n",
    "    def __init__(self, model, target_model, alpha=0.00001, gamma=0.99):\n",
    "        self.gamma = gamma  # Discount factor\n",
    "        self.lr = alpha  # Learning rate\n",
    "        self.model = model  # Policy model\n",
    "        self.target_model = target_model # target policy model\n",
    "        self.state_memory = []\n",
    "        self.action_memory = []\n",
    "        self.reward_memory = []\n",
    "\n",
    "    \n",
    "    def choose_action(self, states, s, threshold=0.5):\n",
    "        # Convert states to float32 tensor within the function\n",
    "        states = tf.convert_to_tensor(states, dtype=tf.float32)\n",
    "        probabilities = self.target_model(states) \n",
    "        \n",
    "        inferred_labels = tf.cast(probabilities > threshold, tf.int32)       \n",
    "        s = tf.reshape(s, tf.shape(inferred_labels))  # Ensuring s is the same shape as inferred_labels\n",
    "        actions = tf.where(s == 1, 1, inferred_labels)\n",
    "        actions = tf.squeeze(actions)  # This should correctly squeeze actions to shape (128,)\n",
    "        return actions.numpy(), probabilities.numpy()\n",
    "\n",
    "\n",
    "        # actions = tf.cast(tf.random.uniform(tf.shape(probabilities)) < probabilities, tf.int32)\n",
    "        # return actions.numpy(), probabilities.numpy()\n",
    "\n",
    "\n",
    "    def store_transition(self, states, actions, rewards):\n",
    "        self.state_memory.extend(states)\n",
    "        self.action_memory.extend(actions)\n",
    "        self.reward_memory.extend(rewards)\n",
    "\n",
    "    def learn(self):\n",
    "        actions = np.array(self.action_memory)\n",
    "        rewards = np.array(self.reward_memory)\n",
    "        states = np.array(self.state_memory)\n",
    "\n",
    "        # Calculate discounted rewards\n",
    "        G = np.zeros_like(rewards)\n",
    "        for t in range(len(rewards)):\n",
    "            G_sum = 0\n",
    "            discount = 1\n",
    "            for k in range(t, len(rewards)):\n",
    "                G_sum += rewards[k] * discount\n",
    "                discount *= self.gamma\n",
    "            G[t] = G_sum\n",
    "\n",
    "        # Updating policy\n",
    "        with tf.GradientTape() as tape:\n",
    "            loss = 0\n",
    "            for idx, (g, state) in enumerate(zip(G, states)):\n",
    "                state = tf.convert_to_tensor([state], dtype=tf.float32)\n",
    "                probs = self.model(state, training=True)\n",
    "                action_probs = tf.where(actions[idx] == 1, probs, 1 - probs)\n",
    "                log_prob = tf.math.log(action_probs)\n",
    "                loss += -g * tf.reduce_sum(log_prob)\n",
    "\n",
    "        gradients = tape.gradient(loss, self.model.trainable_variables)\n",
    "        self.model.optimizer.apply_gradients(zip(gradients, self.model.trainable_variables))\n",
    "\n",
    "        # Clear memory\n",
    "        self.state_memory = []\n",
    "        self.action_memory = []\n",
    "        self.reward_memory = []\n"
   ]
  },
  {
   "cell_type": "code",
   "execution_count": 9,
   "metadata": {},
   "outputs": [],
   "source": [
    "# Clone policy model for stable target policy\n",
    "target_policy_model = tf.keras.models.clone_model(pn_model)\n",
    "target_policy_model.compile(optimizer=Adam(learning_rate=0.00001), loss='binary_crossentropy', metrics=['accuracy'])\n"
   ]
  },
  {
   "cell_type": "code",
   "execution_count": 10,
   "metadata": {},
   "outputs": [],
   "source": [
    "history = {\n",
    "    'epoch_loss': [],\n",
    "    'epoch_accuracy': [],\n",
    "    'batch_loss': [],\n",
    "    'batch_accuracy': [],\n",
    "    'predictions': [],\n",
    "    'rewards': [],\n",
    "    'thresholds': [],\n",
    "    'ROC_AUC': [],\n",
    "    'accuracy':[],\n",
    "    'PR_AUC':[],\n",
    "    'recall':[],\n",
    "    'f1':[]\n",
    "}\n",
    "\n",
    "agent = Agent(pn_model,target_model=target_policy_model, alpha=0.00001, gamma=0.99)\n",
    "# Example parameters\n",
    "n_epochs = 300\n",
    "n_epochs = 10\n",
    "batch_size = 128 # You can adjust the batch size as needed\n",
    "\n",
    "def shuffle_data(x_train, y_train, s):\n",
    "    indices = np.arange(len(x_train))\n",
    "    np.random.shuffle(indices)\n",
    "    return x_train[indices], y_train[indices], s[indices]\n",
    "\n",
    "def create_mini_batches(x_train, y_train, s, batch_size):\n",
    "    for start_idx in range(0, len(x_train) - batch_size + 1, batch_size):\n",
    "        excerpt = slice(start_idx, start_idx + batch_size)\n",
    "        yield x_train[excerpt], y_train[excerpt], s[excerpt]\n",
    "\n",
    "def calculate_threshold(clf_probabilities, y_batch):\n",
    "    # Identify indices of positive examples\n",
    "    positive_indices = (y_batch == 1)\n",
    "    \n",
    "    # Calculate threshmin from positive examples\n",
    "    if np.any(positive_indices):\n",
    "        threshmin = np.min(clf_probabilities[positive_indices])\n",
    "    else:\n",
    "        threshmin = 0  # Default value if no positive examples are present\n",
    "\n",
    "    # Identify U0 - samples with predictions >= threshmin\n",
    "    U0_indices = (clf_probabilities >= threshmin)\n",
    "    \n",
    "    # Calculate the final threshold using Equation 5\n",
    "    if np.any(U0_indices):\n",
    "        threshold = np.mean(clf_probabilities[U0_indices])\n",
    "    else:\n",
    "        threshold = threshmin  # Use threshmin if no samples meet the U0 criteria\n",
    "\n",
    "    return threshold\n",
    "\n",
    "def calculate_rewards(clf_probabilities, y_batch, threshold):\n",
    "    # Reward calculation needs to consider whether predictions meet a certain threshold\n",
    "    # Positive examples above threshold or negative examples below threshold get positive rewards\n",
    "    rewards = []\n",
    "    for prob, actual in zip(clf_probabilities.flatten(), y_batch):\n",
    "        if actual == 1 or (actual == 0 and prob >= threshold):\n",
    "            reward = prob  # Reward is the probability itself if conditions are met\n",
    "        else:\n",
    "            reward = prob -1  # Otherwise, reward is the complement of the probability\n",
    "        rewards.append(reward)\n",
    "    return rewards"
   ]
  },
  {
   "cell_type": "code",
   "execution_count": 11,
   "metadata": {},
   "outputs": [],
   "source": [
    "# num_initial_round = 5\n",
    "# model_lgb = lgb.train(params, train_data, num_boost_round=num_initial_round, valid_sets=[test_data])\n",
    "# model_lgb.save_model('lgb_model.we7ights.h5')\n",
    "\n",
    "\n",
    "# y_pred = model_lgb.predict(x_train, num_iteration=model_lgb.best_iteration)\n",
    "# threshold = min(y_pred[y_train == 1])\n",
    "# lgb_predicted_labels = np.array([1 if pred >= threshold else 0 for pred in y_pred])\n",
    "# print(\"Classifer predicted labels distribution:\", np.bincount(lgb_predicted_labels))"
   ]
  },
  {
   "cell_type": "code",
   "execution_count": 12,
   "metadata": {},
   "outputs": [
    {
     "name": "stdout",
     "output_type": "stream",
     "text": [
      "Epoch 1/300\n"
     ]
    },
    {
     "name": "stderr",
     "output_type": "stream",
     "text": [
      "c:\\Users\\FH-Deg\\.conda\\envs\\tf_c_gpu\\lib\\site-packages\\lightgbm\\basic.py:1192: UserWarning: Converting data to scipy sparse matrix.\n",
      "  _log_warning('Converting data to scipy sparse matrix.')\n"
     ]
    },
    {
     "name": "stdout",
     "output_type": "stream",
     "text": [
      "[LightGBM] [Info] Number of positive: 438, number of negative: 90004\n",
      "[LightGBM] [Info] This is the GPU trainer!!\n",
      "[LightGBM] [Info] Total Bins 7650\n",
      "[LightGBM] [Info] Number of data points in the train set: 90442, number of used features: 30\n",
      "[LightGBM] [Info] Using GPU Device: Quadro RTX 4000, Vendor: NVIDIA Corporation\n",
      "[LightGBM] [Info] Compiling OpenCL Kernel with 256 bins...\n",
      "[LightGBM] [Info] GPU programs have been built\n",
      "[LightGBM] [Info] Size of histogram bin entry: 8\n",
      "[LightGBM] [Info] 30 dense feature groups (2.76 MB) transferred to GPU in 0.007103 secs. 0 sparse feature groups\n",
      "[LightGBM] [Info] Size of histogram bin entry: 8\n",
      "[LightGBM] [Info] 30 dense feature groups (2.21 MB) transferred to GPU in 0.006285 secs. 0 sparse feature groups\n"
     ]
    }
   ],
   "source": [
    "def train_model(x_train, y_train, s, epochs=300, batch_size=128, model_lgb=model_lgb):\n",
    "    x_train = x_train.astype('float32')\n",
    "    y_train = y_train.astype('float32')\n",
    "    s = s.astype('float32')\n",
    "\n",
    "    dataset = tf.data.Dataset.from_tensor_slices((x_train, y_train, s))\n",
    "    dataset = dataset.shuffle(buffer_size=len(x_train)).batch(len(y_train))\n",
    "    # dataset = dataset.shuffle(buffer_size=len(x_train)).batch(batch_size)\n",
    "\n",
    "    for epoch in range(epochs):\n",
    "        print(f\"Epoch {epoch+1}/{epochs}\")\n",
    "        # lgb_probabilities=None\n",
    "        threshold = 0.5\n",
    "        for x_batch, y_batch, s_batch in dataset:\n",
    "            # Get actions and probabilities for the entire batch\n",
    "            actions, probabilities = agent.choose_action(x_batch, s_batch, threshold=threshold)\n",
    "            train_data = lgb.Dataset(x_batch, label=actions)\n",
    "            valid_data = lgb.Dataset(x_batch, label=actions)\n",
    "            model_lgb = lgb.train(params, train_data, num_boost_round=1, init_model=model_lgb, keep_training_booster=True)\n",
    "    \n",
    "\n",
    "            # Fit the model on the current batch and update history\n",
    "            # batch_history = model.fit(x_batch, actions, epochs=1, batch_size=len(x_batch), validation_split=0.2)\n",
    "            # history['batch_loss'].append(batch_history.history['loss'][0])\n",
    "            # history['batch_accuracy'].append(batch_history.history['accuracy'][0])\n",
    "\n",
    "            lgb_probabilities = model_lgb.predict(x_batch, num_iteration=model_lgb.best_iteration)\n",
    "            threshold = calculate_threshold(lgb_probabilities, y_batch)\n",
    "            rewards = calculate_rewards(lgb_probabilities, y_batch, threshold)\n",
    "\n",
    "            # Store transitions and learn from them\n",
    "            agent.store_transition(x_batch.numpy(), actions, rewards)\n",
    "            agent.learn()\n",
    "            # break\n",
    "\n",
    "        y_pred_prob = model_lgb.predict(x_test)\n",
    "        y_pred = np.where(y_pred_prob > 0.5, 1, 0)\n",
    "\n",
    "        roc_auc = roc_auc_score(y_test, y_pred_prob)\n",
    "        print(\"AUC-ROC:\", roc_auc)\n",
    "        history['ROC_AUC'].append(roc_auc)\n",
    "\n",
    "        accuracy = accuracy_score(y_test, y_pred)\n",
    "        print(\"Accuracy:\", accuracy)\n",
    "        history['accuracy'].append(roc_auc)\n",
    "\n",
    "        precision, recall, _ = precision_recall_curve(y_true=y_test, probas_pred=y_pred_prob)\n",
    "        pr_auc = auc(recall, precision)\n",
    "        history['PR_AUC'].append(pr_auc)\n",
    "        print(\"Precision:\", pr_auc)\n",
    "\n",
    "        recall = recall_score(y_test, y_pred)\n",
    "        print(\"Recall:\", recall)\n",
    "        history['recall'].append(recall)\n",
    "\n",
    "        # Calculate F1 score\n",
    "        f1 = f1_score(y_test, y_pred)\n",
    "        print(\"F1 Score:\", f1)\n",
    "        history['f1'].append(f1)\n",
    "\n",
    "\n",
    "        if epoch % 3 == 0:\n",
    "            print(\"Updating target policy...\")\n",
    "            agent.target_model.set_weights(agent.model.get_weights())\n",
    "\n",
    "\n",
    "train_model(x_train=x_train, y_train=y_train, s=y_train, model_lgb=model_lgb)"
   ]
  },
  {
   "cell_type": "code",
   "execution_count": null,
   "metadata": {},
   "outputs": [
    {
     "name": "stdout",
     "output_type": "stream",
     "text": [
      "{'epoch_loss': [], 'epoch_accuracy': [], 'batch_loss': [], 'batch_accuracy': [], 'predictions': [], 'rewards': [], 'thresholds': [], 'ROC_AUC': [0.994030945711618, 0.9940077883005054, 0.9940429875653966, 0.9951230492196879, 0.9938799593911638, 0.9945820920960975, 0.9940633660871756, 0.993639122315593, 0.9932093207653432, 0.9925849969617476, 0.9925386821395225, 0.9924553154595172, 0.9925942599261928, 0.9924719887955183, 0.9923654647044002, 0.9928286129266523, 0.9927183836497562, 0.9924553154595172, 0.9924034428586249, 0.9919319579683725, 0.9918319179523661, 0.9936789530627066, 0.993812339750715, 0.9937178575133758, 0.9935918811969233, 0.9937336045529325, 0.9937373097387103, 0.9936243015724807, 0.9937336045529322, 0.9937021104738192, 0.9936381960191484, 0.9935214826671411, 0.9931843107613415, 0.9929193899782134, 0.9931176174173373, 0.9947849510174442, 0.9947608673098869, 0.9946858372978822, 0.9946367435863234, 0.9946293332147674, 0.9946219228432112, 0.9945774606138751, 0.9947692039778874, 0.9946376698827679, 0.9946339646969898, 0.9945700502423193, 0.9948497917685593, 0.9948349710254473, 0.9949387162272316, 0.9949238954841197, 0.9949146325196745, 0.995062839950795, 0.995046166614794, 0.9950461666147941, 0.9950035569783471, 0.9949961466067907, 0.9951517644094674, 0.9951313858876883, 0.9951147125516873, 0.9950665451365732, 0.9950554295792391, 0.9950017043854579, 0.9949757680850119, 0.9949665051205667, 0.995014672535681, 0.9950313458716821, 0.9951239755161325, 0.9951147125516874, 0.9951221229232434, 0.9951017444014643, 0.9951073021801313, 0.9950961866227972, 0.9950998918085752, 0.9950850710654631, 0.9951202703303543, 0.9951313858876885, 0.9951499118165784, 0.9950572821721281, 0.9950646925436841, 0.9950554295792391, 0.9950517243934611, 0.9950202303143479], 'accuracy': [], 'PR_AUC': [0.9459313181565566, 0.9390553606927615, 0.9309487352562219, 0.9286895765892895, 0.9290346051311733, 0.9327024929886477, 0.9334182789432746, 0.934994922847332, 0.9366893210723296, 0.9369170832992467, 0.9371988970281008, 0.9381723020668703, 0.940115663935991, 0.9410245243562333, 0.9415000880633848, 0.9422582749344637, 0.9425326760130587, 0.9427337256928953, 0.9423106231012568, 0.9430300041420604, 0.9430193042287502, 0.9442436340793663, 0.9448347891078432, 0.9447578123835912, 0.9446420393500597, 0.9438528148424329, 0.9434432239914525, 0.9429806426951262, 0.9442393981574989, 0.9442382108016802, 0.9433987565017697, 0.9433143182634368, 0.9431906867442718, 0.9431107860068557, 0.943850065944459, 0.9446556050990218, 0.9445740873172317, 0.9442199738004233, 0.9442006215773743, 0.9442701922702335, 0.9442348406768204, 0.9441861321400683, 0.9444200987818246, 0.9445823016156051, 0.9445473675474223, 0.9444431690757276, 0.9450095022286185, 0.9449590047226166, 0.9452293679530995, 0.9451152981817342, 0.9450222336179755, 0.944990785739753, 0.9449578586240591, 0.9451395389915709, 0.945055179595049, 0.9453081161420109, 0.9452957182686546, 0.9448854974937896, 0.9448557917426801, 0.9448258379819171, 0.9447836428494871, 0.9446875947456236, 0.9446459228144597, 0.9446542545455853, 0.9448692209463925, 0.9449960201824813, 0.945221901827561, 0.9451865135908976, 0.9453246794145221, 0.9453678156962259, 0.9453569400343823, 0.9453295353420924, 0.9454497310145872, 0.9453056795877355, 0.9455266910697642, 0.9453847542865109, 0.945410104950617, 0.9452969952176927, 0.9454305370617132, 0.9454261602689005, 0.9452852187841815, 0.9452168146197946]}\n"
     ]
    }
   ],
   "source": [
    "import pickle\n",
    "with open('history_XGB.pkl', 'wb') as file:\n",
    "    # Use pickle to dump the dictionary into the file\n",
    "    pickle.dump(history, file)\n",
    "\n",
    "with open('history_XGB.pkl', 'rb') as file:\n",
    "    # Load the dictionary back from the pickle file\n",
    "    loaded_history = pickle.load(file)\n",
    "\n",
    "# Verify the content\n",
    "print(loaded_history)"
   ]
  },
  {
   "cell_type": "code",
   "execution_count": null,
   "metadata": {},
   "outputs": [
    {
     "data": {
      "image/png": "[encoded data removed]",
      "text/plain": [
       "<Figure size 1400x500 with 2 Axes>"
      ]
     },
     "metadata": {},
     "output_type": "display_data"
    }
   ],
   "source": [
    "# import matplotlib.pyplot as plt\n",
    "\n",
    "# # Plotting epoch losses and accuracies\n",
    "# plt.figure(figsize=(14, 5))\n",
    "\n",
    "# plt.subplot(1, 2, 1)\n",
    "# plt.plot(history['batch_loss'], label='Loss')\n",
    "# plt.title('Epoch Loss')\n",
    "# plt.xlabel('Epoch')\n",
    "# plt.ylabel('Loss')\n",
    "# plt.legend()\n",
    "\n",
    "# plt.subplot(1, 2, 2)\n",
    "# plt.plot(history['batch_accuracy'], label='Accuracy')\n",
    "# plt.title('Epoch Accuracy')\n",
    "# plt.xlabel('Epoch')\n",
    "# plt.ylabel('Accuracy')\n",
    "# plt.legend()\n",
    "\n",
    "# plt.show()\n",
    "\n",
    "# # You can add more plots for batch-level data, rewards, thresholds, etc.\n"
   ]
  },
  {
   "cell_type": "markdown",
   "metadata": {},
   "source": [
    "# Visual"
   ]
  },
  {
   "cell_type": "code",
   "execution_count": null,
   "metadata": {},
   "outputs": [
    {
     "data": {
      "text/plain": [
       "<matplotlib.legend.Legend at 0x2e9cabc40>"
      ]
     },
     "execution_count": 20,
     "metadata": {},
     "output_type": "execute_result"
    },
    {
     "data": {
      "image/png": "[encoded data removed]",
      "text/plain": [
       "<Figure size 1400x500 with 3 Axes>"
      ]
     },
     "metadata": {},
     "output_type": "display_data"
    }
   ],
   "source": [
    "plt.figure(figsize=(14, 5))\n",
    "\n",
    "plt.subplot(1, 3, 1)\n",
    "plt.plot(history['ROC_AUC'], label='ROC')\n",
    "plt.title('ROC AUC')\n",
    "plt.xlabel('Epoch')\n",
    "plt.ylabel('ROC')\n",
    "plt.legend()\n",
    "\n",
    "plt.subplot(1, 3, 2)\n",
    "plt.plot(history['accuracy'], label='Accuracy')\n",
    "plt.title('Epoch Accuracy')\n",
    "plt.xlabel('Epoch')\n",
    "plt.ylabel('Accuracy')\n",
    "plt.legend()\n",
    "\n",
    "plt.subplot(1, 3, 3)\n",
    "plt.plot(history['PR_AUC'], label='Accuracy')\n",
    "plt.title('PR AUC')\n",
    "plt.xlabel('Epoch')\n",
    "plt.ylabel('PR@Epoch')\n",
    "plt.legend()"
   ]
  },
  {
   "cell_type": "code",
   "execution_count": null,
   "metadata": {},
   "outputs": [
    {
     "ename": "KeyError",
     "evalue": "'recall'",
     "output_type": "error",
     "traceback": [
      "\u001b[1;31m---------------------------------------------------------------------------\u001b[0m",
      "\u001b[1;31mKeyError\u001b[0m                                  Traceback (most recent call last)",
      "Cell \u001b[1;32mIn[23], line 4\u001b[0m\n\u001b[0;32m      1\u001b[0m plt\u001b[38;5;241m.\u001b[39mfigure(figsize\u001b[38;5;241m=\u001b[39m(\u001b[38;5;241m14\u001b[39m, \u001b[38;5;241m5\u001b[39m))\n\u001b[0;32m      3\u001b[0m plt\u001b[38;5;241m.\u001b[39msubplot(\u001b[38;5;241m1\u001b[39m, \u001b[38;5;241m2\u001b[39m, \u001b[38;5;241m1\u001b[39m)\n\u001b[1;32m----> 4\u001b[0m plt\u001b[38;5;241m.\u001b[39mplot(\u001b[43mhistory\u001b[49m\u001b[43m[\u001b[49m\u001b[38;5;124;43m'\u001b[39;49m\u001b[38;5;124;43mrecall\u001b[39;49m\u001b[38;5;124;43m'\u001b[39;49m\u001b[43m]\u001b[49m, label\u001b[38;5;241m=\u001b[39m\u001b[38;5;124m'\u001b[39m\u001b[38;5;124mRecall\u001b[39m\u001b[38;5;124m'\u001b[39m)\n\u001b[0;32m      5\u001b[0m plt\u001b[38;5;241m.\u001b[39mtitle(\u001b[38;5;124m'\u001b[39m\u001b[38;5;124mRecall\u001b[39m\u001b[38;5;124m'\u001b[39m)\n\u001b[0;32m      6\u001b[0m plt\u001b[38;5;241m.\u001b[39mxlabel(\u001b[38;5;124m'\u001b[39m\u001b[38;5;124mEpoch\u001b[39m\u001b[38;5;124m'\u001b[39m)\n",
      "\u001b[1;31mKeyError\u001b[0m: 'recall'"
     ]
    },
    {
     "data": {
      "image/png": "[encoded data removed]",
      "text/plain": [
       "<Figure size 1400x500 with 1 Axes>"
      ]
     },
     "metadata": {},
     "output_type": "display_data"
    }
   ],
   "source": [
    "plt.figure(figsize=(14, 5))\n",
    "\n",
    "plt.subplot(1, 2, 1)\n",
    "plt.plot(history['recall'], label='Recall')\n",
    "plt.title('Recall')\n",
    "plt.xlabel('Epoch')\n",
    "plt.ylabel('Recall')\n",
    "plt.legend()\n",
    "\n",
    "plt.subplot(1, 2, 2)\n",
    "plt.plot(history['f1'], label='F1')\n",
    "plt.title('F1@Epoch')\n",
    "plt.xlabel('Epoch')\n",
    "plt.ylabel('F1')\n",
    "plt.legend()\n",
    "\n",
    "# plt.subplot(1, 3, 3)\n",
    "# plt.plot(history['PR_AUC'], label='Accuracy')\n",
    "# plt.title('PR AUC')\n",
    "# plt.xlabel('Epoch')\n",
    "# plt.ylabel('PR@Epoch')\n",
    "# plt.legend()"
   ]
  },
  {
   "cell_type": "code",
   "execution_count": null,
   "metadata": {},
   "outputs": [
    {
     "ename": "NameError",
     "evalue": "name 'model_2' is not defined",
     "output_type": "error",
     "traceback": [
      "\u001b[1;31m---------------------------------------------------------------------------\u001b[0m",
      "\u001b[1;31mNameError\u001b[0m                                 Traceback (most recent call last)",
      "Cell \u001b[1;32mIn[23], line 25\u001b[0m\n\u001b[0;32m     22\u001b[0m     plt\u001b[38;5;241m.\u001b[39mshow()\n\u001b[0;32m     24\u001b[0m \u001b[38;5;66;03m# Predictions from the second classifier\u001b[39;00m\n\u001b[1;32m---> 25\u001b[0m predictions \u001b[38;5;241m=\u001b[39m \u001b[43mmodel_2\u001b[49m\u001b[38;5;241m.\u001b[39mpredict(X_test_reshaped)\n\u001b[0;32m     26\u001b[0m predicted_classes \u001b[38;5;241m=\u001b[39m (predictions \u001b[38;5;241m>\u001b[39m \u001b[38;5;241m0.5\u001b[39m)\u001b[38;5;241m.\u001b[39mastype(\u001b[38;5;28mint\u001b[39m)\u001b[38;5;241m.\u001b[39mflatten()  \u001b[38;5;66;03m# Assuming binary classification\u001b[39;00m\n\u001b[0;32m     28\u001b[0m \u001b[38;5;66;03m# Selecting a few images to display\u001b[39;00m\n",
      "\u001b[1;31mNameError\u001b[0m: name 'model_2' is not defined"
     ]
    }
   ],
   "source": [
    "import matplotlib.pyplot as plt\n",
    "import numpy as np\n",
    "\n",
    "def plot_images(images, labels, predictions=None):\n",
    "    \"\"\"Plot images with their labels. Show predictions if provided.\"\"\"\n",
    "    n = images.shape[0]\n",
    "    sqrt_val = int(np.ceil(np.sqrt(n)))\n",
    "    fig, axes = plt.subplots(sqrt_val, sqrt_val, figsize=(10, 10))\n",
    "    \n",
    "    for i, ax in enumerate(axes.flat):\n",
    "        if i >= n:\n",
    "            break\n",
    "        ax.imshow(images[i], cmap='binary')\n",
    "        \n",
    "        if predictions is not None:\n",
    "            ax.set_title(f\"True: {labels[i]}\\nPred: {predictions[i]}\")\n",
    "        else:\n",
    "            ax.set_title(f\"Label: {labels[i]}\")\n",
    "        \n",
    "        ax.set_xticks([])\n",
    "        ax.set_yticks([])\n",
    "    plt.show()\n",
    "\n",
    "# Predictions from the second classifier\n",
    "predictions = model_2.predict(X_test_reshaped)\n",
    "predicted_classes = (predictions > 0.5).astype(int).flatten()  # Assuming binary classification\n",
    "\n",
    "# Selecting a few images to display\n",
    "indices = np.random.choice(range(len(x_test)), 25, replace=False)  # Randomly select 25 images\n",
    "selected_images = x_test[indices]\n",
    "selected_labels = y_test[indices]\n",
    "selected_predictions = predicted_classes[indices]\n",
    "\n",
    "# Plotting\n",
    "plot_images(selected_images, selected_labels, selected_predictions)\n"
   ]
  },
  {
   "cell_type": "code",
   "execution_count": null,
   "metadata": {},
   "outputs": [],
   "source": [
    "def plot_history(history):\n",
    "    \"\"\"Plot training and validation loss and accuracy.\"\"\"\n",
    "    fig, axs = plt.subplots(2, 1, figsize=(10, 10))\n",
    "    axs[0].plot(history.history['loss'], label='train')\n",
    "    axs[0].plot(history.history['val_loss'], label='validation')\n",
    "    axs[0].set_title('Loss')\n",
    "    axs[0].set_xlabel('Epochs')\n",
    "    axs[0].set_ylabel('Loss')\n",
    "    axs[0].legend()\n",
    "\n",
    "    axs[1].plot(history.history['accuracy'], label='train')\n",
    "    axs[1].plot(history.history['val_accuracy'], label='validation')\n",
    "    axs[1].set_title('Accuracy')\n",
    "    axs[1].set_xlabel('Epochs')\n",
    "    axs[1].set_ylabel('Accuracy')\n",
    "    axs[1].legend()\n",
    "\n",
    "    plt.show()\n",
    "\n",
    "# Assuming you have stored the history of training your models as `history_1` and `history_2`\n",
    "plot_history(history_1)  # For the first classifier\n",
    "plot_history(history_2)  # For the second classifier\n"
   ]
  },
  {
   "cell_type": "code",
   "execution_count": null,
   "metadata": {},
   "outputs": [],
   "source": []
  },
  {
   "cell_type": "code",
   "execution_count": null,
   "metadata": {},
   "outputs": [],
   "source": []
  },
  {
   "cell_type": "code",
   "execution_count": null,
   "metadata": {},
   "outputs": [],
   "source": []
  }
 ],
 "metadata": {
  "kernelspec": {
   "display_name": "Python 3",
   "language": "python",
   "name": "python3"
  },
  "language_info": {
   "codemirror_mode": {
    "name": "ipython",
    "version": 3
   },
   "file_extension": ".py",
   "mimetype": "text/x-python",
   "name": "python",
   "nbconvert_exporter": "python",
   "pygments_lexer": "ipython3",
   "version": "3.9.19"
  }
 },
 "nbformat": 4,
 "nbformat_minor": 2
}
